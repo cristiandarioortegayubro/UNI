{
  "nbformat": 4,
  "nbformat_minor": 0,
  "metadata": {
    "colab": {
      "provenance": [],
      "collapsed_sections": [],
      "toc_visible": true,
      "include_colab_link": true
    },
    "kernelspec": {
      "name": "python3",
      "display_name": "Python 3"
    },
    "language_info": {
      "name": "python"
    }
  },
  "cells": [
    {
      "cell_type": "markdown",
      "metadata": {
        "id": "view-in-github",
        "colab_type": "text"
      },
      "source": [
        "<a href=\"https://colab.research.google.com/github/cristiandarioortegayubro/UNI/blob/main/fe_01.ipynb\" target=\"_parent\"><img src=\"https://colab.research.google.com/assets/colab-badge.svg\" alt=\"Open In Colab\"/></a>"
      ]
    },
    {
      "cell_type": "markdown",
      "source": [
        "![](https://github.com/cristiandarioortegayubro/UNI/blob/main/UNI%2039%20Aniversario.jpg?raw=true)"
      ],
      "metadata": {
        "id": "UaZgtwrR6h71"
      }
    },
    {
      "cell_type": "markdown",
      "source": [
        "# **Fundamentos de Estadística**\n"
      ],
      "metadata": {
        "id": "9q9HyjlWyQz5"
      }
    },
    {
      "cell_type": "markdown",
      "source": [
        "## **Analisis de Normalidad**"
      ],
      "metadata": {
        "id": "spPN42OJWIxJ"
      }
    },
    {
      "cell_type": "markdown",
      "source": [
        "El análisis de normalidad tiene como objetivo comprobar si los datos disponibles podrían proceder de una población con una distribución normal.\n",
        "\n",
        "Existen tres estrategias principales para abordar este análisis:\n",
        "\n",
        "+ Representaciones gráficas\n",
        "\n",
        "+ Métodos analíticos\n",
        "\n",
        "+ Tests"
      ],
      "metadata": {
        "id": "faoJo2xl_a3k"
      }
    },
    {
      "cell_type": "markdown",
      "metadata": {
        "id": "tHeqxr8SoUXq"
      },
      "source": [
        "## **Librerías**"
      ]
    },
    {
      "cell_type": "markdown",
      "source": [
        "### **Para análisis estadístico**"
      ],
      "metadata": {
        "id": "qMaKoVQCff2E"
      }
    },
    {
      "cell_type": "code",
      "metadata": {
        "id": "d9QwayH7oBse"
      },
      "source": [
        "# Operaciones matemáticas y estadísticas\n",
        "import pandas as pd\n",
        "import numpy as np\n",
        "import scipy.stats as stats"
      ],
      "execution_count": 1,
      "outputs": []
    },
    {
      "cell_type": "markdown",
      "source": [
        "### **Para gráficos**"
      ],
      "metadata": {
        "id": "_q6y9QTYfqFO"
      }
    },
    {
      "cell_type": "code",
      "source": [
        "# Visualización\n",
        "import plotly.express as px\n",
        "import plotly.graph_objs as go"
      ],
      "metadata": {
        "id": "l0fPtafjfun1"
      },
      "execution_count": 38,
      "outputs": []
    },
    {
      "cell_type": "markdown",
      "metadata": {
        "id": "vSLw5ECmotM4"
      },
      "source": [
        "## **Conjunto de Datos**"
      ]
    },
    {
      "cell_type": "markdown",
      "source": [
        "Los datos utilizados en este ejemplo se han obtenido del libro Statistical Rethinking by Richard McElreath. El set de datos contiene información recogida por Nancy Howell a finales de la década de 1960 sobre el pueblo !Kung San, que viven en el desierto de Kalahari entre Botsuana, Namibia y Angola."
      ],
      "metadata": {
        "id": "Rv8G9o_lYMx2"
      }
    },
    {
      "cell_type": "code",
      "source": [
        "url = ('https://raw.githubusercontent.com/cristiandarioortegayubro/UNI/main/Howell1.csv')\n",
        "datos = pd.read_csv(url)\n",
        "datos.head()"
      ],
      "metadata": {
        "colab": {
          "base_uri": "https://localhost:8080/",
          "height": 204
        },
        "id": "vPXnQyTPSYuG",
        "outputId": "e7efc2db-6fe9-4824-f03a-d2d003a04b54"
      },
      "execution_count": 3,
      "outputs": [
        {
          "output_type": "execute_result",
          "data": {
            "text/plain": [
              "    height     weight   age  male\n",
              "0  151.765  47.825606  63.0     1\n",
              "1  139.700  36.485807  63.0     0\n",
              "2  136.525  31.864838  65.0     0\n",
              "3  156.845  53.041914  41.0     1\n",
              "4  145.415  41.276872  51.0     0"
            ],
            "text/html": [
              "\n",
              "  <div id=\"df-ac96bf99-b3fb-4a2f-97cb-8e2d4f3d6c1b\">\n",
              "    <div class=\"colab-df-container\">\n",
              "      <div>\n",
              "<style scoped>\n",
              "    .dataframe tbody tr th:only-of-type {\n",
              "        vertical-align: middle;\n",
              "    }\n",
              "\n",
              "    .dataframe tbody tr th {\n",
              "        vertical-align: top;\n",
              "    }\n",
              "\n",
              "    .dataframe thead th {\n",
              "        text-align: right;\n",
              "    }\n",
              "</style>\n",
              "<table border=\"1\" class=\"dataframe\">\n",
              "  <thead>\n",
              "    <tr style=\"text-align: right;\">\n",
              "      <th></th>\n",
              "      <th>height</th>\n",
              "      <th>weight</th>\n",
              "      <th>age</th>\n",
              "      <th>male</th>\n",
              "    </tr>\n",
              "  </thead>\n",
              "  <tbody>\n",
              "    <tr>\n",
              "      <th>0</th>\n",
              "      <td>151.765</td>\n",
              "      <td>47.825606</td>\n",
              "      <td>63.0</td>\n",
              "      <td>1</td>\n",
              "    </tr>\n",
              "    <tr>\n",
              "      <th>1</th>\n",
              "      <td>139.700</td>\n",
              "      <td>36.485807</td>\n",
              "      <td>63.0</td>\n",
              "      <td>0</td>\n",
              "    </tr>\n",
              "    <tr>\n",
              "      <th>2</th>\n",
              "      <td>136.525</td>\n",
              "      <td>31.864838</td>\n",
              "      <td>65.0</td>\n",
              "      <td>0</td>\n",
              "    </tr>\n",
              "    <tr>\n",
              "      <th>3</th>\n",
              "      <td>156.845</td>\n",
              "      <td>53.041914</td>\n",
              "      <td>41.0</td>\n",
              "      <td>1</td>\n",
              "    </tr>\n",
              "    <tr>\n",
              "      <th>4</th>\n",
              "      <td>145.415</td>\n",
              "      <td>41.276872</td>\n",
              "      <td>51.0</td>\n",
              "      <td>0</td>\n",
              "    </tr>\n",
              "  </tbody>\n",
              "</table>\n",
              "</div>\n",
              "      <button class=\"colab-df-convert\" onclick=\"convertToInteractive('df-ac96bf99-b3fb-4a2f-97cb-8e2d4f3d6c1b')\"\n",
              "              title=\"Convert this dataframe to an interactive table.\"\n",
              "              style=\"display:none;\">\n",
              "        \n",
              "  <svg xmlns=\"http://www.w3.org/2000/svg\" height=\"24px\"viewBox=\"0 0 24 24\"\n",
              "       width=\"24px\">\n",
              "    <path d=\"M0 0h24v24H0V0z\" fill=\"none\"/>\n",
              "    <path d=\"M18.56 5.44l.94 2.06.94-2.06 2.06-.94-2.06-.94-.94-2.06-.94 2.06-2.06.94zm-11 1L8.5 8.5l.94-2.06 2.06-.94-2.06-.94L8.5 2.5l-.94 2.06-2.06.94zm10 10l.94 2.06.94-2.06 2.06-.94-2.06-.94-.94-2.06-.94 2.06-2.06.94z\"/><path d=\"M17.41 7.96l-1.37-1.37c-.4-.4-.92-.59-1.43-.59-.52 0-1.04.2-1.43.59L10.3 9.45l-7.72 7.72c-.78.78-.78 2.05 0 2.83L4 21.41c.39.39.9.59 1.41.59.51 0 1.02-.2 1.41-.59l7.78-7.78 2.81-2.81c.8-.78.8-2.07 0-2.86zM5.41 20L4 18.59l7.72-7.72 1.47 1.35L5.41 20z\"/>\n",
              "  </svg>\n",
              "      </button>\n",
              "      \n",
              "  <style>\n",
              "    .colab-df-container {\n",
              "      display:flex;\n",
              "      flex-wrap:wrap;\n",
              "      gap: 12px;\n",
              "    }\n",
              "\n",
              "    .colab-df-convert {\n",
              "      background-color: #E8F0FE;\n",
              "      border: none;\n",
              "      border-radius: 50%;\n",
              "      cursor: pointer;\n",
              "      display: none;\n",
              "      fill: #1967D2;\n",
              "      height: 32px;\n",
              "      padding: 0 0 0 0;\n",
              "      width: 32px;\n",
              "    }\n",
              "\n",
              "    .colab-df-convert:hover {\n",
              "      background-color: #E2EBFA;\n",
              "      box-shadow: 0px 1px 2px rgba(60, 64, 67, 0.3), 0px 1px 3px 1px rgba(60, 64, 67, 0.15);\n",
              "      fill: #174EA6;\n",
              "    }\n",
              "\n",
              "    [theme=dark] .colab-df-convert {\n",
              "      background-color: #3B4455;\n",
              "      fill: #D2E3FC;\n",
              "    }\n",
              "\n",
              "    [theme=dark] .colab-df-convert:hover {\n",
              "      background-color: #434B5C;\n",
              "      box-shadow: 0px 1px 3px 1px rgba(0, 0, 0, 0.15);\n",
              "      filter: drop-shadow(0px 1px 2px rgba(0, 0, 0, 0.3));\n",
              "      fill: #FFFFFF;\n",
              "    }\n",
              "  </style>\n",
              "\n",
              "      <script>\n",
              "        const buttonEl =\n",
              "          document.querySelector('#df-ac96bf99-b3fb-4a2f-97cb-8e2d4f3d6c1b button.colab-df-convert');\n",
              "        buttonEl.style.display =\n",
              "          google.colab.kernel.accessAllowed ? 'block' : 'none';\n",
              "\n",
              "        async function convertToInteractive(key) {\n",
              "          const element = document.querySelector('#df-ac96bf99-b3fb-4a2f-97cb-8e2d4f3d6c1b');\n",
              "          const dataTable =\n",
              "            await google.colab.kernel.invokeFunction('convertToInteractive',\n",
              "                                                     [key], {});\n",
              "          if (!dataTable) return;\n",
              "\n",
              "          const docLinkHtml = 'Like what you see? Visit the ' +\n",
              "            '<a target=\"_blank\" href=https://colab.research.google.com/notebooks/data_table.ipynb>data table notebook</a>'\n",
              "            + ' to learn more about interactive tables.';\n",
              "          element.innerHTML = '';\n",
              "          dataTable['output_type'] = 'display_data';\n",
              "          await google.colab.output.renderOutput(dataTable, element);\n",
              "          const docLink = document.createElement('div');\n",
              "          docLink.innerHTML = docLinkHtml;\n",
              "          element.appendChild(docLink);\n",
              "        }\n",
              "      </script>\n",
              "    </div>\n",
              "  </div>\n",
              "  "
            ]
          },
          "metadata": {},
          "execution_count": 3
        }
      ]
    },
    {
      "cell_type": "code",
      "source": [
        "datos.shape"
      ],
      "metadata": {
        "colab": {
          "base_uri": "https://localhost:8080/"
        },
        "id": "nhp0snl1S5pY",
        "outputId": "ffe1beb0-4a83-41b1-9274-4ab2031c0999"
      },
      "execution_count": 4,
      "outputs": [
        {
          "output_type": "execute_result",
          "data": {
            "text/plain": [
              "(544, 4)"
            ]
          },
          "metadata": {},
          "execution_count": 4
        }
      ]
    },
    {
      "cell_type": "code",
      "source": [
        "datos = datos[(datos.age > 15) & (datos.male ==0)]"
      ],
      "metadata": {
        "id": "3XasqTFYyH36"
      },
      "execution_count": 5,
      "outputs": []
    },
    {
      "cell_type": "markdown",
      "source": [
        "## **Representación gráfica**"
      ],
      "metadata": {
        "id": "R3virG9ASojl"
      }
    },
    {
      "cell_type": "markdown",
      "source": [
        "***Uno de los métodos gráficos más empleados para el análisis de normalidad consiste en representar los datos mediante un histograma y superponer la curva de una distribución normal con la misma media y desviación estándar que los datos disponibles.***"
      ],
      "metadata": {
        "id": "CRf12Cg0BSj1"
      }
    },
    {
      "cell_type": "markdown",
      "source": [
        "Valores de la media (mu) y desviación estándar (sigma) de los datos del peso (weight)"
      ],
      "metadata": {
        "id": "Afx-03k5uEs6"
      }
    },
    {
      "cell_type": "code",
      "source": [
        "mu, sigma = stats.norm.fit(datos.weight)"
      ],
      "metadata": {
        "id": "KrgBYyPKtWKs"
      },
      "execution_count": 6,
      "outputs": []
    },
    {
      "cell_type": "code",
      "source": [
        "mu"
      ],
      "metadata": {
        "colab": {
          "base_uri": "https://localhost:8080/"
        },
        "id": "d9nUJYduueFy",
        "outputId": "ab2fe674-db33-4b8c-d460-841bb82ceb80"
      },
      "execution_count": 7,
      "outputs": [
        {
          "output_type": "execute_result",
          "data": {
            "text/plain": [
              "41.38615752272728"
            ]
          },
          "metadata": {},
          "execution_count": 7
        }
      ]
    },
    {
      "cell_type": "code",
      "source": [
        "sigma"
      ],
      "metadata": {
        "colab": {
          "base_uri": "https://localhost:8080/"
        },
        "id": "HL1EiH8pugKQ",
        "outputId": "cb8a48c0-0cb7-4652-90f6-076cc00224be"
      },
      "execution_count": 8,
      "outputs": [
        {
          "output_type": "execute_result",
          "data": {
            "text/plain": [
              "5.737813252284781"
            ]
          },
          "metadata": {},
          "execution_count": 8
        }
      ]
    },
    {
      "cell_type": "markdown",
      "source": [
        "Valores teóricos de la normal en el rango observado"
      ],
      "metadata": {
        "id": "weNuD6Spurwk"
      }
    },
    {
      "cell_type": "code",
      "source": [
        "datos.weight.min()"
      ],
      "metadata": {
        "colab": {
          "base_uri": "https://localhost:8080/"
        },
        "id": "3Q0coILqutfG",
        "outputId": "a657083f-f02b-44ff-9bbb-e1d1872ffa66"
      },
      "execution_count": 9,
      "outputs": [
        {
          "output_type": "execute_result",
          "data": {
            "text/plain": [
              "22.6796"
            ]
          },
          "metadata": {},
          "execution_count": 9
        }
      ]
    },
    {
      "cell_type": "code",
      "source": [
        "datos.weight.max()"
      ],
      "metadata": {
        "colab": {
          "base_uri": "https://localhost:8080/"
        },
        "id": "qjFe12hKvIwP",
        "outputId": "85347cc9-23ab-4add-c384-b6cbdda9f2f2"
      },
      "execution_count": 10,
      "outputs": [
        {
          "output_type": "execute_result",
          "data": {
            "text/plain": [
              "56.755699"
            ]
          },
          "metadata": {},
          "execution_count": 10
        }
      ]
    },
    {
      "cell_type": "code",
      "source": [
        "x = np.linspace(datos.weight.min(),\n",
        "                datos.weight.max(),\n",
        "                num = 100)"
      ],
      "metadata": {
        "id": "DMt93mpBvY-M"
      },
      "execution_count": 11,
      "outputs": []
    },
    {
      "cell_type": "code",
      "source": [
        "y = stats.norm.pdf(x, mu, sigma)"
      ],
      "metadata": {
        "id": "2Rg4SQiIvpRw"
      },
      "execution_count": 12,
      "outputs": []
    },
    {
      "cell_type": "code",
      "source": [
        "fig = go.Figure([go.Scatter(x = x,\n",
        "                            y = y,\n",
        "                            line = {\"width\":2},\n",
        "                            name = \"Función densidad de probabilidad\"),\n",
        "                 \n",
        "                 go.Histogram(x = x,\n",
        "                              y = y,\n",
        "                              nbinsx = 18,\n",
        "                              histfunc = \"avg\",\n",
        "                              histnorm = \"probability density\",\n",
        "                              showlegend = False,\n",
        "                              name = \"Peso\")])\n",
        "\n",
        "fig.update_layout(template =    \"simple_white\",\n",
        "                  title =       \"Distribución peso mujeres mayores de 15 años\",\n",
        "                  yaxis_title = \"Función densidad de probabilidad\",\n",
        "                  xaxis_title = \"Peso\")\n",
        "\n",
        "fig.show()"
      ],
      "metadata": {
        "colab": {
          "base_uri": "https://localhost:8080/",
          "height": 542
        },
        "id": "apC48uYR0Qbk",
        "outputId": "2299cff3-6fa4-4922-c055-e294d334b36c"
      },
      "execution_count": 37,
      "outputs": [
        {
          "output_type": "display_data",
          "data": {
            "text/html": [
              "<html>\n",
              "<head><meta charset=\"utf-8\" /></head>\n",
              "<body>\n",
              "    <div>            <script src=\"https://cdnjs.cloudflare.com/ajax/libs/mathjax/2.7.5/MathJax.js?config=TeX-AMS-MML_SVG\"></script><script type=\"text/javascript\">if (window.MathJax) {MathJax.Hub.Config({SVG: {font: \"STIX-Web\"}});}</script>                <script type=\"text/javascript\">window.PlotlyConfig = {MathJaxConfig: 'local'};</script>\n",
              "        <script src=\"https://cdn.plot.ly/plotly-2.8.3.min.js\"></script>                <div id=\"bc1fe8c5-d191-4bab-b05c-6eba96224c4f\" class=\"plotly-graph-div\" style=\"height:525px; width:100%;\"></div>            <script type=\"text/javascript\">                                    window.PLOTLYENV=window.PLOTLYENV || {};                                    if (document.getElementById(\"bc1fe8c5-d191-4bab-b05c-6eba96224c4f\")) {                    Plotly.newPlot(                        \"bc1fe8c5-d191-4bab-b05c-6eba96224c4f\",                        [{\"line\":{\"width\":2},\"name\":\"Funci\\u00f3n densidad de probabilidad\",\"x\":[22.6796,23.02380302020202,23.36800604040404,23.71220906060606,24.05641208080808,24.400615101010104,24.74481812121212,25.089021141414143,25.433224161616163,25.777427181818183,26.121630202020203,26.465833222222223,26.810036242424243,27.154239262626263,27.498442282828282,27.842645303030302,28.186848323232326,28.531051343434342,28.875254363636365,29.219457383838385,29.563660404040405,29.907863424242425,30.252066444444445,30.596269464646465,30.940472484848485,31.284675505050508,31.628878525252524,31.973081545454548,32.317284565656564,32.66148758585859,33.00569060606061,33.34989362626263,33.694096646464644,34.03829966666667,34.38250268686869,34.72670570707071,35.07090872727273,35.41511174747475,35.75931476767677,36.103517787878786,36.44772080808081,36.79192382828283,37.13612684848485,37.480329868686866,37.82453288888889,38.16873590909091,38.51293892929293,38.857141949494945,39.20134496969697,39.54554798989899,39.88975101010101,40.23395403030303,40.578157050505055,40.92236007070707,41.26656309090909,41.61076611111111,41.954969131313135,42.29917215151515,42.64337517171717,42.9875781919192,43.331781212121214,43.67598423232323,44.020187252525254,44.36439027272728,44.708593292929294,45.05279631313131,45.39699933333333,45.74120235353536,46.08540537373737,46.42960839393939,46.77381141414142,47.118014434343436,47.46221745454545,47.806420474747476,48.1506234949495,48.494826515151516,48.83902953535353,49.183232555555556,49.52743557575758,49.871638595959595,50.21584161616162,50.56004463636364,50.90424765656566,51.248450676767675,51.5926536969697,51.93685671717172,52.28105973737374,52.625262757575754,52.96946577777778,53.3136687979798,53.65787181818182,54.00207483838384,54.346277858585864,54.69048087878788,55.0346838989899,55.37888691919192,55.72308993939394,56.06729295959596,56.411495979797984,56.755699],\"y\":[0.00034205207506894826,0.00041519145748078164,0.0005021595500939268,0.0006051627405122317,0.0007266742525091092,0.000869449778982197,0.0010365407192432358,0.0012313042281948457,0.0014574092155337096,0.0017188373771383104,0.0020198783028228537,0.002365117689415124,0.0027594177003926294,0.003207888557635815,0.003715850531342788,0.004288785614226618,0.0049322783282633835,0.005651945317743332,0.006453353630997327,0.007341927883031761,0.008322846818638008,0.009400930154572147,0.010580516962304108,0.011865337249764357,0.01325837879974164,0.01476175171072389,0.016376553448339243,0.018102737536598804,0.019938989282001975,0.0218826121146861,0.0239294282346076,0.026073697254370982,0.028308056423312904,0.030623485792448384,0.033009301333242515,0.03545317855544022,0.037941208585498716,0.04045798797740913,0.042986742746508835,0.045509486263439106,0.04800720974296943,0.050460103137684766,0.05284780332881974,0.05514966562667828,0.05734505378237597,0.05941364300153109,0.06133572986735124,0.06309254265031639,0.06466654522484502,0.06604172774493551,0.06720387735946634,0.06814082257540505,0.0688426453982395,0.06930185608099541,0.06951352617691507,0.06947537659076006,0.0691878184290105,0.06865394562511616,0.06787947952478873,0.06687266681920218,0.06564413337220606,0.06420669756433374,0.06257514773776558,0.060765989143231024,0.058797166438407995,0.05668776825040906,0.054457720582072086,0.05212747590981972,0.049717704693747526,0.0472489957090135,0.04474157112829512,0.042215021660041666,0.0396880663026256,0.03717834043941359,0.03470221510505599,0.032274649330222435,0.0299090765510827,0.027617325179656604,0.025409572597468524,0.023294331079819947,0.021278463499262507,0.019367226107716972,0.017564335265567166,0.01587205467667092,0.014291299499797436,0.01282175363468156,0.011461996516310477,0.010209635882961273,0.009061443198423369,0.008013488691822746,0.007061273313794079,0.006199855279593878,0.005423969262773389,0.00472813670290231,0.0041067660846454135,0.0035542424220654403,0.003065005532119925,0.0026336169977375524,0.0022548159984489297,0.0019235644221241694],\"type\":\"scatter\"},{\"histfunc\":\"avg\",\"histnorm\":\"probability density\",\"name\":\"Peso\",\"nbinsx\":18,\"showlegend\":false,\"x\":[22.6796,23.02380302020202,23.36800604040404,23.71220906060606,24.05641208080808,24.400615101010104,24.74481812121212,25.089021141414143,25.433224161616163,25.777427181818183,26.121630202020203,26.465833222222223,26.810036242424243,27.154239262626263,27.498442282828282,27.842645303030302,28.186848323232326,28.531051343434342,28.875254363636365,29.219457383838385,29.563660404040405,29.907863424242425,30.252066444444445,30.596269464646465,30.940472484848485,31.284675505050508,31.628878525252524,31.973081545454548,32.317284565656564,32.66148758585859,33.00569060606061,33.34989362626263,33.694096646464644,34.03829966666667,34.38250268686869,34.72670570707071,35.07090872727273,35.41511174747475,35.75931476767677,36.103517787878786,36.44772080808081,36.79192382828283,37.13612684848485,37.480329868686866,37.82453288888889,38.16873590909091,38.51293892929293,38.857141949494945,39.20134496969697,39.54554798989899,39.88975101010101,40.23395403030303,40.578157050505055,40.92236007070707,41.26656309090909,41.61076611111111,41.954969131313135,42.29917215151515,42.64337517171717,42.9875781919192,43.331781212121214,43.67598423232323,44.020187252525254,44.36439027272728,44.708593292929294,45.05279631313131,45.39699933333333,45.74120235353536,46.08540537373737,46.42960839393939,46.77381141414142,47.118014434343436,47.46221745454545,47.806420474747476,48.1506234949495,48.494826515151516,48.83902953535353,49.183232555555556,49.52743557575758,49.871638595959595,50.21584161616162,50.56004463636364,50.90424765656566,51.248450676767675,51.5926536969697,51.93685671717172,52.28105973737374,52.625262757575754,52.96946577777778,53.3136687979798,53.65787181818182,54.00207483838384,54.346277858585864,54.69048087878788,55.0346838989899,55.37888691919192,55.72308993939394,56.06729295959596,56.411495979797984,56.755699],\"y\":[0.00034205207506894826,0.00041519145748078164,0.0005021595500939268,0.0006051627405122317,0.0007266742525091092,0.000869449778982197,0.0010365407192432358,0.0012313042281948457,0.0014574092155337096,0.0017188373771383104,0.0020198783028228537,0.002365117689415124,0.0027594177003926294,0.003207888557635815,0.003715850531342788,0.004288785614226618,0.0049322783282633835,0.005651945317743332,0.006453353630997327,0.007341927883031761,0.008322846818638008,0.009400930154572147,0.010580516962304108,0.011865337249764357,0.01325837879974164,0.01476175171072389,0.016376553448339243,0.018102737536598804,0.019938989282001975,0.0218826121146861,0.0239294282346076,0.026073697254370982,0.028308056423312904,0.030623485792448384,0.033009301333242515,0.03545317855544022,0.037941208585498716,0.04045798797740913,0.042986742746508835,0.045509486263439106,0.04800720974296943,0.050460103137684766,0.05284780332881974,0.05514966562667828,0.05734505378237597,0.05941364300153109,0.06133572986735124,0.06309254265031639,0.06466654522484502,0.06604172774493551,0.06720387735946634,0.06814082257540505,0.0688426453982395,0.06930185608099541,0.06951352617691507,0.06947537659076006,0.0691878184290105,0.06865394562511616,0.06787947952478873,0.06687266681920218,0.06564413337220606,0.06420669756433374,0.06257514773776558,0.060765989143231024,0.058797166438407995,0.05668776825040906,0.054457720582072086,0.05212747590981972,0.049717704693747526,0.0472489957090135,0.04474157112829512,0.042215021660041666,0.0396880663026256,0.03717834043941359,0.03470221510505599,0.032274649330222435,0.0299090765510827,0.027617325179656604,0.025409572597468524,0.023294331079819947,0.021278463499262507,0.019367226107716972,0.017564335265567166,0.01587205467667092,0.014291299499797436,0.01282175363468156,0.011461996516310477,0.010209635882961273,0.009061443198423369,0.008013488691822746,0.007061273313794079,0.006199855279593878,0.005423969262773389,0.00472813670290231,0.0041067660846454135,0.0035542424220654403,0.003065005532119925,0.0026336169977375524,0.0022548159984489297,0.0019235644221241694],\"type\":\"histogram\"}],                        {\"template\":{\"data\":{\"barpolar\":[{\"marker\":{\"line\":{\"color\":\"white\",\"width\":0.5},\"pattern\":{\"fillmode\":\"overlay\",\"size\":10,\"solidity\":0.2}},\"type\":\"barpolar\"}],\"bar\":[{\"error_x\":{\"color\":\"rgb(36,36,36)\"},\"error_y\":{\"color\":\"rgb(36,36,36)\"},\"marker\":{\"line\":{\"color\":\"white\",\"width\":0.5},\"pattern\":{\"fillmode\":\"overlay\",\"size\":10,\"solidity\":0.2}},\"type\":\"bar\"}],\"carpet\":[{\"aaxis\":{\"endlinecolor\":\"rgb(36,36,36)\",\"gridcolor\":\"white\",\"linecolor\":\"white\",\"minorgridcolor\":\"white\",\"startlinecolor\":\"rgb(36,36,36)\"},\"baxis\":{\"endlinecolor\":\"rgb(36,36,36)\",\"gridcolor\":\"white\",\"linecolor\":\"white\",\"minorgridcolor\":\"white\",\"startlinecolor\":\"rgb(36,36,36)\"},\"type\":\"carpet\"}],\"choropleth\":[{\"colorbar\":{\"outlinewidth\":1,\"tickcolor\":\"rgb(36,36,36)\",\"ticks\":\"outside\"},\"type\":\"choropleth\"}],\"contourcarpet\":[{\"colorbar\":{\"outlinewidth\":1,\"tickcolor\":\"rgb(36,36,36)\",\"ticks\":\"outside\"},\"type\":\"contourcarpet\"}],\"contour\":[{\"colorbar\":{\"outlinewidth\":1,\"tickcolor\":\"rgb(36,36,36)\",\"ticks\":\"outside\"},\"colorscale\":[[0.0,\"#440154\"],[0.1111111111111111,\"#482878\"],[0.2222222222222222,\"#3e4989\"],[0.3333333333333333,\"#31688e\"],[0.4444444444444444,\"#26828e\"],[0.5555555555555556,\"#1f9e89\"],[0.6666666666666666,\"#35b779\"],[0.7777777777777778,\"#6ece58\"],[0.8888888888888888,\"#b5de2b\"],[1.0,\"#fde725\"]],\"type\":\"contour\"}],\"heatmapgl\":[{\"colorbar\":{\"outlinewidth\":1,\"tickcolor\":\"rgb(36,36,36)\",\"ticks\":\"outside\"},\"colorscale\":[[0.0,\"#440154\"],[0.1111111111111111,\"#482878\"],[0.2222222222222222,\"#3e4989\"],[0.3333333333333333,\"#31688e\"],[0.4444444444444444,\"#26828e\"],[0.5555555555555556,\"#1f9e89\"],[0.6666666666666666,\"#35b779\"],[0.7777777777777778,\"#6ece58\"],[0.8888888888888888,\"#b5de2b\"],[1.0,\"#fde725\"]],\"type\":\"heatmapgl\"}],\"heatmap\":[{\"colorbar\":{\"outlinewidth\":1,\"tickcolor\":\"rgb(36,36,36)\",\"ticks\":\"outside\"},\"colorscale\":[[0.0,\"#440154\"],[0.1111111111111111,\"#482878\"],[0.2222222222222222,\"#3e4989\"],[0.3333333333333333,\"#31688e\"],[0.4444444444444444,\"#26828e\"],[0.5555555555555556,\"#1f9e89\"],[0.6666666666666666,\"#35b779\"],[0.7777777777777778,\"#6ece58\"],[0.8888888888888888,\"#b5de2b\"],[1.0,\"#fde725\"]],\"type\":\"heatmap\"}],\"histogram2dcontour\":[{\"colorbar\":{\"outlinewidth\":1,\"tickcolor\":\"rgb(36,36,36)\",\"ticks\":\"outside\"},\"colorscale\":[[0.0,\"#440154\"],[0.1111111111111111,\"#482878\"],[0.2222222222222222,\"#3e4989\"],[0.3333333333333333,\"#31688e\"],[0.4444444444444444,\"#26828e\"],[0.5555555555555556,\"#1f9e89\"],[0.6666666666666666,\"#35b779\"],[0.7777777777777778,\"#6ece58\"],[0.8888888888888888,\"#b5de2b\"],[1.0,\"#fde725\"]],\"type\":\"histogram2dcontour\"}],\"histogram2d\":[{\"colorbar\":{\"outlinewidth\":1,\"tickcolor\":\"rgb(36,36,36)\",\"ticks\":\"outside\"},\"colorscale\":[[0.0,\"#440154\"],[0.1111111111111111,\"#482878\"],[0.2222222222222222,\"#3e4989\"],[0.3333333333333333,\"#31688e\"],[0.4444444444444444,\"#26828e\"],[0.5555555555555556,\"#1f9e89\"],[0.6666666666666666,\"#35b779\"],[0.7777777777777778,\"#6ece58\"],[0.8888888888888888,\"#b5de2b\"],[1.0,\"#fde725\"]],\"type\":\"histogram2d\"}],\"histogram\":[{\"marker\":{\"line\":{\"color\":\"white\",\"width\":0.6}},\"type\":\"histogram\"}],\"mesh3d\":[{\"colorbar\":{\"outlinewidth\":1,\"tickcolor\":\"rgb(36,36,36)\",\"ticks\":\"outside\"},\"type\":\"mesh3d\"}],\"parcoords\":[{\"line\":{\"colorbar\":{\"outlinewidth\":1,\"tickcolor\":\"rgb(36,36,36)\",\"ticks\":\"outside\"}},\"type\":\"parcoords\"}],\"pie\":[{\"automargin\":true,\"type\":\"pie\"}],\"scatter3d\":[{\"line\":{\"colorbar\":{\"outlinewidth\":1,\"tickcolor\":\"rgb(36,36,36)\",\"ticks\":\"outside\"}},\"marker\":{\"colorbar\":{\"outlinewidth\":1,\"tickcolor\":\"rgb(36,36,36)\",\"ticks\":\"outside\"}},\"type\":\"scatter3d\"}],\"scattercarpet\":[{\"marker\":{\"colorbar\":{\"outlinewidth\":1,\"tickcolor\":\"rgb(36,36,36)\",\"ticks\":\"outside\"}},\"type\":\"scattercarpet\"}],\"scattergeo\":[{\"marker\":{\"colorbar\":{\"outlinewidth\":1,\"tickcolor\":\"rgb(36,36,36)\",\"ticks\":\"outside\"}},\"type\":\"scattergeo\"}],\"scattergl\":[{\"marker\":{\"colorbar\":{\"outlinewidth\":1,\"tickcolor\":\"rgb(36,36,36)\",\"ticks\":\"outside\"}},\"type\":\"scattergl\"}],\"scattermapbox\":[{\"marker\":{\"colorbar\":{\"outlinewidth\":1,\"tickcolor\":\"rgb(36,36,36)\",\"ticks\":\"outside\"}},\"type\":\"scattermapbox\"}],\"scatterpolargl\":[{\"marker\":{\"colorbar\":{\"outlinewidth\":1,\"tickcolor\":\"rgb(36,36,36)\",\"ticks\":\"outside\"}},\"type\":\"scatterpolargl\"}],\"scatterpolar\":[{\"marker\":{\"colorbar\":{\"outlinewidth\":1,\"tickcolor\":\"rgb(36,36,36)\",\"ticks\":\"outside\"}},\"type\":\"scatterpolar\"}],\"scatter\":[{\"marker\":{\"colorbar\":{\"outlinewidth\":1,\"tickcolor\":\"rgb(36,36,36)\",\"ticks\":\"outside\"}},\"type\":\"scatter\"}],\"scatterternary\":[{\"marker\":{\"colorbar\":{\"outlinewidth\":1,\"tickcolor\":\"rgb(36,36,36)\",\"ticks\":\"outside\"}},\"type\":\"scatterternary\"}],\"surface\":[{\"colorbar\":{\"outlinewidth\":1,\"tickcolor\":\"rgb(36,36,36)\",\"ticks\":\"outside\"},\"colorscale\":[[0.0,\"#440154\"],[0.1111111111111111,\"#482878\"],[0.2222222222222222,\"#3e4989\"],[0.3333333333333333,\"#31688e\"],[0.4444444444444444,\"#26828e\"],[0.5555555555555556,\"#1f9e89\"],[0.6666666666666666,\"#35b779\"],[0.7777777777777778,\"#6ece58\"],[0.8888888888888888,\"#b5de2b\"],[1.0,\"#fde725\"]],\"type\":\"surface\"}],\"table\":[{\"cells\":{\"fill\":{\"color\":\"rgb(237,237,237)\"},\"line\":{\"color\":\"white\"}},\"header\":{\"fill\":{\"color\":\"rgb(217,217,217)\"},\"line\":{\"color\":\"white\"}},\"type\":\"table\"}]},\"layout\":{\"annotationdefaults\":{\"arrowhead\":0,\"arrowwidth\":1},\"autotypenumbers\":\"strict\",\"coloraxis\":{\"colorbar\":{\"outlinewidth\":1,\"tickcolor\":\"rgb(36,36,36)\",\"ticks\":\"outside\"}},\"colorscale\":{\"diverging\":[[0.0,\"rgb(103,0,31)\"],[0.1,\"rgb(178,24,43)\"],[0.2,\"rgb(214,96,77)\"],[0.3,\"rgb(244,165,130)\"],[0.4,\"rgb(253,219,199)\"],[0.5,\"rgb(247,247,247)\"],[0.6,\"rgb(209,229,240)\"],[0.7,\"rgb(146,197,222)\"],[0.8,\"rgb(67,147,195)\"],[0.9,\"rgb(33,102,172)\"],[1.0,\"rgb(5,48,97)\"]],\"sequential\":[[0.0,\"#440154\"],[0.1111111111111111,\"#482878\"],[0.2222222222222222,\"#3e4989\"],[0.3333333333333333,\"#31688e\"],[0.4444444444444444,\"#26828e\"],[0.5555555555555556,\"#1f9e89\"],[0.6666666666666666,\"#35b779\"],[0.7777777777777778,\"#6ece58\"],[0.8888888888888888,\"#b5de2b\"],[1.0,\"#fde725\"]],\"sequentialminus\":[[0.0,\"#440154\"],[0.1111111111111111,\"#482878\"],[0.2222222222222222,\"#3e4989\"],[0.3333333333333333,\"#31688e\"],[0.4444444444444444,\"#26828e\"],[0.5555555555555556,\"#1f9e89\"],[0.6666666666666666,\"#35b779\"],[0.7777777777777778,\"#6ece58\"],[0.8888888888888888,\"#b5de2b\"],[1.0,\"#fde725\"]]},\"colorway\":[\"#1F77B4\",\"#FF7F0E\",\"#2CA02C\",\"#D62728\",\"#9467BD\",\"#8C564B\",\"#E377C2\",\"#7F7F7F\",\"#BCBD22\",\"#17BECF\"],\"font\":{\"color\":\"rgb(36,36,36)\"},\"geo\":{\"bgcolor\":\"white\",\"lakecolor\":\"white\",\"landcolor\":\"white\",\"showlakes\":true,\"showland\":true,\"subunitcolor\":\"white\"},\"hoverlabel\":{\"align\":\"left\"},\"hovermode\":\"closest\",\"mapbox\":{\"style\":\"light\"},\"paper_bgcolor\":\"white\",\"plot_bgcolor\":\"white\",\"polar\":{\"angularaxis\":{\"gridcolor\":\"rgb(232,232,232)\",\"linecolor\":\"rgb(36,36,36)\",\"showgrid\":false,\"showline\":true,\"ticks\":\"outside\"},\"bgcolor\":\"white\",\"radialaxis\":{\"gridcolor\":\"rgb(232,232,232)\",\"linecolor\":\"rgb(36,36,36)\",\"showgrid\":false,\"showline\":true,\"ticks\":\"outside\"}},\"scene\":{\"xaxis\":{\"backgroundcolor\":\"white\",\"gridcolor\":\"rgb(232,232,232)\",\"gridwidth\":2,\"linecolor\":\"rgb(36,36,36)\",\"showbackground\":true,\"showgrid\":false,\"showline\":true,\"ticks\":\"outside\",\"zeroline\":false,\"zerolinecolor\":\"rgb(36,36,36)\"},\"yaxis\":{\"backgroundcolor\":\"white\",\"gridcolor\":\"rgb(232,232,232)\",\"gridwidth\":2,\"linecolor\":\"rgb(36,36,36)\",\"showbackground\":true,\"showgrid\":false,\"showline\":true,\"ticks\":\"outside\",\"zeroline\":false,\"zerolinecolor\":\"rgb(36,36,36)\"},\"zaxis\":{\"backgroundcolor\":\"white\",\"gridcolor\":\"rgb(232,232,232)\",\"gridwidth\":2,\"linecolor\":\"rgb(36,36,36)\",\"showbackground\":true,\"showgrid\":false,\"showline\":true,\"ticks\":\"outside\",\"zeroline\":false,\"zerolinecolor\":\"rgb(36,36,36)\"}},\"shapedefaults\":{\"fillcolor\":\"black\",\"line\":{\"width\":0},\"opacity\":0.3},\"ternary\":{\"aaxis\":{\"gridcolor\":\"rgb(232,232,232)\",\"linecolor\":\"rgb(36,36,36)\",\"showgrid\":false,\"showline\":true,\"ticks\":\"outside\"},\"baxis\":{\"gridcolor\":\"rgb(232,232,232)\",\"linecolor\":\"rgb(36,36,36)\",\"showgrid\":false,\"showline\":true,\"ticks\":\"outside\"},\"bgcolor\":\"white\",\"caxis\":{\"gridcolor\":\"rgb(232,232,232)\",\"linecolor\":\"rgb(36,36,36)\",\"showgrid\":false,\"showline\":true,\"ticks\":\"outside\"}},\"title\":{\"x\":0.05},\"xaxis\":{\"automargin\":true,\"gridcolor\":\"rgb(232,232,232)\",\"linecolor\":\"rgb(36,36,36)\",\"showgrid\":false,\"showline\":true,\"ticks\":\"outside\",\"title\":{\"standoff\":15},\"zeroline\":false,\"zerolinecolor\":\"rgb(36,36,36)\"},\"yaxis\":{\"automargin\":true,\"gridcolor\":\"rgb(232,232,232)\",\"linecolor\":\"rgb(36,36,36)\",\"showgrid\":false,\"showline\":true,\"ticks\":\"outside\",\"title\":{\"standoff\":15},\"zeroline\":false,\"zerolinecolor\":\"rgb(36,36,36)\"}}},\"title\":{\"text\":\"Distribuci\\u00f3n peso mujeres mayores de 15 a\\u00f1os\"},\"yaxis\":{\"title\":{\"text\":\"Funci\\u00f3n densidad de probabilidad\"}},\"xaxis\":{\"title\":{\"text\":\"Peso\"}}},                        {\"responsive\": true}                    ).then(function(){\n",
              "                            \n",
              "var gd = document.getElementById('bc1fe8c5-d191-4bab-b05c-6eba96224c4f');\n",
              "var x = new MutationObserver(function (mutations, observer) {{\n",
              "        var display = window.getComputedStyle(gd).display;\n",
              "        if (!display || display === 'none') {{\n",
              "            console.log([gd, 'removed!']);\n",
              "            Plotly.purge(gd);\n",
              "            observer.disconnect();\n",
              "        }}\n",
              "}});\n",
              "\n",
              "// Listen for the removal of the full notebook cells\n",
              "var notebookContainer = gd.closest('#notebook-container');\n",
              "if (notebookContainer) {{\n",
              "    x.observe(notebookContainer, {childList: true});\n",
              "}}\n",
              "\n",
              "// Listen for the clearing of the current output cell\n",
              "var outputEl = gd.closest('.output');\n",
              "if (outputEl) {{\n",
              "    x.observe(outputEl, {childList: true});\n",
              "}}\n",
              "\n",
              "                        })                };                            </script>        </div>\n",
              "</body>\n",
              "</html>"
            ]
          },
          "metadata": {}
        }
      ]
    },
    {
      "cell_type": "markdown",
      "source": [
        "***Otra representación utilizada con frecuencia son los gráficos de cuantiles teóricos (Gráficos Q-Q). Estos gráficos comparan los cuantiles de la distribución observada con los cuantiles teóricos de una distribución normal con la misma media y desviación estándar que los datos. Cuanto más se aproximen los datos a una normal, más alineados están los puntos entorno a la recta.***"
      ],
      "metadata": {
        "id": "PLar9oN7CBQB"
      }
    },
    {
      "cell_type": "code",
      "source": [
        "from statsmodels.graphics.gofplots import qqplot"
      ],
      "metadata": {
        "id": "Hi7_BUwsEJ6f"
      },
      "execution_count": 14,
      "outputs": []
    },
    {
      "cell_type": "code",
      "source": [
        "qqplot_data = qqplot(data=y, line='s').gca().lines"
      ],
      "metadata": {
        "id": "-HFU2BSMEDxg"
      },
      "execution_count": null,
      "outputs": []
    },
    {
      "cell_type": "code",
      "source": [
        "fig = go.Figure([go.Scatter(x = qqplot_data[0].get_xdata(),\n",
        "                            y = qqplot_data[0].get_ydata(),\n",
        "                            mode = \"markers\",\n",
        "                            name = \"Cuantiles de la distribución\"),\n",
        "                 \n",
        "                 go.Scatter(x = qqplot_data[1].get_xdata(),\n",
        "                            y = qqplot_data[1].get_ydata(),\n",
        "                            line = {\"width\":2},\n",
        "                            name = \"Cuantiles teoricos\")])\n",
        "\n",
        "fig.update_layout(template =    \"simple_white\",\n",
        "                  title =       \"Q-Q Plot\",\n",
        "                  yaxis_title = \"Cuantiles de la distribución\",\n",
        "                  xaxis_title = \"Cuantiles teoricos\")\n",
        "\n",
        "fig.show()"
      ],
      "metadata": {
        "colab": {
          "base_uri": "https://localhost:8080/",
          "height": 542
        },
        "id": "0lMOwubMKQC_",
        "outputId": "10136465-4bd1-420c-cd63-c1dd497e88e3"
      },
      "execution_count": 36,
      "outputs": [
        {
          "output_type": "display_data",
          "data": {
            "text/html": [
              "<html>\n",
              "<head><meta charset=\"utf-8\" /></head>\n",
              "<body>\n",
              "    <div>            <script src=\"https://cdnjs.cloudflare.com/ajax/libs/mathjax/2.7.5/MathJax.js?config=TeX-AMS-MML_SVG\"></script><script type=\"text/javascript\">if (window.MathJax) {MathJax.Hub.Config({SVG: {font: \"STIX-Web\"}});}</script>                <script type=\"text/javascript\">window.PlotlyConfig = {MathJaxConfig: 'local'};</script>\n",
              "        <script src=\"https://cdn.plot.ly/plotly-2.8.3.min.js\"></script>                <div id=\"54d07ad1-6be1-4b4b-bda8-770cb92d56f8\" class=\"plotly-graph-div\" style=\"height:525px; width:100%;\"></div>            <script type=\"text/javascript\">                                    window.PLOTLYENV=window.PLOTLYENV || {};                                    if (document.getElementById(\"54d07ad1-6be1-4b4b-bda8-770cb92d56f8\")) {                    Plotly.newPlot(                        \"54d07ad1-6be1-4b4b-bda8-770cb92d56f8\",                        [{\"mode\":\"markers\",\"name\":\"Cuantiles de la distribuci\\u00f3n\",\"x\":[-2.330078922787911,-2.0578559805954546,-1.8851770324320443,-1.75530050130824,-1.649672679353478,-1.5597799921032536,-1.480972651368176,-1.4104195313382353,-1.3462626652319192,-1.2872137328173294,-1.2323408611117501,-1.1809470407966427,-1.132496529618965,-1.086568114986069,-1.0428242390384295,-1.0009899168818812,-0.9608379310031608,-0.9221781782775869,-0.8848498412982431,-0.8487155274221447,-0.8136568081151939,-0.7795707737384843,-0.746367337187046,-0.713967098197978,-0.6822996332113872,-0.6513021122615636,-0.6209181700422963,-0.5910969765728049,-0.5617924660992517,-0.5329626925342973,-0.5045692868981857,-0.4765769975882356,-0.44895329836199876,-0.4216680520195305,-0.3946932201593915,-0.3680026112393317,-0.341571660625871,-0.3153772374626603,-0.28939747409646166,-0.2636116145249011,-0.23799987891187127,-0.212543341685061,-0.18722382110885646,-0.162023778532748,-0.13692622576424984,-0.11191463921698815,-0.08697287964740107,-0.06208511642395301,-0.03723575537593384,-0.012409369348679852,0.012409369348679852,0.03723575537593384,0.06208511642395301,0.0869728796474012,0.11191463921698828,0.13692622576424998,0.16202377853274785,0.1872238211088563,0.21254334168506087,0.23799987891187127,0.2636116145249011,0.28939747409646166,0.3153772374626603,0.341571660625871,0.3680026112393317,0.3946932201593915,0.4216680520195306,0.448953298361999,0.4765769975882358,0.5045692868981856,0.5329626925342971,0.5617924660992515,0.5910969765728049,0.6209181700422963,0.6513021122615636,0.6822996332113872,0.713967098197978,0.746367337187046,0.7795707737384843,0.8136568081151939,0.848715527422145,0.8848498412982432,0.9221781782775866,0.9608379310031608,1.0009899168818812,1.0428242390384295,1.086568114986069,1.132496529618965,1.1809470407966427,1.2323408611117501,1.2872137328173294,1.3462626652319198,1.4104195313382353,1.480972651368176,1.5597799921032531,1.6496726793534775,1.75530050130824,1.8851770324320436,2.0578559805954537,2.3300789227879104],\"y\":[0.00034205207506894826,0.00041519145748078164,0.0005021595500939268,0.0006051627405122317,0.0007266742525091092,0.000869449778982197,0.0010365407192432358,0.0012313042281948457,0.0014574092155337096,0.0017188373771383104,0.0019235644221241694,0.0020198783028228537,0.0022548159984489297,0.002365117689415124,0.0026336169977375524,0.0027594177003926294,0.003065005532119925,0.003207888557635815,0.0035542424220654403,0.003715850531342788,0.0041067660846454135,0.004288785614226618,0.00472813670290231,0.0049322783282633835,0.005423969262773389,0.005651945317743332,0.006199855279593878,0.006453353630997327,0.007061273313794079,0.007341927883031761,0.008013488691822746,0.008322846818638008,0.009061443198423369,0.009400930154572147,0.010209635882961273,0.010580516962304108,0.011461996516310477,0.011865337249764357,0.01282175363468156,0.01325837879974164,0.014291299499797436,0.01476175171072389,0.01587205467667092,0.016376553448339243,0.017564335265567166,0.018102737536598804,0.019367226107716972,0.019938989282001975,0.021278463499262507,0.0218826121146861,0.023294331079819947,0.0239294282346076,0.025409572597468524,0.026073697254370982,0.027617325179656604,0.028308056423312904,0.0299090765510827,0.030623485792448384,0.032274649330222435,0.033009301333242515,0.03470221510505599,0.03545317855544022,0.03717834043941359,0.037941208585498716,0.0396880663026256,0.04045798797740913,0.042215021660041666,0.042986742746508835,0.04474157112829512,0.045509486263439106,0.0472489957090135,0.04800720974296943,0.049717704693747526,0.050460103137684766,0.05212747590981972,0.05284780332881974,0.054457720582072086,0.05514966562667828,0.05668776825040906,0.05734505378237597,0.058797166438407995,0.05941364300153109,0.060765989143231024,0.06133572986735124,0.06257514773776558,0.06309254265031639,0.06420669756433374,0.06466654522484502,0.06564413337220606,0.06604172774493551,0.06687266681920218,0.06720387735946634,0.06787947952478873,0.06814082257540505,0.06865394562511616,0.0688426453982395,0.0691878184290105,0.06930185608099541,0.06947537659076006,0.06951352617691507],\"type\":\"scatter\"},{\"line\":{\"width\":2},\"name\":\"Cuantiles teoricos\",\"x\":[-2.330078922787911,-2.0578559805954546,-1.8851770324320443,-1.75530050130824,-1.649672679353478,-1.5597799921032536,-1.480972651368176,-1.4104195313382353,-1.3462626652319192,-1.2872137328173294,-1.2323408611117501,-1.1809470407966427,-1.132496529618965,-1.086568114986069,-1.0428242390384295,-1.0009899168818812,-0.9608379310031608,-0.9221781782775869,-0.8848498412982431,-0.8487155274221447,-0.8136568081151939,-0.7795707737384843,-0.746367337187046,-0.713967098197978,-0.6822996332113872,-0.6513021122615636,-0.6209181700422963,-0.5910969765728049,-0.5617924660992517,-0.5329626925342973,-0.5045692868981857,-0.4765769975882356,-0.44895329836199876,-0.4216680520195305,-0.3946932201593915,-0.3680026112393317,-0.341571660625871,-0.3153772374626603,-0.28939747409646166,-0.2636116145249011,-0.23799987891187127,-0.212543341685061,-0.18722382110885646,-0.162023778532748,-0.13692622576424984,-0.11191463921698815,-0.08697287964740107,-0.06208511642395301,-0.03723575537593384,-0.012409369348679852,0.012409369348679852,0.03723575537593384,0.06208511642395301,0.0869728796474012,0.11191463921698828,0.13692622576424998,0.16202377853274785,0.1872238211088563,0.21254334168506087,0.23799987891187127,0.2636116145249011,0.28939747409646166,0.3153772374626603,0.341571660625871,0.3680026112393317,0.3946932201593915,0.4216680520195306,0.448953298361999,0.4765769975882358,0.5045692868981856,0.5329626925342971,0.5617924660992515,0.5910969765728049,0.6209181700422963,0.6513021122615636,0.6822996332113872,0.713967098197978,0.746367337187046,0.7795707737384843,0.8136568081151939,0.848715527422145,0.8848498412982432,0.9221781782775866,0.9608379310031608,1.0009899168818812,1.0428242390384295,1.086568114986069,1.132496529618965,1.1809470407966427,1.2323408611117501,1.2872137328173294,1.3462626652319198,1.4104195313382353,1.480972651368176,1.5597799921032531,1.6496726793534775,1.75530050130824,1.8851770324320436,2.0578559805954537,2.3300789227879104],\"y\":[-0.027692156226312447,-0.021075815932519556,-0.0168788784024872,-0.013722247594034034,-0.011154978248855963,-0.008970149137904334,-0.007054747813707605,-0.00533996416194293,-0.003780640561500046,-0.0023454645704776046,-0.0010117871471946038,0.00023733242172988347,0.0014149152763487244,0.002531198929439288,0.0035943876772650644,0.004611164988973782,0.005587053354243764,0.00652667320276281,0.007433933178970488,0.008312172591716113,0.009164269829851766,0.009992726097666226,0.010799730949565756,0.011587214197764338,0.012356887476972847,0.01311027786066436,0.013848755299672747,0.014573555209526405,0.015285797211888464,0.01598650080050767,0.01667659852803645,0.01735694717971619,0.01802833730129145,0.018691501373164963,0.019347120864737236,0.01999583235775611,0.02063823289218078,0.021274884660219075,0.021906319152104996,0.02253304083955478,0.023155530468700947,0.023774248022914682,0.02438963540672095,0.025002118894551766,0.025612111382034366,0.026220014472609812,0.026826220428321237,0.0274311140104399,0.028035074233089985,0.028638476051094174,0.029241692001821668,0.029845093819825856,0.030449054042475943,0.031053947624594607,0.03166015358030603,0.03226805667088148,0.03287804915836407,0.033490532646194886,0.03410592003000116,0.034724637584214894,0.03534712721336106,0.035973848900810845,0.036605283392696766,0.03724193516073506,0.03788433569515973,0.038533047188178605,0.03918866667975088,0.0398518307516244,0.04052322087319965,0.04120356952487939,0.041893667252408166,0.04259437084102737,0.043306612843389436,0.04403141275324309,0.044769890192251485,0.045523280575942994,0.0462929538551515,0.04708043710335008,0.04788744195524962,0.048715898223064075,0.049567995461199735,0.05044623487394535,0.05135349485015303,0.05229311469867208,0.053269003063942055,0.05428578037565078,0.05534896912347655,0.05646525277656712,0.057642835631185954,0.058891955200110445,0.06022563262339345,0.061660808614415905,0.06322013221485877,0.06493491586662345,0.06685031719082016,0.0690351463017718,0.07160241564694987,0.07475904645540303,0.07895598398543537,0.08557232427922828],\"type\":\"scatter\"}],                        {\"template\":{\"data\":{\"barpolar\":[{\"marker\":{\"line\":{\"color\":\"white\",\"width\":0.5},\"pattern\":{\"fillmode\":\"overlay\",\"size\":10,\"solidity\":0.2}},\"type\":\"barpolar\"}],\"bar\":[{\"error_x\":{\"color\":\"rgb(36,36,36)\"},\"error_y\":{\"color\":\"rgb(36,36,36)\"},\"marker\":{\"line\":{\"color\":\"white\",\"width\":0.5},\"pattern\":{\"fillmode\":\"overlay\",\"size\":10,\"solidity\":0.2}},\"type\":\"bar\"}],\"carpet\":[{\"aaxis\":{\"endlinecolor\":\"rgb(36,36,36)\",\"gridcolor\":\"white\",\"linecolor\":\"white\",\"minorgridcolor\":\"white\",\"startlinecolor\":\"rgb(36,36,36)\"},\"baxis\":{\"endlinecolor\":\"rgb(36,36,36)\",\"gridcolor\":\"white\",\"linecolor\":\"white\",\"minorgridcolor\":\"white\",\"startlinecolor\":\"rgb(36,36,36)\"},\"type\":\"carpet\"}],\"choropleth\":[{\"colorbar\":{\"outlinewidth\":1,\"tickcolor\":\"rgb(36,36,36)\",\"ticks\":\"outside\"},\"type\":\"choropleth\"}],\"contourcarpet\":[{\"colorbar\":{\"outlinewidth\":1,\"tickcolor\":\"rgb(36,36,36)\",\"ticks\":\"outside\"},\"type\":\"contourcarpet\"}],\"contour\":[{\"colorbar\":{\"outlinewidth\":1,\"tickcolor\":\"rgb(36,36,36)\",\"ticks\":\"outside\"},\"colorscale\":[[0.0,\"#440154\"],[0.1111111111111111,\"#482878\"],[0.2222222222222222,\"#3e4989\"],[0.3333333333333333,\"#31688e\"],[0.4444444444444444,\"#26828e\"],[0.5555555555555556,\"#1f9e89\"],[0.6666666666666666,\"#35b779\"],[0.7777777777777778,\"#6ece58\"],[0.8888888888888888,\"#b5de2b\"],[1.0,\"#fde725\"]],\"type\":\"contour\"}],\"heatmapgl\":[{\"colorbar\":{\"outlinewidth\":1,\"tickcolor\":\"rgb(36,36,36)\",\"ticks\":\"outside\"},\"colorscale\":[[0.0,\"#440154\"],[0.1111111111111111,\"#482878\"],[0.2222222222222222,\"#3e4989\"],[0.3333333333333333,\"#31688e\"],[0.4444444444444444,\"#26828e\"],[0.5555555555555556,\"#1f9e89\"],[0.6666666666666666,\"#35b779\"],[0.7777777777777778,\"#6ece58\"],[0.8888888888888888,\"#b5de2b\"],[1.0,\"#fde725\"]],\"type\":\"heatmapgl\"}],\"heatmap\":[{\"colorbar\":{\"outlinewidth\":1,\"tickcolor\":\"rgb(36,36,36)\",\"ticks\":\"outside\"},\"colorscale\":[[0.0,\"#440154\"],[0.1111111111111111,\"#482878\"],[0.2222222222222222,\"#3e4989\"],[0.3333333333333333,\"#31688e\"],[0.4444444444444444,\"#26828e\"],[0.5555555555555556,\"#1f9e89\"],[0.6666666666666666,\"#35b779\"],[0.7777777777777778,\"#6ece58\"],[0.8888888888888888,\"#b5de2b\"],[1.0,\"#fde725\"]],\"type\":\"heatmap\"}],\"histogram2dcontour\":[{\"colorbar\":{\"outlinewidth\":1,\"tickcolor\":\"rgb(36,36,36)\",\"ticks\":\"outside\"},\"colorscale\":[[0.0,\"#440154\"],[0.1111111111111111,\"#482878\"],[0.2222222222222222,\"#3e4989\"],[0.3333333333333333,\"#31688e\"],[0.4444444444444444,\"#26828e\"],[0.5555555555555556,\"#1f9e89\"],[0.6666666666666666,\"#35b779\"],[0.7777777777777778,\"#6ece58\"],[0.8888888888888888,\"#b5de2b\"],[1.0,\"#fde725\"]],\"type\":\"histogram2dcontour\"}],\"histogram2d\":[{\"colorbar\":{\"outlinewidth\":1,\"tickcolor\":\"rgb(36,36,36)\",\"ticks\":\"outside\"},\"colorscale\":[[0.0,\"#440154\"],[0.1111111111111111,\"#482878\"],[0.2222222222222222,\"#3e4989\"],[0.3333333333333333,\"#31688e\"],[0.4444444444444444,\"#26828e\"],[0.5555555555555556,\"#1f9e89\"],[0.6666666666666666,\"#35b779\"],[0.7777777777777778,\"#6ece58\"],[0.8888888888888888,\"#b5de2b\"],[1.0,\"#fde725\"]],\"type\":\"histogram2d\"}],\"histogram\":[{\"marker\":{\"line\":{\"color\":\"white\",\"width\":0.6}},\"type\":\"histogram\"}],\"mesh3d\":[{\"colorbar\":{\"outlinewidth\":1,\"tickcolor\":\"rgb(36,36,36)\",\"ticks\":\"outside\"},\"type\":\"mesh3d\"}],\"parcoords\":[{\"line\":{\"colorbar\":{\"outlinewidth\":1,\"tickcolor\":\"rgb(36,36,36)\",\"ticks\":\"outside\"}},\"type\":\"parcoords\"}],\"pie\":[{\"automargin\":true,\"type\":\"pie\"}],\"scatter3d\":[{\"line\":{\"colorbar\":{\"outlinewidth\":1,\"tickcolor\":\"rgb(36,36,36)\",\"ticks\":\"outside\"}},\"marker\":{\"colorbar\":{\"outlinewidth\":1,\"tickcolor\":\"rgb(36,36,36)\",\"ticks\":\"outside\"}},\"type\":\"scatter3d\"}],\"scattercarpet\":[{\"marker\":{\"colorbar\":{\"outlinewidth\":1,\"tickcolor\":\"rgb(36,36,36)\",\"ticks\":\"outside\"}},\"type\":\"scattercarpet\"}],\"scattergeo\":[{\"marker\":{\"colorbar\":{\"outlinewidth\":1,\"tickcolor\":\"rgb(36,36,36)\",\"ticks\":\"outside\"}},\"type\":\"scattergeo\"}],\"scattergl\":[{\"marker\":{\"colorbar\":{\"outlinewidth\":1,\"tickcolor\":\"rgb(36,36,36)\",\"ticks\":\"outside\"}},\"type\":\"scattergl\"}],\"scattermapbox\":[{\"marker\":{\"colorbar\":{\"outlinewidth\":1,\"tickcolor\":\"rgb(36,36,36)\",\"ticks\":\"outside\"}},\"type\":\"scattermapbox\"}],\"scatterpolargl\":[{\"marker\":{\"colorbar\":{\"outlinewidth\":1,\"tickcolor\":\"rgb(36,36,36)\",\"ticks\":\"outside\"}},\"type\":\"scatterpolargl\"}],\"scatterpolar\":[{\"marker\":{\"colorbar\":{\"outlinewidth\":1,\"tickcolor\":\"rgb(36,36,36)\",\"ticks\":\"outside\"}},\"type\":\"scatterpolar\"}],\"scatter\":[{\"marker\":{\"colorbar\":{\"outlinewidth\":1,\"tickcolor\":\"rgb(36,36,36)\",\"ticks\":\"outside\"}},\"type\":\"scatter\"}],\"scatterternary\":[{\"marker\":{\"colorbar\":{\"outlinewidth\":1,\"tickcolor\":\"rgb(36,36,36)\",\"ticks\":\"outside\"}},\"type\":\"scatterternary\"}],\"surface\":[{\"colorbar\":{\"outlinewidth\":1,\"tickcolor\":\"rgb(36,36,36)\",\"ticks\":\"outside\"},\"colorscale\":[[0.0,\"#440154\"],[0.1111111111111111,\"#482878\"],[0.2222222222222222,\"#3e4989\"],[0.3333333333333333,\"#31688e\"],[0.4444444444444444,\"#26828e\"],[0.5555555555555556,\"#1f9e89\"],[0.6666666666666666,\"#35b779\"],[0.7777777777777778,\"#6ece58\"],[0.8888888888888888,\"#b5de2b\"],[1.0,\"#fde725\"]],\"type\":\"surface\"}],\"table\":[{\"cells\":{\"fill\":{\"color\":\"rgb(237,237,237)\"},\"line\":{\"color\":\"white\"}},\"header\":{\"fill\":{\"color\":\"rgb(217,217,217)\"},\"line\":{\"color\":\"white\"}},\"type\":\"table\"}]},\"layout\":{\"annotationdefaults\":{\"arrowhead\":0,\"arrowwidth\":1},\"autotypenumbers\":\"strict\",\"coloraxis\":{\"colorbar\":{\"outlinewidth\":1,\"tickcolor\":\"rgb(36,36,36)\",\"ticks\":\"outside\"}},\"colorscale\":{\"diverging\":[[0.0,\"rgb(103,0,31)\"],[0.1,\"rgb(178,24,43)\"],[0.2,\"rgb(214,96,77)\"],[0.3,\"rgb(244,165,130)\"],[0.4,\"rgb(253,219,199)\"],[0.5,\"rgb(247,247,247)\"],[0.6,\"rgb(209,229,240)\"],[0.7,\"rgb(146,197,222)\"],[0.8,\"rgb(67,147,195)\"],[0.9,\"rgb(33,102,172)\"],[1.0,\"rgb(5,48,97)\"]],\"sequential\":[[0.0,\"#440154\"],[0.1111111111111111,\"#482878\"],[0.2222222222222222,\"#3e4989\"],[0.3333333333333333,\"#31688e\"],[0.4444444444444444,\"#26828e\"],[0.5555555555555556,\"#1f9e89\"],[0.6666666666666666,\"#35b779\"],[0.7777777777777778,\"#6ece58\"],[0.8888888888888888,\"#b5de2b\"],[1.0,\"#fde725\"]],\"sequentialminus\":[[0.0,\"#440154\"],[0.1111111111111111,\"#482878\"],[0.2222222222222222,\"#3e4989\"],[0.3333333333333333,\"#31688e\"],[0.4444444444444444,\"#26828e\"],[0.5555555555555556,\"#1f9e89\"],[0.6666666666666666,\"#35b779\"],[0.7777777777777778,\"#6ece58\"],[0.8888888888888888,\"#b5de2b\"],[1.0,\"#fde725\"]]},\"colorway\":[\"#1F77B4\",\"#FF7F0E\",\"#2CA02C\",\"#D62728\",\"#9467BD\",\"#8C564B\",\"#E377C2\",\"#7F7F7F\",\"#BCBD22\",\"#17BECF\"],\"font\":{\"color\":\"rgb(36,36,36)\"},\"geo\":{\"bgcolor\":\"white\",\"lakecolor\":\"white\",\"landcolor\":\"white\",\"showlakes\":true,\"showland\":true,\"subunitcolor\":\"white\"},\"hoverlabel\":{\"align\":\"left\"},\"hovermode\":\"closest\",\"mapbox\":{\"style\":\"light\"},\"paper_bgcolor\":\"white\",\"plot_bgcolor\":\"white\",\"polar\":{\"angularaxis\":{\"gridcolor\":\"rgb(232,232,232)\",\"linecolor\":\"rgb(36,36,36)\",\"showgrid\":false,\"showline\":true,\"ticks\":\"outside\"},\"bgcolor\":\"white\",\"radialaxis\":{\"gridcolor\":\"rgb(232,232,232)\",\"linecolor\":\"rgb(36,36,36)\",\"showgrid\":false,\"showline\":true,\"ticks\":\"outside\"}},\"scene\":{\"xaxis\":{\"backgroundcolor\":\"white\",\"gridcolor\":\"rgb(232,232,232)\",\"gridwidth\":2,\"linecolor\":\"rgb(36,36,36)\",\"showbackground\":true,\"showgrid\":false,\"showline\":true,\"ticks\":\"outside\",\"zeroline\":false,\"zerolinecolor\":\"rgb(36,36,36)\"},\"yaxis\":{\"backgroundcolor\":\"white\",\"gridcolor\":\"rgb(232,232,232)\",\"gridwidth\":2,\"linecolor\":\"rgb(36,36,36)\",\"showbackground\":true,\"showgrid\":false,\"showline\":true,\"ticks\":\"outside\",\"zeroline\":false,\"zerolinecolor\":\"rgb(36,36,36)\"},\"zaxis\":{\"backgroundcolor\":\"white\",\"gridcolor\":\"rgb(232,232,232)\",\"gridwidth\":2,\"linecolor\":\"rgb(36,36,36)\",\"showbackground\":true,\"showgrid\":false,\"showline\":true,\"ticks\":\"outside\",\"zeroline\":false,\"zerolinecolor\":\"rgb(36,36,36)\"}},\"shapedefaults\":{\"fillcolor\":\"black\",\"line\":{\"width\":0},\"opacity\":0.3},\"ternary\":{\"aaxis\":{\"gridcolor\":\"rgb(232,232,232)\",\"linecolor\":\"rgb(36,36,36)\",\"showgrid\":false,\"showline\":true,\"ticks\":\"outside\"},\"baxis\":{\"gridcolor\":\"rgb(232,232,232)\",\"linecolor\":\"rgb(36,36,36)\",\"showgrid\":false,\"showline\":true,\"ticks\":\"outside\"},\"bgcolor\":\"white\",\"caxis\":{\"gridcolor\":\"rgb(232,232,232)\",\"linecolor\":\"rgb(36,36,36)\",\"showgrid\":false,\"showline\":true,\"ticks\":\"outside\"}},\"title\":{\"x\":0.05},\"xaxis\":{\"automargin\":true,\"gridcolor\":\"rgb(232,232,232)\",\"linecolor\":\"rgb(36,36,36)\",\"showgrid\":false,\"showline\":true,\"ticks\":\"outside\",\"title\":{\"standoff\":15},\"zeroline\":false,\"zerolinecolor\":\"rgb(36,36,36)\"},\"yaxis\":{\"automargin\":true,\"gridcolor\":\"rgb(232,232,232)\",\"linecolor\":\"rgb(36,36,36)\",\"showgrid\":false,\"showline\":true,\"ticks\":\"outside\",\"title\":{\"standoff\":15},\"zeroline\":false,\"zerolinecolor\":\"rgb(36,36,36)\"}}},\"title\":{\"text\":\"Q-Q Plot\"},\"yaxis\":{\"title\":{\"text\":\"Cuantiles de la distribuci\\u00f3n\"}},\"xaxis\":{\"title\":{\"text\":\"Cuantiles teoricos\"}}},                        {\"responsive\": true}                    ).then(function(){\n",
              "                            \n",
              "var gd = document.getElementById('54d07ad1-6be1-4b4b-bda8-770cb92d56f8');\n",
              "var x = new MutationObserver(function (mutations, observer) {{\n",
              "        var display = window.getComputedStyle(gd).display;\n",
              "        if (!display || display === 'none') {{\n",
              "            console.log([gd, 'removed!']);\n",
              "            Plotly.purge(gd);\n",
              "            observer.disconnect();\n",
              "        }}\n",
              "}});\n",
              "\n",
              "// Listen for the removal of the full notebook cells\n",
              "var notebookContainer = gd.closest('#notebook-container');\n",
              "if (notebookContainer) {{\n",
              "    x.observe(notebookContainer, {childList: true});\n",
              "}}\n",
              "\n",
              "// Listen for the clearing of the current output cell\n",
              "var outputEl = gd.closest('.output');\n",
              "if (outputEl) {{\n",
              "    x.observe(outputEl, {childList: true});\n",
              "}}\n",
              "\n",
              "                        })                };                            </script>        </div>\n",
              "</body>\n",
              "</html>"
            ]
          },
          "metadata": {}
        }
      ]
    },
    {
      "cell_type": "markdown",
      "source": [
        "## **Métodos analíticos asimetría y curtosis**"
      ],
      "metadata": {
        "id": "2VCgRZO9P2_Z"
      }
    },
    {
      "cell_type": "markdown",
      "source": [
        "Los estadísticos de asimetría (Skewness) y curtosis pueden emplearse para detectar desviaciones de la normalidad. Un valor de curtosis y/o coeficiente de asimetría entre -1 y 1, es generalmente considerada una ligera desviación de la normalidad (Bulmer, 1979), (Brown, n.d.). Entre -2 y 2 hay una evidente desviación de la normal pero no extrema"
      ],
      "metadata": {
        "id": "Ei0-kZhwQOtR"
      }
    },
    {
      "cell_type": "markdown",
      "source": [
        "### **Asimetría**"
      ],
      "metadata": {
        "id": "moBFVq7eQuTM"
      }
    },
    {
      "cell_type": "code",
      "source": [
        "asimetria = stats.skew(datos.weight)\n",
        "print(\"\")\n",
        "print(f\"La asimetría es {round(asimetria, 3)}\")"
      ],
      "metadata": {
        "colab": {
          "base_uri": "https://localhost:8080/"
        },
        "id": "Aolo2tZIQw-w",
        "outputId": "d362aa70-065c-415f-91db-ee5331003bb8"
      },
      "execution_count": 41,
      "outputs": [
        {
          "output_type": "stream",
          "name": "stdout",
          "text": [
            "\n",
            "La asimetría es 0.032\n"
          ]
        }
      ]
    },
    {
      "cell_type": "markdown",
      "source": [
        "### **Curtosis**"
      ],
      "metadata": {
        "id": "7LprErwxRLyG"
      }
    },
    {
      "cell_type": "code",
      "source": [
        "curtosis = stats.kurtosis(datos.weight)\n",
        "print(\"\")\n",
        "print(f\"La curtosis es {round(curtosis, 3)}\")"
      ],
      "metadata": {
        "colab": {
          "base_uri": "https://localhost:8080/"
        },
        "id": "YCPeRVFoQQDm",
        "outputId": "2db0124f-06be-4836-d9ea-fb8e1a0ae797"
      },
      "execution_count": 42,
      "outputs": [
        {
          "output_type": "stream",
          "name": "stdout",
          "text": [
            "\n",
            "La curtosis es 0.055\n"
          ]
        }
      ]
    },
    {
      "cell_type": "markdown",
      "source": [
        "## **Tests**"
      ],
      "metadata": {
        "id": "lr-D5DQkRXyf"
      }
    },
    {
      "cell_type": "markdown",
      "source": [
        "Los test Shapiro-Wilk test y D'Agostino's K-squared test son dos de los test de hipótesis más empleados para analizar la normalidad. En ambos, se considera como hipótesis nula que los datos proceden de una distribución normal.\n",
        "\n",
        "El p-value de estos test indica la probabilidad de obtener unos datos como los observados si realmente procediesen de una población con una distribución normal con la misma media y desviación que estos. Por lo tanto, si el p-value es menor que un determinado valor (típicamente 0.05), entonces se considera que hay evidencias suficientes para rechazar la normalidad.\n",
        "\n",
        "El test de Shapiro-Wilk se desaconseja cuando se dispone de muchos datos (más de 50) por su elevada sensibilidad a pequeñas desviaciones de la norma"
      ],
      "metadata": {
        "id": "DMw1OjaFRaph"
      }
    },
    {
      "cell_type": "markdown",
      "source": [
        "### **Shapiro-Wilk**"
      ],
      "metadata": {
        "id": "HSO8qfPmRl5Q"
      }
    },
    {
      "cell_type": "code",
      "source": [
        "shapiro_test = stats.shapiro(datos.weight)\n",
        "shapiro_test"
      ],
      "metadata": {
        "colab": {
          "base_uri": "https://localhost:8080/"
        },
        "id": "xCWv8Z52Rzos",
        "outputId": "55dbf0a2-12b8-4776-9d3d-147ec34601f3"
      },
      "execution_count": 45,
      "outputs": [
        {
          "output_type": "execute_result",
          "data": {
            "text/plain": [
              "ShapiroResult(statistic=0.9963726997375488, pvalue=0.9239704012870789)"
            ]
          },
          "metadata": {},
          "execution_count": 45
        }
      ]
    },
    {
      "cell_type": "code",
      "source": [
        "estadistico = shapiro_test[0]\n",
        "pvalor = shapiro_test[1]"
      ],
      "metadata": {
        "id": "OTveAjDrR7D7"
      },
      "execution_count": 46,
      "outputs": []
    },
    {
      "cell_type": "code",
      "source": [
        "print(f\"Estadístico = {round(estadistico, 4)} \\np-value = {round(pvalor,4)}\")"
      ],
      "metadata": {
        "colab": {
          "base_uri": "https://localhost:8080/"
        },
        "id": "DwMILhDQSQq0",
        "outputId": "25abb8e5-0261-424a-9efe-7c502526ea14"
      },
      "execution_count": 51,
      "outputs": [
        {
          "output_type": "stream",
          "name": "stdout",
          "text": [
            "Estadístico = 0.9964 \n",
            "p-value = 0.924\n"
          ]
        }
      ]
    },
    {
      "cell_type": "markdown",
      "source": [
        "### **D'Agostino's K-squared**"
      ],
      "metadata": {
        "id": "vOGmV2DAS26i"
      }
    },
    {
      "cell_type": "code",
      "source": [
        "k2, p_value = stats.normaltest(datos.weight)"
      ],
      "metadata": {
        "id": "uMMkds8AS-GE"
      },
      "execution_count": 54,
      "outputs": []
    },
    {
      "cell_type": "code",
      "source": [
        "print(f\"Estadístico = {round(k2, 4)} \\np-value = {round(p_value, 4)}\")"
      ],
      "metadata": {
        "colab": {
          "base_uri": "https://localhost:8080/"
        },
        "id": "BakX2CIDTQFE",
        "outputId": "14fe6823-19ca-4a37-c9f1-c9333511065b"
      },
      "execution_count": 55,
      "outputs": [
        {
          "output_type": "stream",
          "name": "stdout",
          "text": [
            "Estadístico = 0.199 \n",
            "p-value = 0.9053\n"
          ]
        }
      ]
    },
    {
      "cell_type": "markdown",
      "source": [
        "***Ninguno de los test muestra evidencias para rechazar la hipótesis de que los datos se distribuyen de forma normal (p-value muy próximo a 1)***"
      ],
      "metadata": {
        "id": "WhtNrp7CTkm6"
      }
    }
  ]
}