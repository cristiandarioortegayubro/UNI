{
  "nbformat": 4,
  "nbformat_minor": 0,
  "metadata": {
    "colab": {
      "provenance": [],
      "include_colab_link": true
    },
    "kernelspec": {
      "name": "python3",
      "display_name": "Python 3"
    },
    "language_info": {
      "name": "python"
    }
  },
  "cells": [
    {
      "cell_type": "markdown",
      "metadata": {
        "id": "view-in-github",
        "colab_type": "text"
      },
      "source": [
        "<a href=\"https://colab.research.google.com/github/cristiandarioortegayubro/UNI/blob/main/Presentaci%C3%B3n2023_M3.ipynb\" target=\"_parent\"><img src=\"https://colab.research.google.com/assets/colab-badge.svg\" alt=\"Open In Colab\"/></a>"
      ]
    },
    {
      "cell_type": "markdown",
      "source": [
        "![](https://github.com/cristiandarioortegayubro/UNI/blob/main/UNI%2039%20Aniversario.jpg?raw=true)\n"
      ],
      "metadata": {
        "id": "iheuwam9e4CH"
      }
    },
    {
      "cell_type": "markdown",
      "source": [
        "<p align=\"center\">\n",
        "<img src=\"https://github.com/cristiandarioortegayubro/BDS/blob/main/images/Logo%20Scikit-learn.png?raw=true\">\n",
        "</p>\n"
      ],
      "metadata": {
        "id": "XM-hn7ZLmgQc"
      }
    },
    {
      "cell_type": "markdown",
      "source": [
        " # **<font color=\"DarkBlue\">Análisis de datos y Machine Learning con Python</font>**"
      ],
      "metadata": {
        "id": "_o8tuKydjnRZ"
      }
    },
    {
      "cell_type": "markdown",
      "source": [
        " # **<font color=\"DarkBlue\">Instructores</font>**"
      ],
      "metadata": {
        "id": "iG8osAu80lXB"
      }
    },
    {
      "cell_type": "markdown",
      "source": [
        "<table border=\"1\">\n",
        "  <tr>\n",
        "    <td>\n",
        "    <h3 align=\"center\"><font color=\"DarkBlue\">Gustavo Raul Machin Urbay</font></h3>\n",
        "    </td>\n",
        "    <td>\n",
        "    <h3 align=\"center\"><font color=\"DarkBlue\">Cristian Dario Ortega Yubro</font></h3>\n",
        "    </td>\n",
        "  </tr>\n",
        "\n",
        "  <tr>\n",
        "    <td align=\"center\">\n",
        "    <img src=\"https://media.licdn.com/dms/image/C4E03AQHVW8FGqKW5TQ/profile-displayphoto-shrink_200_200/0/1642528082273?e=1698278400&v=beta&t=8pXiMbD4klPgD_Y_sFg1NHH12ANHKXr2YGGluppmFmE\">        \n",
        "    </td>\n",
        "    <td align=\"center\">\n",
        "    <img src=\"https://media.licdn.com/dms/image/D4D03AQGQvYNSGkVLOQ/profile-displayphoto-shrink_200_200/0/1674752467497?e=1698278400&v=beta&t=25lFdtPMJMhBN4RVI9ja9oESMgu8kk_8OANDkdztB6w\">\n",
        "    </td>\n",
        "  </tr>\n",
        "\n",
        "  <tr>\n",
        "    <td>\n",
        "    <a href=\"https://www.linkedin.com/in/gustavomachinurbay/\">https://www.linkedin.com/in/gustavomachinurbay</a>\n",
        "    </td>\n",
        "    <td>\n",
        "    <a href=\"https://www.linkedin.com/in/cristiandarioortegayubro/\">https://www.linkedin.com/in/cristiandarioortegayubro</a>\n",
        "    </td>\n",
        "  </tr>\n",
        "</table>\n"
      ],
      "metadata": {
        "id": "Xfl8L5yj4kiJ"
      }
    },
    {
      "cell_type": "markdown",
      "source": [
        " # **<font color=\"DarkBlue\">Contenidos</font>**"
      ],
      "metadata": {
        "id": "B1Vm9mHn3TT7"
      }
    },
    {
      "cell_type": "markdown",
      "source": [
        " ## **<font color=\"DarkBlue\"> 1 - Preprocesamiento avanzado con Scikit-learn</font>**"
      ],
      "metadata": {
        "id": "zfpGb0lszF3D"
      }
    },
    {
      "cell_type": "markdown",
      "source": [
        "✅ escalamiento de variables,\n",
        "<br>\n",
        "✅ extracción de variables,\n",
        "<br>\n",
        "✅ manejo de datos desbalanceados,\n",
        "<br>\n",
        "✅ codificación de variables categóricas\n",
        "\n",
        "\n",
        "   \n"
      ],
      "metadata": {
        "id": "awv0mPM03V7u"
      }
    },
    {
      "cell_type": "markdown",
      "source": [
        " ## **<font color=\"DarkBlue\"> 2 - Pipeline con Scikit-learn I</font>**"
      ],
      "metadata": {
        "id": "459aGxETzV1y"
      }
    },
    {
      "cell_type": "markdown",
      "source": [
        "✅ tratamiento de variables numéricas,\n",
        "<br>\n",
        "✅ tratamiento de variables categóricas,\n",
        "<br>\n",
        "✅ transformadores de variables numéricas y categóricas\n",
        "  \n",
        "   \n"
      ],
      "metadata": {
        "id": "BwprqUV937vH"
      }
    },
    {
      "cell_type": "markdown",
      "source": [
        " ## **<font color=\"DarkBlue\"> 3 - Pipeline con Scikit-learn II</font>**"
      ],
      "metadata": {
        "id": "bpmGgusdzg1s"
      }
    },
    {
      "cell_type": "markdown",
      "source": [
        "✅ división del conjunto de datos de entrenamiento y prueba,\n",
        "<br>\n",
        "✅ validación cruzada\n",
        "\n",
        "\n",
        "\n"
      ],
      "metadata": {
        "id": "sf5d1zS038qK"
      }
    },
    {
      "cell_type": "markdown",
      "source": [
        " ## **<font color=\"DarkBlue\"> 4 - Pipeline con Scikit-learn III</font>**"
      ],
      "metadata": {
        "id": "KuCTfhsVzugm"
      }
    },
    {
      "cell_type": "markdown",
      "source": [
        "✅ entrenamiento,\n",
        "<br>\n",
        "✅ predicción y evaluación de modelos,\n",
        "<br>\n",
        "✅ pipeline transformadores + pipeline modelo\n",
        "\n",
        "   "
      ],
      "metadata": {
        "id": "nylOGTJR39bL"
      }
    },
    {
      "cell_type": "markdown",
      "source": [
        " ## **<font color=\"DarkBlue\"> 5 - Modelos de Regresión</font>**"
      ],
      "metadata": {
        "id": "DkH_2L-Pz9ng"
      }
    },
    {
      "cell_type": "markdown",
      "source": [
        "✅ regresión lineal,\n",
        "<br>\n",
        "✅ árbol de regresión,\n",
        "<br>\n",
        "✅ evaluación y selección de modelos de regresión\n",
        "\n"
      ],
      "metadata": {
        "id": "W6TZAECI3-FE"
      }
    },
    {
      "cell_type": "markdown",
      "source": [
        " ## **<font color=\"DarkBlue\"> 6 - Modelos de Clasificación</font>**"
      ],
      "metadata": {
        "id": "VOCMQsuA0JFD"
      }
    },
    {
      "cell_type": "markdown",
      "source": [
        "✅ clasificación binaria y multiclase,\n",
        "<br>\n",
        "✅ regresión logística,\n",
        "<br>\n",
        "✅ árbol de clasificación,\n",
        "<br>\n",
        "✅ evaluación y selección de modelos de clasificación\n",
        "\n",
        "\n"
      ],
      "metadata": {
        "id": "S46cuvZq3-yc"
      }
    },
    {
      "cell_type": "markdown",
      "source": [
        " ## **<font color=\"DarkBlue\"> 7 - Modelos de Clustering</font>**"
      ],
      "metadata": {
        "id": "4TOO-b7d0Qmh"
      }
    },
    {
      "cell_type": "markdown",
      "source": [
        "✅ k-means,\n",
        "<br>\n",
        "✅ evaluación de la calidad de los clusters\n",
        "\n"
      ],
      "metadata": {
        "id": "HR8m4hTN3_e_"
      }
    },
    {
      "cell_type": "markdown",
      "source": [
        " ## **<font color=\"DarkBlue\"> 8 - Métricas</font>**"
      ],
      "metadata": {
        "id": "LzSU7rgg0bj6"
      }
    },
    {
      "cell_type": "markdown",
      "source": [
        "✅ accuracy,\n",
        "<br>\n",
        "✅ precision,\n",
        "<br>\n",
        "✅ recall,\n",
        "<br>\n",
        "✅ f1-score,\n",
        "<br>\n",
        "✅ matriz de confusión,\n",
        "<br>\n",
        "✅ curva ROC y área debajo de la curva (AUC)\n",
        "\n",
        "\n"
      ],
      "metadata": {
        "id": "SIXFhEA44AoF"
      }
    },
    {
      "cell_type": "markdown",
      "source": [
        " # **<font color=\"DarkBlue\"> 💗 Usando Pandas, Plotly y Scikit-learn...</font>**"
      ],
      "metadata": {
        "id": "tct7sbqv-kSO"
      }
    },
    {
      "cell_type": "markdown",
      "source": [
        " ## **<font color=\"DarkBlue\">Carga de bibliotecas necesarias</font>**"
      ],
      "metadata": {
        "id": "g3lmh98hxnoA"
      }
    },
    {
      "cell_type": "code",
      "source": [
        "import pandas as pd\n",
        "import plotly.express as px\n",
        "from sklearn.preprocessing import StandardScaler\n",
        "from sklearn.model_selection import train_test_split\n",
        "from sklearn.linear_model import LinearRegression\n",
        "from sklearn.pipeline import make_pipeline"
      ],
      "metadata": {
        "id": "0mPbEIm--n0D"
      },
      "execution_count": null,
      "outputs": []
    },
    {
      "cell_type": "markdown",
      "source": [
        "Las bibliotecas que utilizamos, en el código anterior:\n",
        "\n",
        "1. `import pandas as pd`: En esta línea, estás importando la biblioteca Pandas y la estás nombrando como \"pd\". Pandas es una biblioteca ampliamente utilizada para el análisis de datos en Python. Proporciona estructuras de datos y funciones que facilitan la manipulación y el análisis de datos, especialmente para datos tabulares.\n",
        "\n",
        "2. `import plotly.express as px`: Aquí estás importando un módulo específico llamado \"express\" de la biblioteca Plotly y lo estás nombrando como \"px\". Plotly es una biblioteca que se utiliza para crear visualizaciones interactivas en Python. El módulo \"express\" proporciona una interfaz simple y rápida para crear gráficos y visualizaciones de datos.\n",
        "\n",
        "3. `from sklearn.preprocessing import StandardScaler`: Estás importando la clase \"StandardScaler\" del módulo \"preprocessing\" de la biblioteca scikit-learn (sklearn). El escalado estándar es una técnica común en el preprocesamiento de datos en la que se transforman los datos para que tengan una media de 0 y una desviación estándar de 1. Esto es útil para algoritmos de aprendizaje automático que son sensibles a la escala de las características.\n",
        "\n",
        "4. `from sklearn.model_selection import train_test_split`: Aquí estás importando la función \"train_test_split\" del módulo \"model_selection\" de sklearn. Esta función se utiliza para dividir un conjunto de datos en dos partes: un conjunto de entrenamiento y un conjunto de prueba. Esto es fundamental para evaluar el rendimiento de los modelos de aprendizaje automático en datos no vistos.\n",
        "\n",
        "5. `from sklearn.linear_model import LinearRegression`: Estás importando la clase \"LinearRegression\" del módulo \"linear_model\" de sklearn. La regresión lineal es un algoritmo de aprendizaje automático utilizado para modelar la relación entre una variable dependiente y una o más variables independientes. Es especialmente útil cuando se busca una relación lineal entre las variables.\n",
        "\n",
        "6. `from sklearn.pipeline import make_pipeline`: Aquí estás importando la función \"make_pipeline\" del módulo \"pipeline\" de sklearn. Los tuberías (pipelines) son una forma eficiente de encadenar varios pasos en un flujo de trabajo de aprendizaje automático. La función \"make_pipeline\" crea una tubería en la que los datos pasan secuencialmente a través de una serie de pasos, como el preprocesamiento y la estimación del modelo.\n",
        "\n",
        "Estas líneas de código son esenciales para construir y entrenar modelos de aprendizaje automático utilizando la biblioteca scikit-learn y para realizar análisis y visualizaciones de datos con Pandas y Plotly."
      ],
      "metadata": {
        "id": "crLqS4M3-5t3"
      }
    },
    {
      "cell_type": "markdown",
      "source": [
        "## **<font color=\"DarkBlue\">Conjunto de Datos**"
      ],
      "metadata": {
        "id": "0wGCHjv-x7Dj"
      }
    },
    {
      "cell_type": "code",
      "source": [
        "url = \"https://raw.githubusercontent.com/cristiandarioortegayubro/BDS/main/datasets/Ecommerce_Customers.csv\"\n",
        "datos = pd.read_csv(url)"
      ],
      "metadata": {
        "id": "jf2hgMuHx-jU"
      },
      "execution_count": null,
      "outputs": []
    },
    {
      "cell_type": "markdown",
      "source": [
        "<p align=\"justify\">\n",
        "Es una empresa de comercio electrónico con sede en la ciudad de Nueva York que vende ropa en línea, pero también tienen sesiones de asesoramiento sobre estilo y ropa en la tienda. Los clientes que vienen a la tienda, tienen sesiones/reuniones con un estilista personal, luego pueden ordenar a través de una aplicación móvil o sitio web la ropa que desean.\n",
        "<br>\n",
        "<br>\n",
        "Intentan identificar si debe enfocarse en mejorar su experiencia de aplicación movil o en su página web.\n",
        "<br>\n",
        "<br>\n",
        "Este es un conjunto de datos de los clientes de la empresa. El cual tiene información del cliente, como correo electrónico, dirección postal y su color de avatar. También tiene columnas de valores numéricos:\n",
        "\n",
        "* **Avg. Session Length**: duración promedio de sesiones de asesoramiento de estilo en la tienda.\n",
        "\n",
        "* **Time on App**: tiempo promedio de permanencia en la aplicación en minutos.\n",
        "\n",
        "* **Time on Website**: tiempo promedio de permanencia en el sitio web en minutos.\n",
        "\n",
        "* **Length of Membership**: cuántos años ha sido miembro el cliente.\n",
        "\n",
        "* **Yearly Amount Spent**: monto anual gastado en la plataforma.\n"
      ],
      "metadata": {
        "id": "9cKJmcYdyZc2"
      }
    },
    {
      "cell_type": "markdown",
      "source": [
        "## **<font color=\"DarkBlue\">Análisis y Transformación de Datos**"
      ],
      "metadata": {
        "id": "dxLstAMiyso8"
      }
    },
    {
      "cell_type": "code",
      "source": [
        "datos = datos.drop([\"Avatar\",\"Email\",\"Address\"], axis=1)"
      ],
      "metadata": {
        "id": "yveQcZ70ypcp"
      },
      "execution_count": null,
      "outputs": []
    },
    {
      "cell_type": "markdown",
      "source": [
        "<p align=\"justify\">\n",
        "En esta línea de código, se está utilizando el método `drop()` de Pandas para eliminar columnas específicas de un DataFrame llamado \"datos\". Aquí hay una explicación paso a paso:\n",
        "\n",
        "- `datos`: Este es el nombre del DataFrame en el que estás trabajando. Supongo que previamente has cargado o creado un DataFrame llamado \"datos\".\n",
        "\n",
        "- `.drop()`: Este es el método de Pandas que se utiliza para eliminar elementos (filas o columnas) de un DataFrame.\n",
        "\n",
        "- `[\"Avatar\", \"Email\", \"Address\"]`: Aquí se proporciona una lista de etiquetas de columnas que deseas eliminar. En este caso, las columnas que se eliminarán son \"Avatar\", \"Email\" y \"Address\".\n",
        "\n",
        "- `axis=1`: Este argumento se utiliza para indicar que estás eliminando columnas en lugar de filas. El valor `axis=1` se refiere al eje horizontal (columnas), mientras que `axis=0` se refiere al eje vertical (filas).\n",
        "\n",
        "<p align=\"justify\">\n",
        "En resumen, la línea de código está eliminando las columnas \"Avatar\", \"Email\" y \"Address\" del DataFrame \"datos\". Esto puede ser útil cuando deseas eliminar características que no son relevantes para tu análisis o modelado de datos."
      ],
      "metadata": {
        "id": "LgDmNXwr_Wr_"
      }
    },
    {
      "cell_type": "code",
      "source": [
        "# Renombramos columnas:\n",
        "datos.rename(columns={\"Avg. Session Length\": \"Tiempo_sesión\",\n",
        "                      \"Time on App\":\"Tiempo_app\",\n",
        "                      \"Time on Website\":\"Tiempo_web\",\n",
        "                      \"Length of Membership\":\"Años_miembro\",\n",
        "                      \"Yearly Amount Spent\":\"Gasto_anual\"},inplace=True)"
      ],
      "metadata": {
        "id": "JsesNhbky3kj"
      },
      "execution_count": null,
      "outputs": []
    },
    {
      "cell_type": "markdown",
      "source": [
        "<p align=\"justify\">\n",
        "Este fragmento de código se utiliza para cambiar los nombres de las columnas en un DataFrame de Pandas. A continuación, definimos lo que está sucediendo:\n",
        "\n",
        "- `datos`: Este es el DataFrame en el que deseas renombrar las columnas.\n",
        "\n",
        "- `.rename(columns={...}, inplace=True)`: Este es el método que se utiliza para renombrar las columnas. Se pasa un diccionario como argumento para especificar los cambios de nombres de las columnas. El parámetro `inplace=True` indica que los cambios deben realizarse directamente en el DataFrame \"datos\", sin necesidad de asignar el resultado a una nueva variable.\n",
        "\n",
        "Dentro del diccionario proporcionado, las claves son los nombres de las columnas que deseas cambiar, y los valores son los nuevos nombres que deseas asignarles. Aquí está el mapeo que se está haciendo en este caso:\n",
        "\n",
        "- `\"Avg. Session Length\"` se renombra como `\"Tiempo_sesión\"`\n",
        "- `\"Time on App\"` se renombra como `\"Tiempo_app\"`\n",
        "- `\"Time on Website\"` se renombra como `\"Tiempo_web\"`\n",
        "- `\"Length of Membership\"` se renombra como `\"Años_miembro\"`\n",
        "- `\"Yearly Amount Spent\"` se renombra como `\"Gasto_anual\"`\n",
        "\n",
        "<p align=\"justify\">\n",
        "En resumen, este código cambia los nombres de las columnas en el DataFrame \"datos\" según el mapeo especificado en el diccionario y lo hace directamente en el mismo DataFrame debido al parámetro `inplace=True`."
      ],
      "metadata": {
        "id": "sk6Dzm5t_hG1"
      }
    },
    {
      "cell_type": "markdown",
      "source": [
        "## **<font color=\"DarkBlue\">Matriz de Correlación**"
      ],
      "metadata": {
        "id": "_3hucsiozEpq"
      }
    },
    {
      "cell_type": "code",
      "source": [
        "corr_matrix = round(datos.corr(),3)\n",
        "px.imshow(corr_matrix,\n",
        "          title = \"Matriz de Correlacion\",\n",
        "          text_auto=True,\n",
        "          labels={\"color\":\"Indice\"})"
      ],
      "metadata": {
        "colab": {
          "base_uri": "https://localhost:8080/",
          "height": 562
        },
        "id": "rx8ND_DGzIrX",
        "outputId": "7a54f025-7b8e-46f9-e3a2-a3f0b3941138"
      },
      "execution_count": null,
      "outputs": [
        {
          "output_type": "display_data",
          "data": {
            "text/html": [
              "<html>\n",
              "<head><meta charset=\"utf-8\" /></head>\n",
              "<body>\n",
              "    <div>            <script src=\"https://cdnjs.cloudflare.com/ajax/libs/mathjax/2.7.5/MathJax.js?config=TeX-AMS-MML_SVG\"></script><script type=\"text/javascript\">if (window.MathJax && window.MathJax.Hub && window.MathJax.Hub.Config) {window.MathJax.Hub.Config({SVG: {font: \"STIX-Web\"}});}</script>                <script type=\"text/javascript\">window.PlotlyConfig = {MathJaxConfig: 'local'};</script>\n",
              "        <script charset=\"utf-8\" src=\"https://cdn.plot.ly/plotly-2.24.1.min.js\"></script>                <div id=\"9efd3c84-6a1b-4c8d-aeff-2e48bfe9bbeb\" class=\"plotly-graph-div\" style=\"height:525px; width:100%;\"></div>            <script type=\"text/javascript\">                                    window.PLOTLYENV=window.PLOTLYENV || {};                                    if (document.getElementById(\"9efd3c84-6a1b-4c8d-aeff-2e48bfe9bbeb\")) {                    Plotly.newPlot(                        \"9efd3c84-6a1b-4c8d-aeff-2e48bfe9bbeb\",                        [{\"coloraxis\":\"coloraxis\",\"name\":\"0\",\"texttemplate\":\"%{z}\",\"x\":[\"Tiempo_sesi\\u00f3n\",\"Tiempo_app\",\"Tiempo_web\",\"A\\u00f1os_miembro\",\"Gasto_anual\"],\"y\":[\"Tiempo_sesi\\u00f3n\",\"Tiempo_app\",\"Tiempo_web\",\"A\\u00f1os_miembro\",\"Gasto_anual\"],\"z\":[[1.0,-0.028,-0.035,0.06,0.355],[-0.028,1.0,0.082,0.029,0.499],[-0.035,0.082,1.0,-0.048,-0.003],[0.06,0.029,-0.048,1.0,0.809],[0.355,0.499,-0.003,0.809,1.0]],\"type\":\"heatmap\",\"xaxis\":\"x\",\"yaxis\":\"y\",\"hovertemplate\":\"x: %{x}\\u003cbr\\u003ey: %{y}\\u003cbr\\u003eIndice: %{z}\\u003cextra\\u003e\\u003c\\u002fextra\\u003e\"}],                        {\"template\":{\"data\":{\"histogram2dcontour\":[{\"type\":\"histogram2dcontour\",\"colorbar\":{\"outlinewidth\":0,\"ticks\":\"\"},\"colorscale\":[[0.0,\"#0d0887\"],[0.1111111111111111,\"#46039f\"],[0.2222222222222222,\"#7201a8\"],[0.3333333333333333,\"#9c179e\"],[0.4444444444444444,\"#bd3786\"],[0.5555555555555556,\"#d8576b\"],[0.6666666666666666,\"#ed7953\"],[0.7777777777777778,\"#fb9f3a\"],[0.8888888888888888,\"#fdca26\"],[1.0,\"#f0f921\"]]}],\"choropleth\":[{\"type\":\"choropleth\",\"colorbar\":{\"outlinewidth\":0,\"ticks\":\"\"}}],\"histogram2d\":[{\"type\":\"histogram2d\",\"colorbar\":{\"outlinewidth\":0,\"ticks\":\"\"},\"colorscale\":[[0.0,\"#0d0887\"],[0.1111111111111111,\"#46039f\"],[0.2222222222222222,\"#7201a8\"],[0.3333333333333333,\"#9c179e\"],[0.4444444444444444,\"#bd3786\"],[0.5555555555555556,\"#d8576b\"],[0.6666666666666666,\"#ed7953\"],[0.7777777777777778,\"#fb9f3a\"],[0.8888888888888888,\"#fdca26\"],[1.0,\"#f0f921\"]]}],\"heatmap\":[{\"type\":\"heatmap\",\"colorbar\":{\"outlinewidth\":0,\"ticks\":\"\"},\"colorscale\":[[0.0,\"#0d0887\"],[0.1111111111111111,\"#46039f\"],[0.2222222222222222,\"#7201a8\"],[0.3333333333333333,\"#9c179e\"],[0.4444444444444444,\"#bd3786\"],[0.5555555555555556,\"#d8576b\"],[0.6666666666666666,\"#ed7953\"],[0.7777777777777778,\"#fb9f3a\"],[0.8888888888888888,\"#fdca26\"],[1.0,\"#f0f921\"]]}],\"heatmapgl\":[{\"type\":\"heatmapgl\",\"colorbar\":{\"outlinewidth\":0,\"ticks\":\"\"},\"colorscale\":[[0.0,\"#0d0887\"],[0.1111111111111111,\"#46039f\"],[0.2222222222222222,\"#7201a8\"],[0.3333333333333333,\"#9c179e\"],[0.4444444444444444,\"#bd3786\"],[0.5555555555555556,\"#d8576b\"],[0.6666666666666666,\"#ed7953\"],[0.7777777777777778,\"#fb9f3a\"],[0.8888888888888888,\"#fdca26\"],[1.0,\"#f0f921\"]]}],\"contourcarpet\":[{\"type\":\"contourcarpet\",\"colorbar\":{\"outlinewidth\":0,\"ticks\":\"\"}}],\"contour\":[{\"type\":\"contour\",\"colorbar\":{\"outlinewidth\":0,\"ticks\":\"\"},\"colorscale\":[[0.0,\"#0d0887\"],[0.1111111111111111,\"#46039f\"],[0.2222222222222222,\"#7201a8\"],[0.3333333333333333,\"#9c179e\"],[0.4444444444444444,\"#bd3786\"],[0.5555555555555556,\"#d8576b\"],[0.6666666666666666,\"#ed7953\"],[0.7777777777777778,\"#fb9f3a\"],[0.8888888888888888,\"#fdca26\"],[1.0,\"#f0f921\"]]}],\"surface\":[{\"type\":\"surface\",\"colorbar\":{\"outlinewidth\":0,\"ticks\":\"\"},\"colorscale\":[[0.0,\"#0d0887\"],[0.1111111111111111,\"#46039f\"],[0.2222222222222222,\"#7201a8\"],[0.3333333333333333,\"#9c179e\"],[0.4444444444444444,\"#bd3786\"],[0.5555555555555556,\"#d8576b\"],[0.6666666666666666,\"#ed7953\"],[0.7777777777777778,\"#fb9f3a\"],[0.8888888888888888,\"#fdca26\"],[1.0,\"#f0f921\"]]}],\"mesh3d\":[{\"type\":\"mesh3d\",\"colorbar\":{\"outlinewidth\":0,\"ticks\":\"\"}}],\"scatter\":[{\"fillpattern\":{\"fillmode\":\"overlay\",\"size\":10,\"solidity\":0.2},\"type\":\"scatter\"}],\"parcoords\":[{\"type\":\"parcoords\",\"line\":{\"colorbar\":{\"outlinewidth\":0,\"ticks\":\"\"}}}],\"scatterpolargl\":[{\"type\":\"scatterpolargl\",\"marker\":{\"colorbar\":{\"outlinewidth\":0,\"ticks\":\"\"}}}],\"bar\":[{\"error_x\":{\"color\":\"#2a3f5f\"},\"error_y\":{\"color\":\"#2a3f5f\"},\"marker\":{\"line\":{\"color\":\"#E5ECF6\",\"width\":0.5},\"pattern\":{\"fillmode\":\"overlay\",\"size\":10,\"solidity\":0.2}},\"type\":\"bar\"}],\"scattergeo\":[{\"type\":\"scattergeo\",\"marker\":{\"colorbar\":{\"outlinewidth\":0,\"ticks\":\"\"}}}],\"scatterpolar\":[{\"type\":\"scatterpolar\",\"marker\":{\"colorbar\":{\"outlinewidth\":0,\"ticks\":\"\"}}}],\"histogram\":[{\"marker\":{\"pattern\":{\"fillmode\":\"overlay\",\"size\":10,\"solidity\":0.2}},\"type\":\"histogram\"}],\"scattergl\":[{\"type\":\"scattergl\",\"marker\":{\"colorbar\":{\"outlinewidth\":0,\"ticks\":\"\"}}}],\"scatter3d\":[{\"type\":\"scatter3d\",\"line\":{\"colorbar\":{\"outlinewidth\":0,\"ticks\":\"\"}},\"marker\":{\"colorbar\":{\"outlinewidth\":0,\"ticks\":\"\"}}}],\"scattermapbox\":[{\"type\":\"scattermapbox\",\"marker\":{\"colorbar\":{\"outlinewidth\":0,\"ticks\":\"\"}}}],\"scatterternary\":[{\"type\":\"scatterternary\",\"marker\":{\"colorbar\":{\"outlinewidth\":0,\"ticks\":\"\"}}}],\"scattercarpet\":[{\"type\":\"scattercarpet\",\"marker\":{\"colorbar\":{\"outlinewidth\":0,\"ticks\":\"\"}}}],\"carpet\":[{\"aaxis\":{\"endlinecolor\":\"#2a3f5f\",\"gridcolor\":\"white\",\"linecolor\":\"white\",\"minorgridcolor\":\"white\",\"startlinecolor\":\"#2a3f5f\"},\"baxis\":{\"endlinecolor\":\"#2a3f5f\",\"gridcolor\":\"white\",\"linecolor\":\"white\",\"minorgridcolor\":\"white\",\"startlinecolor\":\"#2a3f5f\"},\"type\":\"carpet\"}],\"table\":[{\"cells\":{\"fill\":{\"color\":\"#EBF0F8\"},\"line\":{\"color\":\"white\"}},\"header\":{\"fill\":{\"color\":\"#C8D4E3\"},\"line\":{\"color\":\"white\"}},\"type\":\"table\"}],\"barpolar\":[{\"marker\":{\"line\":{\"color\":\"#E5ECF6\",\"width\":0.5},\"pattern\":{\"fillmode\":\"overlay\",\"size\":10,\"solidity\":0.2}},\"type\":\"barpolar\"}],\"pie\":[{\"automargin\":true,\"type\":\"pie\"}]},\"layout\":{\"autotypenumbers\":\"strict\",\"colorway\":[\"#636efa\",\"#EF553B\",\"#00cc96\",\"#ab63fa\",\"#FFA15A\",\"#19d3f3\",\"#FF6692\",\"#B6E880\",\"#FF97FF\",\"#FECB52\"],\"font\":{\"color\":\"#2a3f5f\"},\"hovermode\":\"closest\",\"hoverlabel\":{\"align\":\"left\"},\"paper_bgcolor\":\"white\",\"plot_bgcolor\":\"#E5ECF6\",\"polar\":{\"bgcolor\":\"#E5ECF6\",\"angularaxis\":{\"gridcolor\":\"white\",\"linecolor\":\"white\",\"ticks\":\"\"},\"radialaxis\":{\"gridcolor\":\"white\",\"linecolor\":\"white\",\"ticks\":\"\"}},\"ternary\":{\"bgcolor\":\"#E5ECF6\",\"aaxis\":{\"gridcolor\":\"white\",\"linecolor\":\"white\",\"ticks\":\"\"},\"baxis\":{\"gridcolor\":\"white\",\"linecolor\":\"white\",\"ticks\":\"\"},\"caxis\":{\"gridcolor\":\"white\",\"linecolor\":\"white\",\"ticks\":\"\"}},\"coloraxis\":{\"colorbar\":{\"outlinewidth\":0,\"ticks\":\"\"}},\"colorscale\":{\"sequential\":[[0.0,\"#0d0887\"],[0.1111111111111111,\"#46039f\"],[0.2222222222222222,\"#7201a8\"],[0.3333333333333333,\"#9c179e\"],[0.4444444444444444,\"#bd3786\"],[0.5555555555555556,\"#d8576b\"],[0.6666666666666666,\"#ed7953\"],[0.7777777777777778,\"#fb9f3a\"],[0.8888888888888888,\"#fdca26\"],[1.0,\"#f0f921\"]],\"sequentialminus\":[[0.0,\"#0d0887\"],[0.1111111111111111,\"#46039f\"],[0.2222222222222222,\"#7201a8\"],[0.3333333333333333,\"#9c179e\"],[0.4444444444444444,\"#bd3786\"],[0.5555555555555556,\"#d8576b\"],[0.6666666666666666,\"#ed7953\"],[0.7777777777777778,\"#fb9f3a\"],[0.8888888888888888,\"#fdca26\"],[1.0,\"#f0f921\"]],\"diverging\":[[0,\"#8e0152\"],[0.1,\"#c51b7d\"],[0.2,\"#de77ae\"],[0.3,\"#f1b6da\"],[0.4,\"#fde0ef\"],[0.5,\"#f7f7f7\"],[0.6,\"#e6f5d0\"],[0.7,\"#b8e186\"],[0.8,\"#7fbc41\"],[0.9,\"#4d9221\"],[1,\"#276419\"]]},\"xaxis\":{\"gridcolor\":\"white\",\"linecolor\":\"white\",\"ticks\":\"\",\"title\":{\"standoff\":15},\"zerolinecolor\":\"white\",\"automargin\":true,\"zerolinewidth\":2},\"yaxis\":{\"gridcolor\":\"white\",\"linecolor\":\"white\",\"ticks\":\"\",\"title\":{\"standoff\":15},\"zerolinecolor\":\"white\",\"automargin\":true,\"zerolinewidth\":2},\"scene\":{\"xaxis\":{\"backgroundcolor\":\"#E5ECF6\",\"gridcolor\":\"white\",\"linecolor\":\"white\",\"showbackground\":true,\"ticks\":\"\",\"zerolinecolor\":\"white\",\"gridwidth\":2},\"yaxis\":{\"backgroundcolor\":\"#E5ECF6\",\"gridcolor\":\"white\",\"linecolor\":\"white\",\"showbackground\":true,\"ticks\":\"\",\"zerolinecolor\":\"white\",\"gridwidth\":2},\"zaxis\":{\"backgroundcolor\":\"#E5ECF6\",\"gridcolor\":\"white\",\"linecolor\":\"white\",\"showbackground\":true,\"ticks\":\"\",\"zerolinecolor\":\"white\",\"gridwidth\":2}},\"shapedefaults\":{\"line\":{\"color\":\"#2a3f5f\"}},\"annotationdefaults\":{\"arrowcolor\":\"#2a3f5f\",\"arrowhead\":0,\"arrowwidth\":1},\"geo\":{\"bgcolor\":\"white\",\"landcolor\":\"#E5ECF6\",\"subunitcolor\":\"white\",\"showland\":true,\"showlakes\":true,\"lakecolor\":\"white\"},\"title\":{\"x\":0.05},\"mapbox\":{\"style\":\"light\"}}},\"xaxis\":{\"anchor\":\"y\",\"domain\":[0.0,1.0],\"scaleanchor\":\"y\",\"constrain\":\"domain\"},\"yaxis\":{\"anchor\":\"x\",\"domain\":[0.0,1.0],\"autorange\":\"reversed\",\"constrain\":\"domain\"},\"coloraxis\":{\"colorbar\":{\"title\":{\"text\":\"Indice\"}},\"colorscale\":[[0.0,\"#0d0887\"],[0.1111111111111111,\"#46039f\"],[0.2222222222222222,\"#7201a8\"],[0.3333333333333333,\"#9c179e\"],[0.4444444444444444,\"#bd3786\"],[0.5555555555555556,\"#d8576b\"],[0.6666666666666666,\"#ed7953\"],[0.7777777777777778,\"#fb9f3a\"],[0.8888888888888888,\"#fdca26\"],[1.0,\"#f0f921\"]]},\"title\":{\"text\":\"Matriz de Correlacion\"}},                        {\"responsive\": true}                    ).then(function(){\n",
              "                            \n",
              "var gd = document.getElementById('9efd3c84-6a1b-4c8d-aeff-2e48bfe9bbeb');\n",
              "var x = new MutationObserver(function (mutations, observer) {{\n",
              "        var display = window.getComputedStyle(gd).display;\n",
              "        if (!display || display === 'none') {{\n",
              "            console.log([gd, 'removed!']);\n",
              "            Plotly.purge(gd);\n",
              "            observer.disconnect();\n",
              "        }}\n",
              "}});\n",
              "\n",
              "// Listen for the removal of the full notebook cells\n",
              "var notebookContainer = gd.closest('#notebook-container');\n",
              "if (notebookContainer) {{\n",
              "    x.observe(notebookContainer, {childList: true});\n",
              "}}\n",
              "\n",
              "// Listen for the clearing of the current output cell\n",
              "var outputEl = gd.closest('.output');\n",
              "if (outputEl) {{\n",
              "    x.observe(outputEl, {childList: true});\n",
              "}}\n",
              "\n",
              "                        })                };                            </script>        </div>\n",
              "</body>\n",
              "</html>"
            ]
          },
          "metadata": {}
        }
      ]
    },
    {
      "cell_type": "markdown",
      "source": [
        "<p align=\"justify\">\n",
        "Este código se utiliza para calcular y visualizar una matriz de correlación de las variables en un DataFrame utilizando la biblioteca Plotly Express. A continuación, se detalla lo que está sucediendo:\n",
        "\n",
        "- `corr_matrix = round(datos.corr(), 3)`: En esta línea, estás calculando la matriz de correlación de las variables en el DataFrame \"datos\" utilizando el método `.corr()` de Pandas. La función `round()` se utiliza para redondear los valores de la matriz de correlación a tres decimales. La matriz de correlación muestra cómo las variables numéricas en el DataFrame se relacionan entre sí, con valores que van desde -1 (correlación negativa perfecta) hasta 1 (correlación positiva perfecta).\n",
        "\n",
        "- `px.imshow(corr_matrix, title=\"Matriz de Correlacion\", text_auto=True, labels={\"color\": \"Indice\"})`: Aquí estás utilizando Plotly Express para crear una visualización de la matriz de correlación. `px.imshow()` se utiliza para crear un mapa de calor a partir de los datos proporcionados. Los argumentos son los siguientes:\n",
        "  - `corr_matrix`: Es la matriz de correlación que calculaste previamente.\n",
        "  - `title=\"Matriz de Correlacion\"`: Establece el título de la visualización.\n",
        "  - `text_auto=True`: Esto hace que los valores de correlación se muestren automáticamente en cada celda del mapa de calor.\n",
        "  - `labels={\"color\": \"Indice\"}`: Etiqueta el eje de color del mapa de calor como \"Índice\", lo que indica que representa los valores de correlación.\n",
        "\n",
        "<p align=\"justify\">\n",
        "En resumen, este código te permite calcular y visualizar de manera gráfica la matriz de correlación entre las variables numéricas en el DataFrame \"datos\". La visualización muestra patrones de correlación entre las variables, lo que puede ayudarte a comprender cómo se relacionan entre sí y a tomar decisiones informadas en análisis de datos y modelado."
      ],
      "metadata": {
        "id": "vov3-jnm_5xj"
      }
    },
    {
      "cell_type": "markdown",
      "source": [
        "<p align=\"justify\">\n",
        "A primera vista, se evidencia una relación fuerte entre la variable explicativa <code>Años_miembro</code> y la variable <code>Gasto_anual</code>. Asimismo, se puede apreciar una relación moderada entre la variable explicativa <code>Tiempo_app</code> y la variable <code>Gasto_anual</code>. La relación entre <code>Tiempo_web</code> y <code>Gasto_anual</code> es nula.\n",
        "<br>\n",
        "<br>\n",
        "No obstante, no se observa una correlación significativa entre las variables explicativas entre sí. Esto indica que las variables explicativas son <b>independientes</b> entre sí y no hay una relación directa o sistemática entre ellas en el conjunto de datos analizado. Cada una de ellas puede proporcionar información única y no redundante para explicar la variable respuesta (<code>Gasto_anual</code>)"
      ],
      "metadata": {
        "id": "nUhxZ_7mzcWZ"
      }
    },
    {
      "cell_type": "markdown",
      "source": [
        "## **<font color=\"DarkBlue\">Gráficos de Dispersión de cada variable explicativa**"
      ],
      "metadata": {
        "id": "uVBly_nNz2l-"
      }
    },
    {
      "cell_type": "code",
      "source": [
        "X = datos[['Tiempo_sesión', 'Tiempo_app','Tiempo_web','Años_miembro']]\n",
        "y = datos['Gasto_anual']"
      ],
      "metadata": {
        "id": "baSw4oWyz6qh"
      },
      "execution_count": null,
      "outputs": []
    },
    {
      "cell_type": "code",
      "source": [
        "for i in X.columns:\n",
        "  fig = px.scatter(datos,\n",
        "             x = i,\n",
        "             y = y,\n",
        "             trendline=\"ols\",\n",
        "             trendline_color_override=\"orange\",\n",
        "             template = \"plotly_dark\",\n",
        "             title = f\"La variable {i}\")\n",
        "  fig.show()"
      ],
      "metadata": {
        "colab": {
          "base_uri": "https://localhost:8080/",
          "height": 1000
        },
        "id": "3QqCJOBx0Gle",
        "outputId": "8bb87adc-e9a1-427b-8eb1-446500de451f"
      },
      "execution_count": null,
      "outputs": [
        {
          "output_type": "display_data",
          "data": {
            "text/html": [
              "<html>\n",
              "<head><meta charset=\"utf-8\" /></head>\n",
              "<body>\n",
              "    <div>            <script src=\"https://cdnjs.cloudflare.com/ajax/libs/mathjax/2.7.5/MathJax.js?config=TeX-AMS-MML_SVG\"></script><script type=\"text/javascript\">if (window.MathJax && window.MathJax.Hub && window.MathJax.Hub.Config) {window.MathJax.Hub.Config({SVG: {font: \"STIX-Web\"}});}</script>                <script type=\"text/javascript\">window.PlotlyConfig = {MathJaxConfig: 'local'};</script>\n",
              "        <script charset=\"utf-8\" src=\"https://cdn.plot.ly/plotly-2.24.1.min.js\"></script>                <div id=\"65b7d79a-1313-4cf5-b1ca-65fada4febe2\" class=\"plotly-graph-div\" style=\"height:525px; width:100%;\"></div>            <script type=\"text/javascript\">                                    window.PLOTLYENV=window.PLOTLYENV || {};                                    if (document.getElementById(\"65b7d79a-1313-4cf5-b1ca-65fada4febe2\")) {                    Plotly.newPlot(                        \"65b7d79a-1313-4cf5-b1ca-65fada4febe2\",                        [{\"hovertemplate\":\"Tiempo_sesi\\u00f3n=%{x}\\u003cbr\\u003eGasto_anual=%{y}\\u003cextra\\u003e\\u003c\\u002fextra\\u003e\",\"legendgroup\":\"\",\"marker\":{\"color\":\"#636efa\",\"symbol\":\"circle\"},\"mode\":\"markers\",\"name\":\"\",\"orientation\":\"v\",\"showlegend\":false,\"x\":[34.49726772511229,31.92627202636016,33.000914755642675,34.30555662975554,33.33067252364639,33.87103787934198,32.02159550138701,32.739142938380326,33.98777289568564,31.93654861844892,33.99257277495374,33.87936082480498,29.532428967057943,33.19033404372265,32.38797585315387,30.737720372628186,32.12538689728784,32.33889932306719,32.187812045932155,32.61785606282345,32.91278511115979,33.50308725671972,31.531604482572902,32.903250973372074,34.50755099852662,33.02933195350689,33.54123131310037,32.33598963740772,33.11020505771776,33.10543794246846,33.24190043446127,33.46105629551836,32.175501237949376,32.72836000313375,32.82030994541536,33.61603789276768,31.72165236050904,32.8653271748764,32.74936818112046,32.56723048027511,32.07054622092545,33.01954798572344,33.79203907501622,32.89398062181101,32.04448612744043,34.555767994657494,34.56455770619167,32.726784597863976,33.117218732994786,31.66104982274608,33.25633546983111,33.90022441401576,34.18777482695728,33.76206923913139,34.390163664343326,33.92529660119954,32.68822929602445,34.3018702154015,32.843930222655175,33.75499472831927,33.879784289702826,33.07653560709715,32.22729913636721,32.789772618310714,32.77260992960089,34.374258045247466,33.0787172146689,32.80522040097184,32.43075793005128,32.179099972602344,33.15417578832186,34.33589583979252,32.38625185558597,32.80869759268502,33.87974496798125,32.04983939045731,33.55520742143224,33.14207932732039,32.59718265981362,33.167136876950536,31.514737857801983,34.59402114954151,33.50136982210362,32.40237101796123,34.65548567957987,31.809300316679188,33.877779300122526,34.447871436480774,31.956300560523367,32.6055836415705,32.49144660312287,33.616018552595435,33.47160052695171,33.71065305912268,32.19772379742183,32.46121244511541,33.790387206952126,34.18382052058911,32.288666909138946,33.82635200907213,32.49839307472945,31.88540629991176,32.425697279750864,33.43782956230187,31.3895854806644,33.46869994900622,32.291756100263015,32.0637746203137,33.15569970295208,33.35687434475742,31.85307480174657,32.01230076824544,32.388451625505326,32.65318145878372,32.93133644189654,33.235606500693855,33.92579489547876,33.05926409135838,32.401731827354666,33.88994100692418,34.56938121869345,33.70160519868888,33.26833021768797,31.358477192437007,33.01479221522831,31.57613197132227,32.657268594778124,34.709323296131586,34.5366591798774,32.771715009701,33.700400456822415,32.43977025334846,34.31216699740784,32.45517628513712,33.540976791782235,33.358398281424215,32.686129256115166,34.558294609144475,33.5477479443078,31.954903856634843,31.0662181616376,31.851253128608366,32.609282635640405,32.11511906601424,33.924624809512075,33.477190403003306,32.116400120928155,32.25590120444978,32.69239221858063,32.38473265900513,34.3387293850918,32.88710464561531,32.51021799444433,31.945395748344524,36.13966248879052,32.44952156114242,32.29464154956504,34.60331111938746,33.5985203185533,34.56868084571511,32.83810016055479,33.50370517913956,33.30188161463884,30.879484344127498,33.15425475700075,32.04780097886789,33.63080076787103,34.04663802802127,33.644177000440536,32.65462160732388,33.42874704259606,31.86483254809873,34.48238804881123,32.529768731474434,33.432231396262715,33.30857161628053,32.33263706834172,34.71345123397026,32.635877998189926,33.07570303157222,32.23014911593311,34.142863372870714,32.4971984614607,33.12239998431699,33.088529366211525,32.53379686092211,32.48426048276214,32.5434591695977,32.28312306113335,32.200798643965314,34.71331650656199,32.71251232693568,33.69489765096749,31.57020082932026,33.45947684896434,31.820998201672072,32.73322416398153,32.40714829999668,33.506092281309364,30.836432674773427,34.87849495417028,34.007211972221654,31.525752416968214,31.04722213948752,34.59577669439264,34.96760988717724,32.29524762622046,33.324240521849696,32.903454333014224,32.55949313011333,31.76561882104241,34.08164619679617,33.304431285296005,34.33075044367848,32.07894757956938,33.60579899891236,32.74515048083576,32.12236479579778,32.53082944110282,31.736635686050285,34.11756669418932,33.63662445812838,34.33486453305801,34.814983943728855,34.642669758092204,32.83694076702139,32.29964716350497,31.94801742116136,32.72731919612472,33.94624061993669,32.35147815076609,34.173752023676585,32.97518182625784,32.00475302036483,34.19705969450868,33.177204666060376,32.69323953887129,31.625360134830608,31.260646869879523,31.720769900287312,32.922610758349414,32.68624509039022,34.05094675856064,32.454552537551066,31.28344747605816,32.98002919845364,31.909626827522736,34.40240964824356,32.95976431107423,33.780156763295054,32.6729435250038,32.72852076313786,33.40992258786484,31.72420252384518,32.711119299295326,33.1366552476793,34.37939438496412,35.530904145898624,33.24726795047748,32.096108993845185,35.039283064909725,32.55052657442161,32.58249357081853,33.29698192462649,33.108336148346,33.902717794463925,34.55528258670921,33.73264839262621,31.60051220030329,34.318927438542204,34.00648891839723,33.54047906012372,34.43642583784763,33.55169913754013,31.818616566769062,32.36312129411639,33.191570884444964,32.19249882778649,32.60790271932764,32.26200310699493,32.27184828087499,33.79512493081247,31.654809675692764,33.07773079450243,31.312349599444342,32.87273861448019,33.708153408093004,33.908565031728365,32.312909745943095,34.394326648449855,32.42330472721988,33.539396346976595,33.37401692609311,33.79475594486519,33.7709000976483,31.309192640891823,33.612563354981084,33.39826012958678,33.622591840455804,30.4925366965402,31.90485713101361,33.0264203526517,32.975192902963855,30.81620064887634,33.91401511732236,33.30267220801569,31.912075929200608,32.40855895733437,32.64461690576892,34.10227850874102,33.24850620315415,34.72908016563062,30.3931845423455,33.3841105711181,32.878474365657695,34.501417852783966,33.56647438959015,32.8487928288471,33.531860130613246,33.41906734548329,32.495418773654315,33.67402747501462,33.26463207316392,32.76245596030955,33.47947160188164,33.785207205733194,33.21718784289895,31.128090049616628,33.36951735608769,32.837893053239185,30.574363684171367,32.27459383033916,33.14423399987652,33.4855197629536,31.976480061461288,32.13386240984833,32.302553103111435,31.82797905546526,32.018074010632084,32.997459002491695,31.81642833419931,34.46151473966461,32.34279623166797,32.30274837339047,33.06644065628263,33.89464038846548,32.765664587506606,33.76981237165136,31.812482559724263,32.00850451785513,33.30433661798984,32.189844729273545,34.935605105644306,33.55165060797954,32.38696867463189,33.34450868519732,33.6727578867203,34.00207092262163,32.65539704223188,32.054261851184755,33.22877226969563,32.077590044329135,33.981005579787784,34.17951756796679,32.60273898042012,32.03054971621298,33.100357750772915,32.99059904291544,34.385820292995376,34.357196268204405,33.70511279750195,32.40429504598358,31.829346455921133,31.366212167187687,31.447446494127817,33.58294683702328,32.39742194430904,35.03744996157605,32.78494023263413,33.9717220376126,33.38599019075222,33.556555671402755,33.58737339024554,34.18818406101828,33.59396354804201,33.236265721508744,33.20891970058922,33.63781167586591,33.59048580327403,34.195508030962635,35.86023651335309,33.48193057257537,33.25823783380398,32.319857972167306,32.43083857908201,31.44597248275779,35.74266980593494,34.012619460656374,34.14039342796294,32.37798965892753,33.17233109074306,33.24732220295966,33.59891333929404,33.08529799058909,32.278443347919655,33.441553044751224,32.86530120924307,31.52619789823981,33.000849640152055,32.088380630448206,33.26544447284578,32.992573196692234,33.86318870719846,32.59209322575472,32.381034590963445,31.517121802506228,33.45430192604019,32.21552741998912,31.673915503274955,33.717554613005134,33.21547157476038,31.574138022873235,33.89457038870139,33.12869268643142,34.3703270461643,34.08026009173408,31.42522688085481,33.62530726457669,31.8627411090001,33.29258730730077,33.74922777081331,34.14496898723948,31.12397434991195,34.27824787999725,33.66661568345138,32.25997326555701,35.43316530057876,31.967320947882403,32.149060522105984,33.918844177834046,33.20061634140451,32.53677489754807,34.08366330162949,33.02502013857587,31.26810421075072,32.21292383005795,33.499506100675546,32.90485366735398,32.204654645678524,32.67515450844823,32.99838766242905,33.9431185791017,33.55210836340867,33.67683086814267,32.64194636558817,33.42121218172261,32.76707608122926,33.11995442833815,35.37187609232446,33.9760825800378,34.03416353106073,32.77049215854934,33.50381038174352,31.874551694585367,32.53323998265473,34.85131416586477,34.21146128149797,33.45961931752967,34.200539409318985,31.169506798711588,32.518196813999246,34.523019620716326,33.66599032199544,31.60983957338964,33.70088553901973,33.81173340621725,34.33667722314705,31.06132515671613,33.06976829928679,34.60624245261783,34.23824191192028,32.04781463313985,30.97167564388777,33.60685082311888,33.44812500934655,33.36938093820547,33.452295280190306,32.90469244491627,35.63085386109822,32.2463499961189,34.69559119111866,34.34392190842758,33.68093694960616,32.06091439841006,33.431097102487136,33.23765998436727,34.70252897286158,32.64677668060689,33.322501051305466,33.71598091844986],\"xaxis\":\"x\",\"y\":[587.9510539684005,392.2049334443264,487.54750486747207,581.8523440352178,599.4060920457634,637.102447915074,521.5721747578274,549.9041461052942,570.2004089636195,427.19938489532814,492.6060127179966,522.3374046069357,408.64035107262754,573.4158673313865,470.45273330095546,461.7807421962299,457.84769594494855,407.7045475495441,452.31567548003545,605.061038804892,534.7057438060227,419.9387748391792,436.51560572936256,519.3409891307888,700.9170916173961,423.17999168059777,619.8956398616368,486.83893476506273,529.537665336851,554.7220838330761,497.5866713004408,447.6879065360586,588.7126055095755,491.0732236795197,507.4418323396167,521.8835731664784,347.7769266318726,490.7386321439546,478.1703340540876,537.8461952695957,532.7517875818365,501.8744302842695,591.1971781805905,547.2443434159983,448.22982918655,549.860590464497,593.915002968289,563.6728733601082,479.73194908594513,416.3583535799008,725.5848140556805,442.667251738628,384.6265715694054,451.4574468676027,522.40414125956,483.6733080190456,520.8987944502368,453.16950235469744,496.650708068581,547.3651405940458,616.8515229667128,507.21256900067846,613.5993233689068,483.15972078451705,540.2634004105403,765.5184619388372,553.6015346844503,469.3108614953106,408.62018782983785,451.575685159493,444.96655165329264,595.8228366992037,418.1500810968496,534.7771880994133,578.2416050583773,478.7193568742153,444.2859074976436,544.7798637193825,488.7860610939056,475.759067788328,489.8124879964614,462.8976361529081,596.4301726172283,338.3198626415221,533.5149352552407,536.7718993628412,487.3793060170291,473.7289665129948,547.1259317471988,505.1133435398579,449.0703194428044,611.0000251040717,515.8288148548279,439.074766741645,514.088957746572,543.340166256701,521.1429518103512,614.7153338263417,507.39006178986654,495.2994425473086,518.0645579840107,390.1032729724755,420.7376732446371,492.1050523891852,410.06961105998295,497.5136833293677,494.55186108657256,378.3309069068038,570.451725912857,549.0082269346927,459.285123462352,492.94505306595823,424.7626355099111,422.42677587650905,642.1015787311585,413.3717831104521,479.23109291159307,593.0772413447512,506.5473070543516,571.3074948754644,576.311177371677,576.8025473995871,514.239520718957,495.17595044947535,514.3365582674007,541.2265839893283,516.8315566841785,468.4457372274064,548.2803201983364,431.6177337614297,552.9403454501057,573.3062222574563,452.627254995083,542.7115581025776,407.8040306356823,482.3535703213531,529.2300901235094,433.0487690958266,476.1914133494556,439.997879939927,448.9332932076743,472.9922466667984,463.9235129903258,350.0582001638451,460.0612773912433,505.7711403229565,463.484995404266,479.73193764530447,424.18549428888633,465.8893127108669,426.7752159856604,684.1634310159513,555.8925953881737,657.019923937652,595.8038188761142,503.9783790525795,586.1558701804728,744.2218671047146,512.8253581285203,528.2238093680072,468.9135013219844,357.59143941508603,536.4231045259343,490.2065999848546,550.0475805761635,513.4505711860965,497.8119300055205,578.9862585804898,506.5363931400864,501.74923330839226,421.96679418586734,439.8912804768136,666.125591725772,298.76200786180766,465.1766233052969,373.8857236969501,532.7174856761748,554.9007830202702,537.7731625414566,501.100245232053,517.1651355939779,557.5292736134538,493.719192978176,452.1226250857849,577.2734549822936,485.9231305248517,425.7450920310528,537.2150526997326,524.6379646141049,478.8853913201482,612.3852298963607,476.7667241547634,505.1196375282037,545.9454921414049,434.0216997527185,424.6752810132133,352.5501081630003,662.9610878058954,560.5601606242603,467.5019004269896,504.8704323933724,590.56271964715,443.9656268098819,392.4973991890214,568.7175759305223,712.3963268096636,413.29599918102974,562.0820453929382,412.012931298847,468.6684655991273,496.55408163560713,548.5185292758069,536.1308968550214,558.4272571753238,357.8637186383917,529.0566631985306,387.35707273642186,528.9336185650203,420.91615953269286,496.9334462555319,519.372976801355,591.4377355684503,502.4097853029053,604.3348400688554,555.068394054576,256.67058229005585,547.1109823629461,461.92087689289787,458.3769106506301,436.2834981467513,532.9352188376637,512.5525343564015,630.4227632299235,463.74598112062944,493.18021624931,501.2091726816533,501.9282648732441,376.3369007569242,421.3266312569514,538.774933478023,398.163468533652,571.4710341154246,451.6286105401996,490.6004425003995,591.7810894256675,409.0704720533178,563.4460356732392,647.6194557251926,448.34042501104767,518.7864830920807,523.6339351357243,393.8573709860865,426.154547713103,503.3878872879605,482.6024673294826,524.7976275698039,574.6548433659395,574.7472196620896,660.4251842914138,375.3984554102431,640.1877400085721,514.0098178487356,376.496840718537,484.5198091105511,614.7296376283244,567.4750105270774,554.003093429799,399.98387159812256,479.17285149109694,585.9318442972224,540.9957391083377,628.0478039330167,582.4919237338106,640.7861663983061,446.4186733701357,570.6300980875259,423.3083340974698,616.6602860166826,530.3624688854229,442.3631173838644,511.9798599920658,560.4437921717631,475.26342372754846,374.2696745439231,463.59141802794056,471.602884392892,626.018672655394,432.47206125141577,356.6155678900057,467.4278485003528,503.2173931191067,378.4735664479011,584.2183134866808,451.7278633175868,557.6341089957288,432.7207178399336,506.4238599698002,510.1598172791045,587.5747994806404,282.4712457199145,473.94985742281614,489.90805309753534,541.9722037582585,266.086340948469,494.6871558102853,689.7876041747194,387.5347163057077,441.8966315178863,604.8413188212227,302.189547809652,479.6148116731426,506.132342437705,319.9288698031936,528.3092250312227,610.1280331303979,584.1058850493533,466.4211988217437,404.8245288726869,564.7909690079206,596.516697973153,368.65478494706446,542.4124767293989,478.26212639683575,473.360495571661,559.1990479544186,447.1876443054186,505.23006828207065,557.2526867470547,422.3687366068266,445.0621855089249,442.0644137580656,533.0400601788124,424.2028270990325,498.635598489176,330.5944460341002,443.4418600624623,478.600915944333,440.0027475469415,357.7831107453153,476.139246872566,501.1224915036564,592.6884532021675,486.0834255029927,576.0252441251166,442.7228915742714,461.7909590614097,488.387525780145,593.1564014822196,392.8103449837973,443.19722102875545,535.4807751896418,533.3965537868428,532.1274491097012,558.9481123879059,508.771906741518,403.7669020956173,640.5840618984408,461.62827839108616,382.4161078654751,561.874657668983,444.57614413373005,401.0331352191061,384.3260571375157,527.7829957560522,482.144996875768,594.2744834186117,502.0925279023197,407.657178759326,708.9351848669819,531.9615505451646,521.2407802357948,447.3690271993314,385.152337987975,430.58888255648486,418.602742095224,478.9514047578855,483.7965220614929,538.941974531203,486.1637990666317,385.0950070687634,527.7837897574573,547.1907493518986,410.6029439492151,583.9778019715428,474.5323294398898,414.9350606518193,550.8133677324173,458.78113168424994,407.5421680134348,581.3089328795,546.5566668627299,503.1750851912004,549.131573287217,482.8309858617018,557.6082620533542,484.87696493512857,669.9871405017029,547.7099885778625,537.8252822957112,408.2169017707518,663.0748176067602,506.37586675019753,528.4193296952955,632.1235881419656,488.2702979651482,508.7357409506604,411.1869635742789,409.09452619233787,467.8009243667916,512.165866388158,608.2718166151668,589.0264897562791,444.0538265727727,493.18126139071865,532.724805462904,275.9184206503857,511.0387860511611,438.4177420114685,475.7250679098812,483.54319386538816,663.8036932755082,544.4092721605869,630.1567281670505,461.11224843060927,491.9115050963458,574.4156896079882,530.766718654762,581.7987976770314,556.2981411740467,502.132789227254,556.1863688687886,475.0716298996618,486.9470538397658,434.1442020262987,304.1355915788555,571.2160048349454,583.0796356620574,445.74984123965226,392.9922559140308,565.9943634015268,499.1401524490539,510.5394216996283,308.52774655803336,561.5165319790891,423.4705331738239,513.1531118530668,529.1945188649573,314.4385182951061,478.5842860083426,444.5821649786528,475.0154070877503,436.7205558562188,521.1953105318003,478.1830597118797,432.48116855701767,438.30370784642975,388.9405487921943,534.7714849461672,537.9157529213054,407.8763782204976,618.8459704239658,502.77107456549606,397.420584096457,392.2852442462675,689.2356997616951,543.1326262891694,577.7360248512277,436.5807403475482,553.9946735912697,427.3565308022928,424.7287739291025,541.0498309594356,469.38314617236114,444.5455496511082,492.55683370047706,535.3216100850124,408.9583359406166,487.5554580579016,487.64623174384167,402.1671222237256,551.0230017027826,497.38955775884335,494.6386097568927,479.2474167840931,462.65651893471335,515.5024796636585,576.4776071703129,357.85798360521926,597.7398788791847,327.37795258965207,510.4013884525048,510.50147847479735,403.8195198321978,627.603318713015,510.661792219672,573.8474377162277,529.0490041294304,551.6201454762476,456.469510066298,497.7786422156802],\"yaxis\":\"y\",\"type\":\"scatter\"},{\"hovertemplate\":\"\\u003cb\\u003eOLS trendline\\u003c\\u002fb\\u003e\\u003cbr\\u003eGasto_anual = 28.3748 * Tiempo_sesi\\u00f3n + -438.563\\u003cbr\\u003eR\\u003csup\\u003e2\\u003c\\u002fsup\\u003e=0.126088\\u003cbr\\u003e\\u003cbr\\u003eTiempo_sesi\\u00f3n=%{x}\\u003cbr\\u003eGasto_anual=%{y} \\u003cb\\u003e(trend)\\u003c\\u002fb\\u003e\\u003cextra\\u003e\\u003c\\u002fextra\\u003e\",\"legendgroup\":\"\",\"line\":{\"color\":\"orange\"},\"marker\":{\"color\":\"#636efa\",\"symbol\":\"circle\"},\"mode\":\"lines\",\"name\":\"\",\"showlegend\":false,\"x\":[29.532428967057943,30.3931845423455,30.4925366965402,30.574363684171367,30.737720372628186,30.81620064887634,30.836432674773427,30.879484344127498,30.97167564388777,31.04722213948752,31.06132515671613,31.0662181616376,31.12397434991195,31.128090049616628,31.169506798711588,31.260646869879523,31.26810421075072,31.28344747605816,31.309192640891823,31.312349599444342,31.358477192437007,31.366212167187687,31.3895854806644,31.42522688085481,31.44597248275779,31.447446494127817,31.514737857801983,31.517121802506228,31.525752416968214,31.52619789823981,31.531604482572902,31.57020082932026,31.574138022873235,31.57613197132227,31.60051220030329,31.60983957338964,31.625360134830608,31.654809675692764,31.66104982274608,31.673915503274955,31.720769900287312,31.72165236050904,31.72420252384518,31.736635686050285,31.76561882104241,31.809300316679188,31.812482559724263,31.81642833419931,31.818616566769062,31.820998201672072,31.82797905546526,31.829346455921133,31.851253128608366,31.85307480174657,31.8627411090001,31.86483254809873,31.874551694585367,31.88540629991176,31.90485713101361,31.909626827522736,31.912075929200608,31.92627202636016,31.93654861844892,31.945395748344524,31.94801742116136,31.954903856634843,31.956300560523367,31.967320947882403,31.976480061461288,32.00475302036483,32.00850451785513,32.01230076824544,32.018074010632084,32.02159550138701,32.03054971621298,32.04448612744043,32.04780097886789,32.04781463313985,32.04983939045731,32.054261851184755,32.06091439841006,32.0637746203137,32.07054622092545,32.077590044329135,32.07894757956938,32.088380630448206,32.096108993845185,32.11511906601424,32.116400120928155,32.12236479579778,32.12538689728784,32.13386240984833,32.149060522105984,32.175501237949376,32.179099972602344,32.187812045932155,32.189844729273545,32.19249882778649,32.19772379742183,32.200798643965314,32.204654645678524,32.21292383005795,32.21552741998912,32.22729913636721,32.23014911593311,32.2463499961189,32.25590120444978,32.25997326555701,32.26200310699493,32.27184828087499,32.27459383033916,32.278443347919655,32.28312306113335,32.288666909138946,32.291756100263015,32.29464154956504,32.29524762622046,32.29964716350497,32.302553103111435,32.30274837339047,32.312909745943095,32.319857972167306,32.33263706834172,32.33598963740772,32.33889932306719,32.34279623166797,32.35147815076609,32.36312129411639,32.37798965892753,32.381034590963445,32.38473265900513,32.38625185558597,32.38696867463189,32.38797585315387,32.388451625505326,32.39742194430904,32.401731827354666,32.40237101796123,32.40429504598358,32.40714829999668,32.40855895733437,32.42330472721988,32.425697279750864,32.43075793005128,32.43083857908201,32.43977025334846,32.44952156114242,32.454552537551066,32.45517628513712,32.46121244511541,32.48426048276214,32.49144660312287,32.495418773654315,32.4971984614607,32.49839307472945,32.51021799444433,32.518196813999246,32.529768731474434,32.53082944110282,32.53323998265473,32.53379686092211,32.53677489754807,32.5434591695977,32.55052657442161,32.55949313011333,32.56723048027511,32.58249357081853,32.59209322575472,32.59718265981362,32.60273898042012,32.6055836415705,32.60790271932764,32.609282635640405,32.61785606282345,32.635877998189926,32.64194636558817,32.64461690576892,32.64677668060689,32.65318145878372,32.65462160732388,32.65539704223188,32.657268594778124,32.6729435250038,32.67515450844823,32.686129256115166,32.68624509039022,32.68822929602445,32.69239221858063,32.69323953887129,32.711119299295326,32.71251232693568,32.726784597863976,32.72731919612472,32.72836000313375,32.72852076313786,32.73322416398153,32.739142938380326,32.74515048083576,32.74936818112046,32.76245596030955,32.765664587506606,32.76707608122926,32.77049215854934,32.771715009701,32.77260992960089,32.78494023263413,32.789772618310714,32.80522040097184,32.80869759268502,32.82030994541536,32.83694076702139,32.837893053239185,32.83810016055479,32.843930222655175,32.8487928288471,32.86530120924307,32.8653271748764,32.87273861448019,32.878474365657695,32.88710464561531,32.89398062181101,32.903250973372074,32.903454333014224,32.90469244491627,32.90485366735398,32.91278511115979,32.922610758349414,32.93133644189654,32.95976431107423,32.97518182625784,32.975192902963855,32.98002919845364,32.99059904291544,32.992573196692234,32.997459002491695,32.99838766242905,33.000849640152055,33.000914755642675,33.01479221522831,33.01954798572344,33.02502013857587,33.0264203526517,33.02933195350689,33.05926409135838,33.06644065628263,33.06976829928679,33.07570303157222,33.07653560709715,33.07773079450243,33.0787172146689,33.08529799058909,33.088529366211525,33.100357750772915,33.10543794246846,33.108336148346,33.11020505771776,33.117218732994786,33.11995442833815,33.12239998431699,33.12869268643142,33.1366552476793,33.14207932732039,33.14423399987652,33.15417578832186,33.15425475700075,33.15569970295208,33.167136876950536,33.17233109074306,33.177204666060376,33.19033404372265,33.191570884444964,33.20061634140451,33.20891970058922,33.21547157476038,33.21718784289895,33.22877226969563,33.235606500693855,33.236265721508744,33.23765998436727,33.24190043446127,33.24726795047748,33.24732220295966,33.24850620315415,33.25633546983111,33.25823783380398,33.26463207316392,33.26544447284578,33.26833021768797,33.29258730730077,33.29698192462649,33.30188161463884,33.30267220801569,33.30433661798984,33.304431285296005,33.30857161628053,33.322501051305466,33.324240521849696,33.33067252364639,33.34450868519732,33.35687434475742,33.358398281424215,33.36938093820547,33.36951735608769,33.37401692609311,33.3841105711181,33.38599019075222,33.39826012958678,33.40992258786484,33.41906734548329,33.42121218172261,33.42874704259606,33.431097102487136,33.432231396262715,33.43782956230187,33.441553044751224,33.44812500934655,33.452295280190306,33.45430192604019,33.45947684896434,33.45961931752967,33.46105629551836,33.46869994900622,33.47160052695171,33.477190403003306,33.47947160188164,33.48193057257537,33.4855197629536,33.499506100675546,33.50136982210362,33.50308725671972,33.50370517913956,33.50381038174352,33.506092281309364,33.531860130613246,33.539396346976595,33.54047906012372,33.540976791782235,33.54123131310037,33.5477479443078,33.55165060797954,33.55169913754013,33.55210836340867,33.55520742143224,33.556555671402755,33.56647438959015,33.58294683702328,33.58737339024554,33.59048580327403,33.59396354804201,33.5985203185533,33.59891333929404,33.60579899891236,33.60685082311888,33.612563354981084,33.616018552595435,33.61603789276768,33.622591840455804,33.62530726457669,33.63080076787103,33.63662445812838,33.63781167586591,33.644177000440536,33.66599032199544,33.66661568345138,33.6727578867203,33.67402747501462,33.67683086814267,33.68093694960616,33.69489765096749,33.700400456822415,33.70088553901973,33.70160519868888,33.70511279750195,33.708153408093004,33.71065305912268,33.71598091844986,33.717554613005134,33.73264839262621,33.74922777081331,33.75499472831927,33.76206923913139,33.76981237165136,33.7709000976483,33.780156763295054,33.785207205733194,33.790387206952126,33.79203907501622,33.79475594486519,33.79512493081247,33.81173340621725,33.82635200907213,33.86318870719846,33.87103787934198,33.877779300122526,33.87936082480498,33.87974496798125,33.879784289702826,33.88994100692418,33.89457038870139,33.89464038846548,33.90022441401576,33.902717794463925,33.908565031728365,33.91401511732236,33.918844177834046,33.924624809512075,33.92529660119954,33.92579489547876,33.9431185791017,33.94624061993669,33.9717220376126,33.9760825800378,33.981005579787784,33.98777289568564,33.99257277495374,34.00207092262163,34.00648891839723,34.007211972221654,34.012619460656374,34.03416353106073,34.04663802802127,34.05094675856064,34.08026009173408,34.08164619679617,34.08366330162949,34.10227850874102,34.11756669418932,34.14039342796294,34.142863372870714,34.14496898723948,34.173752023676585,34.17951756796679,34.18382052058911,34.18777482695728,34.18818406101828,34.195508030962635,34.19705969450868,34.200539409318985,34.21146128149797,34.23824191192028,34.27824787999725,34.3018702154015,34.30555662975554,34.31216699740784,34.318927438542204,34.33075044367848,34.33486453305801,34.33589583979252,34.33667722314705,34.3387293850918,34.34392190842758,34.357196268204405,34.3703270461643,34.374258045247466,34.37939438496412,34.385820292995376,34.390163664343326,34.394326648449855,34.40240964824356,34.43642583784763,34.447871436480774,34.46151473966461,34.48238804881123,34.49726772511229,34.501417852783966,34.50755099852662,34.523019620716326,34.5366591798774,34.55528258670921,34.555767994657494,34.558294609144475,34.56455770619167,34.56868084571511,34.56938121869345,34.59402114954151,34.59577669439264,34.60331111938746,34.60624245261783,34.642669758092204,34.65548567957987,34.69559119111866,34.70252897286158,34.709323296131586,34.71331650656199,34.71345123397026,34.72908016563062,34.814983943728855,34.85131416586477,34.87849495417028,34.935605105644306,34.96760988717724,35.03744996157605,35.039283064909725,35.37187609232446,35.43316530057876,35.530904145898624,35.63085386109822,35.74266980593494,35.86023651335309,36.13966248879052],\"xaxis\":\"x\",\"y\":[399.41315198721935,423.8368939288528,426.6559885069925,428.97781050517955,433.61301905666215,435.8398788872856,436.4139579797176,437.6355392190945,440.25144619577185,442.3950606736759,442.7952305514893,442.9340684433974,444.57288703306943,444.6896690678099,445.8648598199799,448.45093842656246,448.662538762637,449.0979003951025,449.8284135398266,449.9179915143654,451.2268513811925,451.44632951489206,452.1095419216028,453.1208584738055,453.7095101675606,453.7513349019617,455.6607119056824,455.7283557896504,455.9732474946467,455.9858879235091,456.13929851337724,457.23446099609754,457.3461779597431,457.4027557894572,458.094539192558,458.3592012636439,458.79959363321626,459.6352175977507,459.8122803385375,460.1773410714126,461.50682383552754,461.5318634418316,461.60422374133947,461.95701186602224,462.779401671015,464.01885408664515,464.10914950285843,464.22110994819883,464.28320054525835,464.3507788891464,464.54885901371614,464.5876586878907,465.20925549873226,465.2609450560315,465.5352243063401,465.59456841086643,465.87034696229006,466.17834389775174,466.73025676712024,466.8655958111222,466.9350885092661,467.33789950876206,467.6294954512355,467.8805307319796,467.95492009659387,468.150321123007,468.1899522753592,468.5026532379571,468.76254098412716,469.5647797055619,469.67122758603847,469.7789453197839,469.942759747789,470.04268123992625,470.296755030998,470.69219750175745,470.7862556503929,470.78664308722665,470.844095111513,470.96958141988586,471.15834592092455,471.2395040611398,471.4316466747011,471.6315135475198,471.6700332984646,471.93769395266344,472.1569844907188,472.69639092650476,472.732740565739,472.9019868465229,472.9877382828584,473.2282290069891,473.6594719549734,474.40972119999907,474.511834470019,474.75903755169844,474.81671447509524,474.89202391139617,475.04028122588846,475.1275292910121,475.2369424548345,475.4715786641712,475.54545493105394,475.879474682169,475.9603421984012,476.4200384562534,476.69105180104197,476.8065956005931,476.8641918856311,477.143546435425,477.2214507714827,477.3306799495272,477.46346573816885,477.62077115324786,477.70842624255414,477.79030020441,477.8074974904384,477.93233335137796,478.01478872092065,478.020329470282,478.3086560848556,478.5058104096424,478.86841433132696,478.9635427093014,479.0461043722385,479.15667825960924,479.4030257218837,479.7333972428374,480.15528368269,480.2416829305254,480.34661476265745,480.3897216170471,480.4100611929952,480.4386396524514,480.4521395837542,480.7066703214993,480.8289622639823,480.8470991507763,480.90169300442705,480.98265343234704,481.0226805106177,481.4410883475858,481.50897647666244,481.6525712677307,481.654859665472,481.9082938733397,482.1849849944787,482.3277377956769,482.34543649030735,482.51671114464676,483.17069392431887,483.3745984406426,483.48730786802656,483.53780610116934,483.57170297855674,483.9072323621455,484.13362953621316,484.4619800393039,484.4920774316211,484.56047599503876,484.5762772880957,484.66077839402334,484.85044307967274,485.05097906987936,485.3054030301851,485.5249485656295,485.9580352575626,486.2304232636605,486.37483478727114,486.5324941095391,486.6132107169511,486.67901401617934,486.7181688249213,486.9614378539998,487.4728061347484,487.6449946672388,487.72077063209116,487.7820537475413,487.9637878586819,488.0046517430556,488.0266545306404,488.07975940469754,488.52453195311494,488.58726810102297,488.89867404782996,488.90196081880555,488.95826219838517,489.0763841707014,489.10042668952445,489.6077607889046,489.64728762855844,490.05226004126376,490.0674291442446,490.0969618043045,490.1015233325334,490.2349812522403,490.4029251176966,490.5733877563916,490.6930640341854,491.0644267655818,491.1554708260533,491.1955216365554,491.2924520466666,491.3271501675021,491.35254331431514,491.7024128335981,491.8395306683422,492.2778579567362,492.3765224737287,492.70602031790617,493.1779160649042,493.2049369678245,493.2108135903823,493.3762402647272,493.51421559965974,493.9826371054174,493.9833738743051,494.19367177244936,494.35642239599775,494.6013046095093,494.7964088563154,495.05945295470536,495.0652232378889,495.10035437901496,495.1049290286913,495.32998192674876,495.60878241118206,495.85637167965496,496.6630059445733,497.1004744002377,497.1007886992293,497.238017474026,497.5379343852954,497.5939505457267,497.73258416419975,497.75893467683403,497.828792729804,497.8306403669091,498.224410098359,498.3593539949093,498.51462507646835,498.55435582957983,498.6369718357561,499.4862893791272,499.68992276213345,499.78434386882265,499.95274053565043,499.97636467512933,500.01027784350896,500.0382672893907,500.2249952961152,500.3166848379372,500.6523125357506,500.7964618094217,500.87869773618064,500.9317276107683,501.13073903741093,501.20836376505196,501.2777558547995,501.45630983338634,501.68224568172246,501.8361526969406,501.89729103631413,502.1793870022289,502.18162772037255,502.2226277301872,502.54715491804376,502.6945395425533,502.83282612390184,503.2053692024297,503.24046427412253,503.4971270397983,503.7327329513932,503.9186408776207,503.96733959224144,504.29604504445916,504.4899647808656,504.50867002022466,504.54823190891074,504.66855370732327,504.8208557426644,504.8223951443975,504.85599087823806,505.0781445237098,505.13212366492763,505.3135587395572,505.3366103941185,505.41849274185876,506.1067820936416,506.2314783518794,506.3705059317072,506.3929388373676,506.44016608847204,506.44285225156233,506.56033319321665,506.95557771583054,507.0049347933878,507.1874413684955,507.5800392776868,507.9309120303066,507.9741533835476,508.2857837496585,508.2896545757645,508.4173288422065,508.70373370372414,508.75706747954865,509.10522417854526,509.43614375614214,509.69562415522904,509.75648339137007,509.970283339721,510.0369657498905,510.0691510755,510.22799775231766,510.3336507124357,510.52012869983895,510.63845917812904,510.6953972936787,510.8422345442247,510.8462770570754,510.88705097777853,511.1039378916001,511.1862411252428,511.34485257556577,511.40958107029945,511.4793537995038,511.5811962529181,511.9780553765028,512.0309380443789,512.0796698575318,512.0972032644077,512.1001883641554,512.1649367407363,512.8960935520979,513.1099319621637,513.1406536992763,513.1547767208783,513.1619987048782,513.3469066200969,513.4576438062854,513.4590208214317,513.4706325115515,513.5585675718671,513.5968238554137,513.8782652080529,514.3456671242352,514.4712695562093,514.5595835617248,514.6582637715205,514.7875610891913,514.7987129625283,514.9940919742291,515.02393724474,515.1860290255445,515.2840694650292,515.284618237979,515.4705849997745,515.5476345361292,515.7035114315784,515.8687573063391,515.9024443372252,516.0830589614561,516.702006955338,516.7197514431564,516.8940350515347,516.9300593280691,517.0096049648171,517.1261140841709,517.5222457819054,517.6783866353769,517.6921507314196,517.7125709094003,517.8120982208748,517.898374848704,517.9693018731064,518.1204786589958,518.1651318809052,518.5934144142664,519.0638504660565,519.2274865620141,519.4282241830058,519.6479337915373,519.6787977671131,519.9414535308249,520.0847586761431,520.2317400221382,520.2786113994227,520.35570195798,520.3661718495675,520.8374335282326,521.2522330298862,522.2974658867499,522.520184345268,522.7114706130437,522.756346013015,522.7672459874973,522.7683617323241,523.0565562529414,523.1879138986214,523.1899001258655,523.3483455695559,523.419094667647,523.5850086833307,523.7396536114952,523.8766770954483,524.040701192901,524.0597631278849,524.0739021137201,524.5654576614654,524.6540448537812,525.3770742334232,525.5008036241773,525.6404926124621,525.8325136482497,525.9687091211119,526.2382168817635,526.3635764981523,526.3840929845098,526.5375292280542,527.148837282321,527.5027982712047,527.6250575115871,528.4568166142083,528.4961470272922,528.5533819140971,529.0815841444808,529.5153828985817,530.163086231634,530.2331703516438,530.2929166762078,531.1096287306161,531.2732247269009,531.3953200202129,531.5075225560631,531.519134478642,531.7269504452704,531.7709785423481,531.8697146516424,532.1796202686114,532.9395145118176,534.074674676317,534.7449530230815,534.8495541845007,535.0371218498337,535.2289478157847,535.5644228736451,535.6811592157787,535.710422307729,535.7325938811193,535.7908235054169,535.9381601636042,536.3148170763652,536.6873998880167,536.7989410850028,536.9446835458893,537.1270172118009,537.250259377178,537.3683830959715,537.5977363604097,538.5629379351424,538.887704170075,539.2748297673529,539.867105124843,540.2893125256264,540.4070714460308,540.5810980491799,541.0200166544157,541.4070360159067,541.9354709114721,541.9492442506239,542.0209363569402,542.1986502985376,542.3156434364282,542.3355163589824,543.0346687429699,543.084481925297,543.2982695056919,543.3814454134861,544.415061847789,544.7787106792873,545.916695366675,546.1135533317015,546.306340695477,546.419647125166,546.4234699844615,546.8669373341427,549.304437326381,550.3352990432318,551.1065476745546,552.7270351182558,553.6351634505033,555.616859536214,555.668873422687,565.1061242594888,566.8451914804123,569.618508789415,572.4545590239536,575.6273108016458,578.9632391480282,586.8918870845728],\"yaxis\":\"y\",\"type\":\"scatter\"}],                        {\"template\":{\"data\":{\"barpolar\":[{\"marker\":{\"line\":{\"color\":\"rgb(17,17,17)\",\"width\":0.5},\"pattern\":{\"fillmode\":\"overlay\",\"size\":10,\"solidity\":0.2}},\"type\":\"barpolar\"}],\"bar\":[{\"error_x\":{\"color\":\"#f2f5fa\"},\"error_y\":{\"color\":\"#f2f5fa\"},\"marker\":{\"line\":{\"color\":\"rgb(17,17,17)\",\"width\":0.5},\"pattern\":{\"fillmode\":\"overlay\",\"size\":10,\"solidity\":0.2}},\"type\":\"bar\"}],\"carpet\":[{\"aaxis\":{\"endlinecolor\":\"#A2B1C6\",\"gridcolor\":\"#506784\",\"linecolor\":\"#506784\",\"minorgridcolor\":\"#506784\",\"startlinecolor\":\"#A2B1C6\"},\"baxis\":{\"endlinecolor\":\"#A2B1C6\",\"gridcolor\":\"#506784\",\"linecolor\":\"#506784\",\"minorgridcolor\":\"#506784\",\"startlinecolor\":\"#A2B1C6\"},\"type\":\"carpet\"}],\"choropleth\":[{\"colorbar\":{\"outlinewidth\":0,\"ticks\":\"\"},\"type\":\"choropleth\"}],\"contourcarpet\":[{\"colorbar\":{\"outlinewidth\":0,\"ticks\":\"\"},\"type\":\"contourcarpet\"}],\"contour\":[{\"colorbar\":{\"outlinewidth\":0,\"ticks\":\"\"},\"colorscale\":[[0.0,\"#0d0887\"],[0.1111111111111111,\"#46039f\"],[0.2222222222222222,\"#7201a8\"],[0.3333333333333333,\"#9c179e\"],[0.4444444444444444,\"#bd3786\"],[0.5555555555555556,\"#d8576b\"],[0.6666666666666666,\"#ed7953\"],[0.7777777777777778,\"#fb9f3a\"],[0.8888888888888888,\"#fdca26\"],[1.0,\"#f0f921\"]],\"type\":\"contour\"}],\"heatmapgl\":[{\"colorbar\":{\"outlinewidth\":0,\"ticks\":\"\"},\"colorscale\":[[0.0,\"#0d0887\"],[0.1111111111111111,\"#46039f\"],[0.2222222222222222,\"#7201a8\"],[0.3333333333333333,\"#9c179e\"],[0.4444444444444444,\"#bd3786\"],[0.5555555555555556,\"#d8576b\"],[0.6666666666666666,\"#ed7953\"],[0.7777777777777778,\"#fb9f3a\"],[0.8888888888888888,\"#fdca26\"],[1.0,\"#f0f921\"]],\"type\":\"heatmapgl\"}],\"heatmap\":[{\"colorbar\":{\"outlinewidth\":0,\"ticks\":\"\"},\"colorscale\":[[0.0,\"#0d0887\"],[0.1111111111111111,\"#46039f\"],[0.2222222222222222,\"#7201a8\"],[0.3333333333333333,\"#9c179e\"],[0.4444444444444444,\"#bd3786\"],[0.5555555555555556,\"#d8576b\"],[0.6666666666666666,\"#ed7953\"],[0.7777777777777778,\"#fb9f3a\"],[0.8888888888888888,\"#fdca26\"],[1.0,\"#f0f921\"]],\"type\":\"heatmap\"}],\"histogram2dcontour\":[{\"colorbar\":{\"outlinewidth\":0,\"ticks\":\"\"},\"colorscale\":[[0.0,\"#0d0887\"],[0.1111111111111111,\"#46039f\"],[0.2222222222222222,\"#7201a8\"],[0.3333333333333333,\"#9c179e\"],[0.4444444444444444,\"#bd3786\"],[0.5555555555555556,\"#d8576b\"],[0.6666666666666666,\"#ed7953\"],[0.7777777777777778,\"#fb9f3a\"],[0.8888888888888888,\"#fdca26\"],[1.0,\"#f0f921\"]],\"type\":\"histogram2dcontour\"}],\"histogram2d\":[{\"colorbar\":{\"outlinewidth\":0,\"ticks\":\"\"},\"colorscale\":[[0.0,\"#0d0887\"],[0.1111111111111111,\"#46039f\"],[0.2222222222222222,\"#7201a8\"],[0.3333333333333333,\"#9c179e\"],[0.4444444444444444,\"#bd3786\"],[0.5555555555555556,\"#d8576b\"],[0.6666666666666666,\"#ed7953\"],[0.7777777777777778,\"#fb9f3a\"],[0.8888888888888888,\"#fdca26\"],[1.0,\"#f0f921\"]],\"type\":\"histogram2d\"}],\"histogram\":[{\"marker\":{\"pattern\":{\"fillmode\":\"overlay\",\"size\":10,\"solidity\":0.2}},\"type\":\"histogram\"}],\"mesh3d\":[{\"colorbar\":{\"outlinewidth\":0,\"ticks\":\"\"},\"type\":\"mesh3d\"}],\"parcoords\":[{\"line\":{\"colorbar\":{\"outlinewidth\":0,\"ticks\":\"\"}},\"type\":\"parcoords\"}],\"pie\":[{\"automargin\":true,\"type\":\"pie\"}],\"scatter3d\":[{\"line\":{\"colorbar\":{\"outlinewidth\":0,\"ticks\":\"\"}},\"marker\":{\"colorbar\":{\"outlinewidth\":0,\"ticks\":\"\"}},\"type\":\"scatter3d\"}],\"scattercarpet\":[{\"marker\":{\"colorbar\":{\"outlinewidth\":0,\"ticks\":\"\"}},\"type\":\"scattercarpet\"}],\"scattergeo\":[{\"marker\":{\"colorbar\":{\"outlinewidth\":0,\"ticks\":\"\"}},\"type\":\"scattergeo\"}],\"scattergl\":[{\"marker\":{\"line\":{\"color\":\"#283442\"}},\"type\":\"scattergl\"}],\"scattermapbox\":[{\"marker\":{\"colorbar\":{\"outlinewidth\":0,\"ticks\":\"\"}},\"type\":\"scattermapbox\"}],\"scatterpolargl\":[{\"marker\":{\"colorbar\":{\"outlinewidth\":0,\"ticks\":\"\"}},\"type\":\"scatterpolargl\"}],\"scatterpolar\":[{\"marker\":{\"colorbar\":{\"outlinewidth\":0,\"ticks\":\"\"}},\"type\":\"scatterpolar\"}],\"scatter\":[{\"marker\":{\"line\":{\"color\":\"#283442\"}},\"type\":\"scatter\"}],\"scatterternary\":[{\"marker\":{\"colorbar\":{\"outlinewidth\":0,\"ticks\":\"\"}},\"type\":\"scatterternary\"}],\"surface\":[{\"colorbar\":{\"outlinewidth\":0,\"ticks\":\"\"},\"colorscale\":[[0.0,\"#0d0887\"],[0.1111111111111111,\"#46039f\"],[0.2222222222222222,\"#7201a8\"],[0.3333333333333333,\"#9c179e\"],[0.4444444444444444,\"#bd3786\"],[0.5555555555555556,\"#d8576b\"],[0.6666666666666666,\"#ed7953\"],[0.7777777777777778,\"#fb9f3a\"],[0.8888888888888888,\"#fdca26\"],[1.0,\"#f0f921\"]],\"type\":\"surface\"}],\"table\":[{\"cells\":{\"fill\":{\"color\":\"#506784\"},\"line\":{\"color\":\"rgb(17,17,17)\"}},\"header\":{\"fill\":{\"color\":\"#2a3f5f\"},\"line\":{\"color\":\"rgb(17,17,17)\"}},\"type\":\"table\"}]},\"layout\":{\"annotationdefaults\":{\"arrowcolor\":\"#f2f5fa\",\"arrowhead\":0,\"arrowwidth\":1},\"autotypenumbers\":\"strict\",\"coloraxis\":{\"colorbar\":{\"outlinewidth\":0,\"ticks\":\"\"}},\"colorscale\":{\"diverging\":[[0,\"#8e0152\"],[0.1,\"#c51b7d\"],[0.2,\"#de77ae\"],[0.3,\"#f1b6da\"],[0.4,\"#fde0ef\"],[0.5,\"#f7f7f7\"],[0.6,\"#e6f5d0\"],[0.7,\"#b8e186\"],[0.8,\"#7fbc41\"],[0.9,\"#4d9221\"],[1,\"#276419\"]],\"sequential\":[[0.0,\"#0d0887\"],[0.1111111111111111,\"#46039f\"],[0.2222222222222222,\"#7201a8\"],[0.3333333333333333,\"#9c179e\"],[0.4444444444444444,\"#bd3786\"],[0.5555555555555556,\"#d8576b\"],[0.6666666666666666,\"#ed7953\"],[0.7777777777777778,\"#fb9f3a\"],[0.8888888888888888,\"#fdca26\"],[1.0,\"#f0f921\"]],\"sequentialminus\":[[0.0,\"#0d0887\"],[0.1111111111111111,\"#46039f\"],[0.2222222222222222,\"#7201a8\"],[0.3333333333333333,\"#9c179e\"],[0.4444444444444444,\"#bd3786\"],[0.5555555555555556,\"#d8576b\"],[0.6666666666666666,\"#ed7953\"],[0.7777777777777778,\"#fb9f3a\"],[0.8888888888888888,\"#fdca26\"],[1.0,\"#f0f921\"]]},\"colorway\":[\"#636efa\",\"#EF553B\",\"#00cc96\",\"#ab63fa\",\"#FFA15A\",\"#19d3f3\",\"#FF6692\",\"#B6E880\",\"#FF97FF\",\"#FECB52\"],\"font\":{\"color\":\"#f2f5fa\"},\"geo\":{\"bgcolor\":\"rgb(17,17,17)\",\"lakecolor\":\"rgb(17,17,17)\",\"landcolor\":\"rgb(17,17,17)\",\"showlakes\":true,\"showland\":true,\"subunitcolor\":\"#506784\"},\"hoverlabel\":{\"align\":\"left\"},\"hovermode\":\"closest\",\"mapbox\":{\"style\":\"dark\"},\"paper_bgcolor\":\"rgb(17,17,17)\",\"plot_bgcolor\":\"rgb(17,17,17)\",\"polar\":{\"angularaxis\":{\"gridcolor\":\"#506784\",\"linecolor\":\"#506784\",\"ticks\":\"\"},\"bgcolor\":\"rgb(17,17,17)\",\"radialaxis\":{\"gridcolor\":\"#506784\",\"linecolor\":\"#506784\",\"ticks\":\"\"}},\"scene\":{\"xaxis\":{\"backgroundcolor\":\"rgb(17,17,17)\",\"gridcolor\":\"#506784\",\"gridwidth\":2,\"linecolor\":\"#506784\",\"showbackground\":true,\"ticks\":\"\",\"zerolinecolor\":\"#C8D4E3\"},\"yaxis\":{\"backgroundcolor\":\"rgb(17,17,17)\",\"gridcolor\":\"#506784\",\"gridwidth\":2,\"linecolor\":\"#506784\",\"showbackground\":true,\"ticks\":\"\",\"zerolinecolor\":\"#C8D4E3\"},\"zaxis\":{\"backgroundcolor\":\"rgb(17,17,17)\",\"gridcolor\":\"#506784\",\"gridwidth\":2,\"linecolor\":\"#506784\",\"showbackground\":true,\"ticks\":\"\",\"zerolinecolor\":\"#C8D4E3\"}},\"shapedefaults\":{\"line\":{\"color\":\"#f2f5fa\"}},\"sliderdefaults\":{\"bgcolor\":\"#C8D4E3\",\"bordercolor\":\"rgb(17,17,17)\",\"borderwidth\":1,\"tickwidth\":0},\"ternary\":{\"aaxis\":{\"gridcolor\":\"#506784\",\"linecolor\":\"#506784\",\"ticks\":\"\"},\"baxis\":{\"gridcolor\":\"#506784\",\"linecolor\":\"#506784\",\"ticks\":\"\"},\"bgcolor\":\"rgb(17,17,17)\",\"caxis\":{\"gridcolor\":\"#506784\",\"linecolor\":\"#506784\",\"ticks\":\"\"}},\"title\":{\"x\":0.05},\"updatemenudefaults\":{\"bgcolor\":\"#506784\",\"borderwidth\":0},\"xaxis\":{\"automargin\":true,\"gridcolor\":\"#283442\",\"linecolor\":\"#506784\",\"ticks\":\"\",\"title\":{\"standoff\":15},\"zerolinecolor\":\"#283442\",\"zerolinewidth\":2},\"yaxis\":{\"automargin\":true,\"gridcolor\":\"#283442\",\"linecolor\":\"#506784\",\"ticks\":\"\",\"title\":{\"standoff\":15},\"zerolinecolor\":\"#283442\",\"zerolinewidth\":2}}},\"xaxis\":{\"anchor\":\"y\",\"domain\":[0.0,1.0],\"title\":{\"text\":\"Tiempo_sesi\\u00f3n\"}},\"yaxis\":{\"anchor\":\"x\",\"domain\":[0.0,1.0],\"title\":{\"text\":\"Gasto_anual\"}},\"legend\":{\"tracegroupgap\":0},\"title\":{\"text\":\"La variable Tiempo_sesi\\u00f3n\"}},                        {\"responsive\": true}                    ).then(function(){\n",
              "                            \n",
              "var gd = document.getElementById('65b7d79a-1313-4cf5-b1ca-65fada4febe2');\n",
              "var x = new MutationObserver(function (mutations, observer) {{\n",
              "        var display = window.getComputedStyle(gd).display;\n",
              "        if (!display || display === 'none') {{\n",
              "            console.log([gd, 'removed!']);\n",
              "            Plotly.purge(gd);\n",
              "            observer.disconnect();\n",
              "        }}\n",
              "}});\n",
              "\n",
              "// Listen for the removal of the full notebook cells\n",
              "var notebookContainer = gd.closest('#notebook-container');\n",
              "if (notebookContainer) {{\n",
              "    x.observe(notebookContainer, {childList: true});\n",
              "}}\n",
              "\n",
              "// Listen for the clearing of the current output cell\n",
              "var outputEl = gd.closest('.output');\n",
              "if (outputEl) {{\n",
              "    x.observe(outputEl, {childList: true});\n",
              "}}\n",
              "\n",
              "                        })                };                            </script>        </div>\n",
              "</body>\n",
              "</html>"
            ]
          },
          "metadata": {}
        },
        {
          "output_type": "display_data",
          "data": {
            "text/html": [
              "<html>\n",
              "<head><meta charset=\"utf-8\" /></head>\n",
              "<body>\n",
              "    <div>            <script src=\"https://cdnjs.cloudflare.com/ajax/libs/mathjax/2.7.5/MathJax.js?config=TeX-AMS-MML_SVG\"></script><script type=\"text/javascript\">if (window.MathJax && window.MathJax.Hub && window.MathJax.Hub.Config) {window.MathJax.Hub.Config({SVG: {font: \"STIX-Web\"}});}</script>                <script type=\"text/javascript\">window.PlotlyConfig = {MathJaxConfig: 'local'};</script>\n",
              "        <script charset=\"utf-8\" src=\"https://cdn.plot.ly/plotly-2.24.1.min.js\"></script>                <div id=\"899076fb-584b-4af7-a7e3-0effdb55a19d\" class=\"plotly-graph-div\" style=\"height:525px; width:100%;\"></div>            <script type=\"text/javascript\">                                    window.PLOTLYENV=window.PLOTLYENV || {};                                    if (document.getElementById(\"899076fb-584b-4af7-a7e3-0effdb55a19d\")) {                    Plotly.newPlot(                        \"899076fb-584b-4af7-a7e3-0effdb55a19d\",                        [{\"hovertemplate\":\"Tiempo_app=%{x}\\u003cbr\\u003eGasto_anual=%{y}\\u003cextra\\u003e\\u003c\\u002fextra\\u003e\",\"legendgroup\":\"\",\"marker\":{\"color\":\"#636efa\",\"symbol\":\"circle\"},\"mode\":\"markers\",\"name\":\"\",\"orientation\":\"v\",\"showlegend\":false,\"x\":[12.655651149166752,11.109460728682564,11.330278057777512,13.717513665142508,12.795188551078114,12.026925339755058,11.366348309710526,12.35195897300293,13.386235275676434,11.814128294972196,13.338975447662111,11.584782999535266,10.961298400154098,12.959226091609382,13.148725692056516,12.636606052000127,11.733861690857392,12.0131946940144,14.7153875441565,13.989592555825254,11.365492025516156,12.87798369625634,13.378562784168986,11.657575922065584,12.893669504071738,11.765812645482358,12.78389178427502,13.007819424388568,11.982044994015611,11.965020002997898,12.305417813429443,10.869163814130363,13.387492105579694,13.1045072428758,11.634893252550466,11.936386499892285,11.75502370305383,11.984417523634924,9.954975969174418,12.489013215743665,11.733106220383402,10.634561317920278,12.507525374016035,11.52987820576495,13.41493473585169,12.170525424959395,13.14655143290706,12.988510147185291,11.86412635894251,11.398064190096813,13.85806246213124,10.956790967791653,10.320116255059192,9.98451439654646,12.64519514084352,11.588655423353044,13.761532847115612,10.56829468563276,11.832286222863628,12.06415663219932,12.495591602384836,9.607314687519166,13.728627177429864,11.670065919118978,13.276313008175377,15.126994288792469,12.695789749023144,11.835476087614284,11.306232344673576,11.187538910878676,11.887494133971662,12.2289347111239,10.674653472691904,12.817113090284248,13.5878060830337,12.238057349986248,11.55182116621942,11.433379933334455,10.889566863427978,11.928842093866267,12.595671305072534,10.947258584185183,13.898081993497067,10.875559548189257,10.33807269503854,11.634668217942473,12.517666287393077,10.607723870859086,12.8288933950187,12.068816079691766,12.530357373542882,13.516284296962846,11.662263431208276,13.664747875183542,11.83023109487895,13.291143045352882,11.942340869536071,13.349912944366531,12.020112091208748,12.084091730811034,13.410759184940549,11.281931074103642,11.448901535513796,12.595420346380532,10.994223919350974,13.085505760060858,12.190474287309026,10.719149740628396,12.931550271647987,13.45212895943564,12.149375491578276,12.178331333996288,11.010482132400076,11.60253219348616,12.732211588456623,11.223368888365105,12.01102187657459,11.725910097840954,12.089309572437347,13.068638584182434,12.85499036656409,11.56402236806554,11.113329897404322,12.809883473378118,11.76117232548311,12.57989417361806,11.957923064554109,10.651793783474174,12.75207661096469,11.540832436151057,11.924394923280015,12.4241304114395,11.810586764578169,12.759168978762087,11.85189083494272,12.70368792886871,12.215252424902488,11.28144500356714,10.735362917985055,10.963131776054832,11.735094549013704,12.418961981005012,10.537307537840883,11.919242397939174,11.911415556879854,12.48806700205303,12.380694979552985,10.480506832694497,12.296517680733736,10.86160419912899,10.716355140061571,12.387184173554845,10.984835888186163,12.965761479512215,12.050267234380506,13.45772494051235,12.44304789043987,12.207298491050794,11.586319529181234,11.378087087773377,12.364341604455198,12.399436075147092,12.54248105078634,13.280432242922112,11.795886676889108,12.718039174525655,12.039647840787236,12.474455453922836,13.160020040286032,11.052323653306688,10.636761083696548,13.44340598514625,13.28303286832567,11.747731701242175,10.859608533152713,11.691686125826353,11.548761439776756,11.72400223179126,12.178573080885846,12.319845062066673,11.084360836740512,13.1777745337738,12.832802836968115,11.509047996817198,11.85766344472502,12.293365838346627,10.93325227854703,13.332839284456396,10.902556227019767,12.276981712741968,12.038808239866547,11.724473856834608,11.202669899735568,13.378063328893631,11.38861261864104,10.771074062599588,11.818571762285,13.808798675105962,11.659832840871443,13.100109538542808,13.067895684999526,12.49432293326939,11.340035931978807,11.199660962300452,11.332487778094174,13.919494396088172,11.03135834040919,11.084584086421872,10.54264542398311,11.79779551488024,12.442616548294634,12.104542428062686,12.378490222808672,13.722453676229962,12.725909323593957,13.68511889962359,10.012583366223025,11.435533874300315,12.354607081759855,10.748533655415798,11.59187166512224,11.236506758754029,11.109456333168431,12.114944955194904,11.866481205181705,10.25654903128796,12.168596472860555,13.085356892368791,13.013375627349651,10.9839767277944,13.105158522307253,12.144748536704864,13.90991551102909,11.395209434440888,13.033566182687188,11.622777173031125,12.600750401563928,13.187910985159364,13.266760352944496,11.752343171850052,11.56811634209842,12.63857212219212,11.388644575171451,11.82298329832392,12.725677367222987,11.201159766003189,11.34726361146273,14.220979108167343,11.546275759510358,11.91763618310149,12.276056984463208,10.131712461927217,12.026942222615626,13.172287495263063,12.326291385476884,13.891313421778491,12.930928541308226,11.379257182400217,14.069382336483995,10.804890557641668,14.426491050422625,13.041244588162265,11.739743796165987,12.49105873801881,12.892374513653694,11.668866514553862,11.777772039564963,12.138793877121689,12.222967446546058,13.402331896928285,12.956276605432244,12.884124621344766,13.325469096138631,12.15858523387948,11.22654566351062,12.461135435006732,9.846124908736233,13.32541218598226,13.677245841523792,11.644969546399302,13.485008988077055,11.620996507575208,13.014459152355208,11.466984219092826,11.684904192367505,12.09396635537946,14.325654943309248,12.914846634589116,9.8244017703894,12.807751833234732,13.05827792714326,10.534553499461076,11.143433077943628,10.982805534662877,11.153966054877388,11.947175323941773,11.47056500466582,11.03785041365591,11.167356897497289,11.562936246652605,12.22772827968665,13.18681287300118,13.394451788942057,11.85139874307314,12.266503838947584,13.459222289832477,11.792971821961505,10.98574015235435,12.637557159364276,8.508152176032603,11.656592033851751,11.966898076780602,11.80298577760313,12.677401437121034,13.032534975943191,12.44761745405695,12.235659245108506,10.973162084317348,13.665769794267849,13.391120179234008,12.96832561098067,12.968893130527093,10.732131340303663,10.952353380458652,12.60888879370027,13.039511025284968,10.999683661085925,13.278956228597716,10.62794922615627,13.185181167368498,11.351049011250833,12.954811454937932,11.73704063527238,11.887345302061831,10.757130926114415,11.612650769570312,11.97906148391534,12.461147444665416,10.079463451952432,12.589240561061525,14.2880145907663,11.917115695587762,11.40964461636565,12.815392648610311,11.673229254101274,10.61053651970745,12.506548190327935,11.304462307422884,10.886921180951674,12.095889485093478,12.692661429739388,11.386775551280651,10.728418539377822,11.936895159842097,12.717995102314037,10.969802874106238,13.420545742201174,11.85468192110211,11.91885970932454,13.149669557991398,12.685393899848076,10.347876945661575,9.316289204373824,12.581547729914536,11.764447589452988,12.644202118863696,11.832112231483734,10.441235061603203,12.729719510423308,9.477777607959723,10.163179060052556,11.608997936221536,11.268259230574026,11.163159542913276,10.101632204781014,12.76153127820102,12.055340161330117,11.935934966559184,12.451200012438312,12.284467067067208,12.782171794760185,12.960307128914414,9.95399500605983,13.130021664776669,11.520566788562215,10.972554314292411,13.53191346185937,12.039502370469922,10.942069621017652,12.664192622515646,11.730661394277831,11.918670307379347,11.514949066574868,12.418113202231622,13.887275413385504,12.846499067474369,10.889828283005029,12.914570094327916,11.568526641744768,11.971750786570595,13.07869243953642,11.956426484854196,13.252737094184228,13.093537281195058,12.527471744522868,11.235968954252517,12.074830167957376,12.045331979699332,11.230743306761044,11.90784409977911,13.05221038516131,13.004362005673078,11.52352268106905,10.314717921893896,12.433128529733452,10.745188554182882,11.016755636715027,12.216854693359824,12.329147021418828,10.8069660677747,12.135101396955722,12.94155572990243,13.300299363336556,10.39845771308564,11.887800415781037,11.591439703136588,13.27147504252467,12.988220598633102,14.039867262521906,11.906507762219915,11.13714030231066,12.902664889103926,12.386516256494852,11.822721745594304,10.9857637851215,14.132893457553363,11.912210479900578,11.481587147836263,10.04731473507118,12.428736927868275,11.965980266792482,11.121366060509414,8.668349517101323,12.504219807675254,12.132509111641538,11.732991461588078,11.946590884981754,12.556107616938167,12.480701517118195,12.594194066191111,10.946841939586896,11.48419869378604,11.120870867123784,10.971392430875488,11.588948579712495,10.706641521307748,11.07625934092972,12.953262542191796,10.572466600106116,11.658036814224134,13.592512657946294,11.371767361249,11.233414953540922,10.290350765056484,14.121783839255324,12.41554196333362,10.770248917443364,12.664390524735165,12.667808875387266,13.970181074130446,11.509253453525044,11.405770450141056,12.263717676034362,12.71070130045925,13.471577671948916,11.186808718643787,11.246812606011584,12.357638107209011,11.764325958658198,11.761883803681748,11.550300110865926,12.482669924970503,11.731364294077403,12.21407374586628,11.903756682535942,12.222483941893726,12.005916370756166,11.91374515283876,12.125401967944384,11.30555143041474,11.608997070875462,11.693058197072652,11.201569884684467,12.625432642053951,13.35063168445937,13.566159613087605,11.695736293481328,11.499409061002083,12.391422991118318,12.418808324753911],\"xaxis\":\"x\",\"y\":[587.9510539684005,392.2049334443264,487.54750486747207,581.8523440352178,599.4060920457634,637.102447915074,521.5721747578274,549.9041461052942,570.2004089636195,427.19938489532814,492.6060127179966,522.3374046069357,408.64035107262754,573.4158673313865,470.45273330095546,461.7807421962299,457.84769594494855,407.7045475495441,452.31567548003545,605.061038804892,534.7057438060227,419.9387748391792,436.51560572936256,519.3409891307888,700.9170916173961,423.17999168059777,619.8956398616368,486.83893476506273,529.537665336851,554.7220838330761,497.5866713004408,447.6879065360586,588.7126055095755,491.0732236795197,507.4418323396167,521.8835731664784,347.7769266318726,490.7386321439546,478.1703340540876,537.8461952695957,532.7517875818365,501.8744302842695,591.1971781805905,547.2443434159983,448.22982918655,549.860590464497,593.915002968289,563.6728733601082,479.73194908594513,416.3583535799008,725.5848140556805,442.667251738628,384.6265715694054,451.4574468676027,522.40414125956,483.6733080190456,520.8987944502368,453.16950235469744,496.650708068581,547.3651405940458,616.8515229667128,507.21256900067846,613.5993233689068,483.15972078451705,540.2634004105403,765.5184619388372,553.6015346844503,469.3108614953106,408.62018782983785,451.575685159493,444.96655165329264,595.8228366992037,418.1500810968496,534.7771880994133,578.2416050583773,478.7193568742153,444.2859074976436,544.7798637193825,488.7860610939056,475.759067788328,489.8124879964614,462.8976361529081,596.4301726172283,338.3198626415221,533.5149352552407,536.7718993628412,487.3793060170291,473.7289665129948,547.1259317471988,505.1133435398579,449.0703194428044,611.0000251040717,515.8288148548279,439.074766741645,514.088957746572,543.340166256701,521.1429518103512,614.7153338263417,507.39006178986654,495.2994425473086,518.0645579840107,390.1032729724755,420.7376732446371,492.1050523891852,410.06961105998295,497.5136833293677,494.55186108657256,378.3309069068038,570.451725912857,549.0082269346927,459.285123462352,492.94505306595823,424.7626355099111,422.42677587650905,642.1015787311585,413.3717831104521,479.23109291159307,593.0772413447512,506.5473070543516,571.3074948754644,576.311177371677,576.8025473995871,514.239520718957,495.17595044947535,514.3365582674007,541.2265839893283,516.8315566841785,468.4457372274064,548.2803201983364,431.6177337614297,552.9403454501057,573.3062222574563,452.627254995083,542.7115581025776,407.8040306356823,482.3535703213531,529.2300901235094,433.0487690958266,476.1914133494556,439.997879939927,448.9332932076743,472.9922466667984,463.9235129903258,350.0582001638451,460.0612773912433,505.7711403229565,463.484995404266,479.73193764530447,424.18549428888633,465.8893127108669,426.7752159856604,684.1634310159513,555.8925953881737,657.019923937652,595.8038188761142,503.9783790525795,586.1558701804728,744.2218671047146,512.8253581285203,528.2238093680072,468.9135013219844,357.59143941508603,536.4231045259343,490.2065999848546,550.0475805761635,513.4505711860965,497.8119300055205,578.9862585804898,506.5363931400864,501.74923330839226,421.96679418586734,439.8912804768136,666.125591725772,298.76200786180766,465.1766233052969,373.8857236969501,532.7174856761748,554.9007830202702,537.7731625414566,501.100245232053,517.1651355939779,557.5292736134538,493.719192978176,452.1226250857849,577.2734549822936,485.9231305248517,425.7450920310528,537.2150526997326,524.6379646141049,478.8853913201482,612.3852298963607,476.7667241547634,505.1196375282037,545.9454921414049,434.0216997527185,424.6752810132133,352.5501081630003,662.9610878058954,560.5601606242603,467.5019004269896,504.8704323933724,590.56271964715,443.9656268098819,392.4973991890214,568.7175759305223,712.3963268096636,413.29599918102974,562.0820453929382,412.012931298847,468.6684655991273,496.55408163560713,548.5185292758069,536.1308968550214,558.4272571753238,357.8637186383917,529.0566631985306,387.35707273642186,528.9336185650203,420.91615953269286,496.9334462555319,519.372976801355,591.4377355684503,502.4097853029053,604.3348400688554,555.068394054576,256.67058229005585,547.1109823629461,461.92087689289787,458.3769106506301,436.2834981467513,532.9352188376637,512.5525343564015,630.4227632299235,463.74598112062944,493.18021624931,501.2091726816533,501.9282648732441,376.3369007569242,421.3266312569514,538.774933478023,398.163468533652,571.4710341154246,451.6286105401996,490.6004425003995,591.7810894256675,409.0704720533178,563.4460356732392,647.6194557251926,448.34042501104767,518.7864830920807,523.6339351357243,393.8573709860865,426.154547713103,503.3878872879605,482.6024673294826,524.7976275698039,574.6548433659395,574.7472196620896,660.4251842914138,375.3984554102431,640.1877400085721,514.0098178487356,376.496840718537,484.5198091105511,614.7296376283244,567.4750105270774,554.003093429799,399.98387159812256,479.17285149109694,585.9318442972224,540.9957391083377,628.0478039330167,582.4919237338106,640.7861663983061,446.4186733701357,570.6300980875259,423.3083340974698,616.6602860166826,530.3624688854229,442.3631173838644,511.9798599920658,560.4437921717631,475.26342372754846,374.2696745439231,463.59141802794056,471.602884392892,626.018672655394,432.47206125141577,356.6155678900057,467.4278485003528,503.2173931191067,378.4735664479011,584.2183134866808,451.7278633175868,557.6341089957288,432.7207178399336,506.4238599698002,510.1598172791045,587.5747994806404,282.4712457199145,473.94985742281614,489.90805309753534,541.9722037582585,266.086340948469,494.6871558102853,689.7876041747194,387.5347163057077,441.8966315178863,604.8413188212227,302.189547809652,479.6148116731426,506.132342437705,319.9288698031936,528.3092250312227,610.1280331303979,584.1058850493533,466.4211988217437,404.8245288726869,564.7909690079206,596.516697973153,368.65478494706446,542.4124767293989,478.26212639683575,473.360495571661,559.1990479544186,447.1876443054186,505.23006828207065,557.2526867470547,422.3687366068266,445.0621855089249,442.0644137580656,533.0400601788124,424.2028270990325,498.635598489176,330.5944460341002,443.4418600624623,478.600915944333,440.0027475469415,357.7831107453153,476.139246872566,501.1224915036564,592.6884532021675,486.0834255029927,576.0252441251166,442.7228915742714,461.7909590614097,488.387525780145,593.1564014822196,392.8103449837973,443.19722102875545,535.4807751896418,533.3965537868428,532.1274491097012,558.9481123879059,508.771906741518,403.7669020956173,640.5840618984408,461.62827839108616,382.4161078654751,561.874657668983,444.57614413373005,401.0331352191061,384.3260571375157,527.7829957560522,482.144996875768,594.2744834186117,502.0925279023197,407.657178759326,708.9351848669819,531.9615505451646,521.2407802357948,447.3690271993314,385.152337987975,430.58888255648486,418.602742095224,478.9514047578855,483.7965220614929,538.941974531203,486.1637990666317,385.0950070687634,527.7837897574573,547.1907493518986,410.6029439492151,583.9778019715428,474.5323294398898,414.9350606518193,550.8133677324173,458.78113168424994,407.5421680134348,581.3089328795,546.5566668627299,503.1750851912004,549.131573287217,482.8309858617018,557.6082620533542,484.87696493512857,669.9871405017029,547.7099885778625,537.8252822957112,408.2169017707518,663.0748176067602,506.37586675019753,528.4193296952955,632.1235881419656,488.2702979651482,508.7357409506604,411.1869635742789,409.09452619233787,467.8009243667916,512.165866388158,608.2718166151668,589.0264897562791,444.0538265727727,493.18126139071865,532.724805462904,275.9184206503857,511.0387860511611,438.4177420114685,475.7250679098812,483.54319386538816,663.8036932755082,544.4092721605869,630.1567281670505,461.11224843060927,491.9115050963458,574.4156896079882,530.766718654762,581.7987976770314,556.2981411740467,502.132789227254,556.1863688687886,475.0716298996618,486.9470538397658,434.1442020262987,304.1355915788555,571.2160048349454,583.0796356620574,445.74984123965226,392.9922559140308,565.9943634015268,499.1401524490539,510.5394216996283,308.52774655803336,561.5165319790891,423.4705331738239,513.1531118530668,529.1945188649573,314.4385182951061,478.5842860083426,444.5821649786528,475.0154070877503,436.7205558562188,521.1953105318003,478.1830597118797,432.48116855701767,438.30370784642975,388.9405487921943,534.7714849461672,537.9157529213054,407.8763782204976,618.8459704239658,502.77107456549606,397.420584096457,392.2852442462675,689.2356997616951,543.1326262891694,577.7360248512277,436.5807403475482,553.9946735912697,427.3565308022928,424.7287739291025,541.0498309594356,469.38314617236114,444.5455496511082,492.55683370047706,535.3216100850124,408.9583359406166,487.5554580579016,487.64623174384167,402.1671222237256,551.0230017027826,497.38955775884335,494.6386097568927,479.2474167840931,462.65651893471335,515.5024796636585,576.4776071703129,357.85798360521926,597.7398788791847,327.37795258965207,510.4013884525048,510.50147847479735,403.8195198321978,627.603318713015,510.661792219672,573.8474377162277,529.0490041294304,551.6201454762476,456.469510066298,497.7786422156802],\"yaxis\":\"y\",\"type\":\"scatter\"},{\"hovertemplate\":\"\\u003cb\\u003eOLS trendline\\u003c\\u002fb\\u003e\\u003cbr\\u003eGasto_anual = 39.8345 * Tiempo_app + 19.2093\\u003cbr\\u003eR\\u003csup\\u003e2\\u003c\\u002fsup\\u003e=0.249328\\u003cbr\\u003e\\u003cbr\\u003eTiempo_app=%{x}\\u003cbr\\u003eGasto_anual=%{y} \\u003cb\\u003e(trend)\\u003c\\u002fb\\u003e\\u003cextra\\u003e\\u003c\\u002fextra\\u003e\",\"legendgroup\":\"\",\"line\":{\"color\":\"orange\"},\"marker\":{\"color\":\"#636efa\",\"symbol\":\"circle\"},\"mode\":\"lines\",\"name\":\"\",\"showlegend\":false,\"x\":[8.508152176032603,8.668349517101323,9.316289204373824,9.477777607959723,9.607314687519166,9.8244017703894,9.846124908736233,9.95399500605983,9.954975969174418,9.98451439654646,10.012583366223025,10.04731473507118,10.079463451952432,10.101632204781014,10.131712461927217,10.163179060052556,10.25654903128796,10.290350765056484,10.314717921893896,10.320116255059192,10.33807269503854,10.347876945661575,10.39845771308564,10.441235061603203,10.480506832694497,10.534553499461076,10.537307537840883,10.54264542398311,10.56829468563276,10.572466600106116,10.607723870859086,10.61053651970745,10.62794922615627,10.634561317920278,10.636761083696548,10.651793783474174,10.674653472691904,10.706641521307748,10.716355140061571,10.719149740628396,10.728418539377822,10.732131340303663,10.735362917985055,10.745188554182882,10.748533655415798,10.757130926114415,10.770248917443364,10.771074062599588,10.804890557641668,10.8069660677747,10.859608533152713,10.86160419912899,10.869163814130363,10.875559548189257,10.886921180951674,10.889566863427978,10.889828283005029,10.902556227019767,10.93325227854703,10.942069621017652,10.946841939586896,10.947258584185183,10.952353380458652,10.956790967791653,10.961298400154098,10.963131776054832,10.969802874106238,10.971392430875488,10.972554314292411,10.973162084317348,10.982805534662877,10.9839767277944,10.984835888186163,10.98574015235435,10.9857637851215,10.994223919350974,10.999683661085925,11.010482132400076,11.016755636715027,11.03135834040919,11.03785041365591,11.052323653306688,11.07625934092972,11.084360836740512,11.084584086421872,11.109456333168431,11.109460728682564,11.113329897404322,11.120870867123784,11.121366060509414,11.13714030231066,11.143433077943628,11.153966054877388,11.163159542913276,11.167356897497289,11.186808718643787,11.187538910878676,11.199660962300452,11.201159766003189,11.201569884684467,11.202669899735568,11.223368888365105,11.22654566351062,11.230743306761044,11.233414953540922,11.235968954252517,11.236506758754029,11.246812606011584,11.268259230574026,11.28144500356714,11.281931074103642,11.304462307422884,11.30555143041474,11.306232344673576,11.330278057777512,11.332487778094174,11.340035931978807,11.34726361146273,11.351049011250833,11.365492025516156,11.366348309710526,11.371767361249,11.378087087773377,11.379257182400217,11.386775551280651,11.38861261864104,11.388644575171451,11.395209434440888,11.398064190096813,11.405770450141056,11.40964461636565,11.433379933334455,11.435533874300315,11.448901535513796,11.466984219092826,11.47056500466582,11.481587147836263,11.48419869378604,11.499409061002083,11.509047996817198,11.509253453525044,11.514949066574868,11.520566788562215,11.52352268106905,11.52987820576495,11.540832436151057,11.546275759510358,11.548761439776756,11.550300110865926,11.55182116621942,11.562936246652605,11.56402236806554,11.56811634209842,11.568526641744768,11.584782999535266,11.586319529181234,11.588655423353044,11.588948579712495,11.591439703136588,11.59187166512224,11.60253219348616,11.608997070875462,11.608997936221536,11.612650769570312,11.620996507575208,11.622777173031125,11.634668217942473,11.634893252550466,11.644969546399302,11.656592033851751,11.657575922065584,11.658036814224134,11.659832840871443,11.662263431208276,11.668866514553862,11.670065919118978,11.673229254101274,11.684904192367505,11.691686125826353,11.693058197072652,11.695736293481328,11.72400223179126,11.724473856834608,11.725910097840954,11.730661394277831,11.731364294077403,11.732991461588078,11.733106220383402,11.733861690857392,11.735094549013704,11.73704063527238,11.739743796165987,11.747731701242175,11.752343171850052,11.75502370305383,11.76117232548311,11.761883803681748,11.764325958658198,11.764447589452988,11.765812645482358,11.777772039564963,11.792971821961505,11.795886676889108,11.79779551488024,11.80298577760313,11.810586764578169,11.814128294972196,11.818571762285,11.822721745594304,11.82298329832392,11.83023109487895,11.832112231483734,11.832286222863628,11.835476087614284,11.85139874307314,11.85189083494272,11.85468192110211,11.85766344472502,11.86412635894251,11.866481205181705,11.887345302061831,11.887494133971662,11.887800415781037,11.903756682535942,11.906507762219915,11.90784409977911,11.911415556879854,11.912210479900578,11.91374515283876,11.917115695587762,11.91763618310149,11.918670307379347,11.91885970932454,11.919242397939174,11.924394923280015,11.928842093866267,11.935934966559184,11.936386499892285,11.936895159842097,11.942340869536071,11.946590884981754,11.947175323941773,11.956426484854196,11.957923064554109,11.965020002997898,11.965980266792482,11.966898076780602,11.971750786570595,11.97906148391534,11.982044994015611,11.984417523634924,12.005916370756166,12.01102187657459,12.0131946940144,12.020112091208748,12.026925339755058,12.026942222615626,12.038808239866547,12.039502370469922,12.039647840787236,12.045331979699332,12.050267234380506,12.055340161330117,12.06415663219932,12.068816079691766,12.074830167957376,12.084091730811034,12.089309572437347,12.09396635537946,12.095889485093478,12.104542428062686,12.114944955194904,12.125401967944384,12.132509111641538,12.135101396955722,12.138793877121689,12.144748536704864,12.149375491578276,12.15858523387948,12.168596472860555,12.170525424959395,12.178331333996288,12.178573080885846,12.190474287309026,12.207298491050794,12.21407374586628,12.215252424902488,12.216854693359824,12.222483941893726,12.222967446546058,12.22772827968665,12.2289347111239,12.235659245108506,12.238057349986248,12.263717676034362,12.266503838947584,12.276056984463208,12.276981712741968,12.284467067067208,12.293365838346627,12.296517680733736,12.305417813429443,12.319845062066673,12.326291385476884,12.329147021418828,12.35195897300293,12.354607081759855,12.357638107209011,12.364341604455198,12.378490222808672,12.380694979552985,12.386516256494852,12.387184173554845,12.391422991118318,12.399436075147092,12.41554196333362,12.418113202231622,12.418808324753911,12.418961981005012,12.4241304114395,12.428736927868275,12.433128529733452,12.442616548294634,12.44304789043987,12.44761745405695,12.451200012438312,12.461135435006732,12.461147444665416,12.474455453922836,12.480701517118195,12.482669924970503,12.48806700205303,12.489013215743665,12.49105873801881,12.49432293326939,12.495591602384836,12.504219807675254,12.506548190327935,12.507525374016035,12.517666287393077,12.527471744522868,12.530357373542882,12.54248105078634,12.556107616938167,12.57989417361806,12.581547729914536,12.589240561061525,12.594194066191111,12.595420346380532,12.595671305072534,12.600750401563928,12.60888879370027,12.625432642053951,12.636606052000127,12.637557159364276,12.63857212219212,12.644202118863696,12.64519514084352,12.655651149166752,12.664192622515646,12.664390524735165,12.667808875387266,12.677401437121034,12.685393899848076,12.692661429739388,12.695789749023144,12.70368792886871,12.71070130045925,12.717995102314037,12.718039174525655,12.725677367222987,12.725909323593957,12.729719510423308,12.732211588456623,12.75207661096469,12.759168978762087,12.76153127820102,12.782171794760185,12.78389178427502,12.795188551078114,12.807751833234732,12.809883473378118,12.815392648610311,12.817113090284248,12.8288933950187,12.832802836968115,12.846499067474369,12.85499036656409,12.87798369625634,12.884124621344766,12.892374513653694,12.893669504071738,12.902664889103926,12.914570094327916,12.914846634589116,12.930928541308226,12.931550271647987,12.94155572990243,12.953262542191796,12.954811454937932,12.956276605432244,12.959226091609382,12.960307128914414,12.965761479512215,12.96832561098067,12.968893130527093,12.988220598633102,12.988510147185291,13.004362005673078,13.007819424388568,13.013375627349651,13.014459152355208,13.032534975943191,13.033566182687188,13.039511025284968,13.041244588162265,13.05221038516131,13.05827792714326,13.067895684999526,13.068638584182434,13.07869243953642,13.085356892368791,13.085505760060858,13.093537281195058,13.100109538542808,13.1045072428758,13.105158522307253,13.130021664776669,13.14655143290706,13.148725692056516,13.149669557991398,13.160020040286032,13.172287495263063,13.1777745337738,13.185181167368498,13.18681287300118,13.187910985159364,13.252737094184228,13.266760352944496,13.27147504252467,13.276313008175377,13.278956228597716,13.280432242922112,13.28303286832567,13.291143045352882,13.300299363336556,13.32541218598226,13.325469096138631,13.332839284456396,13.338975447662111,13.349912944366531,13.35063168445937,13.378063328893631,13.378562784168986,13.386235275676434,13.387492105579694,13.391120179234008,13.394451788942057,13.402331896928285,13.410759184940549,13.41493473585169,13.420545742201174,13.44340598514625,13.45212895943564,13.45772494051235,13.459222289832477,13.471577671948916,13.485008988077055,13.516284296962846,13.53191346185937,13.566159613087605,13.5878060830337,13.592512657946294,13.664747875183542,13.665769794267849,13.677245841523792,13.68511889962359,13.717513665142508,13.722453676229962,13.728627177429864,13.761532847115612,13.808798675105962,13.85806246213124,13.887275413385504,13.891313421778491,13.898081993497067,13.90991551102909,13.919494396088172,13.970181074130446,13.989592555825254,14.039867262521906,14.069382336483995,14.121783839255324,14.132893457553363,14.220979108167343,14.2880145907663,14.325654943309248,14.426491050422625,14.7153875441565,15.126994288792469],\"xaxis\":\"x\",\"y\":[358.1272262264649,364.508605815142,390.3189536490731,396.75176205635523,401.9118057247633,410.55935923814724,411.4246894035775,415.7216398566698,415.760716023321,416.93736425141304,418.0554773797226,419.43898378985307,420.7196115726836,421.60269256430917,422.8009243058247,424.05438023500903,427.7737255416292,429.1202004112703,430.09085370825386,430.3058935637476,431.02117921583823,431.41172655195953,433.426585691732,435.13059960898295,436.69497063275463,438.8478921097243,438.95759782759757,439.17022980667696,440.191955096646,440.35814118742866,441.7625966324098,441.87463706848274,442.56826337198333,442.8316526838147,442.91927923448594,443.51809918295504,444.4287032741612,445.7029309183715,446.0898679800875,446.2011894720465,446.57040735516836,446.718304891338,446.84703314436445,447.2384323639787,447.3716827699304,447.7141506747563,448.2366991861894,448.26956842373414,449.61663130119825,449.6993081915303,451.7962940205072,451.87579035947186,452.1769237774561,452.43169459016593,452.88427945156536,452.9896688671435,453.0000823830105,453.50709355810005,454.72985515552904,455.0810895074416,455.2711923899569,455.2877892155815,455.49073783339924,455.6675068673974,455.84705814261304,455.92008973897583,456.185829536249,456.2491487215405,456.2954317564006,456.3196419661698,456.7037839050362,456.75043778764143,456.7846620047903,456.8206829079285,456.8216243071859,457.15862945052515,457.3761154851524,457.80626709674175,458.0561689497802,458.6378602230046,458.8964686582535,459.4730027971684,460.42646873748663,460.749187701858,460.7580807393473,461.74885403592117,461.7490291289906,461.9031554967659,462.2035461894302,462.2232719660406,462.8516308637963,463.10230037998457,463.52187615798874,463.8880940771475,464.0552935617967,464.83014696197654,464.85923379820264,465.3421095500707,465.40181363312394,465.4181505021642,465.4619690421444,466.2865027245738,466.41304794646175,466.5802589299906,466.6866826203935,466.78841993951323,466.8098431082484,467.2203712911424,468.0746866706347,468.5999352301791,468.6192976027354,469.51681782031164,469.56020248065255,469.5873263537705,470.54517510315026,470.63319818787414,470.9338750581034,471.2217859936065,471.37257546852305,471.9479055945841,471.98201523987285,472.1978804012227,472.4496234924602,472.4962336166903,472.795724016429,472.86890266020924,472.8701756323418,473.1316834617792,473.24540120111146,473.5523761497798,473.7067015905383,474.65218586777445,474.7379870104342,475.2704809947099,475.9907954963734,476.1334342681189,476.5724957343212,476.6765253387304,477.282422579229,477.6663846840729,477.6745689475136,477.90145079598045,478.12522989359695,478.24297636793665,478.4961454611262,478.9325016561119,479.1493336730972,479.2483494820373,479.3096416621485,479.3702321283902,479.8129957031764,479.85626079714797,480.0193421701327,480.03568624782446,480.6832499907584,480.74445686756894,480.8375060236277,480.84918375807706,480.948416392435,480.9656233783932,481.3902801027321,481.6478052048353,481.647839675456,481.79334843369884,482.1257966616257,482.19672856423307,482.6704022892718,482.6793664284055,483.0807504680376,483.5437263433169,483.5829190298085,483.60127843448737,483.6728222423396,483.7696435719598,484.0326740380259,484.08045170873714,484.20646154856036,484.6715267753248,484.94168164467123,484.9963374047914,485.1030180128766,486.2289772864979,486.2477642301828,486.3049761600511,486.4942416366175,486.5222412925666,486.58705868261006,486.59163004084365,486.6217238228653,486.67083410036395,486.74835545649927,486.85603449559125,487.17422863083357,487.3579242166315,487.4647018135409,487.70962906019145,487.73797043230337,487.8352524334598,487.8400975342964,487.89447384681887,488.3708702263252,488.97634582592343,489.09245758917035,489.1684951795164,489.3752466547828,489.6780281042921,489.81910316595264,489.996106425955,490.1614188999741,490.17183771990574,490.46055000870285,490.5354841284154,490.5424149865236,490.6694816261737,491.3037525064819,491.3233547357782,491.43453623310484,491.5533037099148,491.8107506100676,491.90455471208963,492.73566539769024,492.7415940411072,492.7537946211773,493.3894043903654,493.4989922500952,493.5522245769675,493.6944917537663,493.72615710791746,493.7872900237179,493.92155387952073,493.94228723485674,493.98348104940357,493.991025779541,494.0062699858303,494.21151821167996,494.38866898969627,494.67120996525625,494.6891965658841,494.7094587762283,494.9263858516414,495.0956830549265,495.1189638835932,495.4874791724505,495.5470946634826,495.8297975961603,495.8680492159289,495.9046097099134,496.09791493581196,496.38913284556946,496.5079794526946,496.6024879631681,497.4588836017245,497.6622588288176,497.74881190621466,498.0243629045539,498.2957651944793,498.2964377146417,498.7691144755589,498.7967648150384,498.80255955112744,499.0289843331549,499.2255776928028,499.42765515722965,499.77885478934314,499.964461509932,500.20402965661054,500.57295930150536,500.7808093683603,500.96630994794197,501.0429168417989,501.3876024232032,501.801981799723,502.21853158308954,502.5016410368436,502.60490340363197,502.7519914726692,502.9891923080145,503.17350470165314,503.5403701012022,503.9391627132706,504.01600153886505,504.32694595446384,504.3365758188321,504.8106543225255,505.48083792006355,505.750726749049,505.7976788288594,505.8615043777793,506.08574262951424,506.1050027913798,506.29464815768733,506.34270574027545,506.6105741307647,506.70610141864745,507.7282674533009,507.83925283562087,508.21979752752634,508.2566336080991,508.55480888982623,508.9092869169143,509.0348389550545,509.3893712134678,509.9640733237538,510.2208593375384,510.3346121426165,511.2433146294713,511.34880069470375,511.4695400515805,511.73657045429627,512.3001734689688,512.3879988323131,512.619886437994,512.6464925743077,512.8153437156514,513.1345408416612,513.7761107044653,513.8785346979714,513.9062245500362,513.9123453686334,514.1182271657975,514.3017254043912,514.4766626306714,514.8546130234769,514.8717953184075,515.0538215605453,515.1965309512102,515.5923034550485,515.5927818536928,516.122899632644,516.3717083826429,516.4501189081054,516.665108728181,516.7028006692061,516.7842830084742,516.9143105657765,516.9648473546152,517.308547523169,517.4012974616844,517.440223076804,517.8441812024699,518.2347765991742,518.3497241632597,518.8326646789072,519.3754720096964,520.322997394758,520.3888659686598,520.6953059840373,520.8926263410137,520.9414745885474,520.95147140038,521.1537946253654,521.4779833360958,522.1369991193668,522.5820862206307,522.6199730986508,522.6604036265837,522.8846716800024,522.9242282054158,523.3407379779737,523.6809832237577,523.6888665579988,523.8250348173016,524.2071496342057,524.5255253211512,524.8150236773607,524.9396386846452,525.2542586609691,525.5336327505582,525.824177637068,525.8259332311983,526.1301967517284,526.1394366157692,526.2912134698647,526.3904841305954,527.1817971968165,527.4643180601204,527.5584190565625,528.3806235338135,528.449138441174,528.8991394000811,529.3995913538164,529.4845041545574,529.7039593474003,529.7724922662886,530.2417547127144,530.3974853440263,530.9430677189356,531.2813142986292,532.1972418901546,532.4418625171478,532.7704927805328,532.8220780650706,533.1804046518525,533.654642445742,533.6656582863701,534.306272859619,534.3310391714275,534.7296015111912,535.1959364234528,535.2576365747593,535.3160000993745,535.4334913808297,535.4765539519491,535.6938252333705,535.7959661060362,535.8185729584693,536.5884728185399,536.6000068378223,537.2314575568025,537.3691820725363,537.5905105910365,537.6336722584409,538.3537134958507,538.3947910919204,538.6316008726463,538.7006564679956,539.1374734131238,539.3791708614007,539.7622893530271,539.7918823640636,540.1923725776677,540.4578476660212,540.4637777348053,540.7837092935308,541.0455118216544,541.2206921366358,541.2466355214801,542.2370461538054,542.8955010585445,542.9821115657119,543.0197099850809,543.4320161819709,543.9206840104954,544.1392573983001,544.4342968797715,544.4992950435966,544.5430377828054,547.1253528586041,547.6839622376519,547.8717694987035,548.064487399314,548.169778740225,548.228575019985,548.332169609991,548.6552343862023,549.0199716552396,550.0203281703745,550.0225951575031,550.3161828599077,550.5606137997255,550.9963034170137,551.0249340629871,552.1176596644784,552.137555211298,552.4431850074812,552.493250187325,552.6377726557344,552.7704856336561,553.0843857266565,553.4200824576421,553.586413404074,553.8099249876725,554.7205511363259,555.0680263797444,555.2909394392453,555.3505855877072,555.8427559491013,556.3777855945209,557.6236216141572,558.2462014472142,559.6103794602866,560.4726555789748,560.6601395963714,563.5375927287782,563.5783003556487,564.0354428601947,564.3490621245555,565.6394911297019,565.8362739583745,566.0821922381967,567.3929728509305,569.275783064679,571.238180960217,572.401864012728,572.5627160229175,572.8323386341373,573.3037207852849,573.6852907988102,575.704368834182,576.4776153328245,578.4802826992143,579.6560006561008,581.7433878622188,582.1859338556301,585.6947809384432,588.3651052866519,589.864489582457,593.8812446137339,605.3892894792407,621.7854347664153],\"yaxis\":\"y\",\"type\":\"scatter\"}],                        {\"template\":{\"data\":{\"barpolar\":[{\"marker\":{\"line\":{\"color\":\"rgb(17,17,17)\",\"width\":0.5},\"pattern\":{\"fillmode\":\"overlay\",\"size\":10,\"solidity\":0.2}},\"type\":\"barpolar\"}],\"bar\":[{\"error_x\":{\"color\":\"#f2f5fa\"},\"error_y\":{\"color\":\"#f2f5fa\"},\"marker\":{\"line\":{\"color\":\"rgb(17,17,17)\",\"width\":0.5},\"pattern\":{\"fillmode\":\"overlay\",\"size\":10,\"solidity\":0.2}},\"type\":\"bar\"}],\"carpet\":[{\"aaxis\":{\"endlinecolor\":\"#A2B1C6\",\"gridcolor\":\"#506784\",\"linecolor\":\"#506784\",\"minorgridcolor\":\"#506784\",\"startlinecolor\":\"#A2B1C6\"},\"baxis\":{\"endlinecolor\":\"#A2B1C6\",\"gridcolor\":\"#506784\",\"linecolor\":\"#506784\",\"minorgridcolor\":\"#506784\",\"startlinecolor\":\"#A2B1C6\"},\"type\":\"carpet\"}],\"choropleth\":[{\"colorbar\":{\"outlinewidth\":0,\"ticks\":\"\"},\"type\":\"choropleth\"}],\"contourcarpet\":[{\"colorbar\":{\"outlinewidth\":0,\"ticks\":\"\"},\"type\":\"contourcarpet\"}],\"contour\":[{\"colorbar\":{\"outlinewidth\":0,\"ticks\":\"\"},\"colorscale\":[[0.0,\"#0d0887\"],[0.1111111111111111,\"#46039f\"],[0.2222222222222222,\"#7201a8\"],[0.3333333333333333,\"#9c179e\"],[0.4444444444444444,\"#bd3786\"],[0.5555555555555556,\"#d8576b\"],[0.6666666666666666,\"#ed7953\"],[0.7777777777777778,\"#fb9f3a\"],[0.8888888888888888,\"#fdca26\"],[1.0,\"#f0f921\"]],\"type\":\"contour\"}],\"heatmapgl\":[{\"colorbar\":{\"outlinewidth\":0,\"ticks\":\"\"},\"colorscale\":[[0.0,\"#0d0887\"],[0.1111111111111111,\"#46039f\"],[0.2222222222222222,\"#7201a8\"],[0.3333333333333333,\"#9c179e\"],[0.4444444444444444,\"#bd3786\"],[0.5555555555555556,\"#d8576b\"],[0.6666666666666666,\"#ed7953\"],[0.7777777777777778,\"#fb9f3a\"],[0.8888888888888888,\"#fdca26\"],[1.0,\"#f0f921\"]],\"type\":\"heatmapgl\"}],\"heatmap\":[{\"colorbar\":{\"outlinewidth\":0,\"ticks\":\"\"},\"colorscale\":[[0.0,\"#0d0887\"],[0.1111111111111111,\"#46039f\"],[0.2222222222222222,\"#7201a8\"],[0.3333333333333333,\"#9c179e\"],[0.4444444444444444,\"#bd3786\"],[0.5555555555555556,\"#d8576b\"],[0.6666666666666666,\"#ed7953\"],[0.7777777777777778,\"#fb9f3a\"],[0.8888888888888888,\"#fdca26\"],[1.0,\"#f0f921\"]],\"type\":\"heatmap\"}],\"histogram2dcontour\":[{\"colorbar\":{\"outlinewidth\":0,\"ticks\":\"\"},\"colorscale\":[[0.0,\"#0d0887\"],[0.1111111111111111,\"#46039f\"],[0.2222222222222222,\"#7201a8\"],[0.3333333333333333,\"#9c179e\"],[0.4444444444444444,\"#bd3786\"],[0.5555555555555556,\"#d8576b\"],[0.6666666666666666,\"#ed7953\"],[0.7777777777777778,\"#fb9f3a\"],[0.8888888888888888,\"#fdca26\"],[1.0,\"#f0f921\"]],\"type\":\"histogram2dcontour\"}],\"histogram2d\":[{\"colorbar\":{\"outlinewidth\":0,\"ticks\":\"\"},\"colorscale\":[[0.0,\"#0d0887\"],[0.1111111111111111,\"#46039f\"],[0.2222222222222222,\"#7201a8\"],[0.3333333333333333,\"#9c179e\"],[0.4444444444444444,\"#bd3786\"],[0.5555555555555556,\"#d8576b\"],[0.6666666666666666,\"#ed7953\"],[0.7777777777777778,\"#fb9f3a\"],[0.8888888888888888,\"#fdca26\"],[1.0,\"#f0f921\"]],\"type\":\"histogram2d\"}],\"histogram\":[{\"marker\":{\"pattern\":{\"fillmode\":\"overlay\",\"size\":10,\"solidity\":0.2}},\"type\":\"histogram\"}],\"mesh3d\":[{\"colorbar\":{\"outlinewidth\":0,\"ticks\":\"\"},\"type\":\"mesh3d\"}],\"parcoords\":[{\"line\":{\"colorbar\":{\"outlinewidth\":0,\"ticks\":\"\"}},\"type\":\"parcoords\"}],\"pie\":[{\"automargin\":true,\"type\":\"pie\"}],\"scatter3d\":[{\"line\":{\"colorbar\":{\"outlinewidth\":0,\"ticks\":\"\"}},\"marker\":{\"colorbar\":{\"outlinewidth\":0,\"ticks\":\"\"}},\"type\":\"scatter3d\"}],\"scattercarpet\":[{\"marker\":{\"colorbar\":{\"outlinewidth\":0,\"ticks\":\"\"}},\"type\":\"scattercarpet\"}],\"scattergeo\":[{\"marker\":{\"colorbar\":{\"outlinewidth\":0,\"ticks\":\"\"}},\"type\":\"scattergeo\"}],\"scattergl\":[{\"marker\":{\"line\":{\"color\":\"#283442\"}},\"type\":\"scattergl\"}],\"scattermapbox\":[{\"marker\":{\"colorbar\":{\"outlinewidth\":0,\"ticks\":\"\"}},\"type\":\"scattermapbox\"}],\"scatterpolargl\":[{\"marker\":{\"colorbar\":{\"outlinewidth\":0,\"ticks\":\"\"}},\"type\":\"scatterpolargl\"}],\"scatterpolar\":[{\"marker\":{\"colorbar\":{\"outlinewidth\":0,\"ticks\":\"\"}},\"type\":\"scatterpolar\"}],\"scatter\":[{\"marker\":{\"line\":{\"color\":\"#283442\"}},\"type\":\"scatter\"}],\"scatterternary\":[{\"marker\":{\"colorbar\":{\"outlinewidth\":0,\"ticks\":\"\"}},\"type\":\"scatterternary\"}],\"surface\":[{\"colorbar\":{\"outlinewidth\":0,\"ticks\":\"\"},\"colorscale\":[[0.0,\"#0d0887\"],[0.1111111111111111,\"#46039f\"],[0.2222222222222222,\"#7201a8\"],[0.3333333333333333,\"#9c179e\"],[0.4444444444444444,\"#bd3786\"],[0.5555555555555556,\"#d8576b\"],[0.6666666666666666,\"#ed7953\"],[0.7777777777777778,\"#fb9f3a\"],[0.8888888888888888,\"#fdca26\"],[1.0,\"#f0f921\"]],\"type\":\"surface\"}],\"table\":[{\"cells\":{\"fill\":{\"color\":\"#506784\"},\"line\":{\"color\":\"rgb(17,17,17)\"}},\"header\":{\"fill\":{\"color\":\"#2a3f5f\"},\"line\":{\"color\":\"rgb(17,17,17)\"}},\"type\":\"table\"}]},\"layout\":{\"annotationdefaults\":{\"arrowcolor\":\"#f2f5fa\",\"arrowhead\":0,\"arrowwidth\":1},\"autotypenumbers\":\"strict\",\"coloraxis\":{\"colorbar\":{\"outlinewidth\":0,\"ticks\":\"\"}},\"colorscale\":{\"diverging\":[[0,\"#8e0152\"],[0.1,\"#c51b7d\"],[0.2,\"#de77ae\"],[0.3,\"#f1b6da\"],[0.4,\"#fde0ef\"],[0.5,\"#f7f7f7\"],[0.6,\"#e6f5d0\"],[0.7,\"#b8e186\"],[0.8,\"#7fbc41\"],[0.9,\"#4d9221\"],[1,\"#276419\"]],\"sequential\":[[0.0,\"#0d0887\"],[0.1111111111111111,\"#46039f\"],[0.2222222222222222,\"#7201a8\"],[0.3333333333333333,\"#9c179e\"],[0.4444444444444444,\"#bd3786\"],[0.5555555555555556,\"#d8576b\"],[0.6666666666666666,\"#ed7953\"],[0.7777777777777778,\"#fb9f3a\"],[0.8888888888888888,\"#fdca26\"],[1.0,\"#f0f921\"]],\"sequentialminus\":[[0.0,\"#0d0887\"],[0.1111111111111111,\"#46039f\"],[0.2222222222222222,\"#7201a8\"],[0.3333333333333333,\"#9c179e\"],[0.4444444444444444,\"#bd3786\"],[0.5555555555555556,\"#d8576b\"],[0.6666666666666666,\"#ed7953\"],[0.7777777777777778,\"#fb9f3a\"],[0.8888888888888888,\"#fdca26\"],[1.0,\"#f0f921\"]]},\"colorway\":[\"#636efa\",\"#EF553B\",\"#00cc96\",\"#ab63fa\",\"#FFA15A\",\"#19d3f3\",\"#FF6692\",\"#B6E880\",\"#FF97FF\",\"#FECB52\"],\"font\":{\"color\":\"#f2f5fa\"},\"geo\":{\"bgcolor\":\"rgb(17,17,17)\",\"lakecolor\":\"rgb(17,17,17)\",\"landcolor\":\"rgb(17,17,17)\",\"showlakes\":true,\"showland\":true,\"subunitcolor\":\"#506784\"},\"hoverlabel\":{\"align\":\"left\"},\"hovermode\":\"closest\",\"mapbox\":{\"style\":\"dark\"},\"paper_bgcolor\":\"rgb(17,17,17)\",\"plot_bgcolor\":\"rgb(17,17,17)\",\"polar\":{\"angularaxis\":{\"gridcolor\":\"#506784\",\"linecolor\":\"#506784\",\"ticks\":\"\"},\"bgcolor\":\"rgb(17,17,17)\",\"radialaxis\":{\"gridcolor\":\"#506784\",\"linecolor\":\"#506784\",\"ticks\":\"\"}},\"scene\":{\"xaxis\":{\"backgroundcolor\":\"rgb(17,17,17)\",\"gridcolor\":\"#506784\",\"gridwidth\":2,\"linecolor\":\"#506784\",\"showbackground\":true,\"ticks\":\"\",\"zerolinecolor\":\"#C8D4E3\"},\"yaxis\":{\"backgroundcolor\":\"rgb(17,17,17)\",\"gridcolor\":\"#506784\",\"gridwidth\":2,\"linecolor\":\"#506784\",\"showbackground\":true,\"ticks\":\"\",\"zerolinecolor\":\"#C8D4E3\"},\"zaxis\":{\"backgroundcolor\":\"rgb(17,17,17)\",\"gridcolor\":\"#506784\",\"gridwidth\":2,\"linecolor\":\"#506784\",\"showbackground\":true,\"ticks\":\"\",\"zerolinecolor\":\"#C8D4E3\"}},\"shapedefaults\":{\"line\":{\"color\":\"#f2f5fa\"}},\"sliderdefaults\":{\"bgcolor\":\"#C8D4E3\",\"bordercolor\":\"rgb(17,17,17)\",\"borderwidth\":1,\"tickwidth\":0},\"ternary\":{\"aaxis\":{\"gridcolor\":\"#506784\",\"linecolor\":\"#506784\",\"ticks\":\"\"},\"baxis\":{\"gridcolor\":\"#506784\",\"linecolor\":\"#506784\",\"ticks\":\"\"},\"bgcolor\":\"rgb(17,17,17)\",\"caxis\":{\"gridcolor\":\"#506784\",\"linecolor\":\"#506784\",\"ticks\":\"\"}},\"title\":{\"x\":0.05},\"updatemenudefaults\":{\"bgcolor\":\"#506784\",\"borderwidth\":0},\"xaxis\":{\"automargin\":true,\"gridcolor\":\"#283442\",\"linecolor\":\"#506784\",\"ticks\":\"\",\"title\":{\"standoff\":15},\"zerolinecolor\":\"#283442\",\"zerolinewidth\":2},\"yaxis\":{\"automargin\":true,\"gridcolor\":\"#283442\",\"linecolor\":\"#506784\",\"ticks\":\"\",\"title\":{\"standoff\":15},\"zerolinecolor\":\"#283442\",\"zerolinewidth\":2}}},\"xaxis\":{\"anchor\":\"y\",\"domain\":[0.0,1.0],\"title\":{\"text\":\"Tiempo_app\"}},\"yaxis\":{\"anchor\":\"x\",\"domain\":[0.0,1.0],\"title\":{\"text\":\"Gasto_anual\"}},\"legend\":{\"tracegroupgap\":0},\"title\":{\"text\":\"La variable Tiempo_app\"}},                        {\"responsive\": true}                    ).then(function(){\n",
              "                            \n",
              "var gd = document.getElementById('899076fb-584b-4af7-a7e3-0effdb55a19d');\n",
              "var x = new MutationObserver(function (mutations, observer) {{\n",
              "        var display = window.getComputedStyle(gd).display;\n",
              "        if (!display || display === 'none') {{\n",
              "            console.log([gd, 'removed!']);\n",
              "            Plotly.purge(gd);\n",
              "            observer.disconnect();\n",
              "        }}\n",
              "}});\n",
              "\n",
              "// Listen for the removal of the full notebook cells\n",
              "var notebookContainer = gd.closest('#notebook-container');\n",
              "if (notebookContainer) {{\n",
              "    x.observe(notebookContainer, {childList: true});\n",
              "}}\n",
              "\n",
              "// Listen for the clearing of the current output cell\n",
              "var outputEl = gd.closest('.output');\n",
              "if (outputEl) {{\n",
              "    x.observe(outputEl, {childList: true});\n",
              "}}\n",
              "\n",
              "                        })                };                            </script>        </div>\n",
              "</body>\n",
              "</html>"
            ]
          },
          "metadata": {}
        },
        {
          "output_type": "display_data",
          "data": {
            "text/html": [
              "<html>\n",
              "<head><meta charset=\"utf-8\" /></head>\n",
              "<body>\n",
              "    <div>            <script src=\"https://cdnjs.cloudflare.com/ajax/libs/mathjax/2.7.5/MathJax.js?config=TeX-AMS-MML_SVG\"></script><script type=\"text/javascript\">if (window.MathJax && window.MathJax.Hub && window.MathJax.Hub.Config) {window.MathJax.Hub.Config({SVG: {font: \"STIX-Web\"}});}</script>                <script type=\"text/javascript\">window.PlotlyConfig = {MathJaxConfig: 'local'};</script>\n",
              "        <script charset=\"utf-8\" src=\"https://cdn.plot.ly/plotly-2.24.1.min.js\"></script>                <div id=\"60f4bd4e-c5b0-4f66-b74d-306267c6af44\" class=\"plotly-graph-div\" style=\"height:525px; width:100%;\"></div>            <script type=\"text/javascript\">                                    window.PLOTLYENV=window.PLOTLYENV || {};                                    if (document.getElementById(\"60f4bd4e-c5b0-4f66-b74d-306267c6af44\")) {                    Plotly.newPlot(                        \"60f4bd4e-c5b0-4f66-b74d-306267c6af44\",                        [{\"hovertemplate\":\"Tiempo_web=%{x}\\u003cbr\\u003eGasto_anual=%{y}\\u003cextra\\u003e\\u003c\\u002fextra\\u003e\",\"legendgroup\":\"\",\"marker\":{\"color\":\"#636efa\",\"symbol\":\"circle\"},\"mode\":\"markers\",\"name\":\"\",\"orientation\":\"v\",\"showlegend\":false,\"x\":[39.57766801952616,37.268958868297744,37.11059744212085,36.72128267790313,37.53665330059473,34.47687762925054,36.683776152869605,37.373358858547554,37.534497341555735,37.14516822352819,37.22580613162114,37.087926070983805,37.42021557502538,36.14466670004192,36.61995708279922,36.213763093698624,34.8940927514398,38.38513659413844,38.24411459434352,37.19050380039796,37.60779252420698,37.44102133556604,38.73400628989712,36.77260376125875,37.63575587790592,37.73852494557909,36.430649621049305,37.85177916943607,35.29308775436051,37.27781174207212,36.16364817104465,35.62244242064545,35.69417498569782,38.878040506759845,35.36862632536302,38.76864099802668,36.7657223578584,37.0443614002997,37.38831486719822,36.37147981406854,37.53429101112127,37.49669014561275,37.14286198458455,36.888086054199256,36.11243501077792,39.13109673366661,37.33544589432572,36.46200325853961,36.58272776540628,36.59445670006827,37.78026468722867,37.266878259420906,37.45340510152358,35.93344930095986,38.46832110587932,35.25224202243303,39.25293095040623,36.17312563197192,36.81401056250368,37.271221692501925,38.05260975257308,36.49399254673739,37.99702800956553,37.4087484767376,36.60077705432864,37.15762409406526,35.358444307206696,36.375066106372905,37.68040322813719,40.005181638101895,36.265000697022046,36.1571911511149,38.00658317947767,37.03153921676629,38.260353442660126,38.73086173541955,36.628834292811774,35.89243163440533,38.21257083414733,36.91463331144087,39.6003764658614,35.88399438701215,37.0589128165069,37.78114255999947,36.15725594420065,36.182539282355286,37.15192066097144,36.81909551318471,36.951616684246815,36.1050004999139,37.87521910003027,36.77312349371806,36.05024078202619,37.72438615760942,36.63385670229112,38.633625651583536,38.06341358683894,37.827394227862136,39.074400211336965,35.89035795567322,35.9904889547585,37.385317552778375,37.58019042917731,36.26203180012439,38.07445241970454,35.84582711383271,36.15246208860067,37.71250863884946,38.16643555663392,38.5030088492416,37.32533422381935,37.71598617762173,38.415041581538325,37.3096887708795,35.60082054911087,37.69230086128235,36.701052315547926,35.9990993016087,38.3099078951232,37.54052035512257,35.00748225744693,37.67321036564864,37.38794554263559,36.5496679900966,37.57016384471318,37.09326487011031,36.63465232853774,37.14600652898046,36.71413783923341,37.526421027792445,37.245032469967526,38.94882502753235,37.41413357473937,36.599112354294384,37.42454792226391,36.10091445210865,36.59436168489157,36.4944064828881,37.45837473122323,37.327282689879496,36.59937399114725,35.97765170714366,35.73055240228659,39.29404346247573,38.27470219571763,36.51838358912681,37.23200330765404,37.33866962178549,36.95155521050133,36.584437621758106,38.3072040068692,37.431159098326106,37.396497475332055,36.96638889642577,36.95964319393419,37.23880567308968,37.32784803784372,33.91384724758464,39.09462702670515,38.304471191707776,38.03910938707497,35.01280603355904,38.31136489758187,36.93615937845674,37.65861690944284,37.66110668399285,38.9240870506292,35.037856159447585,36.4077474507818,37.63300941664362,37.57883524203316,36.87831536782346,35.90729842685246,36.93988205032054,38.83567008085342,37.480911976267066,38.57651554990162,36.81385766052378,35.6742560274292,37.81915511227683,37.9596843202141,38.856041708111945,37.67924462448078,37.25305774145061,36.0869343253416,37.06462119956545,36.54550622682937,37.964390331775896,36.094241952849465,38.23260622710401,37.63529940965426,37.15315160406014,35.49396408005127,36.33780003116479,37.90913871755985,37.278639793707605,37.1020313268591,37.42676891745393,37.28139282998597,35.90772142967966,36.67822227440393,36.04545942048616,37.03951365322458,38.68870909942437,35.45986279714474,37.952013186883086,38.252978273334655,36.77601657686874,35.53386350026307,37.77736579677647,38.13171202563648,36.05964597986499,38.76429717446252,35.773116391246816,36.54466409871873,34.89198326749108,38.35495987026449,36.22355746230224,37.12234520816764,35.73870747121452,37.743619699549896,37.67502073290805,38.585854757332655,36.28872395038688,37.71777057005867,36.14390845634163,37.073616172195656,37.60565280041329,36.65127791701514,37.9514894585739,35.57484166706179,37.25803145871123,37.79223754313027,37.33281445580523,37.07679515601331,35.96889569049678,37.37011822360151,37.06708996741924,36.97119509745716,38.57360522634684,36.90937820695247,36.097220934711,39.08156474568163,36.94612578169275,35.96566746423624,37.68933697894965,36.32365246819823,37.52319665049046,36.947953692845566,36.84473381504451,37.19279353222784,34.84561239331277,36.13389429009422,36.19975347391624,36.67387835766538,39.22071295098572,36.36024719793431,36.63610411908917,38.99332245115573,37.37276214632111,37.37418350489759,36.655208083959465,36.85481082475086,38.238940853091385,36.52738830431376,37.34126616101072,37.97982686004657,36.853882459920776,36.8227532265912,37.29204470528371,38.655094538522064,36.22604169397467,36.76860309148005,36.57513377612486,35.669935165958194,37.74560774187829,36.876313233417314,36.897294609068695,37.74469969514907,37.02687697079434,37.55088041321525,38.4194685327455,37.78903634703419,35.675727630820134,38.71707629773135,36.62077385548951,35.7218273299056,39.06886445133981,35.74277912557426,38.55103028983871,37.26387556144864,37.03479128933126,35.94639914639545,34.81063145023747,37.24032955207884,36.19083323650043,37.0616887661275,38.61733445368848,35.62658733096311,35.97656497174036,36.98591347608606,38.06692960186935,37.80697766984659,36.92504303887863,36.57503097579012,36.33952101023726,36.25781911850192,37.36839124072731,36.5170857636486,35.46240008104617,36.54860515461888,36.54759627699103,36.315763151803424,35.622530591605994,37.87095205416159,37.53453024067718,37.27757337619507,36.60950715426321,36.90022076162611,37.19419104646396,38.296110372778266,37.33310741829708,36.14579171248221,37.64629178743077,37.22939451627662,36.31272657154038,38.44276668680506,37.38718052656558,38.04031366664072,35.92159518889928,37.08884657968332,37.1088163801084,37.93518904595916,35.86244707788159,36.59586794587455,39.24880390433504,38.26906069147024,37.42899736939191,38.0706642585136,37.33224074655334,36.77386136993079,37.76668677332467,35.77778217066089,37.95780983454751,37.84065507750671,37.97738873797974,35.82346666642284,37.83397172859896,34.897827688311345,36.37750903434099,37.33359061333867,38.19748324839899,36.88119240747175,35.90025278215821,35.12882235312117,35.9745781075859,37.76369040280343,37.49189221040693,35.71626915951701,37.65040020345744,36.04898625036686,39.04515569638811,36.91495154541398,35.444264696393994,37.922703809566,38.00182746752369,36.841491638054855,35.93896250240334,36.232109802584205,37.90601452014432,37.76304108154524,38.11045690682496,36.9569654250941,37.088319364334765,38.04345265084127,36.90818962373682,37.68546548721554,35.78392374450292,36.66579136924871,38.29572526401705,35.55077226680613,37.951946317735135,37.34573893439929,35.42933438847124,36.18913179541947,34.57402758718963,38.95246252162795,34.48718474774243,36.17049420248099,37.02715036476952,36.8821490815068,37.31770494919684,37.128039498322295,36.155336204959546,38.38195597213616,37.86921693600857,35.565436237139735,36.04620351842453,38.918748541019504,37.19936752783635,37.329818625212354,36.5173461200418,37.30596141998359,38.31564796064117,36.688366542504845,37.05261630809583,35.56917031744619,38.50588332918249,36.99529016635977,35.18912244437772,38.77566529611688,36.98504141740091,35.9380452301724,36.72902940108787,37.62690680204789,38.79123468689964,37.6373109611636,36.95395970110429,37.07437106706513,36.01231723045213,37.14209368933963,36.72527682557127,36.393683855020775,36.68339299807869,37.86144725932397,36.456898410524325,37.23984661097634,39.67259095594186,37.02226898591233,38.42286529341121,38.40137368953426,36.61119877576035,35.63211221551042,36.30854529439036,36.35250276938114,37.023479236405706,36.08964365766702,39.24096484164356,37.18144731064989,37.30536187928602,36.831535850846905,36.97937237345656,35.906756365793065,37.64583878801402,35.4567981489283,35.633953947400784,36.486325072393406,37.80550943244919,37.680287608367976,37.68387537364701,37.64780805527063,36.83936583281821,36.80837605948795,37.72236711094261,36.32214091690131,35.76615350038372,34.77975050203264,37.03427958207978,36.86218334634355,37.42527868006791,36.83865678634849,35.26149811626243,37.21115258135112,36.929761561703394,38.40632901011416,37.67232248424959,34.649800047407126,36.36684324701071,37.48704924855169,36.67395273856423,36.59928908739349,36.378271013194265,38.86023443032663,36.16646339192148,37.0716431982524,36.29889307823573,38.68258378408295,36.16604163340145,36.87502580891776,38.12651979793058,35.769329630500295,35.536024530304154,36.074551140168914,37.198427822725975,36.87454360467994,36.35523488364423,36.53409567089256,36.058647603220486,38.18776368086846,37.13312675937632,37.68487727530606,36.81293412550146,37.83544772741218,35.539142427505084,37.96597162275134,36.4179847963968,37.1902677104526,38.33257633196044,36.84008572976701,35.771016191612965],\"xaxis\":\"x\",\"y\":[587.9510539684005,392.2049334443264,487.54750486747207,581.8523440352178,599.4060920457634,637.102447915074,521.5721747578274,549.9041461052942,570.2004089636195,427.19938489532814,492.6060127179966,522.3374046069357,408.64035107262754,573.4158673313865,470.45273330095546,461.7807421962299,457.84769594494855,407.7045475495441,452.31567548003545,605.061038804892,534.7057438060227,419.9387748391792,436.51560572936256,519.3409891307888,700.9170916173961,423.17999168059777,619.8956398616368,486.83893476506273,529.537665336851,554.7220838330761,497.5866713004408,447.6879065360586,588.7126055095755,491.0732236795197,507.4418323396167,521.8835731664784,347.7769266318726,490.7386321439546,478.1703340540876,537.8461952695957,532.7517875818365,501.8744302842695,591.1971781805905,547.2443434159983,448.22982918655,549.860590464497,593.915002968289,563.6728733601082,479.73194908594513,416.3583535799008,725.5848140556805,442.667251738628,384.6265715694054,451.4574468676027,522.40414125956,483.6733080190456,520.8987944502368,453.16950235469744,496.650708068581,547.3651405940458,616.8515229667128,507.21256900067846,613.5993233689068,483.15972078451705,540.2634004105403,765.5184619388372,553.6015346844503,469.3108614953106,408.62018782983785,451.575685159493,444.96655165329264,595.8228366992037,418.1500810968496,534.7771880994133,578.2416050583773,478.7193568742153,444.2859074976436,544.7798637193825,488.7860610939056,475.759067788328,489.8124879964614,462.8976361529081,596.4301726172283,338.3198626415221,533.5149352552407,536.7718993628412,487.3793060170291,473.7289665129948,547.1259317471988,505.1133435398579,449.0703194428044,611.0000251040717,515.8288148548279,439.074766741645,514.088957746572,543.340166256701,521.1429518103512,614.7153338263417,507.39006178986654,495.2994425473086,518.0645579840107,390.1032729724755,420.7376732446371,492.1050523891852,410.06961105998295,497.5136833293677,494.55186108657256,378.3309069068038,570.451725912857,549.0082269346927,459.285123462352,492.94505306595823,424.7626355099111,422.42677587650905,642.1015787311585,413.3717831104521,479.23109291159307,593.0772413447512,506.5473070543516,571.3074948754644,576.311177371677,576.8025473995871,514.239520718957,495.17595044947535,514.3365582674007,541.2265839893283,516.8315566841785,468.4457372274064,548.2803201983364,431.6177337614297,552.9403454501057,573.3062222574563,452.627254995083,542.7115581025776,407.8040306356823,482.3535703213531,529.2300901235094,433.0487690958266,476.1914133494556,439.997879939927,448.9332932076743,472.9922466667984,463.9235129903258,350.0582001638451,460.0612773912433,505.7711403229565,463.484995404266,479.73193764530447,424.18549428888633,465.8893127108669,426.7752159856604,684.1634310159513,555.8925953881737,657.019923937652,595.8038188761142,503.9783790525795,586.1558701804728,744.2218671047146,512.8253581285203,528.2238093680072,468.9135013219844,357.59143941508603,536.4231045259343,490.2065999848546,550.0475805761635,513.4505711860965,497.8119300055205,578.9862585804898,506.5363931400864,501.74923330839226,421.96679418586734,439.8912804768136,666.125591725772,298.76200786180766,465.1766233052969,373.8857236969501,532.7174856761748,554.9007830202702,537.7731625414566,501.100245232053,517.1651355939779,557.5292736134538,493.719192978176,452.1226250857849,577.2734549822936,485.9231305248517,425.7450920310528,537.2150526997326,524.6379646141049,478.8853913201482,612.3852298963607,476.7667241547634,505.1196375282037,545.9454921414049,434.0216997527185,424.6752810132133,352.5501081630003,662.9610878058954,560.5601606242603,467.5019004269896,504.8704323933724,590.56271964715,443.9656268098819,392.4973991890214,568.7175759305223,712.3963268096636,413.29599918102974,562.0820453929382,412.012931298847,468.6684655991273,496.55408163560713,548.5185292758069,536.1308968550214,558.4272571753238,357.8637186383917,529.0566631985306,387.35707273642186,528.9336185650203,420.91615953269286,496.9334462555319,519.372976801355,591.4377355684503,502.4097853029053,604.3348400688554,555.068394054576,256.67058229005585,547.1109823629461,461.92087689289787,458.3769106506301,436.2834981467513,532.9352188376637,512.5525343564015,630.4227632299235,463.74598112062944,493.18021624931,501.2091726816533,501.9282648732441,376.3369007569242,421.3266312569514,538.774933478023,398.163468533652,571.4710341154246,451.6286105401996,490.6004425003995,591.7810894256675,409.0704720533178,563.4460356732392,647.6194557251926,448.34042501104767,518.7864830920807,523.6339351357243,393.8573709860865,426.154547713103,503.3878872879605,482.6024673294826,524.7976275698039,574.6548433659395,574.7472196620896,660.4251842914138,375.3984554102431,640.1877400085721,514.0098178487356,376.496840718537,484.5198091105511,614.7296376283244,567.4750105270774,554.003093429799,399.98387159812256,479.17285149109694,585.9318442972224,540.9957391083377,628.0478039330167,582.4919237338106,640.7861663983061,446.4186733701357,570.6300980875259,423.3083340974698,616.6602860166826,530.3624688854229,442.3631173838644,511.9798599920658,560.4437921717631,475.26342372754846,374.2696745439231,463.59141802794056,471.602884392892,626.018672655394,432.47206125141577,356.6155678900057,467.4278485003528,503.2173931191067,378.4735664479011,584.2183134866808,451.7278633175868,557.6341089957288,432.7207178399336,506.4238599698002,510.1598172791045,587.5747994806404,282.4712457199145,473.94985742281614,489.90805309753534,541.9722037582585,266.086340948469,494.6871558102853,689.7876041747194,387.5347163057077,441.8966315178863,604.8413188212227,302.189547809652,479.6148116731426,506.132342437705,319.9288698031936,528.3092250312227,610.1280331303979,584.1058850493533,466.4211988217437,404.8245288726869,564.7909690079206,596.516697973153,368.65478494706446,542.4124767293989,478.26212639683575,473.360495571661,559.1990479544186,447.1876443054186,505.23006828207065,557.2526867470547,422.3687366068266,445.0621855089249,442.0644137580656,533.0400601788124,424.2028270990325,498.635598489176,330.5944460341002,443.4418600624623,478.600915944333,440.0027475469415,357.7831107453153,476.139246872566,501.1224915036564,592.6884532021675,486.0834255029927,576.0252441251166,442.7228915742714,461.7909590614097,488.387525780145,593.1564014822196,392.8103449837973,443.19722102875545,535.4807751896418,533.3965537868428,532.1274491097012,558.9481123879059,508.771906741518,403.7669020956173,640.5840618984408,461.62827839108616,382.4161078654751,561.874657668983,444.57614413373005,401.0331352191061,384.3260571375157,527.7829957560522,482.144996875768,594.2744834186117,502.0925279023197,407.657178759326,708.9351848669819,531.9615505451646,521.2407802357948,447.3690271993314,385.152337987975,430.58888255648486,418.602742095224,478.9514047578855,483.7965220614929,538.941974531203,486.1637990666317,385.0950070687634,527.7837897574573,547.1907493518986,410.6029439492151,583.9778019715428,474.5323294398898,414.9350606518193,550.8133677324173,458.78113168424994,407.5421680134348,581.3089328795,546.5566668627299,503.1750851912004,549.131573287217,482.8309858617018,557.6082620533542,484.87696493512857,669.9871405017029,547.7099885778625,537.8252822957112,408.2169017707518,663.0748176067602,506.37586675019753,528.4193296952955,632.1235881419656,488.2702979651482,508.7357409506604,411.1869635742789,409.09452619233787,467.8009243667916,512.165866388158,608.2718166151668,589.0264897562791,444.0538265727727,493.18126139071865,532.724805462904,275.9184206503857,511.0387860511611,438.4177420114685,475.7250679098812,483.54319386538816,663.8036932755082,544.4092721605869,630.1567281670505,461.11224843060927,491.9115050963458,574.4156896079882,530.766718654762,581.7987976770314,556.2981411740467,502.132789227254,556.1863688687886,475.0716298996618,486.9470538397658,434.1442020262987,304.1355915788555,571.2160048349454,583.0796356620574,445.74984123965226,392.9922559140308,565.9943634015268,499.1401524490539,510.5394216996283,308.52774655803336,561.5165319790891,423.4705331738239,513.1531118530668,529.1945188649573,314.4385182951061,478.5842860083426,444.5821649786528,475.0154070877503,436.7205558562188,521.1953105318003,478.1830597118797,432.48116855701767,438.30370784642975,388.9405487921943,534.7714849461672,537.9157529213054,407.8763782204976,618.8459704239658,502.77107456549606,397.420584096457,392.2852442462675,689.2356997616951,543.1326262891694,577.7360248512277,436.5807403475482,553.9946735912697,427.3565308022928,424.7287739291025,541.0498309594356,469.38314617236114,444.5455496511082,492.55683370047706,535.3216100850124,408.9583359406166,487.5554580579016,487.64623174384167,402.1671222237256,551.0230017027826,497.38955775884335,494.6386097568927,479.2474167840931,462.65651893471335,515.5024796636585,576.4776071703129,357.85798360521926,597.7398788791847,327.37795258965207,510.4013884525048,510.50147847479735,403.8195198321978,627.603318713015,510.661792219672,573.8474377162277,529.0490041294304,551.6201454762476,456.469510066298,497.7786422156802],\"yaxis\":\"y\",\"type\":\"scatter\"},{\"hovertemplate\":\"\\u003cb\\u003eOLS trendline\\u003c\\u002fb\\u003e\\u003cbr\\u003eGasto_anual = -0.207284 * Tiempo_web + 506.996\\u003cbr\\u003eR\\u003csup\\u003e2\\u003c\\u002fsup\\u003e=0.000007\\u003cbr\\u003e\\u003cbr\\u003eTiempo_web=%{x}\\u003cbr\\u003eGasto_anual=%{y} \\u003cb\\u003e(trend)\\u003c\\u002fb\\u003e\\u003cextra\\u003e\\u003c\\u002fextra\\u003e\",\"legendgroup\":\"\",\"line\":{\"color\":\"orange\"},\"marker\":{\"color\":\"#636efa\",\"symbol\":\"circle\"},\"mode\":\"lines\",\"name\":\"\",\"showlegend\":false,\"x\":[33.91384724758464,34.47687762925054,34.48718474774243,34.57402758718963,34.649800047407126,34.77975050203264,34.81063145023747,34.84561239331277,34.89198326749108,34.8940927514398,34.897827688311345,35.00748225744693,35.01280603355904,35.037856159447585,35.12882235312117,35.18912244437772,35.25224202243303,35.26149811626243,35.29308775436051,35.358444307206696,35.36862632536302,35.42933438847124,35.444264696393994,35.4567981489283,35.45986279714474,35.46240008104617,35.49396408005127,35.53386350026307,35.536024530304154,35.539142427505084,35.55077226680613,35.565436237139735,35.56917031744619,35.57484166706179,35.60082054911087,35.62244242064545,35.622530591605994,35.62658733096311,35.63211221551042,35.633953947400784,35.669935165958194,35.6742560274292,35.675727630820134,35.69417498569782,35.71626915951701,35.7218273299056,35.73055240228659,35.73870747121452,35.74277912557426,35.76615350038372,35.769329630500295,35.771016191612965,35.773116391246816,35.77778217066089,35.78392374450292,35.82346666642284,35.84582711383271,35.86244707788159,35.88399438701215,35.89035795567322,35.89243163440533,35.90025278215821,35.906756365793065,35.90729842685246,35.90772142967966,35.92159518889928,35.93344930095986,35.9380452301724,35.93896250240334,35.94639914639545,35.96566746423624,35.96889569049678,35.9745781075859,35.97656497174036,35.97765170714366,35.9904889547585,35.9990993016087,36.01231723045213,36.04545942048616,36.04620351842453,36.04898625036686,36.05024078202619,36.058647603220486,36.05964597986499,36.074551140168914,36.0869343253416,36.08964365766702,36.094241952849465,36.097220934711,36.10091445210865,36.1050004999139,36.11243501077792,36.13389429009422,36.14390845634163,36.14466670004192,36.14579171248221,36.15246208860067,36.155336204959546,36.1571911511149,36.15725594420065,36.16364817104465,36.16604163340145,36.16646339192148,36.17049420248099,36.17312563197192,36.182539282355286,36.18913179541947,36.19083323650043,36.19975347391624,36.213763093698624,36.22355746230224,36.22604169397467,36.232109802584205,36.25781911850192,36.26203180012439,36.265000697022046,36.28872395038688,36.29889307823573,36.30854529439036,36.31272657154038,36.315763151803424,36.32214091690131,36.32365246819823,36.33780003116479,36.33952101023726,36.35250276938114,36.35523488364423,36.36024719793431,36.36684324701071,36.37147981406854,36.375066106372905,36.37750903434099,36.378271013194265,36.393683855020775,36.4077474507818,36.4179847963968,36.430649621049305,36.456898410524325,36.46200325853961,36.486325072393406,36.49399254673739,36.4944064828881,36.5170857636486,36.5173461200418,36.51838358912681,36.52738830431376,36.53409567089256,36.54466409871873,36.54550622682937,36.54759627699103,36.54860515461888,36.5496679900966,36.57503097579012,36.57513377612486,36.58272776540628,36.584437621758106,36.59436168489157,36.59445670006827,36.59586794587455,36.599112354294384,36.59928908739349,36.59937399114725,36.60077705432864,36.60950715426321,36.61119877576035,36.61995708279922,36.62077385548951,36.628834292811774,36.63385670229112,36.63465232853774,36.63610411908917,36.65127791701514,36.655208083959465,36.66579136924871,36.67387835766538,36.67395273856423,36.67822227440393,36.68339299807869,36.683776152869605,36.688366542504845,36.701052315547926,36.71413783923341,36.72128267790313,36.72527682557127,36.72902940108787,36.7657223578584,36.76860309148005,36.77260376125875,36.77312349371806,36.77386136993079,36.77601657686874,36.80837605948795,36.81293412550146,36.81385766052378,36.81401056250368,36.81909551318471,36.8227532265912,36.831535850846905,36.83865678634849,36.83936583281821,36.84008572976701,36.841491638054855,36.84473381504451,36.853882459920776,36.85481082475086,36.86218334634355,36.87454360467994,36.87502580891776,36.876313233417314,36.87831536782346,36.88119240747175,36.8821490815068,36.888086054199256,36.897294609068695,36.90022076162611,36.90818962373682,36.90937820695247,36.91463331144087,36.91495154541398,36.92504303887863,36.929761561703394,36.93615937845674,36.93988205032054,36.94612578169275,36.947953692845566,36.95155521050133,36.951616684246815,36.95395970110429,36.9569654250941,36.95964319393419,36.96638889642577,36.97119509745716,36.97937237345656,36.98504141740091,36.98591347608606,36.99529016635977,37.02226898591233,37.023479236405706,37.02687697079434,37.02715036476952,37.03153921676629,37.03427958207978,37.03479128933126,37.03951365322458,37.0443614002997,37.05261630809583,37.0589128165069,37.0616887661275,37.06462119956545,37.06708996741924,37.0716431982524,37.073616172195656,37.07437106706513,37.07679515601331,37.087926070983805,37.088319364334765,37.08884657968332,37.09326487011031,37.1020313268591,37.1088163801084,37.11059744212085,37.12234520816764,37.128039498322295,37.13312675937632,37.14209368933963,37.14286198458455,37.14516822352819,37.14600652898046,37.15192066097144,37.15315160406014,37.15762409406526,37.18144731064989,37.1902677104526,37.19050380039796,37.19279353222784,37.19419104646396,37.198427822725975,37.19936752783635,37.21115258135112,37.22580613162114,37.22939451627662,37.23200330765404,37.23880567308968,37.23984661097634,37.24032955207884,37.245032469967526,37.25305774145061,37.25803145871123,37.26387556144864,37.266878259420906,37.268958868297744,37.271221692501925,37.27757337619507,37.27781174207212,37.278639793707605,37.28139282998597,37.29204470528371,37.30536187928602,37.30596141998359,37.3096887708795,37.31770494919684,37.32533422381935,37.327282689879496,37.32784803784372,37.329818625212354,37.33224074655334,37.33281445580523,37.33310741829708,37.33359061333867,37.33544589432572,37.33866962178549,37.34126616101072,37.34573893439929,37.36839124072731,37.37011822360151,37.37276214632111,37.373358858547554,37.37418350489759,37.385317552778375,37.38718052656558,37.38794554263559,37.38831486719822,37.396497475332055,37.4087484767376,37.41413357473937,37.42021557502538,37.42454792226391,37.42527868006791,37.42676891745393,37.42899736939191,37.431159098326106,37.44102133556604,37.45340510152358,37.45837473122323,37.480911976267066,37.48704924855169,37.49189221040693,37.49669014561275,37.52319665049046,37.526421027792445,37.53429101112127,37.534497341555735,37.53453024067718,37.53665330059473,37.54052035512257,37.55088041321525,37.57016384471318,37.57883524203316,37.58019042917731,37.60565280041329,37.60779252420698,37.62690680204789,37.63300941664362,37.63529940965426,37.63575587790592,37.6373109611636,37.64583878801402,37.64629178743077,37.64780805527063,37.65040020345744,37.65861690944284,37.66110668399285,37.67232248424959,37.67321036564864,37.67502073290805,37.67924462448078,37.680287608367976,37.68040322813719,37.68387537364701,37.68487727530606,37.68546548721554,37.68933697894965,37.69230086128235,37.71250863884946,37.71598617762173,37.71777057005867,37.72236711094261,37.72438615760942,37.73852494557909,37.743619699549896,37.74469969514907,37.74560774187829,37.76304108154524,37.76369040280343,37.76668677332467,37.77736579677647,37.78026468722867,37.78114255999947,37.78903634703419,37.79223754313027,37.80550943244919,37.80697766984659,37.81915511227683,37.827394227862136,37.83397172859896,37.83544772741218,37.84065507750671,37.85177916943607,37.86144725932397,37.86921693600857,37.87095205416159,37.87521910003027,37.90601452014432,37.90913871755985,37.922703809566,37.93518904595916,37.9514894585739,37.951946317735135,37.952013186883086,37.95780983454751,37.9596843202141,37.964390331775896,37.96597162275134,37.97738873797974,37.97982686004657,37.99702800956553,38.00182746752369,38.00658317947767,38.03910938707497,38.04031366664072,38.04345265084127,38.05260975257308,38.06341358683894,38.06692960186935,38.0706642585136,38.07445241970454,38.11045690682496,38.12651979793058,38.13171202563648,38.16643555663392,38.18776368086846,38.19748324839899,38.21257083414733,38.23260622710401,38.238940853091385,38.24411459434352,38.252978273334655,38.260353442660126,38.26906069147024,38.27470219571763,38.29572526401705,38.296110372778266,38.304471191707776,38.3072040068692,38.3099078951232,38.31136489758187,38.31564796064117,38.33257633196044,38.35495987026449,38.38195597213616,38.38513659413844,38.40137368953426,38.40632901011416,38.415041581538325,38.4194685327455,38.42286529341121,38.44276668680506,38.46832110587932,38.5030088492416,38.50588332918249,38.55103028983871,38.57360522634684,38.57651554990162,38.585854757332655,38.61733445368848,38.633625651583536,38.655094538522064,38.68258378408295,38.68870909942437,38.71707629773135,38.73086173541955,38.73400628989712,38.76429717446252,38.76864099802668,38.77566529611688,38.79123468689964,38.83567008085342,38.856041708111945,38.86023443032663,38.878040506759845,38.918748541019504,38.9240870506292,38.94882502753235,38.95246252162795,38.99332245115573,39.04515569638811,39.06886445133981,39.074400211336965,39.08156474568163,39.09462702670515,39.13109673366661,39.22071295098572,39.24096484164356,39.24880390433504,39.25293095040623,39.29404346247573,39.57766801952616,39.6003764658614,39.67259095594186,40.005181638101895],\"xaxis\":\"x\",\"y\":[499.9662772028384,499.8495701047336,499.84743360565966,499.82943248864524,499.81372608231936,499.786789453408,499.78038833196047,499.7731373478427,499.7635254150977,499.76308815316986,499.7623139611225,499.7395843412397,499.7384808084975,499.7332883222751,499.7144325005735,499.7019332662601,499.6888495979034,499.6869309592548,499.6803829378466,499.6668355807711,499.66472501297477,499.6521412126904,499.6490464011701,499.6464484190324,499.64581316698974,499.645287229046,499.6387445222074,499.6304740172744,499.63002607067466,499.6293797809781,499.62696910325906,499.6239294992163,499.62315548472105,499.6219799056093,499.61659490324587,499.6121130387416,499.6120947623266,499.6112538658251,499.6101086465548,499.60972688530103,499.6022685602428,499.6013729154961,499.601067875898,499.5972440373884,499.5926642722542,499.5915121533669,499.5897035868819,499.58801317289993,499.58716918475955,499.5823240546514,499.58166569421263,499.5813160973531,499.5808807599136,499.57991361925207,499.5786405702582,499.5704439616592,499.5658090023133,499.56236395238716,499.5578975434642,499.55657847853234,499.5561486384471,499.55452744092776,499.55317935315486,499.55306699265833,499.55297931100904,499.5501035049583,499.547646339121,499.5466936772773,499.5465035415693,499.54496204546496,499.540968034602,499.54029887547455,499.53912100225443,499.538709157428,499.53848389474336,499.53582294079564,499.53403815505885,499.5312982920452,499.52442845171396,499.52427421223786,499.5236973968823,499.52343735274576,499.52169475458794,499.5214878072459,499.5183982084205,499.5158313742782,499.5152697734769,499.5143166212058,499.51369912641394,499.5129335199541,499.5120865482851,499.5105454943437,499.5060973325784,499.50402155776993,499.50386438610605,499.50363118921024,499.50224852805127,499.50165277018317,499.50126826982586,499.5012548392664,499.4999298339564,499.49943370789435,499.4993462841698,499.4985107622891,499.49796530948623,499.4960140119105,499.49464749050424,499.4942948092678,499.4924457882254,499.4895418204759,499.48751160616644,499.4869966650923,499.4857388442538,499.48040971859245,499.47953649777986,499.478921093438,499.47400364644403,499.47189575060014,499.46989500219587,499.4690282910228,499.4683988570132,499.46707684938946,499.4667635292362,499.4638309680941,499.4634742369478,499.4607833280958,499.46021700496703,499.4591780332265,499.45781077886204,499.4568496934498,499.4561063130188,499.455599933535,499.45544198763423,499.4522471546346,499.4493319985371,499.4472099622529,499.44458474879843,499.439143798988,499.43808564650186,499.4330441275929,499.4314547840874,499.43136898181365,499.4266679334673,499.426613965795,499.42639891522185,499.4245323833029,499.42314205461935,499.4209513903439,499.4207768307975,499.42034359717957,499.4201344731533,499.419914164537,499.4146568275336,499.4146355186857,499.413061407446,499.4127069818599,499.4106498839707,499.41063018886024,499.4103376604139,499.40966514698647,499.4096285130715,499.40961091389556,499.4093200815752,499.40751047295953,499.4071598271641,499.4053443716717,499.4051750678941,499.40350426951454,499.40246320520447,499.4022982847429,499.4019973520262,499.39885206896366,499.3980374088777,499.39584366489026,499.394167362898,499.3941519449398,499.3932669391669,499.3921951317213,499.39211570992586,499.39116419634695,499.38853464062976,499.38582222306536,499.384341213488,499.3835132912321,499.38273544297874,499.37512958609244,499.37453245657275,499.3737031823887,499.3735954502501,499.37344250043714,499.3729957608726,499.3662881631378,499.3653433497233,499.3651519158398,499.3651202217307,499.3640661936404,499.3633080087692,499.3614875127107,499.36001145787384,499.3598644840007,499.35971526099854,499.3594238389336,499.35875178804554,499.35685542182824,499.3566629868037,499.3551347822364,499.35257270045673,499.3524727473119,499.3522058850212,499.35179087491844,499.35119451109966,499.35099620803453,499.34976556955206,499.3478567849615,499.3472502408305,499.34559842451216,499.3453520504221,499.3442627521976,499.3441967874385,499.34210498394765,499.3411269104295,499.33980074642164,499.33902909671224,499.33773487211346,499.3373559756752,499.3366094392749,499.3365966967611,499.3361110272357,499.33548798923283,499.33493293103186,499.3335346559332,499.33253840813995,499.330843390991,499.3296682898076,499.3294875261369,499.3275438897945,499.3219516165482,499.32170075118165,499.320996455759,499.32093978560664,499.32003004752283,499.3194620140847,499.31935594544194,499.31837707573237,499.3173722161157,499.31566110715005,499.31435594272415,499.31378053323425,499.3131726871782,499.31266095150374,499.31171714034394,499.3113081747338,499.3111516972284,499.3106492227689,499.3083419639997,499.30826044064463,499.30815115742405,499.30723531722947,499.30541817243386,499.30401174055913,499.30364255519044,499.301207433163,499.30002709884826,499.2989725918549,499.2971138922021,499.29695463701546,499.2964765909572,499.2963028237861,499.2950769198119,499.2948217652048,499.29389469031366,499.28895652255994,499.2871281962411,499.28707925861124,499.28660463421085,499.2863149520971,499.28543673685516,499.2852419511738,499.2827991000569,499.27976165592486,499.2790178417833,499.2784770814955,499.2770670610844,499.27685129148466,499.27675118559966,499.2757763467326,499.2741128376631,499.273081866463,499.2718704784212,499.27124806766284,499.2708167910707,499.2703477441862,499.26903114281606,499.2689817334224,499.26881009170177,499.2682394317774,499.2660314701898,499.2632710352588,499.2631467601623,499.2623741405651,499.26071251636193,499.25913109104135,499.2587272055193,499.2586100180238,499.258201547112,499.25769948050566,499.2575805598504,499.25751983346083,499.2574196749384,499.2570351051759,499.2563668785772,499.2558286579625,499.25490152433053,499.2502060673481,499.24984809171076,499.2493000492635,499.2491763604634,499.2490054246034,499.2466975164325,499.2463113520769,499.2461527766102,499.24607622159755,499.24438009918333,499.2418406645996,499.2407244208208,499.2394637204622,499.2385656949015,499.2384142206197,499.2381053184956,499.23764339642634,499.23719530495737,499.2351510225766,499.232584068047,499.2315539441322,499.2268823374943,499.22561018014375,499.2246063124258,499.2236117780046,499.2181174079565,499.21744904665604,499.21581772631106,499.21577495734687,499.2157681378907,499.2153280618839,499.2145264839818,499.21237901138426,499.2083818677044,499.206584427192,499.2063035188003,499.2010255807803,499.20058205062134,499.1966199697606,499.19535499638886,499.1948803178499,499.194785699359,499.19446335573383,499.19269567505927,499.1926017756018,499.1922874777854,499.19175016736204,499.1900469770143,499.18953088699124,499.1872060328741,499.1870219894105,499.1866467295378,499.1857711850837,499.1855549913812,499.1855310252717,499.18481130562634,499.18460362760567,499.18448170078386,499.1836792031206,499.183064838217,499.1788760925368,499.1781552549553,499.17778537924346,499.1768325906101,499.17641407486906,499.173483332642,499.1724272724881,499.17220340685594,499.1720151834453,499.16840153389984,499.1682669400977,499.16764584091766,499.16543225195653,499.1648313588193,499.16464938998257,499.1630131355141,499.16234957930294,499.15959853115487,499.1592941892729,499.1567700022758,499.15506216678017,499.1536987571867,499.1533928064887,499.1523134069782,499.1500075625151,499.14800352374243,499.1463929953436,499.1460333333944,499.1451488437523,499.13876545089556,499.1381178552664,499.13530603094017,499.1327180432293,499.1293392311507,499.1292445316306,499.129230670737,499.1280291193649,499.1276405687827,499.12666508864714,499.12633731258563,499.12397072912864,499.1234653458305,499.1198998255499,499.1189049754867,499.11791919326316,499.11117703613513,499.11092740844543,499.11027674775465,499.1083786285679,499.1061391683423,499.10541035525426,499.10463622129356,499.1038509967051,499.0963878484498,499.09305827074115,499.0919820058574,499.0847843791029,499.0803634036663,499.07834869441035,499.0752212817388,499.0710682686022,499.0697552030188,499.06868277007817,499.0668454726831,499.06531671928354,499.06351184733666,499.0623424546874,499.0579847124156,499.05790488559376,499.0561718229619,499.0556053545482,499.055044882215,499.05474286915415,499.0538550594073,499.0503460816387,499.0457063359236,499.0401104803318,499.0394511887978,499.0360855013553,499.03505834348977,499.03325236825106,499.03233473281665,499.031630639231,499.027505402038,499.02220838398887,499.0150181754327,499.01442234219996,499.0050641069466,499.00038468747726,498.9997814244427,498.99784555768775,498.9913203254258,498.98794342340966,498.98349327013955,498.97779519383147,498.976525514962,498.9706454532396,498.96778795481487,498.9671361394958,498.9608573287037,498.9599569242862,498.95850090082274,498.95527361775476,498.94606287877804,498.9418401697051,498.9409710861551,498.9372801743024,498.92884205674653,498.9277354699884,498.9226076872055,498.9218536934708,498.91338409048086,498.90263989650236,498.89772545479514,498.8965779812198,498.8950928890474,498.89238528931116,498.88482570850204,498.8662497150796,498.8620518254687,498.86042691447216,498.8595714445252,498.8510494852568,498.7922586986803,498.78755160478175,498.77258270815935,498.7036420352658],\"yaxis\":\"y\",\"type\":\"scatter\"}],                        {\"template\":{\"data\":{\"barpolar\":[{\"marker\":{\"line\":{\"color\":\"rgb(17,17,17)\",\"width\":0.5},\"pattern\":{\"fillmode\":\"overlay\",\"size\":10,\"solidity\":0.2}},\"type\":\"barpolar\"}],\"bar\":[{\"error_x\":{\"color\":\"#f2f5fa\"},\"error_y\":{\"color\":\"#f2f5fa\"},\"marker\":{\"line\":{\"color\":\"rgb(17,17,17)\",\"width\":0.5},\"pattern\":{\"fillmode\":\"overlay\",\"size\":10,\"solidity\":0.2}},\"type\":\"bar\"}],\"carpet\":[{\"aaxis\":{\"endlinecolor\":\"#A2B1C6\",\"gridcolor\":\"#506784\",\"linecolor\":\"#506784\",\"minorgridcolor\":\"#506784\",\"startlinecolor\":\"#A2B1C6\"},\"baxis\":{\"endlinecolor\":\"#A2B1C6\",\"gridcolor\":\"#506784\",\"linecolor\":\"#506784\",\"minorgridcolor\":\"#506784\",\"startlinecolor\":\"#A2B1C6\"},\"type\":\"carpet\"}],\"choropleth\":[{\"colorbar\":{\"outlinewidth\":0,\"ticks\":\"\"},\"type\":\"choropleth\"}],\"contourcarpet\":[{\"colorbar\":{\"outlinewidth\":0,\"ticks\":\"\"},\"type\":\"contourcarpet\"}],\"contour\":[{\"colorbar\":{\"outlinewidth\":0,\"ticks\":\"\"},\"colorscale\":[[0.0,\"#0d0887\"],[0.1111111111111111,\"#46039f\"],[0.2222222222222222,\"#7201a8\"],[0.3333333333333333,\"#9c179e\"],[0.4444444444444444,\"#bd3786\"],[0.5555555555555556,\"#d8576b\"],[0.6666666666666666,\"#ed7953\"],[0.7777777777777778,\"#fb9f3a\"],[0.8888888888888888,\"#fdca26\"],[1.0,\"#f0f921\"]],\"type\":\"contour\"}],\"heatmapgl\":[{\"colorbar\":{\"outlinewidth\":0,\"ticks\":\"\"},\"colorscale\":[[0.0,\"#0d0887\"],[0.1111111111111111,\"#46039f\"],[0.2222222222222222,\"#7201a8\"],[0.3333333333333333,\"#9c179e\"],[0.4444444444444444,\"#bd3786\"],[0.5555555555555556,\"#d8576b\"],[0.6666666666666666,\"#ed7953\"],[0.7777777777777778,\"#fb9f3a\"],[0.8888888888888888,\"#fdca26\"],[1.0,\"#f0f921\"]],\"type\":\"heatmapgl\"}],\"heatmap\":[{\"colorbar\":{\"outlinewidth\":0,\"ticks\":\"\"},\"colorscale\":[[0.0,\"#0d0887\"],[0.1111111111111111,\"#46039f\"],[0.2222222222222222,\"#7201a8\"],[0.3333333333333333,\"#9c179e\"],[0.4444444444444444,\"#bd3786\"],[0.5555555555555556,\"#d8576b\"],[0.6666666666666666,\"#ed7953\"],[0.7777777777777778,\"#fb9f3a\"],[0.8888888888888888,\"#fdca26\"],[1.0,\"#f0f921\"]],\"type\":\"heatmap\"}],\"histogram2dcontour\":[{\"colorbar\":{\"outlinewidth\":0,\"ticks\":\"\"},\"colorscale\":[[0.0,\"#0d0887\"],[0.1111111111111111,\"#46039f\"],[0.2222222222222222,\"#7201a8\"],[0.3333333333333333,\"#9c179e\"],[0.4444444444444444,\"#bd3786\"],[0.5555555555555556,\"#d8576b\"],[0.6666666666666666,\"#ed7953\"],[0.7777777777777778,\"#fb9f3a\"],[0.8888888888888888,\"#fdca26\"],[1.0,\"#f0f921\"]],\"type\":\"histogram2dcontour\"}],\"histogram2d\":[{\"colorbar\":{\"outlinewidth\":0,\"ticks\":\"\"},\"colorscale\":[[0.0,\"#0d0887\"],[0.1111111111111111,\"#46039f\"],[0.2222222222222222,\"#7201a8\"],[0.3333333333333333,\"#9c179e\"],[0.4444444444444444,\"#bd3786\"],[0.5555555555555556,\"#d8576b\"],[0.6666666666666666,\"#ed7953\"],[0.7777777777777778,\"#fb9f3a\"],[0.8888888888888888,\"#fdca26\"],[1.0,\"#f0f921\"]],\"type\":\"histogram2d\"}],\"histogram\":[{\"marker\":{\"pattern\":{\"fillmode\":\"overlay\",\"size\":10,\"solidity\":0.2}},\"type\":\"histogram\"}],\"mesh3d\":[{\"colorbar\":{\"outlinewidth\":0,\"ticks\":\"\"},\"type\":\"mesh3d\"}],\"parcoords\":[{\"line\":{\"colorbar\":{\"outlinewidth\":0,\"ticks\":\"\"}},\"type\":\"parcoords\"}],\"pie\":[{\"automargin\":true,\"type\":\"pie\"}],\"scatter3d\":[{\"line\":{\"colorbar\":{\"outlinewidth\":0,\"ticks\":\"\"}},\"marker\":{\"colorbar\":{\"outlinewidth\":0,\"ticks\":\"\"}},\"type\":\"scatter3d\"}],\"scattercarpet\":[{\"marker\":{\"colorbar\":{\"outlinewidth\":0,\"ticks\":\"\"}},\"type\":\"scattercarpet\"}],\"scattergeo\":[{\"marker\":{\"colorbar\":{\"outlinewidth\":0,\"ticks\":\"\"}},\"type\":\"scattergeo\"}],\"scattergl\":[{\"marker\":{\"line\":{\"color\":\"#283442\"}},\"type\":\"scattergl\"}],\"scattermapbox\":[{\"marker\":{\"colorbar\":{\"outlinewidth\":0,\"ticks\":\"\"}},\"type\":\"scattermapbox\"}],\"scatterpolargl\":[{\"marker\":{\"colorbar\":{\"outlinewidth\":0,\"ticks\":\"\"}},\"type\":\"scatterpolargl\"}],\"scatterpolar\":[{\"marker\":{\"colorbar\":{\"outlinewidth\":0,\"ticks\":\"\"}},\"type\":\"scatterpolar\"}],\"scatter\":[{\"marker\":{\"line\":{\"color\":\"#283442\"}},\"type\":\"scatter\"}],\"scatterternary\":[{\"marker\":{\"colorbar\":{\"outlinewidth\":0,\"ticks\":\"\"}},\"type\":\"scatterternary\"}],\"surface\":[{\"colorbar\":{\"outlinewidth\":0,\"ticks\":\"\"},\"colorscale\":[[0.0,\"#0d0887\"],[0.1111111111111111,\"#46039f\"],[0.2222222222222222,\"#7201a8\"],[0.3333333333333333,\"#9c179e\"],[0.4444444444444444,\"#bd3786\"],[0.5555555555555556,\"#d8576b\"],[0.6666666666666666,\"#ed7953\"],[0.7777777777777778,\"#fb9f3a\"],[0.8888888888888888,\"#fdca26\"],[1.0,\"#f0f921\"]],\"type\":\"surface\"}],\"table\":[{\"cells\":{\"fill\":{\"color\":\"#506784\"},\"line\":{\"color\":\"rgb(17,17,17)\"}},\"header\":{\"fill\":{\"color\":\"#2a3f5f\"},\"line\":{\"color\":\"rgb(17,17,17)\"}},\"type\":\"table\"}]},\"layout\":{\"annotationdefaults\":{\"arrowcolor\":\"#f2f5fa\",\"arrowhead\":0,\"arrowwidth\":1},\"autotypenumbers\":\"strict\",\"coloraxis\":{\"colorbar\":{\"outlinewidth\":0,\"ticks\":\"\"}},\"colorscale\":{\"diverging\":[[0,\"#8e0152\"],[0.1,\"#c51b7d\"],[0.2,\"#de77ae\"],[0.3,\"#f1b6da\"],[0.4,\"#fde0ef\"],[0.5,\"#f7f7f7\"],[0.6,\"#e6f5d0\"],[0.7,\"#b8e186\"],[0.8,\"#7fbc41\"],[0.9,\"#4d9221\"],[1,\"#276419\"]],\"sequential\":[[0.0,\"#0d0887\"],[0.1111111111111111,\"#46039f\"],[0.2222222222222222,\"#7201a8\"],[0.3333333333333333,\"#9c179e\"],[0.4444444444444444,\"#bd3786\"],[0.5555555555555556,\"#d8576b\"],[0.6666666666666666,\"#ed7953\"],[0.7777777777777778,\"#fb9f3a\"],[0.8888888888888888,\"#fdca26\"],[1.0,\"#f0f921\"]],\"sequentialminus\":[[0.0,\"#0d0887\"],[0.1111111111111111,\"#46039f\"],[0.2222222222222222,\"#7201a8\"],[0.3333333333333333,\"#9c179e\"],[0.4444444444444444,\"#bd3786\"],[0.5555555555555556,\"#d8576b\"],[0.6666666666666666,\"#ed7953\"],[0.7777777777777778,\"#fb9f3a\"],[0.8888888888888888,\"#fdca26\"],[1.0,\"#f0f921\"]]},\"colorway\":[\"#636efa\",\"#EF553B\",\"#00cc96\",\"#ab63fa\",\"#FFA15A\",\"#19d3f3\",\"#FF6692\",\"#B6E880\",\"#FF97FF\",\"#FECB52\"],\"font\":{\"color\":\"#f2f5fa\"},\"geo\":{\"bgcolor\":\"rgb(17,17,17)\",\"lakecolor\":\"rgb(17,17,17)\",\"landcolor\":\"rgb(17,17,17)\",\"showlakes\":true,\"showland\":true,\"subunitcolor\":\"#506784\"},\"hoverlabel\":{\"align\":\"left\"},\"hovermode\":\"closest\",\"mapbox\":{\"style\":\"dark\"},\"paper_bgcolor\":\"rgb(17,17,17)\",\"plot_bgcolor\":\"rgb(17,17,17)\",\"polar\":{\"angularaxis\":{\"gridcolor\":\"#506784\",\"linecolor\":\"#506784\",\"ticks\":\"\"},\"bgcolor\":\"rgb(17,17,17)\",\"radialaxis\":{\"gridcolor\":\"#506784\",\"linecolor\":\"#506784\",\"ticks\":\"\"}},\"scene\":{\"xaxis\":{\"backgroundcolor\":\"rgb(17,17,17)\",\"gridcolor\":\"#506784\",\"gridwidth\":2,\"linecolor\":\"#506784\",\"showbackground\":true,\"ticks\":\"\",\"zerolinecolor\":\"#C8D4E3\"},\"yaxis\":{\"backgroundcolor\":\"rgb(17,17,17)\",\"gridcolor\":\"#506784\",\"gridwidth\":2,\"linecolor\":\"#506784\",\"showbackground\":true,\"ticks\":\"\",\"zerolinecolor\":\"#C8D4E3\"},\"zaxis\":{\"backgroundcolor\":\"rgb(17,17,17)\",\"gridcolor\":\"#506784\",\"gridwidth\":2,\"linecolor\":\"#506784\",\"showbackground\":true,\"ticks\":\"\",\"zerolinecolor\":\"#C8D4E3\"}},\"shapedefaults\":{\"line\":{\"color\":\"#f2f5fa\"}},\"sliderdefaults\":{\"bgcolor\":\"#C8D4E3\",\"bordercolor\":\"rgb(17,17,17)\",\"borderwidth\":1,\"tickwidth\":0},\"ternary\":{\"aaxis\":{\"gridcolor\":\"#506784\",\"linecolor\":\"#506784\",\"ticks\":\"\"},\"baxis\":{\"gridcolor\":\"#506784\",\"linecolor\":\"#506784\",\"ticks\":\"\"},\"bgcolor\":\"rgb(17,17,17)\",\"caxis\":{\"gridcolor\":\"#506784\",\"linecolor\":\"#506784\",\"ticks\":\"\"}},\"title\":{\"x\":0.05},\"updatemenudefaults\":{\"bgcolor\":\"#506784\",\"borderwidth\":0},\"xaxis\":{\"automargin\":true,\"gridcolor\":\"#283442\",\"linecolor\":\"#506784\",\"ticks\":\"\",\"title\":{\"standoff\":15},\"zerolinecolor\":\"#283442\",\"zerolinewidth\":2},\"yaxis\":{\"automargin\":true,\"gridcolor\":\"#283442\",\"linecolor\":\"#506784\",\"ticks\":\"\",\"title\":{\"standoff\":15},\"zerolinecolor\":\"#283442\",\"zerolinewidth\":2}}},\"xaxis\":{\"anchor\":\"y\",\"domain\":[0.0,1.0],\"title\":{\"text\":\"Tiempo_web\"}},\"yaxis\":{\"anchor\":\"x\",\"domain\":[0.0,1.0],\"title\":{\"text\":\"Gasto_anual\"}},\"legend\":{\"tracegroupgap\":0},\"title\":{\"text\":\"La variable Tiempo_web\"}},                        {\"responsive\": true}                    ).then(function(){\n",
              "                            \n",
              "var gd = document.getElementById('60f4bd4e-c5b0-4f66-b74d-306267c6af44');\n",
              "var x = new MutationObserver(function (mutations, observer) {{\n",
              "        var display = window.getComputedStyle(gd).display;\n",
              "        if (!display || display === 'none') {{\n",
              "            console.log([gd, 'removed!']);\n",
              "            Plotly.purge(gd);\n",
              "            observer.disconnect();\n",
              "        }}\n",
              "}});\n",
              "\n",
              "// Listen for the removal of the full notebook cells\n",
              "var notebookContainer = gd.closest('#notebook-container');\n",
              "if (notebookContainer) {{\n",
              "    x.observe(notebookContainer, {childList: true});\n",
              "}}\n",
              "\n",
              "// Listen for the clearing of the current output cell\n",
              "var outputEl = gd.closest('.output');\n",
              "if (outputEl) {{\n",
              "    x.observe(outputEl, {childList: true});\n",
              "}}\n",
              "\n",
              "                        })                };                            </script>        </div>\n",
              "</body>\n",
              "</html>"
            ]
          },
          "metadata": {}
        },
        {
          "output_type": "display_data",
          "data": {
            "text/html": [
              "<html>\n",
              "<head><meta charset=\"utf-8\" /></head>\n",
              "<body>\n",
              "    <div>            <script src=\"https://cdnjs.cloudflare.com/ajax/libs/mathjax/2.7.5/MathJax.js?config=TeX-AMS-MML_SVG\"></script><script type=\"text/javascript\">if (window.MathJax && window.MathJax.Hub && window.MathJax.Hub.Config) {window.MathJax.Hub.Config({SVG: {font: \"STIX-Web\"}});}</script>                <script type=\"text/javascript\">window.PlotlyConfig = {MathJaxConfig: 'local'};</script>\n",
              "        <script charset=\"utf-8\" src=\"https://cdn.plot.ly/plotly-2.24.1.min.js\"></script>                <div id=\"5f077c19-1e66-4ced-b47e-ca508e5370cd\" class=\"plotly-graph-div\" style=\"height:525px; width:100%;\"></div>            <script type=\"text/javascript\">                                    window.PLOTLYENV=window.PLOTLYENV || {};                                    if (document.getElementById(\"5f077c19-1e66-4ced-b47e-ca508e5370cd\")) {                    Plotly.newPlot(                        \"5f077c19-1e66-4ced-b47e-ca508e5370cd\",                        [{\"hovertemplate\":\"A\\u00f1os_miembro=%{x}\\u003cbr\\u003eGasto_anual=%{y}\\u003cextra\\u003e\\u003c\\u002fextra\\u003e\",\"legendgroup\":\"\",\"marker\":{\"color\":\"#636efa\",\"symbol\":\"circle\"},\"mode\":\"markers\",\"name\":\"\",\"orientation\":\"v\",\"showlegend\":false,\"x\":[4.082620632952961,2.66403418213262,4.104543202376424,3.120178782748092,4.446308318351435,5.493507201364199,4.685017246570912,4.4342734348999375,3.2734335777477144,3.202806071553459,2.482607770510596,3.71320920294043,4.046423164299585,3.918541839158999,2.494543646659249,3.357846842326294,3.1361327164897803,2.420806160901484,1.516575580831944,4.064548550437977,4.599937357614995,1.559151939957077,2.2451477874052825,3.919302308553184,5.705153970601026,2.7217359920452187,4.648199316428601,2.996364526268539,3.923488745527437,4.742577519573315,3.062368145311689,3.471413452477678,4.343062915388998,2.8200972339734696,4.1245852967146535,3.649286157714702,1.8473704233395083,3.452388582630727,4.650491269094463,4.22243622534277,4.671275460906252,4.646119976606155,4.214495086037866,4.643258549800133,2.258686386946843,3.663105491283854,3.8768751769237673,4.113226122724209,3.202531199210734,3.198399271684906,5.97676812602,2.952668957921736,2.0948917061051766,3.85547168456418,2.874596910303952,3.3920504890738385,2.995761182613056,3.315224753915403,3.4719191365417483,3.9705556280753487,4.639320331857264,5.081210092491108,4.802630630523376,3.414688422504897,3.462298847460372,5.377593583586978,4.001786345798084,3.4395905595500764,2.7795207192736093,3.5526497674265176,2.6022871120328714,4.694322274442824,3.4015223445155094,3.8515788003584657,3.25811288288828,3.120568914816974,2.837943164069798,4.470282584120023,4.442054329011166,3.164943995285113,3.7517345520890513,3.159754443950926,4.130562809236323,1.9140899242311,4.396651901097083,5.113319474870622,2.669941624279581,3.3664637433729325,4.571213023779052,3.917451119136939,2.476139050596411,4.125584363255396,3.9972553776226674,1.3626740800013843,4.193324635532072,3.871003400176416,4.08180269478151,4.252006105620936,3.911708668370663,3.021671821710012,3.184618661620886,2.877224878259828,2.5869679851624765,2.96964022663276,3.4288599039280125,2.926940235492512,3.781823039343296,3.004742535925674,3.854473855602962,3.318822278930894,3.361814624383144,3.722561172893833,3.5435470501829984,2.789461516374708,5.4859767341605234,2.59418972057778,2.753424168758119,5.004820577490747,3.873337568743252,3.79872531905254,3.292797662575647,4.716104987209577,4.018726609737513,3.637701279515837,3.834169666632599,4.531986606666632,4.106055151602658,3.2182653850978555,3.283663455404016,2.924020724598205,3.90525030898213,4.920318406118319,2.473596120847858,4.131276648377655,1.7677307075942403,2.72410820200549,3.897115859957253,2.491671541288354,3.863425442205034,3.578633900393988,3.9588922643660966,3.251741770306888,3.914384667246393,1.4435150746515455,2.910037916541069,3.3455709758422434,3.0895277822700096,4.514122441132637,1.8258846690261428,3.993656512525085,2.652158304851241,6.401228837806773,5.391275125020632,6.076653638440144,3.8648607392342784,2.941410754428091,5.084861308602489,6.922689335035807,3.6043985602569495,3.7849321101304056,3.30918232804298,0.9686221157417688,3.768561962709896,3.585160635161344,4.520353377496559,3.6758488000184415,2.873007508505152,4.055775961742958,3.015175298743708,4.717102512825834,2.926396448726688,2.361086946869883,4.968742673728142,0.8015157200042076,3.669225611315444,1.7157771665531147,4.773503047345896,4.087837272921703,4.131755039569861,3.4427992020016864,4.724027439824315,3.2309738432875563,2.972271382079821,3.182329731786818,4.806349618785283,3.6203649883552,3.261324744787093,3.597459968849926,4.789201624179895,3.3164647447029107,4.632460945972205,3.308443000674604,4.015986640445781,4.369366793790984,2.56663984381683,3.5190324339539223,1.503854421225295,5.039955263662929,4.47871260846301,3.361612984538193,1.9207154781756468,4.330714461860564,3.811248170807232,3.0887639575315755,4.541695256706066,5.066696864020983,3.1074686827074625,4.74698970293514,3.091826869545788,3.1956257763719886,3.8502796390964265,3.974522480483529,3.843848921495288,2.909008460485079,1.1390935384245742,2.6852848361090778,3.108911449181274,4.852842407156433,2.30755242118396,4.83552866742221,3.6785893989539975,5.254708925941115,3.8928914802112553,4.389455226416517,4.003325039023281,0.7895199078816915,4.403369830866465,2.648596770203317,2.367848224385222,3.0507129732180167,3.641497161540088,3.397363092819078,4.297686524285517,3.803364999065175,2.6334199887174443,3.634093727357596,3.467014066009709,1.4943108951995074,2.267251114447051,5.023934200606659,2.471750669720034,4.297737481971207,2.4369588757864635,3.656983926688144,5.000243360514445,2.412830960970926,5.314354141170213,4.0777750980104255,3.2750706813095327,3.634996006306897,3.9824715131070567,3.287701824074408,2.3133498845806395,3.557813698186695,3.350279287544909,2.9070949348220267,3.7927119551515887,4.029453828152192,4.978475793470261,2.6995620549722683,3.9306153266132897,3.456233823526301,2.1820169698233887,2.7095266269292764,4.594116864603191,4.25698328967803,3.784273087078304,1.62341960945622,3.4145062403052493,3.6060868889081727,3.275733705185027,5.007271986589903,3.37125811322392,5.453969474611709,3.7558693892629655,4.664258497238649,3.8066709485629935,5.049927474652407,2.871947536151015,3.2367328142505314,3.086337272317325,4.559699083258959,3.0102097779609496,1.80922959177631,3.594295099901167,3.049195743789432,3.6343402240734415,1.4823596439649784,2.921350140816143,1.8100798764120296,3.373104673991114,2.2147975193939367,5.454463277564527,3.201801722174991,4.729484541572504,3.205529764506833,3.802511438790271,4.116340467131812,5.462500764129899,1.4816166268553612,3.771420131891554,2.898299577888636,3.5690465158585187,1.0845853030221226,3.0234744460455456,5.56638489205681,2.3951681299791368,3.5048334855203,5.226687712532107,1.8382107022501144,3.363411393785737,2.957448756503683,2.0838141920346707,3.680847338174777,4.693732057983859,4.008352234634593,2.532044061507893,2.8709869096996963,3.515688256202335,4.06991661858986,1.2004838567566694,3.22945090446699,4.086566338485993,4.019470351595002,4.205903889533483,2.0181946292873114,4.243812816726185,4.626075291951958,3.00295702283384,1.823595182991803,4.078308001651641,3.689916615447592,2.190132185380053,3.2067566975868704,1.9770071278430592,3.349245382527182,3.532861579556475,2.9747368150832405,2.6181653103960847,2.8040136926903942,2.9644978762354017,4.3508878437244665,3.8724320418689104,4.615426306527649,2.727209453758874,3.537123879902206,3.12650948966,5.137816745950984,3.1286388557446334,3.1789524050534483,3.827375915107567,4.808320372869162,4.048510087289211,4.5433324132930855,3.4810621331251683,2.627624971434411,4.794312263402832,2.761861926301417,2.1596760229888288,4.1956144126751305,2.139403004485981,3.43455972254092,2.8684281816397523,3.137068975480682,3.5258064121952244,5.038107493844868,3.6122391519937,2.895075162804356,5.705940716620838,5.0470225513951,4.778973636034998,2.96655888465992,2.6689197733345025,3.620354588804087,4.238296188412728,2.4793398232086954,3.506967573635258,3.310150346576856,3.535802467873828,1.1304769604319769,3.2287176862706497,3.3459223210048927,3.2156668270219866,3.7905521368804433,3.5612152714310823,2.931619534651152,3.0465406206892376,2.739200466766662,2.783963128204522,4.330407444211276,3.41620997759013,3.3363393820041853,4.662845304002564,3.222080766760957,3.772969024644708,3.420149530164856,6.115198945760052,3.488029991222591,4.082855278762214,2.8296995751470893,5.405406467229508,3.451750709833103,2.935577273740486,4.75036007144446,3.5314023030588984,3.904479379627935,2.399079789790412,2.847709026474498,3.781703565104839,4.34977841863416,4.574287716419565,4.620416384895069,3.0130325004194374,4.791108744558267,4.334001444341368,1.4288238768282668,4.137000388171067,2.910530822492482,3.982462318955639,3.701229217020273,5.8405058759314255,4.560396067343641,4.4900020655598345,3.859817998874009,3.0466201888222324,4.652854446136777,4.022102909528949,3.9694177591077393,3.7382251733253336,3.37668749953603,4.595522708601322,2.2239934582520533,4.288486770885737,2.11738254152726,0.9364975973183264,3.7620704427115657,4.00096358646012,3.5325171645393527,3.5350884276189447,4.158214652664192,3.549036057426973,4.129254688094536,2.2524459633808416,4.051382465375181,3.0720761414868827,4.331863026751083,3.937862643180167,0.2699010899842742,3.2794662600656097,2.5717778354776577,3.8260306175375134,2.402453833414224,4.02781384191709,3.629339915268192,3.189609941879746,3.393975043434297,2.574948470025072,3.4720213800343784,4.198349060814376,2.086348146609663,3.605933917733071,4.034386130357466,2.320550249888456,3.491093337009152,5.320093863780987,3.130538462464844,4.985204970864011,1.726962043188511,3.7016222869142337,1.7851739448879638,3.0226757598626595,4.041244969129275,3.13952693504287,2.562818810803233,2.3790764968915394,4.301996499354755,2.0947616690074846,4.089330841235956,3.5160510174718302,1.8208106181524435,4.183143661726128,3.393902788069372,4.4263640805293125,2.905238361446573,2.782757828499416,3.4470177927906893,4.712233578509766,1.2281124234144234,4.019051426800219,1.7073897286757314,3.1630919310737573,3.4470928961368963,2.208813678005546,5.412357839551379,2.768851943263104,3.746572973103466,3.5765259152594644,4.958264472618698,2.336484668112853,2.735159567082275],\"xaxis\":\"x\",\"y\":[587.9510539684005,392.2049334443264,487.54750486747207,581.8523440352178,599.4060920457634,637.102447915074,521.5721747578274,549.9041461052942,570.2004089636195,427.19938489532814,492.6060127179966,522.3374046069357,408.64035107262754,573.4158673313865,470.45273330095546,461.7807421962299,457.84769594494855,407.7045475495441,452.31567548003545,605.061038804892,534.7057438060227,419.9387748391792,436.51560572936256,519.3409891307888,700.9170916173961,423.17999168059777,619.8956398616368,486.83893476506273,529.537665336851,554.7220838330761,497.5866713004408,447.6879065360586,588.7126055095755,491.0732236795197,507.4418323396167,521.8835731664784,347.7769266318726,490.7386321439546,478.1703340540876,537.8461952695957,532.7517875818365,501.8744302842695,591.1971781805905,547.2443434159983,448.22982918655,549.860590464497,593.915002968289,563.6728733601082,479.73194908594513,416.3583535799008,725.5848140556805,442.667251738628,384.6265715694054,451.4574468676027,522.40414125956,483.6733080190456,520.8987944502368,453.16950235469744,496.650708068581,547.3651405940458,616.8515229667128,507.21256900067846,613.5993233689068,483.15972078451705,540.2634004105403,765.5184619388372,553.6015346844503,469.3108614953106,408.62018782983785,451.575685159493,444.96655165329264,595.8228366992037,418.1500810968496,534.7771880994133,578.2416050583773,478.7193568742153,444.2859074976436,544.7798637193825,488.7860610939056,475.759067788328,489.8124879964614,462.8976361529081,596.4301726172283,338.3198626415221,533.5149352552407,536.7718993628412,487.3793060170291,473.7289665129948,547.1259317471988,505.1133435398579,449.0703194428044,611.0000251040717,515.8288148548279,439.074766741645,514.088957746572,543.340166256701,521.1429518103512,614.7153338263417,507.39006178986654,495.2994425473086,518.0645579840107,390.1032729724755,420.7376732446371,492.1050523891852,410.06961105998295,497.5136833293677,494.55186108657256,378.3309069068038,570.451725912857,549.0082269346927,459.285123462352,492.94505306595823,424.7626355099111,422.42677587650905,642.1015787311585,413.3717831104521,479.23109291159307,593.0772413447512,506.5473070543516,571.3074948754644,576.311177371677,576.8025473995871,514.239520718957,495.17595044947535,514.3365582674007,541.2265839893283,516.8315566841785,468.4457372274064,548.2803201983364,431.6177337614297,552.9403454501057,573.3062222574563,452.627254995083,542.7115581025776,407.8040306356823,482.3535703213531,529.2300901235094,433.0487690958266,476.1914133494556,439.997879939927,448.9332932076743,472.9922466667984,463.9235129903258,350.0582001638451,460.0612773912433,505.7711403229565,463.484995404266,479.73193764530447,424.18549428888633,465.8893127108669,426.7752159856604,684.1634310159513,555.8925953881737,657.019923937652,595.8038188761142,503.9783790525795,586.1558701804728,744.2218671047146,512.8253581285203,528.2238093680072,468.9135013219844,357.59143941508603,536.4231045259343,490.2065999848546,550.0475805761635,513.4505711860965,497.8119300055205,578.9862585804898,506.5363931400864,501.74923330839226,421.96679418586734,439.8912804768136,666.125591725772,298.76200786180766,465.1766233052969,373.8857236969501,532.7174856761748,554.9007830202702,537.7731625414566,501.100245232053,517.1651355939779,557.5292736134538,493.719192978176,452.1226250857849,577.2734549822936,485.9231305248517,425.7450920310528,537.2150526997326,524.6379646141049,478.8853913201482,612.3852298963607,476.7667241547634,505.1196375282037,545.9454921414049,434.0216997527185,424.6752810132133,352.5501081630003,662.9610878058954,560.5601606242603,467.5019004269896,504.8704323933724,590.56271964715,443.9656268098819,392.4973991890214,568.7175759305223,712.3963268096636,413.29599918102974,562.0820453929382,412.012931298847,468.6684655991273,496.55408163560713,548.5185292758069,536.1308968550214,558.4272571753238,357.8637186383917,529.0566631985306,387.35707273642186,528.9336185650203,420.91615953269286,496.9334462555319,519.372976801355,591.4377355684503,502.4097853029053,604.3348400688554,555.068394054576,256.67058229005585,547.1109823629461,461.92087689289787,458.3769106506301,436.2834981467513,532.9352188376637,512.5525343564015,630.4227632299235,463.74598112062944,493.18021624931,501.2091726816533,501.9282648732441,376.3369007569242,421.3266312569514,538.774933478023,398.163468533652,571.4710341154246,451.6286105401996,490.6004425003995,591.7810894256675,409.0704720533178,563.4460356732392,647.6194557251926,448.34042501104767,518.7864830920807,523.6339351357243,393.8573709860865,426.154547713103,503.3878872879605,482.6024673294826,524.7976275698039,574.6548433659395,574.7472196620896,660.4251842914138,375.3984554102431,640.1877400085721,514.0098178487356,376.496840718537,484.5198091105511,614.7296376283244,567.4750105270774,554.003093429799,399.98387159812256,479.17285149109694,585.9318442972224,540.9957391083377,628.0478039330167,582.4919237338106,640.7861663983061,446.4186733701357,570.6300980875259,423.3083340974698,616.6602860166826,530.3624688854229,442.3631173838644,511.9798599920658,560.4437921717631,475.26342372754846,374.2696745439231,463.59141802794056,471.602884392892,626.018672655394,432.47206125141577,356.6155678900057,467.4278485003528,503.2173931191067,378.4735664479011,584.2183134866808,451.7278633175868,557.6341089957288,432.7207178399336,506.4238599698002,510.1598172791045,587.5747994806404,282.4712457199145,473.94985742281614,489.90805309753534,541.9722037582585,266.086340948469,494.6871558102853,689.7876041747194,387.5347163057077,441.8966315178863,604.8413188212227,302.189547809652,479.6148116731426,506.132342437705,319.9288698031936,528.3092250312227,610.1280331303979,584.1058850493533,466.4211988217437,404.8245288726869,564.7909690079206,596.516697973153,368.65478494706446,542.4124767293989,478.26212639683575,473.360495571661,559.1990479544186,447.1876443054186,505.23006828207065,557.2526867470547,422.3687366068266,445.0621855089249,442.0644137580656,533.0400601788124,424.2028270990325,498.635598489176,330.5944460341002,443.4418600624623,478.600915944333,440.0027475469415,357.7831107453153,476.139246872566,501.1224915036564,592.6884532021675,486.0834255029927,576.0252441251166,442.7228915742714,461.7909590614097,488.387525780145,593.1564014822196,392.8103449837973,443.19722102875545,535.4807751896418,533.3965537868428,532.1274491097012,558.9481123879059,508.771906741518,403.7669020956173,640.5840618984408,461.62827839108616,382.4161078654751,561.874657668983,444.57614413373005,401.0331352191061,384.3260571375157,527.7829957560522,482.144996875768,594.2744834186117,502.0925279023197,407.657178759326,708.9351848669819,531.9615505451646,521.2407802357948,447.3690271993314,385.152337987975,430.58888255648486,418.602742095224,478.9514047578855,483.7965220614929,538.941974531203,486.1637990666317,385.0950070687634,527.7837897574573,547.1907493518986,410.6029439492151,583.9778019715428,474.5323294398898,414.9350606518193,550.8133677324173,458.78113168424994,407.5421680134348,581.3089328795,546.5566668627299,503.1750851912004,549.131573287217,482.8309858617018,557.6082620533542,484.87696493512857,669.9871405017029,547.7099885778625,537.8252822957112,408.2169017707518,663.0748176067602,506.37586675019753,528.4193296952955,632.1235881419656,488.2702979651482,508.7357409506604,411.1869635742789,409.09452619233787,467.8009243667916,512.165866388158,608.2718166151668,589.0264897562791,444.0538265727727,493.18126139071865,532.724805462904,275.9184206503857,511.0387860511611,438.4177420114685,475.7250679098812,483.54319386538816,663.8036932755082,544.4092721605869,630.1567281670505,461.11224843060927,491.9115050963458,574.4156896079882,530.766718654762,581.7987976770314,556.2981411740467,502.132789227254,556.1863688687886,475.0716298996618,486.9470538397658,434.1442020262987,304.1355915788555,571.2160048349454,583.0796356620574,445.74984123965226,392.9922559140308,565.9943634015268,499.1401524490539,510.5394216996283,308.52774655803336,561.5165319790891,423.4705331738239,513.1531118530668,529.1945188649573,314.4385182951061,478.5842860083426,444.5821649786528,475.0154070877503,436.7205558562188,521.1953105318003,478.1830597118797,432.48116855701767,438.30370784642975,388.9405487921943,534.7714849461672,537.9157529213054,407.8763782204976,618.8459704239658,502.77107456549606,397.420584096457,392.2852442462675,689.2356997616951,543.1326262891694,577.7360248512277,436.5807403475482,553.9946735912697,427.3565308022928,424.7287739291025,541.0498309594356,469.38314617236114,444.5455496511082,492.55683370047706,535.3216100850124,408.9583359406166,487.5554580579016,487.64623174384167,402.1671222237256,551.0230017027826,497.38955775884335,494.6386097568927,479.2474167840931,462.65651893471335,515.5024796636585,576.4776071703129,357.85798360521926,597.7398788791847,327.37795258965207,510.4013884525048,510.50147847479735,403.8195198321978,627.603318713015,510.661792219672,573.8474377162277,529.0490041294304,551.6201454762476,456.469510066298,497.7786422156802],\"yaxis\":\"y\",\"type\":\"scatter\"},{\"hovertemplate\":\"\\u003cb\\u003eOLS trendline\\u003c\\u002fb\\u003e\\u003cbr\\u003eGasto_anual = 64.2187 * A\\u00f1os_miembro + 272.4\\u003cbr\\u003eR\\u003csup\\u003e2\\u003c\\u002fsup\\u003e=0.654616\\u003cbr\\u003e\\u003cbr\\u003eA\\u00f1os_miembro=%{x}\\u003cbr\\u003eGasto_anual=%{y} \\u003cb\\u003e(trend)\\u003c\\u002fb\\u003e\\u003cextra\\u003e\\u003c\\u002fextra\\u003e\",\"legendgroup\":\"\",\"line\":{\"color\":\"orange\"},\"marker\":{\"color\":\"#636efa\",\"symbol\":\"circle\"},\"mode\":\"lines\",\"name\":\"\",\"showlegend\":false,\"x\":[0.2699010899842742,0.7895199078816915,0.8015157200042076,0.9364975973183264,0.9686221157417688,1.0845853030221226,1.1304769604319769,1.1390935384245742,1.2004838567566694,1.2281124234144234,1.3626740800013843,1.4288238768282668,1.4435150746515455,1.4816166268553612,1.4823596439649784,1.4943108951995074,1.503854421225295,1.516575580831944,1.559151939957077,1.62341960945622,1.7073897286757314,1.7157771665531147,1.726962043188511,1.7677307075942403,1.7851739448879638,1.80922959177631,1.8100798764120296,1.8208106181524435,1.823595182991803,1.8258846690261428,1.8382107022501144,1.8473704233395083,1.9140899242311,1.9207154781756468,1.9770071278430592,2.0181946292873114,2.0838141920346707,2.086348146609663,2.0947616690074846,2.0948917061051766,2.11738254152726,2.139403004485981,2.1596760229888288,2.1820169698233887,2.190132185380053,2.208813678005546,2.2147975193939367,2.2239934582520533,2.2451477874052825,2.2524459633808416,2.258686386946843,2.267251114447051,2.30755242118396,2.3133498845806395,2.320550249888456,2.336484668112853,2.361086946869883,2.367848224385222,2.3790764968915394,2.3951681299791368,2.399079789790412,2.402453833414224,2.412830960970926,2.420806160901484,2.4369588757864635,2.471750669720034,2.473596120847858,2.476139050596411,2.4793398232086954,2.482607770510596,2.491671541288354,2.494543646659249,2.532044061507893,2.562818810803233,2.56663984381683,2.5717778354776577,2.574948470025072,2.5869679851624765,2.59418972057778,2.6022871120328714,2.6181653103960847,2.627624971434411,2.6334199887174443,2.648596770203317,2.652158304851241,2.66403418213262,2.6689197733345025,2.669941624279581,2.6852848361090778,2.6995620549722683,2.7095266269292764,2.7217359920452187,2.72410820200549,2.727209453758874,2.735159567082275,2.739200466766662,2.753424168758119,2.761861926301417,2.768851943263104,2.7795207192736093,2.782757828499416,2.783963128204522,2.789461516374708,2.8040136926903942,2.8200972339734696,2.8296995751470893,2.837943164069798,2.847709026474498,2.8684281816397523,2.8709869096996963,2.871947536151015,2.873007508505152,2.874596910303952,2.877224878259828,2.895075162804356,2.898299577888636,2.905238361446573,2.9070949348220267,2.909008460485079,2.910037916541069,2.910530822492482,2.921350140816143,2.924020724598205,2.926396448726688,2.926940235492512,2.931619534651152,2.935577273740486,2.941410754428091,2.952668957921736,2.957448756503683,2.9644978762354017,2.96655888465992,2.96964022663276,2.972271382079821,2.9747368150832405,2.995761182613056,2.996364526268539,3.00295702283384,3.004742535925674,3.0102097779609496,3.0130325004194374,3.015175298743708,3.021671821710012,3.0226757598626595,3.0234744460455456,3.0465406206892376,3.0466201888222324,3.049195743789432,3.0507129732180167,3.062368145311689,3.0720761414868827,3.086337272317325,3.0887639575315755,3.0895277822700096,3.091826869545788,3.1074686827074625,3.108911449181274,3.120178782748092,3.120568914816974,3.12650948966,3.1286388557446334,3.130538462464844,3.1361327164897803,3.137068975480682,3.13952693504287,3.159754443950926,3.1630919310737573,3.164943995285113,3.1789524050534483,3.182329731786818,3.184618661620886,3.189609941879746,3.1956257763719886,3.198399271684906,3.201801722174991,3.202531199210734,3.202806071553459,3.205529764506833,3.2067566975868704,3.2156668270219866,3.2182653850978555,3.222080766760957,3.2287176862706497,3.22945090446699,3.2309738432875563,3.2367328142505314,3.251741770306888,3.25811288288828,3.261324744787093,3.2734335777477144,3.2750706813095327,3.275733705185027,3.2794662600656097,3.283663455404016,3.287701824074408,3.292797662575647,3.308443000674604,3.30918232804298,3.310150346576856,3.315224753915403,3.3164647447029107,3.318822278930894,3.3363393820041853,3.3455709758422434,3.3459223210048927,3.349245382527182,3.350279287544909,3.357846842326294,3.361612984538193,3.361814624383144,3.363411393785737,3.3664637433729325,3.37125811322392,3.373104673991114,3.37668749953603,3.3920504890738385,3.393902788069372,3.393975043434297,3.397363092819078,3.4015223445155094,3.4145062403052493,3.414688422504897,3.41620997759013,3.420149530164856,3.4288599039280125,3.43455972254092,3.4395905595500764,3.4427992020016864,3.4470177927906893,3.4470928961368963,3.451750709833103,3.452388582630727,3.456233823526301,3.462298847460372,3.467014066009709,3.471413452477678,3.4719191365417483,3.4720213800343784,3.4810621331251683,3.488029991222591,3.491093337009152,3.5048334855203,3.506967573635258,3.515688256202335,3.5160510174718302,3.5190324339539223,3.5258064121952244,3.5314023030588984,3.5325171645393527,3.532861579556475,3.5350884276189447,3.535802467873828,3.537123879902206,3.5435470501829984,3.549036057426973,3.5526497674265176,3.557813698186695,3.5612152714310823,3.5690465158585187,3.5765259152594644,3.578633900393988,3.585160635161344,3.594295099901167,3.597459968849926,3.6043985602569495,3.605933917733071,3.6060868889081727,3.6122391519937,3.620354588804087,3.6203649883552,3.629339915268192,3.634093727357596,3.6343402240734415,3.634996006306897,3.637701279515837,3.641497161540088,3.649286157714702,3.656983926688144,3.663105491283854,3.669225611315444,3.6758488000184415,3.6785893989539975,3.680847338174777,3.689916615447592,3.701229217020273,3.7016222869142337,3.71320920294043,3.722561172893833,3.7382251733253336,3.746572973103466,3.7517345520890513,3.7558693892629655,3.7620704427115657,3.768561962709896,3.771420131891554,3.772969024644708,3.781703565104839,3.781823039343296,3.784273087078304,3.7849321101304056,3.7905521368804433,3.7927119551515887,3.79872531905254,3.802511438790271,3.803364999065175,3.8066709485629935,3.811248170807232,3.8260306175375134,3.827375915107567,3.834169666632599,3.843848921495288,3.8502796390964265,3.8515788003584657,3.854473855602962,3.85547168456418,3.859817998874009,3.863425442205034,3.8648607392342784,3.871003400176416,3.8724320418689104,3.873337568743252,3.8768751769237673,3.8928914802112553,3.897115859957253,3.904479379627935,3.90525030898213,3.911708668370663,3.914384667246393,3.917451119136939,3.918541839158999,3.919302308553184,3.923488745527437,3.9306153266132897,3.937862643180167,3.9588922643660966,3.9694177591077393,3.9705556280753487,3.974522480483529,3.982462318955639,3.9824715131070567,3.993656512525085,3.9972553776226674,4.00096358646012,4.001786345798084,4.003325039023281,4.008352234634593,4.015986640445781,4.018726609737513,4.019051426800219,4.019470351595002,4.022102909528949,4.02781384191709,4.029453828152192,4.034386130357466,4.041244969129275,4.046423164299585,4.048510087289211,4.051382465375181,4.055775961742958,4.064548550437977,4.06991661858986,4.0777750980104255,4.078308001651641,4.08180269478151,4.082620632952961,4.082855278762214,4.086566338485993,4.087837272921703,4.089330841235956,4.104543202376424,4.106055151602658,4.113226122724209,4.116340467131812,4.1245852967146535,4.125584363255396,4.129254688094536,4.130562809236323,4.131276648377655,4.131755039569861,4.137000388171067,4.158214652664192,4.183143661726128,4.193324635532072,4.1956144126751305,4.198349060814376,4.205903889533483,4.214495086037866,4.22243622534277,4.238296188412728,4.243812816726185,4.252006105620936,4.25698328967803,4.288486770885737,4.297686524285517,4.297737481971207,4.301996499354755,4.330407444211276,4.330714461860564,4.331863026751083,4.334001444341368,4.343062915388998,4.34977841863416,4.3508878437244665,4.369366793790984,4.389455226416517,4.396651901097083,4.403369830866465,4.4263640805293125,4.4342734348999375,4.442054329011166,4.446308318351435,4.470282584120023,4.47871260846301,4.4900020655598345,4.514122441132637,4.520353377496559,4.531986606666632,4.541695256706066,4.5433324132930855,4.559699083258959,4.560396067343641,4.571213023779052,4.574287716419565,4.594116864603191,4.595522708601322,4.599937357614995,4.615426306527649,4.620416384895069,4.626075291951958,4.632460945972205,4.639320331857264,4.643258549800133,4.646119976606155,4.648199316428601,4.650491269094463,4.652854446136777,4.662845304002564,4.664258497238649,4.671275460906252,4.685017246570912,4.693732057983859,4.694322274442824,4.712233578509766,4.716104987209577,4.717102512825834,4.724027439824315,4.729484541572504,4.742577519573315,4.74698970293514,4.75036007144446,4.773503047345896,4.778973636034998,4.789201624179895,4.791108744558267,4.794312263402832,4.802630630523376,4.806349618785283,4.808320372869162,4.83552866742221,4.852842407156433,4.920318406118319,4.958264472618698,4.968742673728142,4.978475793470261,4.985204970864011,5.000243360514445,5.004820577490747,5.007271986589903,5.023934200606659,5.038107493844868,5.039955263662929,5.0470225513951,5.049927474652407,5.066696864020983,5.081210092491108,5.084861308602489,5.113319474870622,5.137816745950984,5.226687712532107,5.254708925941115,5.314354141170213,5.320093863780987,5.377593583586978,5.391275125020632,5.405406467229508,5.412357839551379,5.453969474611709,5.454463277564527,5.462500764129899,5.4859767341605234,5.493507201364199,5.56638489205681,5.705153970601026,5.705940716620838,5.8405058759314255,5.97676812602,6.076653638440144,6.115198945760052,6.401228837806773,6.922689335035807],\"xaxis\":\"x\",\"y\":[289.7324789521606,323.1017157831519,323.87207105495685,332.5404296225172,334.6034239299424,342.05042724612844,344.9975291060508,345.550874408038,349.49327988104005,351.2675500813265,359.9089226266666,364.1569755466322,365.10042494186314,367.5472564947737,367.5949720759773,368.3624657061838,368.97533839129136,369.79227452419894,372.5264722901628,376.6536574694266,382.04610804752633,382.5847382727906,383.3030163345479,385.92112632398744,387.0413080731949,388.58613006672476,388.6407342273244,389.3298483436241,389.5086694339992,389.65569721488345,390.4472588513571,391.03548408841567,395.3201226538661,395.7456070110469,399.3605826906419,402.005589843638,406.21959182863736,406.3823190575588,406.9226243964066,406.9309752077326,408.3753070676971,409.78943222692624,411.09133880228467,412.5260450143645,413.04719348035087,414.2468943578113,414.6311687789269,415.2217198734417,416.5802230592409,417.0489023182949,417.44965410927546,417.99966964086036,420.5877665357034,420.960072007406,421.4224699940655,422.4457573677705,424.02568334071225,424.4598836870399,425.1809485745324,426.2143320799071,426.4655337264773,426.68221036882187,427.3486158474883,427.86077269418246,428.89807879222064,431.13236202361344,431.25087446701104,431.41417806977006,431.6197274757243,431.829590751865,432.41165418615066,432.5960970142853,435.00432431715376,436.9806382270425,437.22601993990213,437.5559750043849,437.7595889834654,438.5314664317008,438.9952367785468,439.51524060418103,440.5349176123684,441.14240459832115,441.5145529838236,442.4891859229915,442.71790299222556,443.4805562063291,443.79430244541777,443.8599243686773,444.8452452455429,445.7621094566226,446.4020211574697,447.1860905215441,447.338430724113,447.5375890314467,448.04813484923534,448.30763611041795,449.22106353840627,449.76292522641074,450.21181491903394,450.8969496776863,451.1048325731534,451.18223533442125,451.53533458856697,452.4698562054888,453.50272006582327,454.11936978234246,454.64876221699734,455.2759130518342,456.6064699366773,456.77078808620826,456.8324782530307,456.90054828302425,457.00261757539204,457.17138221994185,458.3177040080503,458.52477170245004,458.9703712532914,459.0895979527984,459.2124820532837,459.2785923667601,459.31024613845113,460.0050485263881,460.1765499032267,460.32911578105467,460.36403705170414,460.664535487191,460.9186962843724,461.29331473911077,462.01630175522973,462.3232541314559,462.7759393262099,462.9082945755958,463.10617430301795,463.27514364405795,463.43347050780585,464.78362772913783,464.8223736648831,465.2457351206618,465.3603984222476,465.71149751258787,465.89276903506004,466.0303767241983,466.44757488172036,466.51204646901755,466.56333704486354,468.04461643267496,468.0497261934893,468.21512494486535,468.31255942257394,469.0610392399013,469.68447398161294,470.6003050403964,470.7561435721036,470.80519539185354,470.95283975183077,471.9573364133837,472.0499889781065,472.7735623155123,472.79861608368526,473.18011198418264,473.31685707256406,473.43884731685296,473.79810295006155,473.85822827063595,474.01607519982053,475.31505920887764,475.5293882408261,475.64832536774736,476.54792701242343,476.76481449174423,476.91180655417884,477.2323400054531,477.6186689816053,477.79677920155626,478.01528009547843,478.0621261509523,478.07977809115687,478.25469006910214,478.33348209724545,478.9056788866501,479.0725548674001,479.31757365796625,479.7437878967871,479.7908742046724,479.8886753320223,480.25850887027616,481.2223642811658,481.6315087487693,481.8377702941144,482.61538361544274,482.72051625227107,482.76309477322513,483.00279453679184,483.2723328992398,483.5316716220336,483.8589196660679,484.8636426944554,484.911121325331,484.9732862019696,485.2991579649325,485.37878854186965,485.5301862882197,486.6551116006069,487.2479524110229,487.2705153351089,487.48391797397005,487.5503139939157,488.0362924054624,488.27814910325594,488.2910981488043,488.3936405789942,488.5896584535551,488.8975465775078,489.0161302804858,489.24621462311256,490.23280559838474,490.35175780283697,490.3563979473072,490.5739740211941,490.84107569287625,491.674884397784,491.6865838989511,491.7842961646385,492.0372890477794,492.59665779074635,492.9626926429047,493.2857663766389,493.49182117332043,493.762733523456,493.76755656153716,494.0666752288946,494.10763858071874,494.354574891909,494.74406274929754,495.0468678807964,495.3293906915652,495.3618650568391,495.36843099941564,495.9490162681283,496.3964829476424,496.59320698365906,497.4755812433457,497.6126295743018,498.1726603350934,498.195956386541,498.38741903041773,498.8224350006566,499.18179574949534,499.2533906869642,499.27550856622236,499.41851381896487,499.46436854468186,499.549227886583,499.96171543115054,500.3142122545573,500.5462799562261,500.87790079554145,501.0963453538991,501.5992575675828,502.07957475658236,502.21494678847824,502.6340851081146,503.22068841563316,503.4239321355537,503.8695193467162,503.9681179837868,503.97794159139005,504.37303183230597,504.89419450691526,504.8948623524052,505.4712203505861,505.7765039084511,505.7923336032308,505.83444707546084,506.0081761616532,506.2519427110678,506.7521417975406,507.2464823931804,507.6396012174697,508.0326272737519,508.45795973823226,508.6339573961103,508.7789592821333,509.36137633628675,510.0878567254707,510.113099156905,510.85719565938246,511.4577668655488,512.4636883643786,512.9997730830602,513.3312428945054,513.5967766976734,513.9950001915131,514.4118770650141,514.5954249294116,514.6948927841651,515.255813480616,515.2634859590192,515.4208248010718,515.4631463944115,515.8240571181173,515.962757805851,516.3489281238809,516.5920677520993,516.6468822699376,516.8591859971013,517.1531291874463,518.1024384674301,518.188831707392,518.6251174918966,519.2467065043337,519.6596787278838,519.7431091548458,519.9290257936683,519.9931050567297,520.2722196433289,520.5038849077903,520.5960577946105,520.9905313985113,521.0822768883617,521.1404286328443,521.367609175821,522.396155100543,522.6674392098803,523.1403147550634,523.18982282389,523.6045701666588,523.7764192936881,523.9733427996161,524.0433874043895,524.0922237483463,524.3610712228029,524.8187308838047,525.2841440185481,526.6346386227636,527.3105720468426,527.383644494866,527.6383905373934,528.1482765177506,528.148866954058,528.8671529007544,529.0982672823504,529.336403575059,529.3892400972513,529.4880529517388,529.8108928396944,530.3011643364201,530.4771215594003,530.4979808838106,530.5248836829587,530.6939430898612,531.060691654043,531.166009412357,531.4827553706264,531.9232209724848,532.2557578534513,532.3897773021131,532.574237643651,532.8563821999348,533.4197463039709,533.7644765780012,534.2691377871109,534.3033601578168,534.5277847527037,534.5803116659258,534.5953803110762,534.8336996839539,534.9153174212665,535.0112324133432,535.9881502311176,536.0852456211783,536.5457559518693,536.7457550522313,537.2752271604476,537.3393858992378,537.5750893314182,537.6590951500691,537.7049369605384,537.73565861349,538.0725079994361,539.4348601539074,541.0357683171562,541.6895770600254,541.8366235355285,542.0122390410968,542.4974002016675,543.0491155378757,543.5590850560034,544.5775910176499,544.931861629798,545.4580238628365,545.7776520745796,547.8007641890993,548.391560248461,548.3948326839917,548.6683411768404,550.4928546756887,550.5125709451877,550.5863302713079,550.7236566354734,551.305572384116,551.7368331670373,551.8080789866834,552.9947728474885,554.2848255606625,554.7469865400958,555.17840315121,556.655063611382,557.1629919428494,557.6626707254713,557.935856323996,559.4754521290868,560.0168172011417,560.7418112825371,562.2907900670202,562.6909326023655,563.4380032740091,564.0614800060221,564.166616048059,565.2176620598948,565.262421460802,565.9570721713831,566.1545248874318,567.4279266948829,567.5182081467958,567.801711098169,568.7963910187709,569.1168472861584,569.4802548520158,569.8903331516907,570.3308338884422,570.5837410632812,570.7674981280293,570.9010305956717,571.048216780387,571.1999769008492,571.841576648174,571.932330058479,572.3829502331027,573.265429628634,573.825083351632,573.862986276088,575.0132266576434,575.2618434307932,575.3259032134404,575.7706129142642,576.1210608087092,576.9618746296942,577.2452192401497,577.461659871477,578.9478713350144,579.2991853430602,579.9560132849209,580.0784860464514,580.2842118118296,580.8184064039649,581.0572349371297,581.183794171506,582.9310750501736,584.0429406364879,588.3761605126999,590.8130069783059,591.4859032675486,592.1109514116733,592.5430903304261,593.5088359280022,593.8027787800472,593.9602050471144,595.0302305090551,595.9404207532318,596.0590820998657,596.5129340197054,596.6994843693275,597.7763924913531,598.708412928876,598.9428892237008,600.7704352194744,602.3436177375775,608.0507942852714,609.8502797433241,613.6806169910567,614.049214425457,617.7417707799125,618.6203813701909,619.5278775744582,619.9742855591566,622.6465300149512,622.6782413908924,623.1943982033247,624.7019941117235,625.1855908078253,629.8657002200628,638.7772678678584,638.8277916621412,647.4693891477841,656.2199715703534,662.6344877601631,665.1098166827874,683.4782800249566,716.9657870795555],\"yaxis\":\"y\",\"type\":\"scatter\"}],                        {\"template\":{\"data\":{\"barpolar\":[{\"marker\":{\"line\":{\"color\":\"rgb(17,17,17)\",\"width\":0.5},\"pattern\":{\"fillmode\":\"overlay\",\"size\":10,\"solidity\":0.2}},\"type\":\"barpolar\"}],\"bar\":[{\"error_x\":{\"color\":\"#f2f5fa\"},\"error_y\":{\"color\":\"#f2f5fa\"},\"marker\":{\"line\":{\"color\":\"rgb(17,17,17)\",\"width\":0.5},\"pattern\":{\"fillmode\":\"overlay\",\"size\":10,\"solidity\":0.2}},\"type\":\"bar\"}],\"carpet\":[{\"aaxis\":{\"endlinecolor\":\"#A2B1C6\",\"gridcolor\":\"#506784\",\"linecolor\":\"#506784\",\"minorgridcolor\":\"#506784\",\"startlinecolor\":\"#A2B1C6\"},\"baxis\":{\"endlinecolor\":\"#A2B1C6\",\"gridcolor\":\"#506784\",\"linecolor\":\"#506784\",\"minorgridcolor\":\"#506784\",\"startlinecolor\":\"#A2B1C6\"},\"type\":\"carpet\"}],\"choropleth\":[{\"colorbar\":{\"outlinewidth\":0,\"ticks\":\"\"},\"type\":\"choropleth\"}],\"contourcarpet\":[{\"colorbar\":{\"outlinewidth\":0,\"ticks\":\"\"},\"type\":\"contourcarpet\"}],\"contour\":[{\"colorbar\":{\"outlinewidth\":0,\"ticks\":\"\"},\"colorscale\":[[0.0,\"#0d0887\"],[0.1111111111111111,\"#46039f\"],[0.2222222222222222,\"#7201a8\"],[0.3333333333333333,\"#9c179e\"],[0.4444444444444444,\"#bd3786\"],[0.5555555555555556,\"#d8576b\"],[0.6666666666666666,\"#ed7953\"],[0.7777777777777778,\"#fb9f3a\"],[0.8888888888888888,\"#fdca26\"],[1.0,\"#f0f921\"]],\"type\":\"contour\"}],\"heatmapgl\":[{\"colorbar\":{\"outlinewidth\":0,\"ticks\":\"\"},\"colorscale\":[[0.0,\"#0d0887\"],[0.1111111111111111,\"#46039f\"],[0.2222222222222222,\"#7201a8\"],[0.3333333333333333,\"#9c179e\"],[0.4444444444444444,\"#bd3786\"],[0.5555555555555556,\"#d8576b\"],[0.6666666666666666,\"#ed7953\"],[0.7777777777777778,\"#fb9f3a\"],[0.8888888888888888,\"#fdca26\"],[1.0,\"#f0f921\"]],\"type\":\"heatmapgl\"}],\"heatmap\":[{\"colorbar\":{\"outlinewidth\":0,\"ticks\":\"\"},\"colorscale\":[[0.0,\"#0d0887\"],[0.1111111111111111,\"#46039f\"],[0.2222222222222222,\"#7201a8\"],[0.3333333333333333,\"#9c179e\"],[0.4444444444444444,\"#bd3786\"],[0.5555555555555556,\"#d8576b\"],[0.6666666666666666,\"#ed7953\"],[0.7777777777777778,\"#fb9f3a\"],[0.8888888888888888,\"#fdca26\"],[1.0,\"#f0f921\"]],\"type\":\"heatmap\"}],\"histogram2dcontour\":[{\"colorbar\":{\"outlinewidth\":0,\"ticks\":\"\"},\"colorscale\":[[0.0,\"#0d0887\"],[0.1111111111111111,\"#46039f\"],[0.2222222222222222,\"#7201a8\"],[0.3333333333333333,\"#9c179e\"],[0.4444444444444444,\"#bd3786\"],[0.5555555555555556,\"#d8576b\"],[0.6666666666666666,\"#ed7953\"],[0.7777777777777778,\"#fb9f3a\"],[0.8888888888888888,\"#fdca26\"],[1.0,\"#f0f921\"]],\"type\":\"histogram2dcontour\"}],\"histogram2d\":[{\"colorbar\":{\"outlinewidth\":0,\"ticks\":\"\"},\"colorscale\":[[0.0,\"#0d0887\"],[0.1111111111111111,\"#46039f\"],[0.2222222222222222,\"#7201a8\"],[0.3333333333333333,\"#9c179e\"],[0.4444444444444444,\"#bd3786\"],[0.5555555555555556,\"#d8576b\"],[0.6666666666666666,\"#ed7953\"],[0.7777777777777778,\"#fb9f3a\"],[0.8888888888888888,\"#fdca26\"],[1.0,\"#f0f921\"]],\"type\":\"histogram2d\"}],\"histogram\":[{\"marker\":{\"pattern\":{\"fillmode\":\"overlay\",\"size\":10,\"solidity\":0.2}},\"type\":\"histogram\"}],\"mesh3d\":[{\"colorbar\":{\"outlinewidth\":0,\"ticks\":\"\"},\"type\":\"mesh3d\"}],\"parcoords\":[{\"line\":{\"colorbar\":{\"outlinewidth\":0,\"ticks\":\"\"}},\"type\":\"parcoords\"}],\"pie\":[{\"automargin\":true,\"type\":\"pie\"}],\"scatter3d\":[{\"line\":{\"colorbar\":{\"outlinewidth\":0,\"ticks\":\"\"}},\"marker\":{\"colorbar\":{\"outlinewidth\":0,\"ticks\":\"\"}},\"type\":\"scatter3d\"}],\"scattercarpet\":[{\"marker\":{\"colorbar\":{\"outlinewidth\":0,\"ticks\":\"\"}},\"type\":\"scattercarpet\"}],\"scattergeo\":[{\"marker\":{\"colorbar\":{\"outlinewidth\":0,\"ticks\":\"\"}},\"type\":\"scattergeo\"}],\"scattergl\":[{\"marker\":{\"line\":{\"color\":\"#283442\"}},\"type\":\"scattergl\"}],\"scattermapbox\":[{\"marker\":{\"colorbar\":{\"outlinewidth\":0,\"ticks\":\"\"}},\"type\":\"scattermapbox\"}],\"scatterpolargl\":[{\"marker\":{\"colorbar\":{\"outlinewidth\":0,\"ticks\":\"\"}},\"type\":\"scatterpolargl\"}],\"scatterpolar\":[{\"marker\":{\"colorbar\":{\"outlinewidth\":0,\"ticks\":\"\"}},\"type\":\"scatterpolar\"}],\"scatter\":[{\"marker\":{\"line\":{\"color\":\"#283442\"}},\"type\":\"scatter\"}],\"scatterternary\":[{\"marker\":{\"colorbar\":{\"outlinewidth\":0,\"ticks\":\"\"}},\"type\":\"scatterternary\"}],\"surface\":[{\"colorbar\":{\"outlinewidth\":0,\"ticks\":\"\"},\"colorscale\":[[0.0,\"#0d0887\"],[0.1111111111111111,\"#46039f\"],[0.2222222222222222,\"#7201a8\"],[0.3333333333333333,\"#9c179e\"],[0.4444444444444444,\"#bd3786\"],[0.5555555555555556,\"#d8576b\"],[0.6666666666666666,\"#ed7953\"],[0.7777777777777778,\"#fb9f3a\"],[0.8888888888888888,\"#fdca26\"],[1.0,\"#f0f921\"]],\"type\":\"surface\"}],\"table\":[{\"cells\":{\"fill\":{\"color\":\"#506784\"},\"line\":{\"color\":\"rgb(17,17,17)\"}},\"header\":{\"fill\":{\"color\":\"#2a3f5f\"},\"line\":{\"color\":\"rgb(17,17,17)\"}},\"type\":\"table\"}]},\"layout\":{\"annotationdefaults\":{\"arrowcolor\":\"#f2f5fa\",\"arrowhead\":0,\"arrowwidth\":1},\"autotypenumbers\":\"strict\",\"coloraxis\":{\"colorbar\":{\"outlinewidth\":0,\"ticks\":\"\"}},\"colorscale\":{\"diverging\":[[0,\"#8e0152\"],[0.1,\"#c51b7d\"],[0.2,\"#de77ae\"],[0.3,\"#f1b6da\"],[0.4,\"#fde0ef\"],[0.5,\"#f7f7f7\"],[0.6,\"#e6f5d0\"],[0.7,\"#b8e186\"],[0.8,\"#7fbc41\"],[0.9,\"#4d9221\"],[1,\"#276419\"]],\"sequential\":[[0.0,\"#0d0887\"],[0.1111111111111111,\"#46039f\"],[0.2222222222222222,\"#7201a8\"],[0.3333333333333333,\"#9c179e\"],[0.4444444444444444,\"#bd3786\"],[0.5555555555555556,\"#d8576b\"],[0.6666666666666666,\"#ed7953\"],[0.7777777777777778,\"#fb9f3a\"],[0.8888888888888888,\"#fdca26\"],[1.0,\"#f0f921\"]],\"sequentialminus\":[[0.0,\"#0d0887\"],[0.1111111111111111,\"#46039f\"],[0.2222222222222222,\"#7201a8\"],[0.3333333333333333,\"#9c179e\"],[0.4444444444444444,\"#bd3786\"],[0.5555555555555556,\"#d8576b\"],[0.6666666666666666,\"#ed7953\"],[0.7777777777777778,\"#fb9f3a\"],[0.8888888888888888,\"#fdca26\"],[1.0,\"#f0f921\"]]},\"colorway\":[\"#636efa\",\"#EF553B\",\"#00cc96\",\"#ab63fa\",\"#FFA15A\",\"#19d3f3\",\"#FF6692\",\"#B6E880\",\"#FF97FF\",\"#FECB52\"],\"font\":{\"color\":\"#f2f5fa\"},\"geo\":{\"bgcolor\":\"rgb(17,17,17)\",\"lakecolor\":\"rgb(17,17,17)\",\"landcolor\":\"rgb(17,17,17)\",\"showlakes\":true,\"showland\":true,\"subunitcolor\":\"#506784\"},\"hoverlabel\":{\"align\":\"left\"},\"hovermode\":\"closest\",\"mapbox\":{\"style\":\"dark\"},\"paper_bgcolor\":\"rgb(17,17,17)\",\"plot_bgcolor\":\"rgb(17,17,17)\",\"polar\":{\"angularaxis\":{\"gridcolor\":\"#506784\",\"linecolor\":\"#506784\",\"ticks\":\"\"},\"bgcolor\":\"rgb(17,17,17)\",\"radialaxis\":{\"gridcolor\":\"#506784\",\"linecolor\":\"#506784\",\"ticks\":\"\"}},\"scene\":{\"xaxis\":{\"backgroundcolor\":\"rgb(17,17,17)\",\"gridcolor\":\"#506784\",\"gridwidth\":2,\"linecolor\":\"#506784\",\"showbackground\":true,\"ticks\":\"\",\"zerolinecolor\":\"#C8D4E3\"},\"yaxis\":{\"backgroundcolor\":\"rgb(17,17,17)\",\"gridcolor\":\"#506784\",\"gridwidth\":2,\"linecolor\":\"#506784\",\"showbackground\":true,\"ticks\":\"\",\"zerolinecolor\":\"#C8D4E3\"},\"zaxis\":{\"backgroundcolor\":\"rgb(17,17,17)\",\"gridcolor\":\"#506784\",\"gridwidth\":2,\"linecolor\":\"#506784\",\"showbackground\":true,\"ticks\":\"\",\"zerolinecolor\":\"#C8D4E3\"}},\"shapedefaults\":{\"line\":{\"color\":\"#f2f5fa\"}},\"sliderdefaults\":{\"bgcolor\":\"#C8D4E3\",\"bordercolor\":\"rgb(17,17,17)\",\"borderwidth\":1,\"tickwidth\":0},\"ternary\":{\"aaxis\":{\"gridcolor\":\"#506784\",\"linecolor\":\"#506784\",\"ticks\":\"\"},\"baxis\":{\"gridcolor\":\"#506784\",\"linecolor\":\"#506784\",\"ticks\":\"\"},\"bgcolor\":\"rgb(17,17,17)\",\"caxis\":{\"gridcolor\":\"#506784\",\"linecolor\":\"#506784\",\"ticks\":\"\"}},\"title\":{\"x\":0.05},\"updatemenudefaults\":{\"bgcolor\":\"#506784\",\"borderwidth\":0},\"xaxis\":{\"automargin\":true,\"gridcolor\":\"#283442\",\"linecolor\":\"#506784\",\"ticks\":\"\",\"title\":{\"standoff\":15},\"zerolinecolor\":\"#283442\",\"zerolinewidth\":2},\"yaxis\":{\"automargin\":true,\"gridcolor\":\"#283442\",\"linecolor\":\"#506784\",\"ticks\":\"\",\"title\":{\"standoff\":15},\"zerolinecolor\":\"#283442\",\"zerolinewidth\":2}}},\"xaxis\":{\"anchor\":\"y\",\"domain\":[0.0,1.0],\"title\":{\"text\":\"A\\u00f1os_miembro\"}},\"yaxis\":{\"anchor\":\"x\",\"domain\":[0.0,1.0],\"title\":{\"text\":\"Gasto_anual\"}},\"legend\":{\"tracegroupgap\":0},\"title\":{\"text\":\"La variable A\\u00f1os_miembro\"}},                        {\"responsive\": true}                    ).then(function(){\n",
              "                            \n",
              "var gd = document.getElementById('5f077c19-1e66-4ced-b47e-ca508e5370cd');\n",
              "var x = new MutationObserver(function (mutations, observer) {{\n",
              "        var display = window.getComputedStyle(gd).display;\n",
              "        if (!display || display === 'none') {{\n",
              "            console.log([gd, 'removed!']);\n",
              "            Plotly.purge(gd);\n",
              "            observer.disconnect();\n",
              "        }}\n",
              "}});\n",
              "\n",
              "// Listen for the removal of the full notebook cells\n",
              "var notebookContainer = gd.closest('#notebook-container');\n",
              "if (notebookContainer) {{\n",
              "    x.observe(notebookContainer, {childList: true});\n",
              "}}\n",
              "\n",
              "// Listen for the clearing of the current output cell\n",
              "var outputEl = gd.closest('.output');\n",
              "if (outputEl) {{\n",
              "    x.observe(outputEl, {childList: true});\n",
              "}}\n",
              "\n",
              "                        })                };                            </script>        </div>\n",
              "</body>\n",
              "</html>"
            ]
          },
          "metadata": {}
        }
      ]
    },
    {
      "cell_type": "markdown",
      "source": [
        "<p align=\"justify\">\n",
        "Este código se utiliza para calcular y visualizar una matriz de correlación de las variables en un DataFrame utilizando la biblioteca Plotly Express. A continuación, detallamos lo que está sucediendo:\n",
        "\n",
        "- `corr_matrix = round(datos.corr(), 3)`: En esta línea, estás calculando la matriz de correlación de las variables en el DataFrame \"datos\" utilizando el método `.corr()` de Pandas. La función `round()` se utiliza para redondear los valores de la matriz de correlación a tres decimales. La matriz de correlación muestra cómo las variables numéricas en el DataFrame se relacionan entre sí, con valores que van desde -1 (correlación negativa perfecta) hasta 1 (correlación positiva perfecta).\n",
        "\n",
        "- `px.imshow(corr_matrix, title=\"Matriz de Correlacion\", text_auto=True, labels={\"color\": \"Indice\"})`: Aquí estás utilizando Plotly Express para crear una visualización de la matriz de correlación. `px.imshow()` se utiliza para crear un mapa de calor a partir de los datos proporcionados. Los argumentos son los siguientes:\n",
        "  - `corr_matrix`: Es la matriz de correlación que calculaste previamente.\n",
        "  - `title=\"Matriz de Correlacion\"`: Establece el título de la visualización.\n",
        "  - `text_auto=True`: Esto hace que los valores de correlación se muestren automáticamente en cada celda del mapa de calor.\n",
        "  - `labels={\"color\": \"Indice\"}`: Etiqueta el eje de color del mapa de calor como \"Índice\", lo que indica que representa los valores de correlación.\n",
        "\n",
        "<p align=\"justify\">\n",
        "En resumen, este código te permite calcular y visualizar de manera gráfica la matriz de correlación entre las variables numéricas en el DataFrame \"datos\". La visualización muestra patrones de correlación entre las variables, lo que puede ayudarte a comprender cómo se relacionan entre sí y a tomar decisiones informadas en análisis de datos y modelado."
      ],
      "metadata": {
        "id": "NyXCPIzTAi55"
      }
    },
    {
      "cell_type": "markdown",
      "source": [
        " ## **<font color=\"DarkBlue\">Estandarización de variables numéricas</font>**"
      ],
      "metadata": {
        "id": "j1TPpGJG0xJG"
      }
    },
    {
      "cell_type": "markdown",
      "source": [
        "<p align=\"justify\">\n",
        "<code>StandardScaler</code> es una clase de la biblioteca <code>scikit-learn</code> en Python que se utiliza para estandarizar variables numéricas en un conjunto de datos. La estandarización es un paso común en el preprocesamiento de datos antes de aplicar técnicas de aprendizaje automático, ya que ayuda a que las variables tengan una escala común y elimina cualquier sesgo relacionado con la escala de las variables explicativas.\n"
      ],
      "metadata": {
        "id": "HSqPpCC303hd"
      }
    },
    {
      "cell_type": "code",
      "source": [
        "scaler = StandardScaler()\n",
        "X_scaled = scaler.fit_transform(X)"
      ],
      "metadata": {
        "id": "zFd3AGsk0ykS"
      },
      "execution_count": null,
      "outputs": []
    },
    {
      "cell_type": "code",
      "source": [
        "X_scaled = pd.DataFrame(X_scaled, columns = X.columns)\n",
        "X_scaled.head()"
      ],
      "metadata": {
        "colab": {
          "base_uri": "https://localhost:8080/",
          "height": 221
        },
        "id": "vYom7qlp1ChA",
        "outputId": "3fa0ff57-532f-4e2d-8219-fa5db72edfae"
      },
      "execution_count": null,
      "outputs": [
        {
          "output_type": "execute_result",
          "data": {
            "text/plain": [
              "   Tiempo_sesión  Tiempo_app  Tiempo_web  Años_miembro\n",
              "0       1.456351    0.607280    2.493589      0.550107\n",
              "1      -1.136502   -0.949464    0.206556     -0.870927\n",
              "2      -0.052723   -0.727139    0.049681      0.572067\n",
              "3       1.263010    1.676390   -0.335978     -0.413996\n",
              "4       0.279838    0.747770    0.471737      0.914422"
            ],
            "text/html": [
              "\n",
              "  <div id=\"df-f7e02ff2-304b-4c0f-8a60-0b55e94f75ad\" class=\"colab-df-container\">\n",
              "    <div>\n",
              "<style scoped>\n",
              "    .dataframe tbody tr th:only-of-type {\n",
              "        vertical-align: middle;\n",
              "    }\n",
              "\n",
              "    .dataframe tbody tr th {\n",
              "        vertical-align: top;\n",
              "    }\n",
              "\n",
              "    .dataframe thead th {\n",
              "        text-align: right;\n",
              "    }\n",
              "</style>\n",
              "<table border=\"1\" class=\"dataframe\">\n",
              "  <thead>\n",
              "    <tr style=\"text-align: right;\">\n",
              "      <th></th>\n",
              "      <th>Tiempo_sesión</th>\n",
              "      <th>Tiempo_app</th>\n",
              "      <th>Tiempo_web</th>\n",
              "      <th>Años_miembro</th>\n",
              "    </tr>\n",
              "  </thead>\n",
              "  <tbody>\n",
              "    <tr>\n",
              "      <th>0</th>\n",
              "      <td>1.456351</td>\n",
              "      <td>0.607280</td>\n",
              "      <td>2.493589</td>\n",
              "      <td>0.550107</td>\n",
              "    </tr>\n",
              "    <tr>\n",
              "      <th>1</th>\n",
              "      <td>-1.136502</td>\n",
              "      <td>-0.949464</td>\n",
              "      <td>0.206556</td>\n",
              "      <td>-0.870927</td>\n",
              "    </tr>\n",
              "    <tr>\n",
              "      <th>2</th>\n",
              "      <td>-0.052723</td>\n",
              "      <td>-0.727139</td>\n",
              "      <td>0.049681</td>\n",
              "      <td>0.572067</td>\n",
              "    </tr>\n",
              "    <tr>\n",
              "      <th>3</th>\n",
              "      <td>1.263010</td>\n",
              "      <td>1.676390</td>\n",
              "      <td>-0.335978</td>\n",
              "      <td>-0.413996</td>\n",
              "    </tr>\n",
              "    <tr>\n",
              "      <th>4</th>\n",
              "      <td>0.279838</td>\n",
              "      <td>0.747770</td>\n",
              "      <td>0.471737</td>\n",
              "      <td>0.914422</td>\n",
              "    </tr>\n",
              "  </tbody>\n",
              "</table>\n",
              "</div>\n",
              "    <div class=\"colab-df-buttons\">\n",
              "\n",
              "  <div class=\"colab-df-container\">\n",
              "    <button class=\"colab-df-convert\" onclick=\"convertToInteractive('df-f7e02ff2-304b-4c0f-8a60-0b55e94f75ad')\"\n",
              "            title=\"Convert this dataframe to an interactive table.\"\n",
              "            style=\"display:none;\">\n",
              "\n",
              "  <svg xmlns=\"http://www.w3.org/2000/svg\" height=\"24px\" viewBox=\"0 -960 960 960\">\n",
              "    <path d=\"M120-120v-720h720v720H120Zm60-500h600v-160H180v160Zm220 220h160v-160H400v160Zm0 220h160v-160H400v160ZM180-400h160v-160H180v160Zm440 0h160v-160H620v160ZM180-180h160v-160H180v160Zm440 0h160v-160H620v160Z\"/>\n",
              "  </svg>\n",
              "    </button>\n",
              "\n",
              "  <style>\n",
              "    .colab-df-container {\n",
              "      display:flex;\n",
              "      gap: 12px;\n",
              "    }\n",
              "\n",
              "    .colab-df-convert {\n",
              "      background-color: #E8F0FE;\n",
              "      border: none;\n",
              "      border-radius: 50%;\n",
              "      cursor: pointer;\n",
              "      display: none;\n",
              "      fill: #1967D2;\n",
              "      height: 32px;\n",
              "      padding: 0 0 0 0;\n",
              "      width: 32px;\n",
              "    }\n",
              "\n",
              "    .colab-df-convert:hover {\n",
              "      background-color: #E2EBFA;\n",
              "      box-shadow: 0px 1px 2px rgba(60, 64, 67, 0.3), 0px 1px 3px 1px rgba(60, 64, 67, 0.15);\n",
              "      fill: #174EA6;\n",
              "    }\n",
              "\n",
              "    .colab-df-buttons div {\n",
              "      margin-bottom: 4px;\n",
              "    }\n",
              "\n",
              "    [theme=dark] .colab-df-convert {\n",
              "      background-color: #3B4455;\n",
              "      fill: #D2E3FC;\n",
              "    }\n",
              "\n",
              "    [theme=dark] .colab-df-convert:hover {\n",
              "      background-color: #434B5C;\n",
              "      box-shadow: 0px 1px 3px 1px rgba(0, 0, 0, 0.15);\n",
              "      filter: drop-shadow(0px 1px 2px rgba(0, 0, 0, 0.3));\n",
              "      fill: #FFFFFF;\n",
              "    }\n",
              "  </style>\n",
              "\n",
              "    <script>\n",
              "      const buttonEl =\n",
              "        document.querySelector('#df-f7e02ff2-304b-4c0f-8a60-0b55e94f75ad button.colab-df-convert');\n",
              "      buttonEl.style.display =\n",
              "        google.colab.kernel.accessAllowed ? 'block' : 'none';\n",
              "\n",
              "      async function convertToInteractive(key) {\n",
              "        const element = document.querySelector('#df-f7e02ff2-304b-4c0f-8a60-0b55e94f75ad');\n",
              "        const dataTable =\n",
              "          await google.colab.kernel.invokeFunction('convertToInteractive',\n",
              "                                                    [key], {});\n",
              "        if (!dataTable) return;\n",
              "\n",
              "        const docLinkHtml = 'Like what you see? Visit the ' +\n",
              "          '<a target=\"_blank\" href=https://colab.research.google.com/notebooks/data_table.ipynb>data table notebook</a>'\n",
              "          + ' to learn more about interactive tables.';\n",
              "        element.innerHTML = '';\n",
              "        dataTable['output_type'] = 'display_data';\n",
              "        await google.colab.output.renderOutput(dataTable, element);\n",
              "        const docLink = document.createElement('div');\n",
              "        docLink.innerHTML = docLinkHtml;\n",
              "        element.appendChild(docLink);\n",
              "      }\n",
              "    </script>\n",
              "  </div>\n",
              "\n",
              "\n",
              "<div id=\"df-a0c1f335-1227-4376-9b12-e0572ce84324\">\n",
              "  <button class=\"colab-df-quickchart\" onclick=\"quickchart('df-a0c1f335-1227-4376-9b12-e0572ce84324')\"\n",
              "            title=\"Suggest charts.\"\n",
              "            style=\"display:none;\">\n",
              "\n",
              "<svg xmlns=\"http://www.w3.org/2000/svg\" height=\"24px\"viewBox=\"0 0 24 24\"\n",
              "     width=\"24px\">\n",
              "    <g>\n",
              "        <path d=\"M19 3H5c-1.1 0-2 .9-2 2v14c0 1.1.9 2 2 2h14c1.1 0 2-.9 2-2V5c0-1.1-.9-2-2-2zM9 17H7v-7h2v7zm4 0h-2V7h2v10zm4 0h-2v-4h2v4z\"/>\n",
              "    </g>\n",
              "</svg>\n",
              "  </button>\n",
              "\n",
              "<style>\n",
              "  .colab-df-quickchart {\n",
              "    background-color: #E8F0FE;\n",
              "    border: none;\n",
              "    border-radius: 50%;\n",
              "    cursor: pointer;\n",
              "    display: none;\n",
              "    fill: #1967D2;\n",
              "    height: 32px;\n",
              "    padding: 0 0 0 0;\n",
              "    width: 32px;\n",
              "  }\n",
              "\n",
              "  .colab-df-quickchart:hover {\n",
              "    background-color: #E2EBFA;\n",
              "    box-shadow: 0px 1px 2px rgba(60, 64, 67, 0.3), 0px 1px 3px 1px rgba(60, 64, 67, 0.15);\n",
              "    fill: #174EA6;\n",
              "  }\n",
              "\n",
              "  [theme=dark] .colab-df-quickchart {\n",
              "    background-color: #3B4455;\n",
              "    fill: #D2E3FC;\n",
              "  }\n",
              "\n",
              "  [theme=dark] .colab-df-quickchart:hover {\n",
              "    background-color: #434B5C;\n",
              "    box-shadow: 0px 1px 3px 1px rgba(0, 0, 0, 0.15);\n",
              "    filter: drop-shadow(0px 1px 2px rgba(0, 0, 0, 0.3));\n",
              "    fill: #FFFFFF;\n",
              "  }\n",
              "</style>\n",
              "\n",
              "  <script>\n",
              "    async function quickchart(key) {\n",
              "      const charts = await google.colab.kernel.invokeFunction(\n",
              "          'suggestCharts', [key], {});\n",
              "    }\n",
              "    (() => {\n",
              "      let quickchartButtonEl =\n",
              "        document.querySelector('#df-a0c1f335-1227-4376-9b12-e0572ce84324 button');\n",
              "      quickchartButtonEl.style.display =\n",
              "        google.colab.kernel.accessAllowed ? 'block' : 'none';\n",
              "    })();\n",
              "  </script>\n",
              "</div>\n",
              "    </div>\n",
              "  </div>\n"
            ]
          },
          "metadata": {},
          "execution_count": 9
        }
      ]
    },
    {
      "cell_type": "markdown",
      "source": [
        "<p align=\"justify\">\n",
        "Este fragmento de código se utiliza para estandarizar las variables independientes en el DataFrame \"X\" utilizando la clase `StandardScaler` de scikit-learn (sklearn). Aquí está el desglose:\n",
        "\n",
        "1. `scaler = StandardScaler()`: Creas una instancia del objeto `StandardScaler`, que se utilizará para estandarizar los datos. El escalado estándar transforma los datos para que tengan una media de 0 y una desviación estándar de 1, lo que es útil para muchos algoritmos de aprendizaje automático.\n",
        "\n",
        "2. `X_scaled = scaler.fit_transform(X)`: Utilizas el método `fit_transform()` del escalador en el DataFrame \"X\". Esto calcula las medias y desviaciones estándar de las características en \"X\" y luego transforma los datos para que estén escalados. El resultado es un conjunto de datos escalados, almacenado en la variable \"X_scaled\".\n",
        "\n",
        "3. `X_scaled = pd.DataFrame(X_scaled, columns=X.columns)`: Creas un nuevo DataFrame llamado \"X_scaled\" a partir de los datos escalados. Utilizas la clase `pd.DataFrame()` de Pandas para crear un DataFrame con los datos escalados. También asignas los nombres de las columnas originales de \"X\" a las columnas del nuevo DataFrame \"X_scaled\".\n",
        "\n",
        "4. `X_scaled.head()`: Finalmente, utilizas el método `.head()` en el DataFrame \"X_scaled\" para mostrar las primeras filas de los datos escalados. Esto te proporciona una vista previa de cómo se ven los datos después de aplicar el escalado estándar.\n",
        "\n",
        "<p align=\"justify\">\n",
        "En resumen, este código está realizando la estandarización de las variables independientes en el DataFrame \"X\". Después de escalar los datos, se crea un nuevo DataFrame \"X_scaled\" con los datos escalados y se muestra una vista previa de las primeras filas para verificar el resultado del proceso de escalado."
      ],
      "metadata": {
        "id": "lAyrKaE1BM75"
      }
    },
    {
      "cell_type": "markdown",
      "source": [
        " ## **<font color=\"DarkBlue\">División del conjunto de datos</font>**"
      ],
      "metadata": {
        "id": "vVSZ40OQ1WSX"
      }
    },
    {
      "cell_type": "code",
      "source": [
        "X_train, X_test, y_train, y_test  = train_test_split(X_scaled,\n",
        "                                                     y,\n",
        "                                                     random_state=123)"
      ],
      "metadata": {
        "id": "7E7Ikr3p1kbo"
      },
      "execution_count": null,
      "outputs": []
    },
    {
      "cell_type": "markdown",
      "source": [
        "<p align=\"justify\">\n",
        "Este fragmento de código se utiliza para dividir los conjuntos de datos escalados en conjuntos de entrenamiento y prueba utilizando la función `train_test_split` de scikit-learn (sklearn). Aquí está el desglose:\n",
        "\n",
        "- `X_scaled`: Este es el DataFrame de características escaladas que has preparado previamente.\n",
        "\n",
        "- `y`: Esta es la Serie de la variable dependiente que estás tratando de predecir.\n",
        "\n",
        "- `train_test_split(X_scaled, y, random_state=123)`: Aquí estás utilizando la función `train_test_split` para dividir tus datos en conjuntos de entrenamiento y prueba. Los argumentos son los siguientes:\n",
        "  - `X_scaled`: El DataFrame de características escaladas.\n",
        "  - `y`: La Serie de la variable dependiente.\n",
        "  - `random_state=123`: Este argumento establece una semilla para la generación de números aleatorios. Proporcionar un valor específico a `random_state` asegura que la división de datos sea reproducible, lo que significa que obtendrás la misma división cada vez que ejecutes el código con la misma semilla.\n",
        "\n",
        "- `X_train, X_test, y_train, y_test`: Las variables que preceden a la asignación almacenarán los conjuntos resultantes después de la división:\n",
        "  - `X_train`: Contiene el conjunto de entrenamiento de características.\n",
        "  - `X_test`: Contiene el conjunto de prueba de características.\n",
        "  - `y_train`: Contiene el conjunto de entrenamiento de la variable dependiente.\n",
        "  - `y_test`: Contiene el conjunto de prueba de la variable dependiente.\n",
        "\n",
        "<p align=\"justify\">\n",
        "En resumen, este código realiza una división de tus datos escalados en conjuntos de entrenamiento y prueba. Los conjuntos resultantes son `X_train`, `X_test`, `y_train` y `y_test`, que se utilizan para entrenar y evaluar modelos de aprendizaje automático. El uso de una semilla aleatoria (random_state) garantiza que la división sea consistente cada vez que se ejecute el código."
      ],
      "metadata": {
        "id": "hgfS--NyBfYD"
      }
    },
    {
      "cell_type": "markdown",
      "source": [
        " ## **<font color=\"DarkBlue\">Ajuste del modelo con sklearn</font>**"
      ],
      "metadata": {
        "id": "XFmEGtac11Dh"
      }
    },
    {
      "cell_type": "markdown",
      "source": [
        "<p align=\"justify\">\n",
        "La clase <code>LinearRegression</code> de <code>scikit-learn</code> proporciona una interfaz sencilla y eficiente para ajustar modelos de regresión lineal y realizar predicciones. Es ampliamente utilizada en problemas de regresión en los que se busca modelar y predecir una variable dependiente a partir de variables independientes mediante una relación lineal.\n",
        "<br>\n",
        "<br>\n",
        "En este caso, se intenta predecir el valor del <code>Gasto_anual</code> en función de las variables explicativas <code>Tiempo_sesión</code>, <code>Tiempo_app</code>,\t<code>Tiempo_web</code> y <code>Años_miembro</code>.\n",
        "<br>\n",
        "<br>\n",
        "👀 Problema de regresión lineal múltiple."
      ],
      "metadata": {
        "id": "GN__O4Cq1810"
      }
    },
    {
      "cell_type": "code",
      "source": [
        "model_1 = LinearRegression().fit(X_train, y_train)\n",
        "print(\"\")\n",
        "print(f\"intercept = {model_1.intercept_}\")\n",
        "print(f\"coef = {model_1.coef_}\")"
      ],
      "metadata": {
        "colab": {
          "base_uri": "https://localhost:8080/"
        },
        "id": "hZKk95d-2I3B",
        "outputId": "e47d67d0-bee8-4238-f702-5bb90d7d79cb"
      },
      "execution_count": null,
      "outputs": [
        {
          "output_type": "stream",
          "name": "stdout",
          "text": [
            "\n",
            "intercept = 499.14110628577623\n",
            "coef = [25.14058939 38.60261634  0.77873252 61.59498109]\n"
          ]
        }
      ]
    },
    {
      "cell_type": "markdown",
      "source": [
        "$Gasto \\ anual = 499.1+25.1 × Tiempo \\ sesión + 38.6 × Tiempo \\ app + 0.8 × Tiempo \\ web + 61.6 × Años\\ miembro$"
      ],
      "metadata": {
        "id": "8esv99OQ2sQX"
      }
    },
    {
      "cell_type": "markdown",
      "source": [
        "**Interpretación de los coeficientes:**\n",
        "\n",
        "Manteniendo las otras características fijas,\n",
        "+ un incremento de 1 unidad en `Tiempo_sesión` está asociado con un incremento de 25.14 en `Gasto_anual`,\n",
        "+ un incremento de 1 unidad en `Tiempo_app` está asociado con un incremento de 38.6 en `Gasto_anual`,\n",
        "+ un incremento de 1 unidad en `Tiempo_web` está asociado con un incremento de 0.77 en `Gasto_anual`y\n",
        "+ un incremento de 1 unidad en `Años_miembro` está asociado con un incremento de 61.59 en `Gasto_anual`."
      ],
      "metadata": {
        "id": "OsUN3sqK2xTW"
      }
    },
    {
      "cell_type": "markdown",
      "source": [
        "<p align=\"justify\">\n",
        "En este fragmento de código, estás ajustando un modelo de regresión lineal a tus datos de entrenamiento y luego imprimiendo los coeficientes del modelo resultante. A continuación, se detalla cada parte:\n",
        "\n",
        "- `model_1 = LinearRegression().fit(X_train, y_train)`: Aquí, estás creando una instancia del modelo de regresión lineal utilizando la clase `LinearRegression` de scikit-learn. Luego, estás ajustando (entrenando) el modelo utilizando los conjuntos de entrenamiento \"X_train\" (características) y \"y_train\" (variable dependiente). Esto significa que el modelo está encontrando la línea de regresión que mejor se ajusta a tus datos de entrenamiento.\n",
        "\n",
        "- `print(\"\")`: Esto simplemente imprime una línea en blanco en la consola, para separar visualmente los resultados anteriores.\n",
        "\n",
        "- `print(f\"intercept = {model_1.intercept_}\")`: Aquí estás imprimiendo el término de intersección del modelo, que se encuentra en el atributo `intercept_` del objeto `model_1`. Este término representa el valor predicho de la variable dependiente cuando todas las características son cero.\n",
        "\n",
        "- `print(f\"coef = {model_1.coef_}\")`: Aquí estás imprimiendo los coeficientes de las características del modelo. Estos coeficientes se almacenan en el atributo `coef_` del objeto `model_1`. Los coeficientes indican cómo cambia la variable dependiente en relación con cambios en las características, manteniendo constantes las demás variables.\n",
        "\n",
        "<p align=\"justify\">\n",
        "En resumen, este código ajusta un modelo de regresión lineal a los datos de entrenamiento escalados. Luego, imprime el término de intersección (término constante) y los coeficientes de las características del modelo. Estos valores son importantes para entender cómo el modelo está realizando sus predicciones basadas en las características proporcionadas."
      ],
      "metadata": {
        "id": "eZGr085bCH1x"
      }
    },
    {
      "cell_type": "markdown",
      "source": [
        "## **<font color=\"DarkBlue\">Predicción y evaluación del modelo**"
      ],
      "metadata": {
        "id": "w_GyXAPE29gh"
      }
    },
    {
      "cell_type": "code",
      "source": [
        "prediction = model_1.predict(X_test)\n",
        "prediction[:5]"
      ],
      "metadata": {
        "colab": {
          "base_uri": "https://localhost:8080/"
        },
        "id": "cXRFZu7-2_mE",
        "outputId": "7c848ed6-881f-4469-e918-cb4cbf0491a3"
      },
      "execution_count": null,
      "outputs": [
        {
          "output_type": "execute_result",
          "data": {
            "text/plain": [
              "array([451.15603635, 449.76991439, 565.6671197 , 506.74017581,\n",
              "       389.26917501])"
            ]
          },
          "metadata": {},
          "execution_count": 13
        }
      ]
    },
    {
      "cell_type": "code",
      "source": [
        "tabla = pd.DataFrame({\"Prediccion\":prediction,\n",
        "                      \"Real\":y_test,\n",
        "                      \"Residuos\": (y_test-prediction),\n",
        "                      })\n",
        "tabla.head()"
      ],
      "metadata": {
        "colab": {
          "base_uri": "https://localhost:8080/",
          "height": 221
        },
        "id": "gkXdZILP3FN6",
        "outputId": "356b422d-ce04-4ea0-cda8-88b52773f8e8"
      },
      "execution_count": null,
      "outputs": [
        {
          "output_type": "execute_result",
          "data": {
            "text/plain": [
              "     Prediccion        Real   Residuos\n",
              "229  451.156036  436.283498 -14.872538\n",
              "337  449.769914  440.002748  -9.767167\n",
              "327  565.667120  557.252687  -8.414433\n",
              "416  506.740176  511.038786   4.298610\n",
              "306  389.269175  387.534716  -1.734459"
            ],
            "text/html": [
              "\n",
              "  <div id=\"df-9500b55b-dfa8-4542-8065-34b856dd06e6\" class=\"colab-df-container\">\n",
              "    <div>\n",
              "<style scoped>\n",
              "    .dataframe tbody tr th:only-of-type {\n",
              "        vertical-align: middle;\n",
              "    }\n",
              "\n",
              "    .dataframe tbody tr th {\n",
              "        vertical-align: top;\n",
              "    }\n",
              "\n",
              "    .dataframe thead th {\n",
              "        text-align: right;\n",
              "    }\n",
              "</style>\n",
              "<table border=\"1\" class=\"dataframe\">\n",
              "  <thead>\n",
              "    <tr style=\"text-align: right;\">\n",
              "      <th></th>\n",
              "      <th>Prediccion</th>\n",
              "      <th>Real</th>\n",
              "      <th>Residuos</th>\n",
              "    </tr>\n",
              "  </thead>\n",
              "  <tbody>\n",
              "    <tr>\n",
              "      <th>229</th>\n",
              "      <td>451.156036</td>\n",
              "      <td>436.283498</td>\n",
              "      <td>-14.872538</td>\n",
              "    </tr>\n",
              "    <tr>\n",
              "      <th>337</th>\n",
              "      <td>449.769914</td>\n",
              "      <td>440.002748</td>\n",
              "      <td>-9.767167</td>\n",
              "    </tr>\n",
              "    <tr>\n",
              "      <th>327</th>\n",
              "      <td>565.667120</td>\n",
              "      <td>557.252687</td>\n",
              "      <td>-8.414433</td>\n",
              "    </tr>\n",
              "    <tr>\n",
              "      <th>416</th>\n",
              "      <td>506.740176</td>\n",
              "      <td>511.038786</td>\n",
              "      <td>4.298610</td>\n",
              "    </tr>\n",
              "    <tr>\n",
              "      <th>306</th>\n",
              "      <td>389.269175</td>\n",
              "      <td>387.534716</td>\n",
              "      <td>-1.734459</td>\n",
              "    </tr>\n",
              "  </tbody>\n",
              "</table>\n",
              "</div>\n",
              "    <div class=\"colab-df-buttons\">\n",
              "\n",
              "  <div class=\"colab-df-container\">\n",
              "    <button class=\"colab-df-convert\" onclick=\"convertToInteractive('df-9500b55b-dfa8-4542-8065-34b856dd06e6')\"\n",
              "            title=\"Convert this dataframe to an interactive table.\"\n",
              "            style=\"display:none;\">\n",
              "\n",
              "  <svg xmlns=\"http://www.w3.org/2000/svg\" height=\"24px\" viewBox=\"0 -960 960 960\">\n",
              "    <path d=\"M120-120v-720h720v720H120Zm60-500h600v-160H180v160Zm220 220h160v-160H400v160Zm0 220h160v-160H400v160ZM180-400h160v-160H180v160Zm440 0h160v-160H620v160ZM180-180h160v-160H180v160Zm440 0h160v-160H620v160Z\"/>\n",
              "  </svg>\n",
              "    </button>\n",
              "\n",
              "  <style>\n",
              "    .colab-df-container {\n",
              "      display:flex;\n",
              "      gap: 12px;\n",
              "    }\n",
              "\n",
              "    .colab-df-convert {\n",
              "      background-color: #E8F0FE;\n",
              "      border: none;\n",
              "      border-radius: 50%;\n",
              "      cursor: pointer;\n",
              "      display: none;\n",
              "      fill: #1967D2;\n",
              "      height: 32px;\n",
              "      padding: 0 0 0 0;\n",
              "      width: 32px;\n",
              "    }\n",
              "\n",
              "    .colab-df-convert:hover {\n",
              "      background-color: #E2EBFA;\n",
              "      box-shadow: 0px 1px 2px rgba(60, 64, 67, 0.3), 0px 1px 3px 1px rgba(60, 64, 67, 0.15);\n",
              "      fill: #174EA6;\n",
              "    }\n",
              "\n",
              "    .colab-df-buttons div {\n",
              "      margin-bottom: 4px;\n",
              "    }\n",
              "\n",
              "    [theme=dark] .colab-df-convert {\n",
              "      background-color: #3B4455;\n",
              "      fill: #D2E3FC;\n",
              "    }\n",
              "\n",
              "    [theme=dark] .colab-df-convert:hover {\n",
              "      background-color: #434B5C;\n",
              "      box-shadow: 0px 1px 3px 1px rgba(0, 0, 0, 0.15);\n",
              "      filter: drop-shadow(0px 1px 2px rgba(0, 0, 0, 0.3));\n",
              "      fill: #FFFFFF;\n",
              "    }\n",
              "  </style>\n",
              "\n",
              "    <script>\n",
              "      const buttonEl =\n",
              "        document.querySelector('#df-9500b55b-dfa8-4542-8065-34b856dd06e6 button.colab-df-convert');\n",
              "      buttonEl.style.display =\n",
              "        google.colab.kernel.accessAllowed ? 'block' : 'none';\n",
              "\n",
              "      async function convertToInteractive(key) {\n",
              "        const element = document.querySelector('#df-9500b55b-dfa8-4542-8065-34b856dd06e6');\n",
              "        const dataTable =\n",
              "          await google.colab.kernel.invokeFunction('convertToInteractive',\n",
              "                                                    [key], {});\n",
              "        if (!dataTable) return;\n",
              "\n",
              "        const docLinkHtml = 'Like what you see? Visit the ' +\n",
              "          '<a target=\"_blank\" href=https://colab.research.google.com/notebooks/data_table.ipynb>data table notebook</a>'\n",
              "          + ' to learn more about interactive tables.';\n",
              "        element.innerHTML = '';\n",
              "        dataTable['output_type'] = 'display_data';\n",
              "        await google.colab.output.renderOutput(dataTable, element);\n",
              "        const docLink = document.createElement('div');\n",
              "        docLink.innerHTML = docLinkHtml;\n",
              "        element.appendChild(docLink);\n",
              "      }\n",
              "    </script>\n",
              "  </div>\n",
              "\n",
              "\n",
              "<div id=\"df-ae36b58c-f142-4a6d-a563-83ffcf84b7b6\">\n",
              "  <button class=\"colab-df-quickchart\" onclick=\"quickchart('df-ae36b58c-f142-4a6d-a563-83ffcf84b7b6')\"\n",
              "            title=\"Suggest charts.\"\n",
              "            style=\"display:none;\">\n",
              "\n",
              "<svg xmlns=\"http://www.w3.org/2000/svg\" height=\"24px\"viewBox=\"0 0 24 24\"\n",
              "     width=\"24px\">\n",
              "    <g>\n",
              "        <path d=\"M19 3H5c-1.1 0-2 .9-2 2v14c0 1.1.9 2 2 2h14c1.1 0 2-.9 2-2V5c0-1.1-.9-2-2-2zM9 17H7v-7h2v7zm4 0h-2V7h2v10zm4 0h-2v-4h2v4z\"/>\n",
              "    </g>\n",
              "</svg>\n",
              "  </button>\n",
              "\n",
              "<style>\n",
              "  .colab-df-quickchart {\n",
              "    background-color: #E8F0FE;\n",
              "    border: none;\n",
              "    border-radius: 50%;\n",
              "    cursor: pointer;\n",
              "    display: none;\n",
              "    fill: #1967D2;\n",
              "    height: 32px;\n",
              "    padding: 0 0 0 0;\n",
              "    width: 32px;\n",
              "  }\n",
              "\n",
              "  .colab-df-quickchart:hover {\n",
              "    background-color: #E2EBFA;\n",
              "    box-shadow: 0px 1px 2px rgba(60, 64, 67, 0.3), 0px 1px 3px 1px rgba(60, 64, 67, 0.15);\n",
              "    fill: #174EA6;\n",
              "  }\n",
              "\n",
              "  [theme=dark] .colab-df-quickchart {\n",
              "    background-color: #3B4455;\n",
              "    fill: #D2E3FC;\n",
              "  }\n",
              "\n",
              "  [theme=dark] .colab-df-quickchart:hover {\n",
              "    background-color: #434B5C;\n",
              "    box-shadow: 0px 1px 3px 1px rgba(0, 0, 0, 0.15);\n",
              "    filter: drop-shadow(0px 1px 2px rgba(0, 0, 0, 0.3));\n",
              "    fill: #FFFFFF;\n",
              "  }\n",
              "</style>\n",
              "\n",
              "  <script>\n",
              "    async function quickchart(key) {\n",
              "      const charts = await google.colab.kernel.invokeFunction(\n",
              "          'suggestCharts', [key], {});\n",
              "    }\n",
              "    (() => {\n",
              "      let quickchartButtonEl =\n",
              "        document.querySelector('#df-ae36b58c-f142-4a6d-a563-83ffcf84b7b6 button');\n",
              "      quickchartButtonEl.style.display =\n",
              "        google.colab.kernel.accessAllowed ? 'block' : 'none';\n",
              "    })();\n",
              "  </script>\n",
              "</div>\n",
              "    </div>\n",
              "  </div>\n"
            ]
          },
          "metadata": {},
          "execution_count": 14
        }
      ]
    },
    {
      "cell_type": "code",
      "source": [
        "model_1.score(X_test, y_test).round(4)"
      ],
      "metadata": {
        "colab": {
          "base_uri": "https://localhost:8080/"
        },
        "id": "tdrkqiC13SlT",
        "outputId": "144bd015-47fa-493e-8f1a-596ab434ef0e"
      },
      "execution_count": null,
      "outputs": [
        {
          "output_type": "execute_result",
          "data": {
            "text/plain": [
              "0.985"
            ]
          },
          "metadata": {},
          "execution_count": 15
        }
      ]
    },
    {
      "cell_type": "markdown",
      "source": [
        "<p align=\"justify\">\n",
        "En este fragmento de código, estás ajustando un modelo de regresión lineal a tus datos de entrenamiento y luego imprimiendo los coeficientes del modelo resultante. A continuación, se detalla cada parte:\n",
        "\n",
        "- `model_1 = LinearRegression().fit(X_train, y_train)`: Aquí, estás creando una instancia del modelo de regresión lineal utilizando la clase `LinearRegression` de scikit-learn. Luego, estás ajustando (entrenando) el modelo utilizando los conjuntos de entrenamiento \"X_train\" (características) y \"y_train\" (variable dependiente). Esto significa que el modelo está encontrando la línea de regresión que mejor se ajusta a tus datos de entrenamiento.\n",
        "\n",
        "- `print(\"\")`: Esto simplemente imprime una línea en blanco en la consola, para separar visualmente los resultados anteriores.\n",
        "\n",
        "- `print(f\"intercept = {model_1.intercept_}\")`: Aquí estás imprimiendo el término de intersección del modelo, que se encuentra en el atributo `intercept_` del objeto `model_1`. Este término representa el valor predicho de la variable dependiente cuando todas las características son cero.\n",
        "\n",
        "- `print(f\"coef = {model_1.coef_}\")`: Aquí estás imprimiendo los coeficientes de las características del modelo. Estos coeficientes se almacenan en el atributo `coef_` del objeto `model_1`. Los coeficientes indican cómo cambia la variable dependiente en relación con cambios en las características, manteniendo constantes las demás variables.\n",
        "\n",
        "<p align=\"justify\">\n",
        "En resumen, este código ajusta un modelo de regresión lineal a los datos de entrenamiento escalados. Luego, imprime el término de intersección (término constante) y los coeficientes de las características del modelo. Estos valores son importantes para entender cómo el modelo está realizando sus predicciones basadas en las características proporcionadas."
      ],
      "metadata": {
        "id": "t7MWzGHGCqDh"
      }
    },
    {
      "cell_type": "markdown",
      "source": [
        "## **<font color=\"DarkBlue\">Creación del Pipeline**"
      ],
      "metadata": {
        "id": "SD5O8qdJ3aNA"
      }
    },
    {
      "cell_type": "code",
      "source": [
        "model = make_pipeline(StandardScaler(), LinearRegression())\n",
        "model"
      ],
      "metadata": {
        "colab": {
          "base_uri": "https://localhost:8080/",
          "height": 145
        },
        "id": "cvvq18Kn3bee",
        "outputId": "f19322bc-da2a-4714-b2ab-3ac825361d11"
      },
      "execution_count": null,
      "outputs": [
        {
          "output_type": "execute_result",
          "data": {
            "text/plain": [
              "Pipeline(steps=[('standardscaler', StandardScaler()),\n",
              "                ('linearregression', LinearRegression())])"
            ],
            "text/html": [
              "<style>#sk-container-id-1 {color: black;background-color: white;}#sk-container-id-1 pre{padding: 0;}#sk-container-id-1 div.sk-toggleable {background-color: white;}#sk-container-id-1 label.sk-toggleable__label {cursor: pointer;display: block;width: 100%;margin-bottom: 0;padding: 0.3em;box-sizing: border-box;text-align: center;}#sk-container-id-1 label.sk-toggleable__label-arrow:before {content: \"▸\";float: left;margin-right: 0.25em;color: #696969;}#sk-container-id-1 label.sk-toggleable__label-arrow:hover:before {color: black;}#sk-container-id-1 div.sk-estimator:hover label.sk-toggleable__label-arrow:before {color: black;}#sk-container-id-1 div.sk-toggleable__content {max-height: 0;max-width: 0;overflow: hidden;text-align: left;background-color: #f0f8ff;}#sk-container-id-1 div.sk-toggleable__content pre {margin: 0.2em;color: black;border-radius: 0.25em;background-color: #f0f8ff;}#sk-container-id-1 input.sk-toggleable__control:checked~div.sk-toggleable__content {max-height: 200px;max-width: 100%;overflow: auto;}#sk-container-id-1 input.sk-toggleable__control:checked~label.sk-toggleable__label-arrow:before {content: \"▾\";}#sk-container-id-1 div.sk-estimator input.sk-toggleable__control:checked~label.sk-toggleable__label {background-color: #d4ebff;}#sk-container-id-1 div.sk-label input.sk-toggleable__control:checked~label.sk-toggleable__label {background-color: #d4ebff;}#sk-container-id-1 input.sk-hidden--visually {border: 0;clip: rect(1px 1px 1px 1px);clip: rect(1px, 1px, 1px, 1px);height: 1px;margin: -1px;overflow: hidden;padding: 0;position: absolute;width: 1px;}#sk-container-id-1 div.sk-estimator {font-family: monospace;background-color: #f0f8ff;border: 1px dotted black;border-radius: 0.25em;box-sizing: border-box;margin-bottom: 0.5em;}#sk-container-id-1 div.sk-estimator:hover {background-color: #d4ebff;}#sk-container-id-1 div.sk-parallel-item::after {content: \"\";width: 100%;border-bottom: 1px solid gray;flex-grow: 1;}#sk-container-id-1 div.sk-label:hover label.sk-toggleable__label {background-color: #d4ebff;}#sk-container-id-1 div.sk-serial::before {content: \"\";position: absolute;border-left: 1px solid gray;box-sizing: border-box;top: 0;bottom: 0;left: 50%;z-index: 0;}#sk-container-id-1 div.sk-serial {display: flex;flex-direction: column;align-items: center;background-color: white;padding-right: 0.2em;padding-left: 0.2em;position: relative;}#sk-container-id-1 div.sk-item {position: relative;z-index: 1;}#sk-container-id-1 div.sk-parallel {display: flex;align-items: stretch;justify-content: center;background-color: white;position: relative;}#sk-container-id-1 div.sk-item::before, #sk-container-id-1 div.sk-parallel-item::before {content: \"\";position: absolute;border-left: 1px solid gray;box-sizing: border-box;top: 0;bottom: 0;left: 50%;z-index: -1;}#sk-container-id-1 div.sk-parallel-item {display: flex;flex-direction: column;z-index: 1;position: relative;background-color: white;}#sk-container-id-1 div.sk-parallel-item:first-child::after {align-self: flex-end;width: 50%;}#sk-container-id-1 div.sk-parallel-item:last-child::after {align-self: flex-start;width: 50%;}#sk-container-id-1 div.sk-parallel-item:only-child::after {width: 0;}#sk-container-id-1 div.sk-dashed-wrapped {border: 1px dashed gray;margin: 0 0.4em 0.5em 0.4em;box-sizing: border-box;padding-bottom: 0.4em;background-color: white;}#sk-container-id-1 div.sk-label label {font-family: monospace;font-weight: bold;display: inline-block;line-height: 1.2em;}#sk-container-id-1 div.sk-label-container {text-align: center;}#sk-container-id-1 div.sk-container {/* jupyter's `normalize.less` sets `[hidden] { display: none; }` but bootstrap.min.css set `[hidden] { display: none !important; }` so we also need the `!important` here to be able to override the default hidden behavior on the sphinx rendered scikit-learn.org. See: https://github.com/scikit-learn/scikit-learn/issues/21755 */display: inline-block !important;position: relative;}#sk-container-id-1 div.sk-text-repr-fallback {display: none;}</style><div id=\"sk-container-id-1\" class=\"sk-top-container\"><div class=\"sk-text-repr-fallback\"><pre>Pipeline(steps=[(&#x27;standardscaler&#x27;, StandardScaler()),\n",
              "                (&#x27;linearregression&#x27;, LinearRegression())])</pre><b>In a Jupyter environment, please rerun this cell to show the HTML representation or trust the notebook. <br />On GitHub, the HTML representation is unable to render, please try loading this page with nbviewer.org.</b></div><div class=\"sk-container\" hidden><div class=\"sk-item sk-dashed-wrapped\"><div class=\"sk-label-container\"><div class=\"sk-label sk-toggleable\"><input class=\"sk-toggleable__control sk-hidden--visually\" id=\"sk-estimator-id-1\" type=\"checkbox\" ><label for=\"sk-estimator-id-1\" class=\"sk-toggleable__label sk-toggleable__label-arrow\">Pipeline</label><div class=\"sk-toggleable__content\"><pre>Pipeline(steps=[(&#x27;standardscaler&#x27;, StandardScaler()),\n",
              "                (&#x27;linearregression&#x27;, LinearRegression())])</pre></div></div></div><div class=\"sk-serial\"><div class=\"sk-item\"><div class=\"sk-estimator sk-toggleable\"><input class=\"sk-toggleable__control sk-hidden--visually\" id=\"sk-estimator-id-2\" type=\"checkbox\" ><label for=\"sk-estimator-id-2\" class=\"sk-toggleable__label sk-toggleable__label-arrow\">StandardScaler</label><div class=\"sk-toggleable__content\"><pre>StandardScaler()</pre></div></div></div><div class=\"sk-item\"><div class=\"sk-estimator sk-toggleable\"><input class=\"sk-toggleable__control sk-hidden--visually\" id=\"sk-estimator-id-3\" type=\"checkbox\" ><label for=\"sk-estimator-id-3\" class=\"sk-toggleable__label sk-toggleable__label-arrow\">LinearRegression</label><div class=\"sk-toggleable__content\"><pre>LinearRegression()</pre></div></div></div></div></div></div></div>"
            ]
          },
          "metadata": {},
          "execution_count": 16
        }
      ]
    },
    {
      "cell_type": "markdown",
      "source": [
        "<p align=\"justify\">\n",
        "En este fragmento de código, estás creando un modelo de regresión lineal utilizando el concepto de un pipeline en scikit-learn. Aquí está la explicación:\n",
        "\n",
        "- `StandardScaler()`: Esta es una instancia del escalador estándar que estandarizará los datos antes de pasarlos al modelo de regresión lineal. El escalador estándar transforma los datos para que tengan una media de 0 y una desviación estándar de 1.\n",
        "\n",
        "- `LinearRegression()`: Esta es una instancia del modelo de regresión lineal. Será el segundo paso en el pipeline después del escalado.\n",
        "\n",
        "- `make_pipeline(StandardScaler(), LinearRegression())`: Aquí estás utilizando la función `make_pipeline()` de scikit-learn para crear un pipeline que combina el escalador estándar y el modelo de regresión lineal en ese orden. Los datos pasarán primero por el escalador y luego por el modelo de regresión lineal.\n",
        "\n",
        "- `model`: Después de crear el pipeline, se almacena en la variable `model`.\n",
        "\n",
        "<p align=\"justify\">\n",
        "En resumen, estás creando un modelo de regresión lineal utilizando un pipeline que primero estandariza los datos utilizando el escalador estándar y luego ajusta un modelo de regresión lineal a los datos escalados. <mark>El uso de un pipeline como este puede simplificar el proceso de ajustar y evaluar modelos, ya que combina varios pasos en un solo objeto</mark>."
      ],
      "metadata": {
        "id": "UlOkASBwDESc"
      }
    },
    {
      "cell_type": "markdown",
      "source": [
        " # **<font color=\"DarkBlue\"> 💗 Los esperamos...</font>**"
      ],
      "metadata": {
        "id": "AeFSFlMVY2kF"
      }
    }
  ]
}