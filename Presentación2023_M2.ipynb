{
  "nbformat": 4,
  "nbformat_minor": 0,
  "metadata": {
    "colab": {
      "provenance": [],
      "include_colab_link": true
    },
    "kernelspec": {
      "name": "python3",
      "display_name": "Python 3"
    },
    "language_info": {
      "name": "python"
    }
  },
  "cells": [
    {
      "cell_type": "markdown",
      "metadata": {
        "id": "view-in-github",
        "colab_type": "text"
      },
      "source": [
        "<a href=\"https://colab.research.google.com/github/cristiandarioortegayubro/UNI/blob/main/Presentaci%C3%B3n2023_M2.ipynb\" target=\"_parent\"><img src=\"https://colab.research.google.com/assets/colab-badge.svg\" alt=\"Open In Colab\"/></a>"
      ]
    },
    {
      "cell_type": "markdown",
      "source": [
        "![](https://github.com/cristiandarioortegayubro/UNI/blob/main/UNI%2039%20Aniversario.jpg?raw=true)\n"
      ],
      "metadata": {
        "id": "iheuwam9e4CH"
      }
    },
    {
      "cell_type": "markdown",
      "source": [
        "<p align=\"center\">\n",
        "<img src=\"https://pandas.pydata.org/static/img/pandas.svg\" width=\"180\">\n",
        "</p>\n"
      ],
      "metadata": {
        "id": "XM-hn7ZLmgQc"
      }
    },
    {
      "cell_type": "markdown",
      "source": [
        " # **<font color=\"DarkBlue\">Analítica para Ciencia de Datos con Python</font>**"
      ],
      "metadata": {
        "id": "_o8tuKydjnRZ"
      }
    },
    {
      "cell_type": "markdown",
      "source": [
        " # **<font color=\"DarkBlue\">Instructores</font>**"
      ],
      "metadata": {
        "id": "iG8osAu80lXB"
      }
    },
    {
      "cell_type": "markdown",
      "source": [
        "<table border=\"1\">\n",
        "  <tr>\n",
        "    <td>\n",
        "    <h3 align=\"center\"><font color=\"DarkBlue\">Gustavo Raul Machin Urbay</font></h3>\n",
        "    </td>\n",
        "    <td>\n",
        "    <h3 align=\"center\"><font color=\"DarkBlue\">Cristian Dario Ortega Yubro</font></h3>\n",
        "    </td>\n",
        "  </tr>\n",
        "\n",
        "  <tr>\n",
        "    <td align=\"center\">\n",
        "    <img src=\"https://media.licdn.com/dms/image/C4E03AQHVW8FGqKW5TQ/profile-displayphoto-shrink_200_200/0/1642528082273?e=1698278400&v=beta&t=8pXiMbD4klPgD_Y_sFg1NHH12ANHKXr2YGGluppmFmE\">        \n",
        "    </td>\n",
        "    <td align=\"center\">\n",
        "    <img src=\"https://media.licdn.com/dms/image/D4D03AQGQvYNSGkVLOQ/profile-displayphoto-shrink_200_200/0/1674752467497?e=1698278400&v=beta&t=25lFdtPMJMhBN4RVI9ja9oESMgu8kk_8OANDkdztB6w\">\n",
        "    </td>\n",
        "  </tr>\n",
        "\n",
        "  <tr>\n",
        "    <td>\n",
        "    <a href=\"https://www.linkedin.com/in/gustavomachinurbay/\">https://www.linkedin.com/in/gustavomachinurbay</a>\n",
        "    </td>\n",
        "    <td>\n",
        "    <a href=\"https://www.linkedin.com/in/cristiandarioortegayubro/\">https://www.linkedin.com/in/cristiandarioortegayubro</a>\n",
        "    </td>\n",
        "  </tr>\n",
        "</table>\n"
      ],
      "metadata": {
        "id": "Xfl8L5yj4kiJ"
      }
    },
    {
      "cell_type": "markdown",
      "source": [
        " # **<font color=\"DarkBlue\">Contenidos</font>**"
      ],
      "metadata": {
        "id": "B1Vm9mHn3TT7"
      }
    },
    {
      "cell_type": "markdown",
      "source": [
        " ## **<font color=\"DarkBlue\"> 1 - Analítica para Ciencia de Datos con Python</font>**"
      ],
      "metadata": {
        "id": "zfpGb0lszF3D"
      }
    },
    {
      "cell_type": "markdown",
      "source": [
        "✅ variables,\n",
        "<br>\n",
        "✅ estructuras de datos,\n",
        "<br>\n",
        "✅ operadores de decisión,\n",
        "<br>\n",
        "✅ operadores de iteración,\n",
        "<br>\n",
        "✅ comprensión de listas,\n",
        "<br>\n",
        "✅ funciones,\n",
        "<br>\n",
        "✅ lambdas\n",
        "\n"
      ],
      "metadata": {
        "id": "awv0mPM03V7u"
      }
    },
    {
      "cell_type": "markdown",
      "source": [
        " ## **<font color=\"DarkBlue\"> 2 - Manipulación de datos con Pandas I</font>**"
      ],
      "metadata": {
        "id": "459aGxETzV1y"
      }
    },
    {
      "cell_type": "markdown",
      "source": [
        "✅ carga de datos,\n",
        "<br>\n",
        "✅ dataframes y series,\n",
        "<br>\n",
        "✅ selección de datos,\n",
        "<br>\n",
        "✅ indexación y filtros\n",
        "\n",
        "\n",
        "   \n"
      ],
      "metadata": {
        "id": "BwprqUV937vH"
      }
    },
    {
      "cell_type": "markdown",
      "source": [
        " ## **<font color=\"DarkBlue\"> 3 - Manipulación de datos con Pandas II</font>**"
      ],
      "metadata": {
        "id": "bpmGgusdzg1s"
      }
    },
    {
      "cell_type": "markdown",
      "source": [
        "✅ exploración y limpieza de datos,\n",
        "<br>\n",
        "✅ manipulación y transformación de datos\n",
        "\n",
        "\n",
        "\n"
      ],
      "metadata": {
        "id": "sf5d1zS038qK"
      }
    },
    {
      "cell_type": "markdown",
      "source": [
        " ## **<font color=\"DarkBlue\"> 4 - Visualización de datos con Plotly</font>**"
      ],
      "metadata": {
        "id": "KuCTfhsVzugm"
      }
    },
    {
      "cell_type": "markdown",
      "source": [
        "✅ creación de gráficos interactivos,\n",
        "<br>\n",
        "✅ visualización de relaciones y patrones de los datos,\n",
        "<br>\n",
        "✅ gráficos básicos,\n",
        "<br>\n",
        "✅ gráficos estadísticos\n",
        "\n",
        "\n",
        "   "
      ],
      "metadata": {
        "id": "nylOGTJR39bL"
      }
    },
    {
      "cell_type": "markdown",
      "source": [
        " ## **<font color=\"DarkBlue\"> 5 - Análisis Exploratorio de Datos I</font>**"
      ],
      "metadata": {
        "id": "DkH_2L-Pz9ng"
      }
    },
    {
      "cell_type": "markdown",
      "source": [
        "✅ estadísticas descriptivas,\n",
        "<br>\n",
        "✅ distribuciones,\n",
        "<br>\n",
        "✅ visualizaciones de los datos\n",
        "\n",
        "  "
      ],
      "metadata": {
        "id": "W6TZAECI3-FE"
      }
    },
    {
      "cell_type": "markdown",
      "source": [
        " ## **<font color=\"DarkBlue\"> 6 - Análisis Exploratorio de Datos II</font>**"
      ],
      "metadata": {
        "id": "VOCMQsuA0JFD"
      }
    },
    {
      "cell_type": "markdown",
      "source": [
        "✅ matriz de correlación,\n",
        "<br>\n",
        "✅ identificación de outliers y valores atípicos\n",
        "\n",
        ""
      ],
      "metadata": {
        "id": "S46cuvZq3-yc"
      }
    },
    {
      "cell_type": "markdown",
      "source": [
        " ## **<font color=\"DarkBlue\"> 7 - Preprocesamiento de datos con Pandas I</font>**"
      ],
      "metadata": {
        "id": "4TOO-b7d0Qmh"
      }
    },
    {
      "cell_type": "markdown",
      "source": [
        "✅ manejo de valores faltantes,\n",
        "<br>\n",
        "✅  codificación de variables categóricas\n",
        "\n"
      ],
      "metadata": {
        "id": "HR8m4hTN3_e_"
      }
    },
    {
      "cell_type": "markdown",
      "source": [
        " ## **<font color=\"DarkBlue\"> 8 - Preprocesamiento de datos con Pandas II</font>**"
      ],
      "metadata": {
        "id": "LzSU7rgg0bj6"
      }
    },
    {
      "cell_type": "markdown",
      "source": [
        "✅ normalización y estandarización de los datos,\n",
        "<br>\n",
        "✅ tratamiento de duplicados\n"
      ],
      "metadata": {
        "id": "SIXFhEA44AoF"
      }
    },
    {
      "cell_type": "markdown",
      "source": [
        " # **<font color=\"DarkBlue\"> 💗 Usando Pandas y Plotly...</font>**"
      ],
      "metadata": {
        "id": "tct7sbqv-kSO"
      }
    },
    {
      "cell_type": "markdown",
      "source": [
        " ## **<font color=\"DarkBlue\">Carga de bibliotecas necesarias</font>**"
      ],
      "metadata": {
        "id": "ITUjk6FeC9u-"
      }
    },
    {
      "cell_type": "code",
      "source": [
        "import yfinance as yf\n",
        "import plotly.express as px\n",
        "import pandas as pd"
      ],
      "metadata": {
        "id": "0mPbEIm--n0D"
      },
      "execution_count": 1,
      "outputs": []
    },
    {
      "cell_type": "markdown",
      "source": [
        "<p align=\"justify\">\n",
        "Las líneas de código <code>import yfinance as yf</code>, <code>import plotly.express as px</code> e <code>import pandas as pd</code> son declaraciones de importación en Python. Estas declaraciones permiten cargar bibliotecas o módulos externos en tu programa para que puedas acceder a las funciones y características proporcionadas por esas bibliotecas.\n",
        "\n",
        "1. **import yfinance as yf**:\n",
        "   En esta línea, se importa el módulo `yfinance` y se le asigna un alias o nombre corto `yf`. `yfinance` es una biblioteca que proporciona una interfaz para acceder y descargar datos financieros de Yahoo Finance. Al asignarle un alias, puedes usar el nombre corto `yf` para hacer referencia a las funciones y clases del módulo en tu código.\n",
        "\n",
        "2. **import plotly.express as px**:\n",
        "   En esta línea, se importa el módulo `plotly.express` y se le asigna un alias `px`. `plotly.express` es una biblioteca que facilita la creación de visualizaciones interactivas, incluidos gráficos, diagramas y más. Al igual que en el caso anterior, asignar un alias más corto (`px` en este caso) hace que sea más conveniente acceder a las funciones y clases proporcionadas por la biblioteca.\n",
        "\n",
        "3. **import pandas as pd**:\n",
        "   En esta línea, se importa el módulo `pandas` y se le asigna un alias `pd`. `pandas` es una biblioteca que facilita la creación de DataFrame y Series, y la utilizamos para manipular los datos. Al igual que los dos casos anteriores, asignar un alias más corto (`pd` en este caso) hace que sea más conveniente acceder a las funciones y clases proporcionadas por la biblioteca.\n",
        "\n",
        "En resumen, las declaraciones de importación te permiten cargar bibliotecas externas en tu programa para aprovechar sus funcionalidades."
      ],
      "metadata": {
        "id": "3s3HR2veDGPe"
      }
    },
    {
      "cell_type": "markdown",
      "source": [
        " ## **<font color=\"DarkBlue\">Definición de variables y descarga de datos</font>**"
      ],
      "metadata": {
        "id": "aTySOM9NDaNM"
      }
    },
    {
      "cell_type": "code",
      "source": [
        "# Símbolos de las acciones\n",
        "tickers = ['AAPL', 'GOOG', 'MSFT']\n",
        "\n",
        "# Fecha de inicio y fin para enero de 2020\n",
        "start_date = '2020-01-01'\n",
        "end_date = '2020-01-31'\n",
        "\n",
        "# Obtener los datos utilizando yfinance\n",
        "data = yf.download(tickers,\n",
        "                   start=start_date,\n",
        "                   end=end_date,\n",
        "                   interval='1d',\n",
        "                   progress=False)"
      ],
      "metadata": {
        "id": "qu3IT-S9DWDq"
      },
      "execution_count": 2,
      "outputs": []
    },
    {
      "cell_type": "markdown",
      "source": [
        "<p align=\"justify\">\n",
        "En este código, se están utilizando los módulos de la biblioteca <code>yfinance</code> para descargar datos históricos de las acciones de Apple, Google y Microsoft durante el mes de enero de 2020.\n",
        "<br><br>\n",
        "Aquí está la explicación detallada de cada línea de código:\n",
        "\n",
        "1. `tickers = ['AAPL', 'GOOG', 'MSFT']`: Esta línea crea una lista llamada `tickers` que contiene los símbolos de las acciones que se desean analizar. En este caso, se están utilizando los símbolos de las acciones de Apple, Google y Microsoft.\n",
        "\n",
        "2. `start_date = '2020-01-01'`: Aquí se define la fecha de inicio del período para el que se descargarán los datos. En este caso, la fecha de inicio es el 1 de enero de 2020.\n",
        "\n",
        "3. `end_date = '2020-01-31'`: Esta línea define la fecha final del período para el que se descargarán los datos. En este caso, la fecha final es el 31 de enero de 2020.\n",
        "\n",
        "4. `data = yf.download(tickers, start=start_date, end=end_date, interval='1d', progress=False)`: Aquí se utiliza la función `download` del módulo `yf` para descargar los datos históricos de las acciones especificadas en la lista `tickers`. Los argumentos `start`, `end` e `interval` se utilizan para especificar el período de tiempo y la frecuencia de los datos. El argumento `progress` se establece en `False` para evitar la visualización de una barra de progreso durante la descarga.\n",
        "\n",
        "<p align=\"justify\">\n",
        "Después de ejecutar este código, la variable <code>data</code> contendrá un objeto que almacena los datos históricos de las acciones de Apple, Google y Microsoft durante el mes de enero de 2020, con una frecuencia diaria.\n",
        "<br><br>\n",
        "Cada columna en este objeto representará diferentes aspectos de los datos, como precios de apertura, cierre, máximo, mínimo y volumen de operaciones."
      ],
      "metadata": {
        "id": "Fj4qKcDMDe83"
      }
    },
    {
      "cell_type": "markdown",
      "source": [
        " ## **<font color=\"DarkBlue\">Adaptando el DataFrame</font>**"
      ],
      "metadata": {
        "id": "kuM2XMxYDoKo"
      }
    },
    {
      "cell_type": "code",
      "source": [
        "data.head()"
      ],
      "metadata": {
        "colab": {
          "base_uri": "https://localhost:8080/",
          "height": 365
        },
        "id": "kn0N3mFZrT2i",
        "outputId": "50d59fee-6e8b-44a5-86b3-c0b3128d4554"
      },
      "execution_count": 4,
      "outputs": [
        {
          "output_type": "execute_result",
          "data": {
            "text/plain": [
              "            Adj Close                             Close             \\\n",
              "                 AAPL       GOOG        MSFT       AAPL       GOOG   \n",
              "Date                                                                 \n",
              "2020-01-02  73.249023  68.368500  155.093643  75.087502  68.368500   \n",
              "2020-01-03  72.536888  68.032997  153.162491  74.357498  68.032997   \n",
              "2020-01-06  73.114883  69.710503  153.558395  74.949997  69.710503   \n",
              "2020-01-07  72.771042  69.667000  152.158310  74.597504  69.667000   \n",
              "2020-01-08  73.941643  70.216003  154.581909  75.797501  70.216003   \n",
              "\n",
              "                             High                               Low  \\\n",
              "                  MSFT       AAPL       GOOG        MSFT       AAPL   \n",
              "Date                                                                  \n",
              "2020-01-02  160.619995  75.150002  68.406998  160.729996  73.797501   \n",
              "2020-01-03  158.619995  75.144997  68.625000  159.949997  74.125000   \n",
              "2020-01-06  159.029999  74.989998  69.824997  159.100006  73.187500   \n",
              "2020-01-07  157.580002  75.224998  70.149498  159.669998  74.370003   \n",
              "2020-01-08  160.089996  76.110001  70.579002  160.800003  74.290001   \n",
              "\n",
              "                                        Open                         \\\n",
              "                 GOOG        MSFT       AAPL       GOOG        MSFT   \n",
              "Date                                                                  \n",
              "2020-01-02  67.077499  158.330002  74.059998  67.077499  158.779999   \n",
              "2020-01-03  67.277199  158.059998  74.287498  67.392998  158.320007   \n",
              "2020-01-06  67.500000  156.509995  73.447502  67.500000  157.080002   \n",
              "2020-01-07  69.518997  157.320007  74.959999  69.897003  159.320007   \n",
              "2020-01-08  69.542000  157.949997  74.290001  69.603996  158.929993   \n",
              "\n",
              "               Volume                      \n",
              "                 AAPL      GOOG      MSFT  \n",
              "Date                                       \n",
              "2020-01-02  135480400  28132000  22622100  \n",
              "2020-01-03  146322800  23728000  21116200  \n",
              "2020-01-06  118387200  34646000  20813700  \n",
              "2020-01-07  108872000  30054000  21634100  \n",
              "2020-01-08  132079200  30560000  27746500  "
            ],
            "text/html": [
              "\n",
              "  <div id=\"df-82448417-a0ff-410b-a403-1977587d0448\" class=\"colab-df-container\">\n",
              "    <div>\n",
              "<style scoped>\n",
              "    .dataframe tbody tr th:only-of-type {\n",
              "        vertical-align: middle;\n",
              "    }\n",
              "\n",
              "    .dataframe tbody tr th {\n",
              "        vertical-align: top;\n",
              "    }\n",
              "\n",
              "    .dataframe thead tr th {\n",
              "        text-align: left;\n",
              "    }\n",
              "\n",
              "    .dataframe thead tr:last-of-type th {\n",
              "        text-align: right;\n",
              "    }\n",
              "</style>\n",
              "<table border=\"1\" class=\"dataframe\">\n",
              "  <thead>\n",
              "    <tr>\n",
              "      <th></th>\n",
              "      <th colspan=\"3\" halign=\"left\">Adj Close</th>\n",
              "      <th colspan=\"3\" halign=\"left\">Close</th>\n",
              "      <th colspan=\"3\" halign=\"left\">High</th>\n",
              "      <th colspan=\"3\" halign=\"left\">Low</th>\n",
              "      <th colspan=\"3\" halign=\"left\">Open</th>\n",
              "      <th colspan=\"3\" halign=\"left\">Volume</th>\n",
              "    </tr>\n",
              "    <tr>\n",
              "      <th></th>\n",
              "      <th>AAPL</th>\n",
              "      <th>GOOG</th>\n",
              "      <th>MSFT</th>\n",
              "      <th>AAPL</th>\n",
              "      <th>GOOG</th>\n",
              "      <th>MSFT</th>\n",
              "      <th>AAPL</th>\n",
              "      <th>GOOG</th>\n",
              "      <th>MSFT</th>\n",
              "      <th>AAPL</th>\n",
              "      <th>GOOG</th>\n",
              "      <th>MSFT</th>\n",
              "      <th>AAPL</th>\n",
              "      <th>GOOG</th>\n",
              "      <th>MSFT</th>\n",
              "      <th>AAPL</th>\n",
              "      <th>GOOG</th>\n",
              "      <th>MSFT</th>\n",
              "    </tr>\n",
              "    <tr>\n",
              "      <th>Date</th>\n",
              "      <th></th>\n",
              "      <th></th>\n",
              "      <th></th>\n",
              "      <th></th>\n",
              "      <th></th>\n",
              "      <th></th>\n",
              "      <th></th>\n",
              "      <th></th>\n",
              "      <th></th>\n",
              "      <th></th>\n",
              "      <th></th>\n",
              "      <th></th>\n",
              "      <th></th>\n",
              "      <th></th>\n",
              "      <th></th>\n",
              "      <th></th>\n",
              "      <th></th>\n",
              "      <th></th>\n",
              "    </tr>\n",
              "  </thead>\n",
              "  <tbody>\n",
              "    <tr>\n",
              "      <th>2020-01-02</th>\n",
              "      <td>73.249023</td>\n",
              "      <td>68.368500</td>\n",
              "      <td>155.093643</td>\n",
              "      <td>75.087502</td>\n",
              "      <td>68.368500</td>\n",
              "      <td>160.619995</td>\n",
              "      <td>75.150002</td>\n",
              "      <td>68.406998</td>\n",
              "      <td>160.729996</td>\n",
              "      <td>73.797501</td>\n",
              "      <td>67.077499</td>\n",
              "      <td>158.330002</td>\n",
              "      <td>74.059998</td>\n",
              "      <td>67.077499</td>\n",
              "      <td>158.779999</td>\n",
              "      <td>135480400</td>\n",
              "      <td>28132000</td>\n",
              "      <td>22622100</td>\n",
              "    </tr>\n",
              "    <tr>\n",
              "      <th>2020-01-03</th>\n",
              "      <td>72.536888</td>\n",
              "      <td>68.032997</td>\n",
              "      <td>153.162491</td>\n",
              "      <td>74.357498</td>\n",
              "      <td>68.032997</td>\n",
              "      <td>158.619995</td>\n",
              "      <td>75.144997</td>\n",
              "      <td>68.625000</td>\n",
              "      <td>159.949997</td>\n",
              "      <td>74.125000</td>\n",
              "      <td>67.277199</td>\n",
              "      <td>158.059998</td>\n",
              "      <td>74.287498</td>\n",
              "      <td>67.392998</td>\n",
              "      <td>158.320007</td>\n",
              "      <td>146322800</td>\n",
              "      <td>23728000</td>\n",
              "      <td>21116200</td>\n",
              "    </tr>\n",
              "    <tr>\n",
              "      <th>2020-01-06</th>\n",
              "      <td>73.114883</td>\n",
              "      <td>69.710503</td>\n",
              "      <td>153.558395</td>\n",
              "      <td>74.949997</td>\n",
              "      <td>69.710503</td>\n",
              "      <td>159.029999</td>\n",
              "      <td>74.989998</td>\n",
              "      <td>69.824997</td>\n",
              "      <td>159.100006</td>\n",
              "      <td>73.187500</td>\n",
              "      <td>67.500000</td>\n",
              "      <td>156.509995</td>\n",
              "      <td>73.447502</td>\n",
              "      <td>67.500000</td>\n",
              "      <td>157.080002</td>\n",
              "      <td>118387200</td>\n",
              "      <td>34646000</td>\n",
              "      <td>20813700</td>\n",
              "    </tr>\n",
              "    <tr>\n",
              "      <th>2020-01-07</th>\n",
              "      <td>72.771042</td>\n",
              "      <td>69.667000</td>\n",
              "      <td>152.158310</td>\n",
              "      <td>74.597504</td>\n",
              "      <td>69.667000</td>\n",
              "      <td>157.580002</td>\n",
              "      <td>75.224998</td>\n",
              "      <td>70.149498</td>\n",
              "      <td>159.669998</td>\n",
              "      <td>74.370003</td>\n",
              "      <td>69.518997</td>\n",
              "      <td>157.320007</td>\n",
              "      <td>74.959999</td>\n",
              "      <td>69.897003</td>\n",
              "      <td>159.320007</td>\n",
              "      <td>108872000</td>\n",
              "      <td>30054000</td>\n",
              "      <td>21634100</td>\n",
              "    </tr>\n",
              "    <tr>\n",
              "      <th>2020-01-08</th>\n",
              "      <td>73.941643</td>\n",
              "      <td>70.216003</td>\n",
              "      <td>154.581909</td>\n",
              "      <td>75.797501</td>\n",
              "      <td>70.216003</td>\n",
              "      <td>160.089996</td>\n",
              "      <td>76.110001</td>\n",
              "      <td>70.579002</td>\n",
              "      <td>160.800003</td>\n",
              "      <td>74.290001</td>\n",
              "      <td>69.542000</td>\n",
              "      <td>157.949997</td>\n",
              "      <td>74.290001</td>\n",
              "      <td>69.603996</td>\n",
              "      <td>158.929993</td>\n",
              "      <td>132079200</td>\n",
              "      <td>30560000</td>\n",
              "      <td>27746500</td>\n",
              "    </tr>\n",
              "  </tbody>\n",
              "</table>\n",
              "</div>\n",
              "    <div class=\"colab-df-buttons\">\n",
              "\n",
              "  <div class=\"colab-df-container\">\n",
              "    <button class=\"colab-df-convert\" onclick=\"convertToInteractive('df-82448417-a0ff-410b-a403-1977587d0448')\"\n",
              "            title=\"Convert this dataframe to an interactive table.\"\n",
              "            style=\"display:none;\">\n",
              "\n",
              "  <svg xmlns=\"http://www.w3.org/2000/svg\" height=\"24px\" viewBox=\"0 -960 960 960\">\n",
              "    <path d=\"M120-120v-720h720v720H120Zm60-500h600v-160H180v160Zm220 220h160v-160H400v160Zm0 220h160v-160H400v160ZM180-400h160v-160H180v160Zm440 0h160v-160H620v160ZM180-180h160v-160H180v160Zm440 0h160v-160H620v160Z\"/>\n",
              "  </svg>\n",
              "    </button>\n",
              "\n",
              "  <style>\n",
              "    .colab-df-container {\n",
              "      display:flex;\n",
              "      gap: 12px;\n",
              "    }\n",
              "\n",
              "    .colab-df-convert {\n",
              "      background-color: #E8F0FE;\n",
              "      border: none;\n",
              "      border-radius: 50%;\n",
              "      cursor: pointer;\n",
              "      display: none;\n",
              "      fill: #1967D2;\n",
              "      height: 32px;\n",
              "      padding: 0 0 0 0;\n",
              "      width: 32px;\n",
              "    }\n",
              "\n",
              "    .colab-df-convert:hover {\n",
              "      background-color: #E2EBFA;\n",
              "      box-shadow: 0px 1px 2px rgba(60, 64, 67, 0.3), 0px 1px 3px 1px rgba(60, 64, 67, 0.15);\n",
              "      fill: #174EA6;\n",
              "    }\n",
              "\n",
              "    .colab-df-buttons div {\n",
              "      margin-bottom: 4px;\n",
              "    }\n",
              "\n",
              "    [theme=dark] .colab-df-convert {\n",
              "      background-color: #3B4455;\n",
              "      fill: #D2E3FC;\n",
              "    }\n",
              "\n",
              "    [theme=dark] .colab-df-convert:hover {\n",
              "      background-color: #434B5C;\n",
              "      box-shadow: 0px 1px 3px 1px rgba(0, 0, 0, 0.15);\n",
              "      filter: drop-shadow(0px 1px 2px rgba(0, 0, 0, 0.3));\n",
              "      fill: #FFFFFF;\n",
              "    }\n",
              "  </style>\n",
              "\n",
              "    <script>\n",
              "      const buttonEl =\n",
              "        document.querySelector('#df-82448417-a0ff-410b-a403-1977587d0448 button.colab-df-convert');\n",
              "      buttonEl.style.display =\n",
              "        google.colab.kernel.accessAllowed ? 'block' : 'none';\n",
              "\n",
              "      async function convertToInteractive(key) {\n",
              "        const element = document.querySelector('#df-82448417-a0ff-410b-a403-1977587d0448');\n",
              "        const dataTable =\n",
              "          await google.colab.kernel.invokeFunction('convertToInteractive',\n",
              "                                                    [key], {});\n",
              "        if (!dataTable) return;\n",
              "\n",
              "        const docLinkHtml = 'Like what you see? Visit the ' +\n",
              "          '<a target=\"_blank\" href=https://colab.research.google.com/notebooks/data_table.ipynb>data table notebook</a>'\n",
              "          + ' to learn more about interactive tables.';\n",
              "        element.innerHTML = '';\n",
              "        dataTable['output_type'] = 'display_data';\n",
              "        await google.colab.output.renderOutput(dataTable, element);\n",
              "        const docLink = document.createElement('div');\n",
              "        docLink.innerHTML = docLinkHtml;\n",
              "        element.appendChild(docLink);\n",
              "      }\n",
              "    </script>\n",
              "  </div>\n",
              "\n",
              "\n",
              "<div id=\"df-7b2ab73f-dee6-4b52-898a-1053ef4a473d\">\n",
              "  <button class=\"colab-df-quickchart\" onclick=\"quickchart('df-7b2ab73f-dee6-4b52-898a-1053ef4a473d')\"\n",
              "            title=\"Suggest charts.\"\n",
              "            style=\"display:none;\">\n",
              "\n",
              "<svg xmlns=\"http://www.w3.org/2000/svg\" height=\"24px\"viewBox=\"0 0 24 24\"\n",
              "     width=\"24px\">\n",
              "    <g>\n",
              "        <path d=\"M19 3H5c-1.1 0-2 .9-2 2v14c0 1.1.9 2 2 2h14c1.1 0 2-.9 2-2V5c0-1.1-.9-2-2-2zM9 17H7v-7h2v7zm4 0h-2V7h2v10zm4 0h-2v-4h2v4z\"/>\n",
              "    </g>\n",
              "</svg>\n",
              "  </button>\n",
              "\n",
              "<style>\n",
              "  .colab-df-quickchart {\n",
              "    background-color: #E8F0FE;\n",
              "    border: none;\n",
              "    border-radius: 50%;\n",
              "    cursor: pointer;\n",
              "    display: none;\n",
              "    fill: #1967D2;\n",
              "    height: 32px;\n",
              "    padding: 0 0 0 0;\n",
              "    width: 32px;\n",
              "  }\n",
              "\n",
              "  .colab-df-quickchart:hover {\n",
              "    background-color: #E2EBFA;\n",
              "    box-shadow: 0px 1px 2px rgba(60, 64, 67, 0.3), 0px 1px 3px 1px rgba(60, 64, 67, 0.15);\n",
              "    fill: #174EA6;\n",
              "  }\n",
              "\n",
              "  [theme=dark] .colab-df-quickchart {\n",
              "    background-color: #3B4455;\n",
              "    fill: #D2E3FC;\n",
              "  }\n",
              "\n",
              "  [theme=dark] .colab-df-quickchart:hover {\n",
              "    background-color: #434B5C;\n",
              "    box-shadow: 0px 1px 3px 1px rgba(0, 0, 0, 0.15);\n",
              "    filter: drop-shadow(0px 1px 2px rgba(0, 0, 0, 0.3));\n",
              "    fill: #FFFFFF;\n",
              "  }\n",
              "</style>\n",
              "\n",
              "  <script>\n",
              "    async function quickchart(key) {\n",
              "      const charts = await google.colab.kernel.invokeFunction(\n",
              "          'suggestCharts', [key], {});\n",
              "    }\n",
              "    (() => {\n",
              "      let quickchartButtonEl =\n",
              "        document.querySelector('#df-7b2ab73f-dee6-4b52-898a-1053ef4a473d button');\n",
              "      quickchartButtonEl.style.display =\n",
              "        google.colab.kernel.accessAllowed ? 'block' : 'none';\n",
              "    })();\n",
              "  </script>\n",
              "</div>\n",
              "    </div>\n",
              "  </div>\n"
            ]
          },
          "metadata": {},
          "execution_count": 4
        }
      ]
    },
    {
      "cell_type": "code",
      "source": [
        "# Seleccionar los precios de cierre ajustados\n",
        "close_prices = data['Adj Close']"
      ],
      "metadata": {
        "id": "Mw6A_L3YEHNQ"
      },
      "execution_count": 5,
      "outputs": []
    },
    {
      "cell_type": "markdown",
      "source": [
        "<p align=\"justify\">\n",
        "La línea de código <code>close_prices = data['Adj Close']</code> se utiliza para seleccionar y asignar a la variable <code>close_prices</code> la columna de precios de cierre ajustados (\"Adj Close\") de los datos descargados.\n",
        "<br><br>\n",
        "Aquí está la explicación más detallada:\n",
        "\n",
        "- `data`: Es el objeto que contiene los datos descargados utilizando la función `yf.download()` previamente. Este objeto generalmente es un DataFrame, una estructura de datos tabular similar a una hoja de cálculo, en la que cada columna representa una variable diferente y cada fila representa una observación en un momento específico.\n",
        "\n",
        "- `'Adj Close'`: Es el nombre de la columna que deseamos seleccionar de los datos. \"Adj Close\" representa el precio de cierre ajustado de las acciones. El precio de cierre ajustado es el precio al que una acción cerró en un día específico, teniendo en cuenta los ajustes necesarios, como dividendos y desdoblamientos.\n",
        "\n",
        "- `close_prices`: Es la variable a la que se asignará la columna de precios de cierre ajustados. Una vez que se ejecuta la línea de código, `close_prices` será una Serie (una columna del DataFrame) que contiene los precios de cierre ajustados para las acciones en el período de tiempo especificado.\n",
        "\n",
        "<p align=\"justify\">\n",
        "En resumen, la línea de código selecciona y extrae la columna de precios de cierre ajustados de los datos descargados y la asigna a la variable <code>close_prices</code>, lo que nos permite trabajar específicamente con esos datos en el análisis y la visualización subsiguientes."
      ],
      "metadata": {
        "id": "f-8K0iF-EH_G"
      }
    },
    {
      "cell_type": "code",
      "source": [
        "# Crear un DataFrame\n",
        "bar_data = close_prices.reset_index().melt(id_vars=['Date'],\n",
        "                                           var_name='Ticker',\n",
        "                                           value_name='Precio')"
      ],
      "metadata": {
        "id": "QMmSd00FEN-G"
      },
      "execution_count": 6,
      "outputs": []
    },
    {
      "cell_type": "markdown",
      "source": [
        "<p align=\"justify\">\n",
        "La línea de código <code>bar_data = close_prices.reset_index().melt(id_vars = ['Date'], var_name = 'Ticker', value_name = 'Precio')</code> realiza una transformación en los datos de precios de cierre ajustados para prepararlos para su uso en la creación de un gráfico de barras en Plotly. La operación implica reorganizar los datos de manera que se puedan utilizar fácilmente para representar un gráfico de barras.\n",
        "<br><br>\n",
        "Aquí está la explicación más detallada de cada parte de la línea de código:\n",
        "\n",
        "1. `close_prices`: Es la Serie que contiene los precios de cierre ajustados para las acciones de Apple, Google y Microsoft en el período de tiempo especificado.\n",
        "\n",
        "2. `.reset_index()`: Este método se aplica a la Serie `close_prices` y devuelve un DataFrame donde se restablece el índice de las filas a un rango numérico y se coloca la columna de fechas (\"Date\") como una columna normal en el DataFrame.\n",
        "\n",
        "3. `.melt(id_vars=['Date'], var_name='Ticker', value_name='Precio')`: El método `.melt()` se utiliza para transformar el DataFrame reindexado en un formato donde los valores de las columnas se \"derriten\" en una sola columna de valores. La transformación implica:\n",
        "\n",
        "   - `id_vars=['Date']`: La columna \"Date\" se mantiene como identificador, lo que significa que no se derrite en la nueva columna.\n",
        "   - `var_name='Ticker'`: Los nombres de las columnas originales (\"AAPL\", \"GOOG\", \"MSFT\") se transfieren a la nueva columna \"Ticker\", que representará las categorías en el gráfico de barras.\n",
        "   - `value_name='Precio'`: Los valores numéricos (precios de cierre ajustados) se trasladan a la columna \"Precio\".\n",
        "\n",
        "<p align=\"justify\">\n",
        "El resultado de esta transformación es que <code>bar_data</code> será un DataFrame que contiene tres columnas: \"Date\", \"Ticker\" y \"Precio\".\n",
        "<br><br>\n",
        "Cada fila representará un registro de precios de cierre ajustados para una fecha y una acción específicas. Este formato es adecuado para crear un gráfico de barras en Plotly donde \"Date\" se mapeará en el eje $X$, \"Precio\" se mapeará en el eje $Y$ y \"Ticker\" se usará para agrupar los datos en diferentes barras correspondientes a cada acción."
      ],
      "metadata": {
        "id": "yB95tlLUEUTA"
      }
    },
    {
      "cell_type": "code",
      "source": [
        "bar_data.head()"
      ],
      "metadata": {
        "colab": {
          "base_uri": "https://localhost:8080/",
          "height": 221
        },
        "id": "4dgFo3RYrds7",
        "outputId": "9e2b4189-35be-44cd-c8ab-3b2e61a23245"
      },
      "execution_count": 7,
      "outputs": [
        {
          "output_type": "execute_result",
          "data": {
            "text/plain": [
              "        Date Ticker     Precio\n",
              "0 2020-01-02   AAPL  73.249023\n",
              "1 2020-01-03   AAPL  72.536888\n",
              "2 2020-01-06   AAPL  73.114883\n",
              "3 2020-01-07   AAPL  72.771042\n",
              "4 2020-01-08   AAPL  73.941643"
            ],
            "text/html": [
              "\n",
              "  <div id=\"df-a6b053f4-0b49-44b0-a707-68c8fab9c57e\" class=\"colab-df-container\">\n",
              "    <div>\n",
              "<style scoped>\n",
              "    .dataframe tbody tr th:only-of-type {\n",
              "        vertical-align: middle;\n",
              "    }\n",
              "\n",
              "    .dataframe tbody tr th {\n",
              "        vertical-align: top;\n",
              "    }\n",
              "\n",
              "    .dataframe thead th {\n",
              "        text-align: right;\n",
              "    }\n",
              "</style>\n",
              "<table border=\"1\" class=\"dataframe\">\n",
              "  <thead>\n",
              "    <tr style=\"text-align: right;\">\n",
              "      <th></th>\n",
              "      <th>Date</th>\n",
              "      <th>Ticker</th>\n",
              "      <th>Precio</th>\n",
              "    </tr>\n",
              "  </thead>\n",
              "  <tbody>\n",
              "    <tr>\n",
              "      <th>0</th>\n",
              "      <td>2020-01-02</td>\n",
              "      <td>AAPL</td>\n",
              "      <td>73.249023</td>\n",
              "    </tr>\n",
              "    <tr>\n",
              "      <th>1</th>\n",
              "      <td>2020-01-03</td>\n",
              "      <td>AAPL</td>\n",
              "      <td>72.536888</td>\n",
              "    </tr>\n",
              "    <tr>\n",
              "      <th>2</th>\n",
              "      <td>2020-01-06</td>\n",
              "      <td>AAPL</td>\n",
              "      <td>73.114883</td>\n",
              "    </tr>\n",
              "    <tr>\n",
              "      <th>3</th>\n",
              "      <td>2020-01-07</td>\n",
              "      <td>AAPL</td>\n",
              "      <td>72.771042</td>\n",
              "    </tr>\n",
              "    <tr>\n",
              "      <th>4</th>\n",
              "      <td>2020-01-08</td>\n",
              "      <td>AAPL</td>\n",
              "      <td>73.941643</td>\n",
              "    </tr>\n",
              "  </tbody>\n",
              "</table>\n",
              "</div>\n",
              "    <div class=\"colab-df-buttons\">\n",
              "\n",
              "  <div class=\"colab-df-container\">\n",
              "    <button class=\"colab-df-convert\" onclick=\"convertToInteractive('df-a6b053f4-0b49-44b0-a707-68c8fab9c57e')\"\n",
              "            title=\"Convert this dataframe to an interactive table.\"\n",
              "            style=\"display:none;\">\n",
              "\n",
              "  <svg xmlns=\"http://www.w3.org/2000/svg\" height=\"24px\" viewBox=\"0 -960 960 960\">\n",
              "    <path d=\"M120-120v-720h720v720H120Zm60-500h600v-160H180v160Zm220 220h160v-160H400v160Zm0 220h160v-160H400v160ZM180-400h160v-160H180v160Zm440 0h160v-160H620v160ZM180-180h160v-160H180v160Zm440 0h160v-160H620v160Z\"/>\n",
              "  </svg>\n",
              "    </button>\n",
              "\n",
              "  <style>\n",
              "    .colab-df-container {\n",
              "      display:flex;\n",
              "      gap: 12px;\n",
              "    }\n",
              "\n",
              "    .colab-df-convert {\n",
              "      background-color: #E8F0FE;\n",
              "      border: none;\n",
              "      border-radius: 50%;\n",
              "      cursor: pointer;\n",
              "      display: none;\n",
              "      fill: #1967D2;\n",
              "      height: 32px;\n",
              "      padding: 0 0 0 0;\n",
              "      width: 32px;\n",
              "    }\n",
              "\n",
              "    .colab-df-convert:hover {\n",
              "      background-color: #E2EBFA;\n",
              "      box-shadow: 0px 1px 2px rgba(60, 64, 67, 0.3), 0px 1px 3px 1px rgba(60, 64, 67, 0.15);\n",
              "      fill: #174EA6;\n",
              "    }\n",
              "\n",
              "    .colab-df-buttons div {\n",
              "      margin-bottom: 4px;\n",
              "    }\n",
              "\n",
              "    [theme=dark] .colab-df-convert {\n",
              "      background-color: #3B4455;\n",
              "      fill: #D2E3FC;\n",
              "    }\n",
              "\n",
              "    [theme=dark] .colab-df-convert:hover {\n",
              "      background-color: #434B5C;\n",
              "      box-shadow: 0px 1px 3px 1px rgba(0, 0, 0, 0.15);\n",
              "      filter: drop-shadow(0px 1px 2px rgba(0, 0, 0, 0.3));\n",
              "      fill: #FFFFFF;\n",
              "    }\n",
              "  </style>\n",
              "\n",
              "    <script>\n",
              "      const buttonEl =\n",
              "        document.querySelector('#df-a6b053f4-0b49-44b0-a707-68c8fab9c57e button.colab-df-convert');\n",
              "      buttonEl.style.display =\n",
              "        google.colab.kernel.accessAllowed ? 'block' : 'none';\n",
              "\n",
              "      async function convertToInteractive(key) {\n",
              "        const element = document.querySelector('#df-a6b053f4-0b49-44b0-a707-68c8fab9c57e');\n",
              "        const dataTable =\n",
              "          await google.colab.kernel.invokeFunction('convertToInteractive',\n",
              "                                                    [key], {});\n",
              "        if (!dataTable) return;\n",
              "\n",
              "        const docLinkHtml = 'Like what you see? Visit the ' +\n",
              "          '<a target=\"_blank\" href=https://colab.research.google.com/notebooks/data_table.ipynb>data table notebook</a>'\n",
              "          + ' to learn more about interactive tables.';\n",
              "        element.innerHTML = '';\n",
              "        dataTable['output_type'] = 'display_data';\n",
              "        await google.colab.output.renderOutput(dataTable, element);\n",
              "        const docLink = document.createElement('div');\n",
              "        docLink.innerHTML = docLinkHtml;\n",
              "        element.appendChild(docLink);\n",
              "      }\n",
              "    </script>\n",
              "  </div>\n",
              "\n",
              "\n",
              "<div id=\"df-ce6b7a84-ae6a-4dbe-84c5-c8923e3a3eb6\">\n",
              "  <button class=\"colab-df-quickchart\" onclick=\"quickchart('df-ce6b7a84-ae6a-4dbe-84c5-c8923e3a3eb6')\"\n",
              "            title=\"Suggest charts.\"\n",
              "            style=\"display:none;\">\n",
              "\n",
              "<svg xmlns=\"http://www.w3.org/2000/svg\" height=\"24px\"viewBox=\"0 0 24 24\"\n",
              "     width=\"24px\">\n",
              "    <g>\n",
              "        <path d=\"M19 3H5c-1.1 0-2 .9-2 2v14c0 1.1.9 2 2 2h14c1.1 0 2-.9 2-2V5c0-1.1-.9-2-2-2zM9 17H7v-7h2v7zm4 0h-2V7h2v10zm4 0h-2v-4h2v4z\"/>\n",
              "    </g>\n",
              "</svg>\n",
              "  </button>\n",
              "\n",
              "<style>\n",
              "  .colab-df-quickchart {\n",
              "    background-color: #E8F0FE;\n",
              "    border: none;\n",
              "    border-radius: 50%;\n",
              "    cursor: pointer;\n",
              "    display: none;\n",
              "    fill: #1967D2;\n",
              "    height: 32px;\n",
              "    padding: 0 0 0 0;\n",
              "    width: 32px;\n",
              "  }\n",
              "\n",
              "  .colab-df-quickchart:hover {\n",
              "    background-color: #E2EBFA;\n",
              "    box-shadow: 0px 1px 2px rgba(60, 64, 67, 0.3), 0px 1px 3px 1px rgba(60, 64, 67, 0.15);\n",
              "    fill: #174EA6;\n",
              "  }\n",
              "\n",
              "  [theme=dark] .colab-df-quickchart {\n",
              "    background-color: #3B4455;\n",
              "    fill: #D2E3FC;\n",
              "  }\n",
              "\n",
              "  [theme=dark] .colab-df-quickchart:hover {\n",
              "    background-color: #434B5C;\n",
              "    box-shadow: 0px 1px 3px 1px rgba(0, 0, 0, 0.15);\n",
              "    filter: drop-shadow(0px 1px 2px rgba(0, 0, 0, 0.3));\n",
              "    fill: #FFFFFF;\n",
              "  }\n",
              "</style>\n",
              "\n",
              "  <script>\n",
              "    async function quickchart(key) {\n",
              "      const charts = await google.colab.kernel.invokeFunction(\n",
              "          'suggestCharts', [key], {});\n",
              "    }\n",
              "    (() => {\n",
              "      let quickchartButtonEl =\n",
              "        document.querySelector('#df-ce6b7a84-ae6a-4dbe-84c5-c8923e3a3eb6 button');\n",
              "      quickchartButtonEl.style.display =\n",
              "        google.colab.kernel.accessAllowed ? 'block' : 'none';\n",
              "    })();\n",
              "  </script>\n",
              "</div>\n",
              "    </div>\n",
              "  </div>\n"
            ]
          },
          "metadata": {},
          "execution_count": 7
        }
      ]
    },
    {
      "cell_type": "code",
      "source": [
        "bar_data = bar_data.query(\"Date < '2020-01-08'\")"
      ],
      "metadata": {
        "id": "QKqtkllVElKR"
      },
      "execution_count": 8,
      "outputs": []
    },
    {
      "cell_type": "markdown",
      "source": [
        " ## **<font color=\"DarkBlue\">Creación del gráfico de barras</font>**"
      ],
      "metadata": {
        "id": "PF9JZgj4EprI"
      }
    },
    {
      "cell_type": "code",
      "source": [
        "# Crear el gráfico de barras utilizando Plotly\n",
        "fig = px.bar(bar_data,\n",
        "             x=bar_data.Date,\n",
        "             y=bar_data.Precio,\n",
        "             color=bar_data.Ticker,\n",
        "             barmode=\"group\",\n",
        "             template=\"plotly_dark\",\n",
        "             title='Precios de Cierre de Acciones en enero de 2020')\n",
        "\n",
        "fig.update_xaxes(title_text='Fecha')\n",
        "fig.update_yaxes(title_text='Precio de Cierre')\n",
        "fig.show()"
      ],
      "metadata": {
        "colab": {
          "base_uri": "https://localhost:8080/",
          "height": 562
        },
        "id": "s_D1j6eSEuHI",
        "outputId": "cf2569d1-42c1-4990-de67-cc626e9a42b6"
      },
      "execution_count": 9,
      "outputs": [
        {
          "output_type": "display_data",
          "data": {
            "text/html": [
              "<html>\n",
              "<head><meta charset=\"utf-8\" /></head>\n",
              "<body>\n",
              "    <div>            <script src=\"https://cdnjs.cloudflare.com/ajax/libs/mathjax/2.7.5/MathJax.js?config=TeX-AMS-MML_SVG\"></script><script type=\"text/javascript\">if (window.MathJax && window.MathJax.Hub && window.MathJax.Hub.Config) {window.MathJax.Hub.Config({SVG: {font: \"STIX-Web\"}});}</script>                <script type=\"text/javascript\">window.PlotlyConfig = {MathJaxConfig: 'local'};</script>\n",
              "        <script charset=\"utf-8\" src=\"https://cdn.plot.ly/plotly-2.24.1.min.js\"></script>                <div id=\"6fc963aa-895a-46d9-98af-ce229184f46f\" class=\"plotly-graph-div\" style=\"height:525px; width:100%;\"></div>            <script type=\"text/javascript\">                                    window.PLOTLYENV=window.PLOTLYENV || {};                                    if (document.getElementById(\"6fc963aa-895a-46d9-98af-ce229184f46f\")) {                    Plotly.newPlot(                        \"6fc963aa-895a-46d9-98af-ce229184f46f\",                        [{\"alignmentgroup\":\"True\",\"hovertemplate\":\"Ticker=AAPL\\u003cbr\\u003eDate=%{x}\\u003cbr\\u003ePrecio=%{y}\\u003cextra\\u003e\\u003c\\u002fextra\\u003e\",\"legendgroup\":\"AAPL\",\"marker\":{\"color\":\"#636efa\",\"pattern\":{\"shape\":\"\"}},\"name\":\"AAPL\",\"offsetgroup\":\"AAPL\",\"orientation\":\"v\",\"showlegend\":true,\"textposition\":\"auto\",\"x\":[\"2020-01-02T00:00:00\",\"2020-01-03T00:00:00\",\"2020-01-06T00:00:00\",\"2020-01-07T00:00:00\"],\"xaxis\":\"x\",\"y\":[73.2490234375,72.5368881225586,73.11488342285156,72.77104187011719],\"yaxis\":\"y\",\"type\":\"bar\"},{\"alignmentgroup\":\"True\",\"hovertemplate\":\"Ticker=GOOG\\u003cbr\\u003eDate=%{x}\\u003cbr\\u003ePrecio=%{y}\\u003cextra\\u003e\\u003c\\u002fextra\\u003e\",\"legendgroup\":\"GOOG\",\"marker\":{\"color\":\"#EF553B\",\"pattern\":{\"shape\":\"\"}},\"name\":\"GOOG\",\"offsetgroup\":\"GOOG\",\"orientation\":\"v\",\"showlegend\":true,\"textposition\":\"auto\",\"x\":[\"2020-01-02T00:00:00\",\"2020-01-03T00:00:00\",\"2020-01-06T00:00:00\",\"2020-01-07T00:00:00\"],\"xaxis\":\"x\",\"y\":[68.36849975585938,68.03299713134766,69.71050262451172,69.66699981689453],\"yaxis\":\"y\",\"type\":\"bar\"},{\"alignmentgroup\":\"True\",\"hovertemplate\":\"Ticker=MSFT\\u003cbr\\u003eDate=%{x}\\u003cbr\\u003ePrecio=%{y}\\u003cextra\\u003e\\u003c\\u002fextra\\u003e\",\"legendgroup\":\"MSFT\",\"marker\":{\"color\":\"#00cc96\",\"pattern\":{\"shape\":\"\"}},\"name\":\"MSFT\",\"offsetgroup\":\"MSFT\",\"orientation\":\"v\",\"showlegend\":true,\"textposition\":\"auto\",\"x\":[\"2020-01-02T00:00:00\",\"2020-01-03T00:00:00\",\"2020-01-06T00:00:00\",\"2020-01-07T00:00:00\"],\"xaxis\":\"x\",\"y\":[155.09364318847656,153.16249084472656,153.5583953857422,152.15830993652344],\"yaxis\":\"y\",\"type\":\"bar\"}],                        {\"template\":{\"data\":{\"barpolar\":[{\"marker\":{\"line\":{\"color\":\"rgb(17,17,17)\",\"width\":0.5},\"pattern\":{\"fillmode\":\"overlay\",\"size\":10,\"solidity\":0.2}},\"type\":\"barpolar\"}],\"bar\":[{\"error_x\":{\"color\":\"#f2f5fa\"},\"error_y\":{\"color\":\"#f2f5fa\"},\"marker\":{\"line\":{\"color\":\"rgb(17,17,17)\",\"width\":0.5},\"pattern\":{\"fillmode\":\"overlay\",\"size\":10,\"solidity\":0.2}},\"type\":\"bar\"}],\"carpet\":[{\"aaxis\":{\"endlinecolor\":\"#A2B1C6\",\"gridcolor\":\"#506784\",\"linecolor\":\"#506784\",\"minorgridcolor\":\"#506784\",\"startlinecolor\":\"#A2B1C6\"},\"baxis\":{\"endlinecolor\":\"#A2B1C6\",\"gridcolor\":\"#506784\",\"linecolor\":\"#506784\",\"minorgridcolor\":\"#506784\",\"startlinecolor\":\"#A2B1C6\"},\"type\":\"carpet\"}],\"choropleth\":[{\"colorbar\":{\"outlinewidth\":0,\"ticks\":\"\"},\"type\":\"choropleth\"}],\"contourcarpet\":[{\"colorbar\":{\"outlinewidth\":0,\"ticks\":\"\"},\"type\":\"contourcarpet\"}],\"contour\":[{\"colorbar\":{\"outlinewidth\":0,\"ticks\":\"\"},\"colorscale\":[[0.0,\"#0d0887\"],[0.1111111111111111,\"#46039f\"],[0.2222222222222222,\"#7201a8\"],[0.3333333333333333,\"#9c179e\"],[0.4444444444444444,\"#bd3786\"],[0.5555555555555556,\"#d8576b\"],[0.6666666666666666,\"#ed7953\"],[0.7777777777777778,\"#fb9f3a\"],[0.8888888888888888,\"#fdca26\"],[1.0,\"#f0f921\"]],\"type\":\"contour\"}],\"heatmapgl\":[{\"colorbar\":{\"outlinewidth\":0,\"ticks\":\"\"},\"colorscale\":[[0.0,\"#0d0887\"],[0.1111111111111111,\"#46039f\"],[0.2222222222222222,\"#7201a8\"],[0.3333333333333333,\"#9c179e\"],[0.4444444444444444,\"#bd3786\"],[0.5555555555555556,\"#d8576b\"],[0.6666666666666666,\"#ed7953\"],[0.7777777777777778,\"#fb9f3a\"],[0.8888888888888888,\"#fdca26\"],[1.0,\"#f0f921\"]],\"type\":\"heatmapgl\"}],\"heatmap\":[{\"colorbar\":{\"outlinewidth\":0,\"ticks\":\"\"},\"colorscale\":[[0.0,\"#0d0887\"],[0.1111111111111111,\"#46039f\"],[0.2222222222222222,\"#7201a8\"],[0.3333333333333333,\"#9c179e\"],[0.4444444444444444,\"#bd3786\"],[0.5555555555555556,\"#d8576b\"],[0.6666666666666666,\"#ed7953\"],[0.7777777777777778,\"#fb9f3a\"],[0.8888888888888888,\"#fdca26\"],[1.0,\"#f0f921\"]],\"type\":\"heatmap\"}],\"histogram2dcontour\":[{\"colorbar\":{\"outlinewidth\":0,\"ticks\":\"\"},\"colorscale\":[[0.0,\"#0d0887\"],[0.1111111111111111,\"#46039f\"],[0.2222222222222222,\"#7201a8\"],[0.3333333333333333,\"#9c179e\"],[0.4444444444444444,\"#bd3786\"],[0.5555555555555556,\"#d8576b\"],[0.6666666666666666,\"#ed7953\"],[0.7777777777777778,\"#fb9f3a\"],[0.8888888888888888,\"#fdca26\"],[1.0,\"#f0f921\"]],\"type\":\"histogram2dcontour\"}],\"histogram2d\":[{\"colorbar\":{\"outlinewidth\":0,\"ticks\":\"\"},\"colorscale\":[[0.0,\"#0d0887\"],[0.1111111111111111,\"#46039f\"],[0.2222222222222222,\"#7201a8\"],[0.3333333333333333,\"#9c179e\"],[0.4444444444444444,\"#bd3786\"],[0.5555555555555556,\"#d8576b\"],[0.6666666666666666,\"#ed7953\"],[0.7777777777777778,\"#fb9f3a\"],[0.8888888888888888,\"#fdca26\"],[1.0,\"#f0f921\"]],\"type\":\"histogram2d\"}],\"histogram\":[{\"marker\":{\"pattern\":{\"fillmode\":\"overlay\",\"size\":10,\"solidity\":0.2}},\"type\":\"histogram\"}],\"mesh3d\":[{\"colorbar\":{\"outlinewidth\":0,\"ticks\":\"\"},\"type\":\"mesh3d\"}],\"parcoords\":[{\"line\":{\"colorbar\":{\"outlinewidth\":0,\"ticks\":\"\"}},\"type\":\"parcoords\"}],\"pie\":[{\"automargin\":true,\"type\":\"pie\"}],\"scatter3d\":[{\"line\":{\"colorbar\":{\"outlinewidth\":0,\"ticks\":\"\"}},\"marker\":{\"colorbar\":{\"outlinewidth\":0,\"ticks\":\"\"}},\"type\":\"scatter3d\"}],\"scattercarpet\":[{\"marker\":{\"colorbar\":{\"outlinewidth\":0,\"ticks\":\"\"}},\"type\":\"scattercarpet\"}],\"scattergeo\":[{\"marker\":{\"colorbar\":{\"outlinewidth\":0,\"ticks\":\"\"}},\"type\":\"scattergeo\"}],\"scattergl\":[{\"marker\":{\"line\":{\"color\":\"#283442\"}},\"type\":\"scattergl\"}],\"scattermapbox\":[{\"marker\":{\"colorbar\":{\"outlinewidth\":0,\"ticks\":\"\"}},\"type\":\"scattermapbox\"}],\"scatterpolargl\":[{\"marker\":{\"colorbar\":{\"outlinewidth\":0,\"ticks\":\"\"}},\"type\":\"scatterpolargl\"}],\"scatterpolar\":[{\"marker\":{\"colorbar\":{\"outlinewidth\":0,\"ticks\":\"\"}},\"type\":\"scatterpolar\"}],\"scatter\":[{\"marker\":{\"line\":{\"color\":\"#283442\"}},\"type\":\"scatter\"}],\"scatterternary\":[{\"marker\":{\"colorbar\":{\"outlinewidth\":0,\"ticks\":\"\"}},\"type\":\"scatterternary\"}],\"surface\":[{\"colorbar\":{\"outlinewidth\":0,\"ticks\":\"\"},\"colorscale\":[[0.0,\"#0d0887\"],[0.1111111111111111,\"#46039f\"],[0.2222222222222222,\"#7201a8\"],[0.3333333333333333,\"#9c179e\"],[0.4444444444444444,\"#bd3786\"],[0.5555555555555556,\"#d8576b\"],[0.6666666666666666,\"#ed7953\"],[0.7777777777777778,\"#fb9f3a\"],[0.8888888888888888,\"#fdca26\"],[1.0,\"#f0f921\"]],\"type\":\"surface\"}],\"table\":[{\"cells\":{\"fill\":{\"color\":\"#506784\"},\"line\":{\"color\":\"rgb(17,17,17)\"}},\"header\":{\"fill\":{\"color\":\"#2a3f5f\"},\"line\":{\"color\":\"rgb(17,17,17)\"}},\"type\":\"table\"}]},\"layout\":{\"annotationdefaults\":{\"arrowcolor\":\"#f2f5fa\",\"arrowhead\":0,\"arrowwidth\":1},\"autotypenumbers\":\"strict\",\"coloraxis\":{\"colorbar\":{\"outlinewidth\":0,\"ticks\":\"\"}},\"colorscale\":{\"diverging\":[[0,\"#8e0152\"],[0.1,\"#c51b7d\"],[0.2,\"#de77ae\"],[0.3,\"#f1b6da\"],[0.4,\"#fde0ef\"],[0.5,\"#f7f7f7\"],[0.6,\"#e6f5d0\"],[0.7,\"#b8e186\"],[0.8,\"#7fbc41\"],[0.9,\"#4d9221\"],[1,\"#276419\"]],\"sequential\":[[0.0,\"#0d0887\"],[0.1111111111111111,\"#46039f\"],[0.2222222222222222,\"#7201a8\"],[0.3333333333333333,\"#9c179e\"],[0.4444444444444444,\"#bd3786\"],[0.5555555555555556,\"#d8576b\"],[0.6666666666666666,\"#ed7953\"],[0.7777777777777778,\"#fb9f3a\"],[0.8888888888888888,\"#fdca26\"],[1.0,\"#f0f921\"]],\"sequentialminus\":[[0.0,\"#0d0887\"],[0.1111111111111111,\"#46039f\"],[0.2222222222222222,\"#7201a8\"],[0.3333333333333333,\"#9c179e\"],[0.4444444444444444,\"#bd3786\"],[0.5555555555555556,\"#d8576b\"],[0.6666666666666666,\"#ed7953\"],[0.7777777777777778,\"#fb9f3a\"],[0.8888888888888888,\"#fdca26\"],[1.0,\"#f0f921\"]]},\"colorway\":[\"#636efa\",\"#EF553B\",\"#00cc96\",\"#ab63fa\",\"#FFA15A\",\"#19d3f3\",\"#FF6692\",\"#B6E880\",\"#FF97FF\",\"#FECB52\"],\"font\":{\"color\":\"#f2f5fa\"},\"geo\":{\"bgcolor\":\"rgb(17,17,17)\",\"lakecolor\":\"rgb(17,17,17)\",\"landcolor\":\"rgb(17,17,17)\",\"showlakes\":true,\"showland\":true,\"subunitcolor\":\"#506784\"},\"hoverlabel\":{\"align\":\"left\"},\"hovermode\":\"closest\",\"mapbox\":{\"style\":\"dark\"},\"paper_bgcolor\":\"rgb(17,17,17)\",\"plot_bgcolor\":\"rgb(17,17,17)\",\"polar\":{\"angularaxis\":{\"gridcolor\":\"#506784\",\"linecolor\":\"#506784\",\"ticks\":\"\"},\"bgcolor\":\"rgb(17,17,17)\",\"radialaxis\":{\"gridcolor\":\"#506784\",\"linecolor\":\"#506784\",\"ticks\":\"\"}},\"scene\":{\"xaxis\":{\"backgroundcolor\":\"rgb(17,17,17)\",\"gridcolor\":\"#506784\",\"gridwidth\":2,\"linecolor\":\"#506784\",\"showbackground\":true,\"ticks\":\"\",\"zerolinecolor\":\"#C8D4E3\"},\"yaxis\":{\"backgroundcolor\":\"rgb(17,17,17)\",\"gridcolor\":\"#506784\",\"gridwidth\":2,\"linecolor\":\"#506784\",\"showbackground\":true,\"ticks\":\"\",\"zerolinecolor\":\"#C8D4E3\"},\"zaxis\":{\"backgroundcolor\":\"rgb(17,17,17)\",\"gridcolor\":\"#506784\",\"gridwidth\":2,\"linecolor\":\"#506784\",\"showbackground\":true,\"ticks\":\"\",\"zerolinecolor\":\"#C8D4E3\"}},\"shapedefaults\":{\"line\":{\"color\":\"#f2f5fa\"}},\"sliderdefaults\":{\"bgcolor\":\"#C8D4E3\",\"bordercolor\":\"rgb(17,17,17)\",\"borderwidth\":1,\"tickwidth\":0},\"ternary\":{\"aaxis\":{\"gridcolor\":\"#506784\",\"linecolor\":\"#506784\",\"ticks\":\"\"},\"baxis\":{\"gridcolor\":\"#506784\",\"linecolor\":\"#506784\",\"ticks\":\"\"},\"bgcolor\":\"rgb(17,17,17)\",\"caxis\":{\"gridcolor\":\"#506784\",\"linecolor\":\"#506784\",\"ticks\":\"\"}},\"title\":{\"x\":0.05},\"updatemenudefaults\":{\"bgcolor\":\"#506784\",\"borderwidth\":0},\"xaxis\":{\"automargin\":true,\"gridcolor\":\"#283442\",\"linecolor\":\"#506784\",\"ticks\":\"\",\"title\":{\"standoff\":15},\"zerolinecolor\":\"#283442\",\"zerolinewidth\":2},\"yaxis\":{\"automargin\":true,\"gridcolor\":\"#283442\",\"linecolor\":\"#506784\",\"ticks\":\"\",\"title\":{\"standoff\":15},\"zerolinecolor\":\"#283442\",\"zerolinewidth\":2}}},\"xaxis\":{\"anchor\":\"y\",\"domain\":[0.0,1.0],\"title\":{\"text\":\"Fecha\"}},\"yaxis\":{\"anchor\":\"x\",\"domain\":[0.0,1.0],\"title\":{\"text\":\"Precio de Cierre\"}},\"legend\":{\"title\":{\"text\":\"Ticker\"},\"tracegroupgap\":0},\"title\":{\"text\":\"Precios de Cierre de Acciones en enero de 2020\"},\"barmode\":\"group\"},                        {\"responsive\": true}                    ).then(function(){\n",
              "                            \n",
              "var gd = document.getElementById('6fc963aa-895a-46d9-98af-ce229184f46f');\n",
              "var x = new MutationObserver(function (mutations, observer) {{\n",
              "        var display = window.getComputedStyle(gd).display;\n",
              "        if (!display || display === 'none') {{\n",
              "            console.log([gd, 'removed!']);\n",
              "            Plotly.purge(gd);\n",
              "            observer.disconnect();\n",
              "        }}\n",
              "}});\n",
              "\n",
              "// Listen for the removal of the full notebook cells\n",
              "var notebookContainer = gd.closest('#notebook-container');\n",
              "if (notebookContainer) {{\n",
              "    x.observe(notebookContainer, {childList: true});\n",
              "}}\n",
              "\n",
              "// Listen for the clearing of the current output cell\n",
              "var outputEl = gd.closest('.output');\n",
              "if (outputEl) {{\n",
              "    x.observe(outputEl, {childList: true});\n",
              "}}\n",
              "\n",
              "                        })                };                            </script>        </div>\n",
              "</body>\n",
              "</html>"
            ]
          },
          "metadata": {}
        }
      ]
    },
    {
      "cell_type": "markdown",
      "source": [
        " # **<font color=\"DarkBlue\"> 💗 Los esperamos...</font>**"
      ],
      "metadata": {
        "id": "AeFSFlMVY2kF"
      }
    }
  ]
}