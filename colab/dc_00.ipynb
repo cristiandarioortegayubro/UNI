{
  "cells": [
    {
      "cell_type": "markdown",
      "metadata": {
        "id": "view-in-github",
        "colab_type": "text"
      },
      "source": [
        "<a href=\"https://colab.research.google.com/github/cristiandarioortegayubro/UNI/blob/main/colab/dc_00.ipynb\" target=\"_parent\"><img src=\"https://colab.research.google.com/assets/colab-badge.svg\" alt=\"Open In Colab\"/></a>"
      ]
    },
    {
      "cell_type": "markdown",
      "id": "d2c96590-42d5-424f-889c-89c4e4cf336f",
      "metadata": {
        "id": "d2c96590-42d5-424f-889c-89c4e4cf336f"
      },
      "source": [
        "![](https://github.com/cristiandarioortegayubro/UNI/blob/main/UNI%2039%20Aniversario.jpg?raw=true)"
      ]
    },
    {
      "cell_type": "markdown",
      "id": "c6549ba7-e07b-4ace-bd81-e8f81e9d6bcd",
      "metadata": {
        "id": "c6549ba7-e07b-4ace-bd81-e8f81e9d6bcd"
      },
      "source": [
        "# **Limpieza de datos**"
      ]
    },
    {
      "cell_type": "markdown",
      "id": "Mi4H1Ydsy9gh",
      "metadata": {
        "id": "Mi4H1Ydsy9gh"
      },
      "source": [
        "Nos encontramos iniciando un nuevo proyecto, nuestra empresa es una pequeña inmobiliaria que quiere fusionar el potencial del manejo de datos con la venta/alquiler de propiedades. Al ser una pequeña empresa el ***departamento de datos*** esta compuesto por una persona: nosotros. \n",
        "\n",
        "Esto quiere decir que vamos a absorber los roles de:\n",
        "\n",
        "- Ingeniero de Datos, y \n",
        "- Analista de Datos.\n"
      ]
    },
    {
      "cell_type": "markdown",
      "id": "9c77b7d0-bea3-4772-a168-60349409b1a3",
      "metadata": {
        "id": "9c77b7d0-bea3-4772-a168-60349409b1a3"
      },
      "source": [
        "## **Ingesta de datos de propiedades**"
      ]
    },
    {
      "cell_type": "markdown",
      "id": "614cb164",
      "metadata": {
        "id": "614cb164"
      },
      "source": [
        "***El dataset central de este proyecto de propiedades de Argentina, tiene la siguientes columnas:***\n",
        "\n",
        "- **id** - Identificador del aviso. No es único: si el aviso es actualizado por la inmobiliaria (nueva versión del aviso) se crea un nuevo registro con la misma id pero distintas fechas: de alta y de baja.\n",
        "- **ad_type** - Tipo de aviso (Propiedad, Desarrollo/Proyecto).\n",
        "- **start_date** - Fecha de alta del aviso.\n",
        "- **end_date** - Fecha de baja del aviso.\n",
        "- **created_on** - Fecha de alta de la primera versión del aviso.\n",
        "- **lat** - Latitud.\n",
        "- **lon** - Longitud.\n",
        "- **l1** - Nivel administrativo 1: país.\n",
        "- **l2** - Nivel administrativo 2: usualmente provincia.\n",
        "- **l3** - Nivel administrativo 3: usualmente ciudad.\n",
        "- **l4** - Nivel administrativo 4: usualmente barrio.\n",
        "- **l5** - sin informacion\n",
        "- **l6** - sin informacion\n",
        "- **rooms** - Cantidad de ambientes\n",
        "- **bedrooms** - Cantidad de dormitorios\n",
        "- **bathrooms** - Cantidad de baños.\n",
        "- **surface_total** - Superficie total en m².\n",
        "- **surface_covered** - Superficie cubierta en m².\n",
        "- **price** - Precio publicado en el anuncio.\n",
        "- **currency** - Moneda del precio publicado.\n",
        "- **price_period** - Periodo del precio (Diario, Semanal, Mensual)\n",
        "- **title** - Título del anuncio.\n",
        "- **description** - Descripción del anuncio.\n",
        "- **property_type**: - Caracteristicas de la propiedad\n",
        "- **operation_type**: - Caracteristicas de la operacion ['Venta', 'Alquiler', 'Alquiler temporal']"
      ]
    },
    {
      "cell_type": "markdown",
      "id": "akkMOa8Lz0TL",
      "metadata": {
        "id": "akkMOa8Lz0TL"
      },
      "source": [
        "## **Habilitando bibliotecas**"
      ]
    },
    {
      "cell_type": "markdown",
      "id": "BDHNiX8d0CSm",
      "metadata": {
        "id": "BDHNiX8d0CSm"
      },
      "source": [
        "Habilitar las bibliotecas necesarias para generar un dataframe, hacer limpieza de datos, y generar gráficos."
      ]
    },
    {
      "cell_type": "markdown",
      "id": "Wn_Bx8pk5spr",
      "metadata": {
        "id": "Wn_Bx8pk5spr"
      },
      "source": [
        "### **Instalando bibliotecas necesarias**"
      ]
    },
    {
      "cell_type": "markdown",
      "id": "KHhKEDMu2KUK",
      "metadata": {
        "id": "KHhKEDMu2KUK"
      },
      "source": [
        "### **Para analisis de datos**"
      ]
    },
    {
      "cell_type": "code",
      "execution_count": 1,
      "id": "8YyzmxiMz8Nx",
      "metadata": {
        "id": "8YyzmxiMz8Nx"
      },
      "outputs": [],
      "source": [
        "import pandas as pd"
      ]
    },
    {
      "cell_type": "markdown",
      "id": "05yTtp-B2NXX",
      "metadata": {
        "id": "05yTtp-B2NXX"
      },
      "source": [
        "### **Para limpieza de datos**"
      ]
    },
    {
      "cell_type": "code",
      "execution_count": 2,
      "id": "7QoOmoTLz77y",
      "metadata": {
        "id": "7QoOmoTLz77y"
      },
      "outputs": [],
      "source": [
        "import numpy as np"
      ]
    },
    {
      "cell_type": "markdown",
      "id": "pEZgoAZb2RVp",
      "metadata": {
        "id": "pEZgoAZb2RVp"
      },
      "source": [
        "### **Para gráficos**"
      ]
    },
    {
      "cell_type": "code",
      "execution_count": 3,
      "id": "v7UBjDaV0OQY",
      "metadata": {
        "id": "v7UBjDaV0OQY"
      },
      "outputs": [],
      "source": [
        "import seaborn as sns\n",
        "import plotly.express as px"
      ]
    },
    {
      "cell_type": "markdown",
      "id": "d546b882-c289-4cae-99cb-2ea5e3072f71",
      "metadata": {
        "id": "d546b882-c289-4cae-99cb-2ea5e3072f71"
      },
      "source": [
        "## **Análisis Exploratorio de los Datos**"
      ]
    },
    {
      "cell_type": "code",
      "source": [],
      "metadata": {
        "id": "AVO9ldt75t9D"
      },
      "id": "AVO9ldt75t9D",
      "execution_count": 3,
      "outputs": []
    },
    {
      "cell_type": "markdown",
      "id": "87508501",
      "metadata": {
        "id": "87508501"
      },
      "source": [
        "Leer el archivo  ```.csv``` con Pandas y guardarlo en una variable llamada ```prop```"
      ]
    },
    {
      "cell_type": "code",
      "source": [
        "#prop = pd.read_csv(\"/content/drive/MyDrive/Notebooks/Workshop/propiedades.csv\")"
      ],
      "metadata": {
        "id": "2-gRAiYvoU_4"
      },
      "id": "2-gRAiYvoU_4",
      "execution_count": 4,
      "outputs": []
    },
    {
      "cell_type": "markdown",
      "id": "a2e59c4f",
      "metadata": {
        "id": "a2e59c4f"
      },
      "source": [
        "***Observar los primeros 8 registros***"
      ]
    },
    {
      "cell_type": "code",
      "execution_count": 4,
      "id": "25b04fa1",
      "metadata": {
        "id": "25b04fa1"
      },
      "outputs": [],
      "source": []
    },
    {
      "cell_type": "markdown",
      "id": "VrQhidLF0sWf",
      "metadata": {
        "id": "VrQhidLF0sWf"
      },
      "source": [
        "***Observar los últimos 5 registros***"
      ]
    },
    {
      "cell_type": "code",
      "execution_count": 4,
      "id": "Dh437zE40u9k",
      "metadata": {
        "id": "Dh437zE40u9k"
      },
      "outputs": [],
      "source": []
    },
    {
      "cell_type": "markdown",
      "id": "fb67d753",
      "metadata": {
        "id": "fb67d753"
      },
      "source": [
        "***Imprimir la cantidad de filas y columnas del dataframe***"
      ]
    },
    {
      "cell_type": "code",
      "execution_count": 4,
      "id": "be399657",
      "metadata": {
        "id": "be399657"
      },
      "outputs": [],
      "source": []
    },
    {
      "cell_type": "code",
      "execution_count": 4,
      "id": "03744831",
      "metadata": {
        "id": "03744831"
      },
      "outputs": [],
      "source": []
    },
    {
      "cell_type": "markdown",
      "id": "q0M9SYUC1eML",
      "metadata": {
        "id": "q0M9SYUC1eML"
      },
      "source": [
        "***Usar info***"
      ]
    },
    {
      "cell_type": "code",
      "execution_count": 4,
      "id": "3uG9R1_o1gPQ",
      "metadata": {
        "id": "3uG9R1_o1gPQ"
      },
      "outputs": [],
      "source": []
    },
    {
      "cell_type": "markdown",
      "id": "tgtDPClI1G8R",
      "metadata": {
        "id": "tgtDPClI1G8R"
      },
      "source": [
        "***Usar describe para variables cuantitativas y mostrar el resumen con dos decimales y transpuesto (transposicion)***"
      ]
    },
    {
      "cell_type": "code",
      "source": [],
      "metadata": {
        "id": "izm3d1P36kXb"
      },
      "id": "izm3d1P36kXb",
      "execution_count": 4,
      "outputs": []
    },
    {
      "cell_type": "code",
      "execution_count": 4,
      "id": "DUa-RYCz1Htb",
      "metadata": {
        "id": "DUa-RYCz1Htb"
      },
      "outputs": [],
      "source": []
    },
    {
      "cell_type": "markdown",
      "id": "_3Y9Etp61Q5N",
      "metadata": {
        "id": "_3Y9Etp61Q5N"
      },
      "source": [
        "***Usar describe para variables cualitativas y mostrar resumen transpuesto***"
      ]
    },
    {
      "cell_type": "code",
      "execution_count": 4,
      "id": "AcEaEYMY1RUr",
      "metadata": {
        "id": "AcEaEYMY1RUr"
      },
      "outputs": [],
      "source": []
    },
    {
      "cell_type": "code",
      "source": [],
      "metadata": {
        "id": "LatgRFN-6z8u"
      },
      "id": "LatgRFN-6z8u",
      "execution_count": 4,
      "outputs": []
    },
    {
      "cell_type": "code",
      "source": [],
      "metadata": {
        "id": "lS0W7Ilc64mm"
      },
      "id": "lS0W7Ilc64mm",
      "execution_count": 4,
      "outputs": []
    },
    {
      "cell_type": "markdown",
      "id": "WD0CC_fe16mq",
      "metadata": {
        "id": "WD0CC_fe16mq"
      },
      "source": [
        "***Ver si existen valores nulos***"
      ]
    },
    {
      "cell_type": "code",
      "execution_count": 4,
      "id": "arE6F23o2AY8",
      "metadata": {
        "id": "arE6F23o2AY8"
      },
      "outputs": [],
      "source": []
    },
    {
      "cell_type": "markdown",
      "id": "8TTCzbtq2A45",
      "metadata": {
        "id": "8TTCzbtq2A45"
      },
      "source": [
        "***Ver si existen valores duplicados***"
      ]
    },
    {
      "cell_type": "code",
      "execution_count": 4,
      "id": "tDliPtfl2EhG",
      "metadata": {
        "id": "tDliPtfl2EhG"
      },
      "outputs": [],
      "source": []
    },
    {
      "cell_type": "markdown",
      "id": "CHx_L_R11kcs",
      "metadata": {
        "id": "CHx_L_R11kcs"
      },
      "source": [
        "## **Limpieza de los Datos**"
      ]
    },
    {
      "cell_type": "markdown",
      "id": "ce7d6dcd",
      "metadata": {
        "id": "ce7d6dcd"
      },
      "source": [
        "***Ver si los nombres de las columnas tienen algun espacio oculto que nos dificulte al tratar de invocarlas, si encontras espacios ocultos eliminar esos espacios ocultos.***"
      ]
    },
    {
      "cell_type": "code",
      "source": [],
      "metadata": {
        "id": "UjIrL2Lc7Sok"
      },
      "id": "UjIrL2Lc7Sok",
      "execution_count": 4,
      "outputs": []
    },
    {
      "cell_type": "code",
      "execution_count": 4,
      "id": "03cb2d98",
      "metadata": {
        "id": "03cb2d98"
      },
      "outputs": [],
      "source": []
    },
    {
      "cell_type": "markdown",
      "id": "42978649",
      "metadata": {
        "id": "42978649"
      },
      "source": [
        "***Generar un dataframe o una serie de pandas con el porcentaje de nulos (nan) que tiene cada columna, ordenado del mayor al menor.***"
      ]
    },
    {
      "cell_type": "code",
      "execution_count": 4,
      "id": "0338d1f5",
      "metadata": {
        "id": "0338d1f5"
      },
      "outputs": [],
      "source": []
    },
    {
      "cell_type": "code",
      "source": [],
      "metadata": {
        "id": "j4aoDzz57fki"
      },
      "id": "j4aoDzz57fki",
      "execution_count": 4,
      "outputs": []
    },
    {
      "cell_type": "markdown",
      "id": "c0f5c3ed",
      "metadata": {
        "id": "c0f5c3ed"
      },
      "source": [
        "***Eliminar columnas que tengan mas del $30$% de nulos (nans), luego de este paso deberian quedar $18$ columnas si lo hiciste bien.***"
      ]
    },
    {
      "cell_type": "code",
      "source": [],
      "metadata": {
        "id": "n3W4xGtg7sMf"
      },
      "id": "n3W4xGtg7sMf",
      "execution_count": 4,
      "outputs": []
    },
    {
      "cell_type": "code",
      "execution_count": 4,
      "id": "vGxhRnoJKJ8e",
      "metadata": {
        "id": "vGxhRnoJKJ8e"
      },
      "outputs": [],
      "source": []
    },
    {
      "cell_type": "code",
      "execution_count": 4,
      "id": "5d790cec",
      "metadata": {
        "id": "5d790cec"
      },
      "outputs": [],
      "source": []
    },
    {
      "cell_type": "markdown",
      "id": "080fb4a6",
      "metadata": {
        "id": "080fb4a6"
      },
      "source": [
        "***Quedarse con solo los registros que tienen un $90$% de sus celdas libres de nulos (nans), luego de este paso deberia quedarte $922772$ registros.***"
      ]
    },
    {
      "cell_type": "code",
      "source": [],
      "metadata": {
        "id": "knK0hceO7zzV"
      },
      "id": "knK0hceO7zzV",
      "execution_count": 4,
      "outputs": []
    },
    {
      "cell_type": "code",
      "execution_count": 4,
      "id": "-1ex4iUKOI33",
      "metadata": {
        "id": "-1ex4iUKOI33"
      },
      "outputs": [],
      "source": []
    },
    {
      "cell_type": "code",
      "execution_count": 4,
      "id": "e0ec6367",
      "metadata": {
        "id": "e0ec6367"
      },
      "outputs": [],
      "source": []
    },
    {
      "cell_type": "markdown",
      "id": "586f9ec0",
      "metadata": {
        "id": "586f9ec0"
      },
      "source": [
        "***El analisis se realizará sobre el *AMBA*, eliminar todo lo que no sea parte del mismo. Luego de este paso deberian quedarte $617747$ registros.***\n",
        "\n",
        "AMBA es Area Metropolitana de Buenos Aires y comprende:\n",
        "+ Bs. As. Zona Oeste\n",
        "+ Bs. As. Zona Norte\n",
        "+ Bs. As. Zona Sur\n",
        "+ Capital Federal"
      ]
    },
    {
      "cell_type": "code",
      "execution_count": 4,
      "id": "TsTKVIaZn_8I",
      "metadata": {
        "id": "TsTKVIaZn_8I"
      },
      "outputs": [],
      "source": []
    },
    {
      "cell_type": "code",
      "execution_count": 4,
      "id": "z_9wVCA8lA5T",
      "metadata": {
        "id": "z_9wVCA8lA5T"
      },
      "outputs": [],
      "source": []
    },
    {
      "cell_type": "code",
      "source": [],
      "metadata": {
        "id": "CcwuyRjZ8ohA"
      },
      "id": "CcwuyRjZ8ohA",
      "execution_count": 4,
      "outputs": []
    },
    {
      "cell_type": "markdown",
      "source": [
        "**PUNTO DE REVISION**\n",
        "\n",
        "**A esta altura el dataframe tiene (617747, 18)**"
      ],
      "metadata": {
        "id": "rm73mpNV8ycq"
      },
      "id": "rm73mpNV8ycq"
    },
    {
      "cell_type": "markdown",
      "id": "586fa634",
      "metadata": {
        "id": "586fa634"
      },
      "source": [
        "***Chequear la columna l1 que representa al pais, deberia existir solo un valor: Argentina. Si hay otros valores eliminarlos***"
      ]
    },
    {
      "cell_type": "code",
      "execution_count": 4,
      "id": "30f98095",
      "metadata": {
        "id": "30f98095"
      },
      "outputs": [],
      "source": []
    },
    {
      "cell_type": "markdown",
      "id": "9858fa35",
      "metadata": {
        "id": "9858fa35"
      },
      "source": [
        "***Los registros que tienen el mismo id son de la misma propiedad pero actualizado, quedarse con el mas actualizado, los demas eliminarlos.***"
      ]
    },
    {
      "cell_type": "code",
      "execution_count": 4,
      "id": "_tHfJtloo_IA",
      "metadata": {
        "id": "_tHfJtloo_IA"
      },
      "outputs": [],
      "source": []
    },
    {
      "cell_type": "markdown",
      "id": "7c5da49a",
      "metadata": {
        "id": "7c5da49a"
      },
      "source": [
        "***Eliminar las columnas:***\n",
        "\n",
        "- id porque ya sabemos que todos los registros son diferentes y no vamos a usar esta columna para identificarlos.\n",
        "- l1 porque solo tiene un valor: Argentina. No aporta informacion a los datos.\n",
        "- description y title porque no contamos con herramientas de NLP para volverlas informacion para visualizar o modelizar.\n"
      ]
    },
    {
      "cell_type": "code",
      "execution_count": 4,
      "id": "84b38892",
      "metadata": {
        "id": "84b38892"
      },
      "outputs": [],
      "source": []
    },
    {
      "cell_type": "markdown",
      "id": "8bcb9fdf",
      "metadata": {
        "id": "8bcb9fdf"
      },
      "source": [
        "***Ver los primeros registros del dataframe.***"
      ]
    },
    {
      "cell_type": "code",
      "execution_count": 4,
      "id": "b6211ff9",
      "metadata": {
        "id": "b6211ff9"
      },
      "outputs": [],
      "source": []
    },
    {
      "cell_type": "markdown",
      "source": [
        "**PUNTO DE REVISION**\n",
        "\n",
        "**A esta altura el dataframe tiene (617747, 14)**"
      ],
      "metadata": {
        "id": "dZ1-lQ5d9Rsb"
      },
      "id": "dZ1-lQ5d9Rsb"
    },
    {
      "cell_type": "code",
      "source": [],
      "metadata": {
        "id": "9vT0vUjp9eI3"
      },
      "id": "9vT0vUjp9eI3",
      "execution_count": 4,
      "outputs": []
    },
    {
      "cell_type": "markdown",
      "id": "e415e0d3",
      "metadata": {
        "id": "e415e0d3"
      },
      "source": [
        "***Sospechamos que las columnas start_date y created_on en este caso tienen los mismos valores, chequearlo, si son iguales eliminar la columna created_on***"
      ]
    },
    {
      "cell_type": "code",
      "execution_count": 4,
      "id": "ZXPjuuIGsdOI",
      "metadata": {
        "id": "ZXPjuuIGsdOI"
      },
      "outputs": [],
      "source": []
    },
    {
      "cell_type": "code",
      "execution_count": 4,
      "id": "b5f3dc58",
      "metadata": {
        "id": "b5f3dc58"
      },
      "outputs": [],
      "source": []
    },
    {
      "cell_type": "code",
      "execution_count": 4,
      "id": "fbe286fa",
      "metadata": {
        "id": "fbe286fa"
      },
      "outputs": [],
      "source": []
    },
    {
      "cell_type": "markdown",
      "id": "5ee883c0",
      "metadata": {
        "id": "5ee883c0"
      },
      "source": [
        "***Ver los primeros registros del dataframe.***"
      ]
    },
    {
      "cell_type": "code",
      "execution_count": 4,
      "id": "05c51f05",
      "metadata": {
        "id": "05c51f05"
      },
      "outputs": [],
      "source": []
    },
    {
      "cell_type": "markdown",
      "source": [
        "**PUNTO DE REVISION**\n",
        "\n",
        "**A esta altura el dataframe tiene (617747, 13)**"
      ],
      "metadata": {
        "id": "HD6YfHyd9vz-"
      },
      "id": "HD6YfHyd9vz-"
    },
    {
      "cell_type": "code",
      "source": [],
      "metadata": {
        "id": "7mi8g_yC90j1"
      },
      "id": "7mi8g_yC90j1",
      "execution_count": 4,
      "outputs": []
    },
    {
      "cell_type": "markdown",
      "id": "7e53fc57",
      "metadata": {
        "id": "7e53fc57"
      },
      "source": [
        "***Vamos a analizar la columna ad_type, que tipos de datos unicos tiene, si solo tiene un tipo de dato categorico eliminarla porque no aporta información.***"
      ]
    },
    {
      "cell_type": "code",
      "execution_count": 4,
      "id": "pWj5x42vtH1-",
      "metadata": {
        "id": "pWj5x42vtH1-"
      },
      "outputs": [],
      "source": []
    },
    {
      "cell_type": "code",
      "execution_count": 4,
      "id": "045a7ba6",
      "metadata": {
        "id": "045a7ba6"
      },
      "outputs": [],
      "source": []
    },
    {
      "cell_type": "markdown",
      "source": [
        "**PUNTO DE REVISION**\n",
        "\n",
        "**A esta altura el dataframe tiene (617747, 12)**"
      ],
      "metadata": {
        "id": "c8a5MLzq-OxA"
      },
      "id": "c8a5MLzq-OxA"
    },
    {
      "cell_type": "code",
      "source": [],
      "metadata": {
        "id": "biV5AvGs-Q86"
      },
      "id": "biV5AvGs-Q86",
      "execution_count": 4,
      "outputs": []
    },
    {
      "cell_type": "markdown",
      "source": [
        "# **AMBA**"
      ],
      "metadata": {
        "id": "_3WxDCqm-J4X"
      },
      "id": "_3WxDCqm-J4X"
    },
    {
      "cell_type": "markdown",
      "id": "2c3843a6",
      "metadata": {
        "id": "2c3843a6"
      },
      "source": [
        "***Vamos a analizar la columna l3, para eso primero vamos a filtrar solo los lugares que pertenecen al AMBA, los cuales son:***\n",
        "    \n",
        "```python\n",
        "municipios = ['Ciudad Autónoma de Buenos Aires', 'Almirante Brown', 'Avellaneda', 'Berazategui', 'Esteban Echeverría', 'Ezeiza', 'Florencio Varela', 'General San Martín', 'Hurlingham', 'Ituzaingó', 'José C. Paz', 'La Matanza', 'Lanús', 'Lomas de Zamora', 'Malvinas Argentinas', 'Merlo', 'Moreno', 'Morón', 'Quilmes', 'San Fernando', 'San Isidro', 'San Miguel', 'Tigre', 'Tres de Febrero', 'Vicente López']\n",
        "```\n"
      ]
    },
    {
      "cell_type": "code",
      "execution_count": 5,
      "id": "5696666a",
      "metadata": {
        "id": "5696666a"
      },
      "outputs": [],
      "source": [
        "municipios = ['Ciudad Autónoma de Buenos Aires', 'Almirante Brown', 'Avellaneda', 'Berazategui', 'Esteban Echeverría', 'Ezeiza', 'Florencio Varela', 'General San Martín', 'Hurlingham', 'Ituzaingó', 'José C. Paz', 'La Matanza', 'Lanús', 'Lomas de Zamora', 'Malvinas Argentinas', 'Merlo', 'Moreno', 'Morón', 'Quilmes', 'San Fernando', 'San Isidro', 'San Miguel', 'Tigre', 'Tres de Febrero', 'Vicente López']"
      ]
    },
    {
      "cell_type": "code",
      "source": [],
      "metadata": {
        "id": "azzl6A-m-fo8"
      },
      "id": "azzl6A-m-fo8",
      "execution_count": 5,
      "outputs": []
    },
    {
      "cell_type": "markdown",
      "id": "af314747",
      "metadata": {
        "id": "af314747"
      },
      "source": [
        "**Sacar de la seleccion anterior los que pertenecen a Capital Federal y los valores NaN, luego ver cuales son los valores unicos de l3 para ver si queda alguno que pertenece a los municipios pero se escribio con alguna diferencia**"
      ]
    },
    {
      "cell_type": "code",
      "execution_count": 5,
      "id": "wgtjS3MyHxqo",
      "metadata": {
        "id": "wgtjS3MyHxqo"
      },
      "outputs": [],
      "source": []
    },
    {
      "cell_type": "code",
      "source": [],
      "metadata": {
        "id": "blrMXdvi_HU9"
      },
      "id": "blrMXdvi_HU9",
      "execution_count": 5,
      "outputs": []
    },
    {
      "cell_type": "markdown",
      "id": "4dcd6099",
      "metadata": {
        "id": "4dcd6099"
      },
      "source": [
        "***Ahora, eliminar todos los registros que no pertenezcan al AMBA, ojo: no eliminar los que tengan valor NaN***"
      ]
    },
    {
      "cell_type": "code",
      "execution_count": 6,
      "id": "81d816ef",
      "metadata": {
        "id": "81d816ef"
      },
      "outputs": [],
      "source": [
        "ambant = ['General Rodríguez',\n",
        " 'La Plata',\n",
        " 'Escobar',\n",
        " 'Pilar',\n",
        " 'San Vicente',\n",
        " 'Marcos Paz',\n",
        " 'Presidente Perón',\n",
        " 'Cañuelas']"
      ]
    },
    {
      "cell_type": "code",
      "source": [],
      "metadata": {
        "id": "Gri-ZAxR_noQ"
      },
      "id": "Gri-ZAxR_noQ",
      "execution_count": 6,
      "outputs": []
    },
    {
      "cell_type": "markdown",
      "source": [
        "**PUNTO DE REVISION**\n",
        "\n",
        "**A esta altura el dataframe tiene (528442, 12)**"
      ],
      "metadata": {
        "id": "FyrT39v4_8Mz"
      },
      "id": "FyrT39v4_8Mz"
    },
    {
      "cell_type": "code",
      "execution_count": 6,
      "id": "4ea02b9e",
      "metadata": {
        "id": "4ea02b9e"
      },
      "outputs": [],
      "source": []
    },
    {
      "cell_type": "markdown",
      "source": [
        "# **Latitud y Longitud**"
      ],
      "metadata": {
        "id": "dxKgZ2StAIGz"
      },
      "id": "dxKgZ2StAIGz"
    },
    {
      "cell_type": "markdown",
      "id": "3d20ff22",
      "metadata": {
        "id": "3d20ff22"
      },
      "source": [
        "***Vamos a analizar la calidad de los datos en las columnas de lat y lon. Buscaremos posibles outliers o datos incorrectos, para eso calcula para ambas columnas: el promedio, el maximo y el minimo.***"
      ]
    },
    {
      "cell_type": "code",
      "execution_count": 6,
      "id": "116fa060",
      "metadata": {
        "id": "116fa060"
      },
      "outputs": [],
      "source": []
    },
    {
      "cell_type": "code",
      "execution_count": 6,
      "id": "fd447947",
      "metadata": {
        "id": "fd447947"
      },
      "outputs": [],
      "source": []
    },
    {
      "cell_type": "code",
      "source": [],
      "metadata": {
        "id": "WJyTGbjgAX2L"
      },
      "id": "WJyTGbjgAX2L",
      "execution_count": 6,
      "outputs": []
    },
    {
      "cell_type": "code",
      "source": [],
      "metadata": {
        "id": "1WQUiF_gAdW7"
      },
      "id": "1WQUiF_gAdW7",
      "execution_count": 6,
      "outputs": []
    },
    {
      "cell_type": "markdown",
      "id": "87f32a7b",
      "metadata": {
        "id": "87f32a7b"
      },
      "source": [
        "***Evidentemente hay ciertos puntos que son incorrectos, sus coordenadas caen fuera del AMBA. Para eso buscamos cuales son los valores frontera para la latitud y longitud en el AMBA.***\n",
        "\n",
        "***Estimamos un segmentos de latitudes de [-35, -34] y longitudes de [-59 a -58]***\n",
        "\n",
        "***Eliminar todo lo que este fuera de esos rangos (no eliminar valores NaN)***"
      ]
    },
    {
      "cell_type": "code",
      "execution_count": 6,
      "id": "16ed77a5",
      "metadata": {
        "id": "16ed77a5"
      },
      "outputs": [],
      "source": []
    },
    {
      "cell_type": "markdown",
      "source": [
        "**PUNTO DE REVISION**\n",
        "\n",
        "**A esta altura el dataframe tiene (499739, 12)**"
      ],
      "metadata": {
        "id": "5SdFD70IA_Jm"
      },
      "id": "5SdFD70IA_Jm"
    },
    {
      "cell_type": "code",
      "source": [],
      "metadata": {
        "id": "e45Km_Ct0iJQ"
      },
      "id": "e45Km_Ct0iJQ",
      "execution_count": 6,
      "outputs": []
    },
    {
      "cell_type": "markdown",
      "id": "13cd36db",
      "metadata": {
        "id": "13cd36db"
      },
      "source": [
        "***Volver a chequear estadisticos de lat y lon para ver si ya saque valores incorrectos***"
      ]
    },
    {
      "cell_type": "code",
      "execution_count": 6,
      "id": "e2e23b00",
      "metadata": {
        "id": "e2e23b00"
      },
      "outputs": [],
      "source": []
    },
    {
      "cell_type": "code",
      "source": [],
      "metadata": {
        "id": "RO-UlyRaBeJP"
      },
      "id": "RO-UlyRaBeJP",
      "execution_count": 6,
      "outputs": []
    },
    {
      "cell_type": "code",
      "source": [],
      "metadata": {
        "id": "_3VODP4XBlZ6"
      },
      "id": "_3VODP4XBlZ6",
      "execution_count": 6,
      "outputs": []
    },
    {
      "cell_type": "markdown",
      "id": "9eba570e",
      "metadata": {
        "id": "9eba570e"
      },
      "source": [
        "***Eliminar los NaN de la columna l3***"
      ]
    },
    {
      "cell_type": "code",
      "execution_count": 6,
      "id": "927b4b01",
      "metadata": {
        "id": "927b4b01"
      },
      "outputs": [],
      "source": []
    },
    {
      "cell_type": "code",
      "source": [],
      "metadata": {
        "id": "D0KplBQKp1Cn"
      },
      "id": "D0KplBQKp1Cn",
      "execution_count": 6,
      "outputs": []
    },
    {
      "cell_type": "code",
      "execution_count": 6,
      "id": "32cc6cea",
      "metadata": {
        "id": "32cc6cea"
      },
      "outputs": [],
      "source": []
    },
    {
      "cell_type": "markdown",
      "id": "2f583013",
      "metadata": {
        "id": "2f583013"
      },
      "source": [
        "***Volvamos a ver el porcentaje de nulos de cada columna***"
      ]
    },
    {
      "cell_type": "code",
      "execution_count": 6,
      "id": "5f9821e2",
      "metadata": {
        "id": "5f9821e2"
      },
      "outputs": [],
      "source": []
    },
    {
      "cell_type": "markdown",
      "source": [
        "**PUNTO DE REVISION**\n",
        "\n",
        "**A esta altura el dataframe tiene (499633, 12)**"
      ],
      "metadata": {
        "id": "ZU5zvcvVCENf"
      },
      "id": "ZU5zvcvVCENf"
    },
    {
      "cell_type": "code",
      "source": [],
      "metadata": {
        "id": "F_2ZmbHp033p"
      },
      "id": "F_2ZmbHp033p",
      "execution_count": 6,
      "outputs": []
    },
    {
      "cell_type": "markdown",
      "id": "47fb5b49",
      "metadata": {
        "id": "47fb5b49"
      },
      "source": [
        "***Veamos los valores unicos de la columna property_type***"
      ]
    },
    {
      "cell_type": "code",
      "execution_count": 6,
      "id": "044b4d81",
      "metadata": {
        "id": "044b4d81"
      },
      "outputs": [],
      "source": []
    },
    {
      "cell_type": "markdown",
      "id": "661f9634",
      "metadata": {
        "id": "661f9634"
      },
      "source": [
        "***La columna se ve bien, hacemos lo mismo con operation type***"
      ]
    },
    {
      "cell_type": "code",
      "execution_count": 6,
      "id": "2ab77001",
      "metadata": {
        "id": "2ab77001"
      },
      "outputs": [],
      "source": []
    },
    {
      "cell_type": "markdown",
      "id": "ad8b991b",
      "metadata": {
        "id": "ad8b991b"
      },
      "source": [
        "***La columna se ve bien. Nos quedan price, currency, bathrooms y rooms.***\n",
        "\n",
        "***Vamos a currency, veamos los valores unicos de esta columna***"
      ]
    },
    {
      "cell_type": "code",
      "execution_count": 6,
      "id": "76faf2c0",
      "metadata": {
        "id": "76faf2c0"
      },
      "outputs": [],
      "source": []
    },
    {
      "cell_type": "markdown",
      "id": "22b47d75",
      "metadata": {
        "id": "22b47d75"
      },
      "source": [
        "***Tenemos el peso argentino, el dolar, el peso colombiano y NaN. Veamos los registros con NaN.***"
      ]
    },
    {
      "cell_type": "code",
      "execution_count": 6,
      "id": "63123704",
      "metadata": {
        "id": "63123704"
      },
      "outputs": [],
      "source": []
    },
    {
      "cell_type": "code",
      "source": [],
      "metadata": {
        "id": "KTeXZualCtBb"
      },
      "id": "KTeXZualCtBb",
      "execution_count": 6,
      "outputs": []
    },
    {
      "cell_type": "code",
      "source": [],
      "metadata": {
        "id": "eoHdxMuaDE3o"
      },
      "id": "eoHdxMuaDE3o",
      "execution_count": 6,
      "outputs": []
    },
    {
      "cell_type": "markdown",
      "id": "1a699d94",
      "metadata": {
        "id": "1a699d94"
      },
      "source": [
        "***Vemos que la cantidad de NaN en esta columna es del 1%, sin esta columna no podremos saber en que moneda esta el precio, por lo que tampoco sabremos el precio (el precio es la columna mas interesante de este dataset). Decidimos eliminar los registros con NaN de la columna currency.***"
      ]
    },
    {
      "cell_type": "code",
      "execution_count": 6,
      "id": "6d1418f4",
      "metadata": {
        "id": "6d1418f4"
      },
      "outputs": [],
      "source": []
    },
    {
      "cell_type": "code",
      "execution_count": 6,
      "id": "9cf41da2",
      "metadata": {
        "id": "9cf41da2"
      },
      "outputs": [],
      "source": []
    },
    {
      "cell_type": "markdown",
      "source": [
        "**PUNTO DE REVISION**\n",
        "\n",
        "**A esta altura el dataframe tiene (494382, 12)**"
      ],
      "metadata": {
        "id": "RXnDS3DgDO2U"
      },
      "id": "RXnDS3DgDO2U"
    },
    {
      "cell_type": "code",
      "source": [],
      "metadata": {
        "id": "8dcae78M1E5F"
      },
      "id": "8dcae78M1E5F",
      "execution_count": 6,
      "outputs": []
    },
    {
      "cell_type": "markdown",
      "id": "bebf4f8e",
      "metadata": {
        "id": "bebf4f8e"
      },
      "source": [
        "***Volver a analizar el porcentaje de NaN de cada columna.***"
      ]
    },
    {
      "cell_type": "code",
      "execution_count": 6,
      "id": "f0c966c2",
      "metadata": {
        "id": "f0c966c2"
      },
      "outputs": [],
      "source": []
    },
    {
      "cell_type": "markdown",
      "id": "e301f86c",
      "metadata": {
        "id": "e301f86c"
      },
      "source": [
        "***Vemos que se eliminaron los NaN de price al eliminar los de currency, matamos 2 pajaros de un tiro.***\n",
        "\n",
        "***Ahora si crear una nueva columna llamada precio con el valor de las propiedades en dolares. Utilizar estas cotizaciones***\n",
        "\n",
        "1 dolar = $283 pesos argentinos\n",
        "\n",
        "1 dolar = $4637 pesos colombianos"
      ]
    },
    {
      "cell_type": "code",
      "execution_count": 6,
      "id": "81082c9c",
      "metadata": {
        "id": "81082c9c"
      },
      "outputs": [],
      "source": []
    },
    {
      "cell_type": "markdown",
      "source": [
        "**PUNTO DE REVISION**\n",
        "\n",
        "**A esta altura el dataframe tiene (499382, 13)**"
      ],
      "metadata": {
        "id": "zadWQc_3EC9K"
      },
      "id": "zadWQc_3EC9K"
    },
    {
      "cell_type": "code",
      "source": [],
      "metadata": {
        "id": "huM11yW1EHXd"
      },
      "id": "huM11yW1EHXd",
      "execution_count": 6,
      "outputs": []
    }
  ],
  "metadata": {
    "colab": {
      "provenance": [],
      "toc_visible": true,
      "include_colab_link": true
    },
    "kernelspec": {
      "display_name": "Python 3 (ipykernel)",
      "language": "python",
      "name": "python3"
    },
    "language_info": {
      "codemirror_mode": {
        "name": "ipython",
        "version": 3
      },
      "file_extension": ".py",
      "mimetype": "text/x-python",
      "name": "python",
      "nbconvert_exporter": "python",
      "pygments_lexer": "ipython3",
      "version": "3.9.12"
    }
  },
  "nbformat": 4,
  "nbformat_minor": 5
}