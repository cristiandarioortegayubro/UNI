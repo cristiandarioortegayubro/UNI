{
  "cells": [
    {
      "cell_type": "markdown",
      "metadata": {
        "id": "view-in-github",
        "colab_type": "text"
      },
      "source": [
        "<a href=\"https://colab.research.google.com/github/cristiandarioortegayubro/UNI/blob/main/colab/dc_01.ipynb\" target=\"_parent\"><img src=\"https://colab.research.google.com/assets/colab-badge.svg\" alt=\"Open In Colab\"/></a>"
      ]
    },
    {
      "cell_type": "markdown",
      "id": "d2c96590-42d5-424f-889c-89c4e4cf336f",
      "metadata": {
        "id": "d2c96590-42d5-424f-889c-89c4e4cf336f"
      },
      "source": [
        "![](https://github.com/cristiandarioortegayubro/UNI/blob/main/UNI%2039%20Aniversario.jpg?raw=true)"
      ]
    },
    {
      "cell_type": "markdown",
      "id": "c6549ba7-e07b-4ace-bd81-e8f81e9d6bcd",
      "metadata": {
        "id": "c6549ba7-e07b-4ace-bd81-e8f81e9d6bcd"
      },
      "source": [
        "# **Limpieza de datos**"
      ]
    },
    {
      "cell_type": "markdown",
      "id": "Mi4H1Ydsy9gh",
      "metadata": {
        "id": "Mi4H1Ydsy9gh"
      },
      "source": [
        "Nos encontramos iniciando un nuevo proyecto, nuestra empresa es una pequeña inmobiliaria que quiere fusionar el potencial del manejo de datos con la venta/alquiler de propiedades. Al ser una pequeña empresa el ***departamento de datos*** esta compuesto por una persona: nosotros. \n",
        "\n",
        "Esto quiere decir que vamos a absorber los roles de:\n",
        "\n",
        "- Ingeniero de Datos, y \n",
        "- Analista de Datos.\n"
      ]
    },
    {
      "cell_type": "markdown",
      "id": "9c77b7d0-bea3-4772-a168-60349409b1a3",
      "metadata": {
        "id": "9c77b7d0-bea3-4772-a168-60349409b1a3"
      },
      "source": [
        "## **Ingesta de datos de propiedades**"
      ]
    },
    {
      "cell_type": "markdown",
      "id": "614cb164",
      "metadata": {
        "id": "614cb164"
      },
      "source": [
        "***El dataset central de este proyecto de propiedades de Argentina, tiene la siguientes columnas:***\n",
        "\n",
        "- **id** - Identificador del aviso. No es único: si el aviso es actualizado por la inmobiliaria (nueva versión del aviso) se crea un nuevo registro con la misma id pero distintas fechas: de alta y de baja.\n",
        "- **ad_type** - Tipo de aviso (Propiedad, Desarrollo/Proyecto).\n",
        "- **start_date** - Fecha de alta del aviso.\n",
        "- **end_date** - Fecha de baja del aviso.\n",
        "- **created_on** - Fecha de alta de la primera versión del aviso.\n",
        "- **lat** - Latitud.\n",
        "- **lon** - Longitud.\n",
        "- **l1** - Nivel administrativo 1: país.\n",
        "- **l2** - Nivel administrativo 2: usualmente provincia.\n",
        "- **l3** - Nivel administrativo 3: usualmente ciudad.\n",
        "- **l4** - Nivel administrativo 4: usualmente barrio.\n",
        "- **l5** - sin informacion\n",
        "- **l6** - sin informacion\n",
        "- **rooms** - Cantidad de ambientes\n",
        "- **bedrooms** - Cantidad de dormitorios\n",
        "- **bathrooms** - Cantidad de baños.\n",
        "- **surface_total** - Superficie total en m².\n",
        "- **surface_covered** - Superficie cubierta en m².\n",
        "- **price** - Precio publicado en el anuncio.\n",
        "- **currency** - Moneda del precio publicado.\n",
        "- **price_period** - Periodo del precio (Diario, Semanal, Mensual)\n",
        "- **title** - Título del anuncio.\n",
        "- **description** - Descripción del anuncio.\n",
        "- **property_type**: - Caracteristicas de la propiedad\n",
        "- **operation_type**: - Caracteristicas de la operacion ['Venta', 'Alquiler', 'Alquiler temporal']"
      ]
    },
    {
      "cell_type": "markdown",
      "id": "akkMOa8Lz0TL",
      "metadata": {
        "id": "akkMOa8Lz0TL"
      },
      "source": [
        "## **Habilitando bibliotecas**"
      ]
    },
    {
      "cell_type": "markdown",
      "id": "BDHNiX8d0CSm",
      "metadata": {
        "id": "BDHNiX8d0CSm"
      },
      "source": [
        "Habilitar las bibliotecas necesarias para generar un dataframe, hacer limpieza de datos, y generar gráficos."
      ]
    },
    {
      "cell_type": "markdown",
      "id": "Wn_Bx8pk5spr",
      "metadata": {
        "id": "Wn_Bx8pk5spr"
      },
      "source": [
        "### **Instalando bibliotecas necesarias**"
      ]
    },
    {
      "cell_type": "markdown",
      "id": "KHhKEDMu2KUK",
      "metadata": {
        "id": "KHhKEDMu2KUK"
      },
      "source": [
        "### **Para analisis de datos**"
      ]
    },
    {
      "cell_type": "code",
      "execution_count": 1,
      "id": "8YyzmxiMz8Nx",
      "metadata": {
        "id": "8YyzmxiMz8Nx"
      },
      "outputs": [],
      "source": [
        "import pandas as pd"
      ]
    },
    {
      "cell_type": "markdown",
      "id": "05yTtp-B2NXX",
      "metadata": {
        "id": "05yTtp-B2NXX"
      },
      "source": [
        "### **Para limpieza de datos**"
      ]
    },
    {
      "cell_type": "code",
      "execution_count": 2,
      "id": "7QoOmoTLz77y",
      "metadata": {
        "id": "7QoOmoTLz77y"
      },
      "outputs": [],
      "source": [
        "import numpy as np"
      ]
    },
    {
      "cell_type": "markdown",
      "id": "pEZgoAZb2RVp",
      "metadata": {
        "id": "pEZgoAZb2RVp"
      },
      "source": [
        "### **Para gráficos**"
      ]
    },
    {
      "cell_type": "code",
      "execution_count": 3,
      "id": "v7UBjDaV0OQY",
      "metadata": {
        "id": "v7UBjDaV0OQY"
      },
      "outputs": [],
      "source": [
        "import seaborn as sns\n",
        "import plotly.express as px"
      ]
    },
    {
      "cell_type": "markdown",
      "id": "d546b882-c289-4cae-99cb-2ea5e3072f71",
      "metadata": {
        "id": "d546b882-c289-4cae-99cb-2ea5e3072f71"
      },
      "source": [
        "## **Análisis Exploratorio de los Datos**"
      ]
    },
    {
      "cell_type": "code",
      "source": [
        "from google.colab import drive\n",
        "drive.mount('/content/drive')"
      ],
      "metadata": {
        "colab": {
          "base_uri": "https://localhost:8080/"
        },
        "id": "AVO9ldt75t9D",
        "outputId": "44c968c9-58cf-40fe-c5dc-70c17f6acba7"
      },
      "id": "AVO9ldt75t9D",
      "execution_count": 4,
      "outputs": [
        {
          "output_type": "stream",
          "name": "stdout",
          "text": [
            "Mounted at /content/drive\n"
          ]
        }
      ]
    },
    {
      "cell_type": "markdown",
      "id": "87508501",
      "metadata": {
        "id": "87508501"
      },
      "source": [
        "Leer el archivo  ```.csv``` con Pandas y guardarlo en una variable llamada ```prop```"
      ]
    },
    {
      "cell_type": "code",
      "source": [
        "#prop = pd.read_csv(\"/content/drive/MyDrive/Notebooks/Workshop/propiedades.csv\")"
      ],
      "metadata": {
        "id": "2-gRAiYvoU_4"
      },
      "id": "2-gRAiYvoU_4",
      "execution_count": 5,
      "outputs": []
    },
    {
      "cell_type": "markdown",
      "id": "a2e59c4f",
      "metadata": {
        "id": "a2e59c4f"
      },
      "source": [
        "***Observar los primeros 8 registros***"
      ]
    },
    {
      "cell_type": "code",
      "execution_count": 6,
      "id": "25b04fa1",
      "metadata": {
        "id": "25b04fa1",
        "colab": {
          "base_uri": "https://localhost:8080/",
          "height": 662
        },
        "outputId": "417da70c-63c2-407c-d723-9c3c08bdedbd"
      },
      "outputs": [
        {
          "output_type": "execute_result",
          "data": {
            "text/plain": [
              "                         id    ad_type  start_date    end_date  created_on  \\\n",
              "0  DyVXfkpKygVBKuUk5olH+A==  Propiedad  2020-08-22  2020-09-03  2020-08-22   \n",
              "1  9naojilaMecJN4jlQiTkGg==  Propiedad  2020-08-22  2020-09-04  2020-08-22   \n",
              "2  tlCPRJPjoDEUzuuCelemAQ==  Propiedad  2020-08-22  2020-08-31  2020-08-22   \n",
              "3  Zw3b91glQUO3HNrM5fPYlQ==  Propiedad  2020-08-22  2020-09-04  2020-08-22   \n",
              "4  bsU81gm9JEgtZCbTYgvykg==  Propiedad  2020-08-22  2020-09-04  2020-08-22   \n",
              "5  3Cips/GEPuJqktYycSALCQ==  Propiedad  2020-08-22  2020-09-04  2020-08-22   \n",
              "6  6TO5dWwmivuJ67zkztUzCA==  Propiedad  2020-08-22  2020-09-04  2020-08-22   \n",
              "7  VlE71iojfIFoH4piJfFQ/g==  Propiedad  2020-08-22  2020-09-04  2020-08-22   \n",
              "\n",
              "         lat        lon         l1                            l2  \\\n",
              "0 -34.407468 -58.957367  Argentina      Bs.As. G.B.A. Zona Norte   \n",
              "1 -37.996039 -57.542509  Argentina  Buenos Aires Costa Atlántica   \n",
              "2 -31.380187 -58.009182  Argentina                    Entre Ríos   \n",
              "3 -27.494106 -55.123455  Argentina                      Misiones   \n",
              "4 -32.948856 -60.630464  Argentina                      Santa Fe   \n",
              "5 -32.884278 -60.710901  Argentina                      Santa Fe   \n",
              "6 -34.604195 -58.559827  Argentina      Bs.As. G.B.A. Zona Oeste   \n",
              "7 -32.948834 -60.630169  Argentina                      Santa Fe   \n",
              "\n",
              "                l3  ... bathrooms surface_total  surface_covered  price  \\\n",
              "0            Pilar  ...       NaN      133139.0              NaN    NaN   \n",
              "1    Mar del Plata  ...       NaN         687.0            687.0    NaN   \n",
              "2        Concordia  ...       1.0          80.0             80.0    NaN   \n",
              "3            Oberá  ...       1.0           NaN              NaN    NaN   \n",
              "4          Rosario  ...       1.0          76.0             66.0    NaN   \n",
              "5          Rosario  ...       1.0          39.0             33.0    NaN   \n",
              "6  Tres de Febrero  ...       1.0           NaN             42.0    NaN   \n",
              "7          Rosario  ...       2.0         130.0            108.0    NaN   \n",
              "\n",
              "   currency  price_period                                              title  \\\n",
              "0       NaN       Mensual  VENTA - Lote Industrial 130.000m2 - Parque Ind...   \n",
              "1       NaN       Mensual                               Casa - Santa Cecilia   \n",
              "2       NaN       Mensual                                   Casa - Concordia   \n",
              "3       NaN       Mensual                                    Terreno - Obera   \n",
              "4       NaN       Mensual                             Departamento - Rosario   \n",
              "5       NaN       Mensual                               9 DE JULIO 535 06 01   \n",
              "6       NaN       Mensual                             Departamento - Caseros   \n",
              "7       NaN       Mensual                             Departamento - Rosario   \n",
              "\n",
              "                                         description  property_type  \\\n",
              "0  Lote (Nro.50) mide 133.139 m2\\n<br>Valor: U$S ...           Lote   \n",
              "1  Conjunto edilicio de casa y departamentos en b...           Otro   \n",
              "2  Casa de un dormitorio, cocina, baño, living co...           Casa   \n",
              "3  IMPORTANTE PROPIEDAD EN VENTA EN OBERA MISIONE...           Lote   \n",
              "4  PORTAL DE LOS MARINOS<br>Es un complejo de viv...   Departamento   \n",
              "5  CARACTERÍSTICAS<br>Ingreso living comedor con ...   Departamento   \n",
              "6  Departamento 2 ambientes con Lavadero en Nicar...   Departamento   \n",
              "7  PORTAL DE LOS MARINOS<br>Es un complejo de viv...   Departamento   \n",
              "\n",
              "  operation_type  \n",
              "0          Venta  \n",
              "1          Venta  \n",
              "2       Alquiler  \n",
              "3          Venta  \n",
              "4          Venta  \n",
              "5       Alquiler  \n",
              "6       Alquiler  \n",
              "7          Venta  \n",
              "\n",
              "[8 rows x 25 columns]"
            ],
            "text/html": [
              "\n",
              "  <div id=\"df-14d4b3d8-c5de-4243-8ae8-9611d17684a1\">\n",
              "    <div class=\"colab-df-container\">\n",
              "      <div>\n",
              "<style scoped>\n",
              "    .dataframe tbody tr th:only-of-type {\n",
              "        vertical-align: middle;\n",
              "    }\n",
              "\n",
              "    .dataframe tbody tr th {\n",
              "        vertical-align: top;\n",
              "    }\n",
              "\n",
              "    .dataframe thead th {\n",
              "        text-align: right;\n",
              "    }\n",
              "</style>\n",
              "<table border=\"1\" class=\"dataframe\">\n",
              "  <thead>\n",
              "    <tr style=\"text-align: right;\">\n",
              "      <th></th>\n",
              "      <th>id</th>\n",
              "      <th>ad_type</th>\n",
              "      <th>start_date</th>\n",
              "      <th>end_date</th>\n",
              "      <th>created_on</th>\n",
              "      <th>lat</th>\n",
              "      <th>lon</th>\n",
              "      <th>l1</th>\n",
              "      <th>l2</th>\n",
              "      <th>l3</th>\n",
              "      <th>...</th>\n",
              "      <th>bathrooms</th>\n",
              "      <th>surface_total</th>\n",
              "      <th>surface_covered</th>\n",
              "      <th>price</th>\n",
              "      <th>currency</th>\n",
              "      <th>price_period</th>\n",
              "      <th>title</th>\n",
              "      <th>description</th>\n",
              "      <th>property_type</th>\n",
              "      <th>operation_type</th>\n",
              "    </tr>\n",
              "  </thead>\n",
              "  <tbody>\n",
              "    <tr>\n",
              "      <th>0</th>\n",
              "      <td>DyVXfkpKygVBKuUk5olH+A==</td>\n",
              "      <td>Propiedad</td>\n",
              "      <td>2020-08-22</td>\n",
              "      <td>2020-09-03</td>\n",
              "      <td>2020-08-22</td>\n",
              "      <td>-34.407468</td>\n",
              "      <td>-58.957367</td>\n",
              "      <td>Argentina</td>\n",
              "      <td>Bs.As. G.B.A. Zona Norte</td>\n",
              "      <td>Pilar</td>\n",
              "      <td>...</td>\n",
              "      <td>NaN</td>\n",
              "      <td>133139.0</td>\n",
              "      <td>NaN</td>\n",
              "      <td>NaN</td>\n",
              "      <td>NaN</td>\n",
              "      <td>Mensual</td>\n",
              "      <td>VENTA - Lote Industrial 130.000m2 - Parque Ind...</td>\n",
              "      <td>Lote (Nro.50) mide 133.139 m2\\n&lt;br&gt;Valor: U$S ...</td>\n",
              "      <td>Lote</td>\n",
              "      <td>Venta</td>\n",
              "    </tr>\n",
              "    <tr>\n",
              "      <th>1</th>\n",
              "      <td>9naojilaMecJN4jlQiTkGg==</td>\n",
              "      <td>Propiedad</td>\n",
              "      <td>2020-08-22</td>\n",
              "      <td>2020-09-04</td>\n",
              "      <td>2020-08-22</td>\n",
              "      <td>-37.996039</td>\n",
              "      <td>-57.542509</td>\n",
              "      <td>Argentina</td>\n",
              "      <td>Buenos Aires Costa Atlántica</td>\n",
              "      <td>Mar del Plata</td>\n",
              "      <td>...</td>\n",
              "      <td>NaN</td>\n",
              "      <td>687.0</td>\n",
              "      <td>687.0</td>\n",
              "      <td>NaN</td>\n",
              "      <td>NaN</td>\n",
              "      <td>Mensual</td>\n",
              "      <td>Casa - Santa Cecilia</td>\n",
              "      <td>Conjunto edilicio de casa y departamentos en b...</td>\n",
              "      <td>Otro</td>\n",
              "      <td>Venta</td>\n",
              "    </tr>\n",
              "    <tr>\n",
              "      <th>2</th>\n",
              "      <td>tlCPRJPjoDEUzuuCelemAQ==</td>\n",
              "      <td>Propiedad</td>\n",
              "      <td>2020-08-22</td>\n",
              "      <td>2020-08-31</td>\n",
              "      <td>2020-08-22</td>\n",
              "      <td>-31.380187</td>\n",
              "      <td>-58.009182</td>\n",
              "      <td>Argentina</td>\n",
              "      <td>Entre Ríos</td>\n",
              "      <td>Concordia</td>\n",
              "      <td>...</td>\n",
              "      <td>1.0</td>\n",
              "      <td>80.0</td>\n",
              "      <td>80.0</td>\n",
              "      <td>NaN</td>\n",
              "      <td>NaN</td>\n",
              "      <td>Mensual</td>\n",
              "      <td>Casa - Concordia</td>\n",
              "      <td>Casa de un dormitorio, cocina, baño, living co...</td>\n",
              "      <td>Casa</td>\n",
              "      <td>Alquiler</td>\n",
              "    </tr>\n",
              "    <tr>\n",
              "      <th>3</th>\n",
              "      <td>Zw3b91glQUO3HNrM5fPYlQ==</td>\n",
              "      <td>Propiedad</td>\n",
              "      <td>2020-08-22</td>\n",
              "      <td>2020-09-04</td>\n",
              "      <td>2020-08-22</td>\n",
              "      <td>-27.494106</td>\n",
              "      <td>-55.123455</td>\n",
              "      <td>Argentina</td>\n",
              "      <td>Misiones</td>\n",
              "      <td>Oberá</td>\n",
              "      <td>...</td>\n",
              "      <td>1.0</td>\n",
              "      <td>NaN</td>\n",
              "      <td>NaN</td>\n",
              "      <td>NaN</td>\n",
              "      <td>NaN</td>\n",
              "      <td>Mensual</td>\n",
              "      <td>Terreno - Obera</td>\n",
              "      <td>IMPORTANTE PROPIEDAD EN VENTA EN OBERA MISIONE...</td>\n",
              "      <td>Lote</td>\n",
              "      <td>Venta</td>\n",
              "    </tr>\n",
              "    <tr>\n",
              "      <th>4</th>\n",
              "      <td>bsU81gm9JEgtZCbTYgvykg==</td>\n",
              "      <td>Propiedad</td>\n",
              "      <td>2020-08-22</td>\n",
              "      <td>2020-09-04</td>\n",
              "      <td>2020-08-22</td>\n",
              "      <td>-32.948856</td>\n",
              "      <td>-60.630464</td>\n",
              "      <td>Argentina</td>\n",
              "      <td>Santa Fe</td>\n",
              "      <td>Rosario</td>\n",
              "      <td>...</td>\n",
              "      <td>1.0</td>\n",
              "      <td>76.0</td>\n",
              "      <td>66.0</td>\n",
              "      <td>NaN</td>\n",
              "      <td>NaN</td>\n",
              "      <td>Mensual</td>\n",
              "      <td>Departamento - Rosario</td>\n",
              "      <td>PORTAL DE LOS MARINOS&lt;br&gt;Es un complejo de viv...</td>\n",
              "      <td>Departamento</td>\n",
              "      <td>Venta</td>\n",
              "    </tr>\n",
              "    <tr>\n",
              "      <th>5</th>\n",
              "      <td>3Cips/GEPuJqktYycSALCQ==</td>\n",
              "      <td>Propiedad</td>\n",
              "      <td>2020-08-22</td>\n",
              "      <td>2020-09-04</td>\n",
              "      <td>2020-08-22</td>\n",
              "      <td>-32.884278</td>\n",
              "      <td>-60.710901</td>\n",
              "      <td>Argentina</td>\n",
              "      <td>Santa Fe</td>\n",
              "      <td>Rosario</td>\n",
              "      <td>...</td>\n",
              "      <td>1.0</td>\n",
              "      <td>39.0</td>\n",
              "      <td>33.0</td>\n",
              "      <td>NaN</td>\n",
              "      <td>NaN</td>\n",
              "      <td>Mensual</td>\n",
              "      <td>9 DE JULIO 535 06 01</td>\n",
              "      <td>CARACTERÍSTICAS&lt;br&gt;Ingreso living comedor con ...</td>\n",
              "      <td>Departamento</td>\n",
              "      <td>Alquiler</td>\n",
              "    </tr>\n",
              "    <tr>\n",
              "      <th>6</th>\n",
              "      <td>6TO5dWwmivuJ67zkztUzCA==</td>\n",
              "      <td>Propiedad</td>\n",
              "      <td>2020-08-22</td>\n",
              "      <td>2020-09-04</td>\n",
              "      <td>2020-08-22</td>\n",
              "      <td>-34.604195</td>\n",
              "      <td>-58.559827</td>\n",
              "      <td>Argentina</td>\n",
              "      <td>Bs.As. G.B.A. Zona Oeste</td>\n",
              "      <td>Tres de Febrero</td>\n",
              "      <td>...</td>\n",
              "      <td>1.0</td>\n",
              "      <td>NaN</td>\n",
              "      <td>42.0</td>\n",
              "      <td>NaN</td>\n",
              "      <td>NaN</td>\n",
              "      <td>Mensual</td>\n",
              "      <td>Departamento - Caseros</td>\n",
              "      <td>Departamento 2 ambientes con Lavadero en Nicar...</td>\n",
              "      <td>Departamento</td>\n",
              "      <td>Alquiler</td>\n",
              "    </tr>\n",
              "    <tr>\n",
              "      <th>7</th>\n",
              "      <td>VlE71iojfIFoH4piJfFQ/g==</td>\n",
              "      <td>Propiedad</td>\n",
              "      <td>2020-08-22</td>\n",
              "      <td>2020-09-04</td>\n",
              "      <td>2020-08-22</td>\n",
              "      <td>-32.948834</td>\n",
              "      <td>-60.630169</td>\n",
              "      <td>Argentina</td>\n",
              "      <td>Santa Fe</td>\n",
              "      <td>Rosario</td>\n",
              "      <td>...</td>\n",
              "      <td>2.0</td>\n",
              "      <td>130.0</td>\n",
              "      <td>108.0</td>\n",
              "      <td>NaN</td>\n",
              "      <td>NaN</td>\n",
              "      <td>Mensual</td>\n",
              "      <td>Departamento - Rosario</td>\n",
              "      <td>PORTAL DE LOS MARINOS&lt;br&gt;Es un complejo de viv...</td>\n",
              "      <td>Departamento</td>\n",
              "      <td>Venta</td>\n",
              "    </tr>\n",
              "  </tbody>\n",
              "</table>\n",
              "<p>8 rows × 25 columns</p>\n",
              "</div>\n",
              "      <button class=\"colab-df-convert\" onclick=\"convertToInteractive('df-14d4b3d8-c5de-4243-8ae8-9611d17684a1')\"\n",
              "              title=\"Convert this dataframe to an interactive table.\"\n",
              "              style=\"display:none;\">\n",
              "        \n",
              "  <svg xmlns=\"http://www.w3.org/2000/svg\" height=\"24px\"viewBox=\"0 0 24 24\"\n",
              "       width=\"24px\">\n",
              "    <path d=\"M0 0h24v24H0V0z\" fill=\"none\"/>\n",
              "    <path d=\"M18.56 5.44l.94 2.06.94-2.06 2.06-.94-2.06-.94-.94-2.06-.94 2.06-2.06.94zm-11 1L8.5 8.5l.94-2.06 2.06-.94-2.06-.94L8.5 2.5l-.94 2.06-2.06.94zm10 10l.94 2.06.94-2.06 2.06-.94-2.06-.94-.94-2.06-.94 2.06-2.06.94z\"/><path d=\"M17.41 7.96l-1.37-1.37c-.4-.4-.92-.59-1.43-.59-.52 0-1.04.2-1.43.59L10.3 9.45l-7.72 7.72c-.78.78-.78 2.05 0 2.83L4 21.41c.39.39.9.59 1.41.59.51 0 1.02-.2 1.41-.59l7.78-7.78 2.81-2.81c.8-.78.8-2.07 0-2.86zM5.41 20L4 18.59l7.72-7.72 1.47 1.35L5.41 20z\"/>\n",
              "  </svg>\n",
              "      </button>\n",
              "      \n",
              "  <style>\n",
              "    .colab-df-container {\n",
              "      display:flex;\n",
              "      flex-wrap:wrap;\n",
              "      gap: 12px;\n",
              "    }\n",
              "\n",
              "    .colab-df-convert {\n",
              "      background-color: #E8F0FE;\n",
              "      border: none;\n",
              "      border-radius: 50%;\n",
              "      cursor: pointer;\n",
              "      display: none;\n",
              "      fill: #1967D2;\n",
              "      height: 32px;\n",
              "      padding: 0 0 0 0;\n",
              "      width: 32px;\n",
              "    }\n",
              "\n",
              "    .colab-df-convert:hover {\n",
              "      background-color: #E2EBFA;\n",
              "      box-shadow: 0px 1px 2px rgba(60, 64, 67, 0.3), 0px 1px 3px 1px rgba(60, 64, 67, 0.15);\n",
              "      fill: #174EA6;\n",
              "    }\n",
              "\n",
              "    [theme=dark] .colab-df-convert {\n",
              "      background-color: #3B4455;\n",
              "      fill: #D2E3FC;\n",
              "    }\n",
              "\n",
              "    [theme=dark] .colab-df-convert:hover {\n",
              "      background-color: #434B5C;\n",
              "      box-shadow: 0px 1px 3px 1px rgba(0, 0, 0, 0.15);\n",
              "      filter: drop-shadow(0px 1px 2px rgba(0, 0, 0, 0.3));\n",
              "      fill: #FFFFFF;\n",
              "    }\n",
              "  </style>\n",
              "\n",
              "      <script>\n",
              "        const buttonEl =\n",
              "          document.querySelector('#df-14d4b3d8-c5de-4243-8ae8-9611d17684a1 button.colab-df-convert');\n",
              "        buttonEl.style.display =\n",
              "          google.colab.kernel.accessAllowed ? 'block' : 'none';\n",
              "\n",
              "        async function convertToInteractive(key) {\n",
              "          const element = document.querySelector('#df-14d4b3d8-c5de-4243-8ae8-9611d17684a1');\n",
              "          const dataTable =\n",
              "            await google.colab.kernel.invokeFunction('convertToInteractive',\n",
              "                                                     [key], {});\n",
              "          if (!dataTable) return;\n",
              "\n",
              "          const docLinkHtml = 'Like what you see? Visit the ' +\n",
              "            '<a target=\"_blank\" href=https://colab.research.google.com/notebooks/data_table.ipynb>data table notebook</a>'\n",
              "            + ' to learn more about interactive tables.';\n",
              "          element.innerHTML = '';\n",
              "          dataTable['output_type'] = 'display_data';\n",
              "          await google.colab.output.renderOutput(dataTable, element);\n",
              "          const docLink = document.createElement('div');\n",
              "          docLink.innerHTML = docLinkHtml;\n",
              "          element.appendChild(docLink);\n",
              "        }\n",
              "      </script>\n",
              "    </div>\n",
              "  </div>\n",
              "  "
            ]
          },
          "metadata": {},
          "execution_count": 6
        }
      ],
      "source": [
        "prop.head(8)"
      ]
    },
    {
      "cell_type": "markdown",
      "id": "VrQhidLF0sWf",
      "metadata": {
        "id": "VrQhidLF0sWf"
      },
      "source": [
        "***Observar los últimos 5 registros***"
      ]
    },
    {
      "cell_type": "code",
      "execution_count": 7,
      "id": "Dh437zE40u9k",
      "metadata": {
        "id": "Dh437zE40u9k",
        "colab": {
          "base_uri": "https://localhost:8080/",
          "height": 654
        },
        "outputId": "71a50b2d-0d78-41cc-afee-1fc95fc7645a"
      },
      "outputs": [
        {
          "output_type": "execute_result",
          "data": {
            "text/plain": [
              "                              id    ad_type  start_date    end_date  \\\n",
              "999995  jMYhwydKqUje8HCx7RzwJQ==  Propiedad  2020-12-04  9999-12-31   \n",
              "999996  FsP7ornzqnK1CvUL8quQ9Q==  Propiedad  2020-12-04  9999-12-31   \n",
              "999997  fJLVUIziPl31ACoaE/fj1g==  Propiedad  2020-12-04  9999-12-31   \n",
              "999998  7mW3bUSJFA0RBOj2xtBi+w==  Propiedad  2020-12-04  9999-12-31   \n",
              "999999  rEynGyGrrsxNeG0ib5vUBA==  Propiedad  2020-12-04  2020-12-21   \n",
              "\n",
              "        created_on        lat        lon         l1                        l2  \\\n",
              "999995  2020-12-04 -32.958863 -60.665633  Argentina                  Santa Fe   \n",
              "999996  2020-12-04 -34.596587 -58.376893  Argentina           Capital Federal   \n",
              "999997  2020-12-04 -34.576445 -58.432603  Argentina           Capital Federal   \n",
              "999998  2020-12-04 -32.866636 -68.841144  Argentina                   Mendoza   \n",
              "999999  2020-12-04 -34.447524 -58.631552  Argentina  Bs.As. G.B.A. Zona Norte   \n",
              "\n",
              "             l3  ... bathrooms surface_total  surface_covered     price  \\\n",
              "999995  Rosario  ...       7.0         400.0            300.0  400000.0   \n",
              "999996   Retiro  ...       5.0         465.0            465.0    3700.0   \n",
              "999997  Palermo  ...       2.0         615.0            425.0  570000.0   \n",
              "999998      NaN  ...      20.0         450.0            450.0  800000.0   \n",
              "999999    Tigre  ...       4.0         350.0            300.0    7000.0   \n",
              "\n",
              "        currency  price_period  \\\n",
              "999995       USD       Mensual   \n",
              "999996       USD       Mensual   \n",
              "999997       USD       Mensual   \n",
              "999998       USD       Mensual   \n",
              "999999       USD       Mensual   \n",
              "\n",
              "                                                    title  \\\n",
              "999995  Se vende imponente casa a minutos del centro d...   \n",
              "999996                        Edificio Comercial - Retiro   \n",
              "999997  Edificio Comercial  en excelente zona de Paler...   \n",
              "999998                       Edificio Comercial - Capital   \n",
              "999999  INCREÍBLE ECASA A LA LAGUNA DESDE DIC a FEBRER...   \n",
              "\n",
              "                                              description    property_type  \\\n",
              "999995  Esta excelente propiedad se encuentra ubicada ...             Casa   \n",
              "999996  GRAN EDIFICIO PETIT HOTEL ESTILO FRANCÉS  CON ...  Local comercial   \n",
              "999997  Edificio Comercial CON ENTRADA INDEPENDIENTE S...  Local comercial   \n",
              "999998  Local 450m² con Cloaca en 25 de mayo, Argentin...  Local comercial   \n",
              "999999  ESPECTACULAR CASA A LA LAGUNA  -BARRIO SANTA B...             Casa   \n",
              "\n",
              "           operation_type  \n",
              "999995              Venta  \n",
              "999996           Alquiler  \n",
              "999997              Venta  \n",
              "999998              Venta  \n",
              "999999  Alquiler temporal  \n",
              "\n",
              "[5 rows x 25 columns]"
            ],
            "text/html": [
              "\n",
              "  <div id=\"df-6882cb29-0093-429c-965a-4acb208ae2cf\">\n",
              "    <div class=\"colab-df-container\">\n",
              "      <div>\n",
              "<style scoped>\n",
              "    .dataframe tbody tr th:only-of-type {\n",
              "        vertical-align: middle;\n",
              "    }\n",
              "\n",
              "    .dataframe tbody tr th {\n",
              "        vertical-align: top;\n",
              "    }\n",
              "\n",
              "    .dataframe thead th {\n",
              "        text-align: right;\n",
              "    }\n",
              "</style>\n",
              "<table border=\"1\" class=\"dataframe\">\n",
              "  <thead>\n",
              "    <tr style=\"text-align: right;\">\n",
              "      <th></th>\n",
              "      <th>id</th>\n",
              "      <th>ad_type</th>\n",
              "      <th>start_date</th>\n",
              "      <th>end_date</th>\n",
              "      <th>created_on</th>\n",
              "      <th>lat</th>\n",
              "      <th>lon</th>\n",
              "      <th>l1</th>\n",
              "      <th>l2</th>\n",
              "      <th>l3</th>\n",
              "      <th>...</th>\n",
              "      <th>bathrooms</th>\n",
              "      <th>surface_total</th>\n",
              "      <th>surface_covered</th>\n",
              "      <th>price</th>\n",
              "      <th>currency</th>\n",
              "      <th>price_period</th>\n",
              "      <th>title</th>\n",
              "      <th>description</th>\n",
              "      <th>property_type</th>\n",
              "      <th>operation_type</th>\n",
              "    </tr>\n",
              "  </thead>\n",
              "  <tbody>\n",
              "    <tr>\n",
              "      <th>999995</th>\n",
              "      <td>jMYhwydKqUje8HCx7RzwJQ==</td>\n",
              "      <td>Propiedad</td>\n",
              "      <td>2020-12-04</td>\n",
              "      <td>9999-12-31</td>\n",
              "      <td>2020-12-04</td>\n",
              "      <td>-32.958863</td>\n",
              "      <td>-60.665633</td>\n",
              "      <td>Argentina</td>\n",
              "      <td>Santa Fe</td>\n",
              "      <td>Rosario</td>\n",
              "      <td>...</td>\n",
              "      <td>7.0</td>\n",
              "      <td>400.0</td>\n",
              "      <td>300.0</td>\n",
              "      <td>400000.0</td>\n",
              "      <td>USD</td>\n",
              "      <td>Mensual</td>\n",
              "      <td>Se vende imponente casa a minutos del centro d...</td>\n",
              "      <td>Esta excelente propiedad se encuentra ubicada ...</td>\n",
              "      <td>Casa</td>\n",
              "      <td>Venta</td>\n",
              "    </tr>\n",
              "    <tr>\n",
              "      <th>999996</th>\n",
              "      <td>FsP7ornzqnK1CvUL8quQ9Q==</td>\n",
              "      <td>Propiedad</td>\n",
              "      <td>2020-12-04</td>\n",
              "      <td>9999-12-31</td>\n",
              "      <td>2020-12-04</td>\n",
              "      <td>-34.596587</td>\n",
              "      <td>-58.376893</td>\n",
              "      <td>Argentina</td>\n",
              "      <td>Capital Federal</td>\n",
              "      <td>Retiro</td>\n",
              "      <td>...</td>\n",
              "      <td>5.0</td>\n",
              "      <td>465.0</td>\n",
              "      <td>465.0</td>\n",
              "      <td>3700.0</td>\n",
              "      <td>USD</td>\n",
              "      <td>Mensual</td>\n",
              "      <td>Edificio Comercial - Retiro</td>\n",
              "      <td>GRAN EDIFICIO PETIT HOTEL ESTILO FRANCÉS  CON ...</td>\n",
              "      <td>Local comercial</td>\n",
              "      <td>Alquiler</td>\n",
              "    </tr>\n",
              "    <tr>\n",
              "      <th>999997</th>\n",
              "      <td>fJLVUIziPl31ACoaE/fj1g==</td>\n",
              "      <td>Propiedad</td>\n",
              "      <td>2020-12-04</td>\n",
              "      <td>9999-12-31</td>\n",
              "      <td>2020-12-04</td>\n",
              "      <td>-34.576445</td>\n",
              "      <td>-58.432603</td>\n",
              "      <td>Argentina</td>\n",
              "      <td>Capital Federal</td>\n",
              "      <td>Palermo</td>\n",
              "      <td>...</td>\n",
              "      <td>2.0</td>\n",
              "      <td>615.0</td>\n",
              "      <td>425.0</td>\n",
              "      <td>570000.0</td>\n",
              "      <td>USD</td>\n",
              "      <td>Mensual</td>\n",
              "      <td>Edificio Comercial  en excelente zona de Paler...</td>\n",
              "      <td>Edificio Comercial CON ENTRADA INDEPENDIENTE S...</td>\n",
              "      <td>Local comercial</td>\n",
              "      <td>Venta</td>\n",
              "    </tr>\n",
              "    <tr>\n",
              "      <th>999998</th>\n",
              "      <td>7mW3bUSJFA0RBOj2xtBi+w==</td>\n",
              "      <td>Propiedad</td>\n",
              "      <td>2020-12-04</td>\n",
              "      <td>9999-12-31</td>\n",
              "      <td>2020-12-04</td>\n",
              "      <td>-32.866636</td>\n",
              "      <td>-68.841144</td>\n",
              "      <td>Argentina</td>\n",
              "      <td>Mendoza</td>\n",
              "      <td>NaN</td>\n",
              "      <td>...</td>\n",
              "      <td>20.0</td>\n",
              "      <td>450.0</td>\n",
              "      <td>450.0</td>\n",
              "      <td>800000.0</td>\n",
              "      <td>USD</td>\n",
              "      <td>Mensual</td>\n",
              "      <td>Edificio Comercial - Capital</td>\n",
              "      <td>Local 450m² con Cloaca en 25 de mayo, Argentin...</td>\n",
              "      <td>Local comercial</td>\n",
              "      <td>Venta</td>\n",
              "    </tr>\n",
              "    <tr>\n",
              "      <th>999999</th>\n",
              "      <td>rEynGyGrrsxNeG0ib5vUBA==</td>\n",
              "      <td>Propiedad</td>\n",
              "      <td>2020-12-04</td>\n",
              "      <td>2020-12-21</td>\n",
              "      <td>2020-12-04</td>\n",
              "      <td>-34.447524</td>\n",
              "      <td>-58.631552</td>\n",
              "      <td>Argentina</td>\n",
              "      <td>Bs.As. G.B.A. Zona Norte</td>\n",
              "      <td>Tigre</td>\n",
              "      <td>...</td>\n",
              "      <td>4.0</td>\n",
              "      <td>350.0</td>\n",
              "      <td>300.0</td>\n",
              "      <td>7000.0</td>\n",
              "      <td>USD</td>\n",
              "      <td>Mensual</td>\n",
              "      <td>INCREÍBLE ECASA A LA LAGUNA DESDE DIC a FEBRER...</td>\n",
              "      <td>ESPECTACULAR CASA A LA LAGUNA  -BARRIO SANTA B...</td>\n",
              "      <td>Casa</td>\n",
              "      <td>Alquiler temporal</td>\n",
              "    </tr>\n",
              "  </tbody>\n",
              "</table>\n",
              "<p>5 rows × 25 columns</p>\n",
              "</div>\n",
              "      <button class=\"colab-df-convert\" onclick=\"convertToInteractive('df-6882cb29-0093-429c-965a-4acb208ae2cf')\"\n",
              "              title=\"Convert this dataframe to an interactive table.\"\n",
              "              style=\"display:none;\">\n",
              "        \n",
              "  <svg xmlns=\"http://www.w3.org/2000/svg\" height=\"24px\"viewBox=\"0 0 24 24\"\n",
              "       width=\"24px\">\n",
              "    <path d=\"M0 0h24v24H0V0z\" fill=\"none\"/>\n",
              "    <path d=\"M18.56 5.44l.94 2.06.94-2.06 2.06-.94-2.06-.94-.94-2.06-.94 2.06-2.06.94zm-11 1L8.5 8.5l.94-2.06 2.06-.94-2.06-.94L8.5 2.5l-.94 2.06-2.06.94zm10 10l.94 2.06.94-2.06 2.06-.94-2.06-.94-.94-2.06-.94 2.06-2.06.94z\"/><path d=\"M17.41 7.96l-1.37-1.37c-.4-.4-.92-.59-1.43-.59-.52 0-1.04.2-1.43.59L10.3 9.45l-7.72 7.72c-.78.78-.78 2.05 0 2.83L4 21.41c.39.39.9.59 1.41.59.51 0 1.02-.2 1.41-.59l7.78-7.78 2.81-2.81c.8-.78.8-2.07 0-2.86zM5.41 20L4 18.59l7.72-7.72 1.47 1.35L5.41 20z\"/>\n",
              "  </svg>\n",
              "      </button>\n",
              "      \n",
              "  <style>\n",
              "    .colab-df-container {\n",
              "      display:flex;\n",
              "      flex-wrap:wrap;\n",
              "      gap: 12px;\n",
              "    }\n",
              "\n",
              "    .colab-df-convert {\n",
              "      background-color: #E8F0FE;\n",
              "      border: none;\n",
              "      border-radius: 50%;\n",
              "      cursor: pointer;\n",
              "      display: none;\n",
              "      fill: #1967D2;\n",
              "      height: 32px;\n",
              "      padding: 0 0 0 0;\n",
              "      width: 32px;\n",
              "    }\n",
              "\n",
              "    .colab-df-convert:hover {\n",
              "      background-color: #E2EBFA;\n",
              "      box-shadow: 0px 1px 2px rgba(60, 64, 67, 0.3), 0px 1px 3px 1px rgba(60, 64, 67, 0.15);\n",
              "      fill: #174EA6;\n",
              "    }\n",
              "\n",
              "    [theme=dark] .colab-df-convert {\n",
              "      background-color: #3B4455;\n",
              "      fill: #D2E3FC;\n",
              "    }\n",
              "\n",
              "    [theme=dark] .colab-df-convert:hover {\n",
              "      background-color: #434B5C;\n",
              "      box-shadow: 0px 1px 3px 1px rgba(0, 0, 0, 0.15);\n",
              "      filter: drop-shadow(0px 1px 2px rgba(0, 0, 0, 0.3));\n",
              "      fill: #FFFFFF;\n",
              "    }\n",
              "  </style>\n",
              "\n",
              "      <script>\n",
              "        const buttonEl =\n",
              "          document.querySelector('#df-6882cb29-0093-429c-965a-4acb208ae2cf button.colab-df-convert');\n",
              "        buttonEl.style.display =\n",
              "          google.colab.kernel.accessAllowed ? 'block' : 'none';\n",
              "\n",
              "        async function convertToInteractive(key) {\n",
              "          const element = document.querySelector('#df-6882cb29-0093-429c-965a-4acb208ae2cf');\n",
              "          const dataTable =\n",
              "            await google.colab.kernel.invokeFunction('convertToInteractive',\n",
              "                                                     [key], {});\n",
              "          if (!dataTable) return;\n",
              "\n",
              "          const docLinkHtml = 'Like what you see? Visit the ' +\n",
              "            '<a target=\"_blank\" href=https://colab.research.google.com/notebooks/data_table.ipynb>data table notebook</a>'\n",
              "            + ' to learn more about interactive tables.';\n",
              "          element.innerHTML = '';\n",
              "          dataTable['output_type'] = 'display_data';\n",
              "          await google.colab.output.renderOutput(dataTable, element);\n",
              "          const docLink = document.createElement('div');\n",
              "          docLink.innerHTML = docLinkHtml;\n",
              "          element.appendChild(docLink);\n",
              "        }\n",
              "      </script>\n",
              "    </div>\n",
              "  </div>\n",
              "  "
            ]
          },
          "metadata": {},
          "execution_count": 7
        }
      ],
      "source": [
        "prop.tail()"
      ]
    },
    {
      "cell_type": "markdown",
      "id": "fb67d753",
      "metadata": {
        "id": "fb67d753"
      },
      "source": [
        "***Imprimir la cantidad de filas y columnas del dataframe***"
      ]
    },
    {
      "cell_type": "code",
      "execution_count": 8,
      "id": "be399657",
      "metadata": {
        "id": "be399657"
      },
      "outputs": [],
      "source": [
        "prop.shape\n",
        "fil = prop.shape[0]\n",
        "col = prop.shape[1]"
      ]
    },
    {
      "cell_type": "code",
      "execution_count": 9,
      "id": "03744831",
      "metadata": {
        "colab": {
          "base_uri": "https://localhost:8080/"
        },
        "id": "03744831",
        "outputId": "274f3023-30f8-4c11-ad4e-df79992aac29"
      },
      "outputs": [
        {
          "output_type": "stream",
          "name": "stdout",
          "text": [
            "El dataframe tiene 1000000 filas y 25 columnas\n"
          ]
        }
      ],
      "source": [
        "print(f\"El dataframe tiene {fil} filas y {col} columnas\")"
      ]
    },
    {
      "cell_type": "markdown",
      "id": "q0M9SYUC1eML",
      "metadata": {
        "id": "q0M9SYUC1eML"
      },
      "source": [
        "***Usar info***"
      ]
    },
    {
      "cell_type": "code",
      "execution_count": 10,
      "id": "3uG9R1_o1gPQ",
      "metadata": {
        "id": "3uG9R1_o1gPQ",
        "colab": {
          "base_uri": "https://localhost:8080/"
        },
        "outputId": "28571c5d-a35b-40ba-9542-d9a66de70854"
      },
      "outputs": [
        {
          "output_type": "stream",
          "name": "stdout",
          "text": [
            "<class 'pandas.core.frame.DataFrame'>\n",
            "RangeIndex: 1000000 entries, 0 to 999999\n",
            "Data columns (total 25 columns):\n",
            " #   Column           Non-Null Count    Dtype  \n",
            "---  ------           --------------    -----  \n",
            " 0   id               1000000 non-null  object \n",
            " 1   ad_type          1000000 non-null  object \n",
            " 2   start_date       1000000 non-null  object \n",
            " 3   end_date         1000000 non-null  object \n",
            " 4   created_on       1000000 non-null  object \n",
            " 5   lat              894233 non-null   float64\n",
            " 6   lon              894191 non-null   float64\n",
            " 7   l1               1000000 non-null  object \n",
            " 8   l2               1000000 non-null  object \n",
            " 9   l3               965273 non-null   object \n",
            " 10  l4               306162 non-null   object \n",
            " 11  l5               5530 non-null     object \n",
            " 12  l6               0 non-null        float64\n",
            " 13  rooms            714179 non-null   float64\n",
            " 14  bedrooms         649933 non-null   float64\n",
            " 15  bathrooms        765122 non-null   float64\n",
            " 16  surface_total    477831 non-null   float64\n",
            " 17  surface_covered  487756 non-null   float64\n",
            " 18  price            958243 non-null   float64\n",
            " 19  currency         955491 non-null   object \n",
            " 20  price_period     429870 non-null   object \n",
            " 21  title            999999 non-null   object \n",
            " 22  description      999958 non-null   object \n",
            " 23  property_type    1000000 non-null  object \n",
            " 24  operation_type   1000000 non-null  object \n",
            "dtypes: float64(9), object(16)\n",
            "memory usage: 190.7+ MB\n"
          ]
        }
      ],
      "source": [
        "prop.info()"
      ]
    },
    {
      "cell_type": "markdown",
      "id": "tgtDPClI1G8R",
      "metadata": {
        "id": "tgtDPClI1G8R"
      },
      "source": [
        "***Usar describe para variables cuantitativas y mostrar el resumen con dos decimales y transpuesto (transposicion)***"
      ]
    },
    {
      "cell_type": "code",
      "source": [
        "round(prop.describe(), 2).T"
      ],
      "metadata": {
        "colab": {
          "base_uri": "https://localhost:8080/",
          "height": 328
        },
        "id": "izm3d1P36kXb",
        "outputId": "638d0a19-de3b-48fa-c040-45c01b1d1dd0"
      },
      "id": "izm3d1P36kXb",
      "execution_count": 11,
      "outputs": [
        {
          "output_type": "execute_result",
          "data": {
            "text/plain": [
              "                    count       mean         std     min       25%       50%  \\\n",
              "lat              894233.0     -34.38        3.04  -54.84    -34.72    -34.59   \n",
              "lon              894191.0     -59.49        2.80 -122.54    -58.88    -58.49   \n",
              "l6                    0.0        NaN         NaN     NaN       NaN       NaN   \n",
              "rooms            714179.0       2.92        1.74    1.00      2.00      3.00   \n",
              "bedrooms         649933.0       2.10        2.08  -16.00      1.00      2.00   \n",
              "bathrooms        765122.0       1.71        1.09    1.00      1.00      1.00   \n",
              "surface_total    477831.0     513.76     4297.24 -136.00     50.00     95.00   \n",
              "surface_covered  487756.0   11656.22  4443191.26 -130.00     45.00     78.00   \n",
              "price            958243.0  346094.02  5713689.88    0.00  38000.00  97000.00   \n",
              "\n",
              "                       75%           max  \n",
              "lat                 -34.42  4.963000e+01  \n",
              "lon                 -58.40  1.800000e+02  \n",
              "l6                     NaN           NaN  \n",
              "rooms                 4.00  4.000000e+01  \n",
              "bedrooms              3.00  9.000000e+02  \n",
              "bathrooms             2.00  2.000000e+01  \n",
              "surface_total       250.00  2.000000e+05  \n",
              "surface_covered     168.00  2.147484e+09  \n",
              "price            210000.00  3.100000e+09  "
            ],
            "text/html": [
              "\n",
              "  <div id=\"df-c65e49e8-736f-4813-8f1b-9355e9236a91\">\n",
              "    <div class=\"colab-df-container\">\n",
              "      <div>\n",
              "<style scoped>\n",
              "    .dataframe tbody tr th:only-of-type {\n",
              "        vertical-align: middle;\n",
              "    }\n",
              "\n",
              "    .dataframe tbody tr th {\n",
              "        vertical-align: top;\n",
              "    }\n",
              "\n",
              "    .dataframe thead th {\n",
              "        text-align: right;\n",
              "    }\n",
              "</style>\n",
              "<table border=\"1\" class=\"dataframe\">\n",
              "  <thead>\n",
              "    <tr style=\"text-align: right;\">\n",
              "      <th></th>\n",
              "      <th>count</th>\n",
              "      <th>mean</th>\n",
              "      <th>std</th>\n",
              "      <th>min</th>\n",
              "      <th>25%</th>\n",
              "      <th>50%</th>\n",
              "      <th>75%</th>\n",
              "      <th>max</th>\n",
              "    </tr>\n",
              "  </thead>\n",
              "  <tbody>\n",
              "    <tr>\n",
              "      <th>lat</th>\n",
              "      <td>894233.0</td>\n",
              "      <td>-34.38</td>\n",
              "      <td>3.04</td>\n",
              "      <td>-54.84</td>\n",
              "      <td>-34.72</td>\n",
              "      <td>-34.59</td>\n",
              "      <td>-34.42</td>\n",
              "      <td>4.963000e+01</td>\n",
              "    </tr>\n",
              "    <tr>\n",
              "      <th>lon</th>\n",
              "      <td>894191.0</td>\n",
              "      <td>-59.49</td>\n",
              "      <td>2.80</td>\n",
              "      <td>-122.54</td>\n",
              "      <td>-58.88</td>\n",
              "      <td>-58.49</td>\n",
              "      <td>-58.40</td>\n",
              "      <td>1.800000e+02</td>\n",
              "    </tr>\n",
              "    <tr>\n",
              "      <th>l6</th>\n",
              "      <td>0.0</td>\n",
              "      <td>NaN</td>\n",
              "      <td>NaN</td>\n",
              "      <td>NaN</td>\n",
              "      <td>NaN</td>\n",
              "      <td>NaN</td>\n",
              "      <td>NaN</td>\n",
              "      <td>NaN</td>\n",
              "    </tr>\n",
              "    <tr>\n",
              "      <th>rooms</th>\n",
              "      <td>714179.0</td>\n",
              "      <td>2.92</td>\n",
              "      <td>1.74</td>\n",
              "      <td>1.00</td>\n",
              "      <td>2.00</td>\n",
              "      <td>3.00</td>\n",
              "      <td>4.00</td>\n",
              "      <td>4.000000e+01</td>\n",
              "    </tr>\n",
              "    <tr>\n",
              "      <th>bedrooms</th>\n",
              "      <td>649933.0</td>\n",
              "      <td>2.10</td>\n",
              "      <td>2.08</td>\n",
              "      <td>-16.00</td>\n",
              "      <td>1.00</td>\n",
              "      <td>2.00</td>\n",
              "      <td>3.00</td>\n",
              "      <td>9.000000e+02</td>\n",
              "    </tr>\n",
              "    <tr>\n",
              "      <th>bathrooms</th>\n",
              "      <td>765122.0</td>\n",
              "      <td>1.71</td>\n",
              "      <td>1.09</td>\n",
              "      <td>1.00</td>\n",
              "      <td>1.00</td>\n",
              "      <td>1.00</td>\n",
              "      <td>2.00</td>\n",
              "      <td>2.000000e+01</td>\n",
              "    </tr>\n",
              "    <tr>\n",
              "      <th>surface_total</th>\n",
              "      <td>477831.0</td>\n",
              "      <td>513.76</td>\n",
              "      <td>4297.24</td>\n",
              "      <td>-136.00</td>\n",
              "      <td>50.00</td>\n",
              "      <td>95.00</td>\n",
              "      <td>250.00</td>\n",
              "      <td>2.000000e+05</td>\n",
              "    </tr>\n",
              "    <tr>\n",
              "      <th>surface_covered</th>\n",
              "      <td>487756.0</td>\n",
              "      <td>11656.22</td>\n",
              "      <td>4443191.26</td>\n",
              "      <td>-130.00</td>\n",
              "      <td>45.00</td>\n",
              "      <td>78.00</td>\n",
              "      <td>168.00</td>\n",
              "      <td>2.147484e+09</td>\n",
              "    </tr>\n",
              "    <tr>\n",
              "      <th>price</th>\n",
              "      <td>958243.0</td>\n",
              "      <td>346094.02</td>\n",
              "      <td>5713689.88</td>\n",
              "      <td>0.00</td>\n",
              "      <td>38000.00</td>\n",
              "      <td>97000.00</td>\n",
              "      <td>210000.00</td>\n",
              "      <td>3.100000e+09</td>\n",
              "    </tr>\n",
              "  </tbody>\n",
              "</table>\n",
              "</div>\n",
              "      <button class=\"colab-df-convert\" onclick=\"convertToInteractive('df-c65e49e8-736f-4813-8f1b-9355e9236a91')\"\n",
              "              title=\"Convert this dataframe to an interactive table.\"\n",
              "              style=\"display:none;\">\n",
              "        \n",
              "  <svg xmlns=\"http://www.w3.org/2000/svg\" height=\"24px\"viewBox=\"0 0 24 24\"\n",
              "       width=\"24px\">\n",
              "    <path d=\"M0 0h24v24H0V0z\" fill=\"none\"/>\n",
              "    <path d=\"M18.56 5.44l.94 2.06.94-2.06 2.06-.94-2.06-.94-.94-2.06-.94 2.06-2.06.94zm-11 1L8.5 8.5l.94-2.06 2.06-.94-2.06-.94L8.5 2.5l-.94 2.06-2.06.94zm10 10l.94 2.06.94-2.06 2.06-.94-2.06-.94-.94-2.06-.94 2.06-2.06.94z\"/><path d=\"M17.41 7.96l-1.37-1.37c-.4-.4-.92-.59-1.43-.59-.52 0-1.04.2-1.43.59L10.3 9.45l-7.72 7.72c-.78.78-.78 2.05 0 2.83L4 21.41c.39.39.9.59 1.41.59.51 0 1.02-.2 1.41-.59l7.78-7.78 2.81-2.81c.8-.78.8-2.07 0-2.86zM5.41 20L4 18.59l7.72-7.72 1.47 1.35L5.41 20z\"/>\n",
              "  </svg>\n",
              "      </button>\n",
              "      \n",
              "  <style>\n",
              "    .colab-df-container {\n",
              "      display:flex;\n",
              "      flex-wrap:wrap;\n",
              "      gap: 12px;\n",
              "    }\n",
              "\n",
              "    .colab-df-convert {\n",
              "      background-color: #E8F0FE;\n",
              "      border: none;\n",
              "      border-radius: 50%;\n",
              "      cursor: pointer;\n",
              "      display: none;\n",
              "      fill: #1967D2;\n",
              "      height: 32px;\n",
              "      padding: 0 0 0 0;\n",
              "      width: 32px;\n",
              "    }\n",
              "\n",
              "    .colab-df-convert:hover {\n",
              "      background-color: #E2EBFA;\n",
              "      box-shadow: 0px 1px 2px rgba(60, 64, 67, 0.3), 0px 1px 3px 1px rgba(60, 64, 67, 0.15);\n",
              "      fill: #174EA6;\n",
              "    }\n",
              "\n",
              "    [theme=dark] .colab-df-convert {\n",
              "      background-color: #3B4455;\n",
              "      fill: #D2E3FC;\n",
              "    }\n",
              "\n",
              "    [theme=dark] .colab-df-convert:hover {\n",
              "      background-color: #434B5C;\n",
              "      box-shadow: 0px 1px 3px 1px rgba(0, 0, 0, 0.15);\n",
              "      filter: drop-shadow(0px 1px 2px rgba(0, 0, 0, 0.3));\n",
              "      fill: #FFFFFF;\n",
              "    }\n",
              "  </style>\n",
              "\n",
              "      <script>\n",
              "        const buttonEl =\n",
              "          document.querySelector('#df-c65e49e8-736f-4813-8f1b-9355e9236a91 button.colab-df-convert');\n",
              "        buttonEl.style.display =\n",
              "          google.colab.kernel.accessAllowed ? 'block' : 'none';\n",
              "\n",
              "        async function convertToInteractive(key) {\n",
              "          const element = document.querySelector('#df-c65e49e8-736f-4813-8f1b-9355e9236a91');\n",
              "          const dataTable =\n",
              "            await google.colab.kernel.invokeFunction('convertToInteractive',\n",
              "                                                     [key], {});\n",
              "          if (!dataTable) return;\n",
              "\n",
              "          const docLinkHtml = 'Like what you see? Visit the ' +\n",
              "            '<a target=\"_blank\" href=https://colab.research.google.com/notebooks/data_table.ipynb>data table notebook</a>'\n",
              "            + ' to learn more about interactive tables.';\n",
              "          element.innerHTML = '';\n",
              "          dataTable['output_type'] = 'display_data';\n",
              "          await google.colab.output.renderOutput(dataTable, element);\n",
              "          const docLink = document.createElement('div');\n",
              "          docLink.innerHTML = docLinkHtml;\n",
              "          element.appendChild(docLink);\n",
              "        }\n",
              "      </script>\n",
              "    </div>\n",
              "  </div>\n",
              "  "
            ]
          },
          "metadata": {},
          "execution_count": 11
        }
      ]
    },
    {
      "cell_type": "code",
      "execution_count": 12,
      "id": "DUa-RYCz1Htb",
      "metadata": {
        "id": "DUa-RYCz1Htb",
        "colab": {
          "base_uri": "https://localhost:8080/",
          "height": 328
        },
        "outputId": "46ef83f3-d34a-4b7a-dad0-e6cb242b4a24"
      },
      "outputs": [
        {
          "output_type": "execute_result",
          "data": {
            "text/plain": [
              "                    count       mean         std     min       25%       50%  \\\n",
              "lat              894233.0     -34.38        3.04  -54.84    -34.72    -34.59   \n",
              "lon              894191.0     -59.49        2.80 -122.54    -58.88    -58.49   \n",
              "l6                    0.0        NaN         NaN     NaN       NaN       NaN   \n",
              "rooms            714179.0       2.92        1.74    1.00      2.00      3.00   \n",
              "bedrooms         649933.0       2.10        2.08  -16.00      1.00      2.00   \n",
              "bathrooms        765122.0       1.71        1.09    1.00      1.00      1.00   \n",
              "surface_total    477831.0     513.76     4297.24 -136.00     50.00     95.00   \n",
              "surface_covered  487756.0   11656.22  4443191.26 -130.00     45.00     78.00   \n",
              "price            958243.0  346094.02  5713689.88    0.00  38000.00  97000.00   \n",
              "\n",
              "                       75%           max  \n",
              "lat                 -34.42  4.963000e+01  \n",
              "lon                 -58.40  1.800000e+02  \n",
              "l6                     NaN           NaN  \n",
              "rooms                 4.00  4.000000e+01  \n",
              "bedrooms              3.00  9.000000e+02  \n",
              "bathrooms             2.00  2.000000e+01  \n",
              "surface_total       250.00  2.000000e+05  \n",
              "surface_covered     168.00  2.147484e+09  \n",
              "price            210000.00  3.100000e+09  "
            ],
            "text/html": [
              "\n",
              "  <div id=\"df-88168f0e-1162-4154-af22-c40331a42759\">\n",
              "    <div class=\"colab-df-container\">\n",
              "      <div>\n",
              "<style scoped>\n",
              "    .dataframe tbody tr th:only-of-type {\n",
              "        vertical-align: middle;\n",
              "    }\n",
              "\n",
              "    .dataframe tbody tr th {\n",
              "        vertical-align: top;\n",
              "    }\n",
              "\n",
              "    .dataframe thead th {\n",
              "        text-align: right;\n",
              "    }\n",
              "</style>\n",
              "<table border=\"1\" class=\"dataframe\">\n",
              "  <thead>\n",
              "    <tr style=\"text-align: right;\">\n",
              "      <th></th>\n",
              "      <th>count</th>\n",
              "      <th>mean</th>\n",
              "      <th>std</th>\n",
              "      <th>min</th>\n",
              "      <th>25%</th>\n",
              "      <th>50%</th>\n",
              "      <th>75%</th>\n",
              "      <th>max</th>\n",
              "    </tr>\n",
              "  </thead>\n",
              "  <tbody>\n",
              "    <tr>\n",
              "      <th>lat</th>\n",
              "      <td>894233.0</td>\n",
              "      <td>-34.38</td>\n",
              "      <td>3.04</td>\n",
              "      <td>-54.84</td>\n",
              "      <td>-34.72</td>\n",
              "      <td>-34.59</td>\n",
              "      <td>-34.42</td>\n",
              "      <td>4.963000e+01</td>\n",
              "    </tr>\n",
              "    <tr>\n",
              "      <th>lon</th>\n",
              "      <td>894191.0</td>\n",
              "      <td>-59.49</td>\n",
              "      <td>2.80</td>\n",
              "      <td>-122.54</td>\n",
              "      <td>-58.88</td>\n",
              "      <td>-58.49</td>\n",
              "      <td>-58.40</td>\n",
              "      <td>1.800000e+02</td>\n",
              "    </tr>\n",
              "    <tr>\n",
              "      <th>l6</th>\n",
              "      <td>0.0</td>\n",
              "      <td>NaN</td>\n",
              "      <td>NaN</td>\n",
              "      <td>NaN</td>\n",
              "      <td>NaN</td>\n",
              "      <td>NaN</td>\n",
              "      <td>NaN</td>\n",
              "      <td>NaN</td>\n",
              "    </tr>\n",
              "    <tr>\n",
              "      <th>rooms</th>\n",
              "      <td>714179.0</td>\n",
              "      <td>2.92</td>\n",
              "      <td>1.74</td>\n",
              "      <td>1.00</td>\n",
              "      <td>2.00</td>\n",
              "      <td>3.00</td>\n",
              "      <td>4.00</td>\n",
              "      <td>4.000000e+01</td>\n",
              "    </tr>\n",
              "    <tr>\n",
              "      <th>bedrooms</th>\n",
              "      <td>649933.0</td>\n",
              "      <td>2.10</td>\n",
              "      <td>2.08</td>\n",
              "      <td>-16.00</td>\n",
              "      <td>1.00</td>\n",
              "      <td>2.00</td>\n",
              "      <td>3.00</td>\n",
              "      <td>9.000000e+02</td>\n",
              "    </tr>\n",
              "    <tr>\n",
              "      <th>bathrooms</th>\n",
              "      <td>765122.0</td>\n",
              "      <td>1.71</td>\n",
              "      <td>1.09</td>\n",
              "      <td>1.00</td>\n",
              "      <td>1.00</td>\n",
              "      <td>1.00</td>\n",
              "      <td>2.00</td>\n",
              "      <td>2.000000e+01</td>\n",
              "    </tr>\n",
              "    <tr>\n",
              "      <th>surface_total</th>\n",
              "      <td>477831.0</td>\n",
              "      <td>513.76</td>\n",
              "      <td>4297.24</td>\n",
              "      <td>-136.00</td>\n",
              "      <td>50.00</td>\n",
              "      <td>95.00</td>\n",
              "      <td>250.00</td>\n",
              "      <td>2.000000e+05</td>\n",
              "    </tr>\n",
              "    <tr>\n",
              "      <th>surface_covered</th>\n",
              "      <td>487756.0</td>\n",
              "      <td>11656.22</td>\n",
              "      <td>4443191.26</td>\n",
              "      <td>-130.00</td>\n",
              "      <td>45.00</td>\n",
              "      <td>78.00</td>\n",
              "      <td>168.00</td>\n",
              "      <td>2.147484e+09</td>\n",
              "    </tr>\n",
              "    <tr>\n",
              "      <th>price</th>\n",
              "      <td>958243.0</td>\n",
              "      <td>346094.02</td>\n",
              "      <td>5713689.88</td>\n",
              "      <td>0.00</td>\n",
              "      <td>38000.00</td>\n",
              "      <td>97000.00</td>\n",
              "      <td>210000.00</td>\n",
              "      <td>3.100000e+09</td>\n",
              "    </tr>\n",
              "  </tbody>\n",
              "</table>\n",
              "</div>\n",
              "      <button class=\"colab-df-convert\" onclick=\"convertToInteractive('df-88168f0e-1162-4154-af22-c40331a42759')\"\n",
              "              title=\"Convert this dataframe to an interactive table.\"\n",
              "              style=\"display:none;\">\n",
              "        \n",
              "  <svg xmlns=\"http://www.w3.org/2000/svg\" height=\"24px\"viewBox=\"0 0 24 24\"\n",
              "       width=\"24px\">\n",
              "    <path d=\"M0 0h24v24H0V0z\" fill=\"none\"/>\n",
              "    <path d=\"M18.56 5.44l.94 2.06.94-2.06 2.06-.94-2.06-.94-.94-2.06-.94 2.06-2.06.94zm-11 1L8.5 8.5l.94-2.06 2.06-.94-2.06-.94L8.5 2.5l-.94 2.06-2.06.94zm10 10l.94 2.06.94-2.06 2.06-.94-2.06-.94-.94-2.06-.94 2.06-2.06.94z\"/><path d=\"M17.41 7.96l-1.37-1.37c-.4-.4-.92-.59-1.43-.59-.52 0-1.04.2-1.43.59L10.3 9.45l-7.72 7.72c-.78.78-.78 2.05 0 2.83L4 21.41c.39.39.9.59 1.41.59.51 0 1.02-.2 1.41-.59l7.78-7.78 2.81-2.81c.8-.78.8-2.07 0-2.86zM5.41 20L4 18.59l7.72-7.72 1.47 1.35L5.41 20z\"/>\n",
              "  </svg>\n",
              "      </button>\n",
              "      \n",
              "  <style>\n",
              "    .colab-df-container {\n",
              "      display:flex;\n",
              "      flex-wrap:wrap;\n",
              "      gap: 12px;\n",
              "    }\n",
              "\n",
              "    .colab-df-convert {\n",
              "      background-color: #E8F0FE;\n",
              "      border: none;\n",
              "      border-radius: 50%;\n",
              "      cursor: pointer;\n",
              "      display: none;\n",
              "      fill: #1967D2;\n",
              "      height: 32px;\n",
              "      padding: 0 0 0 0;\n",
              "      width: 32px;\n",
              "    }\n",
              "\n",
              "    .colab-df-convert:hover {\n",
              "      background-color: #E2EBFA;\n",
              "      box-shadow: 0px 1px 2px rgba(60, 64, 67, 0.3), 0px 1px 3px 1px rgba(60, 64, 67, 0.15);\n",
              "      fill: #174EA6;\n",
              "    }\n",
              "\n",
              "    [theme=dark] .colab-df-convert {\n",
              "      background-color: #3B4455;\n",
              "      fill: #D2E3FC;\n",
              "    }\n",
              "\n",
              "    [theme=dark] .colab-df-convert:hover {\n",
              "      background-color: #434B5C;\n",
              "      box-shadow: 0px 1px 3px 1px rgba(0, 0, 0, 0.15);\n",
              "      filter: drop-shadow(0px 1px 2px rgba(0, 0, 0, 0.3));\n",
              "      fill: #FFFFFF;\n",
              "    }\n",
              "  </style>\n",
              "\n",
              "      <script>\n",
              "        const buttonEl =\n",
              "          document.querySelector('#df-88168f0e-1162-4154-af22-c40331a42759 button.colab-df-convert');\n",
              "        buttonEl.style.display =\n",
              "          google.colab.kernel.accessAllowed ? 'block' : 'none';\n",
              "\n",
              "        async function convertToInteractive(key) {\n",
              "          const element = document.querySelector('#df-88168f0e-1162-4154-af22-c40331a42759');\n",
              "          const dataTable =\n",
              "            await google.colab.kernel.invokeFunction('convertToInteractive',\n",
              "                                                     [key], {});\n",
              "          if (!dataTable) return;\n",
              "\n",
              "          const docLinkHtml = 'Like what you see? Visit the ' +\n",
              "            '<a target=\"_blank\" href=https://colab.research.google.com/notebooks/data_table.ipynb>data table notebook</a>'\n",
              "            + ' to learn more about interactive tables.';\n",
              "          element.innerHTML = '';\n",
              "          dataTable['output_type'] = 'display_data';\n",
              "          await google.colab.output.renderOutput(dataTable, element);\n",
              "          const docLink = document.createElement('div');\n",
              "          docLink.innerHTML = docLinkHtml;\n",
              "          element.appendChild(docLink);\n",
              "        }\n",
              "      </script>\n",
              "    </div>\n",
              "  </div>\n",
              "  "
            ]
          },
          "metadata": {},
          "execution_count": 12
        }
      ],
      "source": [
        "round(prop.describe().transpose(), 2)"
      ]
    },
    {
      "cell_type": "markdown",
      "id": "_3Y9Etp61Q5N",
      "metadata": {
        "id": "_3Y9Etp61Q5N"
      },
      "source": [
        "***Usar describe para variables cualitativas y mostrar resumen transpuesto***"
      ]
    },
    {
      "cell_type": "code",
      "execution_count": 13,
      "id": "AcEaEYMY1RUr",
      "metadata": {
        "id": "AcEaEYMY1RUr",
        "colab": {
          "base_uri": "https://localhost:8080/",
          "height": 545
        },
        "outputId": "47197751-492c-4c19-f1fe-38c77084c4ac"
      },
      "outputs": [
        {
          "output_type": "execute_result",
          "data": {
            "text/plain": [
              "                  count   unique  \\\n",
              "id              1000000  1000000   \n",
              "ad_type         1000000        1   \n",
              "start_date      1000000      362   \n",
              "end_date        1000000      450   \n",
              "created_on      1000000      362   \n",
              "l1              1000000        4   \n",
              "l2              1000000       43   \n",
              "l3               965273     1367   \n",
              "l4               306162     1070   \n",
              "l5                 5530       21   \n",
              "currency         955491        5   \n",
              "price_period     429870        3   \n",
              "title            999999   548833   \n",
              "description      999958   817449   \n",
              "property_type   1000000       10   \n",
              "operation_type  1000000        3   \n",
              "\n",
              "                                                           top     freq  \n",
              "id                                    DyVXfkpKygVBKuUk5olH+A==        1  \n",
              "ad_type                                              Propiedad  1000000  \n",
              "start_date                                          2020-10-02    25159  \n",
              "end_date                                            9999-12-31   208960  \n",
              "created_on                                          2020-10-02    25159  \n",
              "l1                                                   Argentina   983115  \n",
              "l2                                             Capital Federal   265125  \n",
              "l3                                                     Rosario    61746  \n",
              "l4                                                    Nordelta    19479  \n",
              "l5                                            BarrioPortezuelo      735  \n",
              "currency                                                   USD   738157  \n",
              "price_period                                           Mensual   429842  \n",
              "title                                               casa-venta     3338  \n",
              "description     Departamento en Alquiler de 1 dorm. en Cordoba     1980  \n",
              "property_type                                     Departamento   457907  \n",
              "operation_type                                           Venta   750831  "
            ],
            "text/html": [
              "\n",
              "  <div id=\"df-e30bef30-8295-49e3-bdf7-8ad018ab47e9\">\n",
              "    <div class=\"colab-df-container\">\n",
              "      <div>\n",
              "<style scoped>\n",
              "    .dataframe tbody tr th:only-of-type {\n",
              "        vertical-align: middle;\n",
              "    }\n",
              "\n",
              "    .dataframe tbody tr th {\n",
              "        vertical-align: top;\n",
              "    }\n",
              "\n",
              "    .dataframe thead th {\n",
              "        text-align: right;\n",
              "    }\n",
              "</style>\n",
              "<table border=\"1\" class=\"dataframe\">\n",
              "  <thead>\n",
              "    <tr style=\"text-align: right;\">\n",
              "      <th></th>\n",
              "      <th>count</th>\n",
              "      <th>unique</th>\n",
              "      <th>top</th>\n",
              "      <th>freq</th>\n",
              "    </tr>\n",
              "  </thead>\n",
              "  <tbody>\n",
              "    <tr>\n",
              "      <th>id</th>\n",
              "      <td>1000000</td>\n",
              "      <td>1000000</td>\n",
              "      <td>DyVXfkpKygVBKuUk5olH+A==</td>\n",
              "      <td>1</td>\n",
              "    </tr>\n",
              "    <tr>\n",
              "      <th>ad_type</th>\n",
              "      <td>1000000</td>\n",
              "      <td>1</td>\n",
              "      <td>Propiedad</td>\n",
              "      <td>1000000</td>\n",
              "    </tr>\n",
              "    <tr>\n",
              "      <th>start_date</th>\n",
              "      <td>1000000</td>\n",
              "      <td>362</td>\n",
              "      <td>2020-10-02</td>\n",
              "      <td>25159</td>\n",
              "    </tr>\n",
              "    <tr>\n",
              "      <th>end_date</th>\n",
              "      <td>1000000</td>\n",
              "      <td>450</td>\n",
              "      <td>9999-12-31</td>\n",
              "      <td>208960</td>\n",
              "    </tr>\n",
              "    <tr>\n",
              "      <th>created_on</th>\n",
              "      <td>1000000</td>\n",
              "      <td>362</td>\n",
              "      <td>2020-10-02</td>\n",
              "      <td>25159</td>\n",
              "    </tr>\n",
              "    <tr>\n",
              "      <th>l1</th>\n",
              "      <td>1000000</td>\n",
              "      <td>4</td>\n",
              "      <td>Argentina</td>\n",
              "      <td>983115</td>\n",
              "    </tr>\n",
              "    <tr>\n",
              "      <th>l2</th>\n",
              "      <td>1000000</td>\n",
              "      <td>43</td>\n",
              "      <td>Capital Federal</td>\n",
              "      <td>265125</td>\n",
              "    </tr>\n",
              "    <tr>\n",
              "      <th>l3</th>\n",
              "      <td>965273</td>\n",
              "      <td>1367</td>\n",
              "      <td>Rosario</td>\n",
              "      <td>61746</td>\n",
              "    </tr>\n",
              "    <tr>\n",
              "      <th>l4</th>\n",
              "      <td>306162</td>\n",
              "      <td>1070</td>\n",
              "      <td>Nordelta</td>\n",
              "      <td>19479</td>\n",
              "    </tr>\n",
              "    <tr>\n",
              "      <th>l5</th>\n",
              "      <td>5530</td>\n",
              "      <td>21</td>\n",
              "      <td>BarrioPortezuelo</td>\n",
              "      <td>735</td>\n",
              "    </tr>\n",
              "    <tr>\n",
              "      <th>currency</th>\n",
              "      <td>955491</td>\n",
              "      <td>5</td>\n",
              "      <td>USD</td>\n",
              "      <td>738157</td>\n",
              "    </tr>\n",
              "    <tr>\n",
              "      <th>price_period</th>\n",
              "      <td>429870</td>\n",
              "      <td>3</td>\n",
              "      <td>Mensual</td>\n",
              "      <td>429842</td>\n",
              "    </tr>\n",
              "    <tr>\n",
              "      <th>title</th>\n",
              "      <td>999999</td>\n",
              "      <td>548833</td>\n",
              "      <td>casa-venta</td>\n",
              "      <td>3338</td>\n",
              "    </tr>\n",
              "    <tr>\n",
              "      <th>description</th>\n",
              "      <td>999958</td>\n",
              "      <td>817449</td>\n",
              "      <td>Departamento en Alquiler de 1 dorm. en Cordoba</td>\n",
              "      <td>1980</td>\n",
              "    </tr>\n",
              "    <tr>\n",
              "      <th>property_type</th>\n",
              "      <td>1000000</td>\n",
              "      <td>10</td>\n",
              "      <td>Departamento</td>\n",
              "      <td>457907</td>\n",
              "    </tr>\n",
              "    <tr>\n",
              "      <th>operation_type</th>\n",
              "      <td>1000000</td>\n",
              "      <td>3</td>\n",
              "      <td>Venta</td>\n",
              "      <td>750831</td>\n",
              "    </tr>\n",
              "  </tbody>\n",
              "</table>\n",
              "</div>\n",
              "      <button class=\"colab-df-convert\" onclick=\"convertToInteractive('df-e30bef30-8295-49e3-bdf7-8ad018ab47e9')\"\n",
              "              title=\"Convert this dataframe to an interactive table.\"\n",
              "              style=\"display:none;\">\n",
              "        \n",
              "  <svg xmlns=\"http://www.w3.org/2000/svg\" height=\"24px\"viewBox=\"0 0 24 24\"\n",
              "       width=\"24px\">\n",
              "    <path d=\"M0 0h24v24H0V0z\" fill=\"none\"/>\n",
              "    <path d=\"M18.56 5.44l.94 2.06.94-2.06 2.06-.94-2.06-.94-.94-2.06-.94 2.06-2.06.94zm-11 1L8.5 8.5l.94-2.06 2.06-.94-2.06-.94L8.5 2.5l-.94 2.06-2.06.94zm10 10l.94 2.06.94-2.06 2.06-.94-2.06-.94-.94-2.06-.94 2.06-2.06.94z\"/><path d=\"M17.41 7.96l-1.37-1.37c-.4-.4-.92-.59-1.43-.59-.52 0-1.04.2-1.43.59L10.3 9.45l-7.72 7.72c-.78.78-.78 2.05 0 2.83L4 21.41c.39.39.9.59 1.41.59.51 0 1.02-.2 1.41-.59l7.78-7.78 2.81-2.81c.8-.78.8-2.07 0-2.86zM5.41 20L4 18.59l7.72-7.72 1.47 1.35L5.41 20z\"/>\n",
              "  </svg>\n",
              "      </button>\n",
              "      \n",
              "  <style>\n",
              "    .colab-df-container {\n",
              "      display:flex;\n",
              "      flex-wrap:wrap;\n",
              "      gap: 12px;\n",
              "    }\n",
              "\n",
              "    .colab-df-convert {\n",
              "      background-color: #E8F0FE;\n",
              "      border: none;\n",
              "      border-radius: 50%;\n",
              "      cursor: pointer;\n",
              "      display: none;\n",
              "      fill: #1967D2;\n",
              "      height: 32px;\n",
              "      padding: 0 0 0 0;\n",
              "      width: 32px;\n",
              "    }\n",
              "\n",
              "    .colab-df-convert:hover {\n",
              "      background-color: #E2EBFA;\n",
              "      box-shadow: 0px 1px 2px rgba(60, 64, 67, 0.3), 0px 1px 3px 1px rgba(60, 64, 67, 0.15);\n",
              "      fill: #174EA6;\n",
              "    }\n",
              "\n",
              "    [theme=dark] .colab-df-convert {\n",
              "      background-color: #3B4455;\n",
              "      fill: #D2E3FC;\n",
              "    }\n",
              "\n",
              "    [theme=dark] .colab-df-convert:hover {\n",
              "      background-color: #434B5C;\n",
              "      box-shadow: 0px 1px 3px 1px rgba(0, 0, 0, 0.15);\n",
              "      filter: drop-shadow(0px 1px 2px rgba(0, 0, 0, 0.3));\n",
              "      fill: #FFFFFF;\n",
              "    }\n",
              "  </style>\n",
              "\n",
              "      <script>\n",
              "        const buttonEl =\n",
              "          document.querySelector('#df-e30bef30-8295-49e3-bdf7-8ad018ab47e9 button.colab-df-convert');\n",
              "        buttonEl.style.display =\n",
              "          google.colab.kernel.accessAllowed ? 'block' : 'none';\n",
              "\n",
              "        async function convertToInteractive(key) {\n",
              "          const element = document.querySelector('#df-e30bef30-8295-49e3-bdf7-8ad018ab47e9');\n",
              "          const dataTable =\n",
              "            await google.colab.kernel.invokeFunction('convertToInteractive',\n",
              "                                                     [key], {});\n",
              "          if (!dataTable) return;\n",
              "\n",
              "          const docLinkHtml = 'Like what you see? Visit the ' +\n",
              "            '<a target=\"_blank\" href=https://colab.research.google.com/notebooks/data_table.ipynb>data table notebook</a>'\n",
              "            + ' to learn more about interactive tables.';\n",
              "          element.innerHTML = '';\n",
              "          dataTable['output_type'] = 'display_data';\n",
              "          await google.colab.output.renderOutput(dataTable, element);\n",
              "          const docLink = document.createElement('div');\n",
              "          docLink.innerHTML = docLinkHtml;\n",
              "          element.appendChild(docLink);\n",
              "        }\n",
              "      </script>\n",
              "    </div>\n",
              "  </div>\n",
              "  "
            ]
          },
          "metadata": {},
          "execution_count": 13
        }
      ],
      "source": [
        "prop.describe(include=[object]).transpose()"
      ]
    },
    {
      "cell_type": "code",
      "source": [
        "prop.describe(include=[object]).T"
      ],
      "metadata": {
        "colab": {
          "base_uri": "https://localhost:8080/",
          "height": 545
        },
        "id": "LatgRFN-6z8u",
        "outputId": "1b5e72b6-e0df-46a6-ea09-ecf66dcff4e2"
      },
      "id": "LatgRFN-6z8u",
      "execution_count": 14,
      "outputs": [
        {
          "output_type": "execute_result",
          "data": {
            "text/plain": [
              "                  count   unique  \\\n",
              "id              1000000  1000000   \n",
              "ad_type         1000000        1   \n",
              "start_date      1000000      362   \n",
              "end_date        1000000      450   \n",
              "created_on      1000000      362   \n",
              "l1              1000000        4   \n",
              "l2              1000000       43   \n",
              "l3               965273     1367   \n",
              "l4               306162     1070   \n",
              "l5                 5530       21   \n",
              "currency         955491        5   \n",
              "price_period     429870        3   \n",
              "title            999999   548833   \n",
              "description      999958   817449   \n",
              "property_type   1000000       10   \n",
              "operation_type  1000000        3   \n",
              "\n",
              "                                                           top     freq  \n",
              "id                                    DyVXfkpKygVBKuUk5olH+A==        1  \n",
              "ad_type                                              Propiedad  1000000  \n",
              "start_date                                          2020-10-02    25159  \n",
              "end_date                                            9999-12-31   208960  \n",
              "created_on                                          2020-10-02    25159  \n",
              "l1                                                   Argentina   983115  \n",
              "l2                                             Capital Federal   265125  \n",
              "l3                                                     Rosario    61746  \n",
              "l4                                                    Nordelta    19479  \n",
              "l5                                            BarrioPortezuelo      735  \n",
              "currency                                                   USD   738157  \n",
              "price_period                                           Mensual   429842  \n",
              "title                                               casa-venta     3338  \n",
              "description     Departamento en Alquiler de 1 dorm. en Cordoba     1980  \n",
              "property_type                                     Departamento   457907  \n",
              "operation_type                                           Venta   750831  "
            ],
            "text/html": [
              "\n",
              "  <div id=\"df-513d8414-36e7-4fd6-afde-6c93a14ec675\">\n",
              "    <div class=\"colab-df-container\">\n",
              "      <div>\n",
              "<style scoped>\n",
              "    .dataframe tbody tr th:only-of-type {\n",
              "        vertical-align: middle;\n",
              "    }\n",
              "\n",
              "    .dataframe tbody tr th {\n",
              "        vertical-align: top;\n",
              "    }\n",
              "\n",
              "    .dataframe thead th {\n",
              "        text-align: right;\n",
              "    }\n",
              "</style>\n",
              "<table border=\"1\" class=\"dataframe\">\n",
              "  <thead>\n",
              "    <tr style=\"text-align: right;\">\n",
              "      <th></th>\n",
              "      <th>count</th>\n",
              "      <th>unique</th>\n",
              "      <th>top</th>\n",
              "      <th>freq</th>\n",
              "    </tr>\n",
              "  </thead>\n",
              "  <tbody>\n",
              "    <tr>\n",
              "      <th>id</th>\n",
              "      <td>1000000</td>\n",
              "      <td>1000000</td>\n",
              "      <td>DyVXfkpKygVBKuUk5olH+A==</td>\n",
              "      <td>1</td>\n",
              "    </tr>\n",
              "    <tr>\n",
              "      <th>ad_type</th>\n",
              "      <td>1000000</td>\n",
              "      <td>1</td>\n",
              "      <td>Propiedad</td>\n",
              "      <td>1000000</td>\n",
              "    </tr>\n",
              "    <tr>\n",
              "      <th>start_date</th>\n",
              "      <td>1000000</td>\n",
              "      <td>362</td>\n",
              "      <td>2020-10-02</td>\n",
              "      <td>25159</td>\n",
              "    </tr>\n",
              "    <tr>\n",
              "      <th>end_date</th>\n",
              "      <td>1000000</td>\n",
              "      <td>450</td>\n",
              "      <td>9999-12-31</td>\n",
              "      <td>208960</td>\n",
              "    </tr>\n",
              "    <tr>\n",
              "      <th>created_on</th>\n",
              "      <td>1000000</td>\n",
              "      <td>362</td>\n",
              "      <td>2020-10-02</td>\n",
              "      <td>25159</td>\n",
              "    </tr>\n",
              "    <tr>\n",
              "      <th>l1</th>\n",
              "      <td>1000000</td>\n",
              "      <td>4</td>\n",
              "      <td>Argentina</td>\n",
              "      <td>983115</td>\n",
              "    </tr>\n",
              "    <tr>\n",
              "      <th>l2</th>\n",
              "      <td>1000000</td>\n",
              "      <td>43</td>\n",
              "      <td>Capital Federal</td>\n",
              "      <td>265125</td>\n",
              "    </tr>\n",
              "    <tr>\n",
              "      <th>l3</th>\n",
              "      <td>965273</td>\n",
              "      <td>1367</td>\n",
              "      <td>Rosario</td>\n",
              "      <td>61746</td>\n",
              "    </tr>\n",
              "    <tr>\n",
              "      <th>l4</th>\n",
              "      <td>306162</td>\n",
              "      <td>1070</td>\n",
              "      <td>Nordelta</td>\n",
              "      <td>19479</td>\n",
              "    </tr>\n",
              "    <tr>\n",
              "      <th>l5</th>\n",
              "      <td>5530</td>\n",
              "      <td>21</td>\n",
              "      <td>BarrioPortezuelo</td>\n",
              "      <td>735</td>\n",
              "    </tr>\n",
              "    <tr>\n",
              "      <th>currency</th>\n",
              "      <td>955491</td>\n",
              "      <td>5</td>\n",
              "      <td>USD</td>\n",
              "      <td>738157</td>\n",
              "    </tr>\n",
              "    <tr>\n",
              "      <th>price_period</th>\n",
              "      <td>429870</td>\n",
              "      <td>3</td>\n",
              "      <td>Mensual</td>\n",
              "      <td>429842</td>\n",
              "    </tr>\n",
              "    <tr>\n",
              "      <th>title</th>\n",
              "      <td>999999</td>\n",
              "      <td>548833</td>\n",
              "      <td>casa-venta</td>\n",
              "      <td>3338</td>\n",
              "    </tr>\n",
              "    <tr>\n",
              "      <th>description</th>\n",
              "      <td>999958</td>\n",
              "      <td>817449</td>\n",
              "      <td>Departamento en Alquiler de 1 dorm. en Cordoba</td>\n",
              "      <td>1980</td>\n",
              "    </tr>\n",
              "    <tr>\n",
              "      <th>property_type</th>\n",
              "      <td>1000000</td>\n",
              "      <td>10</td>\n",
              "      <td>Departamento</td>\n",
              "      <td>457907</td>\n",
              "    </tr>\n",
              "    <tr>\n",
              "      <th>operation_type</th>\n",
              "      <td>1000000</td>\n",
              "      <td>3</td>\n",
              "      <td>Venta</td>\n",
              "      <td>750831</td>\n",
              "    </tr>\n",
              "  </tbody>\n",
              "</table>\n",
              "</div>\n",
              "      <button class=\"colab-df-convert\" onclick=\"convertToInteractive('df-513d8414-36e7-4fd6-afde-6c93a14ec675')\"\n",
              "              title=\"Convert this dataframe to an interactive table.\"\n",
              "              style=\"display:none;\">\n",
              "        \n",
              "  <svg xmlns=\"http://www.w3.org/2000/svg\" height=\"24px\"viewBox=\"0 0 24 24\"\n",
              "       width=\"24px\">\n",
              "    <path d=\"M0 0h24v24H0V0z\" fill=\"none\"/>\n",
              "    <path d=\"M18.56 5.44l.94 2.06.94-2.06 2.06-.94-2.06-.94-.94-2.06-.94 2.06-2.06.94zm-11 1L8.5 8.5l.94-2.06 2.06-.94-2.06-.94L8.5 2.5l-.94 2.06-2.06.94zm10 10l.94 2.06.94-2.06 2.06-.94-2.06-.94-.94-2.06-.94 2.06-2.06.94z\"/><path d=\"M17.41 7.96l-1.37-1.37c-.4-.4-.92-.59-1.43-.59-.52 0-1.04.2-1.43.59L10.3 9.45l-7.72 7.72c-.78.78-.78 2.05 0 2.83L4 21.41c.39.39.9.59 1.41.59.51 0 1.02-.2 1.41-.59l7.78-7.78 2.81-2.81c.8-.78.8-2.07 0-2.86zM5.41 20L4 18.59l7.72-7.72 1.47 1.35L5.41 20z\"/>\n",
              "  </svg>\n",
              "      </button>\n",
              "      \n",
              "  <style>\n",
              "    .colab-df-container {\n",
              "      display:flex;\n",
              "      flex-wrap:wrap;\n",
              "      gap: 12px;\n",
              "    }\n",
              "\n",
              "    .colab-df-convert {\n",
              "      background-color: #E8F0FE;\n",
              "      border: none;\n",
              "      border-radius: 50%;\n",
              "      cursor: pointer;\n",
              "      display: none;\n",
              "      fill: #1967D2;\n",
              "      height: 32px;\n",
              "      padding: 0 0 0 0;\n",
              "      width: 32px;\n",
              "    }\n",
              "\n",
              "    .colab-df-convert:hover {\n",
              "      background-color: #E2EBFA;\n",
              "      box-shadow: 0px 1px 2px rgba(60, 64, 67, 0.3), 0px 1px 3px 1px rgba(60, 64, 67, 0.15);\n",
              "      fill: #174EA6;\n",
              "    }\n",
              "\n",
              "    [theme=dark] .colab-df-convert {\n",
              "      background-color: #3B4455;\n",
              "      fill: #D2E3FC;\n",
              "    }\n",
              "\n",
              "    [theme=dark] .colab-df-convert:hover {\n",
              "      background-color: #434B5C;\n",
              "      box-shadow: 0px 1px 3px 1px rgba(0, 0, 0, 0.15);\n",
              "      filter: drop-shadow(0px 1px 2px rgba(0, 0, 0, 0.3));\n",
              "      fill: #FFFFFF;\n",
              "    }\n",
              "  </style>\n",
              "\n",
              "      <script>\n",
              "        const buttonEl =\n",
              "          document.querySelector('#df-513d8414-36e7-4fd6-afde-6c93a14ec675 button.colab-df-convert');\n",
              "        buttonEl.style.display =\n",
              "          google.colab.kernel.accessAllowed ? 'block' : 'none';\n",
              "\n",
              "        async function convertToInteractive(key) {\n",
              "          const element = document.querySelector('#df-513d8414-36e7-4fd6-afde-6c93a14ec675');\n",
              "          const dataTable =\n",
              "            await google.colab.kernel.invokeFunction('convertToInteractive',\n",
              "                                                     [key], {});\n",
              "          if (!dataTable) return;\n",
              "\n",
              "          const docLinkHtml = 'Like what you see? Visit the ' +\n",
              "            '<a target=\"_blank\" href=https://colab.research.google.com/notebooks/data_table.ipynb>data table notebook</a>'\n",
              "            + ' to learn more about interactive tables.';\n",
              "          element.innerHTML = '';\n",
              "          dataTable['output_type'] = 'display_data';\n",
              "          await google.colab.output.renderOutput(dataTable, element);\n",
              "          const docLink = document.createElement('div');\n",
              "          docLink.innerHTML = docLinkHtml;\n",
              "          element.appendChild(docLink);\n",
              "        }\n",
              "      </script>\n",
              "    </div>\n",
              "  </div>\n",
              "  "
            ]
          },
          "metadata": {},
          "execution_count": 14
        }
      ]
    },
    {
      "cell_type": "code",
      "source": [
        "prop.describe(include=[\"object\"]).T"
      ],
      "metadata": {
        "colab": {
          "base_uri": "https://localhost:8080/",
          "height": 545
        },
        "id": "lS0W7Ilc64mm",
        "outputId": "a8bf4ad6-c724-4475-8c5f-2de0cdc4fd83"
      },
      "id": "lS0W7Ilc64mm",
      "execution_count": 15,
      "outputs": [
        {
          "output_type": "execute_result",
          "data": {
            "text/plain": [
              "                  count   unique  \\\n",
              "id              1000000  1000000   \n",
              "ad_type         1000000        1   \n",
              "start_date      1000000      362   \n",
              "end_date        1000000      450   \n",
              "created_on      1000000      362   \n",
              "l1              1000000        4   \n",
              "l2              1000000       43   \n",
              "l3               965273     1367   \n",
              "l4               306162     1070   \n",
              "l5                 5530       21   \n",
              "currency         955491        5   \n",
              "price_period     429870        3   \n",
              "title            999999   548833   \n",
              "description      999958   817449   \n",
              "property_type   1000000       10   \n",
              "operation_type  1000000        3   \n",
              "\n",
              "                                                           top     freq  \n",
              "id                                    DyVXfkpKygVBKuUk5olH+A==        1  \n",
              "ad_type                                              Propiedad  1000000  \n",
              "start_date                                          2020-10-02    25159  \n",
              "end_date                                            9999-12-31   208960  \n",
              "created_on                                          2020-10-02    25159  \n",
              "l1                                                   Argentina   983115  \n",
              "l2                                             Capital Federal   265125  \n",
              "l3                                                     Rosario    61746  \n",
              "l4                                                    Nordelta    19479  \n",
              "l5                                            BarrioPortezuelo      735  \n",
              "currency                                                   USD   738157  \n",
              "price_period                                           Mensual   429842  \n",
              "title                                               casa-venta     3338  \n",
              "description     Departamento en Alquiler de 1 dorm. en Cordoba     1980  \n",
              "property_type                                     Departamento   457907  \n",
              "operation_type                                           Venta   750831  "
            ],
            "text/html": [
              "\n",
              "  <div id=\"df-c75c1c0f-d59d-4a28-9fdd-b6c96de5f38b\">\n",
              "    <div class=\"colab-df-container\">\n",
              "      <div>\n",
              "<style scoped>\n",
              "    .dataframe tbody tr th:only-of-type {\n",
              "        vertical-align: middle;\n",
              "    }\n",
              "\n",
              "    .dataframe tbody tr th {\n",
              "        vertical-align: top;\n",
              "    }\n",
              "\n",
              "    .dataframe thead th {\n",
              "        text-align: right;\n",
              "    }\n",
              "</style>\n",
              "<table border=\"1\" class=\"dataframe\">\n",
              "  <thead>\n",
              "    <tr style=\"text-align: right;\">\n",
              "      <th></th>\n",
              "      <th>count</th>\n",
              "      <th>unique</th>\n",
              "      <th>top</th>\n",
              "      <th>freq</th>\n",
              "    </tr>\n",
              "  </thead>\n",
              "  <tbody>\n",
              "    <tr>\n",
              "      <th>id</th>\n",
              "      <td>1000000</td>\n",
              "      <td>1000000</td>\n",
              "      <td>DyVXfkpKygVBKuUk5olH+A==</td>\n",
              "      <td>1</td>\n",
              "    </tr>\n",
              "    <tr>\n",
              "      <th>ad_type</th>\n",
              "      <td>1000000</td>\n",
              "      <td>1</td>\n",
              "      <td>Propiedad</td>\n",
              "      <td>1000000</td>\n",
              "    </tr>\n",
              "    <tr>\n",
              "      <th>start_date</th>\n",
              "      <td>1000000</td>\n",
              "      <td>362</td>\n",
              "      <td>2020-10-02</td>\n",
              "      <td>25159</td>\n",
              "    </tr>\n",
              "    <tr>\n",
              "      <th>end_date</th>\n",
              "      <td>1000000</td>\n",
              "      <td>450</td>\n",
              "      <td>9999-12-31</td>\n",
              "      <td>208960</td>\n",
              "    </tr>\n",
              "    <tr>\n",
              "      <th>created_on</th>\n",
              "      <td>1000000</td>\n",
              "      <td>362</td>\n",
              "      <td>2020-10-02</td>\n",
              "      <td>25159</td>\n",
              "    </tr>\n",
              "    <tr>\n",
              "      <th>l1</th>\n",
              "      <td>1000000</td>\n",
              "      <td>4</td>\n",
              "      <td>Argentina</td>\n",
              "      <td>983115</td>\n",
              "    </tr>\n",
              "    <tr>\n",
              "      <th>l2</th>\n",
              "      <td>1000000</td>\n",
              "      <td>43</td>\n",
              "      <td>Capital Federal</td>\n",
              "      <td>265125</td>\n",
              "    </tr>\n",
              "    <tr>\n",
              "      <th>l3</th>\n",
              "      <td>965273</td>\n",
              "      <td>1367</td>\n",
              "      <td>Rosario</td>\n",
              "      <td>61746</td>\n",
              "    </tr>\n",
              "    <tr>\n",
              "      <th>l4</th>\n",
              "      <td>306162</td>\n",
              "      <td>1070</td>\n",
              "      <td>Nordelta</td>\n",
              "      <td>19479</td>\n",
              "    </tr>\n",
              "    <tr>\n",
              "      <th>l5</th>\n",
              "      <td>5530</td>\n",
              "      <td>21</td>\n",
              "      <td>BarrioPortezuelo</td>\n",
              "      <td>735</td>\n",
              "    </tr>\n",
              "    <tr>\n",
              "      <th>currency</th>\n",
              "      <td>955491</td>\n",
              "      <td>5</td>\n",
              "      <td>USD</td>\n",
              "      <td>738157</td>\n",
              "    </tr>\n",
              "    <tr>\n",
              "      <th>price_period</th>\n",
              "      <td>429870</td>\n",
              "      <td>3</td>\n",
              "      <td>Mensual</td>\n",
              "      <td>429842</td>\n",
              "    </tr>\n",
              "    <tr>\n",
              "      <th>title</th>\n",
              "      <td>999999</td>\n",
              "      <td>548833</td>\n",
              "      <td>casa-venta</td>\n",
              "      <td>3338</td>\n",
              "    </tr>\n",
              "    <tr>\n",
              "      <th>description</th>\n",
              "      <td>999958</td>\n",
              "      <td>817449</td>\n",
              "      <td>Departamento en Alquiler de 1 dorm. en Cordoba</td>\n",
              "      <td>1980</td>\n",
              "    </tr>\n",
              "    <tr>\n",
              "      <th>property_type</th>\n",
              "      <td>1000000</td>\n",
              "      <td>10</td>\n",
              "      <td>Departamento</td>\n",
              "      <td>457907</td>\n",
              "    </tr>\n",
              "    <tr>\n",
              "      <th>operation_type</th>\n",
              "      <td>1000000</td>\n",
              "      <td>3</td>\n",
              "      <td>Venta</td>\n",
              "      <td>750831</td>\n",
              "    </tr>\n",
              "  </tbody>\n",
              "</table>\n",
              "</div>\n",
              "      <button class=\"colab-df-convert\" onclick=\"convertToInteractive('df-c75c1c0f-d59d-4a28-9fdd-b6c96de5f38b')\"\n",
              "              title=\"Convert this dataframe to an interactive table.\"\n",
              "              style=\"display:none;\">\n",
              "        \n",
              "  <svg xmlns=\"http://www.w3.org/2000/svg\" height=\"24px\"viewBox=\"0 0 24 24\"\n",
              "       width=\"24px\">\n",
              "    <path d=\"M0 0h24v24H0V0z\" fill=\"none\"/>\n",
              "    <path d=\"M18.56 5.44l.94 2.06.94-2.06 2.06-.94-2.06-.94-.94-2.06-.94 2.06-2.06.94zm-11 1L8.5 8.5l.94-2.06 2.06-.94-2.06-.94L8.5 2.5l-.94 2.06-2.06.94zm10 10l.94 2.06.94-2.06 2.06-.94-2.06-.94-.94-2.06-.94 2.06-2.06.94z\"/><path d=\"M17.41 7.96l-1.37-1.37c-.4-.4-.92-.59-1.43-.59-.52 0-1.04.2-1.43.59L10.3 9.45l-7.72 7.72c-.78.78-.78 2.05 0 2.83L4 21.41c.39.39.9.59 1.41.59.51 0 1.02-.2 1.41-.59l7.78-7.78 2.81-2.81c.8-.78.8-2.07 0-2.86zM5.41 20L4 18.59l7.72-7.72 1.47 1.35L5.41 20z\"/>\n",
              "  </svg>\n",
              "      </button>\n",
              "      \n",
              "  <style>\n",
              "    .colab-df-container {\n",
              "      display:flex;\n",
              "      flex-wrap:wrap;\n",
              "      gap: 12px;\n",
              "    }\n",
              "\n",
              "    .colab-df-convert {\n",
              "      background-color: #E8F0FE;\n",
              "      border: none;\n",
              "      border-radius: 50%;\n",
              "      cursor: pointer;\n",
              "      display: none;\n",
              "      fill: #1967D2;\n",
              "      height: 32px;\n",
              "      padding: 0 0 0 0;\n",
              "      width: 32px;\n",
              "    }\n",
              "\n",
              "    .colab-df-convert:hover {\n",
              "      background-color: #E2EBFA;\n",
              "      box-shadow: 0px 1px 2px rgba(60, 64, 67, 0.3), 0px 1px 3px 1px rgba(60, 64, 67, 0.15);\n",
              "      fill: #174EA6;\n",
              "    }\n",
              "\n",
              "    [theme=dark] .colab-df-convert {\n",
              "      background-color: #3B4455;\n",
              "      fill: #D2E3FC;\n",
              "    }\n",
              "\n",
              "    [theme=dark] .colab-df-convert:hover {\n",
              "      background-color: #434B5C;\n",
              "      box-shadow: 0px 1px 3px 1px rgba(0, 0, 0, 0.15);\n",
              "      filter: drop-shadow(0px 1px 2px rgba(0, 0, 0, 0.3));\n",
              "      fill: #FFFFFF;\n",
              "    }\n",
              "  </style>\n",
              "\n",
              "      <script>\n",
              "        const buttonEl =\n",
              "          document.querySelector('#df-c75c1c0f-d59d-4a28-9fdd-b6c96de5f38b button.colab-df-convert');\n",
              "        buttonEl.style.display =\n",
              "          google.colab.kernel.accessAllowed ? 'block' : 'none';\n",
              "\n",
              "        async function convertToInteractive(key) {\n",
              "          const element = document.querySelector('#df-c75c1c0f-d59d-4a28-9fdd-b6c96de5f38b');\n",
              "          const dataTable =\n",
              "            await google.colab.kernel.invokeFunction('convertToInteractive',\n",
              "                                                     [key], {});\n",
              "          if (!dataTable) return;\n",
              "\n",
              "          const docLinkHtml = 'Like what you see? Visit the ' +\n",
              "            '<a target=\"_blank\" href=https://colab.research.google.com/notebooks/data_table.ipynb>data table notebook</a>'\n",
              "            + ' to learn more about interactive tables.';\n",
              "          element.innerHTML = '';\n",
              "          dataTable['output_type'] = 'display_data';\n",
              "          await google.colab.output.renderOutput(dataTable, element);\n",
              "          const docLink = document.createElement('div');\n",
              "          docLink.innerHTML = docLinkHtml;\n",
              "          element.appendChild(docLink);\n",
              "        }\n",
              "      </script>\n",
              "    </div>\n",
              "  </div>\n",
              "  "
            ]
          },
          "metadata": {},
          "execution_count": 15
        }
      ]
    },
    {
      "cell_type": "markdown",
      "id": "WD0CC_fe16mq",
      "metadata": {
        "id": "WD0CC_fe16mq"
      },
      "source": [
        "***Ver si existen valores nulos***"
      ]
    },
    {
      "cell_type": "code",
      "execution_count": 16,
      "id": "arE6F23o2AY8",
      "metadata": {
        "id": "arE6F23o2AY8",
        "colab": {
          "base_uri": "https://localhost:8080/"
        },
        "outputId": "6d301d38-38d5-44b5-fd6d-821c948359e6"
      },
      "outputs": [
        {
          "output_type": "execute_result",
          "data": {
            "text/plain": [
              "l6                 1000000\n",
              "l5                  994470\n",
              "l4                  693838\n",
              "price_period        570130\n",
              "surface_total       522169\n",
              "surface_covered     512244\n",
              "bedrooms            350067\n",
              "rooms               285821\n",
              "bathrooms           234878\n",
              "lon                 105809\n",
              "lat                 105767\n",
              "currency             44509\n",
              "price                41757\n",
              "l3                   34727\n",
              "description             42\n",
              "title                    1\n",
              "property_type            0\n",
              "id                       0\n",
              "ad_type                  0\n",
              "l2                       0\n",
              "l1                       0\n",
              "created_on               0\n",
              "end_date                 0\n",
              "start_date               0\n",
              "operation_type           0\n",
              "dtype: int64"
            ]
          },
          "metadata": {},
          "execution_count": 16
        }
      ],
      "source": [
        "prop.isna().sum().sort_values(ascending = False)"
      ]
    },
    {
      "cell_type": "markdown",
      "id": "8TTCzbtq2A45",
      "metadata": {
        "id": "8TTCzbtq2A45"
      },
      "source": [
        "***Ver si existen valores duplicados***"
      ]
    },
    {
      "cell_type": "code",
      "execution_count": 17,
      "id": "tDliPtfl2EhG",
      "metadata": {
        "id": "tDliPtfl2EhG",
        "colab": {
          "base_uri": "https://localhost:8080/"
        },
        "outputId": "2a6e60cb-db90-4dc5-f146-5dd7c14b930f"
      },
      "outputs": [
        {
          "output_type": "execute_result",
          "data": {
            "text/plain": [
              "0"
            ]
          },
          "metadata": {},
          "execution_count": 17
        }
      ],
      "source": [
        "prop.duplicated().sum()"
      ]
    },
    {
      "cell_type": "markdown",
      "id": "CHx_L_R11kcs",
      "metadata": {
        "id": "CHx_L_R11kcs"
      },
      "source": [
        "## **Limpieza de los Datos**"
      ]
    },
    {
      "cell_type": "markdown",
      "id": "ce7d6dcd",
      "metadata": {
        "id": "ce7d6dcd"
      },
      "source": [
        "***Ver si los nombres de las columnas tienen algun espacio oculto que nos dificulte al tratar de invocarlas, si encontras espacios ocultos eliminar esos espacios ocultos.***"
      ]
    },
    {
      "cell_type": "code",
      "source": [
        "prop.columns"
      ],
      "metadata": {
        "colab": {
          "base_uri": "https://localhost:8080/"
        },
        "id": "UjIrL2Lc7Sok",
        "outputId": "591f2c4b-6714-4eb6-cf2b-405d3fb96f15"
      },
      "id": "UjIrL2Lc7Sok",
      "execution_count": 18,
      "outputs": [
        {
          "output_type": "execute_result",
          "data": {
            "text/plain": [
              "Index(['id', 'ad_type', 'start_date', 'end_date', 'created_on', 'lat', 'lon',\n",
              "       'l1', 'l2', 'l3', 'l4', 'l5', 'l6', 'rooms', 'bedrooms', 'bathrooms',\n",
              "       'surface_total', 'surface_covered', 'price', 'currency', 'price_period',\n",
              "       'title', 'description', 'property_type', 'operation_type'],\n",
              "      dtype='object')"
            ]
          },
          "metadata": {},
          "execution_count": 18
        }
      ]
    },
    {
      "cell_type": "code",
      "execution_count": 19,
      "id": "03cb2d98",
      "metadata": {
        "id": "03cb2d98",
        "colab": {
          "base_uri": "https://localhost:8080/"
        },
        "outputId": "7f4019ed-6aa1-42ca-c392-07042bd68dfe"
      },
      "outputs": [
        {
          "output_type": "execute_result",
          "data": {
            "text/plain": [
              "['id',\n",
              " 'ad_type',\n",
              " 'start_date',\n",
              " 'end_date',\n",
              " 'created_on',\n",
              " 'lat',\n",
              " 'lon',\n",
              " 'l1',\n",
              " 'l2',\n",
              " 'l3',\n",
              " 'l4',\n",
              " 'l5',\n",
              " 'l6',\n",
              " 'rooms',\n",
              " 'bedrooms',\n",
              " 'bathrooms',\n",
              " 'surface_total',\n",
              " 'surface_covered',\n",
              " 'price',\n",
              " 'currency',\n",
              " 'price_period',\n",
              " 'title',\n",
              " 'description',\n",
              " 'property_type',\n",
              " 'operation_type']"
            ]
          },
          "metadata": {},
          "execution_count": 19
        }
      ],
      "source": [
        "list(prop.columns)"
      ]
    },
    {
      "cell_type": "markdown",
      "id": "42978649",
      "metadata": {
        "id": "42978649"
      },
      "source": [
        "***Generar un dataframe o una serie de pandas con el porcentaje de nulos (nan) que tiene cada columna, ordenado del mayor al menor.***"
      ]
    },
    {
      "cell_type": "code",
      "execution_count": 20,
      "id": "0338d1f5",
      "metadata": {
        "id": "0338d1f5",
        "colab": {
          "base_uri": "https://localhost:8080/"
        },
        "outputId": "72e8a961-a756-438e-e429-5feca1717c22"
      },
      "outputs": [
        {
          "output_type": "execute_result",
          "data": {
            "text/plain": [
              "l6                 100.0000\n",
              "l5                  99.4470\n",
              "l4                  69.3838\n",
              "price_period        57.0130\n",
              "surface_total       52.2169\n",
              "surface_covered     51.2244\n",
              "bedrooms            35.0067\n",
              "rooms               28.5821\n",
              "bathrooms           23.4878\n",
              "lon                 10.5809\n",
              "lat                 10.5767\n",
              "currency             4.4509\n",
              "price                4.1757\n",
              "l3                   3.4727\n",
              "description          0.0042\n",
              "title                0.0001\n",
              "property_type        0.0000\n",
              "id                   0.0000\n",
              "ad_type              0.0000\n",
              "l2                   0.0000\n",
              "l1                   0.0000\n",
              "created_on           0.0000\n",
              "end_date             0.0000\n",
              "start_date           0.0000\n",
              "operation_type       0.0000\n",
              "dtype: float64"
            ]
          },
          "metadata": {},
          "execution_count": 20
        }
      ],
      "source": [
        "(prop.isna().sum()*100/prop.shape[0]).sort_values(ascending = False)"
      ]
    },
    {
      "cell_type": "code",
      "source": [
        "round((prop.isna().sum()*100/prop.shape[0]).sort_values(ascending = False),2)"
      ],
      "metadata": {
        "colab": {
          "base_uri": "https://localhost:8080/"
        },
        "id": "j4aoDzz57fki",
        "outputId": "f4ee001f-85d5-4e21-c82a-1421ac17395e"
      },
      "id": "j4aoDzz57fki",
      "execution_count": 21,
      "outputs": [
        {
          "output_type": "execute_result",
          "data": {
            "text/plain": [
              "l6                 100.00\n",
              "l5                  99.45\n",
              "l4                  69.38\n",
              "price_period        57.01\n",
              "surface_total       52.22\n",
              "surface_covered     51.22\n",
              "bedrooms            35.01\n",
              "rooms               28.58\n",
              "bathrooms           23.49\n",
              "lon                 10.58\n",
              "lat                 10.58\n",
              "currency             4.45\n",
              "price                4.18\n",
              "l3                   3.47\n",
              "description          0.00\n",
              "title                0.00\n",
              "property_type        0.00\n",
              "id                   0.00\n",
              "ad_type              0.00\n",
              "l2                   0.00\n",
              "l1                   0.00\n",
              "created_on           0.00\n",
              "end_date             0.00\n",
              "start_date           0.00\n",
              "operation_type       0.00\n",
              "dtype: float64"
            ]
          },
          "metadata": {},
          "execution_count": 21
        }
      ]
    },
    {
      "cell_type": "markdown",
      "id": "c0f5c3ed",
      "metadata": {
        "id": "c0f5c3ed"
      },
      "source": [
        "***Eliminar columnas que tengan mas del $30$% de nulos (nans), luego de este paso deberian quedar $18$ columnas si lo hiciste bien.***"
      ]
    },
    {
      "cell_type": "code",
      "source": [
        "prop.shape"
      ],
      "metadata": {
        "id": "n3W4xGtg7sMf"
      },
      "id": "n3W4xGtg7sMf",
      "execution_count": null,
      "outputs": []
    },
    {
      "cell_type": "code",
      "execution_count": 22,
      "id": "vGxhRnoJKJ8e",
      "metadata": {
        "id": "vGxhRnoJKJ8e"
      },
      "outputs": [],
      "source": [
        "prop.dropna(axis = 1, inplace = True, thresh = int(prop.shape[0] * 0.7))"
      ]
    },
    {
      "cell_type": "code",
      "execution_count": 23,
      "id": "5d790cec",
      "metadata": {
        "colab": {
          "base_uri": "https://localhost:8080/"
        },
        "id": "5d790cec",
        "outputId": "f8dc00dd-9321-4116-a5c7-99dec76f1f94"
      },
      "outputs": [
        {
          "output_type": "execute_result",
          "data": {
            "text/plain": [
              "(1000000, 18)"
            ]
          },
          "metadata": {},
          "execution_count": 23
        }
      ],
      "source": [
        "prop.shape"
      ]
    },
    {
      "cell_type": "markdown",
      "id": "080fb4a6",
      "metadata": {
        "id": "080fb4a6"
      },
      "source": [
        "***Quedarse con solo los registros que tienen un $90$% de sus celdas libres de nulos (nans), luego de este paso deberia quedarte $922772$ registros.***"
      ]
    },
    {
      "cell_type": "code",
      "source": [
        "prop.shape"
      ],
      "metadata": {
        "colab": {
          "base_uri": "https://localhost:8080/"
        },
        "id": "knK0hceO7zzV",
        "outputId": "a4b1e674-1fec-417d-e34f-c73beb80806f"
      },
      "id": "knK0hceO7zzV",
      "execution_count": 24,
      "outputs": [
        {
          "output_type": "execute_result",
          "data": {
            "text/plain": [
              "(1000000, 18)"
            ]
          },
          "metadata": {},
          "execution_count": 24
        }
      ]
    },
    {
      "cell_type": "code",
      "execution_count": 26,
      "id": "-1ex4iUKOI33",
      "metadata": {
        "id": "-1ex4iUKOI33"
      },
      "outputs": [],
      "source": [
        "prop.dropna(axis=0, inplace= True, thresh = int(prop.shape[1] * 0.9))"
      ]
    },
    {
      "cell_type": "code",
      "execution_count": 27,
      "id": "e0ec6367",
      "metadata": {
        "colab": {
          "base_uri": "https://localhost:8080/"
        },
        "id": "e0ec6367",
        "outputId": "2dd9eb2a-b418-4e1c-8c19-1994a9c7fe67"
      },
      "outputs": [
        {
          "output_type": "execute_result",
          "data": {
            "text/plain": [
              "(922772, 18)"
            ]
          },
          "metadata": {},
          "execution_count": 27
        }
      ],
      "source": [
        "prop.shape"
      ]
    },
    {
      "cell_type": "markdown",
      "id": "586f9ec0",
      "metadata": {
        "id": "586f9ec0"
      },
      "source": [
        "***El analisis se realizará sobre el *AMBA*, eliminar todo lo que no sea parte del mismo. Luego de este paso deberian quedarte $617747$ registros.***\n",
        "\n",
        "AMBA es Area Metropolitana de Buenos Aires y comprende:\n",
        "+ Bs. As. Zona Oeste\n",
        "+ Bs. As. Zona Norte\n",
        "+ Bs. As. Zona Sur\n",
        "+ Capital Federal"
      ]
    },
    {
      "cell_type": "code",
      "execution_count": 28,
      "id": "TsTKVIaZn_8I",
      "metadata": {
        "id": "TsTKVIaZn_8I",
        "colab": {
          "base_uri": "https://localhost:8080/"
        },
        "outputId": "d63e9074-eefd-4ddd-ab25-bd7e91679865"
      },
      "outputs": [
        {
          "output_type": "execute_result",
          "data": {
            "text/plain": [
              "array(['Entre Ríos', 'Misiones', 'Santa Fe', 'Bs.As. G.B.A. Zona Oeste',\n",
              "       'Bs.As. G.B.A. Zona Norte', 'Tucumán',\n",
              "       'Buenos Aires Costa Atlántica', 'Chubut', 'Capital Federal',\n",
              "       'Córdoba', 'Buenos Aires Interior', 'Bs.As. G.B.A. Zona Sur',\n",
              "       'San Luis', 'Neuquén', 'Colonia', 'Río Negro', 'Montevideo',\n",
              "       'Maldonado', 'Mendoza', 'Corrientes', 'Salta', 'Florida',\n",
              "       'Tierra Del Fuego', 'Chaco', 'Santa Cruz', 'La Pampa', 'Catamarca',\n",
              "       'Canelones', 'Santiago Del Estero', 'San Juan', 'Miami', 'Jujuy',\n",
              "       'Michigan', 'São Paulo', 'La Rioja', 'Rocha', 'Santa Catarina',\n",
              "       'Pennsylvania', 'Rio Grande do Norte', 'Maryland', 'Formosa',\n",
              "       'Rio de Janeiro', 'California'], dtype=object)"
            ]
          },
          "metadata": {},
          "execution_count": 28
        }
      ],
      "source": [
        "prop['l2'].unique()"
      ]
    },
    {
      "cell_type": "code",
      "execution_count": 29,
      "id": "z_9wVCA8lA5T",
      "metadata": {
        "id": "z_9wVCA8lA5T"
      },
      "outputs": [],
      "source": [
        "prop = prop[(prop['l2'] == 'Capital Federal') | \n",
        "            (prop['l2'] == 'Bs.As. G.B.A. Zona Norte') | \n",
        "            (prop['l2'] == 'Bs.As. G.B.A. Zona Oeste') | \n",
        "            (prop['l2'] == 'Bs.As. G.B.A. Zona Sur')]"
      ]
    },
    {
      "cell_type": "code",
      "source": [
        "prop.shape"
      ],
      "metadata": {
        "colab": {
          "base_uri": "https://localhost:8080/"
        },
        "id": "CcwuyRjZ8ohA",
        "outputId": "9ecf3647-a445-4b50-81a4-01541abbf039"
      },
      "id": "CcwuyRjZ8ohA",
      "execution_count": 30,
      "outputs": [
        {
          "output_type": "execute_result",
          "data": {
            "text/plain": [
              "(617747, 18)"
            ]
          },
          "metadata": {},
          "execution_count": 30
        }
      ]
    },
    {
      "cell_type": "markdown",
      "source": [
        "**PUNTO DE REVISION**\n",
        "\n",
        "**A esta altura el dataframe tiene (617747, 18)**"
      ],
      "metadata": {
        "id": "rm73mpNV8ycq"
      },
      "id": "rm73mpNV8ycq"
    },
    {
      "cell_type": "markdown",
      "id": "586fa634",
      "metadata": {
        "id": "586fa634"
      },
      "source": [
        "***Chequear la columna l1 que representa al pais, deberia existir solo un valor: Argentina. Si hay otros valores eliminarlos***"
      ]
    },
    {
      "cell_type": "code",
      "execution_count": 31,
      "id": "30f98095",
      "metadata": {
        "id": "30f98095",
        "colab": {
          "base_uri": "https://localhost:8080/"
        },
        "outputId": "7204b738-5c92-4557-ea76-2b43681cf630"
      },
      "outputs": [
        {
          "output_type": "execute_result",
          "data": {
            "text/plain": [
              "array(['Argentina'], dtype=object)"
            ]
          },
          "metadata": {},
          "execution_count": 31
        }
      ],
      "source": [
        "prop['l1'].unique()"
      ]
    },
    {
      "cell_type": "markdown",
      "id": "9858fa35",
      "metadata": {
        "id": "9858fa35"
      },
      "source": [
        "***Los registros que tienen el mismo id son de la misma propiedad pero actualizado, quedarse con el mas actualizado, los demas eliminarlos.***"
      ]
    },
    {
      "cell_type": "code",
      "execution_count": 32,
      "id": "_tHfJtloo_IA",
      "metadata": {
        "id": "_tHfJtloo_IA",
        "colab": {
          "base_uri": "https://localhost:8080/"
        },
        "outputId": "54bf2798-4671-4cde-f5c2-961732dfbd24"
      },
      "outputs": [
        {
          "output_type": "execute_result",
          "data": {
            "text/plain": [
              "False    617747\n",
              "Name: id, dtype: int64"
            ]
          },
          "metadata": {},
          "execution_count": 32
        }
      ],
      "source": [
        "(prop['id'].duplicated()).value_counts()"
      ]
    },
    {
      "cell_type": "markdown",
      "id": "7c5da49a",
      "metadata": {
        "id": "7c5da49a"
      },
      "source": [
        "***Eliminar las columnas:***\n",
        "\n",
        "- id porque ya sabemos que todos los registros son diferentes y no vamos a usar esta columna para identificarlos.\n",
        "- l1 porque solo tiene un valor: Argentina. No aporta informacion a los datos.\n",
        "- description y title porque no contamos con herramientas de NLP para volverlas informacion para visualizar o modelizar.\n"
      ]
    },
    {
      "cell_type": "code",
      "execution_count": 33,
      "id": "84b38892",
      "metadata": {
        "id": "84b38892"
      },
      "outputs": [],
      "source": [
        "prop.drop(['id', 'l1', 'description', 'title'], axis=1, inplace=True)"
      ]
    },
    {
      "cell_type": "markdown",
      "id": "8bcb9fdf",
      "metadata": {
        "id": "8bcb9fdf"
      },
      "source": [
        "***Ver los primeros registros del dataframe.***"
      ]
    },
    {
      "cell_type": "code",
      "execution_count": 34,
      "id": "b6211ff9",
      "metadata": {
        "id": "b6211ff9",
        "colab": {
          "base_uri": "https://localhost:8080/",
          "height": 489
        },
        "outputId": "7ef03dbe-e5f3-4589-f561-b0b4ebe1fc9e"
      },
      "outputs": [
        {
          "output_type": "execute_result",
          "data": {
            "text/plain": [
              "      ad_type  start_date    end_date  created_on        lat        lon  \\\n",
              "6   Propiedad  2020-08-22  2020-09-04  2020-08-22 -34.604195 -58.559827   \n",
              "10  Propiedad  2020-08-22  2020-08-25  2020-08-22 -34.439610 -58.629968   \n",
              "16  Propiedad  2020-08-22  2020-09-04  2020-08-22 -34.633053 -58.419906   \n",
              "17  Propiedad  2020-08-22  2020-09-04  2020-08-22 -34.397401 -58.649185   \n",
              "18  Propiedad  2020-08-22  2020-09-04  2020-08-22 -34.397401 -58.649185   \n",
              "\n",
              "                          l2               l3  rooms  bathrooms    price  \\\n",
              "6   Bs.As. G.B.A. Zona Oeste  Tres de Febrero    2.0        1.0      NaN   \n",
              "10  Bs.As. G.B.A. Zona Norte            Tigre    4.0        4.0      NaN   \n",
              "16           Capital Federal            Boedo    NaN        NaN  70000.0   \n",
              "17  Bs.As. G.B.A. Zona Norte            Tigre    NaN        2.0  35000.0   \n",
              "18  Bs.As. G.B.A. Zona Norte            Tigre    NaN        2.0  27000.0   \n",
              "\n",
              "   currency property_type     operation_type  \n",
              "6       NaN  Departamento           Alquiler  \n",
              "10      NaN          Casa  Alquiler temporal  \n",
              "16      ARS       Oficina           Alquiler  \n",
              "17      ARS       Oficina           Alquiler  \n",
              "18      ARS       Oficina           Alquiler  "
            ],
            "text/html": [
              "\n",
              "  <div id=\"df-e02bdca7-e376-4941-a941-5dfb8ea475a3\">\n",
              "    <div class=\"colab-df-container\">\n",
              "      <div>\n",
              "<style scoped>\n",
              "    .dataframe tbody tr th:only-of-type {\n",
              "        vertical-align: middle;\n",
              "    }\n",
              "\n",
              "    .dataframe tbody tr th {\n",
              "        vertical-align: top;\n",
              "    }\n",
              "\n",
              "    .dataframe thead th {\n",
              "        text-align: right;\n",
              "    }\n",
              "</style>\n",
              "<table border=\"1\" class=\"dataframe\">\n",
              "  <thead>\n",
              "    <tr style=\"text-align: right;\">\n",
              "      <th></th>\n",
              "      <th>ad_type</th>\n",
              "      <th>start_date</th>\n",
              "      <th>end_date</th>\n",
              "      <th>created_on</th>\n",
              "      <th>lat</th>\n",
              "      <th>lon</th>\n",
              "      <th>l2</th>\n",
              "      <th>l3</th>\n",
              "      <th>rooms</th>\n",
              "      <th>bathrooms</th>\n",
              "      <th>price</th>\n",
              "      <th>currency</th>\n",
              "      <th>property_type</th>\n",
              "      <th>operation_type</th>\n",
              "    </tr>\n",
              "  </thead>\n",
              "  <tbody>\n",
              "    <tr>\n",
              "      <th>6</th>\n",
              "      <td>Propiedad</td>\n",
              "      <td>2020-08-22</td>\n",
              "      <td>2020-09-04</td>\n",
              "      <td>2020-08-22</td>\n",
              "      <td>-34.604195</td>\n",
              "      <td>-58.559827</td>\n",
              "      <td>Bs.As. G.B.A. Zona Oeste</td>\n",
              "      <td>Tres de Febrero</td>\n",
              "      <td>2.0</td>\n",
              "      <td>1.0</td>\n",
              "      <td>NaN</td>\n",
              "      <td>NaN</td>\n",
              "      <td>Departamento</td>\n",
              "      <td>Alquiler</td>\n",
              "    </tr>\n",
              "    <tr>\n",
              "      <th>10</th>\n",
              "      <td>Propiedad</td>\n",
              "      <td>2020-08-22</td>\n",
              "      <td>2020-08-25</td>\n",
              "      <td>2020-08-22</td>\n",
              "      <td>-34.439610</td>\n",
              "      <td>-58.629968</td>\n",
              "      <td>Bs.As. G.B.A. Zona Norte</td>\n",
              "      <td>Tigre</td>\n",
              "      <td>4.0</td>\n",
              "      <td>4.0</td>\n",
              "      <td>NaN</td>\n",
              "      <td>NaN</td>\n",
              "      <td>Casa</td>\n",
              "      <td>Alquiler temporal</td>\n",
              "    </tr>\n",
              "    <tr>\n",
              "      <th>16</th>\n",
              "      <td>Propiedad</td>\n",
              "      <td>2020-08-22</td>\n",
              "      <td>2020-09-04</td>\n",
              "      <td>2020-08-22</td>\n",
              "      <td>-34.633053</td>\n",
              "      <td>-58.419906</td>\n",
              "      <td>Capital Federal</td>\n",
              "      <td>Boedo</td>\n",
              "      <td>NaN</td>\n",
              "      <td>NaN</td>\n",
              "      <td>70000.0</td>\n",
              "      <td>ARS</td>\n",
              "      <td>Oficina</td>\n",
              "      <td>Alquiler</td>\n",
              "    </tr>\n",
              "    <tr>\n",
              "      <th>17</th>\n",
              "      <td>Propiedad</td>\n",
              "      <td>2020-08-22</td>\n",
              "      <td>2020-09-04</td>\n",
              "      <td>2020-08-22</td>\n",
              "      <td>-34.397401</td>\n",
              "      <td>-58.649185</td>\n",
              "      <td>Bs.As. G.B.A. Zona Norte</td>\n",
              "      <td>Tigre</td>\n",
              "      <td>NaN</td>\n",
              "      <td>2.0</td>\n",
              "      <td>35000.0</td>\n",
              "      <td>ARS</td>\n",
              "      <td>Oficina</td>\n",
              "      <td>Alquiler</td>\n",
              "    </tr>\n",
              "    <tr>\n",
              "      <th>18</th>\n",
              "      <td>Propiedad</td>\n",
              "      <td>2020-08-22</td>\n",
              "      <td>2020-09-04</td>\n",
              "      <td>2020-08-22</td>\n",
              "      <td>-34.397401</td>\n",
              "      <td>-58.649185</td>\n",
              "      <td>Bs.As. G.B.A. Zona Norte</td>\n",
              "      <td>Tigre</td>\n",
              "      <td>NaN</td>\n",
              "      <td>2.0</td>\n",
              "      <td>27000.0</td>\n",
              "      <td>ARS</td>\n",
              "      <td>Oficina</td>\n",
              "      <td>Alquiler</td>\n",
              "    </tr>\n",
              "  </tbody>\n",
              "</table>\n",
              "</div>\n",
              "      <button class=\"colab-df-convert\" onclick=\"convertToInteractive('df-e02bdca7-e376-4941-a941-5dfb8ea475a3')\"\n",
              "              title=\"Convert this dataframe to an interactive table.\"\n",
              "              style=\"display:none;\">\n",
              "        \n",
              "  <svg xmlns=\"http://www.w3.org/2000/svg\" height=\"24px\"viewBox=\"0 0 24 24\"\n",
              "       width=\"24px\">\n",
              "    <path d=\"M0 0h24v24H0V0z\" fill=\"none\"/>\n",
              "    <path d=\"M18.56 5.44l.94 2.06.94-2.06 2.06-.94-2.06-.94-.94-2.06-.94 2.06-2.06.94zm-11 1L8.5 8.5l.94-2.06 2.06-.94-2.06-.94L8.5 2.5l-.94 2.06-2.06.94zm10 10l.94 2.06.94-2.06 2.06-.94-2.06-.94-.94-2.06-.94 2.06-2.06.94z\"/><path d=\"M17.41 7.96l-1.37-1.37c-.4-.4-.92-.59-1.43-.59-.52 0-1.04.2-1.43.59L10.3 9.45l-7.72 7.72c-.78.78-.78 2.05 0 2.83L4 21.41c.39.39.9.59 1.41.59.51 0 1.02-.2 1.41-.59l7.78-7.78 2.81-2.81c.8-.78.8-2.07 0-2.86zM5.41 20L4 18.59l7.72-7.72 1.47 1.35L5.41 20z\"/>\n",
              "  </svg>\n",
              "      </button>\n",
              "      \n",
              "  <style>\n",
              "    .colab-df-container {\n",
              "      display:flex;\n",
              "      flex-wrap:wrap;\n",
              "      gap: 12px;\n",
              "    }\n",
              "\n",
              "    .colab-df-convert {\n",
              "      background-color: #E8F0FE;\n",
              "      border: none;\n",
              "      border-radius: 50%;\n",
              "      cursor: pointer;\n",
              "      display: none;\n",
              "      fill: #1967D2;\n",
              "      height: 32px;\n",
              "      padding: 0 0 0 0;\n",
              "      width: 32px;\n",
              "    }\n",
              "\n",
              "    .colab-df-convert:hover {\n",
              "      background-color: #E2EBFA;\n",
              "      box-shadow: 0px 1px 2px rgba(60, 64, 67, 0.3), 0px 1px 3px 1px rgba(60, 64, 67, 0.15);\n",
              "      fill: #174EA6;\n",
              "    }\n",
              "\n",
              "    [theme=dark] .colab-df-convert {\n",
              "      background-color: #3B4455;\n",
              "      fill: #D2E3FC;\n",
              "    }\n",
              "\n",
              "    [theme=dark] .colab-df-convert:hover {\n",
              "      background-color: #434B5C;\n",
              "      box-shadow: 0px 1px 3px 1px rgba(0, 0, 0, 0.15);\n",
              "      filter: drop-shadow(0px 1px 2px rgba(0, 0, 0, 0.3));\n",
              "      fill: #FFFFFF;\n",
              "    }\n",
              "  </style>\n",
              "\n",
              "      <script>\n",
              "        const buttonEl =\n",
              "          document.querySelector('#df-e02bdca7-e376-4941-a941-5dfb8ea475a3 button.colab-df-convert');\n",
              "        buttonEl.style.display =\n",
              "          google.colab.kernel.accessAllowed ? 'block' : 'none';\n",
              "\n",
              "        async function convertToInteractive(key) {\n",
              "          const element = document.querySelector('#df-e02bdca7-e376-4941-a941-5dfb8ea475a3');\n",
              "          const dataTable =\n",
              "            await google.colab.kernel.invokeFunction('convertToInteractive',\n",
              "                                                     [key], {});\n",
              "          if (!dataTable) return;\n",
              "\n",
              "          const docLinkHtml = 'Like what you see? Visit the ' +\n",
              "            '<a target=\"_blank\" href=https://colab.research.google.com/notebooks/data_table.ipynb>data table notebook</a>'\n",
              "            + ' to learn more about interactive tables.';\n",
              "          element.innerHTML = '';\n",
              "          dataTable['output_type'] = 'display_data';\n",
              "          await google.colab.output.renderOutput(dataTable, element);\n",
              "          const docLink = document.createElement('div');\n",
              "          docLink.innerHTML = docLinkHtml;\n",
              "          element.appendChild(docLink);\n",
              "        }\n",
              "      </script>\n",
              "    </div>\n",
              "  </div>\n",
              "  "
            ]
          },
          "metadata": {},
          "execution_count": 34
        }
      ],
      "source": [
        "prop.head()"
      ]
    },
    {
      "cell_type": "markdown",
      "source": [
        "**PUNTO DE REVISION**\n",
        "\n",
        "**A esta altura el dataframe tiene (617747, 14)**"
      ],
      "metadata": {
        "id": "dZ1-lQ5d9Rsb"
      },
      "id": "dZ1-lQ5d9Rsb"
    },
    {
      "cell_type": "code",
      "source": [
        "prop.shape"
      ],
      "metadata": {
        "colab": {
          "base_uri": "https://localhost:8080/"
        },
        "id": "9vT0vUjp9eI3",
        "outputId": "e503e935-898d-4d1f-dab4-f93c3a84ada5"
      },
      "id": "9vT0vUjp9eI3",
      "execution_count": 35,
      "outputs": [
        {
          "output_type": "execute_result",
          "data": {
            "text/plain": [
              "(617747, 14)"
            ]
          },
          "metadata": {},
          "execution_count": 35
        }
      ]
    },
    {
      "cell_type": "markdown",
      "id": "e415e0d3",
      "metadata": {
        "id": "e415e0d3"
      },
      "source": [
        "***Sospechamos que las columnas start_date y created_on en este caso tienen los mismos valores, chequearlo, si son iguales eliminar la columna created_on***"
      ]
    },
    {
      "cell_type": "code",
      "execution_count": 36,
      "id": "ZXPjuuIGsdOI",
      "metadata": {
        "id": "ZXPjuuIGsdOI",
        "colab": {
          "base_uri": "https://localhost:8080/"
        },
        "outputId": "e5e6fbbe-6261-4ac7-9fdd-7cad3ec9e5c8"
      },
      "outputs": [
        {
          "output_type": "execute_result",
          "data": {
            "text/plain": [
              "True    617747\n",
              "dtype: int64"
            ]
          },
          "metadata": {},
          "execution_count": 36
        }
      ],
      "source": [
        "(prop['start_date'] == prop['created_on']).value_counts()"
      ]
    },
    {
      "cell_type": "code",
      "execution_count": 37,
      "id": "b5f3dc58",
      "metadata": {
        "id": "b5f3dc58"
      },
      "outputs": [],
      "source": [
        "prop.drop(['created_on'], axis=1, inplace=True)"
      ]
    },
    {
      "cell_type": "code",
      "execution_count": 38,
      "id": "fbe286fa",
      "metadata": {
        "colab": {
          "base_uri": "https://localhost:8080/"
        },
        "id": "fbe286fa",
        "outputId": "61f8afd4-1b58-445a-982a-6c3e22adbacc"
      },
      "outputs": [
        {
          "output_type": "execute_result",
          "data": {
            "text/plain": [
              "(617747, 13)"
            ]
          },
          "metadata": {},
          "execution_count": 38
        }
      ],
      "source": [
        "prop.shape"
      ]
    },
    {
      "cell_type": "markdown",
      "id": "5ee883c0",
      "metadata": {
        "id": "5ee883c0"
      },
      "source": [
        "***Ver los primeros registros del dataframe.***"
      ]
    },
    {
      "cell_type": "code",
      "execution_count": 39,
      "id": "05c51f05",
      "metadata": {
        "id": "05c51f05",
        "colab": {
          "base_uri": "https://localhost:8080/",
          "height": 489
        },
        "outputId": "052d1cb9-61ae-4266-fa2d-004862315ae5"
      },
      "outputs": [
        {
          "output_type": "execute_result",
          "data": {
            "text/plain": [
              "      ad_type  start_date    end_date        lat        lon  \\\n",
              "6   Propiedad  2020-08-22  2020-09-04 -34.604195 -58.559827   \n",
              "10  Propiedad  2020-08-22  2020-08-25 -34.439610 -58.629968   \n",
              "16  Propiedad  2020-08-22  2020-09-04 -34.633053 -58.419906   \n",
              "17  Propiedad  2020-08-22  2020-09-04 -34.397401 -58.649185   \n",
              "18  Propiedad  2020-08-22  2020-09-04 -34.397401 -58.649185   \n",
              "\n",
              "                          l2               l3  rooms  bathrooms    price  \\\n",
              "6   Bs.As. G.B.A. Zona Oeste  Tres de Febrero    2.0        1.0      NaN   \n",
              "10  Bs.As. G.B.A. Zona Norte            Tigre    4.0        4.0      NaN   \n",
              "16           Capital Federal            Boedo    NaN        NaN  70000.0   \n",
              "17  Bs.As. G.B.A. Zona Norte            Tigre    NaN        2.0  35000.0   \n",
              "18  Bs.As. G.B.A. Zona Norte            Tigre    NaN        2.0  27000.0   \n",
              "\n",
              "   currency property_type     operation_type  \n",
              "6       NaN  Departamento           Alquiler  \n",
              "10      NaN          Casa  Alquiler temporal  \n",
              "16      ARS       Oficina           Alquiler  \n",
              "17      ARS       Oficina           Alquiler  \n",
              "18      ARS       Oficina           Alquiler  "
            ],
            "text/html": [
              "\n",
              "  <div id=\"df-670c2e21-f3cc-4855-bd0b-a40fc0f11064\">\n",
              "    <div class=\"colab-df-container\">\n",
              "      <div>\n",
              "<style scoped>\n",
              "    .dataframe tbody tr th:only-of-type {\n",
              "        vertical-align: middle;\n",
              "    }\n",
              "\n",
              "    .dataframe tbody tr th {\n",
              "        vertical-align: top;\n",
              "    }\n",
              "\n",
              "    .dataframe thead th {\n",
              "        text-align: right;\n",
              "    }\n",
              "</style>\n",
              "<table border=\"1\" class=\"dataframe\">\n",
              "  <thead>\n",
              "    <tr style=\"text-align: right;\">\n",
              "      <th></th>\n",
              "      <th>ad_type</th>\n",
              "      <th>start_date</th>\n",
              "      <th>end_date</th>\n",
              "      <th>lat</th>\n",
              "      <th>lon</th>\n",
              "      <th>l2</th>\n",
              "      <th>l3</th>\n",
              "      <th>rooms</th>\n",
              "      <th>bathrooms</th>\n",
              "      <th>price</th>\n",
              "      <th>currency</th>\n",
              "      <th>property_type</th>\n",
              "      <th>operation_type</th>\n",
              "    </tr>\n",
              "  </thead>\n",
              "  <tbody>\n",
              "    <tr>\n",
              "      <th>6</th>\n",
              "      <td>Propiedad</td>\n",
              "      <td>2020-08-22</td>\n",
              "      <td>2020-09-04</td>\n",
              "      <td>-34.604195</td>\n",
              "      <td>-58.559827</td>\n",
              "      <td>Bs.As. G.B.A. Zona Oeste</td>\n",
              "      <td>Tres de Febrero</td>\n",
              "      <td>2.0</td>\n",
              "      <td>1.0</td>\n",
              "      <td>NaN</td>\n",
              "      <td>NaN</td>\n",
              "      <td>Departamento</td>\n",
              "      <td>Alquiler</td>\n",
              "    </tr>\n",
              "    <tr>\n",
              "      <th>10</th>\n",
              "      <td>Propiedad</td>\n",
              "      <td>2020-08-22</td>\n",
              "      <td>2020-08-25</td>\n",
              "      <td>-34.439610</td>\n",
              "      <td>-58.629968</td>\n",
              "      <td>Bs.As. G.B.A. Zona Norte</td>\n",
              "      <td>Tigre</td>\n",
              "      <td>4.0</td>\n",
              "      <td>4.0</td>\n",
              "      <td>NaN</td>\n",
              "      <td>NaN</td>\n",
              "      <td>Casa</td>\n",
              "      <td>Alquiler temporal</td>\n",
              "    </tr>\n",
              "    <tr>\n",
              "      <th>16</th>\n",
              "      <td>Propiedad</td>\n",
              "      <td>2020-08-22</td>\n",
              "      <td>2020-09-04</td>\n",
              "      <td>-34.633053</td>\n",
              "      <td>-58.419906</td>\n",
              "      <td>Capital Federal</td>\n",
              "      <td>Boedo</td>\n",
              "      <td>NaN</td>\n",
              "      <td>NaN</td>\n",
              "      <td>70000.0</td>\n",
              "      <td>ARS</td>\n",
              "      <td>Oficina</td>\n",
              "      <td>Alquiler</td>\n",
              "    </tr>\n",
              "    <tr>\n",
              "      <th>17</th>\n",
              "      <td>Propiedad</td>\n",
              "      <td>2020-08-22</td>\n",
              "      <td>2020-09-04</td>\n",
              "      <td>-34.397401</td>\n",
              "      <td>-58.649185</td>\n",
              "      <td>Bs.As. G.B.A. Zona Norte</td>\n",
              "      <td>Tigre</td>\n",
              "      <td>NaN</td>\n",
              "      <td>2.0</td>\n",
              "      <td>35000.0</td>\n",
              "      <td>ARS</td>\n",
              "      <td>Oficina</td>\n",
              "      <td>Alquiler</td>\n",
              "    </tr>\n",
              "    <tr>\n",
              "      <th>18</th>\n",
              "      <td>Propiedad</td>\n",
              "      <td>2020-08-22</td>\n",
              "      <td>2020-09-04</td>\n",
              "      <td>-34.397401</td>\n",
              "      <td>-58.649185</td>\n",
              "      <td>Bs.As. G.B.A. Zona Norte</td>\n",
              "      <td>Tigre</td>\n",
              "      <td>NaN</td>\n",
              "      <td>2.0</td>\n",
              "      <td>27000.0</td>\n",
              "      <td>ARS</td>\n",
              "      <td>Oficina</td>\n",
              "      <td>Alquiler</td>\n",
              "    </tr>\n",
              "  </tbody>\n",
              "</table>\n",
              "</div>\n",
              "      <button class=\"colab-df-convert\" onclick=\"convertToInteractive('df-670c2e21-f3cc-4855-bd0b-a40fc0f11064')\"\n",
              "              title=\"Convert this dataframe to an interactive table.\"\n",
              "              style=\"display:none;\">\n",
              "        \n",
              "  <svg xmlns=\"http://www.w3.org/2000/svg\" height=\"24px\"viewBox=\"0 0 24 24\"\n",
              "       width=\"24px\">\n",
              "    <path d=\"M0 0h24v24H0V0z\" fill=\"none\"/>\n",
              "    <path d=\"M18.56 5.44l.94 2.06.94-2.06 2.06-.94-2.06-.94-.94-2.06-.94 2.06-2.06.94zm-11 1L8.5 8.5l.94-2.06 2.06-.94-2.06-.94L8.5 2.5l-.94 2.06-2.06.94zm10 10l.94 2.06.94-2.06 2.06-.94-2.06-.94-.94-2.06-.94 2.06-2.06.94z\"/><path d=\"M17.41 7.96l-1.37-1.37c-.4-.4-.92-.59-1.43-.59-.52 0-1.04.2-1.43.59L10.3 9.45l-7.72 7.72c-.78.78-.78 2.05 0 2.83L4 21.41c.39.39.9.59 1.41.59.51 0 1.02-.2 1.41-.59l7.78-7.78 2.81-2.81c.8-.78.8-2.07 0-2.86zM5.41 20L4 18.59l7.72-7.72 1.47 1.35L5.41 20z\"/>\n",
              "  </svg>\n",
              "      </button>\n",
              "      \n",
              "  <style>\n",
              "    .colab-df-container {\n",
              "      display:flex;\n",
              "      flex-wrap:wrap;\n",
              "      gap: 12px;\n",
              "    }\n",
              "\n",
              "    .colab-df-convert {\n",
              "      background-color: #E8F0FE;\n",
              "      border: none;\n",
              "      border-radius: 50%;\n",
              "      cursor: pointer;\n",
              "      display: none;\n",
              "      fill: #1967D2;\n",
              "      height: 32px;\n",
              "      padding: 0 0 0 0;\n",
              "      width: 32px;\n",
              "    }\n",
              "\n",
              "    .colab-df-convert:hover {\n",
              "      background-color: #E2EBFA;\n",
              "      box-shadow: 0px 1px 2px rgba(60, 64, 67, 0.3), 0px 1px 3px 1px rgba(60, 64, 67, 0.15);\n",
              "      fill: #174EA6;\n",
              "    }\n",
              "\n",
              "    [theme=dark] .colab-df-convert {\n",
              "      background-color: #3B4455;\n",
              "      fill: #D2E3FC;\n",
              "    }\n",
              "\n",
              "    [theme=dark] .colab-df-convert:hover {\n",
              "      background-color: #434B5C;\n",
              "      box-shadow: 0px 1px 3px 1px rgba(0, 0, 0, 0.15);\n",
              "      filter: drop-shadow(0px 1px 2px rgba(0, 0, 0, 0.3));\n",
              "      fill: #FFFFFF;\n",
              "    }\n",
              "  </style>\n",
              "\n",
              "      <script>\n",
              "        const buttonEl =\n",
              "          document.querySelector('#df-670c2e21-f3cc-4855-bd0b-a40fc0f11064 button.colab-df-convert');\n",
              "        buttonEl.style.display =\n",
              "          google.colab.kernel.accessAllowed ? 'block' : 'none';\n",
              "\n",
              "        async function convertToInteractive(key) {\n",
              "          const element = document.querySelector('#df-670c2e21-f3cc-4855-bd0b-a40fc0f11064');\n",
              "          const dataTable =\n",
              "            await google.colab.kernel.invokeFunction('convertToInteractive',\n",
              "                                                     [key], {});\n",
              "          if (!dataTable) return;\n",
              "\n",
              "          const docLinkHtml = 'Like what you see? Visit the ' +\n",
              "            '<a target=\"_blank\" href=https://colab.research.google.com/notebooks/data_table.ipynb>data table notebook</a>'\n",
              "            + ' to learn more about interactive tables.';\n",
              "          element.innerHTML = '';\n",
              "          dataTable['output_type'] = 'display_data';\n",
              "          await google.colab.output.renderOutput(dataTable, element);\n",
              "          const docLink = document.createElement('div');\n",
              "          docLink.innerHTML = docLinkHtml;\n",
              "          element.appendChild(docLink);\n",
              "        }\n",
              "      </script>\n",
              "    </div>\n",
              "  </div>\n",
              "  "
            ]
          },
          "metadata": {},
          "execution_count": 39
        }
      ],
      "source": [
        "prop.head()"
      ]
    },
    {
      "cell_type": "markdown",
      "source": [
        "**PUNTO DE REVISION**\n",
        "\n",
        "**A esta altura el dataframe tiene (617747, 13)**"
      ],
      "metadata": {
        "id": "HD6YfHyd9vz-"
      },
      "id": "HD6YfHyd9vz-"
    },
    {
      "cell_type": "code",
      "source": [
        "prop.shape"
      ],
      "metadata": {
        "colab": {
          "base_uri": "https://localhost:8080/"
        },
        "id": "7mi8g_yC90j1",
        "outputId": "cd1d15f1-a86b-40ff-d1d4-83c6f1de10a2"
      },
      "id": "7mi8g_yC90j1",
      "execution_count": 40,
      "outputs": [
        {
          "output_type": "execute_result",
          "data": {
            "text/plain": [
              "(617747, 13)"
            ]
          },
          "metadata": {},
          "execution_count": 40
        }
      ]
    },
    {
      "cell_type": "markdown",
      "id": "7e53fc57",
      "metadata": {
        "id": "7e53fc57"
      },
      "source": [
        "***Vamos a analizar la columna ad_type, que tipos de datos unicos tiene, si solo tiene un tipo de dato categorico eliminarla porque no aporta información.***"
      ]
    },
    {
      "cell_type": "code",
      "execution_count": 41,
      "id": "pWj5x42vtH1-",
      "metadata": {
        "id": "pWj5x42vtH1-",
        "colab": {
          "base_uri": "https://localhost:8080/"
        },
        "outputId": "3c9c2174-139a-4dd6-d877-66819190380f"
      },
      "outputs": [
        {
          "output_type": "execute_result",
          "data": {
            "text/plain": [
              "array(['Propiedad'], dtype=object)"
            ]
          },
          "metadata": {},
          "execution_count": 41
        }
      ],
      "source": [
        "prop['ad_type'].unique()"
      ]
    },
    {
      "cell_type": "code",
      "execution_count": 42,
      "id": "045a7ba6",
      "metadata": {
        "id": "045a7ba6"
      },
      "outputs": [],
      "source": [
        "prop.drop(['ad_type'], axis=1, inplace=True)"
      ]
    },
    {
      "cell_type": "markdown",
      "source": [
        "**PUNTO DE REVISION**\n",
        "\n",
        "**A esta altura el dataframe tiene (617747, 12)**"
      ],
      "metadata": {
        "id": "c8a5MLzq-OxA"
      },
      "id": "c8a5MLzq-OxA"
    },
    {
      "cell_type": "code",
      "source": [
        "prop.shape"
      ],
      "metadata": {
        "colab": {
          "base_uri": "https://localhost:8080/"
        },
        "id": "biV5AvGs-Q86",
        "outputId": "1f217612-37b3-4fad-a6a4-48e056f80585"
      },
      "id": "biV5AvGs-Q86",
      "execution_count": 43,
      "outputs": [
        {
          "output_type": "execute_result",
          "data": {
            "text/plain": [
              "(617747, 12)"
            ]
          },
          "metadata": {},
          "execution_count": 43
        }
      ]
    },
    {
      "cell_type": "markdown",
      "source": [
        "# **AMBA**"
      ],
      "metadata": {
        "id": "_3WxDCqm-J4X"
      },
      "id": "_3WxDCqm-J4X"
    },
    {
      "cell_type": "markdown",
      "id": "2c3843a6",
      "metadata": {
        "id": "2c3843a6"
      },
      "source": [
        "***Vamos a analizar la columna l3, para eso primero vamos a filtrar solo los lugares que pertenecen al AMBA, los cuales son:***\n",
        "    \n",
        "```python\n",
        "municipios = ['Ciudad Autónoma de Buenos Aires', 'Almirante Brown', 'Avellaneda', 'Berazategui', 'Esteban Echeverría', 'Ezeiza', 'Florencio Varela', 'General San Martín', 'Hurlingham', 'Ituzaingó', 'José C. Paz', 'La Matanza', 'Lanús', 'Lomas de Zamora', 'Malvinas Argentinas', 'Merlo', 'Moreno', 'Morón', 'Quilmes', 'San Fernando', 'San Isidro', 'San Miguel', 'Tigre', 'Tres de Febrero', 'Vicente López']\n",
        "```\n"
      ]
    },
    {
      "cell_type": "code",
      "execution_count": 44,
      "id": "5696666a",
      "metadata": {
        "id": "5696666a"
      },
      "outputs": [],
      "source": [
        "municipios = ['Ciudad Autónoma de Buenos Aires', 'Almirante Brown', 'Avellaneda', 'Berazategui', 'Esteban Echeverría', 'Ezeiza', 'Florencio Varela', 'General San Martín', 'Hurlingham', 'Ituzaingó', 'José C. Paz', 'La Matanza', 'Lanús', 'Lomas de Zamora', 'Malvinas Argentinas', 'Merlo', 'Moreno', 'Morón', 'Quilmes', 'San Fernando', 'San Isidro', 'San Miguel', 'Tigre', 'Tres de Febrero', 'Vicente López']"
      ]
    },
    {
      "cell_type": "code",
      "source": [
        "prop.loc[~(prop.l3.isin(municipios))].l3.unique()"
      ],
      "metadata": {
        "colab": {
          "base_uri": "https://localhost:8080/"
        },
        "id": "azzl6A-m-fo8",
        "outputId": "6c5ae109-9f69-47de-d001-c9172d258048"
      },
      "id": "azzl6A-m-fo8",
      "execution_count": 45,
      "outputs": [
        {
          "output_type": "execute_result",
          "data": {
            "text/plain": [
              "array(['Boedo', 'Recoleta', 'Balvanera', 'San Nicolás',\n",
              "       'General Rodríguez', 'Almagro', 'Palermo', 'Belgrano', 'La Plata',\n",
              "       'San Cristobal', 'Barrio Norte', 'Constitución', 'Retiro',\n",
              "       'Catalinas', 'Monserrat', 'Tribunales', 'Once', 'Caballito',\n",
              "       'Villa Urquiza', 'Escobar', 'Pilar', 'Nuñez', 'Puerto Madero',\n",
              "       'Floresta', 'Saavedra', 'Chacarita', 'Villa Crespo',\n",
              "       'Villa Pueyrredón', 'Flores', 'Coghlan', 'Congreso',\n",
              "       'Villa Devoto', 'Barracas', 'Colegiales', 'Villa del Parque',\n",
              "       'San Vicente', 'José C Paz', 'Centro / Microcentro', 'San Telmo',\n",
              "       'Monte Castro', 'Villa General Mitre', 'Parque Chacabuco', nan,\n",
              "       'Abasto', 'Marcos Paz', 'Parque Chas', 'Villa Santa Rita',\n",
              "       'Villa Lugano', 'Liniers', 'Mataderos', 'Las Cañitas', 'Paternal',\n",
              "       'Villa Luro', 'Parque Patricios', 'Presidente Perón', 'Agronomía',\n",
              "       'Villa Ortuzar', 'Villa Soldati', 'Parque Centenario', 'Cañuelas',\n",
              "       'Parque Avellaneda', 'Pompeya', 'Boca', 'Villa Real', 'Versalles',\n",
              "       'Velez Sarsfield', 'Villa Riachuelo'], dtype=object)"
            ]
          },
          "metadata": {},
          "execution_count": 45
        }
      ]
    },
    {
      "cell_type": "markdown",
      "id": "af314747",
      "metadata": {
        "id": "af314747"
      },
      "source": [
        "**Sacar de la seleccion anterior los que pertenecen a Capital Federal y los valores NaN, luego ver cuales son los valores unicos de l3 para ver si queda alguno que pertenece a los municipios pero se escribio con alguna diferencia**"
      ]
    },
    {
      "cell_type": "code",
      "execution_count": 47,
      "id": "wgtjS3MyHxqo",
      "metadata": {
        "id": "wgtjS3MyHxqo"
      },
      "outputs": [],
      "source": [
        "capital_federal = list(prop[(prop.l2 == \"Capital Federal\")].l3.unique())"
      ]
    },
    {
      "cell_type": "code",
      "source": [
        "capital_federal"
      ],
      "metadata": {
        "colab": {
          "base_uri": "https://localhost:8080/"
        },
        "id": "blrMXdvi_HU9",
        "outputId": "f76f18ea-e8fc-4232-993d-ed4c717deacd"
      },
      "id": "blrMXdvi_HU9",
      "execution_count": 48,
      "outputs": [
        {
          "output_type": "execute_result",
          "data": {
            "text/plain": [
              "['Boedo',\n",
              " 'Recoleta',\n",
              " 'Balvanera',\n",
              " 'San Nicolás',\n",
              " 'Almagro',\n",
              " 'Palermo',\n",
              " 'Belgrano',\n",
              " 'San Cristobal',\n",
              " 'Barrio Norte',\n",
              " 'Constitución',\n",
              " 'Retiro',\n",
              " 'Catalinas',\n",
              " 'Monserrat',\n",
              " 'Tribunales',\n",
              " 'Once',\n",
              " 'Caballito',\n",
              " 'Villa Urquiza',\n",
              " 'Nuñez',\n",
              " 'Puerto Madero',\n",
              " 'Floresta',\n",
              " 'Saavedra',\n",
              " 'Chacarita',\n",
              " 'Villa Crespo',\n",
              " 'Villa Pueyrredón',\n",
              " 'Flores',\n",
              " 'Coghlan',\n",
              " 'Congreso',\n",
              " 'Villa Devoto',\n",
              " 'Barracas',\n",
              " 'Colegiales',\n",
              " 'Villa del Parque',\n",
              " 'Centro / Microcentro',\n",
              " 'San Telmo',\n",
              " 'Monte Castro',\n",
              " 'Villa General Mitre',\n",
              " 'Parque Chacabuco',\n",
              " nan,\n",
              " 'Abasto',\n",
              " 'Parque Chas',\n",
              " 'Villa Santa Rita',\n",
              " 'Villa Lugano',\n",
              " 'Liniers',\n",
              " 'Mataderos',\n",
              " 'Las Cañitas',\n",
              " 'Paternal',\n",
              " 'Villa Luro',\n",
              " 'Parque Patricios',\n",
              " 'Agronomía',\n",
              " 'Villa Ortuzar',\n",
              " 'Villa Soldati',\n",
              " 'Parque Centenario',\n",
              " 'Parque Avellaneda',\n",
              " 'Pompeya',\n",
              " 'Boca',\n",
              " 'Villa Real',\n",
              " 'Versalles',\n",
              " 'Velez Sarsfield',\n",
              " 'Villa Riachuelo']"
            ]
          },
          "metadata": {},
          "execution_count": 48
        }
      ]
    },
    {
      "cell_type": "markdown",
      "id": "4dcd6099",
      "metadata": {
        "id": "4dcd6099"
      },
      "source": [
        "***Ahora, eliminar todos los registros que no pertenezcan al AMBA, ojo: no eliminar los que tengan valor NaN***"
      ]
    },
    {
      "cell_type": "code",
      "execution_count": 49,
      "id": "81d816ef",
      "metadata": {
        "id": "81d816ef"
      },
      "outputs": [],
      "source": [
        "ambant = ['General Rodríguez',\n",
        " 'La Plata',\n",
        " 'Escobar',\n",
        " 'Pilar',\n",
        " 'San Vicente',\n",
        " 'Marcos Paz',\n",
        " 'Presidente Perón',\n",
        " 'Cañuelas']"
      ]
    },
    {
      "cell_type": "code",
      "source": [
        "prop = prop.loc[~(prop.l3.isin(ambant))]"
      ],
      "metadata": {
        "id": "Gri-ZAxR_noQ"
      },
      "id": "Gri-ZAxR_noQ",
      "execution_count": 51,
      "outputs": []
    },
    {
      "cell_type": "markdown",
      "source": [
        "**PUNTO DE REVISION**\n",
        "\n",
        "**A esta altura el dataframe tiene (528442, 12)**"
      ],
      "metadata": {
        "id": "FyrT39v4_8Mz"
      },
      "id": "FyrT39v4_8Mz"
    },
    {
      "cell_type": "code",
      "execution_count": 52,
      "id": "4ea02b9e",
      "metadata": {
        "colab": {
          "base_uri": "https://localhost:8080/"
        },
        "id": "4ea02b9e",
        "outputId": "5f13a627-670a-4590-fdf3-8090e7b10204"
      },
      "outputs": [
        {
          "output_type": "execute_result",
          "data": {
            "text/plain": [
              "(528442, 12)"
            ]
          },
          "metadata": {},
          "execution_count": 52
        }
      ],
      "source": [
        "prop.shape"
      ]
    },
    {
      "cell_type": "markdown",
      "source": [
        "# **Latitud y Longitud**"
      ],
      "metadata": {
        "id": "dxKgZ2StAIGz"
      },
      "id": "dxKgZ2StAIGz"
    },
    {
      "cell_type": "markdown",
      "id": "3d20ff22",
      "metadata": {
        "id": "3d20ff22"
      },
      "source": [
        "***Vamos a analizar la calidad de los datos en las columnas de lat y lon. Buscaremos posibles outliers o datos incorrectos, para eso calcula para ambas columnas: el promedio, el maximo y el minimo.***"
      ]
    },
    {
      "cell_type": "code",
      "execution_count": 53,
      "id": "116fa060",
      "metadata": {
        "id": "116fa060",
        "colab": {
          "base_uri": "https://localhost:8080/"
        },
        "outputId": "d0f7e0ca-5f45-471f-d99c-36b923f41b25"
      },
      "outputs": [
        {
          "output_type": "stream",
          "name": "stdout",
          "text": [
            "El promedio de la columna lat es: -34.6013486009643\n",
            "El máximo de la columna lat es: 42.4312952\n",
            "El mínimo de la columna lat es: -53.788624\n"
          ]
        }
      ],
      "source": [
        "print(f\"El promedio de la columna lat es: {prop['lat'].mean()}\")\n",
        "print(f\"El máximo de la columna lat es: {prop['lat'].max()}\")\n",
        "print(f\"El mínimo de la columna lat es: {prop['lat'].min()}\")"
      ]
    },
    {
      "cell_type": "code",
      "execution_count": 54,
      "id": "fd447947",
      "metadata": {
        "colab": {
          "base_uri": "https://localhost:8080/"
        },
        "id": "fd447947",
        "outputId": "6e42e496-1aca-45d3-bbc8-067317590ec3"
      },
      "outputs": [
        {
          "output_type": "stream",
          "name": "stdout",
          "text": [
            "El promedio de la columna lon es: -58.49057199897227\n",
            "El máximo de la columna lon es: 58.703066\n",
            "El mínimo de la columna lon es: -122.4552858412\n"
          ]
        }
      ],
      "source": [
        "print(f\"El promedio de la columna lon es: {prop['lon'].mean()}\")\n",
        "print(f\"El máximo de la columna lon es: {prop['lon'].max()}\")\n",
        "print(f\"El mínimo de la columna lon es: {prop['lon'].min()}\")"
      ]
    },
    {
      "cell_type": "code",
      "source": [
        "round(prop.lat.describe(),2)"
      ],
      "metadata": {
        "colab": {
          "base_uri": "https://localhost:8080/"
        },
        "id": "WJyTGbjgAX2L",
        "outputId": "88f21c74-4ebf-48df-bef5-bc79174dd055"
      },
      "id": "WJyTGbjgAX2L",
      "execution_count": 55,
      "outputs": [
        {
          "output_type": "execute_result",
          "data": {
            "text/plain": [
              "count    500380.00\n",
              "mean        -34.60\n",
              "std           0.43\n",
              "min         -53.79\n",
              "25%         -34.65\n",
              "50%         -34.60\n",
              "75%         -34.56\n",
              "max          42.43\n",
              "Name: lat, dtype: float64"
            ]
          },
          "metadata": {},
          "execution_count": 55
        }
      ]
    },
    {
      "cell_type": "code",
      "source": [
        "round(prop.lon.describe(),2)"
      ],
      "metadata": {
        "colab": {
          "base_uri": "https://localhost:8080/"
        },
        "id": "1WQUiF_gAdW7",
        "outputId": "80ac0a09-aba0-432f-d1a7-336ce8337aa7"
      },
      "id": "1WQUiF_gAdW7",
      "execution_count": 56,
      "outputs": [
        {
          "output_type": "execute_result",
          "data": {
            "text/plain": [
              "count    500341.00\n",
              "mean        -58.49\n",
              "std           0.45\n",
              "min        -122.46\n",
              "25%         -58.55\n",
              "50%         -58.46\n",
              "75%         -58.40\n",
              "max          58.70\n",
              "Name: lon, dtype: float64"
            ]
          },
          "metadata": {},
          "execution_count": 56
        }
      ]
    },
    {
      "cell_type": "markdown",
      "id": "87f32a7b",
      "metadata": {
        "id": "87f32a7b"
      },
      "source": [
        "***Evidentemente hay ciertos puntos que son incorrectos, sus coordenadas caen fuera del AMBA. Para eso buscamos cuales son los valores frontera para la latitud y longitud en el AMBA.***\n",
        "\n",
        "***Estimamos un segmentos de latitudes de [-35, -34] y longitudes de [-59 a -58]***\n",
        "\n",
        "***Eliminar todo lo que este fuera de esos rangos (no eliminar valores NaN)***"
      ]
    },
    {
      "cell_type": "code",
      "execution_count": 57,
      "id": "16ed77a5",
      "metadata": {
        "id": "16ed77a5"
      },
      "outputs": [],
      "source": [
        "prop = prop[prop.lat.between(-35, -34) & prop.lon.between(-59, -58)]"
      ]
    },
    {
      "cell_type": "markdown",
      "source": [
        "**PUNTO DE REVISION**\n",
        "\n",
        "**A esta altura el dataframe tiene (499739, 12)**"
      ],
      "metadata": {
        "id": "5SdFD70IA_Jm"
      },
      "id": "5SdFD70IA_Jm"
    },
    {
      "cell_type": "code",
      "source": [
        "prop.shape"
      ],
      "metadata": {
        "colab": {
          "base_uri": "https://localhost:8080/"
        },
        "id": "e45Km_Ct0iJQ",
        "outputId": "b6e2b8b0-ff38-481d-d72e-664d5baa9520"
      },
      "id": "e45Km_Ct0iJQ",
      "execution_count": 58,
      "outputs": [
        {
          "output_type": "execute_result",
          "data": {
            "text/plain": [
              "(499739, 12)"
            ]
          },
          "metadata": {},
          "execution_count": 58
        }
      ]
    },
    {
      "cell_type": "markdown",
      "id": "13cd36db",
      "metadata": {
        "id": "13cd36db"
      },
      "source": [
        "***Volver a chequear estadisticos de lat y lon para ver si ya saque valores incorrectos***"
      ]
    },
    {
      "cell_type": "code",
      "execution_count": 60,
      "id": "e2e23b00",
      "metadata": {
        "id": "e2e23b00",
        "colab": {
          "base_uri": "https://localhost:8080/"
        },
        "outputId": "6e0651b8-af22-4a9f-80f8-507284fcdc98"
      },
      "outputs": [
        {
          "output_type": "stream",
          "name": "stdout",
          "text": [
            "El promedio de la columna lat es: -34.605433407124146\n",
            "El máximo de la columna lat es: -34.0490256944\n",
            "El mínimo de la columna lat es: -34.9881942684\n",
            "\n",
            "El promedio de la columna lon es: -58.48363818980686\n",
            "El máximo de la columna lon es: -58.021731\n",
            "El mínimo de la columna lon es: -58.9818835258\n"
          ]
        }
      ],
      "source": [
        "print(f\"El promedio de la columna lat es: {prop['lat'].mean()}\")\n",
        "print(f\"El máximo de la columna lat es: {prop['lat'].max()}\")\n",
        "print(f\"El mínimo de la columna lat es: {prop['lat'].min()}\")\n",
        "print(\"\")\n",
        "print(f\"El promedio de la columna lon es: {prop['lon'].mean()}\")\n",
        "print(f\"El máximo de la columna lon es: {prop['lon'].max()}\")\n",
        "print(f\"El mínimo de la columna lon es: {prop['lon'].min()}\")"
      ]
    },
    {
      "cell_type": "code",
      "source": [
        "round(prop.lat.describe(), 2)"
      ],
      "metadata": {
        "colab": {
          "base_uri": "https://localhost:8080/"
        },
        "id": "RO-UlyRaBeJP",
        "outputId": "4cc301b8-977d-43fe-d3e5-8eaede46394d"
      },
      "id": "RO-UlyRaBeJP",
      "execution_count": 61,
      "outputs": [
        {
          "output_type": "execute_result",
          "data": {
            "text/plain": [
              "count    499739.00\n",
              "mean        -34.61\n",
              "std           0.10\n",
              "min         -34.99\n",
              "25%         -34.65\n",
              "50%         -34.60\n",
              "75%         -34.56\n",
              "max         -34.05\n",
              "Name: lat, dtype: float64"
            ]
          },
          "metadata": {},
          "execution_count": 61
        }
      ]
    },
    {
      "cell_type": "code",
      "source": [
        "round(prop.lon.describe(), 2)"
      ],
      "metadata": {
        "colab": {
          "base_uri": "https://localhost:8080/"
        },
        "id": "_3VODP4XBlZ6",
        "outputId": "a4655eed-7ca8-4d12-fb38-6fe1df06ec75"
      },
      "id": "_3VODP4XBlZ6",
      "execution_count": 62,
      "outputs": [
        {
          "output_type": "execute_result",
          "data": {
            "text/plain": [
              "count    499739.00\n",
              "mean        -58.48\n",
              "std           0.11\n",
              "min         -58.98\n",
              "25%         -58.55\n",
              "50%         -58.46\n",
              "75%         -58.40\n",
              "max         -58.02\n",
              "Name: lon, dtype: float64"
            ]
          },
          "metadata": {},
          "execution_count": 62
        }
      ]
    },
    {
      "cell_type": "markdown",
      "id": "9eba570e",
      "metadata": {
        "id": "9eba570e"
      },
      "source": [
        "***Eliminar los NaN de la columna l3***"
      ]
    },
    {
      "cell_type": "code",
      "execution_count": 63,
      "id": "927b4b01",
      "metadata": {
        "colab": {
          "base_uri": "https://localhost:8080/"
        },
        "id": "927b4b01",
        "outputId": "6723e8d1-61cc-4970-bdfe-be72e3ab7bb7"
      },
      "outputs": [
        {
          "output_type": "execute_result",
          "data": {
            "text/plain": [
              "False    499633\n",
              "True        106\n",
              "Name: l3, dtype: int64"
            ]
          },
          "metadata": {},
          "execution_count": 63
        }
      ],
      "source": [
        "prop['l3'].isna().value_counts()"
      ]
    },
    {
      "cell_type": "code",
      "source": [
        "prop.dropna(subset = ['l3'], inplace=True) "
      ],
      "metadata": {
        "id": "D0KplBQKp1Cn"
      },
      "id": "D0KplBQKp1Cn",
      "execution_count": 64,
      "outputs": []
    },
    {
      "cell_type": "code",
      "execution_count": 65,
      "id": "32cc6cea",
      "metadata": {
        "colab": {
          "base_uri": "https://localhost:8080/"
        },
        "id": "32cc6cea",
        "outputId": "e76b41ea-3333-48a8-b7a9-f074f5e294a3"
      },
      "outputs": [
        {
          "output_type": "execute_result",
          "data": {
            "text/plain": [
              "False    499633\n",
              "Name: l3, dtype: int64"
            ]
          },
          "metadata": {},
          "execution_count": 65
        }
      ],
      "source": [
        "prop['l3'].isna().value_counts()"
      ]
    },
    {
      "cell_type": "markdown",
      "id": "2f583013",
      "metadata": {
        "id": "2f583013"
      },
      "source": [
        "***Volvamos a ver el porcentaje de nulos de cada columna***"
      ]
    },
    {
      "cell_type": "code",
      "execution_count": 66,
      "id": "5f9821e2",
      "metadata": {
        "colab": {
          "base_uri": "https://localhost:8080/"
        },
        "id": "5f9821e2",
        "outputId": "6b1e587d-42d3-4deb-98dc-3d49dc8b30d3"
      },
      "outputs": [
        {
          "output_type": "execute_result",
          "data": {
            "text/plain": [
              "rooms             19.392834\n",
              "bathrooms         15.336257\n",
              "currency           1.050971\n",
              "price              0.939490\n",
              "start_date         0.000000\n",
              "end_date           0.000000\n",
              "lat                0.000000\n",
              "lon                0.000000\n",
              "l2                 0.000000\n",
              "l3                 0.000000\n",
              "property_type      0.000000\n",
              "operation_type     0.000000\n",
              "dtype: float64"
            ]
          },
          "metadata": {},
          "execution_count": 66
        }
      ],
      "source": [
        "(prop.isna().sum()*100/prop.shape[0]).sort_values(ascending = False)"
      ]
    },
    {
      "cell_type": "markdown",
      "source": [
        "**PUNTO DE REVISION**\n",
        "\n",
        "**A esta altura el dataframe tiene (499633, 12)**"
      ],
      "metadata": {
        "id": "ZU5zvcvVCENf"
      },
      "id": "ZU5zvcvVCENf"
    },
    {
      "cell_type": "code",
      "source": [
        "prop.shape"
      ],
      "metadata": {
        "colab": {
          "base_uri": "https://localhost:8080/"
        },
        "id": "F_2ZmbHp033p",
        "outputId": "9275e403-37be-46f9-ed35-a6e378eed074"
      },
      "id": "F_2ZmbHp033p",
      "execution_count": 67,
      "outputs": [
        {
          "output_type": "execute_result",
          "data": {
            "text/plain": [
              "(499633, 12)"
            ]
          },
          "metadata": {},
          "execution_count": 67
        }
      ]
    },
    {
      "cell_type": "markdown",
      "id": "47fb5b49",
      "metadata": {
        "id": "47fb5b49"
      },
      "source": [
        "***Veamos los valores unicos de la columna property_type***"
      ]
    },
    {
      "cell_type": "code",
      "execution_count": 68,
      "id": "044b4d81",
      "metadata": {
        "id": "044b4d81",
        "colab": {
          "base_uri": "https://localhost:8080/"
        },
        "outputId": "5faa339d-2832-42d4-ad33-3d511557a3bc"
      },
      "outputs": [
        {
          "output_type": "execute_result",
          "data": {
            "text/plain": [
              "array(['Departamento', 'Casa', 'Oficina', 'Local comercial', 'Lote',\n",
              "       'Cochera', 'PH', 'Otro', 'Depósito', 'Casa de campo'], dtype=object)"
            ]
          },
          "metadata": {},
          "execution_count": 68
        }
      ],
      "source": [
        "prop['property_type'].unique()"
      ]
    },
    {
      "cell_type": "markdown",
      "id": "661f9634",
      "metadata": {
        "id": "661f9634"
      },
      "source": [
        "***La columna se ve bien, hacemos lo mismo con operation type***"
      ]
    },
    {
      "cell_type": "code",
      "execution_count": 69,
      "id": "2ab77001",
      "metadata": {
        "id": "2ab77001",
        "colab": {
          "base_uri": "https://localhost:8080/"
        },
        "outputId": "cd9d1ab6-3f6c-4792-ea8e-4dbdb65e767a"
      },
      "outputs": [
        {
          "output_type": "execute_result",
          "data": {
            "text/plain": [
              "array(['Alquiler', 'Alquiler temporal', 'Venta'], dtype=object)"
            ]
          },
          "metadata": {},
          "execution_count": 69
        }
      ],
      "source": [
        "prop['operation_type'].unique()"
      ]
    },
    {
      "cell_type": "markdown",
      "id": "ad8b991b",
      "metadata": {
        "id": "ad8b991b"
      },
      "source": [
        "***La columna se ve bien. Nos quedan price, currency, bathrooms y rooms.***\n",
        "\n",
        "***Vamos a currency, veamos los valores unicos de esta columna***"
      ]
    },
    {
      "cell_type": "code",
      "execution_count": 70,
      "id": "76faf2c0",
      "metadata": {
        "id": "76faf2c0",
        "colab": {
          "base_uri": "https://localhost:8080/"
        },
        "outputId": "e01b2ec8-734a-466f-c357-ab9d8f12c18f"
      },
      "outputs": [
        {
          "output_type": "execute_result",
          "data": {
            "text/plain": [
              "array([nan, 'ARS', 'USD', 'COP'], dtype=object)"
            ]
          },
          "metadata": {},
          "execution_count": 70
        }
      ],
      "source": [
        "prop['currency'].unique()"
      ]
    },
    {
      "cell_type": "markdown",
      "id": "22b47d75",
      "metadata": {
        "id": "22b47d75"
      },
      "source": [
        "***Tenemos el peso argentino, el dolar, el peso colombiano y NaN. Veamos los registros con NaN.***"
      ]
    },
    {
      "cell_type": "code",
      "execution_count": 71,
      "id": "63123704",
      "metadata": {
        "colab": {
          "base_uri": "https://localhost:8080/"
        },
        "id": "63123704",
        "outputId": "45b4cda5-41a2-4171-a35d-59b4337567c4"
      },
      "outputs": [
        {
          "output_type": "execute_result",
          "data": {
            "text/plain": [
              "False    494382\n",
              "True       5251\n",
              "Name: currency, dtype: int64"
            ]
          },
          "metadata": {},
          "execution_count": 71
        }
      ],
      "source": [
        "prop['currency'].isna().value_counts()"
      ]
    },
    {
      "cell_type": "code",
      "source": [
        "prop[(prop.currency != \"ARS\") & \n",
        "     (prop.currency != \"USD\") &\n",
        "     (prop.currency != \"COP\")]"
      ],
      "metadata": {
        "colab": {
          "base_uri": "https://localhost:8080/",
          "height": 857
        },
        "id": "KTeXZualCtBb",
        "outputId": "e24ba441-b924-45d4-fe9c-5f40257bda82"
      },
      "id": "KTeXZualCtBb",
      "execution_count": 72,
      "outputs": [
        {
          "output_type": "execute_result",
          "data": {
            "text/plain": [
              "        start_date    end_date        lat        lon  \\\n",
              "6       2020-08-22  2020-09-04 -34.604195 -58.559827   \n",
              "10      2020-08-22  2020-08-25 -34.439610 -58.629968   \n",
              "649     2021-03-21  9999-12-31 -34.804675 -58.173498   \n",
              "1140    2021-03-21  2021-04-23 -34.630972 -58.424762   \n",
              "1228    2021-03-21  2021-03-22 -34.610553 -58.361774   \n",
              "...            ...         ...        ...        ...   \n",
              "997026  2020-12-04  2021-01-27 -34.648968 -58.577701   \n",
              "997029  2020-12-04  2020-12-09 -34.761623 -58.207809   \n",
              "997032  2020-12-04  2021-03-16 -34.919530 -58.479625   \n",
              "997053  2020-12-04  2021-01-13 -34.611887 -58.359590   \n",
              "997060  2020-12-04  2021-01-02 -34.644868 -58.469612   \n",
              "\n",
              "                              l2                  l3  rooms  bathrooms  price  \\\n",
              "6       Bs.As. G.B.A. Zona Oeste     Tres de Febrero    2.0        1.0    NaN   \n",
              "10      Bs.As. G.B.A. Zona Norte               Tigre    4.0        4.0    NaN   \n",
              "649       Bs.As. G.B.A. Zona Sur         Berazategui    2.0        2.0    NaN   \n",
              "1140             Capital Federal               Boedo    4.0        1.0    NaN   \n",
              "1228             Capital Federal       Puerto Madero    3.0        2.0    NaN   \n",
              "...                          ...                 ...    ...        ...    ...   \n",
              "997026  Bs.As. G.B.A. Zona Oeste          La Matanza    4.0        2.0    NaN   \n",
              "997029    Bs.As. G.B.A. Zona Sur         Berazategui   14.0        1.0    NaN   \n",
              "997032    Bs.As. G.B.A. Zona Sur  Esteban Echeverría    5.0        4.0    NaN   \n",
              "997053           Capital Federal       Puerto Madero    4.0        3.0    NaN   \n",
              "997060           Capital Federal              Flores    9.0        3.0    NaN   \n",
              "\n",
              "       currency property_type     operation_type  \n",
              "6           NaN  Departamento           Alquiler  \n",
              "10          NaN          Casa  Alquiler temporal  \n",
              "649         NaN  Departamento              Venta  \n",
              "1140        NaN  Departamento              Venta  \n",
              "1228        NaN  Departamento              Venta  \n",
              "...         ...           ...                ...  \n",
              "997026      NaN          Casa              Venta  \n",
              "997029      NaN          Casa              Venta  \n",
              "997032      NaN          Casa              Venta  \n",
              "997053      NaN  Departamento              Venta  \n",
              "997060      NaN          Casa              Venta  \n",
              "\n",
              "[5251 rows x 12 columns]"
            ],
            "text/html": [
              "\n",
              "  <div id=\"df-fc66624a-a99f-4ee7-8caf-0787adf775eb\">\n",
              "    <div class=\"colab-df-container\">\n",
              "      <div>\n",
              "<style scoped>\n",
              "    .dataframe tbody tr th:only-of-type {\n",
              "        vertical-align: middle;\n",
              "    }\n",
              "\n",
              "    .dataframe tbody tr th {\n",
              "        vertical-align: top;\n",
              "    }\n",
              "\n",
              "    .dataframe thead th {\n",
              "        text-align: right;\n",
              "    }\n",
              "</style>\n",
              "<table border=\"1\" class=\"dataframe\">\n",
              "  <thead>\n",
              "    <tr style=\"text-align: right;\">\n",
              "      <th></th>\n",
              "      <th>start_date</th>\n",
              "      <th>end_date</th>\n",
              "      <th>lat</th>\n",
              "      <th>lon</th>\n",
              "      <th>l2</th>\n",
              "      <th>l3</th>\n",
              "      <th>rooms</th>\n",
              "      <th>bathrooms</th>\n",
              "      <th>price</th>\n",
              "      <th>currency</th>\n",
              "      <th>property_type</th>\n",
              "      <th>operation_type</th>\n",
              "    </tr>\n",
              "  </thead>\n",
              "  <tbody>\n",
              "    <tr>\n",
              "      <th>6</th>\n",
              "      <td>2020-08-22</td>\n",
              "      <td>2020-09-04</td>\n",
              "      <td>-34.604195</td>\n",
              "      <td>-58.559827</td>\n",
              "      <td>Bs.As. G.B.A. Zona Oeste</td>\n",
              "      <td>Tres de Febrero</td>\n",
              "      <td>2.0</td>\n",
              "      <td>1.0</td>\n",
              "      <td>NaN</td>\n",
              "      <td>NaN</td>\n",
              "      <td>Departamento</td>\n",
              "      <td>Alquiler</td>\n",
              "    </tr>\n",
              "    <tr>\n",
              "      <th>10</th>\n",
              "      <td>2020-08-22</td>\n",
              "      <td>2020-08-25</td>\n",
              "      <td>-34.439610</td>\n",
              "      <td>-58.629968</td>\n",
              "      <td>Bs.As. G.B.A. Zona Norte</td>\n",
              "      <td>Tigre</td>\n",
              "      <td>4.0</td>\n",
              "      <td>4.0</td>\n",
              "      <td>NaN</td>\n",
              "      <td>NaN</td>\n",
              "      <td>Casa</td>\n",
              "      <td>Alquiler temporal</td>\n",
              "    </tr>\n",
              "    <tr>\n",
              "      <th>649</th>\n",
              "      <td>2021-03-21</td>\n",
              "      <td>9999-12-31</td>\n",
              "      <td>-34.804675</td>\n",
              "      <td>-58.173498</td>\n",
              "      <td>Bs.As. G.B.A. Zona Sur</td>\n",
              "      <td>Berazategui</td>\n",
              "      <td>2.0</td>\n",
              "      <td>2.0</td>\n",
              "      <td>NaN</td>\n",
              "      <td>NaN</td>\n",
              "      <td>Departamento</td>\n",
              "      <td>Venta</td>\n",
              "    </tr>\n",
              "    <tr>\n",
              "      <th>1140</th>\n",
              "      <td>2021-03-21</td>\n",
              "      <td>2021-04-23</td>\n",
              "      <td>-34.630972</td>\n",
              "      <td>-58.424762</td>\n",
              "      <td>Capital Federal</td>\n",
              "      <td>Boedo</td>\n",
              "      <td>4.0</td>\n",
              "      <td>1.0</td>\n",
              "      <td>NaN</td>\n",
              "      <td>NaN</td>\n",
              "      <td>Departamento</td>\n",
              "      <td>Venta</td>\n",
              "    </tr>\n",
              "    <tr>\n",
              "      <th>1228</th>\n",
              "      <td>2021-03-21</td>\n",
              "      <td>2021-03-22</td>\n",
              "      <td>-34.610553</td>\n",
              "      <td>-58.361774</td>\n",
              "      <td>Capital Federal</td>\n",
              "      <td>Puerto Madero</td>\n",
              "      <td>3.0</td>\n",
              "      <td>2.0</td>\n",
              "      <td>NaN</td>\n",
              "      <td>NaN</td>\n",
              "      <td>Departamento</td>\n",
              "      <td>Venta</td>\n",
              "    </tr>\n",
              "    <tr>\n",
              "      <th>...</th>\n",
              "      <td>...</td>\n",
              "      <td>...</td>\n",
              "      <td>...</td>\n",
              "      <td>...</td>\n",
              "      <td>...</td>\n",
              "      <td>...</td>\n",
              "      <td>...</td>\n",
              "      <td>...</td>\n",
              "      <td>...</td>\n",
              "      <td>...</td>\n",
              "      <td>...</td>\n",
              "      <td>...</td>\n",
              "    </tr>\n",
              "    <tr>\n",
              "      <th>997026</th>\n",
              "      <td>2020-12-04</td>\n",
              "      <td>2021-01-27</td>\n",
              "      <td>-34.648968</td>\n",
              "      <td>-58.577701</td>\n",
              "      <td>Bs.As. G.B.A. Zona Oeste</td>\n",
              "      <td>La Matanza</td>\n",
              "      <td>4.0</td>\n",
              "      <td>2.0</td>\n",
              "      <td>NaN</td>\n",
              "      <td>NaN</td>\n",
              "      <td>Casa</td>\n",
              "      <td>Venta</td>\n",
              "    </tr>\n",
              "    <tr>\n",
              "      <th>997029</th>\n",
              "      <td>2020-12-04</td>\n",
              "      <td>2020-12-09</td>\n",
              "      <td>-34.761623</td>\n",
              "      <td>-58.207809</td>\n",
              "      <td>Bs.As. G.B.A. Zona Sur</td>\n",
              "      <td>Berazategui</td>\n",
              "      <td>14.0</td>\n",
              "      <td>1.0</td>\n",
              "      <td>NaN</td>\n",
              "      <td>NaN</td>\n",
              "      <td>Casa</td>\n",
              "      <td>Venta</td>\n",
              "    </tr>\n",
              "    <tr>\n",
              "      <th>997032</th>\n",
              "      <td>2020-12-04</td>\n",
              "      <td>2021-03-16</td>\n",
              "      <td>-34.919530</td>\n",
              "      <td>-58.479625</td>\n",
              "      <td>Bs.As. G.B.A. Zona Sur</td>\n",
              "      <td>Esteban Echeverría</td>\n",
              "      <td>5.0</td>\n",
              "      <td>4.0</td>\n",
              "      <td>NaN</td>\n",
              "      <td>NaN</td>\n",
              "      <td>Casa</td>\n",
              "      <td>Venta</td>\n",
              "    </tr>\n",
              "    <tr>\n",
              "      <th>997053</th>\n",
              "      <td>2020-12-04</td>\n",
              "      <td>2021-01-13</td>\n",
              "      <td>-34.611887</td>\n",
              "      <td>-58.359590</td>\n",
              "      <td>Capital Federal</td>\n",
              "      <td>Puerto Madero</td>\n",
              "      <td>4.0</td>\n",
              "      <td>3.0</td>\n",
              "      <td>NaN</td>\n",
              "      <td>NaN</td>\n",
              "      <td>Departamento</td>\n",
              "      <td>Venta</td>\n",
              "    </tr>\n",
              "    <tr>\n",
              "      <th>997060</th>\n",
              "      <td>2020-12-04</td>\n",
              "      <td>2021-01-02</td>\n",
              "      <td>-34.644868</td>\n",
              "      <td>-58.469612</td>\n",
              "      <td>Capital Federal</td>\n",
              "      <td>Flores</td>\n",
              "      <td>9.0</td>\n",
              "      <td>3.0</td>\n",
              "      <td>NaN</td>\n",
              "      <td>NaN</td>\n",
              "      <td>Casa</td>\n",
              "      <td>Venta</td>\n",
              "    </tr>\n",
              "  </tbody>\n",
              "</table>\n",
              "<p>5251 rows × 12 columns</p>\n",
              "</div>\n",
              "      <button class=\"colab-df-convert\" onclick=\"convertToInteractive('df-fc66624a-a99f-4ee7-8caf-0787adf775eb')\"\n",
              "              title=\"Convert this dataframe to an interactive table.\"\n",
              "              style=\"display:none;\">\n",
              "        \n",
              "  <svg xmlns=\"http://www.w3.org/2000/svg\" height=\"24px\"viewBox=\"0 0 24 24\"\n",
              "       width=\"24px\">\n",
              "    <path d=\"M0 0h24v24H0V0z\" fill=\"none\"/>\n",
              "    <path d=\"M18.56 5.44l.94 2.06.94-2.06 2.06-.94-2.06-.94-.94-2.06-.94 2.06-2.06.94zm-11 1L8.5 8.5l.94-2.06 2.06-.94-2.06-.94L8.5 2.5l-.94 2.06-2.06.94zm10 10l.94 2.06.94-2.06 2.06-.94-2.06-.94-.94-2.06-.94 2.06-2.06.94z\"/><path d=\"M17.41 7.96l-1.37-1.37c-.4-.4-.92-.59-1.43-.59-.52 0-1.04.2-1.43.59L10.3 9.45l-7.72 7.72c-.78.78-.78 2.05 0 2.83L4 21.41c.39.39.9.59 1.41.59.51 0 1.02-.2 1.41-.59l7.78-7.78 2.81-2.81c.8-.78.8-2.07 0-2.86zM5.41 20L4 18.59l7.72-7.72 1.47 1.35L5.41 20z\"/>\n",
              "  </svg>\n",
              "      </button>\n",
              "      \n",
              "  <style>\n",
              "    .colab-df-container {\n",
              "      display:flex;\n",
              "      flex-wrap:wrap;\n",
              "      gap: 12px;\n",
              "    }\n",
              "\n",
              "    .colab-df-convert {\n",
              "      background-color: #E8F0FE;\n",
              "      border: none;\n",
              "      border-radius: 50%;\n",
              "      cursor: pointer;\n",
              "      display: none;\n",
              "      fill: #1967D2;\n",
              "      height: 32px;\n",
              "      padding: 0 0 0 0;\n",
              "      width: 32px;\n",
              "    }\n",
              "\n",
              "    .colab-df-convert:hover {\n",
              "      background-color: #E2EBFA;\n",
              "      box-shadow: 0px 1px 2px rgba(60, 64, 67, 0.3), 0px 1px 3px 1px rgba(60, 64, 67, 0.15);\n",
              "      fill: #174EA6;\n",
              "    }\n",
              "\n",
              "    [theme=dark] .colab-df-convert {\n",
              "      background-color: #3B4455;\n",
              "      fill: #D2E3FC;\n",
              "    }\n",
              "\n",
              "    [theme=dark] .colab-df-convert:hover {\n",
              "      background-color: #434B5C;\n",
              "      box-shadow: 0px 1px 3px 1px rgba(0, 0, 0, 0.15);\n",
              "      filter: drop-shadow(0px 1px 2px rgba(0, 0, 0, 0.3));\n",
              "      fill: #FFFFFF;\n",
              "    }\n",
              "  </style>\n",
              "\n",
              "      <script>\n",
              "        const buttonEl =\n",
              "          document.querySelector('#df-fc66624a-a99f-4ee7-8caf-0787adf775eb button.colab-df-convert');\n",
              "        buttonEl.style.display =\n",
              "          google.colab.kernel.accessAllowed ? 'block' : 'none';\n",
              "\n",
              "        async function convertToInteractive(key) {\n",
              "          const element = document.querySelector('#df-fc66624a-a99f-4ee7-8caf-0787adf775eb');\n",
              "          const dataTable =\n",
              "            await google.colab.kernel.invokeFunction('convertToInteractive',\n",
              "                                                     [key], {});\n",
              "          if (!dataTable) return;\n",
              "\n",
              "          const docLinkHtml = 'Like what you see? Visit the ' +\n",
              "            '<a target=\"_blank\" href=https://colab.research.google.com/notebooks/data_table.ipynb>data table notebook</a>'\n",
              "            + ' to learn more about interactive tables.';\n",
              "          element.innerHTML = '';\n",
              "          dataTable['output_type'] = 'display_data';\n",
              "          await google.colab.output.renderOutput(dataTable, element);\n",
              "          const docLink = document.createElement('div');\n",
              "          docLink.innerHTML = docLinkHtml;\n",
              "          element.appendChild(docLink);\n",
              "        }\n",
              "      </script>\n",
              "    </div>\n",
              "  </div>\n",
              "  "
            ]
          },
          "metadata": {},
          "execution_count": 72
        }
      ]
    },
    {
      "cell_type": "code",
      "source": [
        "prop[(prop.currency != \"ARS\") & \n",
        "     (prop.currency != \"USD\") &\n",
        "     (prop.currency != \"COP\")].currency.unique()"
      ],
      "metadata": {
        "colab": {
          "base_uri": "https://localhost:8080/"
        },
        "id": "eoHdxMuaDE3o",
        "outputId": "89543833-8f7d-4b71-a60a-6140e8cf9621"
      },
      "id": "eoHdxMuaDE3o",
      "execution_count": 73,
      "outputs": [
        {
          "output_type": "execute_result",
          "data": {
            "text/plain": [
              "array([nan], dtype=object)"
            ]
          },
          "metadata": {},
          "execution_count": 73
        }
      ]
    },
    {
      "cell_type": "markdown",
      "id": "1a699d94",
      "metadata": {
        "id": "1a699d94"
      },
      "source": [
        "***Vemos que la cantidad de NaN en esta columna es del 1%, sin esta columna no podremos saber en que moneda esta el precio, por lo que tampoco sabremos el precio (el precio es la columna mas interesante de este dataset). Decidimos eliminar los registros con NaN de la columna currency.***"
      ]
    },
    {
      "cell_type": "code",
      "execution_count": 74,
      "id": "6d1418f4",
      "metadata": {
        "id": "6d1418f4"
      },
      "outputs": [],
      "source": [
        "prop.dropna(subset = ['currency'], inplace=True)"
      ]
    },
    {
      "cell_type": "code",
      "execution_count": 75,
      "id": "9cf41da2",
      "metadata": {
        "colab": {
          "base_uri": "https://localhost:8080/"
        },
        "id": "9cf41da2",
        "outputId": "e977c08a-2738-4aef-d390-c610d4dd4884"
      },
      "outputs": [
        {
          "output_type": "execute_result",
          "data": {
            "text/plain": [
              "False    494382\n",
              "Name: currency, dtype: int64"
            ]
          },
          "metadata": {},
          "execution_count": 75
        }
      ],
      "source": [
        "prop['currency'].isna().value_counts()"
      ]
    },
    {
      "cell_type": "markdown",
      "source": [
        "**PUNTO DE REVISION**\n",
        "\n",
        "**A esta altura el dataframe tiene (494382, 12)**"
      ],
      "metadata": {
        "id": "RXnDS3DgDO2U"
      },
      "id": "RXnDS3DgDO2U"
    },
    {
      "cell_type": "code",
      "source": [
        "prop.shape"
      ],
      "metadata": {
        "colab": {
          "base_uri": "https://localhost:8080/"
        },
        "id": "8dcae78M1E5F",
        "outputId": "66d68ae8-a6df-4bec-835f-c5b0caed7809"
      },
      "id": "8dcae78M1E5F",
      "execution_count": 77,
      "outputs": [
        {
          "output_type": "execute_result",
          "data": {
            "text/plain": [
              "(494382, 12)"
            ]
          },
          "metadata": {},
          "execution_count": 77
        }
      ]
    },
    {
      "cell_type": "markdown",
      "id": "bebf4f8e",
      "metadata": {
        "id": "bebf4f8e"
      },
      "source": [
        "***Volver a analizar el porcentaje de NaN de cada columna.***"
      ]
    },
    {
      "cell_type": "code",
      "execution_count": 78,
      "id": "f0c966c2",
      "metadata": {
        "colab": {
          "base_uri": "https://localhost:8080/"
        },
        "id": "f0c966c2",
        "outputId": "9e4b72d8-e484-4d46-e035-01a871eff237"
      },
      "outputs": [
        {
          "output_type": "execute_result",
          "data": {
            "text/plain": [
              "rooms             19.570090\n",
              "bathrooms         15.492676\n",
              "start_date         0.000000\n",
              "end_date           0.000000\n",
              "lat                0.000000\n",
              "lon                0.000000\n",
              "l2                 0.000000\n",
              "l3                 0.000000\n",
              "price              0.000000\n",
              "currency           0.000000\n",
              "property_type      0.000000\n",
              "operation_type     0.000000\n",
              "dtype: float64"
            ]
          },
          "metadata": {},
          "execution_count": 78
        }
      ],
      "source": [
        "(prop.isna().sum()*100/prop.shape[0]).sort_values(ascending = False)"
      ]
    },
    {
      "cell_type": "markdown",
      "id": "e301f86c",
      "metadata": {
        "id": "e301f86c"
      },
      "source": [
        "***Vemos que se eliminaron los NaN de price al eliminar los de currency, matamos 2 pajaros de un tiro.***\n",
        "\n",
        "***Ahora si crear una nueva columna llamada precio con el valor de las propiedades en dolares. Utilizar estas cotizaciones***\n",
        "\n",
        "1 dolar = $283 pesos argentinos\n",
        "\n",
        "1 dolar = $4637 pesos colombianos"
      ]
    },
    {
      "cell_type": "code",
      "execution_count": 79,
      "id": "81082c9c",
      "metadata": {
        "colab": {
          "base_uri": "https://localhost:8080/",
          "height": 823
        },
        "id": "81082c9c",
        "outputId": "8bd1d0e2-d98a-4197-a37b-02194c2f4f5f"
      },
      "outputs": [
        {
          "output_type": "execute_result",
          "data": {
            "text/plain": [
              "        start_date    end_date        lat        lon  \\\n",
              "16      2020-08-22  2020-09-04 -34.633053 -58.419906   \n",
              "17      2020-08-22  2020-09-04 -34.397401 -58.649185   \n",
              "18      2020-08-22  2020-09-04 -34.397401 -58.649185   \n",
              "19      2020-08-22  2020-09-04 -34.598112 -58.400784   \n",
              "20      2020-08-22  2020-09-04 -34.604054 -58.393770   \n",
              "...            ...         ...        ...        ...   \n",
              "999993  2020-12-04  9999-12-31 -34.482248 -58.501989   \n",
              "999994  2020-12-04  2021-01-22 -34.485005 -58.685923   \n",
              "999996  2020-12-04  9999-12-31 -34.596587 -58.376893   \n",
              "999997  2020-12-04  9999-12-31 -34.576445 -58.432603   \n",
              "999999  2020-12-04  2020-12-21 -34.447524 -58.631552   \n",
              "\n",
              "                              l2                   l3  rooms  bathrooms  \\\n",
              "16               Capital Federal                Boedo    NaN        NaN   \n",
              "17      Bs.As. G.B.A. Zona Norte                Tigre    NaN        2.0   \n",
              "18      Bs.As. G.B.A. Zona Norte                Tigre    NaN        2.0   \n",
              "19               Capital Federal             Recoleta    NaN        3.0   \n",
              "20               Capital Federal            Balvanera    NaN        1.0   \n",
              "...                          ...                  ...    ...        ...   \n",
              "999993  Bs.As. G.B.A. Zona Norte           San Isidro   11.0        4.0   \n",
              "999994  Bs.As. G.B.A. Zona Norte  Malvinas Argentinas    NaN        7.0   \n",
              "999996           Capital Federal               Retiro   12.0        5.0   \n",
              "999997           Capital Federal              Palermo   14.0        2.0   \n",
              "999999  Bs.As. G.B.A. Zona Norte                Tigre    5.0        4.0   \n",
              "\n",
              "           price currency    property_type     operation_type         precio  \n",
              "16       70000.0      ARS          Oficina           Alquiler     247.349823  \n",
              "17       35000.0      ARS          Oficina           Alquiler     123.674912  \n",
              "18       27000.0      ARS          Oficina           Alquiler      95.406360  \n",
              "19       65000.0      ARS          Oficina           Alquiler     229.681979  \n",
              "20       60000.0      ARS          Oficina           Alquiler     212.014134  \n",
              "...          ...      ...              ...                ...            ...  \n",
              "999993  690000.0      USD             Casa              Venta  690000.000000  \n",
              "999994    8000.0      USD             Casa  Alquiler temporal    8000.000000  \n",
              "999996    3700.0      USD  Local comercial           Alquiler    3700.000000  \n",
              "999997  570000.0      USD  Local comercial              Venta  570000.000000  \n",
              "999999    7000.0      USD             Casa  Alquiler temporal    7000.000000  \n",
              "\n",
              "[494382 rows x 13 columns]"
            ],
            "text/html": [
              "\n",
              "  <div id=\"df-b40b63b2-c8d2-4b9e-9c78-e3d223b6404b\">\n",
              "    <div class=\"colab-df-container\">\n",
              "      <div>\n",
              "<style scoped>\n",
              "    .dataframe tbody tr th:only-of-type {\n",
              "        vertical-align: middle;\n",
              "    }\n",
              "\n",
              "    .dataframe tbody tr th {\n",
              "        vertical-align: top;\n",
              "    }\n",
              "\n",
              "    .dataframe thead th {\n",
              "        text-align: right;\n",
              "    }\n",
              "</style>\n",
              "<table border=\"1\" class=\"dataframe\">\n",
              "  <thead>\n",
              "    <tr style=\"text-align: right;\">\n",
              "      <th></th>\n",
              "      <th>start_date</th>\n",
              "      <th>end_date</th>\n",
              "      <th>lat</th>\n",
              "      <th>lon</th>\n",
              "      <th>l2</th>\n",
              "      <th>l3</th>\n",
              "      <th>rooms</th>\n",
              "      <th>bathrooms</th>\n",
              "      <th>price</th>\n",
              "      <th>currency</th>\n",
              "      <th>property_type</th>\n",
              "      <th>operation_type</th>\n",
              "      <th>precio</th>\n",
              "    </tr>\n",
              "  </thead>\n",
              "  <tbody>\n",
              "    <tr>\n",
              "      <th>16</th>\n",
              "      <td>2020-08-22</td>\n",
              "      <td>2020-09-04</td>\n",
              "      <td>-34.633053</td>\n",
              "      <td>-58.419906</td>\n",
              "      <td>Capital Federal</td>\n",
              "      <td>Boedo</td>\n",
              "      <td>NaN</td>\n",
              "      <td>NaN</td>\n",
              "      <td>70000.0</td>\n",
              "      <td>ARS</td>\n",
              "      <td>Oficina</td>\n",
              "      <td>Alquiler</td>\n",
              "      <td>247.349823</td>\n",
              "    </tr>\n",
              "    <tr>\n",
              "      <th>17</th>\n",
              "      <td>2020-08-22</td>\n",
              "      <td>2020-09-04</td>\n",
              "      <td>-34.397401</td>\n",
              "      <td>-58.649185</td>\n",
              "      <td>Bs.As. G.B.A. Zona Norte</td>\n",
              "      <td>Tigre</td>\n",
              "      <td>NaN</td>\n",
              "      <td>2.0</td>\n",
              "      <td>35000.0</td>\n",
              "      <td>ARS</td>\n",
              "      <td>Oficina</td>\n",
              "      <td>Alquiler</td>\n",
              "      <td>123.674912</td>\n",
              "    </tr>\n",
              "    <tr>\n",
              "      <th>18</th>\n",
              "      <td>2020-08-22</td>\n",
              "      <td>2020-09-04</td>\n",
              "      <td>-34.397401</td>\n",
              "      <td>-58.649185</td>\n",
              "      <td>Bs.As. G.B.A. Zona Norte</td>\n",
              "      <td>Tigre</td>\n",
              "      <td>NaN</td>\n",
              "      <td>2.0</td>\n",
              "      <td>27000.0</td>\n",
              "      <td>ARS</td>\n",
              "      <td>Oficina</td>\n",
              "      <td>Alquiler</td>\n",
              "      <td>95.406360</td>\n",
              "    </tr>\n",
              "    <tr>\n",
              "      <th>19</th>\n",
              "      <td>2020-08-22</td>\n",
              "      <td>2020-09-04</td>\n",
              "      <td>-34.598112</td>\n",
              "      <td>-58.400784</td>\n",
              "      <td>Capital Federal</td>\n",
              "      <td>Recoleta</td>\n",
              "      <td>NaN</td>\n",
              "      <td>3.0</td>\n",
              "      <td>65000.0</td>\n",
              "      <td>ARS</td>\n",
              "      <td>Oficina</td>\n",
              "      <td>Alquiler</td>\n",
              "      <td>229.681979</td>\n",
              "    </tr>\n",
              "    <tr>\n",
              "      <th>20</th>\n",
              "      <td>2020-08-22</td>\n",
              "      <td>2020-09-04</td>\n",
              "      <td>-34.604054</td>\n",
              "      <td>-58.393770</td>\n",
              "      <td>Capital Federal</td>\n",
              "      <td>Balvanera</td>\n",
              "      <td>NaN</td>\n",
              "      <td>1.0</td>\n",
              "      <td>60000.0</td>\n",
              "      <td>ARS</td>\n",
              "      <td>Oficina</td>\n",
              "      <td>Alquiler</td>\n",
              "      <td>212.014134</td>\n",
              "    </tr>\n",
              "    <tr>\n",
              "      <th>...</th>\n",
              "      <td>...</td>\n",
              "      <td>...</td>\n",
              "      <td>...</td>\n",
              "      <td>...</td>\n",
              "      <td>...</td>\n",
              "      <td>...</td>\n",
              "      <td>...</td>\n",
              "      <td>...</td>\n",
              "      <td>...</td>\n",
              "      <td>...</td>\n",
              "      <td>...</td>\n",
              "      <td>...</td>\n",
              "      <td>...</td>\n",
              "    </tr>\n",
              "    <tr>\n",
              "      <th>999993</th>\n",
              "      <td>2020-12-04</td>\n",
              "      <td>9999-12-31</td>\n",
              "      <td>-34.482248</td>\n",
              "      <td>-58.501989</td>\n",
              "      <td>Bs.As. G.B.A. Zona Norte</td>\n",
              "      <td>San Isidro</td>\n",
              "      <td>11.0</td>\n",
              "      <td>4.0</td>\n",
              "      <td>690000.0</td>\n",
              "      <td>USD</td>\n",
              "      <td>Casa</td>\n",
              "      <td>Venta</td>\n",
              "      <td>690000.000000</td>\n",
              "    </tr>\n",
              "    <tr>\n",
              "      <th>999994</th>\n",
              "      <td>2020-12-04</td>\n",
              "      <td>2021-01-22</td>\n",
              "      <td>-34.485005</td>\n",
              "      <td>-58.685923</td>\n",
              "      <td>Bs.As. G.B.A. Zona Norte</td>\n",
              "      <td>Malvinas Argentinas</td>\n",
              "      <td>NaN</td>\n",
              "      <td>7.0</td>\n",
              "      <td>8000.0</td>\n",
              "      <td>USD</td>\n",
              "      <td>Casa</td>\n",
              "      <td>Alquiler temporal</td>\n",
              "      <td>8000.000000</td>\n",
              "    </tr>\n",
              "    <tr>\n",
              "      <th>999996</th>\n",
              "      <td>2020-12-04</td>\n",
              "      <td>9999-12-31</td>\n",
              "      <td>-34.596587</td>\n",
              "      <td>-58.376893</td>\n",
              "      <td>Capital Federal</td>\n",
              "      <td>Retiro</td>\n",
              "      <td>12.0</td>\n",
              "      <td>5.0</td>\n",
              "      <td>3700.0</td>\n",
              "      <td>USD</td>\n",
              "      <td>Local comercial</td>\n",
              "      <td>Alquiler</td>\n",
              "      <td>3700.000000</td>\n",
              "    </tr>\n",
              "    <tr>\n",
              "      <th>999997</th>\n",
              "      <td>2020-12-04</td>\n",
              "      <td>9999-12-31</td>\n",
              "      <td>-34.576445</td>\n",
              "      <td>-58.432603</td>\n",
              "      <td>Capital Federal</td>\n",
              "      <td>Palermo</td>\n",
              "      <td>14.0</td>\n",
              "      <td>2.0</td>\n",
              "      <td>570000.0</td>\n",
              "      <td>USD</td>\n",
              "      <td>Local comercial</td>\n",
              "      <td>Venta</td>\n",
              "      <td>570000.000000</td>\n",
              "    </tr>\n",
              "    <tr>\n",
              "      <th>999999</th>\n",
              "      <td>2020-12-04</td>\n",
              "      <td>2020-12-21</td>\n",
              "      <td>-34.447524</td>\n",
              "      <td>-58.631552</td>\n",
              "      <td>Bs.As. G.B.A. Zona Norte</td>\n",
              "      <td>Tigre</td>\n",
              "      <td>5.0</td>\n",
              "      <td>4.0</td>\n",
              "      <td>7000.0</td>\n",
              "      <td>USD</td>\n",
              "      <td>Casa</td>\n",
              "      <td>Alquiler temporal</td>\n",
              "      <td>7000.000000</td>\n",
              "    </tr>\n",
              "  </tbody>\n",
              "</table>\n",
              "<p>494382 rows × 13 columns</p>\n",
              "</div>\n",
              "      <button class=\"colab-df-convert\" onclick=\"convertToInteractive('df-b40b63b2-c8d2-4b9e-9c78-e3d223b6404b')\"\n",
              "              title=\"Convert this dataframe to an interactive table.\"\n",
              "              style=\"display:none;\">\n",
              "        \n",
              "  <svg xmlns=\"http://www.w3.org/2000/svg\" height=\"24px\"viewBox=\"0 0 24 24\"\n",
              "       width=\"24px\">\n",
              "    <path d=\"M0 0h24v24H0V0z\" fill=\"none\"/>\n",
              "    <path d=\"M18.56 5.44l.94 2.06.94-2.06 2.06-.94-2.06-.94-.94-2.06-.94 2.06-2.06.94zm-11 1L8.5 8.5l.94-2.06 2.06-.94-2.06-.94L8.5 2.5l-.94 2.06-2.06.94zm10 10l.94 2.06.94-2.06 2.06-.94-2.06-.94-.94-2.06-.94 2.06-2.06.94z\"/><path d=\"M17.41 7.96l-1.37-1.37c-.4-.4-.92-.59-1.43-.59-.52 0-1.04.2-1.43.59L10.3 9.45l-7.72 7.72c-.78.78-.78 2.05 0 2.83L4 21.41c.39.39.9.59 1.41.59.51 0 1.02-.2 1.41-.59l7.78-7.78 2.81-2.81c.8-.78.8-2.07 0-2.86zM5.41 20L4 18.59l7.72-7.72 1.47 1.35L5.41 20z\"/>\n",
              "  </svg>\n",
              "      </button>\n",
              "      \n",
              "  <style>\n",
              "    .colab-df-container {\n",
              "      display:flex;\n",
              "      flex-wrap:wrap;\n",
              "      gap: 12px;\n",
              "    }\n",
              "\n",
              "    .colab-df-convert {\n",
              "      background-color: #E8F0FE;\n",
              "      border: none;\n",
              "      border-radius: 50%;\n",
              "      cursor: pointer;\n",
              "      display: none;\n",
              "      fill: #1967D2;\n",
              "      height: 32px;\n",
              "      padding: 0 0 0 0;\n",
              "      width: 32px;\n",
              "    }\n",
              "\n",
              "    .colab-df-convert:hover {\n",
              "      background-color: #E2EBFA;\n",
              "      box-shadow: 0px 1px 2px rgba(60, 64, 67, 0.3), 0px 1px 3px 1px rgba(60, 64, 67, 0.15);\n",
              "      fill: #174EA6;\n",
              "    }\n",
              "\n",
              "    [theme=dark] .colab-df-convert {\n",
              "      background-color: #3B4455;\n",
              "      fill: #D2E3FC;\n",
              "    }\n",
              "\n",
              "    [theme=dark] .colab-df-convert:hover {\n",
              "      background-color: #434B5C;\n",
              "      box-shadow: 0px 1px 3px 1px rgba(0, 0, 0, 0.15);\n",
              "      filter: drop-shadow(0px 1px 2px rgba(0, 0, 0, 0.3));\n",
              "      fill: #FFFFFF;\n",
              "    }\n",
              "  </style>\n",
              "\n",
              "      <script>\n",
              "        const buttonEl =\n",
              "          document.querySelector('#df-b40b63b2-c8d2-4b9e-9c78-e3d223b6404b button.colab-df-convert');\n",
              "        buttonEl.style.display =\n",
              "          google.colab.kernel.accessAllowed ? 'block' : 'none';\n",
              "\n",
              "        async function convertToInteractive(key) {\n",
              "          const element = document.querySelector('#df-b40b63b2-c8d2-4b9e-9c78-e3d223b6404b');\n",
              "          const dataTable =\n",
              "            await google.colab.kernel.invokeFunction('convertToInteractive',\n",
              "                                                     [key], {});\n",
              "          if (!dataTable) return;\n",
              "\n",
              "          const docLinkHtml = 'Like what you see? Visit the ' +\n",
              "            '<a target=\"_blank\" href=https://colab.research.google.com/notebooks/data_table.ipynb>data table notebook</a>'\n",
              "            + ' to learn more about interactive tables.';\n",
              "          element.innerHTML = '';\n",
              "          dataTable['output_type'] = 'display_data';\n",
              "          await google.colab.output.renderOutput(dataTable, element);\n",
              "          const docLink = document.createElement('div');\n",
              "          docLink.innerHTML = docLinkHtml;\n",
              "          element.appendChild(docLink);\n",
              "        }\n",
              "      </script>\n",
              "    </div>\n",
              "  </div>\n",
              "  "
            ]
          },
          "metadata": {},
          "execution_count": 79
        }
      ],
      "source": [
        "cond = [(prop['currency'] == \"ARS\"), \n",
        "        (prop['currency'] == \"COP\"), \n",
        "        (prop['currency'] == \"USD\")]\n",
        "\n",
        "selec = [(prop['price'] / 283), \n",
        "         (prop['price'] / 4637), \n",
        "         (prop['price'])]\n",
        "\n",
        "prop['precio'] = np.select(cond, selec)\n",
        "prop"
      ]
    },
    {
      "cell_type": "markdown",
      "source": [
        "**PUNTO DE REVISION**\n",
        "\n",
        "**A esta altura el dataframe tiene (499382, 13)**"
      ],
      "metadata": {
        "id": "zadWQc_3EC9K"
      },
      "id": "zadWQc_3EC9K"
    },
    {
      "cell_type": "code",
      "source": [
        "prop.shape"
      ],
      "metadata": {
        "colab": {
          "base_uri": "https://localhost:8080/"
        },
        "id": "huM11yW1EHXd",
        "outputId": "6a9840c8-b4cc-4adb-fa89-57c167c31723"
      },
      "id": "huM11yW1EHXd",
      "execution_count": 80,
      "outputs": [
        {
          "output_type": "execute_result",
          "data": {
            "text/plain": [
              "(494382, 13)"
            ]
          },
          "metadata": {},
          "execution_count": 80
        }
      ]
    }
  ],
  "metadata": {
    "colab": {
      "provenance": [],
      "toc_visible": true,
      "include_colab_link": true
    },
    "kernelspec": {
      "display_name": "Python 3 (ipykernel)",
      "language": "python",
      "name": "python3"
    },
    "language_info": {
      "codemirror_mode": {
        "name": "ipython",
        "version": 3
      },
      "file_extension": ".py",
      "mimetype": "text/x-python",
      "name": "python",
      "nbconvert_exporter": "python",
      "pygments_lexer": "ipython3",
      "version": "3.9.12"
    }
  },
  "nbformat": 4,
  "nbformat_minor": 5
}