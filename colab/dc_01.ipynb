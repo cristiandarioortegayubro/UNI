{
  "cells": [
    {
      "cell_type": "markdown",
      "metadata": {
        "id": "view-in-github",
        "colab_type": "text"
      },
      "source": [
        "<a href=\"https://colab.research.google.com/github/cristiandarioortegayubro/UNI/blob/main/colab/dc_01.ipynb\" target=\"_parent\"><img src=\"https://colab.research.google.com/assets/colab-badge.svg\" alt=\"Open In Colab\"/></a>"
      ]
    },
    {
      "cell_type": "markdown",
      "source": [
        "![](https://github.com/cristiandarioortegayubro/UNI/blob/main/UNI%2039%20Aniversario.jpg?raw=true)"
      ],
      "metadata": {
        "id": "mogSPUfQhyTK"
      },
      "id": "mogSPUfQhyTK"
    },
    {
      "cell_type": "markdown",
      "id": "c6549ba7-e07b-4ace-bd81-e8f81e9d6bcd",
      "metadata": {
        "id": "c6549ba7-e07b-4ace-bd81-e8f81e9d6bcd"
      },
      "source": [
        "# **Limpieza de Datos**"
      ]
    },
    {
      "cell_type": "markdown",
      "source": [
        "Nos encontramos iniciando un nuevo proyecto, nuestra empresa es una pequeña inmobiliaria que quiere fusionar el potencial del manejo de datos con la venta/alquiler de propiedades. Al ser una pequeña empresa el ***departamento de datos*** esta compuesto por una persona: nosotros. \n",
        "\n",
        "Esto quiere decir que vamos a absorber los roles de:\n",
        "\n",
        "- Ingeniero de Datos, y \n",
        "- Analista de Datos.\n"
      ],
      "metadata": {
        "id": "Mi4H1Ydsy9gh"
      },
      "id": "Mi4H1Ydsy9gh"
    },
    {
      "cell_type": "markdown",
      "id": "9c77b7d0-bea3-4772-a168-60349409b1a3",
      "metadata": {
        "id": "9c77b7d0-bea3-4772-a168-60349409b1a3"
      },
      "source": [
        "## **Ingesta de datos de propiedades**"
      ]
    },
    {
      "cell_type": "markdown",
      "id": "614cb164",
      "metadata": {
        "id": "614cb164"
      },
      "source": [
        "***El dataset central de este proyecto de propiedades de Argentina, tiene la siguientes columnas:***\n",
        "\n",
        "- **id** - Identificador del aviso. No es único: si el aviso es actualizado por la inmobiliaria (nueva versión del aviso) se crea un nuevo registro con la misma id pero distintas fechas: de alta y de baja.\n",
        "- **ad_type** - Tipo de aviso (Propiedad, Desarrollo/Proyecto).\n",
        "- **start_date** - Fecha de alta del aviso.\n",
        "- **end_date** - Fecha de baja del aviso.\n",
        "- **created_on** - Fecha de alta de la primera versión del aviso.\n",
        "- **lat** - Latitud.\n",
        "- **lon** - Longitud.\n",
        "- **l1** - Nivel administrativo 1: país.\n",
        "- **l2** - Nivel administrativo 2: usualmente provincia.\n",
        "- **l3** - Nivel administrativo 3: usualmente ciudad.\n",
        "- **l4** - Nivel administrativo 4: usualmente barrio.\n",
        "- **l5** - sin informacion\n",
        "- **l6** - sin informacion\n",
        "- **rooms** - Cantidad de ambientes\n",
        "- **bedrooms** - Cantidad de dormitorios\n",
        "- **bathrooms** - Cantidad de baños.\n",
        "- **surface_total** - Superficie total en m².\n",
        "- **surface_covered** - Superficie cubierta en m².\n",
        "- **price** - Precio publicado en el anuncio.\n",
        "- **currency** - Moneda del precio publicado.\n",
        "- **price_period** - Periodo del precio (Diario, Semanal, Mensual)\n",
        "- **title** - Título del anuncio.\n",
        "- **description** - Descripción del anuncio.\n",
        "- **property_type**: - Caracteristicas de la propiedad\n",
        "- **operation_type**: - Caracteristicas de la operacion ['Venta', 'Alquiler', 'Alquiler temporal']"
      ]
    },
    {
      "cell_type": "markdown",
      "source": [
        "## **Habilitando bibliotecas**"
      ],
      "metadata": {
        "id": "akkMOa8Lz0TL"
      },
      "id": "akkMOa8Lz0TL"
    },
    {
      "cell_type": "markdown",
      "source": [
        "***Habilitar las bibliotecas necesarias para generar un dataframe, hacer limpieza de datos, y generar gráficos.***"
      ],
      "metadata": {
        "id": "BDHNiX8d0CSm"
      },
      "id": "BDHNiX8d0CSm"
    },
    {
      "cell_type": "code",
      "source": [
        "from google.colab import drive\n",
        "drive.mount('/content/drive')"
      ],
      "metadata": {
        "colab": {
          "base_uri": "https://localhost:8080/"
        },
        "id": "I4c4ffFaJZyX",
        "outputId": "8aee3fd6-f94d-45e8-8ff4-4cfc78099a5b"
      },
      "id": "I4c4ffFaJZyX",
      "execution_count": null,
      "outputs": [
        {
          "output_type": "stream",
          "name": "stdout",
          "text": [
            "Drive already mounted at /content/drive; to attempt to forcibly remount, call drive.mount(\"/content/drive\", force_remount=True).\n"
          ]
        }
      ]
    },
    {
      "cell_type": "markdown",
      "source": [
        "### Para analisis de datos"
      ],
      "metadata": {
        "id": "KHhKEDMu2KUK"
      },
      "id": "KHhKEDMu2KUK"
    },
    {
      "cell_type": "code",
      "source": [
        "import numpy as np\n",
        "import pandas as pd"
      ],
      "metadata": {
        "id": "8YyzmxiMz8Nx"
      },
      "id": "8YyzmxiMz8Nx",
      "execution_count": null,
      "outputs": []
    },
    {
      "cell_type": "markdown",
      "id": "d546b882-c289-4cae-99cb-2ea5e3072f71",
      "metadata": {
        "id": "d546b882-c289-4cae-99cb-2ea5e3072f71"
      },
      "source": [
        "## **Análisis Exploratorio de los Datos**"
      ]
    },
    {
      "cell_type": "markdown",
      "id": "87508501",
      "metadata": {
        "id": "87508501"
      },
      "source": [
        "***Leer el archivo  ```.csv``` con Pandas y guardarlo en una variable llamada ```prop```***"
      ]
    },
    {
      "cell_type": "code",
      "execution_count": null,
      "id": "6fd3bd92",
      "metadata": {
        "id": "6fd3bd92"
      },
      "outputs": [],
      "source": [
        "prop = pd.read_csv(\"/content/drive/MyDrive/Notebooks/Workshop/propiedades.csv\")"
      ]
    },
    {
      "cell_type": "markdown",
      "id": "a2e59c4f",
      "metadata": {
        "id": "a2e59c4f"
      },
      "source": [
        "***Observar los primeros 8 registros***"
      ]
    },
    {
      "cell_type": "code",
      "source": [
        "prop.head(8)"
      ],
      "metadata": {
        "id": "ijQTQgJtkTcJ",
        "colab": {
          "base_uri": "https://localhost:8080/",
          "height": 650
        },
        "outputId": "96bcb0ee-8012-480c-93bf-fed8757c214d"
      },
      "id": "ijQTQgJtkTcJ",
      "execution_count": null,
      "outputs": [
        {
          "output_type": "execute_result",
          "data": {
            "text/plain": [
              "                         id    ad_type  start_date    end_date  created_on  \\\n",
              "0  DyVXfkpKygVBKuUk5olH+A==  Propiedad  2020-08-22  2020-09-03  2020-08-22   \n",
              "1  9naojilaMecJN4jlQiTkGg==  Propiedad  2020-08-22  2020-09-04  2020-08-22   \n",
              "2  tlCPRJPjoDEUzuuCelemAQ==  Propiedad  2020-08-22  2020-08-31  2020-08-22   \n",
              "3  Zw3b91glQUO3HNrM5fPYlQ==  Propiedad  2020-08-22  2020-09-04  2020-08-22   \n",
              "4  bsU81gm9JEgtZCbTYgvykg==  Propiedad  2020-08-22  2020-09-04  2020-08-22   \n",
              "5  3Cips/GEPuJqktYycSALCQ==  Propiedad  2020-08-22  2020-09-04  2020-08-22   \n",
              "6  6TO5dWwmivuJ67zkztUzCA==  Propiedad  2020-08-22  2020-09-04  2020-08-22   \n",
              "7  VlE71iojfIFoH4piJfFQ/g==  Propiedad  2020-08-22  2020-09-04  2020-08-22   \n",
              "\n",
              "         lat        lon         l1                            l2  \\\n",
              "0 -34.407468 -58.957367  Argentina      Bs.As. G.B.A. Zona Norte   \n",
              "1 -37.996039 -57.542509  Argentina  Buenos Aires Costa Atlántica   \n",
              "2 -31.380187 -58.009182  Argentina                    Entre Ríos   \n",
              "3 -27.494106 -55.123455  Argentina                      Misiones   \n",
              "4 -32.948856 -60.630464  Argentina                      Santa Fe   \n",
              "5 -32.884278 -60.710901  Argentina                      Santa Fe   \n",
              "6 -34.604195 -58.559827  Argentina      Bs.As. G.B.A. Zona Oeste   \n",
              "7 -32.948834 -60.630169  Argentina                      Santa Fe   \n",
              "\n",
              "                l3  ... bathrooms surface_total  surface_covered  price  \\\n",
              "0            Pilar  ...       NaN      133139.0              NaN    NaN   \n",
              "1    Mar del Plata  ...       NaN         687.0            687.0    NaN   \n",
              "2        Concordia  ...       1.0          80.0             80.0    NaN   \n",
              "3            Oberá  ...       1.0           NaN              NaN    NaN   \n",
              "4          Rosario  ...       1.0          76.0             66.0    NaN   \n",
              "5          Rosario  ...       1.0          39.0             33.0    NaN   \n",
              "6  Tres de Febrero  ...       1.0           NaN             42.0    NaN   \n",
              "7          Rosario  ...       2.0         130.0            108.0    NaN   \n",
              "\n",
              "   currency  price_period                                              title  \\\n",
              "0       NaN       Mensual  VENTA - Lote Industrial 130.000m2 - Parque Ind...   \n",
              "1       NaN       Mensual                               Casa - Santa Cecilia   \n",
              "2       NaN       Mensual                                   Casa - Concordia   \n",
              "3       NaN       Mensual                                    Terreno - Obera   \n",
              "4       NaN       Mensual                             Departamento - Rosario   \n",
              "5       NaN       Mensual                               9 DE JULIO 535 06 01   \n",
              "6       NaN       Mensual                             Departamento - Caseros   \n",
              "7       NaN       Mensual                             Departamento - Rosario   \n",
              "\n",
              "                                         description  property_type  \\\n",
              "0  Lote (Nro.50) mide 133.139 m2\\n<br>Valor: U$S ...           Lote   \n",
              "1  Conjunto edilicio de casa y departamentos en b...           Otro   \n",
              "2  Casa de un dormitorio, cocina, baño, living co...           Casa   \n",
              "3  IMPORTANTE PROPIEDAD EN VENTA EN OBERA MISIONE...           Lote   \n",
              "4  PORTAL DE LOS MARINOS<br>Es un complejo de viv...   Departamento   \n",
              "5  CARACTERÍSTICAS<br>Ingreso living comedor con ...   Departamento   \n",
              "6  Departamento 2 ambientes con Lavadero en Nicar...   Departamento   \n",
              "7  PORTAL DE LOS MARINOS<br>Es un complejo de viv...   Departamento   \n",
              "\n",
              "  operation_type  \n",
              "0          Venta  \n",
              "1          Venta  \n",
              "2       Alquiler  \n",
              "3          Venta  \n",
              "4          Venta  \n",
              "5       Alquiler  \n",
              "6       Alquiler  \n",
              "7          Venta  \n",
              "\n",
              "[8 rows x 25 columns]"
            ],
            "text/html": [
              "\n",
              "  <div id=\"df-2bc3d8cd-55b3-4aab-bb7d-60049a1cb3b6\">\n",
              "    <div class=\"colab-df-container\">\n",
              "      <div>\n",
              "<style scoped>\n",
              "    .dataframe tbody tr th:only-of-type {\n",
              "        vertical-align: middle;\n",
              "    }\n",
              "\n",
              "    .dataframe tbody tr th {\n",
              "        vertical-align: top;\n",
              "    }\n",
              "\n",
              "    .dataframe thead th {\n",
              "        text-align: right;\n",
              "    }\n",
              "</style>\n",
              "<table border=\"1\" class=\"dataframe\">\n",
              "  <thead>\n",
              "    <tr style=\"text-align: right;\">\n",
              "      <th></th>\n",
              "      <th>id</th>\n",
              "      <th>ad_type</th>\n",
              "      <th>start_date</th>\n",
              "      <th>end_date</th>\n",
              "      <th>created_on</th>\n",
              "      <th>lat</th>\n",
              "      <th>lon</th>\n",
              "      <th>l1</th>\n",
              "      <th>l2</th>\n",
              "      <th>l3</th>\n",
              "      <th>...</th>\n",
              "      <th>bathrooms</th>\n",
              "      <th>surface_total</th>\n",
              "      <th>surface_covered</th>\n",
              "      <th>price</th>\n",
              "      <th>currency</th>\n",
              "      <th>price_period</th>\n",
              "      <th>title</th>\n",
              "      <th>description</th>\n",
              "      <th>property_type</th>\n",
              "      <th>operation_type</th>\n",
              "    </tr>\n",
              "  </thead>\n",
              "  <tbody>\n",
              "    <tr>\n",
              "      <th>0</th>\n",
              "      <td>DyVXfkpKygVBKuUk5olH+A==</td>\n",
              "      <td>Propiedad</td>\n",
              "      <td>2020-08-22</td>\n",
              "      <td>2020-09-03</td>\n",
              "      <td>2020-08-22</td>\n",
              "      <td>-34.407468</td>\n",
              "      <td>-58.957367</td>\n",
              "      <td>Argentina</td>\n",
              "      <td>Bs.As. G.B.A. Zona Norte</td>\n",
              "      <td>Pilar</td>\n",
              "      <td>...</td>\n",
              "      <td>NaN</td>\n",
              "      <td>133139.0</td>\n",
              "      <td>NaN</td>\n",
              "      <td>NaN</td>\n",
              "      <td>NaN</td>\n",
              "      <td>Mensual</td>\n",
              "      <td>VENTA - Lote Industrial 130.000m2 - Parque Ind...</td>\n",
              "      <td>Lote (Nro.50) mide 133.139 m2\\n&lt;br&gt;Valor: U$S ...</td>\n",
              "      <td>Lote</td>\n",
              "      <td>Venta</td>\n",
              "    </tr>\n",
              "    <tr>\n",
              "      <th>1</th>\n",
              "      <td>9naojilaMecJN4jlQiTkGg==</td>\n",
              "      <td>Propiedad</td>\n",
              "      <td>2020-08-22</td>\n",
              "      <td>2020-09-04</td>\n",
              "      <td>2020-08-22</td>\n",
              "      <td>-37.996039</td>\n",
              "      <td>-57.542509</td>\n",
              "      <td>Argentina</td>\n",
              "      <td>Buenos Aires Costa Atlántica</td>\n",
              "      <td>Mar del Plata</td>\n",
              "      <td>...</td>\n",
              "      <td>NaN</td>\n",
              "      <td>687.0</td>\n",
              "      <td>687.0</td>\n",
              "      <td>NaN</td>\n",
              "      <td>NaN</td>\n",
              "      <td>Mensual</td>\n",
              "      <td>Casa - Santa Cecilia</td>\n",
              "      <td>Conjunto edilicio de casa y departamentos en b...</td>\n",
              "      <td>Otro</td>\n",
              "      <td>Venta</td>\n",
              "    </tr>\n",
              "    <tr>\n",
              "      <th>2</th>\n",
              "      <td>tlCPRJPjoDEUzuuCelemAQ==</td>\n",
              "      <td>Propiedad</td>\n",
              "      <td>2020-08-22</td>\n",
              "      <td>2020-08-31</td>\n",
              "      <td>2020-08-22</td>\n",
              "      <td>-31.380187</td>\n",
              "      <td>-58.009182</td>\n",
              "      <td>Argentina</td>\n",
              "      <td>Entre Ríos</td>\n",
              "      <td>Concordia</td>\n",
              "      <td>...</td>\n",
              "      <td>1.0</td>\n",
              "      <td>80.0</td>\n",
              "      <td>80.0</td>\n",
              "      <td>NaN</td>\n",
              "      <td>NaN</td>\n",
              "      <td>Mensual</td>\n",
              "      <td>Casa - Concordia</td>\n",
              "      <td>Casa de un dormitorio, cocina, baño, living co...</td>\n",
              "      <td>Casa</td>\n",
              "      <td>Alquiler</td>\n",
              "    </tr>\n",
              "    <tr>\n",
              "      <th>3</th>\n",
              "      <td>Zw3b91glQUO3HNrM5fPYlQ==</td>\n",
              "      <td>Propiedad</td>\n",
              "      <td>2020-08-22</td>\n",
              "      <td>2020-09-04</td>\n",
              "      <td>2020-08-22</td>\n",
              "      <td>-27.494106</td>\n",
              "      <td>-55.123455</td>\n",
              "      <td>Argentina</td>\n",
              "      <td>Misiones</td>\n",
              "      <td>Oberá</td>\n",
              "      <td>...</td>\n",
              "      <td>1.0</td>\n",
              "      <td>NaN</td>\n",
              "      <td>NaN</td>\n",
              "      <td>NaN</td>\n",
              "      <td>NaN</td>\n",
              "      <td>Mensual</td>\n",
              "      <td>Terreno - Obera</td>\n",
              "      <td>IMPORTANTE PROPIEDAD EN VENTA EN OBERA MISIONE...</td>\n",
              "      <td>Lote</td>\n",
              "      <td>Venta</td>\n",
              "    </tr>\n",
              "    <tr>\n",
              "      <th>4</th>\n",
              "      <td>bsU81gm9JEgtZCbTYgvykg==</td>\n",
              "      <td>Propiedad</td>\n",
              "      <td>2020-08-22</td>\n",
              "      <td>2020-09-04</td>\n",
              "      <td>2020-08-22</td>\n",
              "      <td>-32.948856</td>\n",
              "      <td>-60.630464</td>\n",
              "      <td>Argentina</td>\n",
              "      <td>Santa Fe</td>\n",
              "      <td>Rosario</td>\n",
              "      <td>...</td>\n",
              "      <td>1.0</td>\n",
              "      <td>76.0</td>\n",
              "      <td>66.0</td>\n",
              "      <td>NaN</td>\n",
              "      <td>NaN</td>\n",
              "      <td>Mensual</td>\n",
              "      <td>Departamento - Rosario</td>\n",
              "      <td>PORTAL DE LOS MARINOS&lt;br&gt;Es un complejo de viv...</td>\n",
              "      <td>Departamento</td>\n",
              "      <td>Venta</td>\n",
              "    </tr>\n",
              "    <tr>\n",
              "      <th>5</th>\n",
              "      <td>3Cips/GEPuJqktYycSALCQ==</td>\n",
              "      <td>Propiedad</td>\n",
              "      <td>2020-08-22</td>\n",
              "      <td>2020-09-04</td>\n",
              "      <td>2020-08-22</td>\n",
              "      <td>-32.884278</td>\n",
              "      <td>-60.710901</td>\n",
              "      <td>Argentina</td>\n",
              "      <td>Santa Fe</td>\n",
              "      <td>Rosario</td>\n",
              "      <td>...</td>\n",
              "      <td>1.0</td>\n",
              "      <td>39.0</td>\n",
              "      <td>33.0</td>\n",
              "      <td>NaN</td>\n",
              "      <td>NaN</td>\n",
              "      <td>Mensual</td>\n",
              "      <td>9 DE JULIO 535 06 01</td>\n",
              "      <td>CARACTERÍSTICAS&lt;br&gt;Ingreso living comedor con ...</td>\n",
              "      <td>Departamento</td>\n",
              "      <td>Alquiler</td>\n",
              "    </tr>\n",
              "    <tr>\n",
              "      <th>6</th>\n",
              "      <td>6TO5dWwmivuJ67zkztUzCA==</td>\n",
              "      <td>Propiedad</td>\n",
              "      <td>2020-08-22</td>\n",
              "      <td>2020-09-04</td>\n",
              "      <td>2020-08-22</td>\n",
              "      <td>-34.604195</td>\n",
              "      <td>-58.559827</td>\n",
              "      <td>Argentina</td>\n",
              "      <td>Bs.As. G.B.A. Zona Oeste</td>\n",
              "      <td>Tres de Febrero</td>\n",
              "      <td>...</td>\n",
              "      <td>1.0</td>\n",
              "      <td>NaN</td>\n",
              "      <td>42.0</td>\n",
              "      <td>NaN</td>\n",
              "      <td>NaN</td>\n",
              "      <td>Mensual</td>\n",
              "      <td>Departamento - Caseros</td>\n",
              "      <td>Departamento 2 ambientes con Lavadero en Nicar...</td>\n",
              "      <td>Departamento</td>\n",
              "      <td>Alquiler</td>\n",
              "    </tr>\n",
              "    <tr>\n",
              "      <th>7</th>\n",
              "      <td>VlE71iojfIFoH4piJfFQ/g==</td>\n",
              "      <td>Propiedad</td>\n",
              "      <td>2020-08-22</td>\n",
              "      <td>2020-09-04</td>\n",
              "      <td>2020-08-22</td>\n",
              "      <td>-32.948834</td>\n",
              "      <td>-60.630169</td>\n",
              "      <td>Argentina</td>\n",
              "      <td>Santa Fe</td>\n",
              "      <td>Rosario</td>\n",
              "      <td>...</td>\n",
              "      <td>2.0</td>\n",
              "      <td>130.0</td>\n",
              "      <td>108.0</td>\n",
              "      <td>NaN</td>\n",
              "      <td>NaN</td>\n",
              "      <td>Mensual</td>\n",
              "      <td>Departamento - Rosario</td>\n",
              "      <td>PORTAL DE LOS MARINOS&lt;br&gt;Es un complejo de viv...</td>\n",
              "      <td>Departamento</td>\n",
              "      <td>Venta</td>\n",
              "    </tr>\n",
              "  </tbody>\n",
              "</table>\n",
              "<p>8 rows × 25 columns</p>\n",
              "</div>\n",
              "      <button class=\"colab-df-convert\" onclick=\"convertToInteractive('df-2bc3d8cd-55b3-4aab-bb7d-60049a1cb3b6')\"\n",
              "              title=\"Convert this dataframe to an interactive table.\"\n",
              "              style=\"display:none;\">\n",
              "        \n",
              "  <svg xmlns=\"http://www.w3.org/2000/svg\" height=\"24px\"viewBox=\"0 0 24 24\"\n",
              "       width=\"24px\">\n",
              "    <path d=\"M0 0h24v24H0V0z\" fill=\"none\"/>\n",
              "    <path d=\"M18.56 5.44l.94 2.06.94-2.06 2.06-.94-2.06-.94-.94-2.06-.94 2.06-2.06.94zm-11 1L8.5 8.5l.94-2.06 2.06-.94-2.06-.94L8.5 2.5l-.94 2.06-2.06.94zm10 10l.94 2.06.94-2.06 2.06-.94-2.06-.94-.94-2.06-.94 2.06-2.06.94z\"/><path d=\"M17.41 7.96l-1.37-1.37c-.4-.4-.92-.59-1.43-.59-.52 0-1.04.2-1.43.59L10.3 9.45l-7.72 7.72c-.78.78-.78 2.05 0 2.83L4 21.41c.39.39.9.59 1.41.59.51 0 1.02-.2 1.41-.59l7.78-7.78 2.81-2.81c.8-.78.8-2.07 0-2.86zM5.41 20L4 18.59l7.72-7.72 1.47 1.35L5.41 20z\"/>\n",
              "  </svg>\n",
              "      </button>\n",
              "      \n",
              "  <style>\n",
              "    .colab-df-container {\n",
              "      display:flex;\n",
              "      flex-wrap:wrap;\n",
              "      gap: 12px;\n",
              "    }\n",
              "\n",
              "    .colab-df-convert {\n",
              "      background-color: #E8F0FE;\n",
              "      border: none;\n",
              "      border-radius: 50%;\n",
              "      cursor: pointer;\n",
              "      display: none;\n",
              "      fill: #1967D2;\n",
              "      height: 32px;\n",
              "      padding: 0 0 0 0;\n",
              "      width: 32px;\n",
              "    }\n",
              "\n",
              "    .colab-df-convert:hover {\n",
              "      background-color: #E2EBFA;\n",
              "      box-shadow: 0px 1px 2px rgba(60, 64, 67, 0.3), 0px 1px 3px 1px rgba(60, 64, 67, 0.15);\n",
              "      fill: #174EA6;\n",
              "    }\n",
              "\n",
              "    [theme=dark] .colab-df-convert {\n",
              "      background-color: #3B4455;\n",
              "      fill: #D2E3FC;\n",
              "    }\n",
              "\n",
              "    [theme=dark] .colab-df-convert:hover {\n",
              "      background-color: #434B5C;\n",
              "      box-shadow: 0px 1px 3px 1px rgba(0, 0, 0, 0.15);\n",
              "      filter: drop-shadow(0px 1px 2px rgba(0, 0, 0, 0.3));\n",
              "      fill: #FFFFFF;\n",
              "    }\n",
              "  </style>\n",
              "\n",
              "      <script>\n",
              "        const buttonEl =\n",
              "          document.querySelector('#df-2bc3d8cd-55b3-4aab-bb7d-60049a1cb3b6 button.colab-df-convert');\n",
              "        buttonEl.style.display =\n",
              "          google.colab.kernel.accessAllowed ? 'block' : 'none';\n",
              "\n",
              "        async function convertToInteractive(key) {\n",
              "          const element = document.querySelector('#df-2bc3d8cd-55b3-4aab-bb7d-60049a1cb3b6');\n",
              "          const dataTable =\n",
              "            await google.colab.kernel.invokeFunction('convertToInteractive',\n",
              "                                                     [key], {});\n",
              "          if (!dataTable) return;\n",
              "\n",
              "          const docLinkHtml = 'Like what you see? Visit the ' +\n",
              "            '<a target=\"_blank\" href=https://colab.research.google.com/notebooks/data_table.ipynb>data table notebook</a>'\n",
              "            + ' to learn more about interactive tables.';\n",
              "          element.innerHTML = '';\n",
              "          dataTable['output_type'] = 'display_data';\n",
              "          await google.colab.output.renderOutput(dataTable, element);\n",
              "          const docLink = document.createElement('div');\n",
              "          docLink.innerHTML = docLinkHtml;\n",
              "          element.appendChild(docLink);\n",
              "        }\n",
              "      </script>\n",
              "    </div>\n",
              "  </div>\n",
              "  "
            ]
          },
          "metadata": {},
          "execution_count": 5
        }
      ]
    },
    {
      "cell_type": "markdown",
      "source": [
        "***Observar los últimos 5 registros***"
      ],
      "metadata": {
        "id": "VrQhidLF0sWf"
      },
      "id": "VrQhidLF0sWf"
    },
    {
      "cell_type": "code",
      "source": [
        "prop.tail()"
      ],
      "metadata": {
        "id": "eP6aLB7GkUy7",
        "colab": {
          "base_uri": "https://localhost:8080/",
          "height": 640
        },
        "outputId": "cc1adace-5540-4cad-eb26-9d62eecbfdf5"
      },
      "id": "eP6aLB7GkUy7",
      "execution_count": null,
      "outputs": [
        {
          "output_type": "execute_result",
          "data": {
            "text/plain": [
              "                              id    ad_type  start_date    end_date  \\\n",
              "999995  jMYhwydKqUje8HCx7RzwJQ==  Propiedad  2020-12-04  9999-12-31   \n",
              "999996  FsP7ornzqnK1CvUL8quQ9Q==  Propiedad  2020-12-04  9999-12-31   \n",
              "999997  fJLVUIziPl31ACoaE/fj1g==  Propiedad  2020-12-04  9999-12-31   \n",
              "999998  7mW3bUSJFA0RBOj2xtBi+w==  Propiedad  2020-12-04  9999-12-31   \n",
              "999999  rEynGyGrrsxNeG0ib5vUBA==  Propiedad  2020-12-04  2020-12-21   \n",
              "\n",
              "        created_on        lat        lon         l1                        l2  \\\n",
              "999995  2020-12-04 -32.958863 -60.665633  Argentina                  Santa Fe   \n",
              "999996  2020-12-04 -34.596587 -58.376893  Argentina           Capital Federal   \n",
              "999997  2020-12-04 -34.576445 -58.432603  Argentina           Capital Federal   \n",
              "999998  2020-12-04 -32.866636 -68.841144  Argentina                   Mendoza   \n",
              "999999  2020-12-04 -34.447524 -58.631552  Argentina  Bs.As. G.B.A. Zona Norte   \n",
              "\n",
              "             l3  ... bathrooms surface_total  surface_covered     price  \\\n",
              "999995  Rosario  ...       7.0         400.0            300.0  400000.0   \n",
              "999996   Retiro  ...       5.0         465.0            465.0    3700.0   \n",
              "999997  Palermo  ...       2.0         615.0            425.0  570000.0   \n",
              "999998      NaN  ...      20.0         450.0            450.0  800000.0   \n",
              "999999    Tigre  ...       4.0         350.0            300.0    7000.0   \n",
              "\n",
              "        currency  price_period  \\\n",
              "999995       USD       Mensual   \n",
              "999996       USD       Mensual   \n",
              "999997       USD       Mensual   \n",
              "999998       USD       Mensual   \n",
              "999999       USD       Mensual   \n",
              "\n",
              "                                                    title  \\\n",
              "999995  Se vende imponente casa a minutos del centro d...   \n",
              "999996                        Edificio Comercial - Retiro   \n",
              "999997  Edificio Comercial  en excelente zona de Paler...   \n",
              "999998                       Edificio Comercial - Capital   \n",
              "999999  INCREÍBLE ECASA A LA LAGUNA DESDE DIC a FEBRER...   \n",
              "\n",
              "                                              description    property_type  \\\n",
              "999995  Esta excelente propiedad se encuentra ubicada ...             Casa   \n",
              "999996  GRAN EDIFICIO PETIT HOTEL ESTILO FRANCÉS  CON ...  Local comercial   \n",
              "999997  Edificio Comercial CON ENTRADA INDEPENDIENTE S...  Local comercial   \n",
              "999998  Local 450m² con Cloaca en 25 de mayo, Argentin...  Local comercial   \n",
              "999999  ESPECTACULAR CASA A LA LAGUNA  -BARRIO SANTA B...             Casa   \n",
              "\n",
              "           operation_type  \n",
              "999995              Venta  \n",
              "999996           Alquiler  \n",
              "999997              Venta  \n",
              "999998              Venta  \n",
              "999999  Alquiler temporal  \n",
              "\n",
              "[5 rows x 25 columns]"
            ],
            "text/html": [
              "\n",
              "  <div id=\"df-9241d131-cfe5-4f33-be2f-12b2aaad2990\">\n",
              "    <div class=\"colab-df-container\">\n",
              "      <div>\n",
              "<style scoped>\n",
              "    .dataframe tbody tr th:only-of-type {\n",
              "        vertical-align: middle;\n",
              "    }\n",
              "\n",
              "    .dataframe tbody tr th {\n",
              "        vertical-align: top;\n",
              "    }\n",
              "\n",
              "    .dataframe thead th {\n",
              "        text-align: right;\n",
              "    }\n",
              "</style>\n",
              "<table border=\"1\" class=\"dataframe\">\n",
              "  <thead>\n",
              "    <tr style=\"text-align: right;\">\n",
              "      <th></th>\n",
              "      <th>id</th>\n",
              "      <th>ad_type</th>\n",
              "      <th>start_date</th>\n",
              "      <th>end_date</th>\n",
              "      <th>created_on</th>\n",
              "      <th>lat</th>\n",
              "      <th>lon</th>\n",
              "      <th>l1</th>\n",
              "      <th>l2</th>\n",
              "      <th>l3</th>\n",
              "      <th>...</th>\n",
              "      <th>bathrooms</th>\n",
              "      <th>surface_total</th>\n",
              "      <th>surface_covered</th>\n",
              "      <th>price</th>\n",
              "      <th>currency</th>\n",
              "      <th>price_period</th>\n",
              "      <th>title</th>\n",
              "      <th>description</th>\n",
              "      <th>property_type</th>\n",
              "      <th>operation_type</th>\n",
              "    </tr>\n",
              "  </thead>\n",
              "  <tbody>\n",
              "    <tr>\n",
              "      <th>999995</th>\n",
              "      <td>jMYhwydKqUje8HCx7RzwJQ==</td>\n",
              "      <td>Propiedad</td>\n",
              "      <td>2020-12-04</td>\n",
              "      <td>9999-12-31</td>\n",
              "      <td>2020-12-04</td>\n",
              "      <td>-32.958863</td>\n",
              "      <td>-60.665633</td>\n",
              "      <td>Argentina</td>\n",
              "      <td>Santa Fe</td>\n",
              "      <td>Rosario</td>\n",
              "      <td>...</td>\n",
              "      <td>7.0</td>\n",
              "      <td>400.0</td>\n",
              "      <td>300.0</td>\n",
              "      <td>400000.0</td>\n",
              "      <td>USD</td>\n",
              "      <td>Mensual</td>\n",
              "      <td>Se vende imponente casa a minutos del centro d...</td>\n",
              "      <td>Esta excelente propiedad se encuentra ubicada ...</td>\n",
              "      <td>Casa</td>\n",
              "      <td>Venta</td>\n",
              "    </tr>\n",
              "    <tr>\n",
              "      <th>999996</th>\n",
              "      <td>FsP7ornzqnK1CvUL8quQ9Q==</td>\n",
              "      <td>Propiedad</td>\n",
              "      <td>2020-12-04</td>\n",
              "      <td>9999-12-31</td>\n",
              "      <td>2020-12-04</td>\n",
              "      <td>-34.596587</td>\n",
              "      <td>-58.376893</td>\n",
              "      <td>Argentina</td>\n",
              "      <td>Capital Federal</td>\n",
              "      <td>Retiro</td>\n",
              "      <td>...</td>\n",
              "      <td>5.0</td>\n",
              "      <td>465.0</td>\n",
              "      <td>465.0</td>\n",
              "      <td>3700.0</td>\n",
              "      <td>USD</td>\n",
              "      <td>Mensual</td>\n",
              "      <td>Edificio Comercial - Retiro</td>\n",
              "      <td>GRAN EDIFICIO PETIT HOTEL ESTILO FRANCÉS  CON ...</td>\n",
              "      <td>Local comercial</td>\n",
              "      <td>Alquiler</td>\n",
              "    </tr>\n",
              "    <tr>\n",
              "      <th>999997</th>\n",
              "      <td>fJLVUIziPl31ACoaE/fj1g==</td>\n",
              "      <td>Propiedad</td>\n",
              "      <td>2020-12-04</td>\n",
              "      <td>9999-12-31</td>\n",
              "      <td>2020-12-04</td>\n",
              "      <td>-34.576445</td>\n",
              "      <td>-58.432603</td>\n",
              "      <td>Argentina</td>\n",
              "      <td>Capital Federal</td>\n",
              "      <td>Palermo</td>\n",
              "      <td>...</td>\n",
              "      <td>2.0</td>\n",
              "      <td>615.0</td>\n",
              "      <td>425.0</td>\n",
              "      <td>570000.0</td>\n",
              "      <td>USD</td>\n",
              "      <td>Mensual</td>\n",
              "      <td>Edificio Comercial  en excelente zona de Paler...</td>\n",
              "      <td>Edificio Comercial CON ENTRADA INDEPENDIENTE S...</td>\n",
              "      <td>Local comercial</td>\n",
              "      <td>Venta</td>\n",
              "    </tr>\n",
              "    <tr>\n",
              "      <th>999998</th>\n",
              "      <td>7mW3bUSJFA0RBOj2xtBi+w==</td>\n",
              "      <td>Propiedad</td>\n",
              "      <td>2020-12-04</td>\n",
              "      <td>9999-12-31</td>\n",
              "      <td>2020-12-04</td>\n",
              "      <td>-32.866636</td>\n",
              "      <td>-68.841144</td>\n",
              "      <td>Argentina</td>\n",
              "      <td>Mendoza</td>\n",
              "      <td>NaN</td>\n",
              "      <td>...</td>\n",
              "      <td>20.0</td>\n",
              "      <td>450.0</td>\n",
              "      <td>450.0</td>\n",
              "      <td>800000.0</td>\n",
              "      <td>USD</td>\n",
              "      <td>Mensual</td>\n",
              "      <td>Edificio Comercial - Capital</td>\n",
              "      <td>Local 450m² con Cloaca en 25 de mayo, Argentin...</td>\n",
              "      <td>Local comercial</td>\n",
              "      <td>Venta</td>\n",
              "    </tr>\n",
              "    <tr>\n",
              "      <th>999999</th>\n",
              "      <td>rEynGyGrrsxNeG0ib5vUBA==</td>\n",
              "      <td>Propiedad</td>\n",
              "      <td>2020-12-04</td>\n",
              "      <td>2020-12-21</td>\n",
              "      <td>2020-12-04</td>\n",
              "      <td>-34.447524</td>\n",
              "      <td>-58.631552</td>\n",
              "      <td>Argentina</td>\n",
              "      <td>Bs.As. G.B.A. Zona Norte</td>\n",
              "      <td>Tigre</td>\n",
              "      <td>...</td>\n",
              "      <td>4.0</td>\n",
              "      <td>350.0</td>\n",
              "      <td>300.0</td>\n",
              "      <td>7000.0</td>\n",
              "      <td>USD</td>\n",
              "      <td>Mensual</td>\n",
              "      <td>INCREÍBLE ECASA A LA LAGUNA DESDE DIC a FEBRER...</td>\n",
              "      <td>ESPECTACULAR CASA A LA LAGUNA  -BARRIO SANTA B...</td>\n",
              "      <td>Casa</td>\n",
              "      <td>Alquiler temporal</td>\n",
              "    </tr>\n",
              "  </tbody>\n",
              "</table>\n",
              "<p>5 rows × 25 columns</p>\n",
              "</div>\n",
              "      <button class=\"colab-df-convert\" onclick=\"convertToInteractive('df-9241d131-cfe5-4f33-be2f-12b2aaad2990')\"\n",
              "              title=\"Convert this dataframe to an interactive table.\"\n",
              "              style=\"display:none;\">\n",
              "        \n",
              "  <svg xmlns=\"http://www.w3.org/2000/svg\" height=\"24px\"viewBox=\"0 0 24 24\"\n",
              "       width=\"24px\">\n",
              "    <path d=\"M0 0h24v24H0V0z\" fill=\"none\"/>\n",
              "    <path d=\"M18.56 5.44l.94 2.06.94-2.06 2.06-.94-2.06-.94-.94-2.06-.94 2.06-2.06.94zm-11 1L8.5 8.5l.94-2.06 2.06-.94-2.06-.94L8.5 2.5l-.94 2.06-2.06.94zm10 10l.94 2.06.94-2.06 2.06-.94-2.06-.94-.94-2.06-.94 2.06-2.06.94z\"/><path d=\"M17.41 7.96l-1.37-1.37c-.4-.4-.92-.59-1.43-.59-.52 0-1.04.2-1.43.59L10.3 9.45l-7.72 7.72c-.78.78-.78 2.05 0 2.83L4 21.41c.39.39.9.59 1.41.59.51 0 1.02-.2 1.41-.59l7.78-7.78 2.81-2.81c.8-.78.8-2.07 0-2.86zM5.41 20L4 18.59l7.72-7.72 1.47 1.35L5.41 20z\"/>\n",
              "  </svg>\n",
              "      </button>\n",
              "      \n",
              "  <style>\n",
              "    .colab-df-container {\n",
              "      display:flex;\n",
              "      flex-wrap:wrap;\n",
              "      gap: 12px;\n",
              "    }\n",
              "\n",
              "    .colab-df-convert {\n",
              "      background-color: #E8F0FE;\n",
              "      border: none;\n",
              "      border-radius: 50%;\n",
              "      cursor: pointer;\n",
              "      display: none;\n",
              "      fill: #1967D2;\n",
              "      height: 32px;\n",
              "      padding: 0 0 0 0;\n",
              "      width: 32px;\n",
              "    }\n",
              "\n",
              "    .colab-df-convert:hover {\n",
              "      background-color: #E2EBFA;\n",
              "      box-shadow: 0px 1px 2px rgba(60, 64, 67, 0.3), 0px 1px 3px 1px rgba(60, 64, 67, 0.15);\n",
              "      fill: #174EA6;\n",
              "    }\n",
              "\n",
              "    [theme=dark] .colab-df-convert {\n",
              "      background-color: #3B4455;\n",
              "      fill: #D2E3FC;\n",
              "    }\n",
              "\n",
              "    [theme=dark] .colab-df-convert:hover {\n",
              "      background-color: #434B5C;\n",
              "      box-shadow: 0px 1px 3px 1px rgba(0, 0, 0, 0.15);\n",
              "      filter: drop-shadow(0px 1px 2px rgba(0, 0, 0, 0.3));\n",
              "      fill: #FFFFFF;\n",
              "    }\n",
              "  </style>\n",
              "\n",
              "      <script>\n",
              "        const buttonEl =\n",
              "          document.querySelector('#df-9241d131-cfe5-4f33-be2f-12b2aaad2990 button.colab-df-convert');\n",
              "        buttonEl.style.display =\n",
              "          google.colab.kernel.accessAllowed ? 'block' : 'none';\n",
              "\n",
              "        async function convertToInteractive(key) {\n",
              "          const element = document.querySelector('#df-9241d131-cfe5-4f33-be2f-12b2aaad2990');\n",
              "          const dataTable =\n",
              "            await google.colab.kernel.invokeFunction('convertToInteractive',\n",
              "                                                     [key], {});\n",
              "          if (!dataTable) return;\n",
              "\n",
              "          const docLinkHtml = 'Like what you see? Visit the ' +\n",
              "            '<a target=\"_blank\" href=https://colab.research.google.com/notebooks/data_table.ipynb>data table notebook</a>'\n",
              "            + ' to learn more about interactive tables.';\n",
              "          element.innerHTML = '';\n",
              "          dataTable['output_type'] = 'display_data';\n",
              "          await google.colab.output.renderOutput(dataTable, element);\n",
              "          const docLink = document.createElement('div');\n",
              "          docLink.innerHTML = docLinkHtml;\n",
              "          element.appendChild(docLink);\n",
              "        }\n",
              "      </script>\n",
              "    </div>\n",
              "  </div>\n",
              "  "
            ]
          },
          "metadata": {},
          "execution_count": 6
        }
      ]
    },
    {
      "cell_type": "markdown",
      "id": "fb67d753",
      "metadata": {
        "id": "fb67d753"
      },
      "source": [
        "***Imprimir la cantidad de filas y columnas del dataframe***"
      ]
    },
    {
      "cell_type": "code",
      "source": [
        "print(f\"El conjunto de datos tiene {prop.shape[0]} filas y {prop.shape[1]} columnas\")"
      ],
      "metadata": {
        "id": "WCQSc0bPkWWV",
        "colab": {
          "base_uri": "https://localhost:8080/"
        },
        "outputId": "7967ce84-8275-4610-8625-765bfe4eea13"
      },
      "id": "WCQSc0bPkWWV",
      "execution_count": null,
      "outputs": [
        {
          "output_type": "stream",
          "name": "stdout",
          "text": [
            "El conjunto de datos tiene 1000000 filas y 25 columnas\n"
          ]
        }
      ]
    },
    {
      "cell_type": "markdown",
      "source": [
        "**PUNTO DE REVISIÓN**\n",
        "\n",
        "***A esta altura el dataframe tiene $1000000$ filas y $25$ columnas...***"
      ],
      "metadata": {
        "id": "672Gi5UPJ4Fl"
      },
      "id": "672Gi5UPJ4Fl"
    },
    {
      "cell_type": "markdown",
      "source": [
        "**Usar info**"
      ],
      "metadata": {
        "id": "q0M9SYUC1eML"
      },
      "id": "q0M9SYUC1eML"
    },
    {
      "cell_type": "code",
      "source": [
        "prop.info()"
      ],
      "metadata": {
        "id": "iujuxdkrkYCF",
        "colab": {
          "base_uri": "https://localhost:8080/"
        },
        "outputId": "73a4dbbc-26a6-4894-ad87-3433055b71c3"
      },
      "id": "iujuxdkrkYCF",
      "execution_count": null,
      "outputs": [
        {
          "output_type": "stream",
          "name": "stdout",
          "text": [
            "<class 'pandas.core.frame.DataFrame'>\n",
            "RangeIndex: 1000000 entries, 0 to 999999\n",
            "Data columns (total 25 columns):\n",
            " #   Column           Non-Null Count    Dtype  \n",
            "---  ------           --------------    -----  \n",
            " 0   id               1000000 non-null  object \n",
            " 1   ad_type          1000000 non-null  object \n",
            " 2   start_date       1000000 non-null  object \n",
            " 3   end_date         1000000 non-null  object \n",
            " 4   created_on       1000000 non-null  object \n",
            " 5   lat              894233 non-null   float64\n",
            " 6   lon              894191 non-null   float64\n",
            " 7   l1               1000000 non-null  object \n",
            " 8   l2               1000000 non-null  object \n",
            " 9   l3               965273 non-null   object \n",
            " 10  l4               306162 non-null   object \n",
            " 11  l5               5530 non-null     object \n",
            " 12  l6               0 non-null        float64\n",
            " 13  rooms            714179 non-null   float64\n",
            " 14  bedrooms         649933 non-null   float64\n",
            " 15  bathrooms        765122 non-null   float64\n",
            " 16  surface_total    477831 non-null   float64\n",
            " 17  surface_covered  487756 non-null   float64\n",
            " 18  price            958243 non-null   float64\n",
            " 19  currency         955491 non-null   object \n",
            " 20  price_period     429870 non-null   object \n",
            " 21  title            999999 non-null   object \n",
            " 22  description      999958 non-null   object \n",
            " 23  property_type    1000000 non-null  object \n",
            " 24  operation_type   1000000 non-null  object \n",
            "dtypes: float64(9), object(16)\n",
            "memory usage: 190.7+ MB\n"
          ]
        }
      ]
    },
    {
      "cell_type": "markdown",
      "source": [
        "***Usar ```describe()``` para variables cuantitativas y mostrar el resumen con dos decimales y transpuesto (transposicion)...***"
      ],
      "metadata": {
        "id": "tgtDPClI1G8R"
      },
      "id": "tgtDPClI1G8R"
    },
    {
      "cell_type": "code",
      "source": [
        "prop.describe().round(2).T"
      ],
      "metadata": {
        "id": "33FJBrtRkZtS",
        "colab": {
          "base_uri": "https://localhost:8080/",
          "height": 343
        },
        "outputId": "c642bc99-d4f3-419f-ade4-b8e03736ca36"
      },
      "id": "33FJBrtRkZtS",
      "execution_count": null,
      "outputs": [
        {
          "output_type": "execute_result",
          "data": {
            "text/plain": [
              "                    count       mean         std     min       25%       50%  \\\n",
              "lat              894233.0     -34.38        3.04  -54.84    -34.72    -34.59   \n",
              "lon              894191.0     -59.49        2.80 -122.54    -58.88    -58.49   \n",
              "l6                    0.0        NaN         NaN     NaN       NaN       NaN   \n",
              "rooms            714179.0       2.92        1.74    1.00      2.00      3.00   \n",
              "bedrooms         649933.0       2.10        2.08  -16.00      1.00      2.00   \n",
              "bathrooms        765122.0       1.71        1.09    1.00      1.00      1.00   \n",
              "surface_total    477831.0     513.76     4297.24 -136.00     50.00     95.00   \n",
              "surface_covered  487756.0   11656.22  4443191.26 -130.00     45.00     78.00   \n",
              "price            958243.0  346094.02  5713689.88    0.00  38000.00  97000.00   \n",
              "\n",
              "                       75%           max  \n",
              "lat                 -34.42  4.963000e+01  \n",
              "lon                 -58.40  1.800000e+02  \n",
              "l6                     NaN           NaN  \n",
              "rooms                 4.00  4.000000e+01  \n",
              "bedrooms              3.00  9.000000e+02  \n",
              "bathrooms             2.00  2.000000e+01  \n",
              "surface_total       250.00  2.000000e+05  \n",
              "surface_covered     168.00  2.147484e+09  \n",
              "price            210000.00  3.100000e+09  "
            ],
            "text/html": [
              "\n",
              "  <div id=\"df-b25c81d6-982d-4922-913f-a257a05827b0\">\n",
              "    <div class=\"colab-df-container\">\n",
              "      <div>\n",
              "<style scoped>\n",
              "    .dataframe tbody tr th:only-of-type {\n",
              "        vertical-align: middle;\n",
              "    }\n",
              "\n",
              "    .dataframe tbody tr th {\n",
              "        vertical-align: top;\n",
              "    }\n",
              "\n",
              "    .dataframe thead th {\n",
              "        text-align: right;\n",
              "    }\n",
              "</style>\n",
              "<table border=\"1\" class=\"dataframe\">\n",
              "  <thead>\n",
              "    <tr style=\"text-align: right;\">\n",
              "      <th></th>\n",
              "      <th>count</th>\n",
              "      <th>mean</th>\n",
              "      <th>std</th>\n",
              "      <th>min</th>\n",
              "      <th>25%</th>\n",
              "      <th>50%</th>\n",
              "      <th>75%</th>\n",
              "      <th>max</th>\n",
              "    </tr>\n",
              "  </thead>\n",
              "  <tbody>\n",
              "    <tr>\n",
              "      <th>lat</th>\n",
              "      <td>894233.0</td>\n",
              "      <td>-34.38</td>\n",
              "      <td>3.04</td>\n",
              "      <td>-54.84</td>\n",
              "      <td>-34.72</td>\n",
              "      <td>-34.59</td>\n",
              "      <td>-34.42</td>\n",
              "      <td>4.963000e+01</td>\n",
              "    </tr>\n",
              "    <tr>\n",
              "      <th>lon</th>\n",
              "      <td>894191.0</td>\n",
              "      <td>-59.49</td>\n",
              "      <td>2.80</td>\n",
              "      <td>-122.54</td>\n",
              "      <td>-58.88</td>\n",
              "      <td>-58.49</td>\n",
              "      <td>-58.40</td>\n",
              "      <td>1.800000e+02</td>\n",
              "    </tr>\n",
              "    <tr>\n",
              "      <th>l6</th>\n",
              "      <td>0.0</td>\n",
              "      <td>NaN</td>\n",
              "      <td>NaN</td>\n",
              "      <td>NaN</td>\n",
              "      <td>NaN</td>\n",
              "      <td>NaN</td>\n",
              "      <td>NaN</td>\n",
              "      <td>NaN</td>\n",
              "    </tr>\n",
              "    <tr>\n",
              "      <th>rooms</th>\n",
              "      <td>714179.0</td>\n",
              "      <td>2.92</td>\n",
              "      <td>1.74</td>\n",
              "      <td>1.00</td>\n",
              "      <td>2.00</td>\n",
              "      <td>3.00</td>\n",
              "      <td>4.00</td>\n",
              "      <td>4.000000e+01</td>\n",
              "    </tr>\n",
              "    <tr>\n",
              "      <th>bedrooms</th>\n",
              "      <td>649933.0</td>\n",
              "      <td>2.10</td>\n",
              "      <td>2.08</td>\n",
              "      <td>-16.00</td>\n",
              "      <td>1.00</td>\n",
              "      <td>2.00</td>\n",
              "      <td>3.00</td>\n",
              "      <td>9.000000e+02</td>\n",
              "    </tr>\n",
              "    <tr>\n",
              "      <th>bathrooms</th>\n",
              "      <td>765122.0</td>\n",
              "      <td>1.71</td>\n",
              "      <td>1.09</td>\n",
              "      <td>1.00</td>\n",
              "      <td>1.00</td>\n",
              "      <td>1.00</td>\n",
              "      <td>2.00</td>\n",
              "      <td>2.000000e+01</td>\n",
              "    </tr>\n",
              "    <tr>\n",
              "      <th>surface_total</th>\n",
              "      <td>477831.0</td>\n",
              "      <td>513.76</td>\n",
              "      <td>4297.24</td>\n",
              "      <td>-136.00</td>\n",
              "      <td>50.00</td>\n",
              "      <td>95.00</td>\n",
              "      <td>250.00</td>\n",
              "      <td>2.000000e+05</td>\n",
              "    </tr>\n",
              "    <tr>\n",
              "      <th>surface_covered</th>\n",
              "      <td>487756.0</td>\n",
              "      <td>11656.22</td>\n",
              "      <td>4443191.26</td>\n",
              "      <td>-130.00</td>\n",
              "      <td>45.00</td>\n",
              "      <td>78.00</td>\n",
              "      <td>168.00</td>\n",
              "      <td>2.147484e+09</td>\n",
              "    </tr>\n",
              "    <tr>\n",
              "      <th>price</th>\n",
              "      <td>958243.0</td>\n",
              "      <td>346094.02</td>\n",
              "      <td>5713689.88</td>\n",
              "      <td>0.00</td>\n",
              "      <td>38000.00</td>\n",
              "      <td>97000.00</td>\n",
              "      <td>210000.00</td>\n",
              "      <td>3.100000e+09</td>\n",
              "    </tr>\n",
              "  </tbody>\n",
              "</table>\n",
              "</div>\n",
              "      <button class=\"colab-df-convert\" onclick=\"convertToInteractive('df-b25c81d6-982d-4922-913f-a257a05827b0')\"\n",
              "              title=\"Convert this dataframe to an interactive table.\"\n",
              "              style=\"display:none;\">\n",
              "        \n",
              "  <svg xmlns=\"http://www.w3.org/2000/svg\" height=\"24px\"viewBox=\"0 0 24 24\"\n",
              "       width=\"24px\">\n",
              "    <path d=\"M0 0h24v24H0V0z\" fill=\"none\"/>\n",
              "    <path d=\"M18.56 5.44l.94 2.06.94-2.06 2.06-.94-2.06-.94-.94-2.06-.94 2.06-2.06.94zm-11 1L8.5 8.5l.94-2.06 2.06-.94-2.06-.94L8.5 2.5l-.94 2.06-2.06.94zm10 10l.94 2.06.94-2.06 2.06-.94-2.06-.94-.94-2.06-.94 2.06-2.06.94z\"/><path d=\"M17.41 7.96l-1.37-1.37c-.4-.4-.92-.59-1.43-.59-.52 0-1.04.2-1.43.59L10.3 9.45l-7.72 7.72c-.78.78-.78 2.05 0 2.83L4 21.41c.39.39.9.59 1.41.59.51 0 1.02-.2 1.41-.59l7.78-7.78 2.81-2.81c.8-.78.8-2.07 0-2.86zM5.41 20L4 18.59l7.72-7.72 1.47 1.35L5.41 20z\"/>\n",
              "  </svg>\n",
              "      </button>\n",
              "      \n",
              "  <style>\n",
              "    .colab-df-container {\n",
              "      display:flex;\n",
              "      flex-wrap:wrap;\n",
              "      gap: 12px;\n",
              "    }\n",
              "\n",
              "    .colab-df-convert {\n",
              "      background-color: #E8F0FE;\n",
              "      border: none;\n",
              "      border-radius: 50%;\n",
              "      cursor: pointer;\n",
              "      display: none;\n",
              "      fill: #1967D2;\n",
              "      height: 32px;\n",
              "      padding: 0 0 0 0;\n",
              "      width: 32px;\n",
              "    }\n",
              "\n",
              "    .colab-df-convert:hover {\n",
              "      background-color: #E2EBFA;\n",
              "      box-shadow: 0px 1px 2px rgba(60, 64, 67, 0.3), 0px 1px 3px 1px rgba(60, 64, 67, 0.15);\n",
              "      fill: #174EA6;\n",
              "    }\n",
              "\n",
              "    [theme=dark] .colab-df-convert {\n",
              "      background-color: #3B4455;\n",
              "      fill: #D2E3FC;\n",
              "    }\n",
              "\n",
              "    [theme=dark] .colab-df-convert:hover {\n",
              "      background-color: #434B5C;\n",
              "      box-shadow: 0px 1px 3px 1px rgba(0, 0, 0, 0.15);\n",
              "      filter: drop-shadow(0px 1px 2px rgba(0, 0, 0, 0.3));\n",
              "      fill: #FFFFFF;\n",
              "    }\n",
              "  </style>\n",
              "\n",
              "      <script>\n",
              "        const buttonEl =\n",
              "          document.querySelector('#df-b25c81d6-982d-4922-913f-a257a05827b0 button.colab-df-convert');\n",
              "        buttonEl.style.display =\n",
              "          google.colab.kernel.accessAllowed ? 'block' : 'none';\n",
              "\n",
              "        async function convertToInteractive(key) {\n",
              "          const element = document.querySelector('#df-b25c81d6-982d-4922-913f-a257a05827b0');\n",
              "          const dataTable =\n",
              "            await google.colab.kernel.invokeFunction('convertToInteractive',\n",
              "                                                     [key], {});\n",
              "          if (!dataTable) return;\n",
              "\n",
              "          const docLinkHtml = 'Like what you see? Visit the ' +\n",
              "            '<a target=\"_blank\" href=https://colab.research.google.com/notebooks/data_table.ipynb>data table notebook</a>'\n",
              "            + ' to learn more about interactive tables.';\n",
              "          element.innerHTML = '';\n",
              "          dataTable['output_type'] = 'display_data';\n",
              "          await google.colab.output.renderOutput(dataTable, element);\n",
              "          const docLink = document.createElement('div');\n",
              "          docLink.innerHTML = docLinkHtml;\n",
              "          element.appendChild(docLink);\n",
              "        }\n",
              "      </script>\n",
              "    </div>\n",
              "  </div>\n",
              "  "
            ]
          },
          "metadata": {},
          "execution_count": 9
        }
      ]
    },
    {
      "cell_type": "markdown",
      "source": [
        "***Usar ```describe()``` para variables cualitativas y mostrar resumen transpuesto...***"
      ],
      "metadata": {
        "id": "_3Y9Etp61Q5N"
      },
      "id": "_3Y9Etp61Q5N"
    },
    {
      "cell_type": "code",
      "source": [
        "prop.describe(include=object).T"
      ],
      "metadata": {
        "id": "ccn1Eis8kbxn",
        "colab": {
          "base_uri": "https://localhost:8080/",
          "height": 557
        },
        "outputId": "36072b72-9aa0-407a-e30e-f73b27e44865"
      },
      "id": "ccn1Eis8kbxn",
      "execution_count": null,
      "outputs": [
        {
          "output_type": "execute_result",
          "data": {
            "text/plain": [
              "                  count   unique  \\\n",
              "id              1000000  1000000   \n",
              "ad_type         1000000        1   \n",
              "start_date      1000000      362   \n",
              "end_date        1000000      450   \n",
              "created_on      1000000      362   \n",
              "l1              1000000        4   \n",
              "l2              1000000       43   \n",
              "l3               965273     1367   \n",
              "l4               306162     1070   \n",
              "l5                 5530       21   \n",
              "currency         955491        5   \n",
              "price_period     429870        3   \n",
              "title            999999   548833   \n",
              "description      999958   817449   \n",
              "property_type   1000000       10   \n",
              "operation_type  1000000        3   \n",
              "\n",
              "                                                           top     freq  \n",
              "id                                    DyVXfkpKygVBKuUk5olH+A==        1  \n",
              "ad_type                                              Propiedad  1000000  \n",
              "start_date                                          2020-10-02    25159  \n",
              "end_date                                            9999-12-31   208960  \n",
              "created_on                                          2020-10-02    25159  \n",
              "l1                                                   Argentina   983115  \n",
              "l2                                             Capital Federal   265125  \n",
              "l3                                                     Rosario    61746  \n",
              "l4                                                    Nordelta    19479  \n",
              "l5                                            BarrioPortezuelo      735  \n",
              "currency                                                   USD   738157  \n",
              "price_period                                           Mensual   429842  \n",
              "title                                               casa-venta     3338  \n",
              "description     Departamento en Alquiler de 1 dorm. en Cordoba     1980  \n",
              "property_type                                     Departamento   457907  \n",
              "operation_type                                           Venta   750831  "
            ],
            "text/html": [
              "\n",
              "  <div id=\"df-a28e3db5-1b87-43c2-8d03-0ec6065dd8f4\">\n",
              "    <div class=\"colab-df-container\">\n",
              "      <div>\n",
              "<style scoped>\n",
              "    .dataframe tbody tr th:only-of-type {\n",
              "        vertical-align: middle;\n",
              "    }\n",
              "\n",
              "    .dataframe tbody tr th {\n",
              "        vertical-align: top;\n",
              "    }\n",
              "\n",
              "    .dataframe thead th {\n",
              "        text-align: right;\n",
              "    }\n",
              "</style>\n",
              "<table border=\"1\" class=\"dataframe\">\n",
              "  <thead>\n",
              "    <tr style=\"text-align: right;\">\n",
              "      <th></th>\n",
              "      <th>count</th>\n",
              "      <th>unique</th>\n",
              "      <th>top</th>\n",
              "      <th>freq</th>\n",
              "    </tr>\n",
              "  </thead>\n",
              "  <tbody>\n",
              "    <tr>\n",
              "      <th>id</th>\n",
              "      <td>1000000</td>\n",
              "      <td>1000000</td>\n",
              "      <td>DyVXfkpKygVBKuUk5olH+A==</td>\n",
              "      <td>1</td>\n",
              "    </tr>\n",
              "    <tr>\n",
              "      <th>ad_type</th>\n",
              "      <td>1000000</td>\n",
              "      <td>1</td>\n",
              "      <td>Propiedad</td>\n",
              "      <td>1000000</td>\n",
              "    </tr>\n",
              "    <tr>\n",
              "      <th>start_date</th>\n",
              "      <td>1000000</td>\n",
              "      <td>362</td>\n",
              "      <td>2020-10-02</td>\n",
              "      <td>25159</td>\n",
              "    </tr>\n",
              "    <tr>\n",
              "      <th>end_date</th>\n",
              "      <td>1000000</td>\n",
              "      <td>450</td>\n",
              "      <td>9999-12-31</td>\n",
              "      <td>208960</td>\n",
              "    </tr>\n",
              "    <tr>\n",
              "      <th>created_on</th>\n",
              "      <td>1000000</td>\n",
              "      <td>362</td>\n",
              "      <td>2020-10-02</td>\n",
              "      <td>25159</td>\n",
              "    </tr>\n",
              "    <tr>\n",
              "      <th>l1</th>\n",
              "      <td>1000000</td>\n",
              "      <td>4</td>\n",
              "      <td>Argentina</td>\n",
              "      <td>983115</td>\n",
              "    </tr>\n",
              "    <tr>\n",
              "      <th>l2</th>\n",
              "      <td>1000000</td>\n",
              "      <td>43</td>\n",
              "      <td>Capital Federal</td>\n",
              "      <td>265125</td>\n",
              "    </tr>\n",
              "    <tr>\n",
              "      <th>l3</th>\n",
              "      <td>965273</td>\n",
              "      <td>1367</td>\n",
              "      <td>Rosario</td>\n",
              "      <td>61746</td>\n",
              "    </tr>\n",
              "    <tr>\n",
              "      <th>l4</th>\n",
              "      <td>306162</td>\n",
              "      <td>1070</td>\n",
              "      <td>Nordelta</td>\n",
              "      <td>19479</td>\n",
              "    </tr>\n",
              "    <tr>\n",
              "      <th>l5</th>\n",
              "      <td>5530</td>\n",
              "      <td>21</td>\n",
              "      <td>BarrioPortezuelo</td>\n",
              "      <td>735</td>\n",
              "    </tr>\n",
              "    <tr>\n",
              "      <th>currency</th>\n",
              "      <td>955491</td>\n",
              "      <td>5</td>\n",
              "      <td>USD</td>\n",
              "      <td>738157</td>\n",
              "    </tr>\n",
              "    <tr>\n",
              "      <th>price_period</th>\n",
              "      <td>429870</td>\n",
              "      <td>3</td>\n",
              "      <td>Mensual</td>\n",
              "      <td>429842</td>\n",
              "    </tr>\n",
              "    <tr>\n",
              "      <th>title</th>\n",
              "      <td>999999</td>\n",
              "      <td>548833</td>\n",
              "      <td>casa-venta</td>\n",
              "      <td>3338</td>\n",
              "    </tr>\n",
              "    <tr>\n",
              "      <th>description</th>\n",
              "      <td>999958</td>\n",
              "      <td>817449</td>\n",
              "      <td>Departamento en Alquiler de 1 dorm. en Cordoba</td>\n",
              "      <td>1980</td>\n",
              "    </tr>\n",
              "    <tr>\n",
              "      <th>property_type</th>\n",
              "      <td>1000000</td>\n",
              "      <td>10</td>\n",
              "      <td>Departamento</td>\n",
              "      <td>457907</td>\n",
              "    </tr>\n",
              "    <tr>\n",
              "      <th>operation_type</th>\n",
              "      <td>1000000</td>\n",
              "      <td>3</td>\n",
              "      <td>Venta</td>\n",
              "      <td>750831</td>\n",
              "    </tr>\n",
              "  </tbody>\n",
              "</table>\n",
              "</div>\n",
              "      <button class=\"colab-df-convert\" onclick=\"convertToInteractive('df-a28e3db5-1b87-43c2-8d03-0ec6065dd8f4')\"\n",
              "              title=\"Convert this dataframe to an interactive table.\"\n",
              "              style=\"display:none;\">\n",
              "        \n",
              "  <svg xmlns=\"http://www.w3.org/2000/svg\" height=\"24px\"viewBox=\"0 0 24 24\"\n",
              "       width=\"24px\">\n",
              "    <path d=\"M0 0h24v24H0V0z\" fill=\"none\"/>\n",
              "    <path d=\"M18.56 5.44l.94 2.06.94-2.06 2.06-.94-2.06-.94-.94-2.06-.94 2.06-2.06.94zm-11 1L8.5 8.5l.94-2.06 2.06-.94-2.06-.94L8.5 2.5l-.94 2.06-2.06.94zm10 10l.94 2.06.94-2.06 2.06-.94-2.06-.94-.94-2.06-.94 2.06-2.06.94z\"/><path d=\"M17.41 7.96l-1.37-1.37c-.4-.4-.92-.59-1.43-.59-.52 0-1.04.2-1.43.59L10.3 9.45l-7.72 7.72c-.78.78-.78 2.05 0 2.83L4 21.41c.39.39.9.59 1.41.59.51 0 1.02-.2 1.41-.59l7.78-7.78 2.81-2.81c.8-.78.8-2.07 0-2.86zM5.41 20L4 18.59l7.72-7.72 1.47 1.35L5.41 20z\"/>\n",
              "  </svg>\n",
              "      </button>\n",
              "      \n",
              "  <style>\n",
              "    .colab-df-container {\n",
              "      display:flex;\n",
              "      flex-wrap:wrap;\n",
              "      gap: 12px;\n",
              "    }\n",
              "\n",
              "    .colab-df-convert {\n",
              "      background-color: #E8F0FE;\n",
              "      border: none;\n",
              "      border-radius: 50%;\n",
              "      cursor: pointer;\n",
              "      display: none;\n",
              "      fill: #1967D2;\n",
              "      height: 32px;\n",
              "      padding: 0 0 0 0;\n",
              "      width: 32px;\n",
              "    }\n",
              "\n",
              "    .colab-df-convert:hover {\n",
              "      background-color: #E2EBFA;\n",
              "      box-shadow: 0px 1px 2px rgba(60, 64, 67, 0.3), 0px 1px 3px 1px rgba(60, 64, 67, 0.15);\n",
              "      fill: #174EA6;\n",
              "    }\n",
              "\n",
              "    [theme=dark] .colab-df-convert {\n",
              "      background-color: #3B4455;\n",
              "      fill: #D2E3FC;\n",
              "    }\n",
              "\n",
              "    [theme=dark] .colab-df-convert:hover {\n",
              "      background-color: #434B5C;\n",
              "      box-shadow: 0px 1px 3px 1px rgba(0, 0, 0, 0.15);\n",
              "      filter: drop-shadow(0px 1px 2px rgba(0, 0, 0, 0.3));\n",
              "      fill: #FFFFFF;\n",
              "    }\n",
              "  </style>\n",
              "\n",
              "      <script>\n",
              "        const buttonEl =\n",
              "          document.querySelector('#df-a28e3db5-1b87-43c2-8d03-0ec6065dd8f4 button.colab-df-convert');\n",
              "        buttonEl.style.display =\n",
              "          google.colab.kernel.accessAllowed ? 'block' : 'none';\n",
              "\n",
              "        async function convertToInteractive(key) {\n",
              "          const element = document.querySelector('#df-a28e3db5-1b87-43c2-8d03-0ec6065dd8f4');\n",
              "          const dataTable =\n",
              "            await google.colab.kernel.invokeFunction('convertToInteractive',\n",
              "                                                     [key], {});\n",
              "          if (!dataTable) return;\n",
              "\n",
              "          const docLinkHtml = 'Like what you see? Visit the ' +\n",
              "            '<a target=\"_blank\" href=https://colab.research.google.com/notebooks/data_table.ipynb>data table notebook</a>'\n",
              "            + ' to learn more about interactive tables.';\n",
              "          element.innerHTML = '';\n",
              "          dataTable['output_type'] = 'display_data';\n",
              "          await google.colab.output.renderOutput(dataTable, element);\n",
              "          const docLink = document.createElement('div');\n",
              "          docLink.innerHTML = docLinkHtml;\n",
              "          element.appendChild(docLink);\n",
              "        }\n",
              "      </script>\n",
              "    </div>\n",
              "  </div>\n",
              "  "
            ]
          },
          "metadata": {},
          "execution_count": 10
        }
      ]
    },
    {
      "cell_type": "code",
      "source": [
        "prop.describe(include=[\"object\"]).T"
      ],
      "metadata": {
        "colab": {
          "base_uri": "https://localhost:8080/",
          "height": 557
        },
        "id": "_7FHPIsdLhfb",
        "outputId": "e581bae9-21b0-43bc-b295-d6f16ed7a5d7"
      },
      "id": "_7FHPIsdLhfb",
      "execution_count": null,
      "outputs": [
        {
          "output_type": "execute_result",
          "data": {
            "text/plain": [
              "                  count   unique  \\\n",
              "id              1000000  1000000   \n",
              "ad_type         1000000        1   \n",
              "start_date      1000000      362   \n",
              "end_date        1000000      450   \n",
              "created_on      1000000      362   \n",
              "l1              1000000        4   \n",
              "l2              1000000       43   \n",
              "l3               965273     1367   \n",
              "l4               306162     1070   \n",
              "l5                 5530       21   \n",
              "currency         955491        5   \n",
              "price_period     429870        3   \n",
              "title            999999   548833   \n",
              "description      999958   817449   \n",
              "property_type   1000000       10   \n",
              "operation_type  1000000        3   \n",
              "\n",
              "                                                           top     freq  \n",
              "id                                    DyVXfkpKygVBKuUk5olH+A==        1  \n",
              "ad_type                                              Propiedad  1000000  \n",
              "start_date                                          2020-10-02    25159  \n",
              "end_date                                            9999-12-31   208960  \n",
              "created_on                                          2020-10-02    25159  \n",
              "l1                                                   Argentina   983115  \n",
              "l2                                             Capital Federal   265125  \n",
              "l3                                                     Rosario    61746  \n",
              "l4                                                    Nordelta    19479  \n",
              "l5                                            BarrioPortezuelo      735  \n",
              "currency                                                   USD   738157  \n",
              "price_period                                           Mensual   429842  \n",
              "title                                               casa-venta     3338  \n",
              "description     Departamento en Alquiler de 1 dorm. en Cordoba     1980  \n",
              "property_type                                     Departamento   457907  \n",
              "operation_type                                           Venta   750831  "
            ],
            "text/html": [
              "\n",
              "  <div id=\"df-5e5450ef-7667-44a1-a040-f8f8a3682d69\">\n",
              "    <div class=\"colab-df-container\">\n",
              "      <div>\n",
              "<style scoped>\n",
              "    .dataframe tbody tr th:only-of-type {\n",
              "        vertical-align: middle;\n",
              "    }\n",
              "\n",
              "    .dataframe tbody tr th {\n",
              "        vertical-align: top;\n",
              "    }\n",
              "\n",
              "    .dataframe thead th {\n",
              "        text-align: right;\n",
              "    }\n",
              "</style>\n",
              "<table border=\"1\" class=\"dataframe\">\n",
              "  <thead>\n",
              "    <tr style=\"text-align: right;\">\n",
              "      <th></th>\n",
              "      <th>count</th>\n",
              "      <th>unique</th>\n",
              "      <th>top</th>\n",
              "      <th>freq</th>\n",
              "    </tr>\n",
              "  </thead>\n",
              "  <tbody>\n",
              "    <tr>\n",
              "      <th>id</th>\n",
              "      <td>1000000</td>\n",
              "      <td>1000000</td>\n",
              "      <td>DyVXfkpKygVBKuUk5olH+A==</td>\n",
              "      <td>1</td>\n",
              "    </tr>\n",
              "    <tr>\n",
              "      <th>ad_type</th>\n",
              "      <td>1000000</td>\n",
              "      <td>1</td>\n",
              "      <td>Propiedad</td>\n",
              "      <td>1000000</td>\n",
              "    </tr>\n",
              "    <tr>\n",
              "      <th>start_date</th>\n",
              "      <td>1000000</td>\n",
              "      <td>362</td>\n",
              "      <td>2020-10-02</td>\n",
              "      <td>25159</td>\n",
              "    </tr>\n",
              "    <tr>\n",
              "      <th>end_date</th>\n",
              "      <td>1000000</td>\n",
              "      <td>450</td>\n",
              "      <td>9999-12-31</td>\n",
              "      <td>208960</td>\n",
              "    </tr>\n",
              "    <tr>\n",
              "      <th>created_on</th>\n",
              "      <td>1000000</td>\n",
              "      <td>362</td>\n",
              "      <td>2020-10-02</td>\n",
              "      <td>25159</td>\n",
              "    </tr>\n",
              "    <tr>\n",
              "      <th>l1</th>\n",
              "      <td>1000000</td>\n",
              "      <td>4</td>\n",
              "      <td>Argentina</td>\n",
              "      <td>983115</td>\n",
              "    </tr>\n",
              "    <tr>\n",
              "      <th>l2</th>\n",
              "      <td>1000000</td>\n",
              "      <td>43</td>\n",
              "      <td>Capital Federal</td>\n",
              "      <td>265125</td>\n",
              "    </tr>\n",
              "    <tr>\n",
              "      <th>l3</th>\n",
              "      <td>965273</td>\n",
              "      <td>1367</td>\n",
              "      <td>Rosario</td>\n",
              "      <td>61746</td>\n",
              "    </tr>\n",
              "    <tr>\n",
              "      <th>l4</th>\n",
              "      <td>306162</td>\n",
              "      <td>1070</td>\n",
              "      <td>Nordelta</td>\n",
              "      <td>19479</td>\n",
              "    </tr>\n",
              "    <tr>\n",
              "      <th>l5</th>\n",
              "      <td>5530</td>\n",
              "      <td>21</td>\n",
              "      <td>BarrioPortezuelo</td>\n",
              "      <td>735</td>\n",
              "    </tr>\n",
              "    <tr>\n",
              "      <th>currency</th>\n",
              "      <td>955491</td>\n",
              "      <td>5</td>\n",
              "      <td>USD</td>\n",
              "      <td>738157</td>\n",
              "    </tr>\n",
              "    <tr>\n",
              "      <th>price_period</th>\n",
              "      <td>429870</td>\n",
              "      <td>3</td>\n",
              "      <td>Mensual</td>\n",
              "      <td>429842</td>\n",
              "    </tr>\n",
              "    <tr>\n",
              "      <th>title</th>\n",
              "      <td>999999</td>\n",
              "      <td>548833</td>\n",
              "      <td>casa-venta</td>\n",
              "      <td>3338</td>\n",
              "    </tr>\n",
              "    <tr>\n",
              "      <th>description</th>\n",
              "      <td>999958</td>\n",
              "      <td>817449</td>\n",
              "      <td>Departamento en Alquiler de 1 dorm. en Cordoba</td>\n",
              "      <td>1980</td>\n",
              "    </tr>\n",
              "    <tr>\n",
              "      <th>property_type</th>\n",
              "      <td>1000000</td>\n",
              "      <td>10</td>\n",
              "      <td>Departamento</td>\n",
              "      <td>457907</td>\n",
              "    </tr>\n",
              "    <tr>\n",
              "      <th>operation_type</th>\n",
              "      <td>1000000</td>\n",
              "      <td>3</td>\n",
              "      <td>Venta</td>\n",
              "      <td>750831</td>\n",
              "    </tr>\n",
              "  </tbody>\n",
              "</table>\n",
              "</div>\n",
              "      <button class=\"colab-df-convert\" onclick=\"convertToInteractive('df-5e5450ef-7667-44a1-a040-f8f8a3682d69')\"\n",
              "              title=\"Convert this dataframe to an interactive table.\"\n",
              "              style=\"display:none;\">\n",
              "        \n",
              "  <svg xmlns=\"http://www.w3.org/2000/svg\" height=\"24px\"viewBox=\"0 0 24 24\"\n",
              "       width=\"24px\">\n",
              "    <path d=\"M0 0h24v24H0V0z\" fill=\"none\"/>\n",
              "    <path d=\"M18.56 5.44l.94 2.06.94-2.06 2.06-.94-2.06-.94-.94-2.06-.94 2.06-2.06.94zm-11 1L8.5 8.5l.94-2.06 2.06-.94-2.06-.94L8.5 2.5l-.94 2.06-2.06.94zm10 10l.94 2.06.94-2.06 2.06-.94-2.06-.94-.94-2.06-.94 2.06-2.06.94z\"/><path d=\"M17.41 7.96l-1.37-1.37c-.4-.4-.92-.59-1.43-.59-.52 0-1.04.2-1.43.59L10.3 9.45l-7.72 7.72c-.78.78-.78 2.05 0 2.83L4 21.41c.39.39.9.59 1.41.59.51 0 1.02-.2 1.41-.59l7.78-7.78 2.81-2.81c.8-.78.8-2.07 0-2.86zM5.41 20L4 18.59l7.72-7.72 1.47 1.35L5.41 20z\"/>\n",
              "  </svg>\n",
              "      </button>\n",
              "      \n",
              "  <style>\n",
              "    .colab-df-container {\n",
              "      display:flex;\n",
              "      flex-wrap:wrap;\n",
              "      gap: 12px;\n",
              "    }\n",
              "\n",
              "    .colab-df-convert {\n",
              "      background-color: #E8F0FE;\n",
              "      border: none;\n",
              "      border-radius: 50%;\n",
              "      cursor: pointer;\n",
              "      display: none;\n",
              "      fill: #1967D2;\n",
              "      height: 32px;\n",
              "      padding: 0 0 0 0;\n",
              "      width: 32px;\n",
              "    }\n",
              "\n",
              "    .colab-df-convert:hover {\n",
              "      background-color: #E2EBFA;\n",
              "      box-shadow: 0px 1px 2px rgba(60, 64, 67, 0.3), 0px 1px 3px 1px rgba(60, 64, 67, 0.15);\n",
              "      fill: #174EA6;\n",
              "    }\n",
              "\n",
              "    [theme=dark] .colab-df-convert {\n",
              "      background-color: #3B4455;\n",
              "      fill: #D2E3FC;\n",
              "    }\n",
              "\n",
              "    [theme=dark] .colab-df-convert:hover {\n",
              "      background-color: #434B5C;\n",
              "      box-shadow: 0px 1px 3px 1px rgba(0, 0, 0, 0.15);\n",
              "      filter: drop-shadow(0px 1px 2px rgba(0, 0, 0, 0.3));\n",
              "      fill: #FFFFFF;\n",
              "    }\n",
              "  </style>\n",
              "\n",
              "      <script>\n",
              "        const buttonEl =\n",
              "          document.querySelector('#df-5e5450ef-7667-44a1-a040-f8f8a3682d69 button.colab-df-convert');\n",
              "        buttonEl.style.display =\n",
              "          google.colab.kernel.accessAllowed ? 'block' : 'none';\n",
              "\n",
              "        async function convertToInteractive(key) {\n",
              "          const element = document.querySelector('#df-5e5450ef-7667-44a1-a040-f8f8a3682d69');\n",
              "          const dataTable =\n",
              "            await google.colab.kernel.invokeFunction('convertToInteractive',\n",
              "                                                     [key], {});\n",
              "          if (!dataTable) return;\n",
              "\n",
              "          const docLinkHtml = 'Like what you see? Visit the ' +\n",
              "            '<a target=\"_blank\" href=https://colab.research.google.com/notebooks/data_table.ipynb>data table notebook</a>'\n",
              "            + ' to learn more about interactive tables.';\n",
              "          element.innerHTML = '';\n",
              "          dataTable['output_type'] = 'display_data';\n",
              "          await google.colab.output.renderOutput(dataTable, element);\n",
              "          const docLink = document.createElement('div');\n",
              "          docLink.innerHTML = docLinkHtml;\n",
              "          element.appendChild(docLink);\n",
              "        }\n",
              "      </script>\n",
              "    </div>\n",
              "  </div>\n",
              "  "
            ]
          },
          "metadata": {},
          "execution_count": 11
        }
      ]
    },
    {
      "cell_type": "markdown",
      "source": [
        "***Ver si existen valores nulos***"
      ],
      "metadata": {
        "id": "WD0CC_fe16mq"
      },
      "id": "WD0CC_fe16mq"
    },
    {
      "cell_type": "code",
      "source": [
        "prop.isnull().sum().sort_values(ascending=False)"
      ],
      "metadata": {
        "id": "nxPXumKzkdEQ",
        "colab": {
          "base_uri": "https://localhost:8080/"
        },
        "outputId": "3ca98997-07e3-4a5b-c267-35c7c6510757"
      },
      "id": "nxPXumKzkdEQ",
      "execution_count": null,
      "outputs": [
        {
          "output_type": "execute_result",
          "data": {
            "text/plain": [
              "l6                 1000000\n",
              "l5                  994470\n",
              "l4                  693838\n",
              "price_period        570130\n",
              "surface_total       522169\n",
              "surface_covered     512244\n",
              "bedrooms            350067\n",
              "rooms               285821\n",
              "bathrooms           234878\n",
              "lon                 105809\n",
              "lat                 105767\n",
              "currency             44509\n",
              "price                41757\n",
              "l3                   34727\n",
              "description             42\n",
              "title                    1\n",
              "property_type            0\n",
              "id                       0\n",
              "ad_type                  0\n",
              "l2                       0\n",
              "l1                       0\n",
              "created_on               0\n",
              "end_date                 0\n",
              "start_date               0\n",
              "operation_type           0\n",
              "dtype: int64"
            ]
          },
          "metadata": {},
          "execution_count": 12
        }
      ]
    },
    {
      "cell_type": "code",
      "source": [
        "prop.isna().sum().sort_values(ascending=False)"
      ],
      "metadata": {
        "colab": {
          "base_uri": "https://localhost:8080/"
        },
        "id": "CsHqN5pVME3C",
        "outputId": "13c69c3d-811a-454c-81c3-80388f6e30bd"
      },
      "id": "CsHqN5pVME3C",
      "execution_count": null,
      "outputs": [
        {
          "output_type": "execute_result",
          "data": {
            "text/plain": [
              "l6                 1000000\n",
              "l5                  994470\n",
              "l4                  693838\n",
              "price_period        570130\n",
              "surface_total       522169\n",
              "surface_covered     512244\n",
              "bedrooms            350067\n",
              "rooms               285821\n",
              "bathrooms           234878\n",
              "lon                 105809\n",
              "lat                 105767\n",
              "currency             44509\n",
              "price                41757\n",
              "l3                   34727\n",
              "description             42\n",
              "title                    1\n",
              "property_type            0\n",
              "id                       0\n",
              "ad_type                  0\n",
              "l2                       0\n",
              "l1                       0\n",
              "created_on               0\n",
              "end_date                 0\n",
              "start_date               0\n",
              "operation_type           0\n",
              "dtype: int64"
            ]
          },
          "metadata": {},
          "execution_count": 13
        }
      ]
    },
    {
      "cell_type": "markdown",
      "source": [
        "***Ver si existen valores duplicados***"
      ],
      "metadata": {
        "id": "8TTCzbtq2A45"
      },
      "id": "8TTCzbtq2A45"
    },
    {
      "cell_type": "code",
      "source": [
        "prop.duplicated().sum()"
      ],
      "metadata": {
        "id": "eWJEWJkGkecM",
        "colab": {
          "base_uri": "https://localhost:8080/"
        },
        "outputId": "6715e03e-4ed7-4252-b84f-6af03cfe7f07"
      },
      "id": "eWJEWJkGkecM",
      "execution_count": null,
      "outputs": [
        {
          "output_type": "execute_result",
          "data": {
            "text/plain": [
              "0"
            ]
          },
          "metadata": {},
          "execution_count": 14
        }
      ]
    },
    {
      "cell_type": "markdown",
      "source": [
        "**PUNTO DE REVISIÓN**\n",
        "\n",
        "***Antes de empezar con la limpieza de los datos el dataframe tiene $1000000$ filas y $25$ columnas...***"
      ],
      "metadata": {
        "id": "cvE5m4MfNHqn"
      },
      "id": "cvE5m4MfNHqn"
    },
    {
      "cell_type": "code",
      "source": [
        "prop.shape"
      ],
      "metadata": {
        "colab": {
          "base_uri": "https://localhost:8080/"
        },
        "id": "qNe6POKiMJTA",
        "outputId": "1296d85d-4f95-48d5-9359-3bc7cfd74201"
      },
      "id": "qNe6POKiMJTA",
      "execution_count": null,
      "outputs": [
        {
          "output_type": "execute_result",
          "data": {
            "text/plain": [
              "(1000000, 25)"
            ]
          },
          "metadata": {},
          "execution_count": 15
        }
      ]
    },
    {
      "cell_type": "markdown",
      "source": [
        "## **Limpieza de los Datos**"
      ],
      "metadata": {
        "id": "CHx_L_R11kcs"
      },
      "id": "CHx_L_R11kcs"
    },
    {
      "cell_type": "markdown",
      "id": "ce7d6dcd",
      "metadata": {
        "id": "ce7d6dcd"
      },
      "source": [
        "***Ver si los nombres de las columnas tienen algun espacio oculto que nos dificulte al tratar de invocarlas, si encontras espacios ocultos, entonces se debe eliminar esos espacios ocultos.***"
      ]
    },
    {
      "cell_type": "code",
      "source": [
        "prop.columns"
      ],
      "metadata": {
        "id": "YBI4JPA0khKf",
        "colab": {
          "base_uri": "https://localhost:8080/"
        },
        "outputId": "e38b3fc0-095a-46ba-c403-50e86d892f24"
      },
      "id": "YBI4JPA0khKf",
      "execution_count": null,
      "outputs": [
        {
          "output_type": "execute_result",
          "data": {
            "text/plain": [
              "Index(['id', 'ad_type', 'start_date', 'end_date', 'created_on', 'lat', 'lon',\n",
              "       'l1', 'l2', 'l3', 'l4', 'l5', 'l6', 'rooms', 'bedrooms', 'bathrooms',\n",
              "       'surface_total', 'surface_covered', 'price', 'currency', 'price_period',\n",
              "       'title', 'description', 'property_type', 'operation_type'],\n",
              "      dtype='object')"
            ]
          },
          "metadata": {},
          "execution_count": 16
        }
      ]
    },
    {
      "cell_type": "markdown",
      "id": "42978649",
      "metadata": {
        "id": "42978649"
      },
      "source": [
        "***Ver los nulos que hay en el dataframe, en forma de porcentaje para cada columna, ordenado del mayor al menor...***"
      ]
    },
    {
      "cell_type": "code",
      "source": [
        "(prop.isnull().sum()*100 / prop.shape[0]).round(2).sort_values(ascending=False)"
      ],
      "metadata": {
        "id": "P5GSZ8askjIE",
        "colab": {
          "base_uri": "https://localhost:8080/"
        },
        "outputId": "5f16e42e-471e-4d15-e504-275e7d3ee19d"
      },
      "id": "P5GSZ8askjIE",
      "execution_count": null,
      "outputs": [
        {
          "output_type": "execute_result",
          "data": {
            "text/plain": [
              "l6                 100.00\n",
              "l5                  99.45\n",
              "l4                  69.38\n",
              "price_period        57.01\n",
              "surface_total       52.22\n",
              "surface_covered     51.22\n",
              "bedrooms            35.01\n",
              "rooms               28.58\n",
              "bathrooms           23.49\n",
              "lat                 10.58\n",
              "lon                 10.58\n",
              "currency             4.45\n",
              "price                4.18\n",
              "l3                   3.47\n",
              "title                0.00\n",
              "description          0.00\n",
              "property_type        0.00\n",
              "id                   0.00\n",
              "ad_type              0.00\n",
              "l2                   0.00\n",
              "l1                   0.00\n",
              "created_on           0.00\n",
              "end_date             0.00\n",
              "start_date           0.00\n",
              "operation_type       0.00\n",
              "dtype: float64"
            ]
          },
          "metadata": {},
          "execution_count": 17
        }
      ]
    },
    {
      "cell_type": "markdown",
      "id": "c0f5c3ed",
      "metadata": {
        "id": "c0f5c3ed"
      },
      "source": [
        "***Eliminar columnas que tengan mas del $30$% de nulos (nans), luego de este paso deberian quedar $18$ columnas si lo hiciste bien...***"
      ]
    },
    {
      "cell_type": "code",
      "source": [
        "prop.dropna(axis=1, thresh=int(prop.shape[0]*0.7), inplace=True)"
      ],
      "metadata": {
        "id": "tXkBCSFGkmN2"
      },
      "id": "tXkBCSFGkmN2",
      "execution_count": null,
      "outputs": []
    },
    {
      "cell_type": "markdown",
      "source": [
        "**PUNTO DE REVISIÓN**\n",
        "\n",
        "***A esta altura el dataframe tiene $1000000$ filas y $18$ columnas...***"
      ],
      "metadata": {
        "id": "cNQhKZIcOY5s"
      },
      "id": "cNQhKZIcOY5s"
    },
    {
      "cell_type": "code",
      "source": [
        "prop.shape"
      ],
      "metadata": {
        "id": "73nO17TGkplN",
        "colab": {
          "base_uri": "https://localhost:8080/"
        },
        "outputId": "235955a1-2d9b-4e1b-dbef-e9b9a46a7b0a"
      },
      "id": "73nO17TGkplN",
      "execution_count": null,
      "outputs": [
        {
          "output_type": "execute_result",
          "data": {
            "text/plain": [
              "(1000000, 18)"
            ]
          },
          "metadata": {},
          "execution_count": 19
        }
      ]
    },
    {
      "cell_type": "markdown",
      "id": "080fb4a6",
      "metadata": {
        "id": "080fb4a6"
      },
      "source": [
        "***Quedarse con solo los registros que tienen un $90$% de sus celdas libres de nulos (nans), luego de este paso deberia quedarte $922772$ registros.***"
      ]
    },
    {
      "cell_type": "code",
      "source": [
        "prop.dropna(axis=0, thresh= int(prop.shape[1]*0.9), inplace=True)"
      ],
      "metadata": {
        "id": "vJlUAxrKkrH7"
      },
      "id": "vJlUAxrKkrH7",
      "execution_count": null,
      "outputs": []
    },
    {
      "cell_type": "markdown",
      "source": [
        "**PUNTO DE REVISIÓN**\n",
        "\n",
        "***A esta altura el dataframe tiene $922772$ filas y $18$ columnas...***"
      ],
      "metadata": {
        "id": "QTIkHtOgOqL5"
      },
      "id": "QTIkHtOgOqL5"
    },
    {
      "cell_type": "code",
      "source": [
        "prop.shape"
      ],
      "metadata": {
        "colab": {
          "base_uri": "https://localhost:8080/"
        },
        "id": "20SNqVidNJWF",
        "outputId": "8748f672-c34c-48dc-ada1-876cf425db9c"
      },
      "id": "20SNqVidNJWF",
      "execution_count": null,
      "outputs": [
        {
          "output_type": "execute_result",
          "data": {
            "text/plain": [
              "(922772, 18)"
            ]
          },
          "metadata": {},
          "execution_count": 21
        }
      ]
    },
    {
      "cell_type": "markdown",
      "id": "586f9ec0",
      "metadata": {
        "id": "586f9ec0"
      },
      "source": [
        "***El analisis se realizará sobre el AMBA, eliminar todo lo que no sea parte del mismo. Luego de este paso deberian quedarte $617747$ registros...***"
      ]
    },
    {
      "cell_type": "markdown",
      "source": [
        "AMBA = Bs As GBA Zona Oeste, Norte y Sur + Capital Federal"
      ],
      "metadata": {
        "id": "y4mhB3QcNRg4"
      },
      "id": "y4mhB3QcNRg4"
    },
    {
      "cell_type": "code",
      "source": [
        "prop.l2.unique()"
      ],
      "metadata": {
        "id": "Mv0c590rktyq",
        "colab": {
          "base_uri": "https://localhost:8080/"
        },
        "outputId": "90e99bad-30bf-46e9-dfe7-89b4acde20f1"
      },
      "id": "Mv0c590rktyq",
      "execution_count": null,
      "outputs": [
        {
          "output_type": "execute_result",
          "data": {
            "text/plain": [
              "array(['Entre Ríos', 'Misiones', 'Santa Fe', 'Bs.As. G.B.A. Zona Oeste',\n",
              "       'Bs.As. G.B.A. Zona Norte', 'Tucumán',\n",
              "       'Buenos Aires Costa Atlántica', 'Chubut', 'Capital Federal',\n",
              "       'Córdoba', 'Buenos Aires Interior', 'Bs.As. G.B.A. Zona Sur',\n",
              "       'San Luis', 'Neuquén', 'Colonia', 'Río Negro', 'Montevideo',\n",
              "       'Maldonado', 'Mendoza', 'Corrientes', 'Salta', 'Florida',\n",
              "       'Tierra Del Fuego', 'Chaco', 'Santa Cruz', 'La Pampa', 'Catamarca',\n",
              "       'Canelones', 'Santiago Del Estero', 'San Juan', 'Miami', 'Jujuy',\n",
              "       'Michigan', 'São Paulo', 'La Rioja', 'Rocha', 'Santa Catarina',\n",
              "       'Pennsylvania', 'Rio Grande do Norte', 'Maryland', 'Formosa',\n",
              "       'Rio de Janeiro', 'California'], dtype=object)"
            ]
          },
          "metadata": {},
          "execution_count": 22
        }
      ]
    },
    {
      "cell_type": "code",
      "source": [
        "prop = prop[(prop.l2 == \"Bs.As. G.B.A. Zona Oeste\") |\n",
        "            (prop.l2 == \"Bs.As. G.B.A. Zona Norte\") |\n",
        "            (prop.l2 == \"Bs.As. G.B.A. Zona Sur\") |\n",
        "            (prop.l2 == \"Capital Federal\")]"
      ],
      "metadata": {
        "id": "3Lpe62uZOdLI"
      },
      "id": "3Lpe62uZOdLI",
      "execution_count": null,
      "outputs": []
    },
    {
      "cell_type": "markdown",
      "source": [
        "**PUNTO DE REVISIÓN**\n",
        "\n",
        "***A esta altura el dataframe tiene $617747$ filas y $18$ columnas...***"
      ],
      "metadata": {
        "id": "Z-kUHCp9Pmpx"
      },
      "id": "Z-kUHCp9Pmpx"
    },
    {
      "cell_type": "code",
      "source": [
        "prop.shape"
      ],
      "metadata": {
        "colab": {
          "base_uri": "https://localhost:8080/"
        },
        "id": "fP9m3fBxOk_x",
        "outputId": "3a18ff53-c242-4813-ce35-9c128093f295"
      },
      "id": "fP9m3fBxOk_x",
      "execution_count": null,
      "outputs": [
        {
          "output_type": "execute_result",
          "data": {
            "text/plain": [
              "(617747, 18)"
            ]
          },
          "metadata": {},
          "execution_count": 24
        }
      ]
    },
    {
      "cell_type": "markdown",
      "id": "586fa634",
      "metadata": {
        "id": "586fa634"
      },
      "source": [
        "***Chequear la columna l1 que representa al pais, deberia existir solo un valor: Argentina. Si hay otros valores eliminarlos...***"
      ]
    },
    {
      "cell_type": "code",
      "source": [
        "prop.l1.unique()"
      ],
      "metadata": {
        "id": "kF4zJkHSkv6L",
        "colab": {
          "base_uri": "https://localhost:8080/"
        },
        "outputId": "e44202c6-ea00-482e-ffb9-09594cd6a285"
      },
      "id": "kF4zJkHSkv6L",
      "execution_count": null,
      "outputs": [
        {
          "output_type": "execute_result",
          "data": {
            "text/plain": [
              "array(['Argentina'], dtype=object)"
            ]
          },
          "metadata": {},
          "execution_count": 25
        }
      ]
    },
    {
      "cell_type": "markdown",
      "id": "9858fa35",
      "metadata": {
        "id": "9858fa35"
      },
      "source": [
        "***Los registros que tienen el mismo id son de la misma propiedad pero actualizado, quedarse con el mas actualizado, los demas eliminarlos.***"
      ]
    },
    {
      "cell_type": "code",
      "source": [
        "prop.id.duplicated().sum()"
      ],
      "metadata": {
        "id": "qShlfGCVkxcE",
        "colab": {
          "base_uri": "https://localhost:8080/"
        },
        "outputId": "261ab761-63ae-44a9-f88e-c2d33cb40219"
      },
      "id": "qShlfGCVkxcE",
      "execution_count": null,
      "outputs": [
        {
          "output_type": "execute_result",
          "data": {
            "text/plain": [
              "0"
            ]
          },
          "metadata": {},
          "execution_count": 26
        }
      ]
    },
    {
      "cell_type": "code",
      "source": [
        "prop.id.nunique()"
      ],
      "metadata": {
        "colab": {
          "base_uri": "https://localhost:8080/"
        },
        "id": "sfZl98MdPEWM",
        "outputId": "d30d1f41-3cd0-4e90-de6b-2a10fc5df473"
      },
      "id": "sfZl98MdPEWM",
      "execution_count": null,
      "outputs": [
        {
          "output_type": "execute_result",
          "data": {
            "text/plain": [
              "617747"
            ]
          },
          "metadata": {},
          "execution_count": 27
        }
      ]
    },
    {
      "cell_type": "code",
      "source": [
        "prop.id.nunique() == prop.shape[0]"
      ],
      "metadata": {
        "colab": {
          "base_uri": "https://localhost:8080/"
        },
        "id": "7rZ0z9hSPK7B",
        "outputId": "147c457f-7ce2-4b82-eacd-e33ebbd4e56a"
      },
      "id": "7rZ0z9hSPK7B",
      "execution_count": null,
      "outputs": [
        {
          "output_type": "execute_result",
          "data": {
            "text/plain": [
              "True"
            ]
          },
          "metadata": {},
          "execution_count": 28
        }
      ]
    },
    {
      "cell_type": "markdown",
      "id": "7c5da49a",
      "metadata": {
        "id": "7c5da49a"
      },
      "source": [
        "***Eliminar las columnas:***\n",
        "\n",
        "- **id** porque ya sabemos que todos los registros son diferentes y no vamos a usar esta columna para identificarlos.\n",
        "- **l1** porque solo tiene un valor: Argentina. No aporta informacion a los datos.\n",
        "- **description** y **title** porque no contamos con herramientas de NLP para volverlas informacion para visualizar o modelizar.\n"
      ]
    },
    {
      "cell_type": "code",
      "source": [
        "prop = prop.drop(columns=[\"id\",\"l1\",\"description\",\"title\"])"
      ],
      "metadata": {
        "id": "2kNGWLemkzGv"
      },
      "id": "2kNGWLemkzGv",
      "execution_count": null,
      "outputs": []
    },
    {
      "cell_type": "markdown",
      "source": [
        "**PUNTO DE REVISIÓN**\n",
        "\n",
        "***A esta altura el dataframe tiene $617747$ filas y $14$ columnas...***"
      ],
      "metadata": {
        "id": "rnXjc4ndT4gx"
      },
      "id": "rnXjc4ndT4gx"
    },
    {
      "cell_type": "code",
      "source": [
        "prop.shape"
      ],
      "metadata": {
        "colab": {
          "base_uri": "https://localhost:8080/"
        },
        "id": "YhITn2bxPoNY",
        "outputId": "c62cc4d5-27b2-4877-f80a-b65b962077bf"
      },
      "id": "YhITn2bxPoNY",
      "execution_count": null,
      "outputs": [
        {
          "output_type": "execute_result",
          "data": {
            "text/plain": [
              "(617747, 14)"
            ]
          },
          "metadata": {},
          "execution_count": 30
        }
      ]
    },
    {
      "cell_type": "markdown",
      "id": "e415e0d3",
      "metadata": {
        "id": "e415e0d3"
      },
      "source": [
        "***Sospechamos que las columnas ```start_date``` y ```created_on``` en este caso tienen los mismos valores, chequearlo, si son iguales eliminar la columna ```created_on```...***"
      ]
    },
    {
      "cell_type": "code",
      "source": [
        "(prop.loc[:,\"start_date\"] == prop.loc[:,\"created_on\"]).sum()"
      ],
      "metadata": {
        "id": "TZZJyT2Wk2pu",
        "colab": {
          "base_uri": "https://localhost:8080/"
        },
        "outputId": "5ceb326e-1df2-4e8d-a4c8-4d91b1c0830e"
      },
      "id": "TZZJyT2Wk2pu",
      "execution_count": null,
      "outputs": [
        {
          "output_type": "execute_result",
          "data": {
            "text/plain": [
              "617747"
            ]
          },
          "metadata": {},
          "execution_count": 31
        }
      ]
    },
    {
      "cell_type": "code",
      "source": [
        "((prop.loc[:,\"start_date\"] == prop.loc[:,\"created_on\"]).sum()) == prop.shape[0]"
      ],
      "metadata": {
        "colab": {
          "base_uri": "https://localhost:8080/"
        },
        "id": "65sg47lAQY_P",
        "outputId": "5074e569-669d-43cb-fe6e-3dcbd2583edd"
      },
      "id": "65sg47lAQY_P",
      "execution_count": null,
      "outputs": [
        {
          "output_type": "execute_result",
          "data": {
            "text/plain": [
              "True"
            ]
          },
          "metadata": {},
          "execution_count": 32
        }
      ]
    },
    {
      "cell_type": "code",
      "source": [
        "prop.drop(columns=\"created_on\", inplace=True)"
      ],
      "metadata": {
        "id": "gbwf3t5YSRR4"
      },
      "id": "gbwf3t5YSRR4",
      "execution_count": null,
      "outputs": []
    },
    {
      "cell_type": "markdown",
      "id": "5ee883c0",
      "metadata": {
        "id": "5ee883c0"
      },
      "source": [
        "***Si hiciste todo bien para este momento deberias tener un dataframe de $(617747, 13)$***\n",
        "\n",
        "***Ver los primeros registros del dataframe...***"
      ]
    },
    {
      "cell_type": "markdown",
      "source": [
        "**PUNTO DE REVISIÓN**\n",
        "\n",
        "***A esta altura el dataframe tiene $617747$ filas y $13$ columnas...***"
      ],
      "metadata": {
        "id": "DjuQ9XoXUq2E"
      },
      "id": "DjuQ9XoXUq2E"
    },
    {
      "cell_type": "code",
      "source": [
        "prop.shape"
      ],
      "metadata": {
        "id": "2EU2T78Sk5Vb",
        "colab": {
          "base_uri": "https://localhost:8080/"
        },
        "outputId": "a871fe6d-88fa-4ca9-84b7-edd4aa4fd499"
      },
      "id": "2EU2T78Sk5Vb",
      "execution_count": null,
      "outputs": [
        {
          "output_type": "execute_result",
          "data": {
            "text/plain": [
              "(617747, 13)"
            ]
          },
          "metadata": {},
          "execution_count": 34
        }
      ]
    },
    {
      "cell_type": "markdown",
      "id": "7e53fc57",
      "metadata": {
        "id": "7e53fc57"
      },
      "source": [
        "***Vamos a analizar la columna ```ad_type```, que tipos de datos unicos tiene, si solo tiene un tipo de dato categorico eliminarla porque no aporta información....***"
      ]
    },
    {
      "cell_type": "code",
      "source": [
        "prop.ad_type.unique()"
      ],
      "metadata": {
        "id": "d_Xnq3lYk67A",
        "colab": {
          "base_uri": "https://localhost:8080/"
        },
        "outputId": "d81f108a-05e6-42c3-b25c-fd5da2c1d165"
      },
      "id": "d_Xnq3lYk67A",
      "execution_count": null,
      "outputs": [
        {
          "output_type": "execute_result",
          "data": {
            "text/plain": [
              "array(['Propiedad'], dtype=object)"
            ]
          },
          "metadata": {},
          "execution_count": 35
        }
      ]
    },
    {
      "cell_type": "code",
      "source": [
        "prop.ad_type.nunique()"
      ],
      "metadata": {
        "colab": {
          "base_uri": "https://localhost:8080/"
        },
        "id": "7egBUjemSjvx",
        "outputId": "c62a5eb6-d0b4-4e3a-8e48-c4e8cd1725bf"
      },
      "id": "7egBUjemSjvx",
      "execution_count": null,
      "outputs": [
        {
          "output_type": "execute_result",
          "data": {
            "text/plain": [
              "1"
            ]
          },
          "metadata": {},
          "execution_count": 36
        }
      ]
    },
    {
      "cell_type": "code",
      "source": [
        "prop.drop(columns=\"ad_type\", inplace=True)"
      ],
      "metadata": {
        "id": "-Ht3Z64BS5m2"
      },
      "id": "-Ht3Z64BS5m2",
      "execution_count": null,
      "outputs": []
    },
    {
      "cell_type": "markdown",
      "source": [
        "**PUNTO DE REVISIÓN**\n",
        "\n",
        "***A esta altura el dataframe tiene $617747$ filas y $12$ columnas...***"
      ],
      "metadata": {
        "id": "wzs_sGihVTTF"
      },
      "id": "wzs_sGihVTTF"
    },
    {
      "cell_type": "code",
      "source": [
        "prop.shape"
      ],
      "metadata": {
        "colab": {
          "base_uri": "https://localhost:8080/"
        },
        "id": "RdLUhmjJSszf",
        "outputId": "a2087f6f-7c4b-4a87-91de-1fa16d0e4bdb"
      },
      "id": "RdLUhmjJSszf",
      "execution_count": null,
      "outputs": [
        {
          "output_type": "execute_result",
          "data": {
            "text/plain": [
              "(617747, 12)"
            ]
          },
          "metadata": {},
          "execution_count": 38
        }
      ]
    },
    {
      "cell_type": "markdown",
      "source": [
        "### AMBA"
      ],
      "metadata": {
        "id": "M6R22zoEFaru"
      },
      "id": "M6R22zoEFaru"
    },
    {
      "cell_type": "markdown",
      "id": "2c3843a6",
      "metadata": {
        "id": "2c3843a6"
      },
      "source": [
        "***Vamos a analizar la columna l3, para eso primero vamos a filtrar solo los lugares que pertenecen al AMBA:***\n",
        "    \n"
      ]
    },
    {
      "cell_type": "code",
      "execution_count": null,
      "id": "81d816ef",
      "metadata": {
        "id": "81d816ef"
      },
      "outputs": [],
      "source": [
        "ambant = ['General Rodríguez',\n",
        "          'La Plata',\n",
        "          'Escobar',\n",
        "          'Pilar',\n",
        "          'San Vicente',\n",
        "          'Marcos Paz',\n",
        "          'Presidente Perón',\n",
        "          'Cañuelas']"
      ]
    },
    {
      "cell_type": "code",
      "source": [
        "prop = prop[~(prop.l3.isin(ambant))]"
      ],
      "metadata": {
        "id": "nTiDcpOEUBdu"
      },
      "id": "nTiDcpOEUBdu",
      "execution_count": null,
      "outputs": []
    },
    {
      "cell_type": "markdown",
      "id": "1abef239",
      "metadata": {
        "id": "1abef239"
      },
      "source": [
        "***Para este paso deberias tener 528442 rows × 12 columns...***"
      ]
    },
    {
      "cell_type": "markdown",
      "source": [
        "**PUNTO DE REVISIÓN**\n",
        "\n",
        "***A esta altura el dataframe tiene $528442$ filas y $12$ columnas...***"
      ],
      "metadata": {
        "id": "17cuBMfzXyOW"
      },
      "id": "17cuBMfzXyOW"
    },
    {
      "cell_type": "code",
      "source": [
        "prop.shape"
      ],
      "metadata": {
        "colab": {
          "base_uri": "https://localhost:8080/"
        },
        "id": "Hc_0vR6-UEwf",
        "outputId": "f610650d-f3a3-4cc5-8d74-ff315f878d65"
      },
      "id": "Hc_0vR6-UEwf",
      "execution_count": null,
      "outputs": [
        {
          "output_type": "execute_result",
          "data": {
            "text/plain": [
              "(528442, 12)"
            ]
          },
          "metadata": {},
          "execution_count": 41
        }
      ]
    },
    {
      "cell_type": "markdown",
      "source": [
        "### **Latitud y longitud**"
      ],
      "metadata": {
        "id": "uzxsAsS8F6zJ"
      },
      "id": "uzxsAsS8F6zJ"
    },
    {
      "cell_type": "markdown",
      "id": "3d20ff22",
      "metadata": {
        "id": "3d20ff22"
      },
      "source": [
        "***Vamos a analizar la calidad de los datos en las columnas de lat y lon. Buscaremos posibles outliers o datos incorrectos, para eso calcula para ambas columnas: el promedio, el maximo y el minimo...***"
      ]
    },
    {
      "cell_type": "code",
      "source": [
        "prop.lat.describe().round(4)"
      ],
      "metadata": {
        "id": "stva8plNlJeP",
        "colab": {
          "base_uri": "https://localhost:8080/"
        },
        "outputId": "b9944fde-811f-480a-dc41-3c28f28e03d3"
      },
      "id": "stva8plNlJeP",
      "execution_count": null,
      "outputs": [
        {
          "output_type": "execute_result",
          "data": {
            "text/plain": [
              "count    500380.0000\n",
              "mean        -34.6013\n",
              "std           0.4330\n",
              "min         -53.7886\n",
              "25%         -34.6457\n",
              "50%         -34.5998\n",
              "75%         -34.5630\n",
              "max          42.4313\n",
              "Name: lat, dtype: float64"
            ]
          },
          "metadata": {},
          "execution_count": 42
        }
      ]
    },
    {
      "cell_type": "code",
      "source": [
        "prop.lon.describe().round(4)"
      ],
      "metadata": {
        "colab": {
          "base_uri": "https://localhost:8080/"
        },
        "id": "6r9Ml-gtV9sn",
        "outputId": "61fbd587-0508-450c-9494-a697aec7806a"
      },
      "id": "6r9Ml-gtV9sn",
      "execution_count": null,
      "outputs": [
        {
          "output_type": "execute_result",
          "data": {
            "text/plain": [
              "count    500341.0000\n",
              "mean        -58.4906\n",
              "std           0.4543\n",
              "min        -122.4553\n",
              "25%         -58.5510\n",
              "50%         -58.4571\n",
              "75%         -58.4046\n",
              "max          58.7031\n",
              "Name: lon, dtype: float64"
            ]
          },
          "metadata": {},
          "execution_count": 43
        }
      ]
    },
    {
      "cell_type": "markdown",
      "id": "87f32a7b",
      "metadata": {
        "id": "87f32a7b"
      },
      "source": [
        "***Evidentemente hay ciertos puntos que son incorrectos, sus coordenadas caen fuera del AMBA. Para eso buscamos cuales son los valores frontera para la latitud y longitud en el AMBA.***\n",
        "\n",
        "***Estimamos un segmento de latitudes de [-35, -34] y longitudes de [-59 a -58]***\n",
        "\n",
        "***Eliminar todo lo que este fuera de esos rangos (no eliminar valores NaN)***"
      ]
    },
    {
      "cell_type": "code",
      "source": [
        "prop = prop[prop.lat.between(-35, -34) &\n",
        "            prop.lon.between(-59, -58)]"
      ],
      "metadata": {
        "id": "NeEvOLfvlLdT"
      },
      "id": "NeEvOLfvlLdT",
      "execution_count": null,
      "outputs": []
    },
    {
      "cell_type": "markdown",
      "source": [
        "**PUNTO DE REVISIÓN**\n",
        "\n",
        "***A esta altura el dataframe tiene $499739$ filas y $12$ columnas...***"
      ],
      "metadata": {
        "id": "NFiayaDdYiHH"
      },
      "id": "NFiayaDdYiHH"
    },
    {
      "cell_type": "code",
      "source": [
        "prop.shape"
      ],
      "metadata": {
        "colab": {
          "base_uri": "https://localhost:8080/"
        },
        "id": "F9cI9eSTWaIM",
        "outputId": "3496e061-c32f-484f-ceb7-80668d9c9ac1"
      },
      "id": "F9cI9eSTWaIM",
      "execution_count": null,
      "outputs": [
        {
          "output_type": "execute_result",
          "data": {
            "text/plain": [
              "(499739, 12)"
            ]
          },
          "metadata": {},
          "execution_count": 45
        }
      ]
    },
    {
      "cell_type": "markdown",
      "id": "13cd36db",
      "metadata": {
        "id": "13cd36db"
      },
      "source": [
        "***Volver a chequear estadisticos de lat y lon para ver si ya saque valores incorrectos...***"
      ]
    },
    {
      "cell_type": "code",
      "source": [
        "prop.lat.describe().round(4)"
      ],
      "metadata": {
        "id": "H_3TJ9GSlNJo",
        "colab": {
          "base_uri": "https://localhost:8080/"
        },
        "outputId": "48458b15-afea-40f2-e278-7dcd4b7defd6"
      },
      "id": "H_3TJ9GSlNJo",
      "execution_count": null,
      "outputs": [
        {
          "output_type": "execute_result",
          "data": {
            "text/plain": [
              "count    499739.0000\n",
              "mean        -34.6054\n",
              "std           0.1003\n",
              "min         -34.9882\n",
              "25%         -34.6457\n",
              "50%         -34.5998\n",
              "75%         -34.5630\n",
              "max         -34.0490\n",
              "Name: lat, dtype: float64"
            ]
          },
          "metadata": {},
          "execution_count": 46
        }
      ]
    },
    {
      "cell_type": "code",
      "source": [
        "prop.lon.describe().round(4)"
      ],
      "metadata": {
        "colab": {
          "base_uri": "https://localhost:8080/"
        },
        "id": "pAA_yxydWh4J",
        "outputId": "20a9f3f2-4d42-4d09-a44b-6683d2aded4b"
      },
      "id": "pAA_yxydWh4J",
      "execution_count": null,
      "outputs": [
        {
          "output_type": "execute_result",
          "data": {
            "text/plain": [
              "count    499739.0000\n",
              "mean        -58.4836\n",
              "std           0.1102\n",
              "min         -58.9819\n",
              "25%         -58.5505\n",
              "50%         -58.4570\n",
              "75%         -58.4045\n",
              "max         -58.0217\n",
              "Name: lon, dtype: float64"
            ]
          },
          "metadata": {},
          "execution_count": 47
        }
      ]
    },
    {
      "cell_type": "markdown",
      "id": "9eba570e",
      "metadata": {
        "id": "9eba570e"
      },
      "source": [
        "***Eliminar los NaN de la columna l3***"
      ]
    },
    {
      "cell_type": "code",
      "source": [
        "prop.dropna(subset=[\"l3\"], inplace = True)"
      ],
      "metadata": {
        "id": "6uWFlkPFlO3O"
      },
      "id": "6uWFlkPFlO3O",
      "execution_count": null,
      "outputs": []
    },
    {
      "cell_type": "markdown",
      "source": [
        "**PUNTO DE REVISIÓN**\n",
        "\n",
        "***A esta altura el dataframe tiene $499633$ filas y $12$ columnas...***"
      ],
      "metadata": {
        "id": "RLotELAfY0Jq"
      },
      "id": "RLotELAfY0Jq"
    },
    {
      "cell_type": "code",
      "source": [
        "prop.shape"
      ],
      "metadata": {
        "colab": {
          "base_uri": "https://localhost:8080/"
        },
        "id": "B7WjbHLIWsWh",
        "outputId": "41a7d0b4-1bb1-483d-a2db-e5b0730796cc"
      },
      "id": "B7WjbHLIWsWh",
      "execution_count": null,
      "outputs": [
        {
          "output_type": "execute_result",
          "data": {
            "text/plain": [
              "(499633, 12)"
            ]
          },
          "metadata": {},
          "execution_count": 49
        }
      ]
    },
    {
      "cell_type": "markdown",
      "id": "2f583013",
      "metadata": {
        "id": "2f583013"
      },
      "source": [
        "***Volvamos a ver el porcentaje de nulos de cada columna...***"
      ]
    },
    {
      "cell_type": "code",
      "source": [
        "(prop.isna().sum()*100 / prop.shape[0]).round(2).sort_values(ascending=False)"
      ],
      "metadata": {
        "id": "36SOue2AlRgB",
        "colab": {
          "base_uri": "https://localhost:8080/"
        },
        "outputId": "190f0ee9-b4af-4d52-9221-c48184c166a1"
      },
      "id": "36SOue2AlRgB",
      "execution_count": null,
      "outputs": [
        {
          "output_type": "execute_result",
          "data": {
            "text/plain": [
              "rooms             19.39\n",
              "bathrooms         15.34\n",
              "currency           1.05\n",
              "price              0.94\n",
              "start_date         0.00\n",
              "end_date           0.00\n",
              "lat                0.00\n",
              "lon                0.00\n",
              "l2                 0.00\n",
              "l3                 0.00\n",
              "property_type      0.00\n",
              "operation_type     0.00\n",
              "dtype: float64"
            ]
          },
          "metadata": {},
          "execution_count": 50
        }
      ]
    },
    {
      "cell_type": "markdown",
      "id": "47fb5b49",
      "metadata": {
        "id": "47fb5b49"
      },
      "source": [
        "***Veamos los valores unicos de la columna ```property_type```***"
      ]
    },
    {
      "cell_type": "code",
      "source": [
        "prop.property_type.unique()"
      ],
      "metadata": {
        "id": "wnmZplQTlSuR",
        "colab": {
          "base_uri": "https://localhost:8080/"
        },
        "outputId": "d26e5aa7-ee7e-4102-bde6-3e24a8c3cf85"
      },
      "id": "wnmZplQTlSuR",
      "execution_count": null,
      "outputs": [
        {
          "output_type": "execute_result",
          "data": {
            "text/plain": [
              "array(['Departamento', 'Casa', 'Oficina', 'Local comercial', 'Lote',\n",
              "       'Cochera', 'PH', 'Otro', 'Depósito', 'Casa de campo'], dtype=object)"
            ]
          },
          "metadata": {},
          "execution_count": 51
        }
      ]
    },
    {
      "cell_type": "markdown",
      "id": "661f9634",
      "metadata": {
        "id": "661f9634"
      },
      "source": [
        "***La columna se ve bien, hacemos lo mismo con ```operation_type```***"
      ]
    },
    {
      "cell_type": "code",
      "source": [
        "prop.operation_type.unique()"
      ],
      "metadata": {
        "id": "ReXVt7bklUPK",
        "colab": {
          "base_uri": "https://localhost:8080/"
        },
        "outputId": "a5c21059-df17-47c6-c3fa-33445718229a"
      },
      "id": "ReXVt7bklUPK",
      "execution_count": null,
      "outputs": [
        {
          "output_type": "execute_result",
          "data": {
            "text/plain": [
              "array(['Alquiler', 'Alquiler temporal', 'Venta'], dtype=object)"
            ]
          },
          "metadata": {},
          "execution_count": 52
        }
      ]
    },
    {
      "cell_type": "markdown",
      "id": "ad8b991b",
      "metadata": {
        "id": "ad8b991b"
      },
      "source": [
        "***La columna se ve bien. Nos quedan price, currency, bathrooms y rooms.***\n",
        "\n",
        "***Vamos a currency, veamos los valores unicos de esta columna...***"
      ]
    },
    {
      "cell_type": "code",
      "source": [
        "prop.currency.unique()"
      ],
      "metadata": {
        "id": "SvVsfHG6lVtv",
        "colab": {
          "base_uri": "https://localhost:8080/"
        },
        "outputId": "31f26028-ac58-4c04-b8e2-dcc30d69c862"
      },
      "id": "SvVsfHG6lVtv",
      "execution_count": null,
      "outputs": [
        {
          "output_type": "execute_result",
          "data": {
            "text/plain": [
              "array([nan, 'ARS', 'USD', 'COP'], dtype=object)"
            ]
          },
          "metadata": {},
          "execution_count": 53
        }
      ]
    },
    {
      "cell_type": "markdown",
      "id": "22b47d75",
      "metadata": {
        "id": "22b47d75"
      },
      "source": [
        "***Tenemos el peso argentino, el dolar, el peso colombiano y NaN. Veamos los registros con NaN.***"
      ]
    },
    {
      "cell_type": "code",
      "source": [
        "prop[(prop.currency.isnull())]"
      ],
      "metadata": {
        "colab": {
          "base_uri": "https://localhost:8080/",
          "height": 840
        },
        "id": "uvX5cH4bXlWi",
        "outputId": "1d679408-d1d4-478b-db6c-3bf2c907f7e3"
      },
      "id": "uvX5cH4bXlWi",
      "execution_count": null,
      "outputs": [
        {
          "output_type": "execute_result",
          "data": {
            "text/plain": [
              "        start_date    end_date        lat        lon  \\\n",
              "6       2020-08-22  2020-09-04 -34.604195 -58.559827   \n",
              "10      2020-08-22  2020-08-25 -34.439610 -58.629968   \n",
              "649     2021-03-21  9999-12-31 -34.804675 -58.173498   \n",
              "1140    2021-03-21  2021-04-23 -34.630972 -58.424762   \n",
              "1228    2021-03-21  2021-03-22 -34.610553 -58.361774   \n",
              "...            ...         ...        ...        ...   \n",
              "997026  2020-12-04  2021-01-27 -34.648968 -58.577701   \n",
              "997029  2020-12-04  2020-12-09 -34.761623 -58.207809   \n",
              "997032  2020-12-04  2021-03-16 -34.919530 -58.479625   \n",
              "997053  2020-12-04  2021-01-13 -34.611887 -58.359590   \n",
              "997060  2020-12-04  2021-01-02 -34.644868 -58.469612   \n",
              "\n",
              "                              l2                  l3  rooms  bathrooms  price  \\\n",
              "6       Bs.As. G.B.A. Zona Oeste     Tres de Febrero    2.0        1.0    NaN   \n",
              "10      Bs.As. G.B.A. Zona Norte               Tigre    4.0        4.0    NaN   \n",
              "649       Bs.As. G.B.A. Zona Sur         Berazategui    2.0        2.0    NaN   \n",
              "1140             Capital Federal               Boedo    4.0        1.0    NaN   \n",
              "1228             Capital Federal       Puerto Madero    3.0        2.0    NaN   \n",
              "...                          ...                 ...    ...        ...    ...   \n",
              "997026  Bs.As. G.B.A. Zona Oeste          La Matanza    4.0        2.0    NaN   \n",
              "997029    Bs.As. G.B.A. Zona Sur         Berazategui   14.0        1.0    NaN   \n",
              "997032    Bs.As. G.B.A. Zona Sur  Esteban Echeverría    5.0        4.0    NaN   \n",
              "997053           Capital Federal       Puerto Madero    4.0        3.0    NaN   \n",
              "997060           Capital Federal              Flores    9.0        3.0    NaN   \n",
              "\n",
              "       currency property_type     operation_type  \n",
              "6           NaN  Departamento           Alquiler  \n",
              "10          NaN          Casa  Alquiler temporal  \n",
              "649         NaN  Departamento              Venta  \n",
              "1140        NaN  Departamento              Venta  \n",
              "1228        NaN  Departamento              Venta  \n",
              "...         ...           ...                ...  \n",
              "997026      NaN          Casa              Venta  \n",
              "997029      NaN          Casa              Venta  \n",
              "997032      NaN          Casa              Venta  \n",
              "997053      NaN  Departamento              Venta  \n",
              "997060      NaN          Casa              Venta  \n",
              "\n",
              "[5251 rows x 12 columns]"
            ],
            "text/html": [
              "\n",
              "  <div id=\"df-73e46ed2-e771-4196-8a79-88a16193820e\">\n",
              "    <div class=\"colab-df-container\">\n",
              "      <div>\n",
              "<style scoped>\n",
              "    .dataframe tbody tr th:only-of-type {\n",
              "        vertical-align: middle;\n",
              "    }\n",
              "\n",
              "    .dataframe tbody tr th {\n",
              "        vertical-align: top;\n",
              "    }\n",
              "\n",
              "    .dataframe thead th {\n",
              "        text-align: right;\n",
              "    }\n",
              "</style>\n",
              "<table border=\"1\" class=\"dataframe\">\n",
              "  <thead>\n",
              "    <tr style=\"text-align: right;\">\n",
              "      <th></th>\n",
              "      <th>start_date</th>\n",
              "      <th>end_date</th>\n",
              "      <th>lat</th>\n",
              "      <th>lon</th>\n",
              "      <th>l2</th>\n",
              "      <th>l3</th>\n",
              "      <th>rooms</th>\n",
              "      <th>bathrooms</th>\n",
              "      <th>price</th>\n",
              "      <th>currency</th>\n",
              "      <th>property_type</th>\n",
              "      <th>operation_type</th>\n",
              "    </tr>\n",
              "  </thead>\n",
              "  <tbody>\n",
              "    <tr>\n",
              "      <th>6</th>\n",
              "      <td>2020-08-22</td>\n",
              "      <td>2020-09-04</td>\n",
              "      <td>-34.604195</td>\n",
              "      <td>-58.559827</td>\n",
              "      <td>Bs.As. G.B.A. Zona Oeste</td>\n",
              "      <td>Tres de Febrero</td>\n",
              "      <td>2.0</td>\n",
              "      <td>1.0</td>\n",
              "      <td>NaN</td>\n",
              "      <td>NaN</td>\n",
              "      <td>Departamento</td>\n",
              "      <td>Alquiler</td>\n",
              "    </tr>\n",
              "    <tr>\n",
              "      <th>10</th>\n",
              "      <td>2020-08-22</td>\n",
              "      <td>2020-08-25</td>\n",
              "      <td>-34.439610</td>\n",
              "      <td>-58.629968</td>\n",
              "      <td>Bs.As. G.B.A. Zona Norte</td>\n",
              "      <td>Tigre</td>\n",
              "      <td>4.0</td>\n",
              "      <td>4.0</td>\n",
              "      <td>NaN</td>\n",
              "      <td>NaN</td>\n",
              "      <td>Casa</td>\n",
              "      <td>Alquiler temporal</td>\n",
              "    </tr>\n",
              "    <tr>\n",
              "      <th>649</th>\n",
              "      <td>2021-03-21</td>\n",
              "      <td>9999-12-31</td>\n",
              "      <td>-34.804675</td>\n",
              "      <td>-58.173498</td>\n",
              "      <td>Bs.As. G.B.A. Zona Sur</td>\n",
              "      <td>Berazategui</td>\n",
              "      <td>2.0</td>\n",
              "      <td>2.0</td>\n",
              "      <td>NaN</td>\n",
              "      <td>NaN</td>\n",
              "      <td>Departamento</td>\n",
              "      <td>Venta</td>\n",
              "    </tr>\n",
              "    <tr>\n",
              "      <th>1140</th>\n",
              "      <td>2021-03-21</td>\n",
              "      <td>2021-04-23</td>\n",
              "      <td>-34.630972</td>\n",
              "      <td>-58.424762</td>\n",
              "      <td>Capital Federal</td>\n",
              "      <td>Boedo</td>\n",
              "      <td>4.0</td>\n",
              "      <td>1.0</td>\n",
              "      <td>NaN</td>\n",
              "      <td>NaN</td>\n",
              "      <td>Departamento</td>\n",
              "      <td>Venta</td>\n",
              "    </tr>\n",
              "    <tr>\n",
              "      <th>1228</th>\n",
              "      <td>2021-03-21</td>\n",
              "      <td>2021-03-22</td>\n",
              "      <td>-34.610553</td>\n",
              "      <td>-58.361774</td>\n",
              "      <td>Capital Federal</td>\n",
              "      <td>Puerto Madero</td>\n",
              "      <td>3.0</td>\n",
              "      <td>2.0</td>\n",
              "      <td>NaN</td>\n",
              "      <td>NaN</td>\n",
              "      <td>Departamento</td>\n",
              "      <td>Venta</td>\n",
              "    </tr>\n",
              "    <tr>\n",
              "      <th>...</th>\n",
              "      <td>...</td>\n",
              "      <td>...</td>\n",
              "      <td>...</td>\n",
              "      <td>...</td>\n",
              "      <td>...</td>\n",
              "      <td>...</td>\n",
              "      <td>...</td>\n",
              "      <td>...</td>\n",
              "      <td>...</td>\n",
              "      <td>...</td>\n",
              "      <td>...</td>\n",
              "      <td>...</td>\n",
              "    </tr>\n",
              "    <tr>\n",
              "      <th>997026</th>\n",
              "      <td>2020-12-04</td>\n",
              "      <td>2021-01-27</td>\n",
              "      <td>-34.648968</td>\n",
              "      <td>-58.577701</td>\n",
              "      <td>Bs.As. G.B.A. Zona Oeste</td>\n",
              "      <td>La Matanza</td>\n",
              "      <td>4.0</td>\n",
              "      <td>2.0</td>\n",
              "      <td>NaN</td>\n",
              "      <td>NaN</td>\n",
              "      <td>Casa</td>\n",
              "      <td>Venta</td>\n",
              "    </tr>\n",
              "    <tr>\n",
              "      <th>997029</th>\n",
              "      <td>2020-12-04</td>\n",
              "      <td>2020-12-09</td>\n",
              "      <td>-34.761623</td>\n",
              "      <td>-58.207809</td>\n",
              "      <td>Bs.As. G.B.A. Zona Sur</td>\n",
              "      <td>Berazategui</td>\n",
              "      <td>14.0</td>\n",
              "      <td>1.0</td>\n",
              "      <td>NaN</td>\n",
              "      <td>NaN</td>\n",
              "      <td>Casa</td>\n",
              "      <td>Venta</td>\n",
              "    </tr>\n",
              "    <tr>\n",
              "      <th>997032</th>\n",
              "      <td>2020-12-04</td>\n",
              "      <td>2021-03-16</td>\n",
              "      <td>-34.919530</td>\n",
              "      <td>-58.479625</td>\n",
              "      <td>Bs.As. G.B.A. Zona Sur</td>\n",
              "      <td>Esteban Echeverría</td>\n",
              "      <td>5.0</td>\n",
              "      <td>4.0</td>\n",
              "      <td>NaN</td>\n",
              "      <td>NaN</td>\n",
              "      <td>Casa</td>\n",
              "      <td>Venta</td>\n",
              "    </tr>\n",
              "    <tr>\n",
              "      <th>997053</th>\n",
              "      <td>2020-12-04</td>\n",
              "      <td>2021-01-13</td>\n",
              "      <td>-34.611887</td>\n",
              "      <td>-58.359590</td>\n",
              "      <td>Capital Federal</td>\n",
              "      <td>Puerto Madero</td>\n",
              "      <td>4.0</td>\n",
              "      <td>3.0</td>\n",
              "      <td>NaN</td>\n",
              "      <td>NaN</td>\n",
              "      <td>Departamento</td>\n",
              "      <td>Venta</td>\n",
              "    </tr>\n",
              "    <tr>\n",
              "      <th>997060</th>\n",
              "      <td>2020-12-04</td>\n",
              "      <td>2021-01-02</td>\n",
              "      <td>-34.644868</td>\n",
              "      <td>-58.469612</td>\n",
              "      <td>Capital Federal</td>\n",
              "      <td>Flores</td>\n",
              "      <td>9.0</td>\n",
              "      <td>3.0</td>\n",
              "      <td>NaN</td>\n",
              "      <td>NaN</td>\n",
              "      <td>Casa</td>\n",
              "      <td>Venta</td>\n",
              "    </tr>\n",
              "  </tbody>\n",
              "</table>\n",
              "<p>5251 rows × 12 columns</p>\n",
              "</div>\n",
              "      <button class=\"colab-df-convert\" onclick=\"convertToInteractive('df-73e46ed2-e771-4196-8a79-88a16193820e')\"\n",
              "              title=\"Convert this dataframe to an interactive table.\"\n",
              "              style=\"display:none;\">\n",
              "        \n",
              "  <svg xmlns=\"http://www.w3.org/2000/svg\" height=\"24px\"viewBox=\"0 0 24 24\"\n",
              "       width=\"24px\">\n",
              "    <path d=\"M0 0h24v24H0V0z\" fill=\"none\"/>\n",
              "    <path d=\"M18.56 5.44l.94 2.06.94-2.06 2.06-.94-2.06-.94-.94-2.06-.94 2.06-2.06.94zm-11 1L8.5 8.5l.94-2.06 2.06-.94-2.06-.94L8.5 2.5l-.94 2.06-2.06.94zm10 10l.94 2.06.94-2.06 2.06-.94-2.06-.94-.94-2.06-.94 2.06-2.06.94z\"/><path d=\"M17.41 7.96l-1.37-1.37c-.4-.4-.92-.59-1.43-.59-.52 0-1.04.2-1.43.59L10.3 9.45l-7.72 7.72c-.78.78-.78 2.05 0 2.83L4 21.41c.39.39.9.59 1.41.59.51 0 1.02-.2 1.41-.59l7.78-7.78 2.81-2.81c.8-.78.8-2.07 0-2.86zM5.41 20L4 18.59l7.72-7.72 1.47 1.35L5.41 20z\"/>\n",
              "  </svg>\n",
              "      </button>\n",
              "      \n",
              "  <style>\n",
              "    .colab-df-container {\n",
              "      display:flex;\n",
              "      flex-wrap:wrap;\n",
              "      gap: 12px;\n",
              "    }\n",
              "\n",
              "    .colab-df-convert {\n",
              "      background-color: #E8F0FE;\n",
              "      border: none;\n",
              "      border-radius: 50%;\n",
              "      cursor: pointer;\n",
              "      display: none;\n",
              "      fill: #1967D2;\n",
              "      height: 32px;\n",
              "      padding: 0 0 0 0;\n",
              "      width: 32px;\n",
              "    }\n",
              "\n",
              "    .colab-df-convert:hover {\n",
              "      background-color: #E2EBFA;\n",
              "      box-shadow: 0px 1px 2px rgba(60, 64, 67, 0.3), 0px 1px 3px 1px rgba(60, 64, 67, 0.15);\n",
              "      fill: #174EA6;\n",
              "    }\n",
              "\n",
              "    [theme=dark] .colab-df-convert {\n",
              "      background-color: #3B4455;\n",
              "      fill: #D2E3FC;\n",
              "    }\n",
              "\n",
              "    [theme=dark] .colab-df-convert:hover {\n",
              "      background-color: #434B5C;\n",
              "      box-shadow: 0px 1px 3px 1px rgba(0, 0, 0, 0.15);\n",
              "      filter: drop-shadow(0px 1px 2px rgba(0, 0, 0, 0.3));\n",
              "      fill: #FFFFFF;\n",
              "    }\n",
              "  </style>\n",
              "\n",
              "      <script>\n",
              "        const buttonEl =\n",
              "          document.querySelector('#df-73e46ed2-e771-4196-8a79-88a16193820e button.colab-df-convert');\n",
              "        buttonEl.style.display =\n",
              "          google.colab.kernel.accessAllowed ? 'block' : 'none';\n",
              "\n",
              "        async function convertToInteractive(key) {\n",
              "          const element = document.querySelector('#df-73e46ed2-e771-4196-8a79-88a16193820e');\n",
              "          const dataTable =\n",
              "            await google.colab.kernel.invokeFunction('convertToInteractive',\n",
              "                                                     [key], {});\n",
              "          if (!dataTable) return;\n",
              "\n",
              "          const docLinkHtml = 'Like what you see? Visit the ' +\n",
              "            '<a target=\"_blank\" href=https://colab.research.google.com/notebooks/data_table.ipynb>data table notebook</a>'\n",
              "            + ' to learn more about interactive tables.';\n",
              "          element.innerHTML = '';\n",
              "          dataTable['output_type'] = 'display_data';\n",
              "          await google.colab.output.renderOutput(dataTable, element);\n",
              "          const docLink = document.createElement('div');\n",
              "          docLink.innerHTML = docLinkHtml;\n",
              "          element.appendChild(docLink);\n",
              "        }\n",
              "      </script>\n",
              "    </div>\n",
              "  </div>\n",
              "  "
            ]
          },
          "metadata": {},
          "execution_count": 54
        }
      ]
    },
    {
      "cell_type": "code",
      "source": [
        "prop[(prop.currency != \"ARS\") &\n",
        "     (prop.currency != \"USD\") &\n",
        "     (prop.currency != \"COP\")]"
      ],
      "metadata": {
        "id": "n6xKKKfwlW91",
        "colab": {
          "base_uri": "https://localhost:8080/",
          "height": 840
        },
        "outputId": "489f6ac3-7e14-4899-e4ff-e2dbbbb3f768"
      },
      "id": "n6xKKKfwlW91",
      "execution_count": null,
      "outputs": [
        {
          "output_type": "execute_result",
          "data": {
            "text/plain": [
              "        start_date    end_date        lat        lon  \\\n",
              "6       2020-08-22  2020-09-04 -34.604195 -58.559827   \n",
              "10      2020-08-22  2020-08-25 -34.439610 -58.629968   \n",
              "649     2021-03-21  9999-12-31 -34.804675 -58.173498   \n",
              "1140    2021-03-21  2021-04-23 -34.630972 -58.424762   \n",
              "1228    2021-03-21  2021-03-22 -34.610553 -58.361774   \n",
              "...            ...         ...        ...        ...   \n",
              "997026  2020-12-04  2021-01-27 -34.648968 -58.577701   \n",
              "997029  2020-12-04  2020-12-09 -34.761623 -58.207809   \n",
              "997032  2020-12-04  2021-03-16 -34.919530 -58.479625   \n",
              "997053  2020-12-04  2021-01-13 -34.611887 -58.359590   \n",
              "997060  2020-12-04  2021-01-02 -34.644868 -58.469612   \n",
              "\n",
              "                              l2                  l3  rooms  bathrooms  price  \\\n",
              "6       Bs.As. G.B.A. Zona Oeste     Tres de Febrero    2.0        1.0    NaN   \n",
              "10      Bs.As. G.B.A. Zona Norte               Tigre    4.0        4.0    NaN   \n",
              "649       Bs.As. G.B.A. Zona Sur         Berazategui    2.0        2.0    NaN   \n",
              "1140             Capital Federal               Boedo    4.0        1.0    NaN   \n",
              "1228             Capital Federal       Puerto Madero    3.0        2.0    NaN   \n",
              "...                          ...                 ...    ...        ...    ...   \n",
              "997026  Bs.As. G.B.A. Zona Oeste          La Matanza    4.0        2.0    NaN   \n",
              "997029    Bs.As. G.B.A. Zona Sur         Berazategui   14.0        1.0    NaN   \n",
              "997032    Bs.As. G.B.A. Zona Sur  Esteban Echeverría    5.0        4.0    NaN   \n",
              "997053           Capital Federal       Puerto Madero    4.0        3.0    NaN   \n",
              "997060           Capital Federal              Flores    9.0        3.0    NaN   \n",
              "\n",
              "       currency property_type     operation_type  \n",
              "6           NaN  Departamento           Alquiler  \n",
              "10          NaN          Casa  Alquiler temporal  \n",
              "649         NaN  Departamento              Venta  \n",
              "1140        NaN  Departamento              Venta  \n",
              "1228        NaN  Departamento              Venta  \n",
              "...         ...           ...                ...  \n",
              "997026      NaN          Casa              Venta  \n",
              "997029      NaN          Casa              Venta  \n",
              "997032      NaN          Casa              Venta  \n",
              "997053      NaN  Departamento              Venta  \n",
              "997060      NaN          Casa              Venta  \n",
              "\n",
              "[5251 rows x 12 columns]"
            ],
            "text/html": [
              "\n",
              "  <div id=\"df-482ecf1e-457d-4003-accf-e0b2f335b6a8\">\n",
              "    <div class=\"colab-df-container\">\n",
              "      <div>\n",
              "<style scoped>\n",
              "    .dataframe tbody tr th:only-of-type {\n",
              "        vertical-align: middle;\n",
              "    }\n",
              "\n",
              "    .dataframe tbody tr th {\n",
              "        vertical-align: top;\n",
              "    }\n",
              "\n",
              "    .dataframe thead th {\n",
              "        text-align: right;\n",
              "    }\n",
              "</style>\n",
              "<table border=\"1\" class=\"dataframe\">\n",
              "  <thead>\n",
              "    <tr style=\"text-align: right;\">\n",
              "      <th></th>\n",
              "      <th>start_date</th>\n",
              "      <th>end_date</th>\n",
              "      <th>lat</th>\n",
              "      <th>lon</th>\n",
              "      <th>l2</th>\n",
              "      <th>l3</th>\n",
              "      <th>rooms</th>\n",
              "      <th>bathrooms</th>\n",
              "      <th>price</th>\n",
              "      <th>currency</th>\n",
              "      <th>property_type</th>\n",
              "      <th>operation_type</th>\n",
              "    </tr>\n",
              "  </thead>\n",
              "  <tbody>\n",
              "    <tr>\n",
              "      <th>6</th>\n",
              "      <td>2020-08-22</td>\n",
              "      <td>2020-09-04</td>\n",
              "      <td>-34.604195</td>\n",
              "      <td>-58.559827</td>\n",
              "      <td>Bs.As. G.B.A. Zona Oeste</td>\n",
              "      <td>Tres de Febrero</td>\n",
              "      <td>2.0</td>\n",
              "      <td>1.0</td>\n",
              "      <td>NaN</td>\n",
              "      <td>NaN</td>\n",
              "      <td>Departamento</td>\n",
              "      <td>Alquiler</td>\n",
              "    </tr>\n",
              "    <tr>\n",
              "      <th>10</th>\n",
              "      <td>2020-08-22</td>\n",
              "      <td>2020-08-25</td>\n",
              "      <td>-34.439610</td>\n",
              "      <td>-58.629968</td>\n",
              "      <td>Bs.As. G.B.A. Zona Norte</td>\n",
              "      <td>Tigre</td>\n",
              "      <td>4.0</td>\n",
              "      <td>4.0</td>\n",
              "      <td>NaN</td>\n",
              "      <td>NaN</td>\n",
              "      <td>Casa</td>\n",
              "      <td>Alquiler temporal</td>\n",
              "    </tr>\n",
              "    <tr>\n",
              "      <th>649</th>\n",
              "      <td>2021-03-21</td>\n",
              "      <td>9999-12-31</td>\n",
              "      <td>-34.804675</td>\n",
              "      <td>-58.173498</td>\n",
              "      <td>Bs.As. G.B.A. Zona Sur</td>\n",
              "      <td>Berazategui</td>\n",
              "      <td>2.0</td>\n",
              "      <td>2.0</td>\n",
              "      <td>NaN</td>\n",
              "      <td>NaN</td>\n",
              "      <td>Departamento</td>\n",
              "      <td>Venta</td>\n",
              "    </tr>\n",
              "    <tr>\n",
              "      <th>1140</th>\n",
              "      <td>2021-03-21</td>\n",
              "      <td>2021-04-23</td>\n",
              "      <td>-34.630972</td>\n",
              "      <td>-58.424762</td>\n",
              "      <td>Capital Federal</td>\n",
              "      <td>Boedo</td>\n",
              "      <td>4.0</td>\n",
              "      <td>1.0</td>\n",
              "      <td>NaN</td>\n",
              "      <td>NaN</td>\n",
              "      <td>Departamento</td>\n",
              "      <td>Venta</td>\n",
              "    </tr>\n",
              "    <tr>\n",
              "      <th>1228</th>\n",
              "      <td>2021-03-21</td>\n",
              "      <td>2021-03-22</td>\n",
              "      <td>-34.610553</td>\n",
              "      <td>-58.361774</td>\n",
              "      <td>Capital Federal</td>\n",
              "      <td>Puerto Madero</td>\n",
              "      <td>3.0</td>\n",
              "      <td>2.0</td>\n",
              "      <td>NaN</td>\n",
              "      <td>NaN</td>\n",
              "      <td>Departamento</td>\n",
              "      <td>Venta</td>\n",
              "    </tr>\n",
              "    <tr>\n",
              "      <th>...</th>\n",
              "      <td>...</td>\n",
              "      <td>...</td>\n",
              "      <td>...</td>\n",
              "      <td>...</td>\n",
              "      <td>...</td>\n",
              "      <td>...</td>\n",
              "      <td>...</td>\n",
              "      <td>...</td>\n",
              "      <td>...</td>\n",
              "      <td>...</td>\n",
              "      <td>...</td>\n",
              "      <td>...</td>\n",
              "    </tr>\n",
              "    <tr>\n",
              "      <th>997026</th>\n",
              "      <td>2020-12-04</td>\n",
              "      <td>2021-01-27</td>\n",
              "      <td>-34.648968</td>\n",
              "      <td>-58.577701</td>\n",
              "      <td>Bs.As. G.B.A. Zona Oeste</td>\n",
              "      <td>La Matanza</td>\n",
              "      <td>4.0</td>\n",
              "      <td>2.0</td>\n",
              "      <td>NaN</td>\n",
              "      <td>NaN</td>\n",
              "      <td>Casa</td>\n",
              "      <td>Venta</td>\n",
              "    </tr>\n",
              "    <tr>\n",
              "      <th>997029</th>\n",
              "      <td>2020-12-04</td>\n",
              "      <td>2020-12-09</td>\n",
              "      <td>-34.761623</td>\n",
              "      <td>-58.207809</td>\n",
              "      <td>Bs.As. G.B.A. Zona Sur</td>\n",
              "      <td>Berazategui</td>\n",
              "      <td>14.0</td>\n",
              "      <td>1.0</td>\n",
              "      <td>NaN</td>\n",
              "      <td>NaN</td>\n",
              "      <td>Casa</td>\n",
              "      <td>Venta</td>\n",
              "    </tr>\n",
              "    <tr>\n",
              "      <th>997032</th>\n",
              "      <td>2020-12-04</td>\n",
              "      <td>2021-03-16</td>\n",
              "      <td>-34.919530</td>\n",
              "      <td>-58.479625</td>\n",
              "      <td>Bs.As. G.B.A. Zona Sur</td>\n",
              "      <td>Esteban Echeverría</td>\n",
              "      <td>5.0</td>\n",
              "      <td>4.0</td>\n",
              "      <td>NaN</td>\n",
              "      <td>NaN</td>\n",
              "      <td>Casa</td>\n",
              "      <td>Venta</td>\n",
              "    </tr>\n",
              "    <tr>\n",
              "      <th>997053</th>\n",
              "      <td>2020-12-04</td>\n",
              "      <td>2021-01-13</td>\n",
              "      <td>-34.611887</td>\n",
              "      <td>-58.359590</td>\n",
              "      <td>Capital Federal</td>\n",
              "      <td>Puerto Madero</td>\n",
              "      <td>4.0</td>\n",
              "      <td>3.0</td>\n",
              "      <td>NaN</td>\n",
              "      <td>NaN</td>\n",
              "      <td>Departamento</td>\n",
              "      <td>Venta</td>\n",
              "    </tr>\n",
              "    <tr>\n",
              "      <th>997060</th>\n",
              "      <td>2020-12-04</td>\n",
              "      <td>2021-01-02</td>\n",
              "      <td>-34.644868</td>\n",
              "      <td>-58.469612</td>\n",
              "      <td>Capital Federal</td>\n",
              "      <td>Flores</td>\n",
              "      <td>9.0</td>\n",
              "      <td>3.0</td>\n",
              "      <td>NaN</td>\n",
              "      <td>NaN</td>\n",
              "      <td>Casa</td>\n",
              "      <td>Venta</td>\n",
              "    </tr>\n",
              "  </tbody>\n",
              "</table>\n",
              "<p>5251 rows × 12 columns</p>\n",
              "</div>\n",
              "      <button class=\"colab-df-convert\" onclick=\"convertToInteractive('df-482ecf1e-457d-4003-accf-e0b2f335b6a8')\"\n",
              "              title=\"Convert this dataframe to an interactive table.\"\n",
              "              style=\"display:none;\">\n",
              "        \n",
              "  <svg xmlns=\"http://www.w3.org/2000/svg\" height=\"24px\"viewBox=\"0 0 24 24\"\n",
              "       width=\"24px\">\n",
              "    <path d=\"M0 0h24v24H0V0z\" fill=\"none\"/>\n",
              "    <path d=\"M18.56 5.44l.94 2.06.94-2.06 2.06-.94-2.06-.94-.94-2.06-.94 2.06-2.06.94zm-11 1L8.5 8.5l.94-2.06 2.06-.94-2.06-.94L8.5 2.5l-.94 2.06-2.06.94zm10 10l.94 2.06.94-2.06 2.06-.94-2.06-.94-.94-2.06-.94 2.06-2.06.94z\"/><path d=\"M17.41 7.96l-1.37-1.37c-.4-.4-.92-.59-1.43-.59-.52 0-1.04.2-1.43.59L10.3 9.45l-7.72 7.72c-.78.78-.78 2.05 0 2.83L4 21.41c.39.39.9.59 1.41.59.51 0 1.02-.2 1.41-.59l7.78-7.78 2.81-2.81c.8-.78.8-2.07 0-2.86zM5.41 20L4 18.59l7.72-7.72 1.47 1.35L5.41 20z\"/>\n",
              "  </svg>\n",
              "      </button>\n",
              "      \n",
              "  <style>\n",
              "    .colab-df-container {\n",
              "      display:flex;\n",
              "      flex-wrap:wrap;\n",
              "      gap: 12px;\n",
              "    }\n",
              "\n",
              "    .colab-df-convert {\n",
              "      background-color: #E8F0FE;\n",
              "      border: none;\n",
              "      border-radius: 50%;\n",
              "      cursor: pointer;\n",
              "      display: none;\n",
              "      fill: #1967D2;\n",
              "      height: 32px;\n",
              "      padding: 0 0 0 0;\n",
              "      width: 32px;\n",
              "    }\n",
              "\n",
              "    .colab-df-convert:hover {\n",
              "      background-color: #E2EBFA;\n",
              "      box-shadow: 0px 1px 2px rgba(60, 64, 67, 0.3), 0px 1px 3px 1px rgba(60, 64, 67, 0.15);\n",
              "      fill: #174EA6;\n",
              "    }\n",
              "\n",
              "    [theme=dark] .colab-df-convert {\n",
              "      background-color: #3B4455;\n",
              "      fill: #D2E3FC;\n",
              "    }\n",
              "\n",
              "    [theme=dark] .colab-df-convert:hover {\n",
              "      background-color: #434B5C;\n",
              "      box-shadow: 0px 1px 3px 1px rgba(0, 0, 0, 0.15);\n",
              "      filter: drop-shadow(0px 1px 2px rgba(0, 0, 0, 0.3));\n",
              "      fill: #FFFFFF;\n",
              "    }\n",
              "  </style>\n",
              "\n",
              "      <script>\n",
              "        const buttonEl =\n",
              "          document.querySelector('#df-482ecf1e-457d-4003-accf-e0b2f335b6a8 button.colab-df-convert');\n",
              "        buttonEl.style.display =\n",
              "          google.colab.kernel.accessAllowed ? 'block' : 'none';\n",
              "\n",
              "        async function convertToInteractive(key) {\n",
              "          const element = document.querySelector('#df-482ecf1e-457d-4003-accf-e0b2f335b6a8');\n",
              "          const dataTable =\n",
              "            await google.colab.kernel.invokeFunction('convertToInteractive',\n",
              "                                                     [key], {});\n",
              "          if (!dataTable) return;\n",
              "\n",
              "          const docLinkHtml = 'Like what you see? Visit the ' +\n",
              "            '<a target=\"_blank\" href=https://colab.research.google.com/notebooks/data_table.ipynb>data table notebook</a>'\n",
              "            + ' to learn more about interactive tables.';\n",
              "          element.innerHTML = '';\n",
              "          dataTable['output_type'] = 'display_data';\n",
              "          await google.colab.output.renderOutput(dataTable, element);\n",
              "          const docLink = document.createElement('div');\n",
              "          docLink.innerHTML = docLinkHtml;\n",
              "          element.appendChild(docLink);\n",
              "        }\n",
              "      </script>\n",
              "    </div>\n",
              "  </div>\n",
              "  "
            ]
          },
          "metadata": {},
          "execution_count": 55
        }
      ]
    },
    {
      "cell_type": "markdown",
      "id": "1a699d94",
      "metadata": {
        "id": "1a699d94"
      },
      "source": [
        "***Vemos que la cantidad de NaN en esta columna es del $1$%, sin esta columna no podremos saber en que moneda esta el precio, por lo que tampoco sabremos el precio (el precio es la columna mas interesante de este dataset). Decidimos eliminar los registros con NaN de la columna currency.***"
      ]
    },
    {
      "cell_type": "code",
      "source": [
        "prop.dropna(subset=[\"currency\"], inplace= True)"
      ],
      "metadata": {
        "id": "H6rowpwnlYrS"
      },
      "id": "H6rowpwnlYrS",
      "execution_count": null,
      "outputs": []
    },
    {
      "cell_type": "markdown",
      "source": [
        "**PUNTO DE REVISIÓN**\n",
        "\n",
        "***A esta altura el dataframe tiene $494382$ filas y $12$ columnas...***"
      ],
      "metadata": {
        "id": "ZQKKVvKdZjnv"
      },
      "id": "ZQKKVvKdZjnv"
    },
    {
      "cell_type": "code",
      "source": [
        "prop.shape"
      ],
      "metadata": {
        "colab": {
          "base_uri": "https://localhost:8080/"
        },
        "id": "_OP2kNR8X0YJ",
        "outputId": "39250b67-f967-498a-c358-982b24d2af2a"
      },
      "id": "_OP2kNR8X0YJ",
      "execution_count": null,
      "outputs": [
        {
          "output_type": "execute_result",
          "data": {
            "text/plain": [
              "(494382, 12)"
            ]
          },
          "metadata": {},
          "execution_count": 57
        }
      ]
    },
    {
      "cell_type": "markdown",
      "id": "bebf4f8e",
      "metadata": {
        "id": "bebf4f8e"
      },
      "source": [
        "***Volver a analizar el porcentaje de NaN de cada columna.***"
      ]
    },
    {
      "cell_type": "code",
      "source": [
        "(prop.isna().sum()*100 / prop.shape[0]).round(2).sort_values(ascending=False)"
      ],
      "metadata": {
        "id": "XVWvQSTIlauR",
        "colab": {
          "base_uri": "https://localhost:8080/"
        },
        "outputId": "f75dc579-fd4c-41a9-928c-6bd25c69fd07"
      },
      "id": "XVWvQSTIlauR",
      "execution_count": null,
      "outputs": [
        {
          "output_type": "execute_result",
          "data": {
            "text/plain": [
              "rooms             19.57\n",
              "bathrooms         15.49\n",
              "start_date         0.00\n",
              "end_date           0.00\n",
              "lat                0.00\n",
              "lon                0.00\n",
              "l2                 0.00\n",
              "l3                 0.00\n",
              "price              0.00\n",
              "currency           0.00\n",
              "property_type      0.00\n",
              "operation_type     0.00\n",
              "dtype: float64"
            ]
          },
          "metadata": {},
          "execution_count": 58
        }
      ]
    },
    {
      "cell_type": "markdown",
      "id": "e301f86c",
      "metadata": {
        "id": "e301f86c"
      },
      "source": [
        "***Vemos que se eliminaron los NaN de price al eliminar los de currency, matamos 2 pajaros de un tiro.***\n",
        "\n",
        "Ahora si crear una nueva columna **llamada precio** con el valor de las propiedades **en dolares**. Utilizar estas cotizaciones\n",
        "\n",
        "1 dolar = $283 pesos argentinos\n",
        "\n",
        "1 dolar = $4637 pesos colombianos"
      ]
    },
    {
      "cell_type": "code",
      "source": [
        "condicion = [(prop.currency == \"ARS\"),\n",
        "             (prop.currency == \"COP\"),\n",
        "             (prop.currency == \"USD\")]"
      ],
      "metadata": {
        "id": "CSl50SiJlcTb"
      },
      "id": "CSl50SiJlcTb",
      "execution_count": null,
      "outputs": []
    },
    {
      "cell_type": "code",
      "source": [
        "eleccion = [(prop.price / 283),\n",
        "            (prop.price / 4637),\n",
        "            (prop.price)]"
      ],
      "metadata": {
        "id": "GsIpLWtqYOXE"
      },
      "id": "GsIpLWtqYOXE",
      "execution_count": null,
      "outputs": []
    },
    {
      "cell_type": "code",
      "source": [
        "prop[\"precio\"] = np.select(condicion, eleccion)"
      ],
      "metadata": {
        "id": "HQ-jHNCfYT5n"
      },
      "id": "HQ-jHNCfYT5n",
      "execution_count": null,
      "outputs": []
    },
    {
      "cell_type": "markdown",
      "source": [
        "**PUNTO DE REVISIÓN**\n",
        "\n",
        "***A esta altura el dataframe tiene $494382$ filas y $13$ columnas...***"
      ],
      "metadata": {
        "id": "tAxqFd0daSMa"
      },
      "id": "tAxqFd0daSMa"
    },
    {
      "cell_type": "code",
      "source": [
        "prop.shape"
      ],
      "metadata": {
        "colab": {
          "base_uri": "https://localhost:8080/"
        },
        "id": "QON2sGMsYbCn",
        "outputId": "1bf5048d-7625-42bd-ae37-71ea3e4086c4"
      },
      "id": "QON2sGMsYbCn",
      "execution_count": null,
      "outputs": [
        {
          "output_type": "execute_result",
          "data": {
            "text/plain": [
              "(494382, 13)"
            ]
          },
          "metadata": {},
          "execution_count": 62
        }
      ]
    },
    {
      "cell_type": "markdown",
      "source": [
        "### Alquiler temporal"
      ],
      "metadata": {
        "id": "Qxf2-NcZH4yy"
      },
      "id": "Qxf2-NcZH4yy"
    },
    {
      "cell_type": "markdown",
      "id": "c7bfbe47",
      "metadata": {
        "id": "c7bfbe47"
      },
      "source": [
        "***Vamos a centrar el analisis en Alquiler y Venta, eliminamos los registros de 'Alquiler temporal'...***"
      ]
    },
    {
      "cell_type": "code",
      "source": [
        "prop = prop[(prop.operation_type != \"Alquiler temporal\")]"
      ],
      "metadata": {
        "id": "kqt4Bp2klfWE"
      },
      "id": "kqt4Bp2klfWE",
      "execution_count": null,
      "outputs": []
    },
    {
      "cell_type": "markdown",
      "source": [
        "**PUNTO DE REVISIÓN**\n",
        "\n",
        "***A esta altura el dataframe tiene $472774$ filas y $13$ columnas...***"
      ],
      "metadata": {
        "id": "or59TkeNZ_Y-"
      },
      "id": "or59TkeNZ_Y-"
    },
    {
      "cell_type": "code",
      "source": [
        "prop.shape"
      ],
      "metadata": {
        "colab": {
          "base_uri": "https://localhost:8080/"
        },
        "id": "rPsSe2zBYoe7",
        "outputId": "ace5ec8a-9097-4383-d0da-680aa2d8ba6a"
      },
      "id": "rPsSe2zBYoe7",
      "execution_count": null,
      "outputs": [
        {
          "output_type": "execute_result",
          "data": {
            "text/plain": [
              "(472774, 13)"
            ]
          },
          "metadata": {},
          "execution_count": 64
        }
      ]
    },
    {
      "cell_type": "markdown",
      "source": [
        "### Registros entre 40 dolares o 5000000"
      ],
      "metadata": {
        "id": "gXZ7Cwu5Ibp-"
      },
      "id": "gXZ7Cwu5Ibp-"
    },
    {
      "cell_type": "markdown",
      "id": "3cdfdbe6",
      "metadata": {
        "id": "3cdfdbe6"
      },
      "source": [
        "***Eliminar los registros cuyo precio sea inferior a 40 dolares o mayor a 5.000.000 dolares...***"
      ]
    },
    {
      "cell_type": "code",
      "source": [
        "prop[(prop.precio.between(40, 5000000, inclusive=\"neither\"))].shape"
      ],
      "metadata": {
        "id": "u01I0V-lll6a",
        "colab": {
          "base_uri": "https://localhost:8080/"
        },
        "outputId": "5a32fa66-825f-42a0-93a9-697ef0a9c6c5"
      },
      "id": "u01I0V-lll6a",
      "execution_count": null,
      "outputs": [
        {
          "output_type": "execute_result",
          "data": {
            "text/plain": [
              "(467968, 13)"
            ]
          },
          "metadata": {},
          "execution_count": 65
        }
      ]
    },
    {
      "cell_type": "code",
      "source": [
        "prop[(prop.precio.between(40, 5000000, inclusive=\"neither\"))].shape"
      ],
      "metadata": {
        "id": "IMWtgnTbZSsI",
        "colab": {
          "base_uri": "https://localhost:8080/"
        },
        "outputId": "def4bc5f-8d16-4a21-9563-af54c72471b7"
      },
      "id": "IMWtgnTbZSsI",
      "execution_count": null,
      "outputs": [
        {
          "output_type": "execute_result",
          "data": {
            "text/plain": [
              "(467968, 13)"
            ]
          },
          "metadata": {},
          "execution_count": 66
        }
      ]
    },
    {
      "cell_type": "code",
      "source": [
        "prop = prop[(prop.precio.between(40, 5000000, inclusive=\"neither\"))]"
      ],
      "metadata": {
        "id": "BTyEGIyabqwX"
      },
      "id": "BTyEGIyabqwX",
      "execution_count": null,
      "outputs": []
    },
    {
      "cell_type": "markdown",
      "source": [
        "**PUNTO DE REVISIÓN**\n",
        "\n",
        "***A esta altura el dataframe tiene $467968$ filas y $13$ columnas...***"
      ],
      "metadata": {
        "id": "_l9JyweJaxiW"
      },
      "id": "_l9JyweJaxiW"
    },
    {
      "cell_type": "code",
      "source": [
        "prop.shape"
      ],
      "metadata": {
        "colab": {
          "base_uri": "https://localhost:8080/"
        },
        "id": "lZNHvpVtbvAz",
        "outputId": "8619c3ec-7f4e-4065-a1d4-24692208c40a"
      },
      "id": "lZNHvpVtbvAz",
      "execution_count": null,
      "outputs": [
        {
          "output_type": "execute_result",
          "data": {
            "text/plain": [
              "(467968, 13)"
            ]
          },
          "metadata": {},
          "execution_count": 68
        }
      ]
    },
    {
      "cell_type": "markdown",
      "id": "f27c28b4",
      "metadata": {
        "id": "f27c28b4"
      },
      "source": [
        "***Eliminar las ventas cuyo precio sea menor a 5000 dolares***"
      ]
    },
    {
      "cell_type": "code",
      "source": [
        "prop = prop.loc[~((prop.operation_type == \"Venta\") & (prop.precio < 5000)),:]"
      ],
      "metadata": {
        "id": "7KUeKG_glnv8"
      },
      "id": "7KUeKG_glnv8",
      "execution_count": null,
      "outputs": []
    },
    {
      "cell_type": "markdown",
      "source": [
        "**PUNTO DE REVISIÓN**\n",
        "\n",
        "***A esta altura el dataframe tiene $467586$ filas y $13$ columnas...***"
      ],
      "metadata": {
        "id": "XJhTz9wIbWnr"
      },
      "id": "XJhTz9wIbWnr"
    },
    {
      "cell_type": "code",
      "source": [
        "prop.shape"
      ],
      "metadata": {
        "colab": {
          "base_uri": "https://localhost:8080/"
        },
        "id": "7GVSGPWjcZRk",
        "outputId": "71e89fa2-c728-4297-ce88-7a37d03c82b9"
      },
      "id": "7GVSGPWjcZRk",
      "execution_count": null,
      "outputs": [
        {
          "output_type": "execute_result",
          "data": {
            "text/plain": [
              "(467586, 13)"
            ]
          },
          "metadata": {},
          "execution_count": 72
        }
      ]
    },
    {
      "cell_type": "markdown",
      "id": "d7932dd9",
      "metadata": {
        "id": "d7932dd9"
      },
      "source": [
        "***Vamos ahora a la columna bathrooms, eliminamos los registros cuyo valor en bathrooms sea mayor al de rooms + 1***"
      ]
    },
    {
      "cell_type": "code",
      "source": [
        "prop = prop[~(prop.bathrooms > (prop.rooms + 1))]"
      ],
      "metadata": {
        "id": "8aJaUtVYlp64"
      },
      "id": "8aJaUtVYlp64",
      "execution_count": null,
      "outputs": []
    },
    {
      "cell_type": "markdown",
      "source": [
        "**PUNTO DE REVISIÓN**\n",
        "\n",
        "***A esta altura el dataframe tiene $465964$ filas y $13$ columnas...***"
      ],
      "metadata": {
        "id": "hubqsXqFYhVx"
      },
      "id": "hubqsXqFYhVx"
    },
    {
      "cell_type": "code",
      "source": [
        "prop.shape"
      ],
      "metadata": {
        "colab": {
          "base_uri": "https://localhost:8080/"
        },
        "id": "ufdWvTjDcg3j",
        "outputId": "d58e210e-3c50-432a-a4c3-9853c50700b5"
      },
      "id": "ufdWvTjDcg3j",
      "execution_count": null,
      "outputs": [
        {
          "output_type": "execute_result",
          "data": {
            "text/plain": [
              "(465964, 13)"
            ]
          },
          "metadata": {},
          "execution_count": 74
        }
      ]
    },
    {
      "cell_type": "markdown",
      "source": [
        "### Mas de 8 baños o mas de 15 habitaciones"
      ],
      "metadata": {
        "id": "LRICAjpChmkr"
      },
      "id": "LRICAjpChmkr"
    },
    {
      "cell_type": "markdown",
      "id": "2b6f1cd1",
      "metadata": {
        "id": "2b6f1cd1"
      },
      "source": [
        "***Eliminar los registros que tengan mas de $8$ baños o mas de $15$ habitaciones...***"
      ]
    },
    {
      "cell_type": "code",
      "source": [
        "prop = prop[~((prop.bathrooms > 8) | (prop.rooms > 15))]"
      ],
      "metadata": {
        "id": "_Lu1RE-Ilu8B"
      },
      "id": "_Lu1RE-Ilu8B",
      "execution_count": null,
      "outputs": []
    },
    {
      "cell_type": "markdown",
      "id": "e9d2167f",
      "metadata": {
        "id": "e9d2167f"
      },
      "source": [
        "***Eliminar la columna ```price``` y ```currency```, ya que vamos a utilizar la columna precio...***"
      ]
    },
    {
      "cell_type": "code",
      "source": [
        "prop.drop(columns=[\"price\", \"currency\"], inplace=True)"
      ],
      "metadata": {
        "id": "gmVfMy2AlwpU"
      },
      "id": "gmVfMy2AlwpU",
      "execution_count": null,
      "outputs": []
    },
    {
      "cell_type": "markdown",
      "source": [
        "**PUNTO DE REVISIÓN**\n",
        "\n",
        "***A esta altura el dataframe tiene $465451$ filas y $11$ columnas...***"
      ],
      "metadata": {
        "id": "hvwmgZeeZHFV"
      },
      "id": "hvwmgZeeZHFV"
    },
    {
      "cell_type": "code",
      "source": [
        "prop.shape"
      ],
      "metadata": {
        "colab": {
          "base_uri": "https://localhost:8080/"
        },
        "id": "LKVpiZ6Bcwt_",
        "outputId": "65ad67f0-600a-4cb2-924e-dc897a5d9385"
      },
      "id": "LKVpiZ6Bcwt_",
      "execution_count": null,
      "outputs": [
        {
          "output_type": "execute_result",
          "data": {
            "text/plain": [
              "(465451, 11)"
            ]
          },
          "metadata": {},
          "execution_count": 77
        }
      ]
    },
    {
      "cell_type": "markdown",
      "source": [
        "### ***Rellenado***"
      ],
      "metadata": {
        "id": "QiQjjpgZ4kx7"
      },
      "id": "QiQjjpgZ4kx7"
    },
    {
      "cell_type": "markdown",
      "id": "4370209b",
      "metadata": {
        "id": "4370209b"
      },
      "source": [
        "- ***Rellenar los NaN de bathrooms con la mediana de la columna bathrooms, hacer lo mismo con la columna rooms.***\n",
        "\n",
        "Pero antes vamos a marcar los registros a los cuales vamos a inferir, para eso **primero de rellenar**, crea una columna llamada **rellenado** la cual tendra un 1 si alguno de sus campos fue rellenado por nosotros o 0 si no fue rellenado."
      ]
    },
    {
      "cell_type": "code",
      "source": [
        "condicion2 = [(prop.rooms.isna()),\n",
        "              (prop.bathrooms.isna()),\n",
        "              (~(prop.rooms.isna())),\n",
        "              (~(prop.bathrooms.isna()))]"
      ],
      "metadata": {
        "id": "hKGs9ofclzn4"
      },
      "id": "hKGs9ofclzn4",
      "execution_count": null,
      "outputs": []
    },
    {
      "cell_type": "code",
      "source": [
        "seleccion2 = [1,1,0,0]"
      ],
      "metadata": {
        "id": "Y4h2FxWgc6c5"
      },
      "id": "Y4h2FxWgc6c5",
      "execution_count": null,
      "outputs": []
    },
    {
      "cell_type": "code",
      "source": [
        "prop[\"rellenado\"] = np.select(condicion2, seleccion2)"
      ],
      "metadata": {
        "id": "l6kdp7hKc9ge"
      },
      "id": "l6kdp7hKc9ge",
      "execution_count": null,
      "outputs": []
    },
    {
      "cell_type": "markdown",
      "id": "537637eb",
      "metadata": {
        "id": "537637eb"
      },
      "source": [
        "***Calcular la cantidad de registros rellenados y no rellenados...***"
      ]
    },
    {
      "cell_type": "code",
      "source": [
        "prop.rellenado.value_counts()"
      ],
      "metadata": {
        "id": "lf998Xqxl3A9",
        "colab": {
          "base_uri": "https://localhost:8080/"
        },
        "outputId": "5b597a59-5ef5-4b5f-b221-e56daef3c960"
      },
      "id": "lf998Xqxl3A9",
      "execution_count": null,
      "outputs": [
        {
          "output_type": "execute_result",
          "data": {
            "text/plain": [
              "0    345611\n",
              "1    119840\n",
              "Name: rellenado, dtype: int64"
            ]
          },
          "metadata": {},
          "execution_count": 81
        }
      ]
    },
    {
      "cell_type": "markdown",
      "id": "483867c9",
      "metadata": {
        "id": "483867c9"
      },
      "source": [
        "***Ahora si: Rellená los NaN de bathrooms con la mediana de la columna bathrooms, hacer lo mismo con la columna rooms con la mediana de la columna rooms...***"
      ]
    },
    {
      "cell_type": "code",
      "source": [
        "bathrooms_median = prop.bathrooms.median()\n",
        "rooms_median = prop.rooms.median()"
      ],
      "metadata": {
        "id": "_3FraiGal4tB"
      },
      "id": "_3FraiGal4tB",
      "execution_count": null,
      "outputs": []
    },
    {
      "cell_type": "code",
      "source": [
        "prop.bathrooms.fillna(value=bathrooms_median, inplace=True)\n",
        "prop.rooms.fillna(value=rooms_median, inplace = True)"
      ],
      "metadata": {
        "id": "xtZwZSQNdxdK"
      },
      "id": "xtZwZSQNdxdK",
      "execution_count": null,
      "outputs": []
    },
    {
      "cell_type": "markdown",
      "id": "de837883",
      "metadata": {
        "id": "de837883"
      },
      "source": [
        "***Volver a analizar el porcentaje de NaN de cada columna. No deberia de existir ningun NaN en nuestro dataframe...***"
      ]
    },
    {
      "cell_type": "code",
      "source": [
        "(prop.isna().sum()*100/prop.shape[0])"
      ],
      "metadata": {
        "id": "RyjSdo2dl638",
        "colab": {
          "base_uri": "https://localhost:8080/"
        },
        "outputId": "e67d0ba4-707b-47ce-a374-37f4bf6a7abd"
      },
      "id": "RyjSdo2dl638",
      "execution_count": null,
      "outputs": [
        {
          "output_type": "execute_result",
          "data": {
            "text/plain": [
              "start_date        0.0\n",
              "end_date          0.0\n",
              "lat               0.0\n",
              "lon               0.0\n",
              "l2                0.0\n",
              "l3                0.0\n",
              "rooms             0.0\n",
              "bathrooms         0.0\n",
              "property_type     0.0\n",
              "operation_type    0.0\n",
              "precio            0.0\n",
              "rellenado         0.0\n",
              "dtype: float64"
            ]
          },
          "metadata": {},
          "execution_count": 85
        }
      ]
    },
    {
      "cell_type": "markdown",
      "id": "5673d40a",
      "metadata": {
        "id": "5673d40a"
      },
      "source": [
        "***Parece ser que el formato se encuentra correcto, vamos a aplicar una pequeña comprobacion logica: la fecha start_date puede ser igual o menor que end_date, nunca mayor. Si ocurre esto, eliminar los registros que contienen estos errores.***"
      ]
    },
    {
      "cell_type": "code",
      "source": [
        "prop[(prop.start_date <= prop.end_date)]"
      ],
      "metadata": {
        "id": "J-Gn1l85l8nB",
        "colab": {
          "base_uri": "https://localhost:8080/",
          "height": 807
        },
        "outputId": "8ea2b958-d1ac-4ac6-c7c2-2e5b03468ebb"
      },
      "id": "J-Gn1l85l8nB",
      "execution_count": null,
      "outputs": [
        {
          "output_type": "execute_result",
          "data": {
            "text/plain": [
              "        start_date    end_date        lat        lon  \\\n",
              "16      2020-08-22  2020-09-04 -34.633053 -58.419906   \n",
              "17      2020-08-22  2020-09-04 -34.397401 -58.649185   \n",
              "18      2020-08-22  2020-09-04 -34.397401 -58.649185   \n",
              "19      2020-08-22  2020-09-04 -34.598112 -58.400784   \n",
              "20      2020-08-22  2020-09-04 -34.604054 -58.393770   \n",
              "...            ...         ...        ...        ...   \n",
              "999990  2020-12-04  2020-12-16 -34.462664 -58.625235   \n",
              "999991  2020-12-04  2021-01-05 -34.473210 -58.760048   \n",
              "999993  2020-12-04  9999-12-31 -34.482248 -58.501989   \n",
              "999996  2020-12-04  9999-12-31 -34.596587 -58.376893   \n",
              "999997  2020-12-04  9999-12-31 -34.576445 -58.432603   \n",
              "\n",
              "                              l2                   l3  rooms  bathrooms  \\\n",
              "16               Capital Federal                Boedo    3.0        1.0   \n",
              "17      Bs.As. G.B.A. Zona Norte                Tigre    3.0        2.0   \n",
              "18      Bs.As. G.B.A. Zona Norte                Tigre    3.0        2.0   \n",
              "19               Capital Federal             Recoleta    3.0        3.0   \n",
              "20               Capital Federal            Balvanera    3.0        1.0   \n",
              "...                          ...                  ...    ...        ...   \n",
              "999990  Bs.As. G.B.A. Zona Norte                Tigre    3.0        5.0   \n",
              "999991  Bs.As. G.B.A. Zona Norte  Malvinas Argentinas    3.0        2.0   \n",
              "999993  Bs.As. G.B.A. Zona Norte           San Isidro   11.0        4.0   \n",
              "999996           Capital Federal               Retiro   12.0        5.0   \n",
              "999997           Capital Federal              Palermo   14.0        2.0   \n",
              "\n",
              "          property_type operation_type        precio  rellenado  \n",
              "16              Oficina       Alquiler  2.473498e+02          1  \n",
              "17              Oficina       Alquiler  1.236749e+02          1  \n",
              "18              Oficina       Alquiler  9.540636e+01          1  \n",
              "19              Oficina       Alquiler  2.296820e+02          1  \n",
              "20              Oficina       Alquiler  2.120141e+02          1  \n",
              "...                 ...            ...           ...        ...  \n",
              "999990             Casa          Venta  1.200000e+06          1  \n",
              "999991             Casa          Venta  1.120000e+05          1  \n",
              "999993             Casa          Venta  6.900000e+05          0  \n",
              "999996  Local comercial       Alquiler  3.700000e+03          0  \n",
              "999997  Local comercial          Venta  5.700000e+05          0  \n",
              "\n",
              "[465451 rows x 12 columns]"
            ],
            "text/html": [
              "\n",
              "  <div id=\"df-54389950-7a90-4177-b99d-5b2ea58dbc7c\">\n",
              "    <div class=\"colab-df-container\">\n",
              "      <div>\n",
              "<style scoped>\n",
              "    .dataframe tbody tr th:only-of-type {\n",
              "        vertical-align: middle;\n",
              "    }\n",
              "\n",
              "    .dataframe tbody tr th {\n",
              "        vertical-align: top;\n",
              "    }\n",
              "\n",
              "    .dataframe thead th {\n",
              "        text-align: right;\n",
              "    }\n",
              "</style>\n",
              "<table border=\"1\" class=\"dataframe\">\n",
              "  <thead>\n",
              "    <tr style=\"text-align: right;\">\n",
              "      <th></th>\n",
              "      <th>start_date</th>\n",
              "      <th>end_date</th>\n",
              "      <th>lat</th>\n",
              "      <th>lon</th>\n",
              "      <th>l2</th>\n",
              "      <th>l3</th>\n",
              "      <th>rooms</th>\n",
              "      <th>bathrooms</th>\n",
              "      <th>property_type</th>\n",
              "      <th>operation_type</th>\n",
              "      <th>precio</th>\n",
              "      <th>rellenado</th>\n",
              "    </tr>\n",
              "  </thead>\n",
              "  <tbody>\n",
              "    <tr>\n",
              "      <th>16</th>\n",
              "      <td>2020-08-22</td>\n",
              "      <td>2020-09-04</td>\n",
              "      <td>-34.633053</td>\n",
              "      <td>-58.419906</td>\n",
              "      <td>Capital Federal</td>\n",
              "      <td>Boedo</td>\n",
              "      <td>3.0</td>\n",
              "      <td>1.0</td>\n",
              "      <td>Oficina</td>\n",
              "      <td>Alquiler</td>\n",
              "      <td>2.473498e+02</td>\n",
              "      <td>1</td>\n",
              "    </tr>\n",
              "    <tr>\n",
              "      <th>17</th>\n",
              "      <td>2020-08-22</td>\n",
              "      <td>2020-09-04</td>\n",
              "      <td>-34.397401</td>\n",
              "      <td>-58.649185</td>\n",
              "      <td>Bs.As. G.B.A. Zona Norte</td>\n",
              "      <td>Tigre</td>\n",
              "      <td>3.0</td>\n",
              "      <td>2.0</td>\n",
              "      <td>Oficina</td>\n",
              "      <td>Alquiler</td>\n",
              "      <td>1.236749e+02</td>\n",
              "      <td>1</td>\n",
              "    </tr>\n",
              "    <tr>\n",
              "      <th>18</th>\n",
              "      <td>2020-08-22</td>\n",
              "      <td>2020-09-04</td>\n",
              "      <td>-34.397401</td>\n",
              "      <td>-58.649185</td>\n",
              "      <td>Bs.As. G.B.A. Zona Norte</td>\n",
              "      <td>Tigre</td>\n",
              "      <td>3.0</td>\n",
              "      <td>2.0</td>\n",
              "      <td>Oficina</td>\n",
              "      <td>Alquiler</td>\n",
              "      <td>9.540636e+01</td>\n",
              "      <td>1</td>\n",
              "    </tr>\n",
              "    <tr>\n",
              "      <th>19</th>\n",
              "      <td>2020-08-22</td>\n",
              "      <td>2020-09-04</td>\n",
              "      <td>-34.598112</td>\n",
              "      <td>-58.400784</td>\n",
              "      <td>Capital Federal</td>\n",
              "      <td>Recoleta</td>\n",
              "      <td>3.0</td>\n",
              "      <td>3.0</td>\n",
              "      <td>Oficina</td>\n",
              "      <td>Alquiler</td>\n",
              "      <td>2.296820e+02</td>\n",
              "      <td>1</td>\n",
              "    </tr>\n",
              "    <tr>\n",
              "      <th>20</th>\n",
              "      <td>2020-08-22</td>\n",
              "      <td>2020-09-04</td>\n",
              "      <td>-34.604054</td>\n",
              "      <td>-58.393770</td>\n",
              "      <td>Capital Federal</td>\n",
              "      <td>Balvanera</td>\n",
              "      <td>3.0</td>\n",
              "      <td>1.0</td>\n",
              "      <td>Oficina</td>\n",
              "      <td>Alquiler</td>\n",
              "      <td>2.120141e+02</td>\n",
              "      <td>1</td>\n",
              "    </tr>\n",
              "    <tr>\n",
              "      <th>...</th>\n",
              "      <td>...</td>\n",
              "      <td>...</td>\n",
              "      <td>...</td>\n",
              "      <td>...</td>\n",
              "      <td>...</td>\n",
              "      <td>...</td>\n",
              "      <td>...</td>\n",
              "      <td>...</td>\n",
              "      <td>...</td>\n",
              "      <td>...</td>\n",
              "      <td>...</td>\n",
              "      <td>...</td>\n",
              "    </tr>\n",
              "    <tr>\n",
              "      <th>999990</th>\n",
              "      <td>2020-12-04</td>\n",
              "      <td>2020-12-16</td>\n",
              "      <td>-34.462664</td>\n",
              "      <td>-58.625235</td>\n",
              "      <td>Bs.As. G.B.A. Zona Norte</td>\n",
              "      <td>Tigre</td>\n",
              "      <td>3.0</td>\n",
              "      <td>5.0</td>\n",
              "      <td>Casa</td>\n",
              "      <td>Venta</td>\n",
              "      <td>1.200000e+06</td>\n",
              "      <td>1</td>\n",
              "    </tr>\n",
              "    <tr>\n",
              "      <th>999991</th>\n",
              "      <td>2020-12-04</td>\n",
              "      <td>2021-01-05</td>\n",
              "      <td>-34.473210</td>\n",
              "      <td>-58.760048</td>\n",
              "      <td>Bs.As. G.B.A. Zona Norte</td>\n",
              "      <td>Malvinas Argentinas</td>\n",
              "      <td>3.0</td>\n",
              "      <td>2.0</td>\n",
              "      <td>Casa</td>\n",
              "      <td>Venta</td>\n",
              "      <td>1.120000e+05</td>\n",
              "      <td>1</td>\n",
              "    </tr>\n",
              "    <tr>\n",
              "      <th>999993</th>\n",
              "      <td>2020-12-04</td>\n",
              "      <td>9999-12-31</td>\n",
              "      <td>-34.482248</td>\n",
              "      <td>-58.501989</td>\n",
              "      <td>Bs.As. G.B.A. Zona Norte</td>\n",
              "      <td>San Isidro</td>\n",
              "      <td>11.0</td>\n",
              "      <td>4.0</td>\n",
              "      <td>Casa</td>\n",
              "      <td>Venta</td>\n",
              "      <td>6.900000e+05</td>\n",
              "      <td>0</td>\n",
              "    </tr>\n",
              "    <tr>\n",
              "      <th>999996</th>\n",
              "      <td>2020-12-04</td>\n",
              "      <td>9999-12-31</td>\n",
              "      <td>-34.596587</td>\n",
              "      <td>-58.376893</td>\n",
              "      <td>Capital Federal</td>\n",
              "      <td>Retiro</td>\n",
              "      <td>12.0</td>\n",
              "      <td>5.0</td>\n",
              "      <td>Local comercial</td>\n",
              "      <td>Alquiler</td>\n",
              "      <td>3.700000e+03</td>\n",
              "      <td>0</td>\n",
              "    </tr>\n",
              "    <tr>\n",
              "      <th>999997</th>\n",
              "      <td>2020-12-04</td>\n",
              "      <td>9999-12-31</td>\n",
              "      <td>-34.576445</td>\n",
              "      <td>-58.432603</td>\n",
              "      <td>Capital Federal</td>\n",
              "      <td>Palermo</td>\n",
              "      <td>14.0</td>\n",
              "      <td>2.0</td>\n",
              "      <td>Local comercial</td>\n",
              "      <td>Venta</td>\n",
              "      <td>5.700000e+05</td>\n",
              "      <td>0</td>\n",
              "    </tr>\n",
              "  </tbody>\n",
              "</table>\n",
              "<p>465451 rows × 12 columns</p>\n",
              "</div>\n",
              "      <button class=\"colab-df-convert\" onclick=\"convertToInteractive('df-54389950-7a90-4177-b99d-5b2ea58dbc7c')\"\n",
              "              title=\"Convert this dataframe to an interactive table.\"\n",
              "              style=\"display:none;\">\n",
              "        \n",
              "  <svg xmlns=\"http://www.w3.org/2000/svg\" height=\"24px\"viewBox=\"0 0 24 24\"\n",
              "       width=\"24px\">\n",
              "    <path d=\"M0 0h24v24H0V0z\" fill=\"none\"/>\n",
              "    <path d=\"M18.56 5.44l.94 2.06.94-2.06 2.06-.94-2.06-.94-.94-2.06-.94 2.06-2.06.94zm-11 1L8.5 8.5l.94-2.06 2.06-.94-2.06-.94L8.5 2.5l-.94 2.06-2.06.94zm10 10l.94 2.06.94-2.06 2.06-.94-2.06-.94-.94-2.06-.94 2.06-2.06.94z\"/><path d=\"M17.41 7.96l-1.37-1.37c-.4-.4-.92-.59-1.43-.59-.52 0-1.04.2-1.43.59L10.3 9.45l-7.72 7.72c-.78.78-.78 2.05 0 2.83L4 21.41c.39.39.9.59 1.41.59.51 0 1.02-.2 1.41-.59l7.78-7.78 2.81-2.81c.8-.78.8-2.07 0-2.86zM5.41 20L4 18.59l7.72-7.72 1.47 1.35L5.41 20z\"/>\n",
              "  </svg>\n",
              "      </button>\n",
              "      \n",
              "  <style>\n",
              "    .colab-df-container {\n",
              "      display:flex;\n",
              "      flex-wrap:wrap;\n",
              "      gap: 12px;\n",
              "    }\n",
              "\n",
              "    .colab-df-convert {\n",
              "      background-color: #E8F0FE;\n",
              "      border: none;\n",
              "      border-radius: 50%;\n",
              "      cursor: pointer;\n",
              "      display: none;\n",
              "      fill: #1967D2;\n",
              "      height: 32px;\n",
              "      padding: 0 0 0 0;\n",
              "      width: 32px;\n",
              "    }\n",
              "\n",
              "    .colab-df-convert:hover {\n",
              "      background-color: #E2EBFA;\n",
              "      box-shadow: 0px 1px 2px rgba(60, 64, 67, 0.3), 0px 1px 3px 1px rgba(60, 64, 67, 0.15);\n",
              "      fill: #174EA6;\n",
              "    }\n",
              "\n",
              "    [theme=dark] .colab-df-convert {\n",
              "      background-color: #3B4455;\n",
              "      fill: #D2E3FC;\n",
              "    }\n",
              "\n",
              "    [theme=dark] .colab-df-convert:hover {\n",
              "      background-color: #434B5C;\n",
              "      box-shadow: 0px 1px 3px 1px rgba(0, 0, 0, 0.15);\n",
              "      filter: drop-shadow(0px 1px 2px rgba(0, 0, 0, 0.3));\n",
              "      fill: #FFFFFF;\n",
              "    }\n",
              "  </style>\n",
              "\n",
              "      <script>\n",
              "        const buttonEl =\n",
              "          document.querySelector('#df-54389950-7a90-4177-b99d-5b2ea58dbc7c button.colab-df-convert');\n",
              "        buttonEl.style.display =\n",
              "          google.colab.kernel.accessAllowed ? 'block' : 'none';\n",
              "\n",
              "        async function convertToInteractive(key) {\n",
              "          const element = document.querySelector('#df-54389950-7a90-4177-b99d-5b2ea58dbc7c');\n",
              "          const dataTable =\n",
              "            await google.colab.kernel.invokeFunction('convertToInteractive',\n",
              "                                                     [key], {});\n",
              "          if (!dataTable) return;\n",
              "\n",
              "          const docLinkHtml = 'Like what you see? Visit the ' +\n",
              "            '<a target=\"_blank\" href=https://colab.research.google.com/notebooks/data_table.ipynb>data table notebook</a>'\n",
              "            + ' to learn more about interactive tables.';\n",
              "          element.innerHTML = '';\n",
              "          dataTable['output_type'] = 'display_data';\n",
              "          await google.colab.output.renderOutput(dataTable, element);\n",
              "          const docLink = document.createElement('div');\n",
              "          docLink.innerHTML = docLinkHtml;\n",
              "          element.appendChild(docLink);\n",
              "        }\n",
              "      </script>\n",
              "    </div>\n",
              "  </div>\n",
              "  "
            ]
          },
          "metadata": {},
          "execution_count": 86
        }
      ]
    },
    {
      "cell_type": "markdown",
      "id": "9dff95a8",
      "metadata": {
        "id": "9dff95a8"
      },
      "source": [
        "***Vamos a pasar las columnas start_date y end_date, que son strings, a formato datetime. Recorda que el formato de fecha que tenemos en nuestras columnas de fecha es %Y/%m/%d***"
      ]
    },
    {
      "cell_type": "code",
      "source": [
        "prop.start_date = pd.to_datetime(prop[\"start_date\"], format = \"%Y/%m/%d\")"
      ],
      "metadata": {
        "id": "Okb7su-jl-aj"
      },
      "id": "Okb7su-jl-aj",
      "execution_count": null,
      "outputs": []
    },
    {
      "cell_type": "code",
      "source": [
        "prop.end_date = pd.to_datetime(prop[\"end_date\"], format = \"%Y/%m/%d\")"
      ],
      "metadata": {
        "colab": {
          "base_uri": "https://localhost:8080/",
          "height": 387
        },
        "id": "ZxxgcGEYenJc",
        "outputId": "e6a20282-cb44-462c-ad01-2426bf50c616"
      },
      "id": "ZxxgcGEYenJc",
      "execution_count": null,
      "outputs": [
        {
          "output_type": "error",
          "ename": "OutOfBoundsDatetime",
          "evalue": "ignored",
          "traceback": [
            "\u001b[0;31m---------------------------------------------------------------------------\u001b[0m",
            "\u001b[0;31mTypeError\u001b[0m                                 Traceback (most recent call last)",
            "\u001b[0;32m/usr/local/lib/python3.7/dist-packages/pandas/core/arrays/datetimes.py\u001b[0m in \u001b[0;36mobjects_to_datetime64ns\u001b[0;34m(data, dayfirst, yearfirst, utc, errors, require_iso8601, allow_object, allow_mixed)\u001b[0m\n\u001b[1;32m   2191\u001b[0m         \u001b[0;32mtry\u001b[0m\u001b[0;34m:\u001b[0m\u001b[0;34m\u001b[0m\u001b[0;34m\u001b[0m\u001b[0m\n\u001b[0;32m-> 2192\u001b[0;31m             \u001b[0mvalues\u001b[0m\u001b[0;34m,\u001b[0m \u001b[0mtz_parsed\u001b[0m \u001b[0;34m=\u001b[0m \u001b[0mconversion\u001b[0m\u001b[0;34m.\u001b[0m\u001b[0mdatetime_to_datetime64\u001b[0m\u001b[0;34m(\u001b[0m\u001b[0mdata\u001b[0m\u001b[0;34m.\u001b[0m\u001b[0mravel\u001b[0m\u001b[0;34m(\u001b[0m\u001b[0;34m\"K\"\u001b[0m\u001b[0;34m)\u001b[0m\u001b[0;34m)\u001b[0m\u001b[0;34m\u001b[0m\u001b[0;34m\u001b[0m\u001b[0m\n\u001b[0m\u001b[1;32m   2193\u001b[0m             \u001b[0;31m# If tzaware, these values represent unix timestamps, so we\u001b[0m\u001b[0;34m\u001b[0m\u001b[0;34m\u001b[0m\u001b[0;34m\u001b[0m\u001b[0m\n",
            "\u001b[0;32m/usr/local/lib/python3.7/dist-packages/pandas/_libs/tslibs/conversion.pyx\u001b[0m in \u001b[0;36mpandas._libs.tslibs.conversion.datetime_to_datetime64\u001b[0;34m()\u001b[0m\n",
            "\u001b[0;31mTypeError\u001b[0m: Unrecognized value type: <class 'str'>",
            "\nDuring handling of the above exception, another exception occurred:\n",
            "\u001b[0;31mOutOfBoundsDatetime\u001b[0m                       Traceback (most recent call last)",
            "\u001b[0;32m<ipython-input-88-9b0df3849b5f>\u001b[0m in \u001b[0;36m<module>\u001b[0;34m\u001b[0m\n\u001b[0;32m----> 1\u001b[0;31m \u001b[0mprop\u001b[0m\u001b[0;34m.\u001b[0m\u001b[0mend_date\u001b[0m \u001b[0;34m=\u001b[0m \u001b[0mpd\u001b[0m\u001b[0;34m.\u001b[0m\u001b[0mto_datetime\u001b[0m\u001b[0;34m(\u001b[0m\u001b[0mprop\u001b[0m\u001b[0;34m[\u001b[0m\u001b[0;34m\"end_date\"\u001b[0m\u001b[0;34m]\u001b[0m\u001b[0;34m,\u001b[0m \u001b[0mformat\u001b[0m \u001b[0;34m=\u001b[0m \u001b[0;34m\"%Y/%m/%d\"\u001b[0m\u001b[0;34m)\u001b[0m\u001b[0;34m\u001b[0m\u001b[0;34m\u001b[0m\u001b[0m\n\u001b[0m",
            "\u001b[0;32m/usr/local/lib/python3.7/dist-packages/pandas/core/tools/datetimes.py\u001b[0m in \u001b[0;36mto_datetime\u001b[0;34m(arg, errors, dayfirst, yearfirst, utc, format, exact, unit, infer_datetime_format, origin, cache)\u001b[0m\n\u001b[1;32m    881\u001b[0m                 \u001b[0mresult\u001b[0m \u001b[0;34m=\u001b[0m \u001b[0mresult\u001b[0m\u001b[0;34m.\u001b[0m\u001b[0mtz_localize\u001b[0m\u001b[0;34m(\u001b[0m\u001b[0mtz\u001b[0m\u001b[0;34m)\u001b[0m  \u001b[0;31m# type: ignore[call-arg]\u001b[0m\u001b[0;34m\u001b[0m\u001b[0;34m\u001b[0m\u001b[0m\n\u001b[1;32m    882\u001b[0m     \u001b[0;32melif\u001b[0m \u001b[0misinstance\u001b[0m\u001b[0;34m(\u001b[0m\u001b[0marg\u001b[0m\u001b[0;34m,\u001b[0m \u001b[0mABCSeries\u001b[0m\u001b[0;34m)\u001b[0m\u001b[0;34m:\u001b[0m\u001b[0;34m\u001b[0m\u001b[0;34m\u001b[0m\u001b[0m\n\u001b[0;32m--> 883\u001b[0;31m         \u001b[0mcache_array\u001b[0m \u001b[0;34m=\u001b[0m \u001b[0m_maybe_cache\u001b[0m\u001b[0;34m(\u001b[0m\u001b[0marg\u001b[0m\u001b[0;34m,\u001b[0m \u001b[0mformat\u001b[0m\u001b[0;34m,\u001b[0m \u001b[0mcache\u001b[0m\u001b[0;34m,\u001b[0m \u001b[0mconvert_listlike\u001b[0m\u001b[0;34m)\u001b[0m\u001b[0;34m\u001b[0m\u001b[0;34m\u001b[0m\u001b[0m\n\u001b[0m\u001b[1;32m    884\u001b[0m         \u001b[0;32mif\u001b[0m \u001b[0;32mnot\u001b[0m \u001b[0mcache_array\u001b[0m\u001b[0;34m.\u001b[0m\u001b[0mempty\u001b[0m\u001b[0;34m:\u001b[0m\u001b[0;34m\u001b[0m\u001b[0;34m\u001b[0m\u001b[0m\n\u001b[1;32m    885\u001b[0m             \u001b[0mresult\u001b[0m \u001b[0;34m=\u001b[0m \u001b[0marg\u001b[0m\u001b[0;34m.\u001b[0m\u001b[0mmap\u001b[0m\u001b[0;34m(\u001b[0m\u001b[0mcache_array\u001b[0m\u001b[0;34m)\u001b[0m\u001b[0;34m\u001b[0m\u001b[0;34m\u001b[0m\u001b[0m\n",
            "\u001b[0;32m/usr/local/lib/python3.7/dist-packages/pandas/core/tools/datetimes.py\u001b[0m in \u001b[0;36m_maybe_cache\u001b[0;34m(arg, format, cache, convert_listlike)\u001b[0m\n\u001b[1;32m    193\u001b[0m         \u001b[0munique_dates\u001b[0m \u001b[0;34m=\u001b[0m \u001b[0munique\u001b[0m\u001b[0;34m(\u001b[0m\u001b[0marg\u001b[0m\u001b[0;34m)\u001b[0m\u001b[0;34m\u001b[0m\u001b[0;34m\u001b[0m\u001b[0m\n\u001b[1;32m    194\u001b[0m         \u001b[0;32mif\u001b[0m \u001b[0mlen\u001b[0m\u001b[0;34m(\u001b[0m\u001b[0munique_dates\u001b[0m\u001b[0;34m)\u001b[0m \u001b[0;34m<\u001b[0m \u001b[0mlen\u001b[0m\u001b[0;34m(\u001b[0m\u001b[0marg\u001b[0m\u001b[0;34m)\u001b[0m\u001b[0;34m:\u001b[0m\u001b[0;34m\u001b[0m\u001b[0;34m\u001b[0m\u001b[0m\n\u001b[0;32m--> 195\u001b[0;31m             \u001b[0mcache_dates\u001b[0m \u001b[0;34m=\u001b[0m \u001b[0mconvert_listlike\u001b[0m\u001b[0;34m(\u001b[0m\u001b[0munique_dates\u001b[0m\u001b[0;34m,\u001b[0m \u001b[0mformat\u001b[0m\u001b[0;34m)\u001b[0m\u001b[0;34m\u001b[0m\u001b[0;34m\u001b[0m\u001b[0m\n\u001b[0m\u001b[1;32m    196\u001b[0m             \u001b[0mcache_array\u001b[0m \u001b[0;34m=\u001b[0m \u001b[0mSeries\u001b[0m\u001b[0;34m(\u001b[0m\u001b[0mcache_dates\u001b[0m\u001b[0;34m,\u001b[0m \u001b[0mindex\u001b[0m\u001b[0;34m=\u001b[0m\u001b[0munique_dates\u001b[0m\u001b[0;34m)\u001b[0m\u001b[0;34m\u001b[0m\u001b[0;34m\u001b[0m\u001b[0m\n\u001b[1;32m    197\u001b[0m             \u001b[0;31m# GH#39882 and GH#35888 in case of None and NaT we get duplicates\u001b[0m\u001b[0;34m\u001b[0m\u001b[0;34m\u001b[0m\u001b[0;34m\u001b[0m\u001b[0m\n",
            "\u001b[0;32m/usr/local/lib/python3.7/dist-packages/pandas/core/tools/datetimes.py\u001b[0m in \u001b[0;36m_convert_listlike_datetimes\u001b[0;34m(arg, format, name, tz, unit, errors, infer_datetime_format, dayfirst, yearfirst, exact)\u001b[0m\n\u001b[1;32m    406\u001b[0m         \u001b[0merrors\u001b[0m\u001b[0;34m=\u001b[0m\u001b[0merrors\u001b[0m\u001b[0;34m,\u001b[0m\u001b[0;34m\u001b[0m\u001b[0;34m\u001b[0m\u001b[0m\n\u001b[1;32m    407\u001b[0m         \u001b[0mrequire_iso8601\u001b[0m\u001b[0;34m=\u001b[0m\u001b[0mrequire_iso8601\u001b[0m\u001b[0;34m,\u001b[0m\u001b[0;34m\u001b[0m\u001b[0;34m\u001b[0m\u001b[0m\n\u001b[0;32m--> 408\u001b[0;31m         \u001b[0mallow_object\u001b[0m\u001b[0;34m=\u001b[0m\u001b[0;32mTrue\u001b[0m\u001b[0;34m,\u001b[0m\u001b[0;34m\u001b[0m\u001b[0;34m\u001b[0m\u001b[0m\n\u001b[0m\u001b[1;32m    409\u001b[0m     )\n\u001b[1;32m    410\u001b[0m \u001b[0;34m\u001b[0m\u001b[0m\n",
            "\u001b[0;32m/usr/local/lib/python3.7/dist-packages/pandas/core/arrays/datetimes.py\u001b[0m in \u001b[0;36mobjects_to_datetime64ns\u001b[0;34m(data, dayfirst, yearfirst, utc, errors, require_iso8601, allow_object, allow_mixed)\u001b[0m\n\u001b[1;32m   2196\u001b[0m             \u001b[0;32mreturn\u001b[0m \u001b[0mvalues\u001b[0m\u001b[0;34m.\u001b[0m\u001b[0mview\u001b[0m\u001b[0;34m(\u001b[0m\u001b[0;34m\"i8\"\u001b[0m\u001b[0;34m)\u001b[0m\u001b[0;34m,\u001b[0m \u001b[0mtz_parsed\u001b[0m\u001b[0;34m\u001b[0m\u001b[0;34m\u001b[0m\u001b[0m\n\u001b[1;32m   2197\u001b[0m         \u001b[0;32mexcept\u001b[0m \u001b[0;34m(\u001b[0m\u001b[0mValueError\u001b[0m\u001b[0;34m,\u001b[0m \u001b[0mTypeError\u001b[0m\u001b[0;34m)\u001b[0m\u001b[0;34m:\u001b[0m\u001b[0;34m\u001b[0m\u001b[0;34m\u001b[0m\u001b[0m\n\u001b[0;32m-> 2198\u001b[0;31m             \u001b[0;32mraise\u001b[0m \u001b[0merr\u001b[0m\u001b[0;34m\u001b[0m\u001b[0;34m\u001b[0m\u001b[0m\n\u001b[0m\u001b[1;32m   2199\u001b[0m \u001b[0;34m\u001b[0m\u001b[0m\n\u001b[1;32m   2200\u001b[0m     \u001b[0;32mif\u001b[0m \u001b[0mtz_parsed\u001b[0m \u001b[0;32mis\u001b[0m \u001b[0;32mnot\u001b[0m \u001b[0;32mNone\u001b[0m\u001b[0;34m:\u001b[0m\u001b[0;34m\u001b[0m\u001b[0;34m\u001b[0m\u001b[0m\n",
            "\u001b[0;32m/usr/local/lib/python3.7/dist-packages/pandas/core/arrays/datetimes.py\u001b[0m in \u001b[0;36mobjects_to_datetime64ns\u001b[0;34m(data, dayfirst, yearfirst, utc, errors, require_iso8601, allow_object, allow_mixed)\u001b[0m\n\u001b[1;32m   2185\u001b[0m             \u001b[0myearfirst\u001b[0m\u001b[0;34m=\u001b[0m\u001b[0myearfirst\u001b[0m\u001b[0;34m,\u001b[0m\u001b[0;34m\u001b[0m\u001b[0;34m\u001b[0m\u001b[0m\n\u001b[1;32m   2186\u001b[0m             \u001b[0mrequire_iso8601\u001b[0m\u001b[0;34m=\u001b[0m\u001b[0mrequire_iso8601\u001b[0m\u001b[0;34m,\u001b[0m\u001b[0;34m\u001b[0m\u001b[0;34m\u001b[0m\u001b[0m\n\u001b[0;32m-> 2187\u001b[0;31m             \u001b[0mallow_mixed\u001b[0m\u001b[0;34m=\u001b[0m\u001b[0mallow_mixed\u001b[0m\u001b[0;34m,\u001b[0m\u001b[0;34m\u001b[0m\u001b[0;34m\u001b[0m\u001b[0m\n\u001b[0m\u001b[1;32m   2188\u001b[0m         )\n\u001b[1;32m   2189\u001b[0m         \u001b[0mresult\u001b[0m \u001b[0;34m=\u001b[0m \u001b[0mresult\u001b[0m\u001b[0;34m.\u001b[0m\u001b[0mreshape\u001b[0m\u001b[0;34m(\u001b[0m\u001b[0mdata\u001b[0m\u001b[0;34m.\u001b[0m\u001b[0mshape\u001b[0m\u001b[0;34m,\u001b[0m \u001b[0morder\u001b[0m\u001b[0;34m=\u001b[0m\u001b[0morder\u001b[0m\u001b[0;34m)\u001b[0m\u001b[0;34m\u001b[0m\u001b[0;34m\u001b[0m\u001b[0m\n",
            "\u001b[0;32m/usr/local/lib/python3.7/dist-packages/pandas/_libs/tslib.pyx\u001b[0m in \u001b[0;36mpandas._libs.tslib.array_to_datetime\u001b[0;34m()\u001b[0m\n",
            "\u001b[0;32m/usr/local/lib/python3.7/dist-packages/pandas/_libs/tslib.pyx\u001b[0m in \u001b[0;36mpandas._libs.tslib.array_to_datetime\u001b[0;34m()\u001b[0m\n",
            "\u001b[0;32m/usr/local/lib/python3.7/dist-packages/pandas/_libs/tslib.pyx\u001b[0m in \u001b[0;36mpandas._libs.tslib.array_to_datetime\u001b[0;34m()\u001b[0m\n",
            "\u001b[0;32m/usr/local/lib/python3.7/dist-packages/pandas/_libs/tslib.pyx\u001b[0m in \u001b[0;36mpandas._libs.tslib.array_to_datetime\u001b[0;34m()\u001b[0m\n",
            "\u001b[0;32m/usr/local/lib/python3.7/dist-packages/pandas/_libs/tslibs/np_datetime.pyx\u001b[0m in \u001b[0;36mpandas._libs.tslibs.np_datetime.check_dts_bounds\u001b[0;34m()\u001b[0m\n",
            "\u001b[0;31mOutOfBoundsDatetime\u001b[0m: Out of bounds nanosecond timestamp: 9999-12-31 00:00:00"
          ]
        }
      ]
    },
    {
      "cell_type": "markdown",
      "id": "4929e316",
      "metadata": {
        "id": "4929e316"
      },
      "source": [
        "***Al tratar de pasar la columna end_date a datetime nos sale un error, hay un registro que lo esta causando, investigar que registro causa este error...***"
      ]
    },
    {
      "cell_type": "markdown",
      "id": "91bb3750",
      "metadata": {
        "id": "91bb3750"
      },
      "source": [
        "***Hay muchos registros que tienen como end_date 9999-12-31, como la documentacion es de mala calidad, la misma no especifica que significa que el end_date tenga este valor, pero aplicando un poco de sentido comun deducimos que los registros que tienen esta fecha significa que el aviso no se dio de baja, por lo cual no se vendio.***\n",
        "\n",
        "***Cambiar los registros con esta fecha, cambiandola a la fecha de la primera publicacion de python por parte de Guido van Rossum:***\n",
        "**1991-02-20**. \n",
        "\n",
        "***Los registros con esta fecha seran los que aun no se vendieron.***"
      ]
    },
    {
      "cell_type": "code",
      "source": [
        "prop.end_date.replace(\"9999-12-31\",\"1991-02-20\", inplace=True)"
      ],
      "metadata": {
        "id": "n_L-3iItmDTU"
      },
      "id": "n_L-3iItmDTU",
      "execution_count": null,
      "outputs": []
    },
    {
      "cell_type": "markdown",
      "id": "99b95e37",
      "metadata": {
        "id": "99b95e37"
      },
      "source": [
        "***Ahora si pasar la columna end_date a datetime...***"
      ]
    },
    {
      "cell_type": "code",
      "source": [
        "prop.end_date = pd.to_datetime(prop[\"end_date\"], format = \"%Y/%m/%d\")"
      ],
      "metadata": {
        "id": "0eB7uHVImFfu"
      },
      "id": "0eB7uHVImFfu",
      "execution_count": null,
      "outputs": []
    },
    {
      "cell_type": "markdown",
      "id": "4d758ab6",
      "metadata": {
        "id": "4d758ab6"
      },
      "source": [
        "***Vamos a cambiar el nombre de las columnas de la siguiente manera:...***\n",
        "\n",
        "- start_date => inicio\n",
        "- end_date => fin\n",
        "- lat => lat\n",
        "- lon => lon\n",
        "- l2 => zona\n",
        "- l3 => municipio\n",
        "- rooms => ambientes\n",
        "- bathrooms => baños\n",
        "- property_type => tipo\n",
        "- operation_type => operacion\n",
        "- precio => precio\n",
        "- rellenado => rellenado"
      ]
    },
    {
      "cell_type": "code",
      "source": [
        "nombres = [\"inicio\", \"fin\", \"lat\", \"lon\", \"zona\", \"municipio\", \"ambientes\", \"baños\", \"tipo\", \"operacion\", \"precio\", \"rellenado\" ]"
      ],
      "metadata": {
        "id": "QNNmVfNJmIW0"
      },
      "id": "QNNmVfNJmIW0",
      "execution_count": null,
      "outputs": []
    },
    {
      "cell_type": "code",
      "source": [
        "prop.columns = nombres"
      ],
      "metadata": {
        "id": "DdrYTl7rgkhY"
      },
      "id": "DdrYTl7rgkhY",
      "execution_count": null,
      "outputs": []
    },
    {
      "cell_type": "code",
      "source": [
        "prop.columns"
      ],
      "metadata": {
        "colab": {
          "base_uri": "https://localhost:8080/"
        },
        "id": "TZdS_6Z6gplk",
        "outputId": "f28c0b1d-3ab0-4d0d-adc2-a7c5a7889fe0"
      },
      "id": "TZdS_6Z6gplk",
      "execution_count": null,
      "outputs": [
        {
          "output_type": "execute_result",
          "data": {
            "text/plain": [
              "Index(['inicio', 'fin', 'lat', 'lon', 'zona', 'municipio', 'ambientes',\n",
              "       'baños', 'tipo', 'operacion', 'precio', 'rellenado'],\n",
              "      dtype='object')"
            ]
          },
          "metadata": {},
          "execution_count": 93
        }
      ]
    },
    {
      "cell_type": "markdown",
      "id": "375e239a",
      "metadata": {
        "id": "375e239a"
      },
      "source": [
        "***Crear dos columnas nuevas:***\n",
        "\n",
        "- ***año_inicio:*** tiene que contener el numero de año que hay en la fecha de la columna inicio\n",
        "- ***mes_inicio:*** tiene que contener el numero de mes que hay en la fecha de la columna inicio"
      ]
    },
    {
      "cell_type": "code",
      "source": [
        "prop[\"año_inicio\"] = pd.DatetimeIndex(prop.inicio).year\n",
        "prop[\"mes_inicio\"] = pd.DatetimeIndex(prop.fin).month"
      ],
      "metadata": {
        "id": "Zj_qoZU7mLME"
      },
      "id": "Zj_qoZU7mLME",
      "execution_count": null,
      "outputs": []
    },
    {
      "cell_type": "markdown",
      "id": "118e13d8",
      "metadata": {
        "id": "118e13d8"
      },
      "source": [
        "***Por ultimo, reinicia el indice...***"
      ]
    },
    {
      "cell_type": "code",
      "source": [
        "prop.reset_index(drop=True, inplace=True)"
      ],
      "metadata": {
        "id": "aupfEZCsmNMV"
      },
      "id": "aupfEZCsmNMV",
      "execution_count": null,
      "outputs": []
    },
    {
      "cell_type": "markdown",
      "source": [
        "### ***Comprobacion***"
      ],
      "metadata": {
        "id": "q71BHpkIhxfG"
      },
      "id": "q71BHpkIhxfG"
    },
    {
      "cell_type": "markdown",
      "id": "4b42c034",
      "metadata": {
        "id": "4b42c034"
      },
      "source": [
        "***Si hasta aca lo hiciste bien te deberia quedar un dataset de $465451$ rows $×$ $14$ columns y que tenga los siguientes parametros iguales:...***\n",
        "\n"
      ]
    },
    {
      "cell_type": "code",
      "source": [
        "if (465451 - prop.shape[0]) == 0:\n",
        "  print(f\"Vamo nomaaaaaaaaaa\")\n",
        "else:\n",
        "  print(f\"Segui participando, todavia tenes una diferencia de {465451 - prop.shape[0]}\")"
      ],
      "metadata": {
        "colab": {
          "base_uri": "https://localhost:8080/"
        },
        "id": "LV6gB8ILgNkY",
        "outputId": "11a0bcc9-581f-46fb-ba39-92a38bc94c58"
      },
      "id": "LV6gB8ILgNkY",
      "execution_count": null,
      "outputs": [
        {
          "output_type": "stream",
          "name": "stdout",
          "text": [
            "Vamo nomaaaaaaaaaa\n"
          ]
        }
      ]
    }
  ],
  "metadata": {
    "kernelspec": {
      "display_name": "Python 3 (ipykernel)",
      "language": "python",
      "name": "python3"
    },
    "language_info": {
      "codemirror_mode": {
        "name": "ipython",
        "version": 3
      },
      "file_extension": ".py",
      "mimetype": "text/x-python",
      "name": "python",
      "nbconvert_exporter": "python",
      "pygments_lexer": "ipython3",
      "version": "3.9.7"
    },
    "colab": {
      "provenance": [],
      "collapsed_sections": [
        "M6R22zoEFaru",
        "uzxsAsS8F6zJ",
        "Qxf2-NcZH4yy",
        "LRICAjpChmkr",
        "QiQjjpgZ4kx7",
        "q71BHpkIhxfG"
      ],
      "include_colab_link": true
    }
  },
  "nbformat": 4,
  "nbformat_minor": 5
}