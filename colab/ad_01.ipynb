{
  "nbformat": 4,
  "nbformat_minor": 0,
  "metadata": {
    "colab": {
      "provenance": [],
      "collapsed_sections": [],
      "toc_visible": true,
      "include_colab_link": true
    },
    "kernelspec": {
      "display_name": "Python 3",
      "name": "python3"
    }
  },
  "cells": [
    {
      "cell_type": "markdown",
      "metadata": {
        "id": "view-in-github",
        "colab_type": "text"
      },
      "source": [
        "<a href=\"https://colab.research.google.com/github/cristiandarioortegayubro/UNI/blob/main/colab/ad_01.ipynb\" target=\"_parent\"><img src=\"https://colab.research.google.com/assets/colab-badge.svg\" alt=\"Open In Colab\"/></a>"
      ]
    },
    {
      "cell_type": "markdown",
      "metadata": {
        "id": "dZCo0Sbd_7hU"
      },
      "source": [
        "![](https://github.com/cristiandarioortegayubro/UNI/blob/main/UNI%2039%20Aniversario.jpg?raw=true)"
      ]
    },
    {
      "cell_type": "markdown",
      "metadata": {
        "id": "ZzUv81e7AC-3"
      },
      "source": [
        "[UNI-DEPEC](https://posgrado.uni.edu.ni)"
      ]
    },
    {
      "cell_type": "markdown",
      "metadata": {
        "id": "F8HViDmzOCt0"
      },
      "source": [
        "# **Árbol de decisión**"
      ]
    },
    {
      "cell_type": "markdown",
      "metadata": {
        "id": "DrscnmUQ6P2J"
      },
      "source": [
        "***Un árbol de decisión es un modelo predictivo formado por reglas binarias (si/no) con las que se consigue repartir observaciones del espacio muestral, en función de sus atributos y predecir así el valor de la variable objetivo, o variable dependiente.***"
      ]
    },
    {
      "cell_type": "markdown",
      "metadata": {
        "id": "xONAbDk6J0hv"
      },
      "source": [
        "***Muchos métodos predictivos generan modelos en los que una ecuación se aplica a todo el espacio muestral.***\n",
        "\n",
        "***Cuando el caso de uso implica múltiples predictores, que iteractúan entre ellos de forma compleja y no lineal, es muy difícil encontrar un único modelo global que sea capaz de reflejar la relación entre las distintas variables. El árbol de decisión engloba un conjunto de técnicas supervisadas no paramétricas que consiguen segmentar el espacio de los predictores en regiones simples, dentro de las cuales es más sencillo manejar esas interacciones.***"
      ]
    },
    {
      "cell_type": "markdown",
      "metadata": {
        "id": "Aie4zGmWK2Up"
      },
      "source": [
        "## **Activando las librerías necesarias**"
      ]
    },
    {
      "cell_type": "markdown",
      "metadata": {
        "id": "6mmr9b9TK8Im"
      },
      "source": [
        "### ***Para el análisis de datos y el conjunto de datos***"
      ]
    },
    {
      "cell_type": "code",
      "metadata": {
        "id": "ALTr7LIJK_r-"
      },
      "source": [
        "import numpy as np\n",
        "import statsmodels.api as sm\n",
        "import pandas as pd\n",
        "import pandas.testing as tm"
      ],
      "execution_count": null,
      "outputs": []
    },
    {
      "cell_type": "markdown",
      "metadata": {
        "id": "d0nKpp6pLH0l"
      },
      "source": [
        "### ***Para el preprocesado y el modelo***"
      ]
    },
    {
      "cell_type": "code",
      "metadata": {
        "id": "UlOdFmUVLKhd"
      },
      "source": [
        "from sklearn.model_selection import train_test_split\n",
        "from sklearn.tree import DecisionTreeClassifier\n",
        "from sklearn.tree import plot_tree\n",
        "from sklearn.tree import export_graphviz\n",
        "from sklearn.tree import export_text\n",
        "from sklearn.model_selection import GridSearchCV\n",
        "from sklearn.compose import ColumnTransformer\n",
        "from sklearn.preprocessing import OneHotEncoder\n",
        "import sklearn.metrics as metrics\n",
        "from sklearn.metrics import accuracy_score\n",
        "from sklearn.metrics import confusion_matrix, ConfusionMatrixDisplay"
      ],
      "execution_count": null,
      "outputs": []
    },
    {
      "cell_type": "markdown",
      "metadata": {
        "id": "Nyst5IsdLLAX"
      },
      "source": [
        "### ***Para gráficos***"
      ]
    },
    {
      "cell_type": "code",
      "metadata": {
        "id": "kLe6HaLQLo1c"
      },
      "source": [
        "import matplotlib.pyplot as plt\n",
        "import plotly.express as px"
      ],
      "execution_count": null,
      "outputs": []
    },
    {
      "cell_type": "markdown",
      "metadata": {
        "id": "v2_Jcx4BLuGD"
      },
      "source": [
        "### ***Para serializar***"
      ]
    },
    {
      "cell_type": "code",
      "metadata": {
        "id": "jbjex3AjLwwr"
      },
      "source": [
        "import pickle"
      ],
      "execution_count": null,
      "outputs": []
    },
    {
      "cell_type": "markdown",
      "metadata": {
        "id": "rmhSyKYXMcnG"
      },
      "source": [
        "## **Conjunto de datos**"
      ]
    },
    {
      "cell_type": "markdown",
      "metadata": {
        "id": "P3fqM2NSMoUu"
      },
      "source": [
        "***El conjunto de datos contiene información sobre la venta de sillas infantiles en 400 tiendas distintas. Para cada una de las 400 tiendas se han registrado 11 variables. Se pretende generar un modelo de clasificación que permita predecir si una tienda tiene ventas altas $>$ 8 o bajas $<=$ 8, en función de todas las variables disponibles.***"
      ]
    },
    {
      "cell_type": "markdown",
      "metadata": {
        "id": "wG1rY14NOsGg"
      },
      "source": [
        "### ***Obtención de los datos***"
      ]
    },
    {
      "cell_type": "code",
      "metadata": {
        "id": "U7TQAjj1MiN4"
      },
      "source": [
        "sillitas=sm.datasets.get_rdataset(\"Carseats\", \"ISLR\")"
      ],
      "execution_count": null,
      "outputs": []
    },
    {
      "cell_type": "code",
      "metadata": {
        "id": "ORs4kHmVO7P_"
      },
      "source": [
        "datos=sillitas.data"
      ],
      "execution_count": null,
      "outputs": []
    },
    {
      "cell_type": "markdown",
      "metadata": {
        "id": "WyCgwR-DPJ24"
      },
      "source": [
        "### ***Información del conjunto de datos***"
      ]
    },
    {
      "cell_type": "code",
      "metadata": {
        "colab": {
          "base_uri": "https://localhost:8080/"
        },
        "id": "5KmagQO1PNYe",
        "outputId": "428a1246-9465-4c9c-899c-1644e71da345"
      },
      "source": [
        "print(sillitas.__doc__)"
      ],
      "execution_count": null,
      "outputs": [
        {
          "output_type": "stream",
          "name": "stdout",
          "text": [
            ".. container::\n",
            "\n",
            "   ======== ===============\n",
            "   Carseats R Documentation\n",
            "   ======== ===============\n",
            "\n",
            "   .. rubric:: Sales of Child Car Seats\n",
            "      :name: sales-of-child-car-seats\n",
            "\n",
            "   .. rubric:: Description\n",
            "      :name: description\n",
            "\n",
            "   A simulated data set containing sales of child car seats at 400\n",
            "   different stores.\n",
            "\n",
            "   .. rubric:: Usage\n",
            "      :name: usage\n",
            "\n",
            "   ::\n",
            "\n",
            "      Carseats\n",
            "\n",
            "   .. rubric:: Format\n",
            "      :name: format\n",
            "\n",
            "   A data frame with 400 observations on the following 11 variables.\n",
            "\n",
            "   ``Sales``\n",
            "      Unit sales (in thousands) at each location\n",
            "\n",
            "   ``CompPrice``\n",
            "      Price charged by competitor at each location\n",
            "\n",
            "   ``Income``\n",
            "      Community income level (in thousands of dollars)\n",
            "\n",
            "   ``Advertising``\n",
            "      Local advertising budget for company at each location (in\n",
            "      thousands of dollars)\n",
            "\n",
            "   ``Population``\n",
            "      Population size in region (in thousands)\n",
            "\n",
            "   ``Price``\n",
            "      Price company charges for car seats at each site\n",
            "\n",
            "   ``ShelveLoc``\n",
            "      A factor with levels ``Bad``, ``Good`` and ``Medium`` indicating\n",
            "      the quality of the shelving location for the car seats at each\n",
            "      site\n",
            "\n",
            "   ``Age``\n",
            "      Average age of the local population\n",
            "\n",
            "   ``Education``\n",
            "      Education level at each location\n",
            "\n",
            "   ``Urban``\n",
            "      A factor with levels ``No`` and ``Yes`` to indicate whether the\n",
            "      store is in an urban or rural location\n",
            "\n",
            "   ``US``\n",
            "      A factor with levels ``No`` and ``Yes`` to indicate whether the\n",
            "      store is in the US or not\n",
            "\n",
            "   .. rubric:: Source\n",
            "      :name: source\n",
            "\n",
            "   Simulated data\n",
            "\n",
            "   .. rubric:: References\n",
            "      :name: references\n",
            "\n",
            "   James, G., Witten, D., Hastie, T., and Tibshirani, R. (2013) *An\n",
            "   Introduction to Statistical Learning with applications in R*,\n",
            "   https://www.statlearning.com, Springer-Verlag, New York\n",
            "\n",
            "   .. rubric:: Examples\n",
            "      :name: examples\n",
            "\n",
            "   ::\n",
            "\n",
            "      summary(Carseats)\n",
            "      lm.fit=lm(Sales~Advertising+Price,data=Carseats)\n",
            "\n"
          ]
        }
      ]
    },
    {
      "cell_type": "markdown",
      "metadata": {
        "id": "hDN7_KExPdvY"
      },
      "source": [
        "## ***Análisis Exploratorio de los Datos***"
      ]
    },
    {
      "cell_type": "markdown",
      "metadata": {
        "id": "XlhUEEI0QmMs"
      },
      "source": [
        "### ***Visualización de las variables***"
      ]
    },
    {
      "cell_type": "code",
      "metadata": {
        "colab": {
          "base_uri": "https://localhost:8080/",
          "height": 206
        },
        "id": "B7nGnCkmPheW",
        "outputId": "c0173522-d386-4b39-a8b9-fdcae347f839"
      },
      "source": [
        "datos.head()"
      ],
      "execution_count": null,
      "outputs": [
        {
          "output_type": "execute_result",
          "data": {
            "text/html": [
              "\n",
              "  <div id=\"df-b3d32d63-5fba-4043-be52-ae8ab31ff179\">\n",
              "    <div class=\"colab-df-container\">\n",
              "      <div>\n",
              "<style scoped>\n",
              "    .dataframe tbody tr th:only-of-type {\n",
              "        vertical-align: middle;\n",
              "    }\n",
              "\n",
              "    .dataframe tbody tr th {\n",
              "        vertical-align: top;\n",
              "    }\n",
              "\n",
              "    .dataframe thead th {\n",
              "        text-align: right;\n",
              "    }\n",
              "</style>\n",
              "<table border=\"1\" class=\"dataframe\">\n",
              "  <thead>\n",
              "    <tr style=\"text-align: right;\">\n",
              "      <th></th>\n",
              "      <th>Sales</th>\n",
              "      <th>CompPrice</th>\n",
              "      <th>Income</th>\n",
              "      <th>Advertising</th>\n",
              "      <th>Population</th>\n",
              "      <th>Price</th>\n",
              "      <th>ShelveLoc</th>\n",
              "      <th>Age</th>\n",
              "      <th>Education</th>\n",
              "      <th>Urban</th>\n",
              "      <th>US</th>\n",
              "    </tr>\n",
              "  </thead>\n",
              "  <tbody>\n",
              "    <tr>\n",
              "      <th>0</th>\n",
              "      <td>9.50</td>\n",
              "      <td>138</td>\n",
              "      <td>73</td>\n",
              "      <td>11</td>\n",
              "      <td>276</td>\n",
              "      <td>120</td>\n",
              "      <td>Bad</td>\n",
              "      <td>42</td>\n",
              "      <td>17</td>\n",
              "      <td>Yes</td>\n",
              "      <td>Yes</td>\n",
              "    </tr>\n",
              "    <tr>\n",
              "      <th>1</th>\n",
              "      <td>11.22</td>\n",
              "      <td>111</td>\n",
              "      <td>48</td>\n",
              "      <td>16</td>\n",
              "      <td>260</td>\n",
              "      <td>83</td>\n",
              "      <td>Good</td>\n",
              "      <td>65</td>\n",
              "      <td>10</td>\n",
              "      <td>Yes</td>\n",
              "      <td>Yes</td>\n",
              "    </tr>\n",
              "    <tr>\n",
              "      <th>2</th>\n",
              "      <td>10.06</td>\n",
              "      <td>113</td>\n",
              "      <td>35</td>\n",
              "      <td>10</td>\n",
              "      <td>269</td>\n",
              "      <td>80</td>\n",
              "      <td>Medium</td>\n",
              "      <td>59</td>\n",
              "      <td>12</td>\n",
              "      <td>Yes</td>\n",
              "      <td>Yes</td>\n",
              "    </tr>\n",
              "    <tr>\n",
              "      <th>3</th>\n",
              "      <td>7.40</td>\n",
              "      <td>117</td>\n",
              "      <td>100</td>\n",
              "      <td>4</td>\n",
              "      <td>466</td>\n",
              "      <td>97</td>\n",
              "      <td>Medium</td>\n",
              "      <td>55</td>\n",
              "      <td>14</td>\n",
              "      <td>Yes</td>\n",
              "      <td>Yes</td>\n",
              "    </tr>\n",
              "    <tr>\n",
              "      <th>4</th>\n",
              "      <td>4.15</td>\n",
              "      <td>141</td>\n",
              "      <td>64</td>\n",
              "      <td>3</td>\n",
              "      <td>340</td>\n",
              "      <td>128</td>\n",
              "      <td>Bad</td>\n",
              "      <td>38</td>\n",
              "      <td>13</td>\n",
              "      <td>Yes</td>\n",
              "      <td>No</td>\n",
              "    </tr>\n",
              "  </tbody>\n",
              "</table>\n",
              "</div>\n",
              "      <button class=\"colab-df-convert\" onclick=\"convertToInteractive('df-b3d32d63-5fba-4043-be52-ae8ab31ff179')\"\n",
              "              title=\"Convert this dataframe to an interactive table.\"\n",
              "              style=\"display:none;\">\n",
              "        \n",
              "  <svg xmlns=\"http://www.w3.org/2000/svg\" height=\"24px\"viewBox=\"0 0 24 24\"\n",
              "       width=\"24px\">\n",
              "    <path d=\"M0 0h24v24H0V0z\" fill=\"none\"/>\n",
              "    <path d=\"M18.56 5.44l.94 2.06.94-2.06 2.06-.94-2.06-.94-.94-2.06-.94 2.06-2.06.94zm-11 1L8.5 8.5l.94-2.06 2.06-.94-2.06-.94L8.5 2.5l-.94 2.06-2.06.94zm10 10l.94 2.06.94-2.06 2.06-.94-2.06-.94-.94-2.06-.94 2.06-2.06.94z\"/><path d=\"M17.41 7.96l-1.37-1.37c-.4-.4-.92-.59-1.43-.59-.52 0-1.04.2-1.43.59L10.3 9.45l-7.72 7.72c-.78.78-.78 2.05 0 2.83L4 21.41c.39.39.9.59 1.41.59.51 0 1.02-.2 1.41-.59l7.78-7.78 2.81-2.81c.8-.78.8-2.07 0-2.86zM5.41 20L4 18.59l7.72-7.72 1.47 1.35L5.41 20z\"/>\n",
              "  </svg>\n",
              "      </button>\n",
              "      \n",
              "  <style>\n",
              "    .colab-df-container {\n",
              "      display:flex;\n",
              "      flex-wrap:wrap;\n",
              "      gap: 12px;\n",
              "    }\n",
              "\n",
              "    .colab-df-convert {\n",
              "      background-color: #E8F0FE;\n",
              "      border: none;\n",
              "      border-radius: 50%;\n",
              "      cursor: pointer;\n",
              "      display: none;\n",
              "      fill: #1967D2;\n",
              "      height: 32px;\n",
              "      padding: 0 0 0 0;\n",
              "      width: 32px;\n",
              "    }\n",
              "\n",
              "    .colab-df-convert:hover {\n",
              "      background-color: #E2EBFA;\n",
              "      box-shadow: 0px 1px 2px rgba(60, 64, 67, 0.3), 0px 1px 3px 1px rgba(60, 64, 67, 0.15);\n",
              "      fill: #174EA6;\n",
              "    }\n",
              "\n",
              "    [theme=dark] .colab-df-convert {\n",
              "      background-color: #3B4455;\n",
              "      fill: #D2E3FC;\n",
              "    }\n",
              "\n",
              "    [theme=dark] .colab-df-convert:hover {\n",
              "      background-color: #434B5C;\n",
              "      box-shadow: 0px 1px 3px 1px rgba(0, 0, 0, 0.15);\n",
              "      filter: drop-shadow(0px 1px 2px rgba(0, 0, 0, 0.3));\n",
              "      fill: #FFFFFF;\n",
              "    }\n",
              "  </style>\n",
              "\n",
              "      <script>\n",
              "        const buttonEl =\n",
              "          document.querySelector('#df-b3d32d63-5fba-4043-be52-ae8ab31ff179 button.colab-df-convert');\n",
              "        buttonEl.style.display =\n",
              "          google.colab.kernel.accessAllowed ? 'block' : 'none';\n",
              "\n",
              "        async function convertToInteractive(key) {\n",
              "          const element = document.querySelector('#df-b3d32d63-5fba-4043-be52-ae8ab31ff179');\n",
              "          const dataTable =\n",
              "            await google.colab.kernel.invokeFunction('convertToInteractive',\n",
              "                                                     [key], {});\n",
              "          if (!dataTable) return;\n",
              "\n",
              "          const docLinkHtml = 'Like what you see? Visit the ' +\n",
              "            '<a target=\"_blank\" href=https://colab.research.google.com/notebooks/data_table.ipynb>data table notebook</a>'\n",
              "            + ' to learn more about interactive tables.';\n",
              "          element.innerHTML = '';\n",
              "          dataTable['output_type'] = 'display_data';\n",
              "          await google.colab.output.renderOutput(dataTable, element);\n",
              "          const docLink = document.createElement('div');\n",
              "          docLink.innerHTML = docLinkHtml;\n",
              "          element.appendChild(docLink);\n",
              "        }\n",
              "      </script>\n",
              "    </div>\n",
              "  </div>\n",
              "  "
            ],
            "text/plain": [
              "   Sales  CompPrice  Income  Advertising  ...  Age  Education Urban   US\n",
              "0   9.50        138      73           11  ...   42         17   Yes  Yes\n",
              "1  11.22        111      48           16  ...   65         10   Yes  Yes\n",
              "2  10.06        113      35           10  ...   59         12   Yes  Yes\n",
              "3   7.40        117     100            4  ...   55         14   Yes  Yes\n",
              "4   4.15        141      64            3  ...   38         13   Yes   No\n",
              "\n",
              "[5 rows x 11 columns]"
            ]
          },
          "metadata": {},
          "execution_count": 13
        }
      ]
    },
    {
      "cell_type": "markdown",
      "metadata": {
        "id": "W4EHPgQyQrEo"
      },
      "source": [
        "### ***Información de las variables***"
      ]
    },
    {
      "cell_type": "code",
      "metadata": {
        "colab": {
          "base_uri": "https://localhost:8080/"
        },
        "id": "0FkWPSMDP-63",
        "outputId": "c81df1af-ddf1-4ae4-efb7-df20343db895"
      },
      "source": [
        "datos.info()"
      ],
      "execution_count": null,
      "outputs": [
        {
          "output_type": "stream",
          "name": "stdout",
          "text": [
            "<class 'pandas.core.frame.DataFrame'>\n",
            "RangeIndex: 400 entries, 0 to 399\n",
            "Data columns (total 11 columns):\n",
            " #   Column       Non-Null Count  Dtype  \n",
            "---  ------       --------------  -----  \n",
            " 0   Sales        400 non-null    float64\n",
            " 1   CompPrice    400 non-null    int64  \n",
            " 2   Income       400 non-null    int64  \n",
            " 3   Advertising  400 non-null    int64  \n",
            " 4   Population   400 non-null    int64  \n",
            " 5   Price        400 non-null    int64  \n",
            " 6   ShelveLoc    400 non-null    object \n",
            " 7   Age          400 non-null    int64  \n",
            " 8   Education    400 non-null    int64  \n",
            " 9   Urban        400 non-null    object \n",
            " 10  US           400 non-null    object \n",
            "dtypes: float64(1), int64(7), object(3)\n",
            "memory usage: 34.5+ KB\n"
          ]
        }
      ]
    },
    {
      "cell_type": "markdown",
      "metadata": {
        "id": "wLISt2h8Qt_u"
      },
      "source": [
        "### ***Ingeniería de variables***"
      ]
    },
    {
      "cell_type": "markdown",
      "metadata": {
        "id": "eNzoO05lQXhd"
      },
      "source": [
        "***Se observa que la variable ventas es una variable continua y el objetivo del estudio es clasificar las tiendas según si venden mucho o poco, por lo tanto se crea una nueva variable con los siguientes valores (0, 1) denominada ventas_altas.***"
      ]
    },
    {
      "cell_type": "code",
      "metadata": {
        "id": "OxO32vNURiyR"
      },
      "source": [
        "datos.insert(1, column=\"ventas_altas\", value=np.where(datos.Sales > 8, 1, 0))"
      ],
      "execution_count": null,
      "outputs": []
    },
    {
      "cell_type": "code",
      "metadata": {
        "colab": {
          "base_uri": "https://localhost:8080/",
          "height": 427
        },
        "id": "pnZNrH_nRJYc",
        "outputId": "d3a75378-eead-486d-bc89-00ab2c8c945c"
      },
      "source": [
        "datos.head(10)"
      ],
      "execution_count": null,
      "outputs": [
        {
          "output_type": "execute_result",
          "data": {
            "text/html": [
              "\n",
              "  <div id=\"df-898a3fd0-3c3c-49a5-bb73-fd416163a0df\">\n",
              "    <div class=\"colab-df-container\">\n",
              "      <div>\n",
              "<style scoped>\n",
              "    .dataframe tbody tr th:only-of-type {\n",
              "        vertical-align: middle;\n",
              "    }\n",
              "\n",
              "    .dataframe tbody tr th {\n",
              "        vertical-align: top;\n",
              "    }\n",
              "\n",
              "    .dataframe thead th {\n",
              "        text-align: right;\n",
              "    }\n",
              "</style>\n",
              "<table border=\"1\" class=\"dataframe\">\n",
              "  <thead>\n",
              "    <tr style=\"text-align: right;\">\n",
              "      <th></th>\n",
              "      <th>Sales</th>\n",
              "      <th>ventas_altas</th>\n",
              "      <th>CompPrice</th>\n",
              "      <th>Income</th>\n",
              "      <th>Advertising</th>\n",
              "      <th>Population</th>\n",
              "      <th>Price</th>\n",
              "      <th>ShelveLoc</th>\n",
              "      <th>Age</th>\n",
              "      <th>Education</th>\n",
              "      <th>Urban</th>\n",
              "      <th>US</th>\n",
              "    </tr>\n",
              "  </thead>\n",
              "  <tbody>\n",
              "    <tr>\n",
              "      <th>0</th>\n",
              "      <td>9.50</td>\n",
              "      <td>1</td>\n",
              "      <td>138</td>\n",
              "      <td>73</td>\n",
              "      <td>11</td>\n",
              "      <td>276</td>\n",
              "      <td>120</td>\n",
              "      <td>Bad</td>\n",
              "      <td>42</td>\n",
              "      <td>17</td>\n",
              "      <td>Yes</td>\n",
              "      <td>Yes</td>\n",
              "    </tr>\n",
              "    <tr>\n",
              "      <th>1</th>\n",
              "      <td>11.22</td>\n",
              "      <td>1</td>\n",
              "      <td>111</td>\n",
              "      <td>48</td>\n",
              "      <td>16</td>\n",
              "      <td>260</td>\n",
              "      <td>83</td>\n",
              "      <td>Good</td>\n",
              "      <td>65</td>\n",
              "      <td>10</td>\n",
              "      <td>Yes</td>\n",
              "      <td>Yes</td>\n",
              "    </tr>\n",
              "    <tr>\n",
              "      <th>2</th>\n",
              "      <td>10.06</td>\n",
              "      <td>1</td>\n",
              "      <td>113</td>\n",
              "      <td>35</td>\n",
              "      <td>10</td>\n",
              "      <td>269</td>\n",
              "      <td>80</td>\n",
              "      <td>Medium</td>\n",
              "      <td>59</td>\n",
              "      <td>12</td>\n",
              "      <td>Yes</td>\n",
              "      <td>Yes</td>\n",
              "    </tr>\n",
              "    <tr>\n",
              "      <th>3</th>\n",
              "      <td>7.40</td>\n",
              "      <td>0</td>\n",
              "      <td>117</td>\n",
              "      <td>100</td>\n",
              "      <td>4</td>\n",
              "      <td>466</td>\n",
              "      <td>97</td>\n",
              "      <td>Medium</td>\n",
              "      <td>55</td>\n",
              "      <td>14</td>\n",
              "      <td>Yes</td>\n",
              "      <td>Yes</td>\n",
              "    </tr>\n",
              "    <tr>\n",
              "      <th>4</th>\n",
              "      <td>4.15</td>\n",
              "      <td>0</td>\n",
              "      <td>141</td>\n",
              "      <td>64</td>\n",
              "      <td>3</td>\n",
              "      <td>340</td>\n",
              "      <td>128</td>\n",
              "      <td>Bad</td>\n",
              "      <td>38</td>\n",
              "      <td>13</td>\n",
              "      <td>Yes</td>\n",
              "      <td>No</td>\n",
              "    </tr>\n",
              "    <tr>\n",
              "      <th>5</th>\n",
              "      <td>10.81</td>\n",
              "      <td>1</td>\n",
              "      <td>124</td>\n",
              "      <td>113</td>\n",
              "      <td>13</td>\n",
              "      <td>501</td>\n",
              "      <td>72</td>\n",
              "      <td>Bad</td>\n",
              "      <td>78</td>\n",
              "      <td>16</td>\n",
              "      <td>No</td>\n",
              "      <td>Yes</td>\n",
              "    </tr>\n",
              "    <tr>\n",
              "      <th>6</th>\n",
              "      <td>6.63</td>\n",
              "      <td>0</td>\n",
              "      <td>115</td>\n",
              "      <td>105</td>\n",
              "      <td>0</td>\n",
              "      <td>45</td>\n",
              "      <td>108</td>\n",
              "      <td>Medium</td>\n",
              "      <td>71</td>\n",
              "      <td>15</td>\n",
              "      <td>Yes</td>\n",
              "      <td>No</td>\n",
              "    </tr>\n",
              "    <tr>\n",
              "      <th>7</th>\n",
              "      <td>11.85</td>\n",
              "      <td>1</td>\n",
              "      <td>136</td>\n",
              "      <td>81</td>\n",
              "      <td>15</td>\n",
              "      <td>425</td>\n",
              "      <td>120</td>\n",
              "      <td>Good</td>\n",
              "      <td>67</td>\n",
              "      <td>10</td>\n",
              "      <td>Yes</td>\n",
              "      <td>Yes</td>\n",
              "    </tr>\n",
              "    <tr>\n",
              "      <th>8</th>\n",
              "      <td>6.54</td>\n",
              "      <td>0</td>\n",
              "      <td>132</td>\n",
              "      <td>110</td>\n",
              "      <td>0</td>\n",
              "      <td>108</td>\n",
              "      <td>124</td>\n",
              "      <td>Medium</td>\n",
              "      <td>76</td>\n",
              "      <td>10</td>\n",
              "      <td>No</td>\n",
              "      <td>No</td>\n",
              "    </tr>\n",
              "    <tr>\n",
              "      <th>9</th>\n",
              "      <td>4.69</td>\n",
              "      <td>0</td>\n",
              "      <td>132</td>\n",
              "      <td>113</td>\n",
              "      <td>0</td>\n",
              "      <td>131</td>\n",
              "      <td>124</td>\n",
              "      <td>Medium</td>\n",
              "      <td>76</td>\n",
              "      <td>17</td>\n",
              "      <td>No</td>\n",
              "      <td>Yes</td>\n",
              "    </tr>\n",
              "  </tbody>\n",
              "</table>\n",
              "</div>\n",
              "      <button class=\"colab-df-convert\" onclick=\"convertToInteractive('df-898a3fd0-3c3c-49a5-bb73-fd416163a0df')\"\n",
              "              title=\"Convert this dataframe to an interactive table.\"\n",
              "              style=\"display:none;\">\n",
              "        \n",
              "  <svg xmlns=\"http://www.w3.org/2000/svg\" height=\"24px\"viewBox=\"0 0 24 24\"\n",
              "       width=\"24px\">\n",
              "    <path d=\"M0 0h24v24H0V0z\" fill=\"none\"/>\n",
              "    <path d=\"M18.56 5.44l.94 2.06.94-2.06 2.06-.94-2.06-.94-.94-2.06-.94 2.06-2.06.94zm-11 1L8.5 8.5l.94-2.06 2.06-.94-2.06-.94L8.5 2.5l-.94 2.06-2.06.94zm10 10l.94 2.06.94-2.06 2.06-.94-2.06-.94-.94-2.06-.94 2.06-2.06.94z\"/><path d=\"M17.41 7.96l-1.37-1.37c-.4-.4-.92-.59-1.43-.59-.52 0-1.04.2-1.43.59L10.3 9.45l-7.72 7.72c-.78.78-.78 2.05 0 2.83L4 21.41c.39.39.9.59 1.41.59.51 0 1.02-.2 1.41-.59l7.78-7.78 2.81-2.81c.8-.78.8-2.07 0-2.86zM5.41 20L4 18.59l7.72-7.72 1.47 1.35L5.41 20z\"/>\n",
              "  </svg>\n",
              "      </button>\n",
              "      \n",
              "  <style>\n",
              "    .colab-df-container {\n",
              "      display:flex;\n",
              "      flex-wrap:wrap;\n",
              "      gap: 12px;\n",
              "    }\n",
              "\n",
              "    .colab-df-convert {\n",
              "      background-color: #E8F0FE;\n",
              "      border: none;\n",
              "      border-radius: 50%;\n",
              "      cursor: pointer;\n",
              "      display: none;\n",
              "      fill: #1967D2;\n",
              "      height: 32px;\n",
              "      padding: 0 0 0 0;\n",
              "      width: 32px;\n",
              "    }\n",
              "\n",
              "    .colab-df-convert:hover {\n",
              "      background-color: #E2EBFA;\n",
              "      box-shadow: 0px 1px 2px rgba(60, 64, 67, 0.3), 0px 1px 3px 1px rgba(60, 64, 67, 0.15);\n",
              "      fill: #174EA6;\n",
              "    }\n",
              "\n",
              "    [theme=dark] .colab-df-convert {\n",
              "      background-color: #3B4455;\n",
              "      fill: #D2E3FC;\n",
              "    }\n",
              "\n",
              "    [theme=dark] .colab-df-convert:hover {\n",
              "      background-color: #434B5C;\n",
              "      box-shadow: 0px 1px 3px 1px rgba(0, 0, 0, 0.15);\n",
              "      filter: drop-shadow(0px 1px 2px rgba(0, 0, 0, 0.3));\n",
              "      fill: #FFFFFF;\n",
              "    }\n",
              "  </style>\n",
              "\n",
              "      <script>\n",
              "        const buttonEl =\n",
              "          document.querySelector('#df-898a3fd0-3c3c-49a5-bb73-fd416163a0df button.colab-df-convert');\n",
              "        buttonEl.style.display =\n",
              "          google.colab.kernel.accessAllowed ? 'block' : 'none';\n",
              "\n",
              "        async function convertToInteractive(key) {\n",
              "          const element = document.querySelector('#df-898a3fd0-3c3c-49a5-bb73-fd416163a0df');\n",
              "          const dataTable =\n",
              "            await google.colab.kernel.invokeFunction('convertToInteractive',\n",
              "                                                     [key], {});\n",
              "          if (!dataTable) return;\n",
              "\n",
              "          const docLinkHtml = 'Like what you see? Visit the ' +\n",
              "            '<a target=\"_blank\" href=https://colab.research.google.com/notebooks/data_table.ipynb>data table notebook</a>'\n",
              "            + ' to learn more about interactive tables.';\n",
              "          element.innerHTML = '';\n",
              "          dataTable['output_type'] = 'display_data';\n",
              "          await google.colab.output.renderOutput(dataTable, element);\n",
              "          const docLink = document.createElement('div');\n",
              "          docLink.innerHTML = docLinkHtml;\n",
              "          element.appendChild(docLink);\n",
              "        }\n",
              "      </script>\n",
              "    </div>\n",
              "  </div>\n",
              "  "
            ],
            "text/plain": [
              "   Sales  ventas_altas  CompPrice  Income  ...  Age  Education  Urban   US\n",
              "0   9.50             1        138      73  ...   42         17    Yes  Yes\n",
              "1  11.22             1        111      48  ...   65         10    Yes  Yes\n",
              "2  10.06             1        113      35  ...   59         12    Yes  Yes\n",
              "3   7.40             0        117     100  ...   55         14    Yes  Yes\n",
              "4   4.15             0        141      64  ...   38         13    Yes   No\n",
              "5  10.81             1        124     113  ...   78         16     No  Yes\n",
              "6   6.63             0        115     105  ...   71         15    Yes   No\n",
              "7  11.85             1        136      81  ...   67         10    Yes  Yes\n",
              "8   6.54             0        132     110  ...   76         10     No   No\n",
              "9   4.69             0        132     113  ...   76         17     No  Yes\n",
              "\n",
              "[10 rows x 12 columns]"
            ]
          },
          "metadata": {},
          "execution_count": 16
        }
      ]
    },
    {
      "cell_type": "markdown",
      "metadata": {
        "id": "oMHfx-J1SSvl"
      },
      "source": [
        "***Ahora se procede a eliminar la variable ventas...***"
      ]
    },
    {
      "cell_type": "code",
      "metadata": {
        "colab": {
          "base_uri": "https://localhost:8080/",
          "height": 427
        },
        "id": "_j7Mgx3CSX-8",
        "outputId": "e3021fcd-3932-4bb6-8c0b-af3802eed7dc"
      },
      "source": [
        "datos = datos.drop(columns = \"Sales\")\n",
        "datos.head(10)"
      ],
      "execution_count": null,
      "outputs": [
        {
          "output_type": "execute_result",
          "data": {
            "text/html": [
              "\n",
              "  <div id=\"df-290804a7-d450-482f-a33c-5dfbf8d268b8\">\n",
              "    <div class=\"colab-df-container\">\n",
              "      <div>\n",
              "<style scoped>\n",
              "    .dataframe tbody tr th:only-of-type {\n",
              "        vertical-align: middle;\n",
              "    }\n",
              "\n",
              "    .dataframe tbody tr th {\n",
              "        vertical-align: top;\n",
              "    }\n",
              "\n",
              "    .dataframe thead th {\n",
              "        text-align: right;\n",
              "    }\n",
              "</style>\n",
              "<table border=\"1\" class=\"dataframe\">\n",
              "  <thead>\n",
              "    <tr style=\"text-align: right;\">\n",
              "      <th></th>\n",
              "      <th>ventas_altas</th>\n",
              "      <th>CompPrice</th>\n",
              "      <th>Income</th>\n",
              "      <th>Advertising</th>\n",
              "      <th>Population</th>\n",
              "      <th>Price</th>\n",
              "      <th>ShelveLoc</th>\n",
              "      <th>Age</th>\n",
              "      <th>Education</th>\n",
              "      <th>Urban</th>\n",
              "      <th>US</th>\n",
              "    </tr>\n",
              "  </thead>\n",
              "  <tbody>\n",
              "    <tr>\n",
              "      <th>0</th>\n",
              "      <td>1</td>\n",
              "      <td>138</td>\n",
              "      <td>73</td>\n",
              "      <td>11</td>\n",
              "      <td>276</td>\n",
              "      <td>120</td>\n",
              "      <td>Bad</td>\n",
              "      <td>42</td>\n",
              "      <td>17</td>\n",
              "      <td>Yes</td>\n",
              "      <td>Yes</td>\n",
              "    </tr>\n",
              "    <tr>\n",
              "      <th>1</th>\n",
              "      <td>1</td>\n",
              "      <td>111</td>\n",
              "      <td>48</td>\n",
              "      <td>16</td>\n",
              "      <td>260</td>\n",
              "      <td>83</td>\n",
              "      <td>Good</td>\n",
              "      <td>65</td>\n",
              "      <td>10</td>\n",
              "      <td>Yes</td>\n",
              "      <td>Yes</td>\n",
              "    </tr>\n",
              "    <tr>\n",
              "      <th>2</th>\n",
              "      <td>1</td>\n",
              "      <td>113</td>\n",
              "      <td>35</td>\n",
              "      <td>10</td>\n",
              "      <td>269</td>\n",
              "      <td>80</td>\n",
              "      <td>Medium</td>\n",
              "      <td>59</td>\n",
              "      <td>12</td>\n",
              "      <td>Yes</td>\n",
              "      <td>Yes</td>\n",
              "    </tr>\n",
              "    <tr>\n",
              "      <th>3</th>\n",
              "      <td>0</td>\n",
              "      <td>117</td>\n",
              "      <td>100</td>\n",
              "      <td>4</td>\n",
              "      <td>466</td>\n",
              "      <td>97</td>\n",
              "      <td>Medium</td>\n",
              "      <td>55</td>\n",
              "      <td>14</td>\n",
              "      <td>Yes</td>\n",
              "      <td>Yes</td>\n",
              "    </tr>\n",
              "    <tr>\n",
              "      <th>4</th>\n",
              "      <td>0</td>\n",
              "      <td>141</td>\n",
              "      <td>64</td>\n",
              "      <td>3</td>\n",
              "      <td>340</td>\n",
              "      <td>128</td>\n",
              "      <td>Bad</td>\n",
              "      <td>38</td>\n",
              "      <td>13</td>\n",
              "      <td>Yes</td>\n",
              "      <td>No</td>\n",
              "    </tr>\n",
              "    <tr>\n",
              "      <th>5</th>\n",
              "      <td>1</td>\n",
              "      <td>124</td>\n",
              "      <td>113</td>\n",
              "      <td>13</td>\n",
              "      <td>501</td>\n",
              "      <td>72</td>\n",
              "      <td>Bad</td>\n",
              "      <td>78</td>\n",
              "      <td>16</td>\n",
              "      <td>No</td>\n",
              "      <td>Yes</td>\n",
              "    </tr>\n",
              "    <tr>\n",
              "      <th>6</th>\n",
              "      <td>0</td>\n",
              "      <td>115</td>\n",
              "      <td>105</td>\n",
              "      <td>0</td>\n",
              "      <td>45</td>\n",
              "      <td>108</td>\n",
              "      <td>Medium</td>\n",
              "      <td>71</td>\n",
              "      <td>15</td>\n",
              "      <td>Yes</td>\n",
              "      <td>No</td>\n",
              "    </tr>\n",
              "    <tr>\n",
              "      <th>7</th>\n",
              "      <td>1</td>\n",
              "      <td>136</td>\n",
              "      <td>81</td>\n",
              "      <td>15</td>\n",
              "      <td>425</td>\n",
              "      <td>120</td>\n",
              "      <td>Good</td>\n",
              "      <td>67</td>\n",
              "      <td>10</td>\n",
              "      <td>Yes</td>\n",
              "      <td>Yes</td>\n",
              "    </tr>\n",
              "    <tr>\n",
              "      <th>8</th>\n",
              "      <td>0</td>\n",
              "      <td>132</td>\n",
              "      <td>110</td>\n",
              "      <td>0</td>\n",
              "      <td>108</td>\n",
              "      <td>124</td>\n",
              "      <td>Medium</td>\n",
              "      <td>76</td>\n",
              "      <td>10</td>\n",
              "      <td>No</td>\n",
              "      <td>No</td>\n",
              "    </tr>\n",
              "    <tr>\n",
              "      <th>9</th>\n",
              "      <td>0</td>\n",
              "      <td>132</td>\n",
              "      <td>113</td>\n",
              "      <td>0</td>\n",
              "      <td>131</td>\n",
              "      <td>124</td>\n",
              "      <td>Medium</td>\n",
              "      <td>76</td>\n",
              "      <td>17</td>\n",
              "      <td>No</td>\n",
              "      <td>Yes</td>\n",
              "    </tr>\n",
              "  </tbody>\n",
              "</table>\n",
              "</div>\n",
              "      <button class=\"colab-df-convert\" onclick=\"convertToInteractive('df-290804a7-d450-482f-a33c-5dfbf8d268b8')\"\n",
              "              title=\"Convert this dataframe to an interactive table.\"\n",
              "              style=\"display:none;\">\n",
              "        \n",
              "  <svg xmlns=\"http://www.w3.org/2000/svg\" height=\"24px\"viewBox=\"0 0 24 24\"\n",
              "       width=\"24px\">\n",
              "    <path d=\"M0 0h24v24H0V0z\" fill=\"none\"/>\n",
              "    <path d=\"M18.56 5.44l.94 2.06.94-2.06 2.06-.94-2.06-.94-.94-2.06-.94 2.06-2.06.94zm-11 1L8.5 8.5l.94-2.06 2.06-.94-2.06-.94L8.5 2.5l-.94 2.06-2.06.94zm10 10l.94 2.06.94-2.06 2.06-.94-2.06-.94-.94-2.06-.94 2.06-2.06.94z\"/><path d=\"M17.41 7.96l-1.37-1.37c-.4-.4-.92-.59-1.43-.59-.52 0-1.04.2-1.43.59L10.3 9.45l-7.72 7.72c-.78.78-.78 2.05 0 2.83L4 21.41c.39.39.9.59 1.41.59.51 0 1.02-.2 1.41-.59l7.78-7.78 2.81-2.81c.8-.78.8-2.07 0-2.86zM5.41 20L4 18.59l7.72-7.72 1.47 1.35L5.41 20z\"/>\n",
              "  </svg>\n",
              "      </button>\n",
              "      \n",
              "  <style>\n",
              "    .colab-df-container {\n",
              "      display:flex;\n",
              "      flex-wrap:wrap;\n",
              "      gap: 12px;\n",
              "    }\n",
              "\n",
              "    .colab-df-convert {\n",
              "      background-color: #E8F0FE;\n",
              "      border: none;\n",
              "      border-radius: 50%;\n",
              "      cursor: pointer;\n",
              "      display: none;\n",
              "      fill: #1967D2;\n",
              "      height: 32px;\n",
              "      padding: 0 0 0 0;\n",
              "      width: 32px;\n",
              "    }\n",
              "\n",
              "    .colab-df-convert:hover {\n",
              "      background-color: #E2EBFA;\n",
              "      box-shadow: 0px 1px 2px rgba(60, 64, 67, 0.3), 0px 1px 3px 1px rgba(60, 64, 67, 0.15);\n",
              "      fill: #174EA6;\n",
              "    }\n",
              "\n",
              "    [theme=dark] .colab-df-convert {\n",
              "      background-color: #3B4455;\n",
              "      fill: #D2E3FC;\n",
              "    }\n",
              "\n",
              "    [theme=dark] .colab-df-convert:hover {\n",
              "      background-color: #434B5C;\n",
              "      box-shadow: 0px 1px 3px 1px rgba(0, 0, 0, 0.15);\n",
              "      filter: drop-shadow(0px 1px 2px rgba(0, 0, 0, 0.3));\n",
              "      fill: #FFFFFF;\n",
              "    }\n",
              "  </style>\n",
              "\n",
              "      <script>\n",
              "        const buttonEl =\n",
              "          document.querySelector('#df-290804a7-d450-482f-a33c-5dfbf8d268b8 button.colab-df-convert');\n",
              "        buttonEl.style.display =\n",
              "          google.colab.kernel.accessAllowed ? 'block' : 'none';\n",
              "\n",
              "        async function convertToInteractive(key) {\n",
              "          const element = document.querySelector('#df-290804a7-d450-482f-a33c-5dfbf8d268b8');\n",
              "          const dataTable =\n",
              "            await google.colab.kernel.invokeFunction('convertToInteractive',\n",
              "                                                     [key], {});\n",
              "          if (!dataTable) return;\n",
              "\n",
              "          const docLinkHtml = 'Like what you see? Visit the ' +\n",
              "            '<a target=\"_blank\" href=https://colab.research.google.com/notebooks/data_table.ipynb>data table notebook</a>'\n",
              "            + ' to learn more about interactive tables.';\n",
              "          element.innerHTML = '';\n",
              "          dataTable['output_type'] = 'display_data';\n",
              "          await google.colab.output.renderOutput(dataTable, element);\n",
              "          const docLink = document.createElement('div');\n",
              "          docLink.innerHTML = docLinkHtml;\n",
              "          element.appendChild(docLink);\n",
              "        }\n",
              "      </script>\n",
              "    </div>\n",
              "  </div>\n",
              "  "
            ],
            "text/plain": [
              "   ventas_altas  CompPrice  Income  Advertising  ...  Age  Education Urban   US\n",
              "0             1        138      73           11  ...   42         17   Yes  Yes\n",
              "1             1        111      48           16  ...   65         10   Yes  Yes\n",
              "2             1        113      35           10  ...   59         12   Yes  Yes\n",
              "3             0        117     100            4  ...   55         14   Yes  Yes\n",
              "4             0        141      64            3  ...   38         13   Yes   No\n",
              "5             1        124     113           13  ...   78         16    No  Yes\n",
              "6             0        115     105            0  ...   71         15   Yes   No\n",
              "7             1        136      81           15  ...   67         10   Yes  Yes\n",
              "8             0        132     110            0  ...   76         10    No   No\n",
              "9             0        132     113            0  ...   76         17    No  Yes\n",
              "\n",
              "[10 rows x 11 columns]"
            ]
          },
          "metadata": {},
          "execution_count": 17
        }
      ]
    },
    {
      "cell_type": "markdown",
      "metadata": {
        "id": "DlPktEDHSjUZ"
      },
      "source": [
        "## ***División del conjunto de datos***"
      ]
    },
    {
      "cell_type": "code",
      "metadata": {
        "id": "eLhsLlDVTaop"
      },
      "source": [
        "y = datos[\"ventas_altas\"] # variable objetivo\n",
        "X = datos.drop(columns=[\"ventas_altas\"]) # vector de entrada"
      ],
      "execution_count": null,
      "outputs": []
    },
    {
      "cell_type": "code",
      "metadata": {
        "id": "TUjAxzucTBYt"
      },
      "source": [
        "X_train, X_test, y_train, y_test = train_test_split(X, y, random_state = 123)"
      ],
      "execution_count": null,
      "outputs": []
    },
    {
      "cell_type": "code",
      "metadata": {
        "colab": {
          "base_uri": "https://localhost:8080/"
        },
        "id": "smeJDG8AUOk-",
        "outputId": "86bc40e1-400f-4572-c941-375b7d8e418e"
      },
      "source": [
        "X_train.shape"
      ],
      "execution_count": null,
      "outputs": [
        {
          "output_type": "execute_result",
          "data": {
            "text/plain": [
              "(300, 10)"
            ]
          },
          "metadata": {},
          "execution_count": 20
        }
      ]
    },
    {
      "cell_type": "code",
      "metadata": {
        "colab": {
          "base_uri": "https://localhost:8080/"
        },
        "id": "843M8NGfUURU",
        "outputId": "ec463552-e263-4795-fad8-d48cf59f7b7a"
      },
      "source": [
        "X_test.shape"
      ],
      "execution_count": null,
      "outputs": [
        {
          "output_type": "execute_result",
          "data": {
            "text/plain": [
              "(100, 10)"
            ]
          },
          "metadata": {},
          "execution_count": 21
        }
      ]
    },
    {
      "cell_type": "code",
      "metadata": {
        "colab": {
          "base_uri": "https://localhost:8080/"
        },
        "id": "0zyqec2DUZkE",
        "outputId": "62e3db4c-99f3-4253-88bf-66b83dda86d7"
      },
      "source": [
        "y_train.shape"
      ],
      "execution_count": null,
      "outputs": [
        {
          "output_type": "execute_result",
          "data": {
            "text/plain": [
              "(300,)"
            ]
          },
          "metadata": {},
          "execution_count": 22
        }
      ]
    },
    {
      "cell_type": "code",
      "metadata": {
        "colab": {
          "base_uri": "https://localhost:8080/"
        },
        "id": "AXzh8G2wUco_",
        "outputId": "8164d247-8d41-4c71-b833-d858b4e55400"
      },
      "source": [
        "y_test.shape"
      ],
      "execution_count": null,
      "outputs": [
        {
          "output_type": "execute_result",
          "data": {
            "text/plain": [
              "(100,)"
            ]
          },
          "metadata": {},
          "execution_count": 23
        }
      ]
    },
    {
      "cell_type": "markdown",
      "metadata": {
        "id": "aNpTKnTwUiCT"
      },
      "source": [
        "## ***Preprocesamiento de los datos***"
      ]
    },
    {
      "cell_type": "markdown",
      "metadata": {
        "id": "bfyV4_vSVF_R"
      },
      "source": [
        "***En el conjunto de datos hay variables categóricas por lo que, antes de entrenar el modelo, es necesario aplicar one-hot-encoding...***"
      ]
    },
    {
      "cell_type": "markdown",
      "metadata": {
        "id": "r2rUGB6TU_eo"
      },
      "source": [
        "### ***One-hot-encoding de las variables categóricas***"
      ]
    },
    {
      "cell_type": "code",
      "metadata": {
        "colab": {
          "base_uri": "https://localhost:8080/"
        },
        "id": "zOranWQGVgml",
        "outputId": "efedab49-5052-4b61-92d9-88508f42d079"
      },
      "source": [
        "X_train.info()"
      ],
      "execution_count": null,
      "outputs": [
        {
          "output_type": "stream",
          "name": "stdout",
          "text": [
            "<class 'pandas.core.frame.DataFrame'>\n",
            "Int64Index: 300 entries, 170 to 365\n",
            "Data columns (total 10 columns):\n",
            " #   Column       Non-Null Count  Dtype \n",
            "---  ------       --------------  ----- \n",
            " 0   CompPrice    300 non-null    int64 \n",
            " 1   Income       300 non-null    int64 \n",
            " 2   Advertising  300 non-null    int64 \n",
            " 3   Population   300 non-null    int64 \n",
            " 4   Price        300 non-null    int64 \n",
            " 5   ShelveLoc    300 non-null    object\n",
            " 6   Age          300 non-null    int64 \n",
            " 7   Education    300 non-null    int64 \n",
            " 8   Urban        300 non-null    object\n",
            " 9   US           300 non-null    object\n",
            "dtypes: int64(7), object(3)\n",
            "memory usage: 25.8+ KB\n"
          ]
        }
      ]
    },
    {
      "cell_type": "code",
      "metadata": {
        "id": "UVYCwNsLVNXf"
      },
      "source": [
        "cat_cols = X_train.select_dtypes(include=\"object\").columns.to_list()"
      ],
      "execution_count": null,
      "outputs": []
    },
    {
      "cell_type": "code",
      "metadata": {
        "id": "ss8fsbJfVsJr"
      },
      "source": [
        "numeric_cols = X_train.select_dtypes(include=[\"float64\", \"int64\"]).columns.to_list()"
      ],
      "execution_count": null,
      "outputs": []
    },
    {
      "cell_type": "markdown",
      "metadata": {
        "id": "INvRkOlXWFqw"
      },
      "source": [
        "***Se aplica one-hot-encoding solo a las columnas categóricas***"
      ]
    },
    {
      "cell_type": "code",
      "metadata": {
        "id": "KwC_JD2GWGPj"
      },
      "source": [
        "preprocessor = ColumnTransformer([(\"onehot\", OneHotEncoder(handle_unknown=\"ignore\"), \n",
        "                                   cat_cols)],remainder=\"passthrough\")"
      ],
      "execution_count": null,
      "outputs": []
    },
    {
      "cell_type": "code",
      "metadata": {
        "id": "ntQXzVGvWHbZ"
      },
      "source": [
        "X_train_prep = preprocessor.fit_transform(X_train)\n",
        "X_test_prep  = preprocessor.fit_transform(X_test)"
      ],
      "execution_count": null,
      "outputs": []
    },
    {
      "cell_type": "markdown",
      "metadata": {
        "id": "hekIOo8OXUsh"
      },
      "source": [
        "***Convertiendo el output del ColumnTransformer en dataframe y añadiendo el nombre de las columnas***"
      ]
    },
    {
      "cell_type": "code",
      "metadata": {
        "id": "vQ2BgQrHWHW7"
      },
      "source": [
        "encoded_cat = preprocessor.named_transformers_[\"onehot\"].get_feature_names_out(cat_cols)\n",
        "labels = np.concatenate([numeric_cols, encoded_cat])"
      ],
      "execution_count": null,
      "outputs": []
    },
    {
      "cell_type": "markdown",
      "metadata": {
        "id": "jiKn2VuvXmW0"
      },
      "source": [
        "***Conversión a dataframe***"
      ]
    },
    {
      "cell_type": "code",
      "metadata": {
        "colab": {
          "base_uri": "https://localhost:8080/"
        },
        "id": "kuA8xGf7WHSV",
        "outputId": "e85c35e0-1b92-400c-be69-d86763267ed1"
      },
      "source": [
        "X_train_prep = pd.DataFrame(X_train_prep, columns=labels)\n",
        "X_test_prep  = pd.DataFrame(X_test_prep, columns=labels)\n",
        "X_train_prep.info()"
      ],
      "execution_count": null,
      "outputs": [
        {
          "output_type": "stream",
          "name": "stdout",
          "text": [
            "<class 'pandas.core.frame.DataFrame'>\n",
            "RangeIndex: 300 entries, 0 to 299\n",
            "Data columns (total 14 columns):\n",
            " #   Column            Non-Null Count  Dtype  \n",
            "---  ------            --------------  -----  \n",
            " 0   CompPrice         300 non-null    float64\n",
            " 1   Income            300 non-null    float64\n",
            " 2   Advertising       300 non-null    float64\n",
            " 3   Population        300 non-null    float64\n",
            " 4   Price             300 non-null    float64\n",
            " 5   Age               300 non-null    float64\n",
            " 6   Education         300 non-null    float64\n",
            " 7   ShelveLoc_Bad     300 non-null    float64\n",
            " 8   ShelveLoc_Good    300 non-null    float64\n",
            " 9   ShelveLoc_Medium  300 non-null    float64\n",
            " 10  Urban_No          300 non-null    float64\n",
            " 11  Urban_Yes         300 non-null    float64\n",
            " 12  US_No             300 non-null    float64\n",
            " 13  US_Yes            300 non-null    float64\n",
            "dtypes: float64(14)\n",
            "memory usage: 32.9 KB\n"
          ]
        }
      ]
    },
    {
      "cell_type": "code",
      "metadata": {
        "colab": {
          "base_uri": "https://localhost:8080/"
        },
        "id": "d8qOJZWXXv6b",
        "outputId": "b72d1f44-2499-4412-83e5-aa3e27b9906f"
      },
      "source": [
        "X_test_prep.info()"
      ],
      "execution_count": null,
      "outputs": [
        {
          "output_type": "stream",
          "name": "stdout",
          "text": [
            "<class 'pandas.core.frame.DataFrame'>\n",
            "RangeIndex: 100 entries, 0 to 99\n",
            "Data columns (total 14 columns):\n",
            " #   Column            Non-Null Count  Dtype  \n",
            "---  ------            --------------  -----  \n",
            " 0   CompPrice         100 non-null    float64\n",
            " 1   Income            100 non-null    float64\n",
            " 2   Advertising       100 non-null    float64\n",
            " 3   Population        100 non-null    float64\n",
            " 4   Price             100 non-null    float64\n",
            " 5   Age               100 non-null    float64\n",
            " 6   Education         100 non-null    float64\n",
            " 7   ShelveLoc_Bad     100 non-null    float64\n",
            " 8   ShelveLoc_Good    100 non-null    float64\n",
            " 9   ShelveLoc_Medium  100 non-null    float64\n",
            " 10  Urban_No          100 non-null    float64\n",
            " 11  Urban_Yes         100 non-null    float64\n",
            " 12  US_No             100 non-null    float64\n",
            " 13  US_Yes            100 non-null    float64\n",
            "dtypes: float64(14)\n",
            "memory usage: 11.1 KB\n"
          ]
        }
      ]
    },
    {
      "cell_type": "markdown",
      "metadata": {
        "id": "eEPw_1TGX3vU"
      },
      "source": [
        "## ***Generando el modelo***"
      ]
    },
    {
      "cell_type": "markdown",
      "metadata": {
        "id": "SMmkmlK7SpiP"
      },
      "source": [
        "***Se ajusta un árbol de clasificación empleando como variable objetivo ventas_altas y como predictores o vector de entrada, todas las variables restantes. Se utilizan en primer lugar los hiperparámetros max_depth=5 y criterion='gini', el resto se dejan por defecto. Después, se aplica el proceso de pruning y se comparan los resultados frente al modelo inicial.***"
      ]
    },
    {
      "cell_type": "markdown",
      "metadata": {
        "id": "sXMvBHJbX_vT"
      },
      "source": [
        "### **Parametrización del algoritmo**"
      ]
    },
    {
      "cell_type": "code",
      "metadata": {
        "id": "hpHEp-t5WHLP"
      },
      "source": [
        "modelo = DecisionTreeClassifier(max_depth = 5, \n",
        "                                criterion = \"gini\", \n",
        "                                random_state = 123)"
      ],
      "execution_count": null,
      "outputs": []
    },
    {
      "cell_type": "markdown",
      "metadata": {
        "id": "DQbFhRZ4YUVS"
      },
      "source": [
        "### **Entrenamiento del modelo**"
      ]
    },
    {
      "cell_type": "code",
      "metadata": {
        "colab": {
          "base_uri": "https://localhost:8080/"
        },
        "id": "taNeBTPeWHB8",
        "outputId": "08d0a613-d0f7-4d08-f7eb-ee5a704d45fa"
      },
      "source": [
        "modelo.fit(X_train_prep, y_train)"
      ],
      "execution_count": null,
      "outputs": [
        {
          "output_type": "execute_result",
          "data": {
            "text/plain": [
              "DecisionTreeClassifier(max_depth=5, random_state=123)"
            ]
          },
          "metadata": {},
          "execution_count": 33
        }
      ]
    },
    {
      "cell_type": "markdown",
      "metadata": {
        "id": "TlcFJYqSYmC1"
      },
      "source": [
        "### **Visualización del modelo**"
      ]
    },
    {
      "cell_type": "code",
      "metadata": {
        "colab": {
          "base_uri": "https://localhost:8080/",
          "height": 392
        },
        "id": "J25GkSJDWGwX",
        "outputId": "d2a1fbb0-04fb-46d4-d795-5ebaf4c71419"
      },
      "source": [
        "fig, ax = plt.subplots(figsize=(13, 6))\n",
        "\n",
        "print(f\"Profundidad del árbol: {modelo.get_depth()}\")\n",
        "print(f\"Número de nodos terminales: {modelo.get_n_leaves()}\")\n",
        "\n",
        "plot = plot_tree(decision_tree = modelo,\n",
        "                 feature_names = labels.tolist(),\n",
        "                 class_names   = 'ventas_altas',\n",
        "                 filled        = True,\n",
        "                 impurity      = False,\n",
        "                 fontsize      = 7,\n",
        "                 ax            = ax)"
      ],
      "execution_count": null,
      "outputs": [
        {
          "output_type": "stream",
          "name": "stdout",
          "text": [
            "Profundidad del árbol: 5\n",
            "Número de nodos terminales: 23\n"
          ]
        },
        {
          "output_type": "display_data",
          "data": {
            "image/png": "[encoded data removed]",
            "text/plain": [
              "<Figure size 936x432 with 1 Axes>"
            ]
          },
          "metadata": {
            "needs_background": "light"
          }
        }
      ]
    },
    {
      "cell_type": "markdown",
      "metadata": {
        "id": "tqg-5iVdZMc1"
      },
      "source": [
        "## **Predicción y evaluación del modelo...**"
      ]
    },
    {
      "cell_type": "markdown",
      "metadata": {
        "id": "-doxh9rwbulF"
      },
      "source": [
        "### **Predicción**"
      ]
    },
    {
      "cell_type": "code",
      "metadata": {
        "id": "2LAElzyJbxnF"
      },
      "source": [
        "y_pred = modelo.predict(X_test_prep)"
      ],
      "execution_count": null,
      "outputs": []
    },
    {
      "cell_type": "markdown",
      "metadata": {
        "id": "NwaPgN9rbN0e"
      },
      "source": [
        "### **Matriz de confusión**"
      ]
    },
    {
      "cell_type": "code",
      "source": [
        "mc = metrics.confusion_matrix(y_test, y_pred)\n",
        "print(mc)"
      ],
      "metadata": {
        "colab": {
          "base_uri": "https://localhost:8080/"
        },
        "id": "DeCZc_JetKW0",
        "outputId": "f2a29356-96e3-499a-812e-612cdb17765c"
      },
      "execution_count": null,
      "outputs": [
        {
          "output_type": "stream",
          "name": "stdout",
          "text": [
            "[[44  6]\n",
            " [23 27]]\n"
          ]
        }
      ]
    },
    {
      "cell_type": "code",
      "source": [
        "cm = confusion_matrix(y_test, y_pred, labels=modelo.classes_)"
      ],
      "metadata": {
        "id": "ArJ7eKzatmW9"
      },
      "execution_count": null,
      "outputs": []
    },
    {
      "cell_type": "code",
      "source": [
        "disp = ConfusionMatrixDisplay(confusion_matrix=cm, display_labels=modelo.classes_)"
      ],
      "metadata": {
        "id": "TJwNU6CjtlvI"
      },
      "execution_count": null,
      "outputs": []
    },
    {
      "cell_type": "code",
      "source": [
        "disp.plot();"
      ],
      "metadata": {
        "colab": {
          "base_uri": "https://localhost:8080/",
          "height": 279
        },
        "id": "MYkMPujVt6qc",
        "outputId": "58c94d1e-8872-4625-e331-941c0eac6892"
      },
      "execution_count": null,
      "outputs": [
        {
          "output_type": "display_data",
          "data": {
            "image/png": "[encoded data removed]",
            "text/plain": [
              "<Figure size 432x288 with 2 Axes>"
            ]
          },
          "metadata": {
            "needs_background": "light"
          }
        }
      ]
    },
    {
      "cell_type": "markdown",
      "metadata": {
        "id": "Svfntu8ObWpj"
      },
      "source": [
        "### **Metricas**"
      ]
    },
    {
      "cell_type": "code",
      "metadata": {
        "colab": {
          "base_uri": "https://localhost:8080/"
        },
        "id": "zdKWYNgEbXQr",
        "outputId": "fa8fcaff-57de-4181-b5d9-dda1c0d01000"
      },
      "source": [
        "reporte = metrics.classification_report(y_test, y_pred)\n",
        "print(reporte)"
      ],
      "execution_count": null,
      "outputs": [
        {
          "output_type": "stream",
          "name": "stdout",
          "text": [
            "              precision    recall  f1-score   support\n",
            "\n",
            "           0       0.66      0.88      0.75        50\n",
            "           1       0.82      0.54      0.65        50\n",
            "\n",
            "    accuracy                           0.71       100\n",
            "   macro avg       0.74      0.71      0.70       100\n",
            "weighted avg       0.74      0.71      0.70       100\n",
            "\n"
          ]
        }
      ]
    },
    {
      "cell_type": "markdown",
      "metadata": {
        "id": "CDzfHl7vcSAN"
      },
      "source": [
        "***El modelo inicial es capaz de predecir correctamente un 71 % de las observaciones del conjunto de datos de prueba.***\n",
        "\n"
      ]
    },
    {
      "cell_type": "markdown",
      "metadata": {
        "id": "d328AnH-oWAS"
      },
      "source": [
        "## ***Comparación de árboles frente a modelos lineales...***"
      ]
    },
    {
      "cell_type": "markdown",
      "metadata": {
        "id": "5FzHQgSZogQZ"
      },
      "source": [
        "***La superioridad de los métodos basados en árboles de decisión frente a los métodos lineales depende del problema en de negocios. Cuando la relación entre el vector de entrada y la variable objetivo es aproximadamente lineal, un modelo de tipo regresión lineal funciona bien y supera a los árboles de regresión.***"
      ]
    },
    {
      "cell_type": "markdown",
      "metadata": {
        "id": "oJd82-4ooyxg"
      },
      "source": [
        "![Captura de Pantalla 2021-08-27 a la(s) 00.24.23.png](data:image/png;base64,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)"
      ]
    },
    {
      "cell_type": "markdown",
      "metadata": {
        "id": "5JrxdvXypB_m"
      },
      "source": [
        "***Por el contrario, si la relación entre el vector de entrada y la variable o objetivo es de tipo no lineal y compleja, los métodos basados en árboles suelen superar a las aproximaciones lineales clásicas.***"
      ]
    },
    {
      "cell_type": "markdown",
      "metadata": {
        "id": "igtCExZVpnsE"
      },
      "source": [
        "![Captura de Pantalla 2021-08-27 a la(s) 00.26.51.png](data:image/png;base64,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)"
      ]
    }
  ]
}