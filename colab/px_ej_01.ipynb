{
  "nbformat": 4,
  "nbformat_minor": 0,
  "metadata": {
    "colab": {
      "provenance": [],
      "collapsed_sections": [],
      "include_colab_link": true
    },
    "kernelspec": {
      "name": "python3",
      "display_name": "Python 3"
    }
  },
  "cells": [
    {
      "cell_type": "markdown",
      "metadata": {
        "id": "view-in-github",
        "colab_type": "text"
      },
      "source": [
        "<a href=\"https://colab.research.google.com/github/cristiandarioortegayubro/UNI/blob/main/colab/px_ej_01.ipynb\" target=\"_parent\"><img src=\"https://colab.research.google.com/assets/colab-badge.svg\" alt=\"Open In Colab\"/></a>"
      ]
    },
    {
      "cell_type": "markdown",
      "source": [
        "![](https://github.com/cristiandarioortegayubro/UNI/blob/main/UNI%2039%20Aniversario.jpg?raw=true)"
      ],
      "metadata": {
        "id": "RazRvXZ4sMJs"
      }
    },
    {
      "cell_type": "markdown",
      "metadata": {
        "id": "IIuAFVAaMLBL"
      },
      "source": [
        "![plotly](https://github.com/cristiandarioortegayubro/BA/blob/main/plotly.png?raw=true)"
      ]
    },
    {
      "cell_type": "markdown",
      "metadata": {
        "id": "hZ9nQyDHheIm"
      },
      "source": [
        "[Librería Ploty](https://plotly.com/python/)"
      ]
    },
    {
      "cell_type": "markdown",
      "metadata": {
        "id": "qruw_HlupiX1"
      },
      "source": [
        "Ejecutados los siguientes scripts..."
      ]
    },
    {
      "cell_type": "code",
      "metadata": {
        "colab": {
          "base_uri": "https://localhost:8080/",
          "height": 394
        },
        "id": "zqkK7RKKph3X",
        "outputId": "ce5f6274-f93a-467c-db58-e556ff6d15c6"
      },
      "source": [
        "URL = \"https://raw.githubusercontent.com/cristiandarioortegayubro/BA/main/Datasets/\"\n",
        "archivo = \"Reporte_Cuentas_a_Cobrar.csv\"\n",
        "datos = URL + archivo\n",
        "import pandas as pd\n",
        "import numpy as np\n",
        "cobros = pd.read_csv(datos)\n",
        "cobros.drop([\"DESCRIPCION\",\"VENDEDOR\",\"IMPORTEMONPPAL\"], axis=1, inplace=True)\n",
        "agrupacion_cobros = cobros.groupby(\"ORGANIZACION\").sum()\n",
        "agrupacion_cobros.insert(0,column=\"ORGANIZACION\",value=agrupacion_cobros.index.values)\n",
        "agrupacion_cobros.reset_index(drop=True, inplace=True)\n",
        "agrupacion_cobros.rename(columns={\"IMPORTEMONTRAN\":\"TOTAL\"},inplace=True)\n",
        "agrupacion_cobros"
      ],
      "execution_count": null,
      "outputs": [
        {
          "output_type": "execute_result",
          "data": {
            "text/html": [
              "\n",
              "  <div id=\"df-c0962ae4-f608-4d88-83d4-e9a7244cb8a8\">\n",
              "    <div class=\"colab-df-container\">\n",
              "      <div>\n",
              "<style scoped>\n",
              "    .dataframe tbody tr th:only-of-type {\n",
              "        vertical-align: middle;\n",
              "    }\n",
              "\n",
              "    .dataframe tbody tr th {\n",
              "        vertical-align: top;\n",
              "    }\n",
              "\n",
              "    .dataframe thead th {\n",
              "        text-align: right;\n",
              "    }\n",
              "</style>\n",
              "<table border=\"1\" class=\"dataframe\">\n",
              "  <thead>\n",
              "    <tr style=\"text-align: right;\">\n",
              "      <th></th>\n",
              "      <th>ORGANIZACION</th>\n",
              "      <th>TOTAL</th>\n",
              "    </tr>\n",
              "  </thead>\n",
              "  <tbody>\n",
              "    <tr>\n",
              "      <th>0</th>\n",
              "      <td>Algorte S.A.</td>\n",
              "      <td>259090.00</td>\n",
              "    </tr>\n",
              "    <tr>\n",
              "      <th>1</th>\n",
              "      <td>Berker S.R.L</td>\n",
              "      <td>5445.00</td>\n",
              "    </tr>\n",
              "    <tr>\n",
              "      <th>2</th>\n",
              "      <td>Campomas S.A.</td>\n",
              "      <td>72600.00</td>\n",
              "    </tr>\n",
              "    <tr>\n",
              "      <th>3</th>\n",
              "      <td>Consumidor Final</td>\n",
              "      <td>1500.00</td>\n",
              "    </tr>\n",
              "    <tr>\n",
              "      <th>4</th>\n",
              "      <td>Galardon S.A.</td>\n",
              "      <td>519549.80</td>\n",
              "    </tr>\n",
              "    <tr>\n",
              "      <th>5</th>\n",
              "      <td>Hernandez S.A.</td>\n",
              "      <td>571725.00</td>\n",
              "    </tr>\n",
              "    <tr>\n",
              "      <th>6</th>\n",
              "      <td>Horacio Aguirre</td>\n",
              "      <td>76230.00</td>\n",
              "    </tr>\n",
              "    <tr>\n",
              "      <th>7</th>\n",
              "      <td>Horizonte S.A.</td>\n",
              "      <td>640601.83</td>\n",
              "    </tr>\n",
              "    <tr>\n",
              "      <th>8</th>\n",
              "      <td>Ignition S.A.C.I</td>\n",
              "      <td>184525.00</td>\n",
              "    </tr>\n",
              "    <tr>\n",
              "      <th>9</th>\n",
              "      <td>Manganello S.R.L</td>\n",
              "      <td>550477.40</td>\n",
              "    </tr>\n",
              "    <tr>\n",
              "      <th>10</th>\n",
              "      <td>Nicolasen y Asociados S.A.</td>\n",
              "      <td>249925.50</td>\n",
              "    </tr>\n",
              "  </tbody>\n",
              "</table>\n",
              "</div>\n",
              "      <button class=\"colab-df-convert\" onclick=\"convertToInteractive('df-c0962ae4-f608-4d88-83d4-e9a7244cb8a8')\"\n",
              "              title=\"Convert this dataframe to an interactive table.\"\n",
              "              style=\"display:none;\">\n",
              "        \n",
              "  <svg xmlns=\"http://www.w3.org/2000/svg\" height=\"24px\"viewBox=\"0 0 24 24\"\n",
              "       width=\"24px\">\n",
              "    <path d=\"M0 0h24v24H0V0z\" fill=\"none\"/>\n",
              "    <path d=\"M18.56 5.44l.94 2.06.94-2.06 2.06-.94-2.06-.94-.94-2.06-.94 2.06-2.06.94zm-11 1L8.5 8.5l.94-2.06 2.06-.94-2.06-.94L8.5 2.5l-.94 2.06-2.06.94zm10 10l.94 2.06.94-2.06 2.06-.94-2.06-.94-.94-2.06-.94 2.06-2.06.94z\"/><path d=\"M17.41 7.96l-1.37-1.37c-.4-.4-.92-.59-1.43-.59-.52 0-1.04.2-1.43.59L10.3 9.45l-7.72 7.72c-.78.78-.78 2.05 0 2.83L4 21.41c.39.39.9.59 1.41.59.51 0 1.02-.2 1.41-.59l7.78-7.78 2.81-2.81c.8-.78.8-2.07 0-2.86zM5.41 20L4 18.59l7.72-7.72 1.47 1.35L5.41 20z\"/>\n",
              "  </svg>\n",
              "      </button>\n",
              "      \n",
              "  <style>\n",
              "    .colab-df-container {\n",
              "      display:flex;\n",
              "      flex-wrap:wrap;\n",
              "      gap: 12px;\n",
              "    }\n",
              "\n",
              "    .colab-df-convert {\n",
              "      background-color: #E8F0FE;\n",
              "      border: none;\n",
              "      border-radius: 50%;\n",
              "      cursor: pointer;\n",
              "      display: none;\n",
              "      fill: #1967D2;\n",
              "      height: 32px;\n",
              "      padding: 0 0 0 0;\n",
              "      width: 32px;\n",
              "    }\n",
              "\n",
              "    .colab-df-convert:hover {\n",
              "      background-color: #E2EBFA;\n",
              "      box-shadow: 0px 1px 2px rgba(60, 64, 67, 0.3), 0px 1px 3px 1px rgba(60, 64, 67, 0.15);\n",
              "      fill: #174EA6;\n",
              "    }\n",
              "\n",
              "    [theme=dark] .colab-df-convert {\n",
              "      background-color: #3B4455;\n",
              "      fill: #D2E3FC;\n",
              "    }\n",
              "\n",
              "    [theme=dark] .colab-df-convert:hover {\n",
              "      background-color: #434B5C;\n",
              "      box-shadow: 0px 1px 3px 1px rgba(0, 0, 0, 0.15);\n",
              "      filter: drop-shadow(0px 1px 2px rgba(0, 0, 0, 0.3));\n",
              "      fill: #FFFFFF;\n",
              "    }\n",
              "  </style>\n",
              "\n",
              "      <script>\n",
              "        const buttonEl =\n",
              "          document.querySelector('#df-c0962ae4-f608-4d88-83d4-e9a7244cb8a8 button.colab-df-convert');\n",
              "        buttonEl.style.display =\n",
              "          google.colab.kernel.accessAllowed ? 'block' : 'none';\n",
              "\n",
              "        async function convertToInteractive(key) {\n",
              "          const element = document.querySelector('#df-c0962ae4-f608-4d88-83d4-e9a7244cb8a8');\n",
              "          const dataTable =\n",
              "            await google.colab.kernel.invokeFunction('convertToInteractive',\n",
              "                                                     [key], {});\n",
              "          if (!dataTable) return;\n",
              "\n",
              "          const docLinkHtml = 'Like what you see? Visit the ' +\n",
              "            '<a target=\"_blank\" href=https://colab.research.google.com/notebooks/data_table.ipynb>data table notebook</a>'\n",
              "            + ' to learn more about interactive tables.';\n",
              "          element.innerHTML = '';\n",
              "          dataTable['output_type'] = 'display_data';\n",
              "          await google.colab.output.renderOutput(dataTable, element);\n",
              "          const docLink = document.createElement('div');\n",
              "          docLink.innerHTML = docLinkHtml;\n",
              "          element.appendChild(docLink);\n",
              "        }\n",
              "      </script>\n",
              "    </div>\n",
              "  </div>\n",
              "  "
            ],
            "text/plain": [
              "                  ORGANIZACION      TOTAL\n",
              "0                 Algorte S.A.  259090.00\n",
              "1                 Berker S.R.L    5445.00\n",
              "2                Campomas S.A.   72600.00\n",
              "3             Consumidor Final    1500.00\n",
              "4                Galardon S.A.  519549.80\n",
              "5               Hernandez S.A.  571725.00\n",
              "6              Horacio Aguirre   76230.00\n",
              "7               Horizonte S.A.  640601.83\n",
              "8             Ignition S.A.C.I  184525.00\n",
              "9             Manganello S.R.L  550477.40\n",
              "10  Nicolasen y Asociados S.A.  249925.50"
            ]
          },
          "metadata": {},
          "execution_count": 1
        }
      ]
    },
    {
      "cell_type": "code",
      "metadata": {
        "id": "CHBJJ0m55NC7"
      },
      "source": [
        "import pandas_datareader as data\n",
        "\n",
        "def cotizacion(accion):\n",
        "  a=data.DataReader(accion, start=\"2021-05-10\", data_source=\"stooq\")\n",
        "  accion=pd.DataFrame(a)\n",
        "  accion.insert(1,column=\"Date\",value=accion.index.values)\n",
        "  accion.reset_index(drop=True, inplace=True)\n",
        "  accion.insert(2,column=\"Day\",value=pd.DatetimeIndex(accion[\"Date\"]).day_name())\n",
        "  accion[\"Pct_Change\"] = accion.Close.pct_change()*100\n",
        "  accion[\"Diff\"] = accion.Close.diff()\n",
        "  accion.dropna(how=\"any\", inplace=True)\n",
        "  accion.reset_index(drop=True, inplace=True)\n",
        "  return accion\n",
        "\n",
        "CRES = cotizacion(\"CRESY.US\")\n",
        "CRES[\"Name\"] = \"CRES\"\n",
        "BMA = cotizacion(\"BMA.US\")\n",
        "BMA[\"Name\"] = \"BMA\"\n",
        "TECO2 = cotizacion(\"TEO.US\")\n",
        "TECO2[\"Name\"] = \"TECO2\"\n",
        "\n",
        "df = [CRES, BMA, TECO2]\n",
        "CARTERA = pd.concat(df)"
      ],
      "execution_count": null,
      "outputs": []
    },
    {
      "cell_type": "markdown",
      "metadata": {
        "id": "qd1hNm4_ij0R"
      },
      "source": [
        "# Activando el módulo Plotly"
      ]
    },
    {
      "cell_type": "code",
      "metadata": {
        "id": "r0WtjC5oiSeq"
      },
      "source": [
        "import plotly.express as px\n",
        "import plotly.graph_objects as go"
      ],
      "execution_count": null,
      "outputs": []
    },
    {
      "cell_type": "markdown",
      "metadata": {
        "id": "u2sHpfqXi8mv"
      },
      "source": [
        "# Gráficos basicos"
      ]
    },
    {
      "cell_type": "code",
      "metadata": {
        "colab": {
          "base_uri": "https://localhost:8080/",
          "height": 206
        },
        "id": "i-XWlBhSwzxa",
        "outputId": "096c59f2-e5c2-4ea5-dec2-91ec0adfde51"
      },
      "source": [
        "CARTERA.head()"
      ],
      "execution_count": null,
      "outputs": [
        {
          "output_type": "execute_result",
          "data": {
            "text/html": [
              "\n",
              "  <div id=\"df-8b154522-9c69-4da3-bedc-56777624616c\">\n",
              "    <div class=\"colab-df-container\">\n",
              "      <div>\n",
              "<style scoped>\n",
              "    .dataframe tbody tr th:only-of-type {\n",
              "        vertical-align: middle;\n",
              "    }\n",
              "\n",
              "    .dataframe tbody tr th {\n",
              "        vertical-align: top;\n",
              "    }\n",
              "\n",
              "    .dataframe thead th {\n",
              "        text-align: right;\n",
              "    }\n",
              "</style>\n",
              "<table border=\"1\" class=\"dataframe\">\n",
              "  <thead>\n",
              "    <tr style=\"text-align: right;\">\n",
              "      <th></th>\n",
              "      <th>Open</th>\n",
              "      <th>Date</th>\n",
              "      <th>Day</th>\n",
              "      <th>High</th>\n",
              "      <th>Low</th>\n",
              "      <th>Close</th>\n",
              "      <th>Volume</th>\n",
              "      <th>Pct_Change</th>\n",
              "      <th>Diff</th>\n",
              "      <th>Name</th>\n",
              "    </tr>\n",
              "  </thead>\n",
              "  <tbody>\n",
              "    <tr>\n",
              "      <th>0</th>\n",
              "      <td>5.45</td>\n",
              "      <td>2022-02-14</td>\n",
              "      <td>Monday</td>\n",
              "      <td>5.64</td>\n",
              "      <td>5.2400</td>\n",
              "      <td>5.59</td>\n",
              "      <td>66103</td>\n",
              "      <td>-2.101576</td>\n",
              "      <td>-0.12</td>\n",
              "      <td>CRES</td>\n",
              "    </tr>\n",
              "    <tr>\n",
              "      <th>1</th>\n",
              "      <td>5.70</td>\n",
              "      <td>2022-02-11</td>\n",
              "      <td>Friday</td>\n",
              "      <td>5.70</td>\n",
              "      <td>5.3900</td>\n",
              "      <td>5.49</td>\n",
              "      <td>76314</td>\n",
              "      <td>-1.788909</td>\n",
              "      <td>-0.10</td>\n",
              "      <td>CRES</td>\n",
              "    </tr>\n",
              "    <tr>\n",
              "      <th>2</th>\n",
              "      <td>5.23</td>\n",
              "      <td>2022-02-10</td>\n",
              "      <td>Thursday</td>\n",
              "      <td>5.75</td>\n",
              "      <td>5.2224</td>\n",
              "      <td>5.52</td>\n",
              "      <td>209878</td>\n",
              "      <td>0.546448</td>\n",
              "      <td>0.03</td>\n",
              "      <td>CRES</td>\n",
              "    </tr>\n",
              "    <tr>\n",
              "      <th>3</th>\n",
              "      <td>5.32</td>\n",
              "      <td>2022-02-09</td>\n",
              "      <td>Wednesday</td>\n",
              "      <td>5.57</td>\n",
              "      <td>5.2200</td>\n",
              "      <td>5.46</td>\n",
              "      <td>127166</td>\n",
              "      <td>-1.086957</td>\n",
              "      <td>-0.06</td>\n",
              "      <td>CRES</td>\n",
              "    </tr>\n",
              "    <tr>\n",
              "      <th>4</th>\n",
              "      <td>5.30</td>\n",
              "      <td>2022-02-08</td>\n",
              "      <td>Tuesday</td>\n",
              "      <td>5.32</td>\n",
              "      <td>5.0700</td>\n",
              "      <td>5.30</td>\n",
              "      <td>163672</td>\n",
              "      <td>-2.930403</td>\n",
              "      <td>-0.16</td>\n",
              "      <td>CRES</td>\n",
              "    </tr>\n",
              "  </tbody>\n",
              "</table>\n",
              "</div>\n",
              "      <button class=\"colab-df-convert\" onclick=\"convertToInteractive('df-8b154522-9c69-4da3-bedc-56777624616c')\"\n",
              "              title=\"Convert this dataframe to an interactive table.\"\n",
              "              style=\"display:none;\">\n",
              "        \n",
              "  <svg xmlns=\"http://www.w3.org/2000/svg\" height=\"24px\"viewBox=\"0 0 24 24\"\n",
              "       width=\"24px\">\n",
              "    <path d=\"M0 0h24v24H0V0z\" fill=\"none\"/>\n",
              "    <path d=\"M18.56 5.44l.94 2.06.94-2.06 2.06-.94-2.06-.94-.94-2.06-.94 2.06-2.06.94zm-11 1L8.5 8.5l.94-2.06 2.06-.94-2.06-.94L8.5 2.5l-.94 2.06-2.06.94zm10 10l.94 2.06.94-2.06 2.06-.94-2.06-.94-.94-2.06-.94 2.06-2.06.94z\"/><path d=\"M17.41 7.96l-1.37-1.37c-.4-.4-.92-.59-1.43-.59-.52 0-1.04.2-1.43.59L10.3 9.45l-7.72 7.72c-.78.78-.78 2.05 0 2.83L4 21.41c.39.39.9.59 1.41.59.51 0 1.02-.2 1.41-.59l7.78-7.78 2.81-2.81c.8-.78.8-2.07 0-2.86zM5.41 20L4 18.59l7.72-7.72 1.47 1.35L5.41 20z\"/>\n",
              "  </svg>\n",
              "      </button>\n",
              "      \n",
              "  <style>\n",
              "    .colab-df-container {\n",
              "      display:flex;\n",
              "      flex-wrap:wrap;\n",
              "      gap: 12px;\n",
              "    }\n",
              "\n",
              "    .colab-df-convert {\n",
              "      background-color: #E8F0FE;\n",
              "      border: none;\n",
              "      border-radius: 50%;\n",
              "      cursor: pointer;\n",
              "      display: none;\n",
              "      fill: #1967D2;\n",
              "      height: 32px;\n",
              "      padding: 0 0 0 0;\n",
              "      width: 32px;\n",
              "    }\n",
              "\n",
              "    .colab-df-convert:hover {\n",
              "      background-color: #E2EBFA;\n",
              "      box-shadow: 0px 1px 2px rgba(60, 64, 67, 0.3), 0px 1px 3px 1px rgba(60, 64, 67, 0.15);\n",
              "      fill: #174EA6;\n",
              "    }\n",
              "\n",
              "    [theme=dark] .colab-df-convert {\n",
              "      background-color: #3B4455;\n",
              "      fill: #D2E3FC;\n",
              "    }\n",
              "\n",
              "    [theme=dark] .colab-df-convert:hover {\n",
              "      background-color: #434B5C;\n",
              "      box-shadow: 0px 1px 3px 1px rgba(0, 0, 0, 0.15);\n",
              "      filter: drop-shadow(0px 1px 2px rgba(0, 0, 0, 0.3));\n",
              "      fill: #FFFFFF;\n",
              "    }\n",
              "  </style>\n",
              "\n",
              "      <script>\n",
              "        const buttonEl =\n",
              "          document.querySelector('#df-8b154522-9c69-4da3-bedc-56777624616c button.colab-df-convert');\n",
              "        buttonEl.style.display =\n",
              "          google.colab.kernel.accessAllowed ? 'block' : 'none';\n",
              "\n",
              "        async function convertToInteractive(key) {\n",
              "          const element = document.querySelector('#df-8b154522-9c69-4da3-bedc-56777624616c');\n",
              "          const dataTable =\n",
              "            await google.colab.kernel.invokeFunction('convertToInteractive',\n",
              "                                                     [key], {});\n",
              "          if (!dataTable) return;\n",
              "\n",
              "          const docLinkHtml = 'Like what you see? Visit the ' +\n",
              "            '<a target=\"_blank\" href=https://colab.research.google.com/notebooks/data_table.ipynb>data table notebook</a>'\n",
              "            + ' to learn more about interactive tables.';\n",
              "          element.innerHTML = '';\n",
              "          dataTable['output_type'] = 'display_data';\n",
              "          await google.colab.output.renderOutput(dataTable, element);\n",
              "          const docLink = document.createElement('div');\n",
              "          docLink.innerHTML = docLinkHtml;\n",
              "          element.appendChild(docLink);\n",
              "        }\n",
              "      </script>\n",
              "    </div>\n",
              "  </div>\n",
              "  "
            ],
            "text/plain": [
              "   Open       Date        Day  High  ...  Volume  Pct_Change  Diff  Name\n",
              "0  5.45 2022-02-14     Monday  5.64  ...   66103   -2.101576 -0.12  CRES\n",
              "1  5.70 2022-02-11     Friday  5.70  ...   76314   -1.788909 -0.10  CRES\n",
              "2  5.23 2022-02-10   Thursday  5.75  ...  209878    0.546448  0.03  CRES\n",
              "3  5.32 2022-02-09  Wednesday  5.57  ...  127166   -1.086957 -0.06  CRES\n",
              "4  5.30 2022-02-08    Tuesday  5.32  ...  163672   -2.930403 -0.16  CRES\n",
              "\n",
              "[5 rows x 10 columns]"
            ]
          },
          "metadata": {},
          "execution_count": 4
        }
      ]
    },
    {
      "cell_type": "markdown",
      "metadata": {
        "id": "kfnsVbgqjOpa"
      },
      "source": [
        "## Gráfico lineal simple"
      ]
    },
    {
      "cell_type": "markdown",
      "metadata": {
        "id": "ESdH2K3llQ0E"
      },
      "source": [
        "Ejemplo para las acciones CRES (Cresud S.A.) de la CARTERA"
      ]
    },
    {
      "cell_type": "code",
      "metadata": {
        "colab": {
          "base_uri": "https://localhost:8080/",
          "height": 542
        },
        "id": "62IubV-PjpqP",
        "outputId": "6a9bf727-9272-4255-ff13-0d65e07fd34b"
      },
      "source": [
        "df = CARTERA.query(\"Name=='CRES'\")\n",
        "fig = px.line(df, \n",
        "              x=\"Date\", \n",
        "              y=\"Close\", \n",
        "              template = \"gridon\",\n",
        "              title=\"Cresud S.A.\")\n",
        "fig.show()"
      ],
      "execution_count": null,
      "outputs": [
        {
          "output_type": "display_data",
          "data": {
            "text/html": [
              "<html>\n",
              "<head><meta charset=\"utf-8\" /></head>\n",
              "<body>\n",
              "    <div>            <script src=\"https://cdnjs.cloudflare.com/ajax/libs/mathjax/2.7.5/MathJax.js?config=TeX-AMS-MML_SVG\"></script><script type=\"text/javascript\">if (window.MathJax) {MathJax.Hub.Config({SVG: {font: \"STIX-Web\"}});}</script>                <script type=\"text/javascript\">window.PlotlyConfig = {MathJaxConfig: 'local'};</script>\n",
              "        <script src=\"https://cdn.plot.ly/plotly-2.8.3.min.js\"></script>                <div id=\"086755a0-860b-465d-9522-d409d194c837\" class=\"plotly-graph-div\" style=\"height:525px; width:100%;\"></div>            <script type=\"text/javascript\">                                    window.PLOTLYENV=window.PLOTLYENV || {};                                    if (document.getElementById(\"086755a0-860b-465d-9522-d409d194c837\")) {                    Plotly.newPlot(                        \"086755a0-860b-465d-9522-d409d194c837\",                        [{\"hovertemplate\":\"Date=%{x}<br>Close=%{y}<extra></extra>\",\"legendgroup\":\"\",\"line\":{\"color\":\"#1F77B4\",\"dash\":\"solid\"},\"marker\":{\"symbol\":\"circle\"},\"mode\":\"lines\",\"name\":\"\",\"orientation\":\"v\",\"showlegend\":false,\"x\":[\"2022-02-14T00:00:00\",\"2022-02-11T00:00:00\",\"2022-02-10T00:00:00\",\"2022-02-09T00:00:00\",\"2022-02-08T00:00:00\",\"2022-02-07T00:00:00\",\"2022-02-04T00:00:00\",\"2022-02-03T00:00:00\",\"2022-02-02T00:00:00\",\"2022-02-01T00:00:00\",\"2022-01-31T00:00:00\",\"2022-01-28T00:00:00\",\"2022-01-27T00:00:00\",\"2022-01-26T00:00:00\",\"2022-01-25T00:00:00\",\"2022-01-24T00:00:00\",\"2022-01-21T00:00:00\",\"2022-01-20T00:00:00\",\"2022-01-19T00:00:00\",\"2022-01-18T00:00:00\",\"2022-01-14T00:00:00\",\"2022-01-13T00:00:00\",\"2022-01-12T00:00:00\",\"2022-01-11T00:00:00\",\"2022-01-10T00:00:00\",\"2022-01-07T00:00:00\",\"2022-01-06T00:00:00\",\"2022-01-05T00:00:00\",\"2022-01-04T00:00:00\",\"2022-01-03T00:00:00\",\"2021-12-31T00:00:00\",\"2021-12-30T00:00:00\",\"2021-12-29T00:00:00\",\"2021-12-28T00:00:00\",\"2021-12-27T00:00:00\",\"2021-12-23T00:00:00\",\"2021-12-22T00:00:00\",\"2021-12-21T00:00:00\",\"2021-12-20T00:00:00\",\"2021-12-17T00:00:00\",\"2021-12-16T00:00:00\",\"2021-12-15T00:00:00\",\"2021-12-14T00:00:00\",\"2021-12-13T00:00:00\",\"2021-12-10T00:00:00\",\"2021-12-09T00:00:00\",\"2021-12-08T00:00:00\",\"2021-12-07T00:00:00\",\"2021-12-06T00:00:00\",\"2021-12-03T00:00:00\",\"2021-12-02T00:00:00\",\"2021-12-01T00:00:00\",\"2021-11-30T00:00:00\",\"2021-11-29T00:00:00\",\"2021-11-26T00:00:00\",\"2021-11-24T00:00:00\",\"2021-11-23T00:00:00\",\"2021-11-22T00:00:00\",\"2021-11-19T00:00:00\",\"2021-11-18T00:00:00\",\"2021-11-17T00:00:00\",\"2021-11-16T00:00:00\",\"2021-11-15T00:00:00\",\"2021-11-12T00:00:00\",\"2021-11-11T00:00:00\",\"2021-11-10T00:00:00\",\"2021-11-09T00:00:00\",\"2021-11-08T00:00:00\",\"2021-11-05T00:00:00\",\"2021-11-04T00:00:00\",\"2021-11-03T00:00:00\",\"2021-11-02T00:00:00\",\"2021-11-01T00:00:00\",\"2021-10-29T00:00:00\",\"2021-10-28T00:00:00\",\"2021-10-27T00:00:00\",\"2021-10-26T00:00:00\",\"2021-10-25T00:00:00\",\"2021-10-22T00:00:00\",\"2021-10-21T00:00:00\",\"2021-10-20T00:00:00\",\"2021-10-19T00:00:00\",\"2021-10-18T00:00:00\",\"2021-10-15T00:00:00\",\"2021-10-14T00:00:00\",\"2021-10-13T00:00:00\",\"2021-10-12T00:00:00\",\"2021-10-11T00:00:00\",\"2021-10-08T00:00:00\",\"2021-10-07T00:00:00\",\"2021-10-06T00:00:00\",\"2021-10-05T00:00:00\",\"2021-10-04T00:00:00\",\"2021-10-01T00:00:00\",\"2021-09-30T00:00:00\",\"2021-09-29T00:00:00\",\"2021-09-28T00:00:00\",\"2021-09-27T00:00:00\",\"2021-09-24T00:00:00\",\"2021-09-23T00:00:00\",\"2021-09-22T00:00:00\",\"2021-09-21T00:00:00\",\"2021-09-20T00:00:00\",\"2021-09-17T00:00:00\",\"2021-09-16T00:00:00\",\"2021-09-15T00:00:00\",\"2021-09-14T00:00:00\",\"2021-09-13T00:00:00\",\"2021-09-10T00:00:00\",\"2021-09-09T00:00:00\",\"2021-09-08T00:00:00\",\"2021-09-07T00:00:00\",\"2021-09-03T00:00:00\",\"2021-09-02T00:00:00\",\"2021-09-01T00:00:00\",\"2021-08-31T00:00:00\",\"2021-08-30T00:00:00\",\"2021-08-27T00:00:00\",\"2021-08-26T00:00:00\",\"2021-08-25T00:00:00\",\"2021-08-24T00:00:00\",\"2021-08-23T00:00:00\",\"2021-08-20T00:00:00\",\"2021-08-19T00:00:00\",\"2021-08-18T00:00:00\",\"2021-08-17T00:00:00\",\"2021-08-16T00:00:00\",\"2021-08-13T00:00:00\",\"2021-08-12T00:00:00\",\"2021-08-11T00:00:00\",\"2021-08-10T00:00:00\",\"2021-08-09T00:00:00\",\"2021-08-06T00:00:00\",\"2021-08-05T00:00:00\",\"2021-08-04T00:00:00\",\"2021-08-03T00:00:00\",\"2021-08-02T00:00:00\",\"2021-07-30T00:00:00\",\"2021-07-29T00:00:00\",\"2021-07-28T00:00:00\",\"2021-07-27T00:00:00\",\"2021-07-26T00:00:00\",\"2021-07-23T00:00:00\",\"2021-07-22T00:00:00\",\"2021-07-21T00:00:00\",\"2021-07-20T00:00:00\",\"2021-07-19T00:00:00\",\"2021-07-16T00:00:00\",\"2021-07-15T00:00:00\",\"2021-07-14T00:00:00\",\"2021-07-13T00:00:00\",\"2021-07-12T00:00:00\",\"2021-07-09T00:00:00\",\"2021-07-08T00:00:00\",\"2021-07-07T00:00:00\",\"2021-07-06T00:00:00\",\"2021-07-02T00:00:00\",\"2021-07-01T00:00:00\",\"2021-06-30T00:00:00\",\"2021-06-29T00:00:00\",\"2021-06-28T00:00:00\",\"2021-06-25T00:00:00\",\"2021-06-24T00:00:00\",\"2021-06-23T00:00:00\",\"2021-06-22T00:00:00\",\"2021-06-21T00:00:00\",\"2021-06-18T00:00:00\",\"2021-06-17T00:00:00\",\"2021-06-16T00:00:00\",\"2021-06-15T00:00:00\",\"2021-06-14T00:00:00\",\"2021-06-11T00:00:00\",\"2021-06-10T00:00:00\",\"2021-06-09T00:00:00\",\"2021-06-08T00:00:00\",\"2021-06-07T00:00:00\",\"2021-06-04T00:00:00\",\"2021-06-03T00:00:00\",\"2021-06-02T00:00:00\",\"2021-06-01T00:00:00\",\"2021-05-28T00:00:00\",\"2021-05-27T00:00:00\",\"2021-05-26T00:00:00\",\"2021-05-25T00:00:00\",\"2021-05-24T00:00:00\",\"2021-05-21T00:00:00\",\"2021-05-20T00:00:00\",\"2021-05-19T00:00:00\",\"2021-05-18T00:00:00\",\"2021-05-17T00:00:00\",\"2021-05-14T00:00:00\",\"2021-05-13T00:00:00\",\"2021-05-12T00:00:00\",\"2021-05-11T00:00:00\",\"2021-05-10T00:00:00\"],\"xaxis\":\"x\",\"y\":[5.59,5.49,5.52,5.46,5.3,5.31,5.09,5.07,5.08,5.09,5.08,5.04,4.79,4.89,4.94,4.85,4.83,5.0,4.97,4.93,4.98,4.84,4.89,4.75,4.69,4.64,4.6,4.62,4.87,4.74,4.72,4.77,4.6,4.7,4.715,4.75,4.81,4.64,4.62,4.71,4.67,4.65,4.76,5.0,5.17,5.0,5.05,4.92,4.74,4.57,4.71,4.56,4.44,4.49,4.49,4.59,4.52,4.48,4.55,4.89,4.93,5.01,5.05,5.13,5.1,5.16,5.25,5.19,5.27,5.15,5.26,5.25,5.32,5.3,5.49,5.52,5.57,5.6,5.64,5.79,5.85,5.66,5.67,5.58,5.44,5.04,5.21,5.18,5.04,5.0,5.01,5.15,5.16,4.93,4.85,4.86,4.9,5.07,4.91,5.05,4.97,4.93,4.86,5.19,5.47,5.46,5.46,5.59,5.33,5.53,5.65,5.85,5.61,5.7,5.72,5.82,5.92,5.67,5.49,5.49,5.61,5.41,5.32,5.13,5.45,5.64,5.76,5.89,6.05,5.88,6.02,6.0,6.14,6.23,6.2,6.19,6.35,6.29,6.45,6.33,6.18,6.4,6.35,6.5,6.41,6.07,5.86,6.31,6.48,6.6,6.72,6.56,6.79,6.5,6.35,6.38,6.53,6.2,5.98,5.91,5.82,6.08,6.27,6.26,6.2,6.22,6.26,6.41,6.89,6.94,7.14,7.06,7.17,7.24,7.0,7.29,6.79,6.95,6.64,6.41,6.29,6.24,6.39,6.13,6.48,6.6,6.9,6.68,7.03,7.4,6.7,6.25,6.28,6.55,6.69],\"yaxis\":\"y\",\"type\":\"scatter\"}],                        {\"template\":{\"data\":{\"pie\":[{\"automargin\":true,\"type\":\"pie\"}]},\"layout\":{\"xaxis\":{\"showgrid\":true,\"title\":{\"standoff\":15}},\"yaxis\":{\"showgrid\":true,\"title\":{\"standoff\":15}}}},\"xaxis\":{\"anchor\":\"y\",\"domain\":[0.0,1.0],\"title\":{\"text\":\"Date\"}},\"yaxis\":{\"anchor\":\"x\",\"domain\":[0.0,1.0],\"title\":{\"text\":\"Close\"}},\"legend\":{\"tracegroupgap\":0},\"title\":{\"text\":\"Cresud S.A.\"}},                        {\"responsive\": true}                    ).then(function(){\n",
              "                            \n",
              "var gd = document.getElementById('086755a0-860b-465d-9522-d409d194c837');\n",
              "var x = new MutationObserver(function (mutations, observer) {{\n",
              "        var display = window.getComputedStyle(gd).display;\n",
              "        if (!display || display === 'none') {{\n",
              "            console.log([gd, 'removed!']);\n",
              "            Plotly.purge(gd);\n",
              "            observer.disconnect();\n",
              "        }}\n",
              "}});\n",
              "\n",
              "// Listen for the removal of the full notebook cells\n",
              "var notebookContainer = gd.closest('#notebook-container');\n",
              "if (notebookContainer) {{\n",
              "    x.observe(notebookContainer, {childList: true});\n",
              "}}\n",
              "\n",
              "// Listen for the clearing of the current output cell\n",
              "var outputEl = gd.closest('.output');\n",
              "if (outputEl) {{\n",
              "    x.observe(outputEl, {childList: true});\n",
              "}}\n",
              "\n",
              "                        })                };                            </script>        </div>\n",
              "</body>\n",
              "</html>"
            ]
          },
          "metadata": {}
        }
      ]
    },
    {
      "cell_type": "markdown",
      "metadata": {
        "id": "XfmmT_TslqgQ"
      },
      "source": [
        "**Realice el mismo gráfico para las acciones BMA (Banco Macro S.A.) de la CARTERA**\n",
        "\n",
        "\n",
        "<a href=\"#respuesta01\">Respuesta sugerida</a>"
      ]
    },
    {
      "cell_type": "code",
      "metadata": {
        "id": "JP7EKlwJlNzk"
      },
      "source": [
        "# Ejecute su script en tantas celdas de código que necesite"
      ],
      "execution_count": null,
      "outputs": []
    },
    {
      "cell_type": "markdown",
      "metadata": {
        "id": "KyzyI6Xwq6GM"
      },
      "source": [
        "## Gráfico lineal con color por columna"
      ]
    },
    {
      "cell_type": "markdown",
      "metadata": {
        "id": "aTJsPitmrBOs"
      },
      "source": [
        "Ejemplo para las acciones CRES (Cresud S.A.) y BMA (Banco Macro S.A.) de la CARTERA"
      ]
    },
    {
      "cell_type": "code",
      "metadata": {
        "colab": {
          "base_uri": "https://localhost:8080/",
          "height": 542
        },
        "id": "U4zoTgNrrQGR",
        "outputId": "86958cd4-f883-41b1-a7cd-25d9892c5952"
      },
      "source": [
        "df = CARTERA.query(\"Name!= 'TECO2'\")\n",
        "fig = px.line(df, \n",
        "              x=\"Date\", \n",
        "              y=\"Close\", \n",
        "              color=\"Name\", \n",
        "              template=\"gridon\",\n",
        "              title=\"Cresud S.A. - Banco Macro S.A.\")\n",
        "fig.show()"
      ],
      "execution_count": null,
      "outputs": [
        {
          "output_type": "display_data",
          "data": {
            "text/html": [
              "<html>\n",
              "<head><meta charset=\"utf-8\" /></head>\n",
              "<body>\n",
              "    <div>            <script src=\"https://cdnjs.cloudflare.com/ajax/libs/mathjax/2.7.5/MathJax.js?config=TeX-AMS-MML_SVG\"></script><script type=\"text/javascript\">if (window.MathJax) {MathJax.Hub.Config({SVG: {font: \"STIX-Web\"}});}</script>                <script type=\"text/javascript\">window.PlotlyConfig = {MathJaxConfig: 'local'};</script>\n",
              "        <script src=\"https://cdn.plot.ly/plotly-2.8.3.min.js\"></script>                <div id=\"a161ce2b-0cb9-4408-a50f-9bba00de6732\" class=\"plotly-graph-div\" style=\"height:525px; width:100%;\"></div>            <script type=\"text/javascript\">                                    window.PLOTLYENV=window.PLOTLYENV || {};                                    if (document.getElementById(\"a161ce2b-0cb9-4408-a50f-9bba00de6732\")) {                    Plotly.newPlot(                        \"a161ce2b-0cb9-4408-a50f-9bba00de6732\",                        [{\"hovertemplate\":\"Name=CRES<br>Date=%{x}<br>Close=%{y}<extra></extra>\",\"legendgroup\":\"CRES\",\"line\":{\"color\":\"#1F77B4\",\"dash\":\"solid\"},\"marker\":{\"symbol\":\"circle\"},\"mode\":\"lines\",\"name\":\"CRES\",\"orientation\":\"v\",\"showlegend\":true,\"x\":[\"2022-02-14T00:00:00\",\"2022-02-11T00:00:00\",\"2022-02-10T00:00:00\",\"2022-02-09T00:00:00\",\"2022-02-08T00:00:00\",\"2022-02-07T00:00:00\",\"2022-02-04T00:00:00\",\"2022-02-03T00:00:00\",\"2022-02-02T00:00:00\",\"2022-02-01T00:00:00\",\"2022-01-31T00:00:00\",\"2022-01-28T00:00:00\",\"2022-01-27T00:00:00\",\"2022-01-26T00:00:00\",\"2022-01-25T00:00:00\",\"2022-01-24T00:00:00\",\"2022-01-21T00:00:00\",\"2022-01-20T00:00:00\",\"2022-01-19T00:00:00\",\"2022-01-18T00:00:00\",\"2022-01-14T00:00:00\",\"2022-01-13T00:00:00\",\"2022-01-12T00:00:00\",\"2022-01-11T00:00:00\",\"2022-01-10T00:00:00\",\"2022-01-07T00:00:00\",\"2022-01-06T00:00:00\",\"2022-01-05T00:00:00\",\"2022-01-04T00:00:00\",\"2022-01-03T00:00:00\",\"2021-12-31T00:00:00\",\"2021-12-30T00:00:00\",\"2021-12-29T00:00:00\",\"2021-12-28T00:00:00\",\"2021-12-27T00:00:00\",\"2021-12-23T00:00:00\",\"2021-12-22T00:00:00\",\"2021-12-21T00:00:00\",\"2021-12-20T00:00:00\",\"2021-12-17T00:00:00\",\"2021-12-16T00:00:00\",\"2021-12-15T00:00:00\",\"2021-12-14T00:00:00\",\"2021-12-13T00:00:00\",\"2021-12-10T00:00:00\",\"2021-12-09T00:00:00\",\"2021-12-08T00:00:00\",\"2021-12-07T00:00:00\",\"2021-12-06T00:00:00\",\"2021-12-03T00:00:00\",\"2021-12-02T00:00:00\",\"2021-12-01T00:00:00\",\"2021-11-30T00:00:00\",\"2021-11-29T00:00:00\",\"2021-11-26T00:00:00\",\"2021-11-24T00:00:00\",\"2021-11-23T00:00:00\",\"2021-11-22T00:00:00\",\"2021-11-19T00:00:00\",\"2021-11-18T00:00:00\",\"2021-11-17T00:00:00\",\"2021-11-16T00:00:00\",\"2021-11-15T00:00:00\",\"2021-11-12T00:00:00\",\"2021-11-11T00:00:00\",\"2021-11-10T00:00:00\",\"2021-11-09T00:00:00\",\"2021-11-08T00:00:00\",\"2021-11-05T00:00:00\",\"2021-11-04T00:00:00\",\"2021-11-03T00:00:00\",\"2021-11-02T00:00:00\",\"2021-11-01T00:00:00\",\"2021-10-29T00:00:00\",\"2021-10-28T00:00:00\",\"2021-10-27T00:00:00\",\"2021-10-26T00:00:00\",\"2021-10-25T00:00:00\",\"2021-10-22T00:00:00\",\"2021-10-21T00:00:00\",\"2021-10-20T00:00:00\",\"2021-10-19T00:00:00\",\"2021-10-18T00:00:00\",\"2021-10-15T00:00:00\",\"2021-10-14T00:00:00\",\"2021-10-13T00:00:00\",\"2021-10-12T00:00:00\",\"2021-10-11T00:00:00\",\"2021-10-08T00:00:00\",\"2021-10-07T00:00:00\",\"2021-10-06T00:00:00\",\"2021-10-05T00:00:00\",\"2021-10-04T00:00:00\",\"2021-10-01T00:00:00\",\"2021-09-30T00:00:00\",\"2021-09-29T00:00:00\",\"2021-09-28T00:00:00\",\"2021-09-27T00:00:00\",\"2021-09-24T00:00:00\",\"2021-09-23T00:00:00\",\"2021-09-22T00:00:00\",\"2021-09-21T00:00:00\",\"2021-09-20T00:00:00\",\"2021-09-17T00:00:00\",\"2021-09-16T00:00:00\",\"2021-09-15T00:00:00\",\"2021-09-14T00:00:00\",\"2021-09-13T00:00:00\",\"2021-09-10T00:00:00\",\"2021-09-09T00:00:00\",\"2021-09-08T00:00:00\",\"2021-09-07T00:00:00\",\"2021-09-03T00:00:00\",\"2021-09-02T00:00:00\",\"2021-09-01T00:00:00\",\"2021-08-31T00:00:00\",\"2021-08-30T00:00:00\",\"2021-08-27T00:00:00\",\"2021-08-26T00:00:00\",\"2021-08-25T00:00:00\",\"2021-08-24T00:00:00\",\"2021-08-23T00:00:00\",\"2021-08-20T00:00:00\",\"2021-08-19T00:00:00\",\"2021-08-18T00:00:00\",\"2021-08-17T00:00:00\",\"2021-08-16T00:00:00\",\"2021-08-13T00:00:00\",\"2021-08-12T00:00:00\",\"2021-08-11T00:00:00\",\"2021-08-10T00:00:00\",\"2021-08-09T00:00:00\",\"2021-08-06T00:00:00\",\"2021-08-05T00:00:00\",\"2021-08-04T00:00:00\",\"2021-08-03T00:00:00\",\"2021-08-02T00:00:00\",\"2021-07-30T00:00:00\",\"2021-07-29T00:00:00\",\"2021-07-28T00:00:00\",\"2021-07-27T00:00:00\",\"2021-07-26T00:00:00\",\"2021-07-23T00:00:00\",\"2021-07-22T00:00:00\",\"2021-07-21T00:00:00\",\"2021-07-20T00:00:00\",\"2021-07-19T00:00:00\",\"2021-07-16T00:00:00\",\"2021-07-15T00:00:00\",\"2021-07-14T00:00:00\",\"2021-07-13T00:00:00\",\"2021-07-12T00:00:00\",\"2021-07-09T00:00:00\",\"2021-07-08T00:00:00\",\"2021-07-07T00:00:00\",\"2021-07-06T00:00:00\",\"2021-07-02T00:00:00\",\"2021-07-01T00:00:00\",\"2021-06-30T00:00:00\",\"2021-06-29T00:00:00\",\"2021-06-28T00:00:00\",\"2021-06-25T00:00:00\",\"2021-06-24T00:00:00\",\"2021-06-23T00:00:00\",\"2021-06-22T00:00:00\",\"2021-06-21T00:00:00\",\"2021-06-18T00:00:00\",\"2021-06-17T00:00:00\",\"2021-06-16T00:00:00\",\"2021-06-15T00:00:00\",\"2021-06-14T00:00:00\",\"2021-06-11T00:00:00\",\"2021-06-10T00:00:00\",\"2021-06-09T00:00:00\",\"2021-06-08T00:00:00\",\"2021-06-07T00:00:00\",\"2021-06-04T00:00:00\",\"2021-06-03T00:00:00\",\"2021-06-02T00:00:00\",\"2021-06-01T00:00:00\",\"2021-05-28T00:00:00\",\"2021-05-27T00:00:00\",\"2021-05-26T00:00:00\",\"2021-05-25T00:00:00\",\"2021-05-24T00:00:00\",\"2021-05-21T00:00:00\",\"2021-05-20T00:00:00\",\"2021-05-19T00:00:00\",\"2021-05-18T00:00:00\",\"2021-05-17T00:00:00\",\"2021-05-14T00:00:00\",\"2021-05-13T00:00:00\",\"2021-05-12T00:00:00\",\"2021-05-11T00:00:00\",\"2021-05-10T00:00:00\"],\"xaxis\":\"x\",\"y\":[5.59,5.49,5.52,5.46,5.3,5.31,5.09,5.07,5.08,5.09,5.08,5.04,4.79,4.89,4.94,4.85,4.83,5.0,4.97,4.93,4.98,4.84,4.89,4.75,4.69,4.64,4.6,4.62,4.87,4.74,4.72,4.77,4.6,4.7,4.715,4.75,4.81,4.64,4.62,4.71,4.67,4.65,4.76,5.0,5.17,5.0,5.05,4.92,4.74,4.57,4.71,4.56,4.44,4.49,4.49,4.59,4.52,4.48,4.55,4.89,4.93,5.01,5.05,5.13,5.1,5.16,5.25,5.19,5.27,5.15,5.26,5.25,5.32,5.3,5.49,5.52,5.57,5.6,5.64,5.79,5.85,5.66,5.67,5.58,5.44,5.04,5.21,5.18,5.04,5.0,5.01,5.15,5.16,4.93,4.85,4.86,4.9,5.07,4.91,5.05,4.97,4.93,4.86,5.19,5.47,5.46,5.46,5.59,5.33,5.53,5.65,5.85,5.61,5.7,5.72,5.82,5.92,5.67,5.49,5.49,5.61,5.41,5.32,5.13,5.45,5.64,5.76,5.89,6.05,5.88,6.02,6.0,6.14,6.23,6.2,6.19,6.35,6.29,6.45,6.33,6.18,6.4,6.35,6.5,6.41,6.07,5.86,6.31,6.48,6.6,6.72,6.56,6.79,6.5,6.35,6.38,6.53,6.2,5.98,5.91,5.82,6.08,6.27,6.26,6.2,6.22,6.26,6.41,6.89,6.94,7.14,7.06,7.17,7.24,7.0,7.29,6.79,6.95,6.64,6.41,6.29,6.24,6.39,6.13,6.48,6.6,6.9,6.68,7.03,7.4,6.7,6.25,6.28,6.55,6.69],\"yaxis\":\"y\",\"type\":\"scatter\"},{\"hovertemplate\":\"Name=BMA<br>Date=%{x}<br>Close=%{y}<extra></extra>\",\"legendgroup\":\"BMA\",\"line\":{\"color\":\"#FF7F0E\",\"dash\":\"solid\"},\"marker\":{\"symbol\":\"circle\"},\"mode\":\"lines\",\"name\":\"BMA\",\"orientation\":\"v\",\"showlegend\":true,\"x\":[\"2022-02-14T00:00:00\",\"2022-02-11T00:00:00\",\"2022-02-10T00:00:00\",\"2022-02-09T00:00:00\",\"2022-02-08T00:00:00\",\"2022-02-07T00:00:00\",\"2022-02-04T00:00:00\",\"2022-02-03T00:00:00\",\"2022-02-02T00:00:00\",\"2022-02-01T00:00:00\",\"2022-01-31T00:00:00\",\"2022-01-28T00:00:00\",\"2022-01-27T00:00:00\",\"2022-01-26T00:00:00\",\"2022-01-25T00:00:00\",\"2022-01-24T00:00:00\",\"2022-01-21T00:00:00\",\"2022-01-20T00:00:00\",\"2022-01-19T00:00:00\",\"2022-01-18T00:00:00\",\"2022-01-14T00:00:00\",\"2022-01-13T00:00:00\",\"2022-01-12T00:00:00\",\"2022-01-11T00:00:00\",\"2022-01-10T00:00:00\",\"2022-01-07T00:00:00\",\"2022-01-06T00:00:00\",\"2022-01-05T00:00:00\",\"2022-01-04T00:00:00\",\"2022-01-03T00:00:00\",\"2021-12-31T00:00:00\",\"2021-12-30T00:00:00\",\"2021-12-29T00:00:00\",\"2021-12-28T00:00:00\",\"2021-12-27T00:00:00\",\"2021-12-23T00:00:00\",\"2021-12-22T00:00:00\",\"2021-12-21T00:00:00\",\"2021-12-20T00:00:00\",\"2021-12-17T00:00:00\",\"2021-12-16T00:00:00\",\"2021-12-15T00:00:00\",\"2021-12-14T00:00:00\",\"2021-12-13T00:00:00\",\"2021-12-10T00:00:00\",\"2021-12-09T00:00:00\",\"2021-12-08T00:00:00\",\"2021-12-07T00:00:00\",\"2021-12-06T00:00:00\",\"2021-12-03T00:00:00\",\"2021-12-02T00:00:00\",\"2021-12-01T00:00:00\",\"2021-11-30T00:00:00\",\"2021-11-29T00:00:00\",\"2021-11-26T00:00:00\",\"2021-11-24T00:00:00\",\"2021-11-23T00:00:00\",\"2021-11-22T00:00:00\",\"2021-11-19T00:00:00\",\"2021-11-18T00:00:00\",\"2021-11-17T00:00:00\",\"2021-11-16T00:00:00\",\"2021-11-15T00:00:00\",\"2021-11-12T00:00:00\",\"2021-11-11T00:00:00\",\"2021-11-10T00:00:00\",\"2021-11-09T00:00:00\",\"2021-11-08T00:00:00\",\"2021-11-05T00:00:00\",\"2021-11-04T00:00:00\",\"2021-11-03T00:00:00\",\"2021-11-02T00:00:00\",\"2021-11-01T00:00:00\",\"2021-10-29T00:00:00\",\"2021-10-28T00:00:00\",\"2021-10-27T00:00:00\",\"2021-10-26T00:00:00\",\"2021-10-25T00:00:00\",\"2021-10-22T00:00:00\",\"2021-10-21T00:00:00\",\"2021-10-20T00:00:00\",\"2021-10-19T00:00:00\",\"2021-10-18T00:00:00\",\"2021-10-15T00:00:00\",\"2021-10-14T00:00:00\",\"2021-10-13T00:00:00\",\"2021-10-12T00:00:00\",\"2021-10-11T00:00:00\",\"2021-10-08T00:00:00\",\"2021-10-07T00:00:00\",\"2021-10-06T00:00:00\",\"2021-10-05T00:00:00\",\"2021-10-04T00:00:00\",\"2021-10-01T00:00:00\",\"2021-09-30T00:00:00\",\"2021-09-29T00:00:00\",\"2021-09-28T00:00:00\",\"2021-09-27T00:00:00\",\"2021-09-24T00:00:00\",\"2021-09-23T00:00:00\",\"2021-09-22T00:00:00\",\"2021-09-21T00:00:00\",\"2021-09-20T00:00:00\",\"2021-09-17T00:00:00\",\"2021-09-16T00:00:00\",\"2021-09-15T00:00:00\",\"2021-09-14T00:00:00\",\"2021-09-13T00:00:00\",\"2021-09-10T00:00:00\",\"2021-09-09T00:00:00\",\"2021-09-08T00:00:00\",\"2021-09-07T00:00:00\",\"2021-09-03T00:00:00\",\"2021-09-02T00:00:00\",\"2021-09-01T00:00:00\",\"2021-08-31T00:00:00\",\"2021-08-30T00:00:00\",\"2021-08-27T00:00:00\",\"2021-08-26T00:00:00\",\"2021-08-25T00:00:00\",\"2021-08-24T00:00:00\",\"2021-08-23T00:00:00\",\"2021-08-20T00:00:00\",\"2021-08-19T00:00:00\",\"2021-08-18T00:00:00\",\"2021-08-17T00:00:00\",\"2021-08-16T00:00:00\",\"2021-08-13T00:00:00\",\"2021-08-12T00:00:00\",\"2021-08-11T00:00:00\",\"2021-08-10T00:00:00\",\"2021-08-09T00:00:00\",\"2021-08-06T00:00:00\",\"2021-08-05T00:00:00\",\"2021-08-04T00:00:00\",\"2021-08-03T00:00:00\",\"2021-08-02T00:00:00\",\"2021-07-30T00:00:00\",\"2021-07-29T00:00:00\",\"2021-07-28T00:00:00\",\"2021-07-27T00:00:00\",\"2021-07-26T00:00:00\",\"2021-07-23T00:00:00\",\"2021-07-22T00:00:00\",\"2021-07-21T00:00:00\",\"2021-07-20T00:00:00\",\"2021-07-19T00:00:00\",\"2021-07-16T00:00:00\",\"2021-07-15T00:00:00\",\"2021-07-14T00:00:00\",\"2021-07-13T00:00:00\",\"2021-07-12T00:00:00\",\"2021-07-09T00:00:00\",\"2021-07-08T00:00:00\",\"2021-07-07T00:00:00\",\"2021-07-06T00:00:00\",\"2021-07-02T00:00:00\",\"2021-07-01T00:00:00\",\"2021-06-30T00:00:00\",\"2021-06-29T00:00:00\",\"2021-06-28T00:00:00\",\"2021-06-25T00:00:00\",\"2021-06-24T00:00:00\",\"2021-06-23T00:00:00\",\"2021-06-22T00:00:00\",\"2021-06-21T00:00:00\",\"2021-06-18T00:00:00\",\"2021-06-17T00:00:00\",\"2021-06-16T00:00:00\",\"2021-06-15T00:00:00\",\"2021-06-14T00:00:00\",\"2021-06-11T00:00:00\",\"2021-06-10T00:00:00\",\"2021-06-09T00:00:00\",\"2021-06-08T00:00:00\",\"2021-06-07T00:00:00\",\"2021-06-04T00:00:00\",\"2021-06-03T00:00:00\",\"2021-06-02T00:00:00\",\"2021-06-01T00:00:00\",\"2021-05-28T00:00:00\",\"2021-05-27T00:00:00\",\"2021-05-26T00:00:00\",\"2021-05-25T00:00:00\",\"2021-05-24T00:00:00\",\"2021-05-21T00:00:00\",\"2021-05-20T00:00:00\",\"2021-05-19T00:00:00\",\"2021-05-18T00:00:00\",\"2021-05-17T00:00:00\",\"2021-05-14T00:00:00\",\"2021-05-13T00:00:00\",\"2021-05-12T00:00:00\",\"2021-05-11T00:00:00\",\"2021-05-10T00:00:00\"],\"xaxis\":\"x\",\"y\":[13.55,13.76,13.69,13.73,13.87,13.93,13.82,13.93,14.23,14.3,14.43,13.96,12.8,12.95,12.81,12.41,13.22,13.95,14.12,13.96,14.68,14.45,14.24,14.07,13.79,13.99,13.57,13.42,14.04,14.27,14.02,14.32,14.36,14.48,15.15,14.55,14.32,14.31,14.17,14.34,14.77,14.4,14.04,13.64,14.21,14.51,14.62,14.5,14.29,14.13,14.62,14.3,13.27,13.25,13.57,13.79,14.17,14.1,14.76,15.56,15.25,15.67,17.06,17.16,17.51,17.2,17.04,16.8,16.13,16.19,16.78,16.01,15.87,15.73,16.62,16.7,17.71,18.26,17.63,18.02,18.35,17.1,17.12,17.29,16.78,16.53,16.36,16.52,16.55,16.63,16.99,17.07,16.79,17.32,16.99,16.85,16.56,16.66,16.08,16.75,16.95,16.89,17.31,19.67,19.44,19.43,19.9,19.73,18.29,18.53,18.56,18.99,17.77,17.95,18.4,18.7,19.11,17.65,17.09,17.4,16.84,15.42,14.6,14.3,14.14,14.2,14.23,14.51,14.86,14.86,14.67,13.97,13.86,13.79,13.51,13.75,13.4,13.5,14.06,14.08,13.86,13.87,13.66,14.07,14.55,13.77,13.93,14.1,14.45,14.85,14.9,14.91,14.3,14.0,14.31,14.53,15.0,14.79,15.03,15.26,15.69,15.79,16.38,16.42,16.91,16.48,17.06,17.4,17.98,17.72,17.66,17.62,18.35,18.31,17.7,18.11,17.62,17.27,16.71,16.48,16.39,15.29,15.18,14.58,14.86,15.14,15.76,15.45,15.53,15.77,15.3,14.29,13.5,13.71,14.06],\"yaxis\":\"y\",\"type\":\"scatter\"}],                        {\"template\":{\"data\":{\"pie\":[{\"automargin\":true,\"type\":\"pie\"}]},\"layout\":{\"xaxis\":{\"showgrid\":true,\"title\":{\"standoff\":15}},\"yaxis\":{\"showgrid\":true,\"title\":{\"standoff\":15}}}},\"xaxis\":{\"anchor\":\"y\",\"domain\":[0.0,1.0],\"title\":{\"text\":\"Date\"}},\"yaxis\":{\"anchor\":\"x\",\"domain\":[0.0,1.0],\"title\":{\"text\":\"Close\"}},\"legend\":{\"title\":{\"text\":\"Name\"},\"tracegroupgap\":0},\"title\":{\"text\":\"Cresud S.A. - Banco Macro S.A.\"}},                        {\"responsive\": true}                    ).then(function(){\n",
              "                            \n",
              "var gd = document.getElementById('a161ce2b-0cb9-4408-a50f-9bba00de6732');\n",
              "var x = new MutationObserver(function (mutations, observer) {{\n",
              "        var display = window.getComputedStyle(gd).display;\n",
              "        if (!display || display === 'none') {{\n",
              "            console.log([gd, 'removed!']);\n",
              "            Plotly.purge(gd);\n",
              "            observer.disconnect();\n",
              "        }}\n",
              "}});\n",
              "\n",
              "// Listen for the removal of the full notebook cells\n",
              "var notebookContainer = gd.closest('#notebook-container');\n",
              "if (notebookContainer) {{\n",
              "    x.observe(notebookContainer, {childList: true});\n",
              "}}\n",
              "\n",
              "// Listen for the clearing of the current output cell\n",
              "var outputEl = gd.closest('.output');\n",
              "if (outputEl) {{\n",
              "    x.observe(outputEl, {childList: true});\n",
              "}}\n",
              "\n",
              "                        })                };                            </script>        </div>\n",
              "</body>\n",
              "</html>"
            ]
          },
          "metadata": {}
        }
      ]
    },
    {
      "cell_type": "markdown",
      "metadata": {
        "id": "p320i7zVrees"
      },
      "source": [
        "**Realice el mismo gráfico para las acciones BMA (Banco Macro S.A.) y TECO2 (Telecom de Argentina S.A.) de la CARTERA**\n",
        "\n",
        "**En otra celca realice un gráfico lineal con todas las acciones**\n",
        "\n",
        "<a href=\"#respuesta02\">Respuesta sugerida</a>"
      ]
    },
    {
      "cell_type": "code",
      "metadata": {
        "id": "0wsJ6HFgrhUq"
      },
      "source": [
        "# Gráfico con BMA y TECO2"
      ],
      "execution_count": null,
      "outputs": []
    },
    {
      "cell_type": "code",
      "metadata": {
        "id": "6PtuRw-IrnDR"
      },
      "source": [
        "# Gráfico con CARTERA"
      ],
      "execution_count": null,
      "outputs": []
    },
    {
      "cell_type": "markdown",
      "metadata": {
        "id": "J7wUmp8611rC"
      },
      "source": [
        "## Gráfico de barras"
      ]
    },
    {
      "cell_type": "markdown",
      "metadata": {
        "id": "Mx5tnua22D60"
      },
      "source": [
        "Ejemplo para los totales de las cuentas a cobrar"
      ]
    },
    {
      "cell_type": "code",
      "metadata": {
        "colab": {
          "base_uri": "https://localhost:8080/",
          "height": 542
        },
        "id": "x6zsOcCk3Oj4",
        "outputId": "2b577680-b101-4177-b9ba-a4711ac9f97d"
      },
      "source": [
        "fig = px.bar(agrupacion_cobros, \n",
        "             x=\"ORGANIZACION\", \n",
        "             y=\"TOTAL\", \n",
        "             color=\"TOTAL\",\n",
        "             template=\"gridon\", \n",
        "             title=\"Cuentas a Cobrar\")\n",
        "fig.show()"
      ],
      "execution_count": null,
      "outputs": [
        {
          "output_type": "display_data",
          "data": {
            "text/html": [
              "<html>\n",
              "<head><meta charset=\"utf-8\" /></head>\n",
              "<body>\n",
              "    <div>            <script src=\"https://cdnjs.cloudflare.com/ajax/libs/mathjax/2.7.5/MathJax.js?config=TeX-AMS-MML_SVG\"></script><script type=\"text/javascript\">if (window.MathJax) {MathJax.Hub.Config({SVG: {font: \"STIX-Web\"}});}</script>                <script type=\"text/javascript\">window.PlotlyConfig = {MathJaxConfig: 'local'};</script>\n",
              "        <script src=\"https://cdn.plot.ly/plotly-2.8.3.min.js\"></script>                <div id=\"71b39947-bb59-4d4a-914e-165244f9316e\" class=\"plotly-graph-div\" style=\"height:525px; width:100%;\"></div>            <script type=\"text/javascript\">                                    window.PLOTLYENV=window.PLOTLYENV || {};                                    if (document.getElementById(\"71b39947-bb59-4d4a-914e-165244f9316e\")) {                    Plotly.newPlot(                        \"71b39947-bb59-4d4a-914e-165244f9316e\",                        [{\"alignmentgroup\":\"True\",\"hovertemplate\":\"ORGANIZACION=%{x}<br>TOTAL=%{marker.color}<extra></extra>\",\"legendgroup\":\"\",\"marker\":{\"color\":[259090.0,5445.0,72600.0,1500.0,519549.8,571725.0,76230.0,640601.83,184525.0,550477.4,249925.5],\"coloraxis\":\"coloraxis\",\"pattern\":{\"shape\":\"\"}},\"name\":\"\",\"offsetgroup\":\"\",\"orientation\":\"v\",\"showlegend\":false,\"textposition\":\"auto\",\"x\":[\"Algorte S.A.\",\"Berker S.R.L\",\"Campomas S.A.\",\"Consumidor Final\",\"Galardon S.A.\",\"Hernandez S.A.\",\"Horacio Aguirre\",\"Horizonte S.A.\",\"Ignition S.A.C.I\",\"Manganello S.R.L\",\"Nicolasen y Asociados S.A.\"],\"xaxis\":\"x\",\"y\":[259090.0,5445.0,72600.0,1500.0,519549.8,571725.0,76230.0,640601.83,184525.0,550477.4,249925.5],\"yaxis\":\"y\",\"type\":\"bar\"}],                        {\"template\":{\"data\":{\"pie\":[{\"automargin\":true,\"type\":\"pie\"}]},\"layout\":{\"xaxis\":{\"showgrid\":true,\"title\":{\"standoff\":15}},\"yaxis\":{\"showgrid\":true,\"title\":{\"standoff\":15}}}},\"xaxis\":{\"anchor\":\"y\",\"domain\":[0.0,1.0],\"title\":{\"text\":\"ORGANIZACION\"}},\"yaxis\":{\"anchor\":\"x\",\"domain\":[0.0,1.0],\"title\":{\"text\":\"TOTAL\"}},\"coloraxis\":{\"colorbar\":{\"title\":{\"text\":\"TOTAL\"}},\"colorscale\":[[0.0,\"#440154\"],[0.1111111111111111,\"#482878\"],[0.2222222222222222,\"#3e4989\"],[0.3333333333333333,\"#31688e\"],[0.4444444444444444,\"#26828e\"],[0.5555555555555556,\"#1f9e89\"],[0.6666666666666666,\"#35b779\"],[0.7777777777777778,\"#6ece58\"],[0.8888888888888888,\"#b5de2b\"],[1.0,\"#fde725\"]]},\"legend\":{\"tracegroupgap\":0},\"title\":{\"text\":\"Cuentas a Cobrar\"},\"barmode\":\"relative\"},                        {\"responsive\": true}                    ).then(function(){\n",
              "                            \n",
              "var gd = document.getElementById('71b39947-bb59-4d4a-914e-165244f9316e');\n",
              "var x = new MutationObserver(function (mutations, observer) {{\n",
              "        var display = window.getComputedStyle(gd).display;\n",
              "        if (!display || display === 'none') {{\n",
              "            console.log([gd, 'removed!']);\n",
              "            Plotly.purge(gd);\n",
              "            observer.disconnect();\n",
              "        }}\n",
              "}});\n",
              "\n",
              "// Listen for the removal of the full notebook cells\n",
              "var notebookContainer = gd.closest('#notebook-container');\n",
              "if (notebookContainer) {{\n",
              "    x.observe(notebookContainer, {childList: true});\n",
              "}}\n",
              "\n",
              "// Listen for the clearing of the current output cell\n",
              "var outputEl = gd.closest('.output');\n",
              "if (outputEl) {{\n",
              "    x.observe(outputEl, {childList: true});\n",
              "}}\n",
              "\n",
              "                        })                };                            </script>        </div>\n",
              "</body>\n",
              "</html>"
            ]
          },
          "metadata": {}
        }
      ]
    },
    {
      "cell_type": "markdown",
      "metadata": {
        "id": "edSPMMpQ4fYG"
      },
      "source": [
        "**Realice el mismo gráfico para los totales de las cuentas a cobrar, pero que la leyenda identifique a cada cliente (ORGANIZACION)**\n",
        "\n",
        "<a href=\"#respuesta03\">Respuesta sugerida</a>"
      ]
    },
    {
      "cell_type": "code",
      "metadata": {
        "id": "RwBw-pUu4zs4"
      },
      "source": [
        "# Grafico de las cuentas a cobrar, con leyenda por cliente"
      ],
      "execution_count": null,
      "outputs": []
    },
    {
      "cell_type": "markdown",
      "metadata": {
        "id": "3REe8mjg_s7n"
      },
      "source": [
        "## Gráfico de Cajas - Box Plots"
      ]
    },
    {
      "cell_type": "markdown",
      "metadata": {
        "id": "xofIhF2KAbGB"
      },
      "source": [
        "Ejemplo para las acciones CRES (Cresud S.A.) de la CARTERA"
      ]
    },
    {
      "cell_type": "code",
      "metadata": {
        "colab": {
          "base_uri": "https://localhost:8080/",
          "height": 542
        },
        "id": "Xj0p3ZcgAfFk",
        "outputId": "133cce75-77bb-4062-b2a2-abd9c4d52083"
      },
      "source": [
        "df = CARTERA.query(\"Name=='CRES'\")\n",
        "fig = px.box(df, \n",
        "             x=\"Name\", \n",
        "             y=\"Close\", \n",
        "             template=\"gridon\",\n",
        "             title=\"Cresud S.A.\", \n",
        "             points=\"all\")\n",
        "fig.show()"
      ],
      "execution_count": null,
      "outputs": [
        {
          "output_type": "display_data",
          "data": {
            "text/html": [
              "<html>\n",
              "<head><meta charset=\"utf-8\" /></head>\n",
              "<body>\n",
              "    <div>            <script src=\"https://cdnjs.cloudflare.com/ajax/libs/mathjax/2.7.5/MathJax.js?config=TeX-AMS-MML_SVG\"></script><script type=\"text/javascript\">if (window.MathJax) {MathJax.Hub.Config({SVG: {font: \"STIX-Web\"}});}</script>                <script type=\"text/javascript\">window.PlotlyConfig = {MathJaxConfig: 'local'};</script>\n",
              "        <script src=\"https://cdn.plot.ly/plotly-2.8.3.min.js\"></script>                <div id=\"838f1b8b-76f1-4a06-a1bc-e6709e15fca1\" class=\"plotly-graph-div\" style=\"height:525px; width:100%;\"></div>            <script type=\"text/javascript\">                                    window.PLOTLYENV=window.PLOTLYENV || {};                                    if (document.getElementById(\"838f1b8b-76f1-4a06-a1bc-e6709e15fca1\")) {                    Plotly.newPlot(                        \"838f1b8b-76f1-4a06-a1bc-e6709e15fca1\",                        [{\"alignmentgroup\":\"True\",\"boxpoints\":\"all\",\"hovertemplate\":\"Name=%{x}<br>Close=%{y}<extra></extra>\",\"legendgroup\":\"\",\"marker\":{\"color\":\"#1F77B4\"},\"name\":\"\",\"notched\":false,\"offsetgroup\":\"\",\"orientation\":\"v\",\"showlegend\":false,\"x\":[\"CRES\",\"CRES\",\"CRES\",\"CRES\",\"CRES\",\"CRES\",\"CRES\",\"CRES\",\"CRES\",\"CRES\",\"CRES\",\"CRES\",\"CRES\",\"CRES\",\"CRES\",\"CRES\",\"CRES\",\"CRES\",\"CRES\",\"CRES\",\"CRES\",\"CRES\",\"CRES\",\"CRES\",\"CRES\",\"CRES\",\"CRES\",\"CRES\",\"CRES\",\"CRES\",\"CRES\",\"CRES\",\"CRES\",\"CRES\",\"CRES\",\"CRES\",\"CRES\",\"CRES\",\"CRES\",\"CRES\",\"CRES\",\"CRES\",\"CRES\",\"CRES\",\"CRES\",\"CRES\",\"CRES\",\"CRES\",\"CRES\",\"CRES\",\"CRES\",\"CRES\",\"CRES\",\"CRES\",\"CRES\",\"CRES\",\"CRES\",\"CRES\",\"CRES\",\"CRES\",\"CRES\",\"CRES\",\"CRES\",\"CRES\",\"CRES\",\"CRES\",\"CRES\",\"CRES\",\"CRES\",\"CRES\",\"CRES\",\"CRES\",\"CRES\",\"CRES\",\"CRES\",\"CRES\",\"CRES\",\"CRES\",\"CRES\",\"CRES\",\"CRES\",\"CRES\",\"CRES\",\"CRES\",\"CRES\",\"CRES\",\"CRES\",\"CRES\",\"CRES\",\"CRES\",\"CRES\",\"CRES\",\"CRES\",\"CRES\",\"CRES\",\"CRES\",\"CRES\",\"CRES\",\"CRES\",\"CRES\",\"CRES\",\"CRES\",\"CRES\",\"CRES\",\"CRES\",\"CRES\",\"CRES\",\"CRES\",\"CRES\",\"CRES\",\"CRES\",\"CRES\",\"CRES\",\"CRES\",\"CRES\",\"CRES\",\"CRES\",\"CRES\",\"CRES\",\"CRES\",\"CRES\",\"CRES\",\"CRES\",\"CRES\",\"CRES\",\"CRES\",\"CRES\",\"CRES\",\"CRES\",\"CRES\",\"CRES\",\"CRES\",\"CRES\",\"CRES\",\"CRES\",\"CRES\",\"CRES\",\"CRES\",\"CRES\",\"CRES\",\"CRES\",\"CRES\",\"CRES\",\"CRES\",\"CRES\",\"CRES\",\"CRES\",\"CRES\",\"CRES\",\"CRES\",\"CRES\",\"CRES\",\"CRES\",\"CRES\",\"CRES\",\"CRES\",\"CRES\",\"CRES\",\"CRES\",\"CRES\",\"CRES\",\"CRES\",\"CRES\",\"CRES\",\"CRES\",\"CRES\",\"CRES\",\"CRES\",\"CRES\",\"CRES\",\"CRES\",\"CRES\",\"CRES\",\"CRES\",\"CRES\",\"CRES\",\"CRES\",\"CRES\",\"CRES\",\"CRES\",\"CRES\",\"CRES\",\"CRES\",\"CRES\",\"CRES\",\"CRES\",\"CRES\",\"CRES\",\"CRES\",\"CRES\",\"CRES\",\"CRES\",\"CRES\",\"CRES\",\"CRES\"],\"x0\":\" \",\"xaxis\":\"x\",\"y\":[5.59,5.49,5.52,5.46,5.3,5.31,5.09,5.07,5.08,5.09,5.08,5.04,4.79,4.89,4.94,4.85,4.83,5.0,4.97,4.93,4.98,4.84,4.89,4.75,4.69,4.64,4.6,4.62,4.87,4.74,4.72,4.77,4.6,4.7,4.715,4.75,4.81,4.64,4.62,4.71,4.67,4.65,4.76,5.0,5.17,5.0,5.05,4.92,4.74,4.57,4.71,4.56,4.44,4.49,4.49,4.59,4.52,4.48,4.55,4.89,4.93,5.01,5.05,5.13,5.1,5.16,5.25,5.19,5.27,5.15,5.26,5.25,5.32,5.3,5.49,5.52,5.57,5.6,5.64,5.79,5.85,5.66,5.67,5.58,5.44,5.04,5.21,5.18,5.04,5.0,5.01,5.15,5.16,4.93,4.85,4.86,4.9,5.07,4.91,5.05,4.97,4.93,4.86,5.19,5.47,5.46,5.46,5.59,5.33,5.53,5.65,5.85,5.61,5.7,5.72,5.82,5.92,5.67,5.49,5.49,5.61,5.41,5.32,5.13,5.45,5.64,5.76,5.89,6.05,5.88,6.02,6.0,6.14,6.23,6.2,6.19,6.35,6.29,6.45,6.33,6.18,6.4,6.35,6.5,6.41,6.07,5.86,6.31,6.48,6.6,6.72,6.56,6.79,6.5,6.35,6.38,6.53,6.2,5.98,5.91,5.82,6.08,6.27,6.26,6.2,6.22,6.26,6.41,6.89,6.94,7.14,7.06,7.17,7.24,7.0,7.29,6.79,6.95,6.64,6.41,6.29,6.24,6.39,6.13,6.48,6.6,6.9,6.68,7.03,7.4,6.7,6.25,6.28,6.55,6.69],\"y0\":\" \",\"yaxis\":\"y\",\"type\":\"box\"}],                        {\"template\":{\"data\":{\"pie\":[{\"automargin\":true,\"type\":\"pie\"}]},\"layout\":{\"xaxis\":{\"showgrid\":true,\"title\":{\"standoff\":15}},\"yaxis\":{\"showgrid\":true,\"title\":{\"standoff\":15}}}},\"xaxis\":{\"anchor\":\"y\",\"domain\":[0.0,1.0],\"title\":{\"text\":\"Name\"}},\"yaxis\":{\"anchor\":\"x\",\"domain\":[0.0,1.0],\"title\":{\"text\":\"Close\"}},\"legend\":{\"tracegroupgap\":0},\"title\":{\"text\":\"Cresud S.A.\"},\"boxmode\":\"group\"},                        {\"responsive\": true}                    ).then(function(){\n",
              "                            \n",
              "var gd = document.getElementById('838f1b8b-76f1-4a06-a1bc-e6709e15fca1');\n",
              "var x = new MutationObserver(function (mutations, observer) {{\n",
              "        var display = window.getComputedStyle(gd).display;\n",
              "        if (!display || display === 'none') {{\n",
              "            console.log([gd, 'removed!']);\n",
              "            Plotly.purge(gd);\n",
              "            observer.disconnect();\n",
              "        }}\n",
              "}});\n",
              "\n",
              "// Listen for the removal of the full notebook cells\n",
              "var notebookContainer = gd.closest('#notebook-container');\n",
              "if (notebookContainer) {{\n",
              "    x.observe(notebookContainer, {childList: true});\n",
              "}}\n",
              "\n",
              "// Listen for the clearing of the current output cell\n",
              "var outputEl = gd.closest('.output');\n",
              "if (outputEl) {{\n",
              "    x.observe(outputEl, {childList: true});\n",
              "}}\n",
              "\n",
              "                        })                };                            </script>        </div>\n",
              "</body>\n",
              "</html>"
            ]
          },
          "metadata": {}
        }
      ]
    },
    {
      "cell_type": "markdown",
      "metadata": {
        "id": "RVdPyJFwEvXt"
      },
      "source": [
        "**Realice el mismo gráfico para las acciones CRES (Cresud S.A.) y TEO (Telecom de Argentina S.A.) de la CARTERA**\n",
        "\n",
        "<a href=\"#respuesta04\">Respuesta sugerida</a>"
      ]
    },
    {
      "cell_type": "code",
      "metadata": {
        "id": "sGNQqRcyE8dY"
      },
      "source": [
        "# Box Plots para CRES y TECO2"
      ],
      "execution_count": null,
      "outputs": []
    },
    {
      "cell_type": "markdown",
      "metadata": {
        "id": "WLdbj-YkHqXA"
      },
      "source": [
        "# Gráficos financieros"
      ]
    },
    {
      "cell_type": "markdown",
      "metadata": {
        "id": "xnJErbAgKpdu"
      },
      "source": [
        "## Gráfico de Velas - Candlestick"
      ]
    },
    {
      "cell_type": "code",
      "metadata": {
        "colab": {
          "base_uri": "https://localhost:8080/",
          "height": 206
        },
        "id": "2N80oTd7Gsgb",
        "outputId": "6eb77f51-72dd-447a-f20a-0660bdaf4516"
      },
      "source": [
        "CRES.head()"
      ],
      "execution_count": null,
      "outputs": [
        {
          "output_type": "execute_result",
          "data": {
            "text/html": [
              "\n",
              "  <div id=\"df-05980432-26be-4345-afac-fecf46c09d27\">\n",
              "    <div class=\"colab-df-container\">\n",
              "      <div>\n",
              "<style scoped>\n",
              "    .dataframe tbody tr th:only-of-type {\n",
              "        vertical-align: middle;\n",
              "    }\n",
              "\n",
              "    .dataframe tbody tr th {\n",
              "        vertical-align: top;\n",
              "    }\n",
              "\n",
              "    .dataframe thead th {\n",
              "        text-align: right;\n",
              "    }\n",
              "</style>\n",
              "<table border=\"1\" class=\"dataframe\">\n",
              "  <thead>\n",
              "    <tr style=\"text-align: right;\">\n",
              "      <th></th>\n",
              "      <th>Open</th>\n",
              "      <th>Date</th>\n",
              "      <th>Day</th>\n",
              "      <th>High</th>\n",
              "      <th>Low</th>\n",
              "      <th>Close</th>\n",
              "      <th>Volume</th>\n",
              "      <th>Pct_Change</th>\n",
              "      <th>Diff</th>\n",
              "      <th>Name</th>\n",
              "    </tr>\n",
              "  </thead>\n",
              "  <tbody>\n",
              "    <tr>\n",
              "      <th>0</th>\n",
              "      <td>5.45</td>\n",
              "      <td>2022-02-14</td>\n",
              "      <td>Monday</td>\n",
              "      <td>5.64</td>\n",
              "      <td>5.2400</td>\n",
              "      <td>5.59</td>\n",
              "      <td>66103</td>\n",
              "      <td>-2.101576</td>\n",
              "      <td>-0.12</td>\n",
              "      <td>CRES</td>\n",
              "    </tr>\n",
              "    <tr>\n",
              "      <th>1</th>\n",
              "      <td>5.70</td>\n",
              "      <td>2022-02-11</td>\n",
              "      <td>Friday</td>\n",
              "      <td>5.70</td>\n",
              "      <td>5.3900</td>\n",
              "      <td>5.49</td>\n",
              "      <td>76314</td>\n",
              "      <td>-1.788909</td>\n",
              "      <td>-0.10</td>\n",
              "      <td>CRES</td>\n",
              "    </tr>\n",
              "    <tr>\n",
              "      <th>2</th>\n",
              "      <td>5.23</td>\n",
              "      <td>2022-02-10</td>\n",
              "      <td>Thursday</td>\n",
              "      <td>5.75</td>\n",
              "      <td>5.2224</td>\n",
              "      <td>5.52</td>\n",
              "      <td>209878</td>\n",
              "      <td>0.546448</td>\n",
              "      <td>0.03</td>\n",
              "      <td>CRES</td>\n",
              "    </tr>\n",
              "    <tr>\n",
              "      <th>3</th>\n",
              "      <td>5.32</td>\n",
              "      <td>2022-02-09</td>\n",
              "      <td>Wednesday</td>\n",
              "      <td>5.57</td>\n",
              "      <td>5.2200</td>\n",
              "      <td>5.46</td>\n",
              "      <td>127166</td>\n",
              "      <td>-1.086957</td>\n",
              "      <td>-0.06</td>\n",
              "      <td>CRES</td>\n",
              "    </tr>\n",
              "    <tr>\n",
              "      <th>4</th>\n",
              "      <td>5.30</td>\n",
              "      <td>2022-02-08</td>\n",
              "      <td>Tuesday</td>\n",
              "      <td>5.32</td>\n",
              "      <td>5.0700</td>\n",
              "      <td>5.30</td>\n",
              "      <td>163672</td>\n",
              "      <td>-2.930403</td>\n",
              "      <td>-0.16</td>\n",
              "      <td>CRES</td>\n",
              "    </tr>\n",
              "  </tbody>\n",
              "</table>\n",
              "</div>\n",
              "      <button class=\"colab-df-convert\" onclick=\"convertToInteractive('df-05980432-26be-4345-afac-fecf46c09d27')\"\n",
              "              title=\"Convert this dataframe to an interactive table.\"\n",
              "              style=\"display:none;\">\n",
              "        \n",
              "  <svg xmlns=\"http://www.w3.org/2000/svg\" height=\"24px\"viewBox=\"0 0 24 24\"\n",
              "       width=\"24px\">\n",
              "    <path d=\"M0 0h24v24H0V0z\" fill=\"none\"/>\n",
              "    <path d=\"M18.56 5.44l.94 2.06.94-2.06 2.06-.94-2.06-.94-.94-2.06-.94 2.06-2.06.94zm-11 1L8.5 8.5l.94-2.06 2.06-.94-2.06-.94L8.5 2.5l-.94 2.06-2.06.94zm10 10l.94 2.06.94-2.06 2.06-.94-2.06-.94-.94-2.06-.94 2.06-2.06.94z\"/><path d=\"M17.41 7.96l-1.37-1.37c-.4-.4-.92-.59-1.43-.59-.52 0-1.04.2-1.43.59L10.3 9.45l-7.72 7.72c-.78.78-.78 2.05 0 2.83L4 21.41c.39.39.9.59 1.41.59.51 0 1.02-.2 1.41-.59l7.78-7.78 2.81-2.81c.8-.78.8-2.07 0-2.86zM5.41 20L4 18.59l7.72-7.72 1.47 1.35L5.41 20z\"/>\n",
              "  </svg>\n",
              "      </button>\n",
              "      \n",
              "  <style>\n",
              "    .colab-df-container {\n",
              "      display:flex;\n",
              "      flex-wrap:wrap;\n",
              "      gap: 12px;\n",
              "    }\n",
              "\n",
              "    .colab-df-convert {\n",
              "      background-color: #E8F0FE;\n",
              "      border: none;\n",
              "      border-radius: 50%;\n",
              "      cursor: pointer;\n",
              "      display: none;\n",
              "      fill: #1967D2;\n",
              "      height: 32px;\n",
              "      padding: 0 0 0 0;\n",
              "      width: 32px;\n",
              "    }\n",
              "\n",
              "    .colab-df-convert:hover {\n",
              "      background-color: #E2EBFA;\n",
              "      box-shadow: 0px 1px 2px rgba(60, 64, 67, 0.3), 0px 1px 3px 1px rgba(60, 64, 67, 0.15);\n",
              "      fill: #174EA6;\n",
              "    }\n",
              "\n",
              "    [theme=dark] .colab-df-convert {\n",
              "      background-color: #3B4455;\n",
              "      fill: #D2E3FC;\n",
              "    }\n",
              "\n",
              "    [theme=dark] .colab-df-convert:hover {\n",
              "      background-color: #434B5C;\n",
              "      box-shadow: 0px 1px 3px 1px rgba(0, 0, 0, 0.15);\n",
              "      filter: drop-shadow(0px 1px 2px rgba(0, 0, 0, 0.3));\n",
              "      fill: #FFFFFF;\n",
              "    }\n",
              "  </style>\n",
              "\n",
              "      <script>\n",
              "        const buttonEl =\n",
              "          document.querySelector('#df-05980432-26be-4345-afac-fecf46c09d27 button.colab-df-convert');\n",
              "        buttonEl.style.display =\n",
              "          google.colab.kernel.accessAllowed ? 'block' : 'none';\n",
              "\n",
              "        async function convertToInteractive(key) {\n",
              "          const element = document.querySelector('#df-05980432-26be-4345-afac-fecf46c09d27');\n",
              "          const dataTable =\n",
              "            await google.colab.kernel.invokeFunction('convertToInteractive',\n",
              "                                                     [key], {});\n",
              "          if (!dataTable) return;\n",
              "\n",
              "          const docLinkHtml = 'Like what you see? Visit the ' +\n",
              "            '<a target=\"_blank\" href=https://colab.research.google.com/notebooks/data_table.ipynb>data table notebook</a>'\n",
              "            + ' to learn more about interactive tables.';\n",
              "          element.innerHTML = '';\n",
              "          dataTable['output_type'] = 'display_data';\n",
              "          await google.colab.output.renderOutput(dataTable, element);\n",
              "          const docLink = document.createElement('div');\n",
              "          docLink.innerHTML = docLinkHtml;\n",
              "          element.appendChild(docLink);\n",
              "        }\n",
              "      </script>\n",
              "    </div>\n",
              "  </div>\n",
              "  "
            ],
            "text/plain": [
              "   Open       Date        Day  High  ...  Volume  Pct_Change  Diff  Name\n",
              "0  5.45 2022-02-14     Monday  5.64  ...   66103   -2.101576 -0.12  CRES\n",
              "1  5.70 2022-02-11     Friday  5.70  ...   76314   -1.788909 -0.10  CRES\n",
              "2  5.23 2022-02-10   Thursday  5.75  ...  209878    0.546448  0.03  CRES\n",
              "3  5.32 2022-02-09  Wednesday  5.57  ...  127166   -1.086957 -0.06  CRES\n",
              "4  5.30 2022-02-08    Tuesday  5.32  ...  163672   -2.930403 -0.16  CRES\n",
              "\n",
              "[5 rows x 10 columns]"
            ]
          },
          "metadata": {},
          "execution_count": 14
        }
      ]
    },
    {
      "cell_type": "code",
      "metadata": {
        "colab": {
          "base_uri": "https://localhost:8080/",
          "height": 542
        },
        "id": "LO7SjUh9F5WG",
        "outputId": "b1f2c45b-99bd-4b14-e83c-e0a3cc2bd3a5"
      },
      "source": [
        "fig = go.Figure(data=[go.Candlestick(x=CRES[\"Date\"],\n",
        "                open=CRES[\"Open\"],\n",
        "                high=CRES[\"High\"],\n",
        "                low=CRES[\"Low\"],\n",
        "                close=CRES[\"Close\"])])\n",
        "\n",
        "fig.update_layout(title=\"Cresud S.A.\")\n",
        "\n",
        "fig.show()"
      ],
      "execution_count": null,
      "outputs": [
        {
          "output_type": "display_data",
          "data": {
            "text/html": [
              "<html>\n",
              "<head><meta charset=\"utf-8\" /></head>\n",
              "<body>\n",
              "    <div>            <script src=\"https://cdnjs.cloudflare.com/ajax/libs/mathjax/2.7.5/MathJax.js?config=TeX-AMS-MML_SVG\"></script><script type=\"text/javascript\">if (window.MathJax) {MathJax.Hub.Config({SVG: {font: \"STIX-Web\"}});}</script>                <script type=\"text/javascript\">window.PlotlyConfig = {MathJaxConfig: 'local'};</script>\n",
              "        <script src=\"https://cdn.plot.ly/plotly-2.8.3.min.js\"></script>                <div id=\"9ecbbefb-489d-4bfb-bf1b-a13e5cecc3a8\" class=\"plotly-graph-div\" style=\"height:525px; width:100%;\"></div>            <script type=\"text/javascript\">                                    window.PLOTLYENV=window.PLOTLYENV || {};                                    if (document.getElementById(\"9ecbbefb-489d-4bfb-bf1b-a13e5cecc3a8\")) {                    Plotly.newPlot(                        \"9ecbbefb-489d-4bfb-bf1b-a13e5cecc3a8\",                        [{\"close\":[5.59,5.49,5.52,5.46,5.3,5.31,5.09,5.07,5.08,5.09,5.08,5.04,4.79,4.89,4.94,4.85,4.83,5.0,4.97,4.93,4.98,4.84,4.89,4.75,4.69,4.64,4.6,4.62,4.87,4.74,4.72,4.77,4.6,4.7,4.715,4.75,4.81,4.64,4.62,4.71,4.67,4.65,4.76,5.0,5.17,5.0,5.05,4.92,4.74,4.57,4.71,4.56,4.44,4.49,4.49,4.59,4.52,4.48,4.55,4.89,4.93,5.01,5.05,5.13,5.1,5.16,5.25,5.19,5.27,5.15,5.26,5.25,5.32,5.3,5.49,5.52,5.57,5.6,5.64,5.79,5.85,5.66,5.67,5.58,5.44,5.04,5.21,5.18,5.04,5.0,5.01,5.15,5.16,4.93,4.85,4.86,4.9,5.07,4.91,5.05,4.97,4.93,4.86,5.19,5.47,5.46,5.46,5.59,5.33,5.53,5.65,5.85,5.61,5.7,5.72,5.82,5.92,5.67,5.49,5.49,5.61,5.41,5.32,5.13,5.45,5.64,5.76,5.89,6.05,5.88,6.02,6.0,6.14,6.23,6.2,6.19,6.35,6.29,6.45,6.33,6.18,6.4,6.35,6.5,6.41,6.07,5.86,6.31,6.48,6.6,6.72,6.56,6.79,6.5,6.35,6.38,6.53,6.2,5.98,5.91,5.82,6.08,6.27,6.26,6.2,6.22,6.26,6.41,6.89,6.94,7.14,7.06,7.17,7.24,7.0,7.29,6.79,6.95,6.64,6.41,6.29,6.24,6.39,6.13,6.48,6.6,6.9,6.68,7.03,7.4,6.7,6.25,6.28,6.55,6.69],\"high\":[5.64,5.7,5.75,5.57,5.32,5.33,5.14,5.14,5.14,5.15,5.13,5.07,4.96,5.03,5.02,4.89,4.98,5.13,4.99,4.97,5.06,5.06,4.9,4.78,4.7,4.73,4.82,4.9,4.9,4.87,4.8299,4.87,4.78,4.84,4.83,4.9,4.82,4.8,4.7,4.8,4.725,4.775,4.9829,5.03,5.17,5.08,5.12,4.9241,4.809,4.74,4.83,4.695,4.5,4.65,4.64,4.59,4.57,4.61,4.94,5.08,5.1,5.11,5.229,5.1406,5.24,5.28,5.285,5.38,5.31,5.2798,5.3,5.3,5.42,5.47,5.6,5.62,5.68,5.75,5.8,5.9098,5.9,5.7529,5.69,5.6299,5.45,5.29,5.28,5.3488,5.1099,5.075,5.0794,5.28,5.17,5.03,4.9543,4.97,5.18,5.07,5.07,5.1175,5.08,5.088,5.07,5.68,5.72,5.7856,5.68,5.8,5.62,5.7299,5.88,5.93,5.78,5.87,5.918,6.05,5.95,5.6927,5.59,5.65,5.67,5.4399,5.485,5.42,5.71,5.75,5.89,6.09,6.18,6.02,6.12,6.2,6.31,6.3299,6.211,6.49,6.44,6.505,6.49,6.4196,6.4,6.55,6.57,6.61,6.42,6.13,6.14,6.48,6.62,6.84,6.75,6.7404,6.85,6.53,6.44,6.6,6.6,6.26,6.01,5.95,6.142,6.38,6.42,6.35,6.29,6.35,6.38,6.84,7.035,7.225,7.2,7.2,7.45,7.35,7.3,7.29,7.09,7.04,6.69,6.57,6.48,6.42,6.49,6.59,6.79,7.0,6.97,7.295,7.55,7.5,6.78,6.42,6.52,6.85,6.81],\"low\":[5.24,5.39,5.2224,5.22,5.07,5.02,4.88,4.948,4.995,5.0,4.98,4.81,4.57,4.75,4.67,4.56,4.72,4.89,4.86,4.8,4.77,4.8064,4.752,4.66,4.57,4.57,4.56,4.62,4.76,4.7,4.72,4.61,4.6,4.64,4.68,4.75,4.65,4.57,4.555,4.5902,4.63,4.57,4.71,4.8,4.96,4.88,4.89,4.82,4.53,4.5014,4.53,4.45,4.27,4.46,4.282,4.46,4.46,4.35,4.47,4.7,4.85,4.96,5.0,4.99,5.05,5.06,5.2,5.19,5.1485,5.1,5.2002,5.25,5.275,5.24,5.44,5.51,5.55,5.57,5.57,5.75,5.65,5.61,5.56,5.44,5.1,5.01,5.16,4.99,4.96,4.88,4.91,5.08,4.96,4.91,4.78,4.78,4.9,4.85,4.85,4.95,4.94,4.82,4.77,5.17,5.3501,5.38,5.41,5.4749,5.26,5.53,5.53,5.53,5.58,5.7,5.6917,5.71,5.55,5.49,5.391,5.46,5.42,5.33,5.17,5.1262,5.4,5.39,5.75,5.85,5.7,5.84,5.91,5.92,6.03,6.22,6.11,6.1,6.3,6.21,6.35,6.1,6.1,6.29,6.3446,6.38,6.11,5.86,5.64,6.31,6.39,6.46,6.43,6.512,6.5,6.15,6.08,6.24,6.08,6.05,5.7,5.65,5.8,6.0,6.24,6.14,6.03,6.15,6.21,6.34,6.79,6.78,7.05,6.93,7.06,7.02,6.91,6.825,6.63,6.62,6.4,6.27,6.25,6.15,6.1,6.03,6.32,6.51,6.68,6.59,7.0,6.78,6.2901,6.1,6.25,6.48,6.4],\"open\":[5.45,5.7,5.23,5.32,5.3,5.13,4.88,5.08,5.03,5.08,5.06,4.84,4.89,4.905,4.945,4.73,4.98,5.0,4.98,4.84,4.84,4.9,4.8,4.7,4.64,4.57,4.81,4.9,4.79,4.7,4.78,4.61,4.73,4.7,4.73,4.83,4.69,4.74,4.62,4.66,4.66,4.73,4.95,4.95,5.05,5.02,4.91,4.89,4.61,4.64,4.83,4.52,4.49,4.58,4.5,4.53,4.5,4.61,4.81,4.93,5.1,5.11,5.17,5.12,5.24,5.28,5.2,5.3,5.18,5.26,5.28,5.3,5.29,5.47,5.55,5.59,5.59,5.61,5.8,5.83,5.7,5.74,5.6,5.53,5.15,5.29,5.23,4.99,4.96,4.96,5.04,5.09,4.98,4.92,4.85,4.97,4.97,4.91,5.0,5.0,4.96,4.9,5.07,5.68,5.72,5.75,5.65,5.8,5.61,5.63,5.84,5.61,5.72,5.76,5.83,5.94,5.7,5.49,5.54,5.62,5.46,5.38,5.25,5.32,5.61,5.75,5.85,6.02,5.86,6.02,6.0,6.14,6.31,6.27,6.21,6.37,6.35,6.49,6.45,6.28,6.38,6.29,6.57,6.5,6.11,5.97,6.14,6.48,6.51,6.79,6.5,6.71,6.56,6.24,6.36,6.6,6.19,6.05,5.9,5.8,6.11,6.28,6.29,6.22,6.28,6.34,6.36,6.82,6.93,7.17,7.1,7.19,7.24,7.02,7.3,6.84,7.05,6.68,6.48,6.35,6.27,6.42,6.19,6.54,6.67,6.99,6.68,7.295,7.43,6.82,6.3,6.33,6.455,6.68,6.4],\"x\":[\"2022-02-14T00:00:00\",\"2022-02-11T00:00:00\",\"2022-02-10T00:00:00\",\"2022-02-09T00:00:00\",\"2022-02-08T00:00:00\",\"2022-02-07T00:00:00\",\"2022-02-04T00:00:00\",\"2022-02-03T00:00:00\",\"2022-02-02T00:00:00\",\"2022-02-01T00:00:00\",\"2022-01-31T00:00:00\",\"2022-01-28T00:00:00\",\"2022-01-27T00:00:00\",\"2022-01-26T00:00:00\",\"2022-01-25T00:00:00\",\"2022-01-24T00:00:00\",\"2022-01-21T00:00:00\",\"2022-01-20T00:00:00\",\"2022-01-19T00:00:00\",\"2022-01-18T00:00:00\",\"2022-01-14T00:00:00\",\"2022-01-13T00:00:00\",\"2022-01-12T00:00:00\",\"2022-01-11T00:00:00\",\"2022-01-10T00:00:00\",\"2022-01-07T00:00:00\",\"2022-01-06T00:00:00\",\"2022-01-05T00:00:00\",\"2022-01-04T00:00:00\",\"2022-01-03T00:00:00\",\"2021-12-31T00:00:00\",\"2021-12-30T00:00:00\",\"2021-12-29T00:00:00\",\"2021-12-28T00:00:00\",\"2021-12-27T00:00:00\",\"2021-12-23T00:00:00\",\"2021-12-22T00:00:00\",\"2021-12-21T00:00:00\",\"2021-12-20T00:00:00\",\"2021-12-17T00:00:00\",\"2021-12-16T00:00:00\",\"2021-12-15T00:00:00\",\"2021-12-14T00:00:00\",\"2021-12-13T00:00:00\",\"2021-12-10T00:00:00\",\"2021-12-09T00:00:00\",\"2021-12-08T00:00:00\",\"2021-12-07T00:00:00\",\"2021-12-06T00:00:00\",\"2021-12-03T00:00:00\",\"2021-12-02T00:00:00\",\"2021-12-01T00:00:00\",\"2021-11-30T00:00:00\",\"2021-11-29T00:00:00\",\"2021-11-26T00:00:00\",\"2021-11-24T00:00:00\",\"2021-11-23T00:00:00\",\"2021-11-22T00:00:00\",\"2021-11-19T00:00:00\",\"2021-11-18T00:00:00\",\"2021-11-17T00:00:00\",\"2021-11-16T00:00:00\",\"2021-11-15T00:00:00\",\"2021-11-12T00:00:00\",\"2021-11-11T00:00:00\",\"2021-11-10T00:00:00\",\"2021-11-09T00:00:00\",\"2021-11-08T00:00:00\",\"2021-11-05T00:00:00\",\"2021-11-04T00:00:00\",\"2021-11-03T00:00:00\",\"2021-11-02T00:00:00\",\"2021-11-01T00:00:00\",\"2021-10-29T00:00:00\",\"2021-10-28T00:00:00\",\"2021-10-27T00:00:00\",\"2021-10-26T00:00:00\",\"2021-10-25T00:00:00\",\"2021-10-22T00:00:00\",\"2021-10-21T00:00:00\",\"2021-10-20T00:00:00\",\"2021-10-19T00:00:00\",\"2021-10-18T00:00:00\",\"2021-10-15T00:00:00\",\"2021-10-14T00:00:00\",\"2021-10-13T00:00:00\",\"2021-10-12T00:00:00\",\"2021-10-11T00:00:00\",\"2021-10-08T00:00:00\",\"2021-10-07T00:00:00\",\"2021-10-06T00:00:00\",\"2021-10-05T00:00:00\",\"2021-10-04T00:00:00\",\"2021-10-01T00:00:00\",\"2021-09-30T00:00:00\",\"2021-09-29T00:00:00\",\"2021-09-28T00:00:00\",\"2021-09-27T00:00:00\",\"2021-09-24T00:00:00\",\"2021-09-23T00:00:00\",\"2021-09-22T00:00:00\",\"2021-09-21T00:00:00\",\"2021-09-20T00:00:00\",\"2021-09-17T00:00:00\",\"2021-09-16T00:00:00\",\"2021-09-15T00:00:00\",\"2021-09-14T00:00:00\",\"2021-09-13T00:00:00\",\"2021-09-10T00:00:00\",\"2021-09-09T00:00:00\",\"2021-09-08T00:00:00\",\"2021-09-07T00:00:00\",\"2021-09-03T00:00:00\",\"2021-09-02T00:00:00\",\"2021-09-01T00:00:00\",\"2021-08-31T00:00:00\",\"2021-08-30T00:00:00\",\"2021-08-27T00:00:00\",\"2021-08-26T00:00:00\",\"2021-08-25T00:00:00\",\"2021-08-24T00:00:00\",\"2021-08-23T00:00:00\",\"2021-08-20T00:00:00\",\"2021-08-19T00:00:00\",\"2021-08-18T00:00:00\",\"2021-08-17T00:00:00\",\"2021-08-16T00:00:00\",\"2021-08-13T00:00:00\",\"2021-08-12T00:00:00\",\"2021-08-11T00:00:00\",\"2021-08-10T00:00:00\",\"2021-08-09T00:00:00\",\"2021-08-06T00:00:00\",\"2021-08-05T00:00:00\",\"2021-08-04T00:00:00\",\"2021-08-03T00:00:00\",\"2021-08-02T00:00:00\",\"2021-07-30T00:00:00\",\"2021-07-29T00:00:00\",\"2021-07-28T00:00:00\",\"2021-07-27T00:00:00\",\"2021-07-26T00:00:00\",\"2021-07-23T00:00:00\",\"2021-07-22T00:00:00\",\"2021-07-21T00:00:00\",\"2021-07-20T00:00:00\",\"2021-07-19T00:00:00\",\"2021-07-16T00:00:00\",\"2021-07-15T00:00:00\",\"2021-07-14T00:00:00\",\"2021-07-13T00:00:00\",\"2021-07-12T00:00:00\",\"2021-07-09T00:00:00\",\"2021-07-08T00:00:00\",\"2021-07-07T00:00:00\",\"2021-07-06T00:00:00\",\"2021-07-02T00:00:00\",\"2021-07-01T00:00:00\",\"2021-06-30T00:00:00\",\"2021-06-29T00:00:00\",\"2021-06-28T00:00:00\",\"2021-06-25T00:00:00\",\"2021-06-24T00:00:00\",\"2021-06-23T00:00:00\",\"2021-06-22T00:00:00\",\"2021-06-21T00:00:00\",\"2021-06-18T00:00:00\",\"2021-06-17T00:00:00\",\"2021-06-16T00:00:00\",\"2021-06-15T00:00:00\",\"2021-06-14T00:00:00\",\"2021-06-11T00:00:00\",\"2021-06-10T00:00:00\",\"2021-06-09T00:00:00\",\"2021-06-08T00:00:00\",\"2021-06-07T00:00:00\",\"2021-06-04T00:00:00\",\"2021-06-03T00:00:00\",\"2021-06-02T00:00:00\",\"2021-06-01T00:00:00\",\"2021-05-28T00:00:00\",\"2021-05-27T00:00:00\",\"2021-05-26T00:00:00\",\"2021-05-25T00:00:00\",\"2021-05-24T00:00:00\",\"2021-05-21T00:00:00\",\"2021-05-20T00:00:00\",\"2021-05-19T00:00:00\",\"2021-05-18T00:00:00\",\"2021-05-17T00:00:00\",\"2021-05-14T00:00:00\",\"2021-05-13T00:00:00\",\"2021-05-12T00:00:00\",\"2021-05-11T00:00:00\",\"2021-05-10T00:00:00\"],\"type\":\"candlestick\"}],                        {\"template\":{\"data\":{\"bar\":[{\"error_x\":{\"color\":\"#2a3f5f\"},\"error_y\":{\"color\":\"#2a3f5f\"},\"marker\":{\"line\":{\"color\":\"#E5ECF6\",\"width\":0.5},\"pattern\":{\"fillmode\":\"overlay\",\"size\":10,\"solidity\":0.2}},\"type\":\"bar\"}],\"barpolar\":[{\"marker\":{\"line\":{\"color\":\"#E5ECF6\",\"width\":0.5},\"pattern\":{\"fillmode\":\"overlay\",\"size\":10,\"solidity\":0.2}},\"type\":\"barpolar\"}],\"carpet\":[{\"aaxis\":{\"endlinecolor\":\"#2a3f5f\",\"gridcolor\":\"white\",\"linecolor\":\"white\",\"minorgridcolor\":\"white\",\"startlinecolor\":\"#2a3f5f\"},\"baxis\":{\"endlinecolor\":\"#2a3f5f\",\"gridcolor\":\"white\",\"linecolor\":\"white\",\"minorgridcolor\":\"white\",\"startlinecolor\":\"#2a3f5f\"},\"type\":\"carpet\"}],\"choropleth\":[{\"colorbar\":{\"outlinewidth\":0,\"ticks\":\"\"},\"type\":\"choropleth\"}],\"contour\":[{\"colorbar\":{\"outlinewidth\":0,\"ticks\":\"\"},\"colorscale\":[[0.0,\"#0d0887\"],[0.1111111111111111,\"#46039f\"],[0.2222222222222222,\"#7201a8\"],[0.3333333333333333,\"#9c179e\"],[0.4444444444444444,\"#bd3786\"],[0.5555555555555556,\"#d8576b\"],[0.6666666666666666,\"#ed7953\"],[0.7777777777777778,\"#fb9f3a\"],[0.8888888888888888,\"#fdca26\"],[1.0,\"#f0f921\"]],\"type\":\"contour\"}],\"contourcarpet\":[{\"colorbar\":{\"outlinewidth\":0,\"ticks\":\"\"},\"type\":\"contourcarpet\"}],\"heatmap\":[{\"colorbar\":{\"outlinewidth\":0,\"ticks\":\"\"},\"colorscale\":[[0.0,\"#0d0887\"],[0.1111111111111111,\"#46039f\"],[0.2222222222222222,\"#7201a8\"],[0.3333333333333333,\"#9c179e\"],[0.4444444444444444,\"#bd3786\"],[0.5555555555555556,\"#d8576b\"],[0.6666666666666666,\"#ed7953\"],[0.7777777777777778,\"#fb9f3a\"],[0.8888888888888888,\"#fdca26\"],[1.0,\"#f0f921\"]],\"type\":\"heatmap\"}],\"heatmapgl\":[{\"colorbar\":{\"outlinewidth\":0,\"ticks\":\"\"},\"colorscale\":[[0.0,\"#0d0887\"],[0.1111111111111111,\"#46039f\"],[0.2222222222222222,\"#7201a8\"],[0.3333333333333333,\"#9c179e\"],[0.4444444444444444,\"#bd3786\"],[0.5555555555555556,\"#d8576b\"],[0.6666666666666666,\"#ed7953\"],[0.7777777777777778,\"#fb9f3a\"],[0.8888888888888888,\"#fdca26\"],[1.0,\"#f0f921\"]],\"type\":\"heatmapgl\"}],\"histogram\":[{\"marker\":{\"pattern\":{\"fillmode\":\"overlay\",\"size\":10,\"solidity\":0.2}},\"type\":\"histogram\"}],\"histogram2d\":[{\"colorbar\":{\"outlinewidth\":0,\"ticks\":\"\"},\"colorscale\":[[0.0,\"#0d0887\"],[0.1111111111111111,\"#46039f\"],[0.2222222222222222,\"#7201a8\"],[0.3333333333333333,\"#9c179e\"],[0.4444444444444444,\"#bd3786\"],[0.5555555555555556,\"#d8576b\"],[0.6666666666666666,\"#ed7953\"],[0.7777777777777778,\"#fb9f3a\"],[0.8888888888888888,\"#fdca26\"],[1.0,\"#f0f921\"]],\"type\":\"histogram2d\"}],\"histogram2dcontour\":[{\"colorbar\":{\"outlinewidth\":0,\"ticks\":\"\"},\"colorscale\":[[0.0,\"#0d0887\"],[0.1111111111111111,\"#46039f\"],[0.2222222222222222,\"#7201a8\"],[0.3333333333333333,\"#9c179e\"],[0.4444444444444444,\"#bd3786\"],[0.5555555555555556,\"#d8576b\"],[0.6666666666666666,\"#ed7953\"],[0.7777777777777778,\"#fb9f3a\"],[0.8888888888888888,\"#fdca26\"],[1.0,\"#f0f921\"]],\"type\":\"histogram2dcontour\"}],\"mesh3d\":[{\"colorbar\":{\"outlinewidth\":0,\"ticks\":\"\"},\"type\":\"mesh3d\"}],\"parcoords\":[{\"line\":{\"colorbar\":{\"outlinewidth\":0,\"ticks\":\"\"}},\"type\":\"parcoords\"}],\"pie\":[{\"automargin\":true,\"type\":\"pie\"}],\"scatter\":[{\"marker\":{\"colorbar\":{\"outlinewidth\":0,\"ticks\":\"\"}},\"type\":\"scatter\"}],\"scatter3d\":[{\"line\":{\"colorbar\":{\"outlinewidth\":0,\"ticks\":\"\"}},\"marker\":{\"colorbar\":{\"outlinewidth\":0,\"ticks\":\"\"}},\"type\":\"scatter3d\"}],\"scattercarpet\":[{\"marker\":{\"colorbar\":{\"outlinewidth\":0,\"ticks\":\"\"}},\"type\":\"scattercarpet\"}],\"scattergeo\":[{\"marker\":{\"colorbar\":{\"outlinewidth\":0,\"ticks\":\"\"}},\"type\":\"scattergeo\"}],\"scattergl\":[{\"marker\":{\"colorbar\":{\"outlinewidth\":0,\"ticks\":\"\"}},\"type\":\"scattergl\"}],\"scattermapbox\":[{\"marker\":{\"colorbar\":{\"outlinewidth\":0,\"ticks\":\"\"}},\"type\":\"scattermapbox\"}],\"scatterpolar\":[{\"marker\":{\"colorbar\":{\"outlinewidth\":0,\"ticks\":\"\"}},\"type\":\"scatterpolar\"}],\"scatterpolargl\":[{\"marker\":{\"colorbar\":{\"outlinewidth\":0,\"ticks\":\"\"}},\"type\":\"scatterpolargl\"}],\"scatterternary\":[{\"marker\":{\"colorbar\":{\"outlinewidth\":0,\"ticks\":\"\"}},\"type\":\"scatterternary\"}],\"surface\":[{\"colorbar\":{\"outlinewidth\":0,\"ticks\":\"\"},\"colorscale\":[[0.0,\"#0d0887\"],[0.1111111111111111,\"#46039f\"],[0.2222222222222222,\"#7201a8\"],[0.3333333333333333,\"#9c179e\"],[0.4444444444444444,\"#bd3786\"],[0.5555555555555556,\"#d8576b\"],[0.6666666666666666,\"#ed7953\"],[0.7777777777777778,\"#fb9f3a\"],[0.8888888888888888,\"#fdca26\"],[1.0,\"#f0f921\"]],\"type\":\"surface\"}],\"table\":[{\"cells\":{\"fill\":{\"color\":\"#EBF0F8\"},\"line\":{\"color\":\"white\"}},\"header\":{\"fill\":{\"color\":\"#C8D4E3\"},\"line\":{\"color\":\"white\"}},\"type\":\"table\"}]},\"layout\":{\"annotationdefaults\":{\"arrowcolor\":\"#2a3f5f\",\"arrowhead\":0,\"arrowwidth\":1},\"autotypenumbers\":\"strict\",\"coloraxis\":{\"colorbar\":{\"outlinewidth\":0,\"ticks\":\"\"}},\"colorscale\":{\"diverging\":[[0,\"#8e0152\"],[0.1,\"#c51b7d\"],[0.2,\"#de77ae\"],[0.3,\"#f1b6da\"],[0.4,\"#fde0ef\"],[0.5,\"#f7f7f7\"],[0.6,\"#e6f5d0\"],[0.7,\"#b8e186\"],[0.8,\"#7fbc41\"],[0.9,\"#4d9221\"],[1,\"#276419\"]],\"sequential\":[[0.0,\"#0d0887\"],[0.1111111111111111,\"#46039f\"],[0.2222222222222222,\"#7201a8\"],[0.3333333333333333,\"#9c179e\"],[0.4444444444444444,\"#bd3786\"],[0.5555555555555556,\"#d8576b\"],[0.6666666666666666,\"#ed7953\"],[0.7777777777777778,\"#fb9f3a\"],[0.8888888888888888,\"#fdca26\"],[1.0,\"#f0f921\"]],\"sequentialminus\":[[0.0,\"#0d0887\"],[0.1111111111111111,\"#46039f\"],[0.2222222222222222,\"#7201a8\"],[0.3333333333333333,\"#9c179e\"],[0.4444444444444444,\"#bd3786\"],[0.5555555555555556,\"#d8576b\"],[0.6666666666666666,\"#ed7953\"],[0.7777777777777778,\"#fb9f3a\"],[0.8888888888888888,\"#fdca26\"],[1.0,\"#f0f921\"]]},\"colorway\":[\"#636efa\",\"#EF553B\",\"#00cc96\",\"#ab63fa\",\"#FFA15A\",\"#19d3f3\",\"#FF6692\",\"#B6E880\",\"#FF97FF\",\"#FECB52\"],\"font\":{\"color\":\"#2a3f5f\"},\"geo\":{\"bgcolor\":\"white\",\"lakecolor\":\"white\",\"landcolor\":\"#E5ECF6\",\"showlakes\":true,\"showland\":true,\"subunitcolor\":\"white\"},\"hoverlabel\":{\"align\":\"left\"},\"hovermode\":\"closest\",\"mapbox\":{\"style\":\"light\"},\"paper_bgcolor\":\"white\",\"plot_bgcolor\":\"#E5ECF6\",\"polar\":{\"angularaxis\":{\"gridcolor\":\"white\",\"linecolor\":\"white\",\"ticks\":\"\"},\"bgcolor\":\"#E5ECF6\",\"radialaxis\":{\"gridcolor\":\"white\",\"linecolor\":\"white\",\"ticks\":\"\"}},\"scene\":{\"xaxis\":{\"backgroundcolor\":\"#E5ECF6\",\"gridcolor\":\"white\",\"gridwidth\":2,\"linecolor\":\"white\",\"showbackground\":true,\"ticks\":\"\",\"zerolinecolor\":\"white\"},\"yaxis\":{\"backgroundcolor\":\"#E5ECF6\",\"gridcolor\":\"white\",\"gridwidth\":2,\"linecolor\":\"white\",\"showbackground\":true,\"ticks\":\"\",\"zerolinecolor\":\"white\"},\"zaxis\":{\"backgroundcolor\":\"#E5ECF6\",\"gridcolor\":\"white\",\"gridwidth\":2,\"linecolor\":\"white\",\"showbackground\":true,\"ticks\":\"\",\"zerolinecolor\":\"white\"}},\"shapedefaults\":{\"line\":{\"color\":\"#2a3f5f\"}},\"ternary\":{\"aaxis\":{\"gridcolor\":\"white\",\"linecolor\":\"white\",\"ticks\":\"\"},\"baxis\":{\"gridcolor\":\"white\",\"linecolor\":\"white\",\"ticks\":\"\"},\"bgcolor\":\"#E5ECF6\",\"caxis\":{\"gridcolor\":\"white\",\"linecolor\":\"white\",\"ticks\":\"\"}},\"title\":{\"x\":0.05},\"xaxis\":{\"automargin\":true,\"gridcolor\":\"white\",\"linecolor\":\"white\",\"ticks\":\"\",\"title\":{\"standoff\":15},\"zerolinecolor\":\"white\",\"zerolinewidth\":2},\"yaxis\":{\"automargin\":true,\"gridcolor\":\"white\",\"linecolor\":\"white\",\"ticks\":\"\",\"title\":{\"standoff\":15},\"zerolinecolor\":\"white\",\"zerolinewidth\":2}}},\"title\":{\"text\":\"Cresud S.A.\"}},                        {\"responsive\": true}                    ).then(function(){\n",
              "                            \n",
              "var gd = document.getElementById('9ecbbefb-489d-4bfb-bf1b-a13e5cecc3a8');\n",
              "var x = new MutationObserver(function (mutations, observer) {{\n",
              "        var display = window.getComputedStyle(gd).display;\n",
              "        if (!display || display === 'none') {{\n",
              "            console.log([gd, 'removed!']);\n",
              "            Plotly.purge(gd);\n",
              "            observer.disconnect();\n",
              "        }}\n",
              "}});\n",
              "\n",
              "// Listen for the removal of the full notebook cells\n",
              "var notebookContainer = gd.closest('#notebook-container');\n",
              "if (notebookContainer) {{\n",
              "    x.observe(notebookContainer, {childList: true});\n",
              "}}\n",
              "\n",
              "// Listen for the clearing of the current output cell\n",
              "var outputEl = gd.closest('.output');\n",
              "if (outputEl) {{\n",
              "    x.observe(outputEl, {childList: true});\n",
              "}}\n",
              "\n",
              "                        })                };                            </script>        </div>\n",
              "</body>\n",
              "</html>"
            ]
          },
          "metadata": {}
        }
      ]
    },
    {
      "cell_type": "markdown",
      "metadata": {
        "id": "TBiqTTY0J04e"
      },
      "source": [
        "**Realice el mismo gráfico para TEO (Telecom de Argentina S.A.)**\n",
        "\n",
        "<a href=\"#respuesta05\">Respuesta sugerida</a>"
      ]
    },
    {
      "cell_type": "code",
      "metadata": {
        "id": "-8ytUHkWJ8l7"
      },
      "source": [
        "# Grafico de velas para Telecom Argentina"
      ],
      "execution_count": null,
      "outputs": []
    },
    {
      "cell_type": "markdown",
      "metadata": {
        "id": "gqY8b3piPYxK"
      },
      "source": [
        "## Gráfico OHLC - (Open, High, Low, Close)"
      ]
    },
    {
      "cell_type": "code",
      "metadata": {
        "colab": {
          "base_uri": "https://localhost:8080/",
          "height": 542
        },
        "id": "uBxdBnFJQImS",
        "outputId": "b3677419-f681-4e07-91f6-d2715723650c"
      },
      "source": [
        "fig = go.Figure(data=[go.Ohlc(x=BMA[\"Date\"],\n",
        "                open=BMA[\"Open\"],\n",
        "                high=BMA[\"High\"],\n",
        "                low=BMA[\"Low\"],\n",
        "                close=BMA[\"Close\"])])\n",
        "\n",
        "fig.update_layout(title=\"Banco Macro S.A.\")\n",
        "\n",
        "fig.show()"
      ],
      "execution_count": null,
      "outputs": [
        {
          "output_type": "display_data",
          "data": {
            "text/html": [
              "<html>\n",
              "<head><meta charset=\"utf-8\" /></head>\n",
              "<body>\n",
              "    <div>            <script src=\"https://cdnjs.cloudflare.com/ajax/libs/mathjax/2.7.5/MathJax.js?config=TeX-AMS-MML_SVG\"></script><script type=\"text/javascript\">if (window.MathJax) {MathJax.Hub.Config({SVG: {font: \"STIX-Web\"}});}</script>                <script type=\"text/javascript\">window.PlotlyConfig = {MathJaxConfig: 'local'};</script>\n",
              "        <script src=\"https://cdn.plot.ly/plotly-2.8.3.min.js\"></script>                <div id=\"348f36b6-9c5c-47c0-b436-016fe8502534\" class=\"plotly-graph-div\" style=\"height:525px; width:100%;\"></div>            <script type=\"text/javascript\">                                    window.PLOTLYENV=window.PLOTLYENV || {};                                    if (document.getElementById(\"348f36b6-9c5c-47c0-b436-016fe8502534\")) {                    Plotly.newPlot(                        \"348f36b6-9c5c-47c0-b436-016fe8502534\",                        [{\"close\":[13.55,13.76,13.69,13.73,13.87,13.93,13.82,13.93,14.23,14.3,14.43,13.96,12.8,12.95,12.81,12.41,13.22,13.95,14.12,13.96,14.68,14.45,14.24,14.07,13.79,13.99,13.57,13.42,14.04,14.27,14.02,14.32,14.36,14.48,15.15,14.55,14.32,14.31,14.17,14.34,14.77,14.4,14.04,13.64,14.21,14.51,14.62,14.5,14.29,14.13,14.62,14.3,13.27,13.25,13.57,13.79,14.17,14.1,14.76,15.56,15.25,15.67,17.06,17.16,17.51,17.2,17.04,16.8,16.13,16.19,16.78,16.01,15.87,15.73,16.62,16.7,17.71,18.26,17.63,18.02,18.35,17.1,17.12,17.29,16.78,16.53,16.36,16.52,16.55,16.63,16.99,17.07,16.79,17.32,16.99,16.85,16.56,16.66,16.08,16.75,16.95,16.89,17.31,19.67,19.44,19.43,19.9,19.73,18.29,18.53,18.56,18.99,17.77,17.95,18.4,18.7,19.11,17.65,17.09,17.4,16.84,15.42,14.6,14.3,14.14,14.2,14.23,14.51,14.86,14.86,14.67,13.97,13.86,13.79,13.51,13.75,13.4,13.5,14.06,14.08,13.86,13.87,13.66,14.07,14.55,13.77,13.93,14.1,14.45,14.85,14.9,14.91,14.3,14.0,14.31,14.53,15.0,14.79,15.03,15.26,15.69,15.79,16.38,16.42,16.91,16.48,17.06,17.4,17.98,17.72,17.66,17.62,18.35,18.31,17.7,18.11,17.62,17.27,16.71,16.48,16.39,15.29,15.18,14.58,14.86,15.14,15.76,15.45,15.53,15.77,15.3,14.29,13.5,13.71,14.06],\"high\":[13.92,14.98,14.245,14.01,14.44,14.13,14.1074,14.18,14.4464,14.43,14.47,14.294,13.16,13.25,12.92,13.05,13.99,14.57,14.6,14.66,14.7,14.78,14.455,14.1455,14.06,14.08,13.81,14.198,14.53,14.57,14.55,14.875,14.6,15.375,15.18,14.72,14.37,14.77,14.24,14.97,14.86,14.67,14.19,14.15,14.54,14.83,14.6999,14.91,14.77,14.76,15.01,14.63,13.59,13.96,13.64,14.225,14.65,14.92,15.5499,15.73,15.77,17.12,17.52,17.6,18.03,17.92,17.5,16.94,16.43,16.85,16.89,16.11,16.0,16.59,17.04,17.77,18.52,18.3,18.2299,18.33,18.51,17.39,17.48,17.4099,16.93,16.6406,16.7799,16.984,17.115,17.3799,17.0815,17.24,17.58,17.5,17.5,17.24,17.0798,16.8399,16.67,17.3,17.5856,17.75,18.95,19.92,19.92,20.02,20.67,21.2,19.115,19.2448,19.32,19.3,18.11,18.87,19.2421,19.64,19.31,18.1124,17.58,17.45,16.85,15.54,14.6596,14.32,14.52,14.46,14.4499,14.78,15.11,14.905,14.72,14.069,13.9899,13.94,13.88,13.75,13.77,14.11,14.3062,14.19,13.9,14.2027,14.3399,14.56,14.6362,13.9,14.05,14.7,14.91,15.33,14.9999,14.91,14.34,14.23,14.6123,15.0799,15.14,15.2499,15.25,15.75,16.06,16.17,16.63,17.2707,17.26,17.12,17.43,18.275,18.4,17.75,18.0,18.33,18.84,18.79,18.45,18.72,17.7,17.34,17.0,16.94,16.44,15.44,15.19,14.87,15.33,15.9856,16.01,15.68,15.85,15.82,15.3,14.37,13.73,14.0,14.97],\"low\":[13.43,13.64,13.53,13.68,13.85,13.77,13.66,13.9,13.88,14.12,13.325,13.43,12.462,12.81,12.1,12.06,13.16,13.82,14.06,13.96,14.29,14.12,14.07,13.45,13.65,13.615,13.19,13.302,13.96,13.97,13.9,14.25,13.8,14.352,14.6,14.14,14.1,14.27,13.8,14.34,14.4,13.81,13.4616,13.64,14.18,14.37,14.27,14.31,13.95,13.89,14.37,13.8,13.04,13.21,12.9,13.695,13.98,14.07,14.58,14.73,14.85,15.4499,16.68,16.55,17.36,17.13,16.7301,16.21,15.96,16.05,16.02,15.54,15.53,15.59,16.32,16.66,17.67,17.7,17.28,17.69,16.98,16.81,16.9166,16.71,16.4,16.23,16.241,16.5,16.53,16.6,16.62,16.5,16.665,16.95,16.84,16.55,16.21,16.2,16.05,16.69,16.94,16.84,17.205,19.07,18.56,19.03,19.37,19.5,18.03,18.1201,17.86,17.86,17.6061,17.76,18.3,18.6,17.33,17.04,16.18,16.54,15.33,14.7,14.13,13.86,14.04,13.87,14.2,14.15,14.53,14.25,13.96,13.63,13.62,13.59,13.41,13.25,13.34,13.47,13.75,13.87,13.57,13.6,13.64,14.0001,13.85,13.44,13.595,14.05,14.36,14.59,14.65,14.15,13.95,13.91,14.11,14.51,14.62,14.6,14.89,15.0,15.5,15.5023,16.33,16.39,16.06,16.4,16.85,17.3,17.6307,16.86,17.52,17.41,18.03,17.51,17.47,17.79,16.98,16.43,16.3462,16.16,15.26,15.2001,14.52,14.5311,14.68,15.085,15.45,15.22,15.37,14.875,14.42,13.49,13.47,13.54,13.98],\"open\":[13.76,13.78,13.53,14.0,14.01,13.91,14.01,14.01,14.4,14.39,13.39,13.73,12.96,13.02,12.28,13.05,13.77,14.11,14.16,14.6,14.34,14.2,14.15,13.67,13.93,13.66,13.55,14.09,14.45,14.0,14.26,14.41,14.38,15.04,14.68,14.14,14.19,14.27,13.97,14.62,14.55,14.15,13.7,14.01,14.48,14.6,14.5,14.31,14.14,14.51,14.78,13.94,13.1,13.62,13.64,13.97,14.25,14.92,15.36,15.29,15.71,17.06,17.25,17.6,17.39,17.13,16.8,16.245,16.19,16.78,16.07,15.72,15.83,16.58,16.65,17.74,18.24,17.8,18.03,18.3,16.98,17.39,17.28,16.85,16.64,16.39,16.62,16.52,16.72,17.17,16.84,16.95,17.23,17.19,16.95,16.55,16.52,16.23,16.6,17.1,17.11,17.56,18.95,19.39,19.37,19.64,19.73,20.43,18.93,18.61,19.21,17.86,17.99,18.49,18.8,19.54,17.71,17.04,16.21,16.69,15.52,14.7,14.21,13.92,14.3,14.18,14.28,14.74,14.92,14.55,14.06,13.77,13.79,13.59,13.63,13.41,13.65,13.94,14.19,14.1,13.79,13.6,14.18,14.52,13.85,13.9,13.88,14.5,14.78,15.01,14.94,14.34,14.07,14.01,14.49,15.0,14.83,15.08,15.18,15.59,15.89,16.17,16.52,16.95,16.39,17.12,17.18,17.97,17.73,17.52,17.53,18.29,18.51,17.63,18.16,17.79,17.35,16.51,16.44,16.74,15.35,15.25,14.53,14.78,15.19,15.8,15.5,15.37,15.78,15.28,14.45,13.49,13.52,13.83,14.28],\"x\":[\"2022-02-14T00:00:00\",\"2022-02-11T00:00:00\",\"2022-02-10T00:00:00\",\"2022-02-09T00:00:00\",\"2022-02-08T00:00:00\",\"2022-02-07T00:00:00\",\"2022-02-04T00:00:00\",\"2022-02-03T00:00:00\",\"2022-02-02T00:00:00\",\"2022-02-01T00:00:00\",\"2022-01-31T00:00:00\",\"2022-01-28T00:00:00\",\"2022-01-27T00:00:00\",\"2022-01-26T00:00:00\",\"2022-01-25T00:00:00\",\"2022-01-24T00:00:00\",\"2022-01-21T00:00:00\",\"2022-01-20T00:00:00\",\"2022-01-19T00:00:00\",\"2022-01-18T00:00:00\",\"2022-01-14T00:00:00\",\"2022-01-13T00:00:00\",\"2022-01-12T00:00:00\",\"2022-01-11T00:00:00\",\"2022-01-10T00:00:00\",\"2022-01-07T00:00:00\",\"2022-01-06T00:00:00\",\"2022-01-05T00:00:00\",\"2022-01-04T00:00:00\",\"2022-01-03T00:00:00\",\"2021-12-31T00:00:00\",\"2021-12-30T00:00:00\",\"2021-12-29T00:00:00\",\"2021-12-28T00:00:00\",\"2021-12-27T00:00:00\",\"2021-12-23T00:00:00\",\"2021-12-22T00:00:00\",\"2021-12-21T00:00:00\",\"2021-12-20T00:00:00\",\"2021-12-17T00:00:00\",\"2021-12-16T00:00:00\",\"2021-12-15T00:00:00\",\"2021-12-14T00:00:00\",\"2021-12-13T00:00:00\",\"2021-12-10T00:00:00\",\"2021-12-09T00:00:00\",\"2021-12-08T00:00:00\",\"2021-12-07T00:00:00\",\"2021-12-06T00:00:00\",\"2021-12-03T00:00:00\",\"2021-12-02T00:00:00\",\"2021-12-01T00:00:00\",\"2021-11-30T00:00:00\",\"2021-11-29T00:00:00\",\"2021-11-26T00:00:00\",\"2021-11-24T00:00:00\",\"2021-11-23T00:00:00\",\"2021-11-22T00:00:00\",\"2021-11-19T00:00:00\",\"2021-11-18T00:00:00\",\"2021-11-17T00:00:00\",\"2021-11-16T00:00:00\",\"2021-11-15T00:00:00\",\"2021-11-12T00:00:00\",\"2021-11-11T00:00:00\",\"2021-11-10T00:00:00\",\"2021-11-09T00:00:00\",\"2021-11-08T00:00:00\",\"2021-11-05T00:00:00\",\"2021-11-04T00:00:00\",\"2021-11-03T00:00:00\",\"2021-11-02T00:00:00\",\"2021-11-01T00:00:00\",\"2021-10-29T00:00:00\",\"2021-10-28T00:00:00\",\"2021-10-27T00:00:00\",\"2021-10-26T00:00:00\",\"2021-10-25T00:00:00\",\"2021-10-22T00:00:00\",\"2021-10-21T00:00:00\",\"2021-10-20T00:00:00\",\"2021-10-19T00:00:00\",\"2021-10-18T00:00:00\",\"2021-10-15T00:00:00\",\"2021-10-14T00:00:00\",\"2021-10-13T00:00:00\",\"2021-10-12T00:00:00\",\"2021-10-11T00:00:00\",\"2021-10-08T00:00:00\",\"2021-10-07T00:00:00\",\"2021-10-06T00:00:00\",\"2021-10-05T00:00:00\",\"2021-10-04T00:00:00\",\"2021-10-01T00:00:00\",\"2021-09-30T00:00:00\",\"2021-09-29T00:00:00\",\"2021-09-28T00:00:00\",\"2021-09-27T00:00:00\",\"2021-09-24T00:00:00\",\"2021-09-23T00:00:00\",\"2021-09-22T00:00:00\",\"2021-09-21T00:00:00\",\"2021-09-20T00:00:00\",\"2021-09-17T00:00:00\",\"2021-09-16T00:00:00\",\"2021-09-15T00:00:00\",\"2021-09-14T00:00:00\",\"2021-09-13T00:00:00\",\"2021-09-10T00:00:00\",\"2021-09-09T00:00:00\",\"2021-09-08T00:00:00\",\"2021-09-07T00:00:00\",\"2021-09-03T00:00:00\",\"2021-09-02T00:00:00\",\"2021-09-01T00:00:00\",\"2021-08-31T00:00:00\",\"2021-08-30T00:00:00\",\"2021-08-27T00:00:00\",\"2021-08-26T00:00:00\",\"2021-08-25T00:00:00\",\"2021-08-24T00:00:00\",\"2021-08-23T00:00:00\",\"2021-08-20T00:00:00\",\"2021-08-19T00:00:00\",\"2021-08-18T00:00:00\",\"2021-08-17T00:00:00\",\"2021-08-16T00:00:00\",\"2021-08-13T00:00:00\",\"2021-08-12T00:00:00\",\"2021-08-11T00:00:00\",\"2021-08-10T00:00:00\",\"2021-08-09T00:00:00\",\"2021-08-06T00:00:00\",\"2021-08-05T00:00:00\",\"2021-08-04T00:00:00\",\"2021-08-03T00:00:00\",\"2021-08-02T00:00:00\",\"2021-07-30T00:00:00\",\"2021-07-29T00:00:00\",\"2021-07-28T00:00:00\",\"2021-07-27T00:00:00\",\"2021-07-26T00:00:00\",\"2021-07-23T00:00:00\",\"2021-07-22T00:00:00\",\"2021-07-21T00:00:00\",\"2021-07-20T00:00:00\",\"2021-07-19T00:00:00\",\"2021-07-16T00:00:00\",\"2021-07-15T00:00:00\",\"2021-07-14T00:00:00\",\"2021-07-13T00:00:00\",\"2021-07-12T00:00:00\",\"2021-07-09T00:00:00\",\"2021-07-08T00:00:00\",\"2021-07-07T00:00:00\",\"2021-07-06T00:00:00\",\"2021-07-02T00:00:00\",\"2021-07-01T00:00:00\",\"2021-06-30T00:00:00\",\"2021-06-29T00:00:00\",\"2021-06-28T00:00:00\",\"2021-06-25T00:00:00\",\"2021-06-24T00:00:00\",\"2021-06-23T00:00:00\",\"2021-06-22T00:00:00\",\"2021-06-21T00:00:00\",\"2021-06-18T00:00:00\",\"2021-06-17T00:00:00\",\"2021-06-16T00:00:00\",\"2021-06-15T00:00:00\",\"2021-06-14T00:00:00\",\"2021-06-11T00:00:00\",\"2021-06-10T00:00:00\",\"2021-06-09T00:00:00\",\"2021-06-08T00:00:00\",\"2021-06-07T00:00:00\",\"2021-06-04T00:00:00\",\"2021-06-03T00:00:00\",\"2021-06-02T00:00:00\",\"2021-06-01T00:00:00\",\"2021-05-28T00:00:00\",\"2021-05-27T00:00:00\",\"2021-05-26T00:00:00\",\"2021-05-25T00:00:00\",\"2021-05-24T00:00:00\",\"2021-05-21T00:00:00\",\"2021-05-20T00:00:00\",\"2021-05-19T00:00:00\",\"2021-05-18T00:00:00\",\"2021-05-17T00:00:00\",\"2021-05-14T00:00:00\",\"2021-05-13T00:00:00\",\"2021-05-12T00:00:00\",\"2021-05-11T00:00:00\",\"2021-05-10T00:00:00\"],\"type\":\"ohlc\"}],                        {\"template\":{\"data\":{\"bar\":[{\"error_x\":{\"color\":\"#2a3f5f\"},\"error_y\":{\"color\":\"#2a3f5f\"},\"marker\":{\"line\":{\"color\":\"#E5ECF6\",\"width\":0.5},\"pattern\":{\"fillmode\":\"overlay\",\"size\":10,\"solidity\":0.2}},\"type\":\"bar\"}],\"barpolar\":[{\"marker\":{\"line\":{\"color\":\"#E5ECF6\",\"width\":0.5},\"pattern\":{\"fillmode\":\"overlay\",\"size\":10,\"solidity\":0.2}},\"type\":\"barpolar\"}],\"carpet\":[{\"aaxis\":{\"endlinecolor\":\"#2a3f5f\",\"gridcolor\":\"white\",\"linecolor\":\"white\",\"minorgridcolor\":\"white\",\"startlinecolor\":\"#2a3f5f\"},\"baxis\":{\"endlinecolor\":\"#2a3f5f\",\"gridcolor\":\"white\",\"linecolor\":\"white\",\"minorgridcolor\":\"white\",\"startlinecolor\":\"#2a3f5f\"},\"type\":\"carpet\"}],\"choropleth\":[{\"colorbar\":{\"outlinewidth\":0,\"ticks\":\"\"},\"type\":\"choropleth\"}],\"contour\":[{\"colorbar\":{\"outlinewidth\":0,\"ticks\":\"\"},\"colorscale\":[[0.0,\"#0d0887\"],[0.1111111111111111,\"#46039f\"],[0.2222222222222222,\"#7201a8\"],[0.3333333333333333,\"#9c179e\"],[0.4444444444444444,\"#bd3786\"],[0.5555555555555556,\"#d8576b\"],[0.6666666666666666,\"#ed7953\"],[0.7777777777777778,\"#fb9f3a\"],[0.8888888888888888,\"#fdca26\"],[1.0,\"#f0f921\"]],\"type\":\"contour\"}],\"contourcarpet\":[{\"colorbar\":{\"outlinewidth\":0,\"ticks\":\"\"},\"type\":\"contourcarpet\"}],\"heatmap\":[{\"colorbar\":{\"outlinewidth\":0,\"ticks\":\"\"},\"colorscale\":[[0.0,\"#0d0887\"],[0.1111111111111111,\"#46039f\"],[0.2222222222222222,\"#7201a8\"],[0.3333333333333333,\"#9c179e\"],[0.4444444444444444,\"#bd3786\"],[0.5555555555555556,\"#d8576b\"],[0.6666666666666666,\"#ed7953\"],[0.7777777777777778,\"#fb9f3a\"],[0.8888888888888888,\"#fdca26\"],[1.0,\"#f0f921\"]],\"type\":\"heatmap\"}],\"heatmapgl\":[{\"colorbar\":{\"outlinewidth\":0,\"ticks\":\"\"},\"colorscale\":[[0.0,\"#0d0887\"],[0.1111111111111111,\"#46039f\"],[0.2222222222222222,\"#7201a8\"],[0.3333333333333333,\"#9c179e\"],[0.4444444444444444,\"#bd3786\"],[0.5555555555555556,\"#d8576b\"],[0.6666666666666666,\"#ed7953\"],[0.7777777777777778,\"#fb9f3a\"],[0.8888888888888888,\"#fdca26\"],[1.0,\"#f0f921\"]],\"type\":\"heatmapgl\"}],\"histogram\":[{\"marker\":{\"pattern\":{\"fillmode\":\"overlay\",\"size\":10,\"solidity\":0.2}},\"type\":\"histogram\"}],\"histogram2d\":[{\"colorbar\":{\"outlinewidth\":0,\"ticks\":\"\"},\"colorscale\":[[0.0,\"#0d0887\"],[0.1111111111111111,\"#46039f\"],[0.2222222222222222,\"#7201a8\"],[0.3333333333333333,\"#9c179e\"],[0.4444444444444444,\"#bd3786\"],[0.5555555555555556,\"#d8576b\"],[0.6666666666666666,\"#ed7953\"],[0.7777777777777778,\"#fb9f3a\"],[0.8888888888888888,\"#fdca26\"],[1.0,\"#f0f921\"]],\"type\":\"histogram2d\"}],\"histogram2dcontour\":[{\"colorbar\":{\"outlinewidth\":0,\"ticks\":\"\"},\"colorscale\":[[0.0,\"#0d0887\"],[0.1111111111111111,\"#46039f\"],[0.2222222222222222,\"#7201a8\"],[0.3333333333333333,\"#9c179e\"],[0.4444444444444444,\"#bd3786\"],[0.5555555555555556,\"#d8576b\"],[0.6666666666666666,\"#ed7953\"],[0.7777777777777778,\"#fb9f3a\"],[0.8888888888888888,\"#fdca26\"],[1.0,\"#f0f921\"]],\"type\":\"histogram2dcontour\"}],\"mesh3d\":[{\"colorbar\":{\"outlinewidth\":0,\"ticks\":\"\"},\"type\":\"mesh3d\"}],\"parcoords\":[{\"line\":{\"colorbar\":{\"outlinewidth\":0,\"ticks\":\"\"}},\"type\":\"parcoords\"}],\"pie\":[{\"automargin\":true,\"type\":\"pie\"}],\"scatter\":[{\"marker\":{\"colorbar\":{\"outlinewidth\":0,\"ticks\":\"\"}},\"type\":\"scatter\"}],\"scatter3d\":[{\"line\":{\"colorbar\":{\"outlinewidth\":0,\"ticks\":\"\"}},\"marker\":{\"colorbar\":{\"outlinewidth\":0,\"ticks\":\"\"}},\"type\":\"scatter3d\"}],\"scattercarpet\":[{\"marker\":{\"colorbar\":{\"outlinewidth\":0,\"ticks\":\"\"}},\"type\":\"scattercarpet\"}],\"scattergeo\":[{\"marker\":{\"colorbar\":{\"outlinewidth\":0,\"ticks\":\"\"}},\"type\":\"scattergeo\"}],\"scattergl\":[{\"marker\":{\"colorbar\":{\"outlinewidth\":0,\"ticks\":\"\"}},\"type\":\"scattergl\"}],\"scattermapbox\":[{\"marker\":{\"colorbar\":{\"outlinewidth\":0,\"ticks\":\"\"}},\"type\":\"scattermapbox\"}],\"scatterpolar\":[{\"marker\":{\"colorbar\":{\"outlinewidth\":0,\"ticks\":\"\"}},\"type\":\"scatterpolar\"}],\"scatterpolargl\":[{\"marker\":{\"colorbar\":{\"outlinewidth\":0,\"ticks\":\"\"}},\"type\":\"scatterpolargl\"}],\"scatterternary\":[{\"marker\":{\"colorbar\":{\"outlinewidth\":0,\"ticks\":\"\"}},\"type\":\"scatterternary\"}],\"surface\":[{\"colorbar\":{\"outlinewidth\":0,\"ticks\":\"\"},\"colorscale\":[[0.0,\"#0d0887\"],[0.1111111111111111,\"#46039f\"],[0.2222222222222222,\"#7201a8\"],[0.3333333333333333,\"#9c179e\"],[0.4444444444444444,\"#bd3786\"],[0.5555555555555556,\"#d8576b\"],[0.6666666666666666,\"#ed7953\"],[0.7777777777777778,\"#fb9f3a\"],[0.8888888888888888,\"#fdca26\"],[1.0,\"#f0f921\"]],\"type\":\"surface\"}],\"table\":[{\"cells\":{\"fill\":{\"color\":\"#EBF0F8\"},\"line\":{\"color\":\"white\"}},\"header\":{\"fill\":{\"color\":\"#C8D4E3\"},\"line\":{\"color\":\"white\"}},\"type\":\"table\"}]},\"layout\":{\"annotationdefaults\":{\"arrowcolor\":\"#2a3f5f\",\"arrowhead\":0,\"arrowwidth\":1},\"autotypenumbers\":\"strict\",\"coloraxis\":{\"colorbar\":{\"outlinewidth\":0,\"ticks\":\"\"}},\"colorscale\":{\"diverging\":[[0,\"#8e0152\"],[0.1,\"#c51b7d\"],[0.2,\"#de77ae\"],[0.3,\"#f1b6da\"],[0.4,\"#fde0ef\"],[0.5,\"#f7f7f7\"],[0.6,\"#e6f5d0\"],[0.7,\"#b8e186\"],[0.8,\"#7fbc41\"],[0.9,\"#4d9221\"],[1,\"#276419\"]],\"sequential\":[[0.0,\"#0d0887\"],[0.1111111111111111,\"#46039f\"],[0.2222222222222222,\"#7201a8\"],[0.3333333333333333,\"#9c179e\"],[0.4444444444444444,\"#bd3786\"],[0.5555555555555556,\"#d8576b\"],[0.6666666666666666,\"#ed7953\"],[0.7777777777777778,\"#fb9f3a\"],[0.8888888888888888,\"#fdca26\"],[1.0,\"#f0f921\"]],\"sequentialminus\":[[0.0,\"#0d0887\"],[0.1111111111111111,\"#46039f\"],[0.2222222222222222,\"#7201a8\"],[0.3333333333333333,\"#9c179e\"],[0.4444444444444444,\"#bd3786\"],[0.5555555555555556,\"#d8576b\"],[0.6666666666666666,\"#ed7953\"],[0.7777777777777778,\"#fb9f3a\"],[0.8888888888888888,\"#fdca26\"],[1.0,\"#f0f921\"]]},\"colorway\":[\"#636efa\",\"#EF553B\",\"#00cc96\",\"#ab63fa\",\"#FFA15A\",\"#19d3f3\",\"#FF6692\",\"#B6E880\",\"#FF97FF\",\"#FECB52\"],\"font\":{\"color\":\"#2a3f5f\"},\"geo\":{\"bgcolor\":\"white\",\"lakecolor\":\"white\",\"landcolor\":\"#E5ECF6\",\"showlakes\":true,\"showland\":true,\"subunitcolor\":\"white\"},\"hoverlabel\":{\"align\":\"left\"},\"hovermode\":\"closest\",\"mapbox\":{\"style\":\"light\"},\"paper_bgcolor\":\"white\",\"plot_bgcolor\":\"#E5ECF6\",\"polar\":{\"angularaxis\":{\"gridcolor\":\"white\",\"linecolor\":\"white\",\"ticks\":\"\"},\"bgcolor\":\"#E5ECF6\",\"radialaxis\":{\"gridcolor\":\"white\",\"linecolor\":\"white\",\"ticks\":\"\"}},\"scene\":{\"xaxis\":{\"backgroundcolor\":\"#E5ECF6\",\"gridcolor\":\"white\",\"gridwidth\":2,\"linecolor\":\"white\",\"showbackground\":true,\"ticks\":\"\",\"zerolinecolor\":\"white\"},\"yaxis\":{\"backgroundcolor\":\"#E5ECF6\",\"gridcolor\":\"white\",\"gridwidth\":2,\"linecolor\":\"white\",\"showbackground\":true,\"ticks\":\"\",\"zerolinecolor\":\"white\"},\"zaxis\":{\"backgroundcolor\":\"#E5ECF6\",\"gridcolor\":\"white\",\"gridwidth\":2,\"linecolor\":\"white\",\"showbackground\":true,\"ticks\":\"\",\"zerolinecolor\":\"white\"}},\"shapedefaults\":{\"line\":{\"color\":\"#2a3f5f\"}},\"ternary\":{\"aaxis\":{\"gridcolor\":\"white\",\"linecolor\":\"white\",\"ticks\":\"\"},\"baxis\":{\"gridcolor\":\"white\",\"linecolor\":\"white\",\"ticks\":\"\"},\"bgcolor\":\"#E5ECF6\",\"caxis\":{\"gridcolor\":\"white\",\"linecolor\":\"white\",\"ticks\":\"\"}},\"title\":{\"x\":0.05},\"xaxis\":{\"automargin\":true,\"gridcolor\":\"white\",\"linecolor\":\"white\",\"ticks\":\"\",\"title\":{\"standoff\":15},\"zerolinecolor\":\"white\",\"zerolinewidth\":2},\"yaxis\":{\"automargin\":true,\"gridcolor\":\"white\",\"linecolor\":\"white\",\"ticks\":\"\",\"title\":{\"standoff\":15},\"zerolinecolor\":\"white\",\"zerolinewidth\":2}}},\"title\":{\"text\":\"Banco Macro S.A.\"}},                        {\"responsive\": true}                    ).then(function(){\n",
              "                            \n",
              "var gd = document.getElementById('348f36b6-9c5c-47c0-b436-016fe8502534');\n",
              "var x = new MutationObserver(function (mutations, observer) {{\n",
              "        var display = window.getComputedStyle(gd).display;\n",
              "        if (!display || display === 'none') {{\n",
              "            console.log([gd, 'removed!']);\n",
              "            Plotly.purge(gd);\n",
              "            observer.disconnect();\n",
              "        }}\n",
              "}});\n",
              "\n",
              "// Listen for the removal of the full notebook cells\n",
              "var notebookContainer = gd.closest('#notebook-container');\n",
              "if (notebookContainer) {{\n",
              "    x.observe(notebookContainer, {childList: true});\n",
              "}}\n",
              "\n",
              "// Listen for the clearing of the current output cell\n",
              "var outputEl = gd.closest('.output');\n",
              "if (outputEl) {{\n",
              "    x.observe(outputEl, {childList: true});\n",
              "}}\n",
              "\n",
              "                        })                };                            </script>        </div>\n",
              "</body>\n",
              "</html>"
            ]
          },
          "metadata": {}
        }
      ]
    },
    {
      "cell_type": "markdown",
      "metadata": {
        "id": "Fxb3xJZkQtHx"
      },
      "source": [
        "**Realice el mismo gráfico para CRES (Cresud S.A.)**\n",
        "\n",
        "<a href=\"#respuesta06\">Respuesta sugerida</a>"
      ]
    },
    {
      "cell_type": "code",
      "metadata": {
        "id": "JsH32nGdRAFT"
      },
      "source": [
        "# Grafico OHLC para CRES"
      ],
      "execution_count": null,
      "outputs": []
    },
    {
      "cell_type": "markdown",
      "metadata": {
        "id": "y55uwfBOrE2W"
      },
      "source": [
        "# Respuestas"
      ]
    },
    {
      "cell_type": "markdown",
      "metadata": {
        "id": "LJVDKuGxsgC2"
      },
      "source": [
        "## Gráfico lineal simple"
      ]
    },
    {
      "cell_type": "markdown",
      "metadata": {
        "id": "XrNCK5Lgmi9_"
      },
      "source": [
        "<a name=\"respuesta01\"></a>\n",
        "\n",
        "**Gráfico acciones BMA (Banco Macro S.A.) de la CARTERA**"
      ]
    },
    {
      "cell_type": "code",
      "metadata": {
        "colab": {
          "base_uri": "https://localhost:8080/",
          "height": 542
        },
        "id": "OAFTMbBHm1jA",
        "outputId": "6876cb22-e0ad-4bb1-f667-cbf7263896fb"
      },
      "source": [
        "df = CARTERA.query(\"Name=='BMA'\")\n",
        "fig = px.line(df, \n",
        "              x=\"Date\", \n",
        "              y=\"Close\", \n",
        "              template=\"gridon\",\n",
        "              title=\"Banco Macro S.A.\")\n",
        "fig.show()"
      ],
      "execution_count": null,
      "outputs": [
        {
          "output_type": "display_data",
          "data": {
            "text/html": [
              "<html>\n",
              "<head><meta charset=\"utf-8\" /></head>\n",
              "<body>\n",
              "    <div>            <script src=\"https://cdnjs.cloudflare.com/ajax/libs/mathjax/2.7.5/MathJax.js?config=TeX-AMS-MML_SVG\"></script><script type=\"text/javascript\">if (window.MathJax) {MathJax.Hub.Config({SVG: {font: \"STIX-Web\"}});}</script>                <script type=\"text/javascript\">window.PlotlyConfig = {MathJaxConfig: 'local'};</script>\n",
              "        <script src=\"https://cdn.plot.ly/plotly-2.8.3.min.js\"></script>                <div id=\"6c76412d-d2ae-4914-8a1b-b637b8dbfc78\" class=\"plotly-graph-div\" style=\"height:525px; width:100%;\"></div>            <script type=\"text/javascript\">                                    window.PLOTLYENV=window.PLOTLYENV || {};                                    if (document.getElementById(\"6c76412d-d2ae-4914-8a1b-b637b8dbfc78\")) {                    Plotly.newPlot(                        \"6c76412d-d2ae-4914-8a1b-b637b8dbfc78\",                        [{\"hovertemplate\":\"Date=%{x}<br>Close=%{y}<extra></extra>\",\"legendgroup\":\"\",\"line\":{\"color\":\"#1F77B4\",\"dash\":\"solid\"},\"marker\":{\"symbol\":\"circle\"},\"mode\":\"lines\",\"name\":\"\",\"orientation\":\"v\",\"showlegend\":false,\"x\":[\"2022-02-14T00:00:00\",\"2022-02-11T00:00:00\",\"2022-02-10T00:00:00\",\"2022-02-09T00:00:00\",\"2022-02-08T00:00:00\",\"2022-02-07T00:00:00\",\"2022-02-04T00:00:00\",\"2022-02-03T00:00:00\",\"2022-02-02T00:00:00\",\"2022-02-01T00:00:00\",\"2022-01-31T00:00:00\",\"2022-01-28T00:00:00\",\"2022-01-27T00:00:00\",\"2022-01-26T00:00:00\",\"2022-01-25T00:00:00\",\"2022-01-24T00:00:00\",\"2022-01-21T00:00:00\",\"2022-01-20T00:00:00\",\"2022-01-19T00:00:00\",\"2022-01-18T00:00:00\",\"2022-01-14T00:00:00\",\"2022-01-13T00:00:00\",\"2022-01-12T00:00:00\",\"2022-01-11T00:00:00\",\"2022-01-10T00:00:00\",\"2022-01-07T00:00:00\",\"2022-01-06T00:00:00\",\"2022-01-05T00:00:00\",\"2022-01-04T00:00:00\",\"2022-01-03T00:00:00\",\"2021-12-31T00:00:00\",\"2021-12-30T00:00:00\",\"2021-12-29T00:00:00\",\"2021-12-28T00:00:00\",\"2021-12-27T00:00:00\",\"2021-12-23T00:00:00\",\"2021-12-22T00:00:00\",\"2021-12-21T00:00:00\",\"2021-12-20T00:00:00\",\"2021-12-17T00:00:00\",\"2021-12-16T00:00:00\",\"2021-12-15T00:00:00\",\"2021-12-14T00:00:00\",\"2021-12-13T00:00:00\",\"2021-12-10T00:00:00\",\"2021-12-09T00:00:00\",\"2021-12-08T00:00:00\",\"2021-12-07T00:00:00\",\"2021-12-06T00:00:00\",\"2021-12-03T00:00:00\",\"2021-12-02T00:00:00\",\"2021-12-01T00:00:00\",\"2021-11-30T00:00:00\",\"2021-11-29T00:00:00\",\"2021-11-26T00:00:00\",\"2021-11-24T00:00:00\",\"2021-11-23T00:00:00\",\"2021-11-22T00:00:00\",\"2021-11-19T00:00:00\",\"2021-11-18T00:00:00\",\"2021-11-17T00:00:00\",\"2021-11-16T00:00:00\",\"2021-11-15T00:00:00\",\"2021-11-12T00:00:00\",\"2021-11-11T00:00:00\",\"2021-11-10T00:00:00\",\"2021-11-09T00:00:00\",\"2021-11-08T00:00:00\",\"2021-11-05T00:00:00\",\"2021-11-04T00:00:00\",\"2021-11-03T00:00:00\",\"2021-11-02T00:00:00\",\"2021-11-01T00:00:00\",\"2021-10-29T00:00:00\",\"2021-10-28T00:00:00\",\"2021-10-27T00:00:00\",\"2021-10-26T00:00:00\",\"2021-10-25T00:00:00\",\"2021-10-22T00:00:00\",\"2021-10-21T00:00:00\",\"2021-10-20T00:00:00\",\"2021-10-19T00:00:00\",\"2021-10-18T00:00:00\",\"2021-10-15T00:00:00\",\"2021-10-14T00:00:00\",\"2021-10-13T00:00:00\",\"2021-10-12T00:00:00\",\"2021-10-11T00:00:00\",\"2021-10-08T00:00:00\",\"2021-10-07T00:00:00\",\"2021-10-06T00:00:00\",\"2021-10-05T00:00:00\",\"2021-10-04T00:00:00\",\"2021-10-01T00:00:00\",\"2021-09-30T00:00:00\",\"2021-09-29T00:00:00\",\"2021-09-28T00:00:00\",\"2021-09-27T00:00:00\",\"2021-09-24T00:00:00\",\"2021-09-23T00:00:00\",\"2021-09-22T00:00:00\",\"2021-09-21T00:00:00\",\"2021-09-20T00:00:00\",\"2021-09-17T00:00:00\",\"2021-09-16T00:00:00\",\"2021-09-15T00:00:00\",\"2021-09-14T00:00:00\",\"2021-09-13T00:00:00\",\"2021-09-10T00:00:00\",\"2021-09-09T00:00:00\",\"2021-09-08T00:00:00\",\"2021-09-07T00:00:00\",\"2021-09-03T00:00:00\",\"2021-09-02T00:00:00\",\"2021-09-01T00:00:00\",\"2021-08-31T00:00:00\",\"2021-08-30T00:00:00\",\"2021-08-27T00:00:00\",\"2021-08-26T00:00:00\",\"2021-08-25T00:00:00\",\"2021-08-24T00:00:00\",\"2021-08-23T00:00:00\",\"2021-08-20T00:00:00\",\"2021-08-19T00:00:00\",\"2021-08-18T00:00:00\",\"2021-08-17T00:00:00\",\"2021-08-16T00:00:00\",\"2021-08-13T00:00:00\",\"2021-08-12T00:00:00\",\"2021-08-11T00:00:00\",\"2021-08-10T00:00:00\",\"2021-08-09T00:00:00\",\"2021-08-06T00:00:00\",\"2021-08-05T00:00:00\",\"2021-08-04T00:00:00\",\"2021-08-03T00:00:00\",\"2021-08-02T00:00:00\",\"2021-07-30T00:00:00\",\"2021-07-29T00:00:00\",\"2021-07-28T00:00:00\",\"2021-07-27T00:00:00\",\"2021-07-26T00:00:00\",\"2021-07-23T00:00:00\",\"2021-07-22T00:00:00\",\"2021-07-21T00:00:00\",\"2021-07-20T00:00:00\",\"2021-07-19T00:00:00\",\"2021-07-16T00:00:00\",\"2021-07-15T00:00:00\",\"2021-07-14T00:00:00\",\"2021-07-13T00:00:00\",\"2021-07-12T00:00:00\",\"2021-07-09T00:00:00\",\"2021-07-08T00:00:00\",\"2021-07-07T00:00:00\",\"2021-07-06T00:00:00\",\"2021-07-02T00:00:00\",\"2021-07-01T00:00:00\",\"2021-06-30T00:00:00\",\"2021-06-29T00:00:00\",\"2021-06-28T00:00:00\",\"2021-06-25T00:00:00\",\"2021-06-24T00:00:00\",\"2021-06-23T00:00:00\",\"2021-06-22T00:00:00\",\"2021-06-21T00:00:00\",\"2021-06-18T00:00:00\",\"2021-06-17T00:00:00\",\"2021-06-16T00:00:00\",\"2021-06-15T00:00:00\",\"2021-06-14T00:00:00\",\"2021-06-11T00:00:00\",\"2021-06-10T00:00:00\",\"2021-06-09T00:00:00\",\"2021-06-08T00:00:00\",\"2021-06-07T00:00:00\",\"2021-06-04T00:00:00\",\"2021-06-03T00:00:00\",\"2021-06-02T00:00:00\",\"2021-06-01T00:00:00\",\"2021-05-28T00:00:00\",\"2021-05-27T00:00:00\",\"2021-05-26T00:00:00\",\"2021-05-25T00:00:00\",\"2021-05-24T00:00:00\",\"2021-05-21T00:00:00\",\"2021-05-20T00:00:00\",\"2021-05-19T00:00:00\",\"2021-05-18T00:00:00\",\"2021-05-17T00:00:00\",\"2021-05-14T00:00:00\",\"2021-05-13T00:00:00\",\"2021-05-12T00:00:00\",\"2021-05-11T00:00:00\",\"2021-05-10T00:00:00\"],\"xaxis\":\"x\",\"y\":[13.55,13.76,13.69,13.73,13.87,13.93,13.82,13.93,14.23,14.3,14.43,13.96,12.8,12.95,12.81,12.41,13.22,13.95,14.12,13.96,14.68,14.45,14.24,14.07,13.79,13.99,13.57,13.42,14.04,14.27,14.02,14.32,14.36,14.48,15.15,14.55,14.32,14.31,14.17,14.34,14.77,14.4,14.04,13.64,14.21,14.51,14.62,14.5,14.29,14.13,14.62,14.3,13.27,13.25,13.57,13.79,14.17,14.1,14.76,15.56,15.25,15.67,17.06,17.16,17.51,17.2,17.04,16.8,16.13,16.19,16.78,16.01,15.87,15.73,16.62,16.7,17.71,18.26,17.63,18.02,18.35,17.1,17.12,17.29,16.78,16.53,16.36,16.52,16.55,16.63,16.99,17.07,16.79,17.32,16.99,16.85,16.56,16.66,16.08,16.75,16.95,16.89,17.31,19.67,19.44,19.43,19.9,19.73,18.29,18.53,18.56,18.99,17.77,17.95,18.4,18.7,19.11,17.65,17.09,17.4,16.84,15.42,14.6,14.3,14.14,14.2,14.23,14.51,14.86,14.86,14.67,13.97,13.86,13.79,13.51,13.75,13.4,13.5,14.06,14.08,13.86,13.87,13.66,14.07,14.55,13.77,13.93,14.1,14.45,14.85,14.9,14.91,14.3,14.0,14.31,14.53,15.0,14.79,15.03,15.26,15.69,15.79,16.38,16.42,16.91,16.48,17.06,17.4,17.98,17.72,17.66,17.62,18.35,18.31,17.7,18.11,17.62,17.27,16.71,16.48,16.39,15.29,15.18,14.58,14.86,15.14,15.76,15.45,15.53,15.77,15.3,14.29,13.5,13.71,14.06],\"yaxis\":\"y\",\"type\":\"scatter\"}],                        {\"template\":{\"data\":{\"pie\":[{\"automargin\":true,\"type\":\"pie\"}]},\"layout\":{\"xaxis\":{\"showgrid\":true,\"title\":{\"standoff\":15}},\"yaxis\":{\"showgrid\":true,\"title\":{\"standoff\":15}}}},\"xaxis\":{\"anchor\":\"y\",\"domain\":[0.0,1.0],\"title\":{\"text\":\"Date\"}},\"yaxis\":{\"anchor\":\"x\",\"domain\":[0.0,1.0],\"title\":{\"text\":\"Close\"}},\"legend\":{\"tracegroupgap\":0},\"title\":{\"text\":\"Banco Macro S.A.\"}},                        {\"responsive\": true}                    ).then(function(){\n",
              "                            \n",
              "var gd = document.getElementById('6c76412d-d2ae-4914-8a1b-b637b8dbfc78');\n",
              "var x = new MutationObserver(function (mutations, observer) {{\n",
              "        var display = window.getComputedStyle(gd).display;\n",
              "        if (!display || display === 'none') {{\n",
              "            console.log([gd, 'removed!']);\n",
              "            Plotly.purge(gd);\n",
              "            observer.disconnect();\n",
              "        }}\n",
              "}});\n",
              "\n",
              "// Listen for the removal of the full notebook cells\n",
              "var notebookContainer = gd.closest('#notebook-container');\n",
              "if (notebookContainer) {{\n",
              "    x.observe(notebookContainer, {childList: true});\n",
              "}}\n",
              "\n",
              "// Listen for the clearing of the current output cell\n",
              "var outputEl = gd.closest('.output');\n",
              "if (outputEl) {{\n",
              "    x.observe(outputEl, {childList: true});\n",
              "}}\n",
              "\n",
              "                        })                };                            </script>        </div>\n",
              "</body>\n",
              "</html>"
            ]
          },
          "metadata": {}
        }
      ]
    },
    {
      "cell_type": "markdown",
      "metadata": {
        "id": "lkXGFD6qslKS"
      },
      "source": [
        "## Gráfico lineal con color por columna"
      ]
    },
    {
      "cell_type": "markdown",
      "metadata": {
        "id": "bYHamF6qrwaA"
      },
      "source": [
        "<a name=\"respuesta02\"></a>\n",
        "\n",
        "**Gráfico acciones BMA (Banco Macro S.A.) y TECO2 (Telecom de Argentina S.A.) de la CARTERA**"
      ]
    },
    {
      "cell_type": "code",
      "metadata": {
        "colab": {
          "base_uri": "https://localhost:8080/",
          "height": 542
        },
        "id": "5Cni8d0vsBiu",
        "outputId": "cf249477-b3dc-4f2d-8167-8a1dda365b20"
      },
      "source": [
        "df = CARTERA.query(\"Name!= 'MELI'\")\n",
        "fig = px.line(df, \n",
        "              x=\"Date\", \n",
        "              y=\"Close\", \n",
        "              color=\"Name\",\n",
        "              template=\"gridon\", \n",
        "              title=\"Banco Macro S.A. - Telecom de Argentina S.A.\")\n",
        "fig.show()"
      ],
      "execution_count": null,
      "outputs": [
        {
          "output_type": "display_data",
          "data": {
            "text/html": [
              "<html>\n",
              "<head><meta charset=\"utf-8\" /></head>\n",
              "<body>\n",
              "    <div>            <script src=\"https://cdnjs.cloudflare.com/ajax/libs/mathjax/2.7.5/MathJax.js?config=TeX-AMS-MML_SVG\"></script><script type=\"text/javascript\">if (window.MathJax) {MathJax.Hub.Config({SVG: {font: \"STIX-Web\"}});}</script>                <script type=\"text/javascript\">window.PlotlyConfig = {MathJaxConfig: 'local'};</script>\n",
              "        <script src=\"https://cdn.plot.ly/plotly-2.8.3.min.js\"></script>                <div id=\"a04a607c-8a85-4e5d-9ccf-44010eed23d2\" class=\"plotly-graph-div\" style=\"height:525px; width:100%;\"></div>            <script type=\"text/javascript\">                                    window.PLOTLYENV=window.PLOTLYENV || {};                                    if (document.getElementById(\"a04a607c-8a85-4e5d-9ccf-44010eed23d2\")) {                    Plotly.newPlot(                        \"a04a607c-8a85-4e5d-9ccf-44010eed23d2\",                        [{\"hovertemplate\":\"Name=CRES<br>Date=%{x}<br>Close=%{y}<extra></extra>\",\"legendgroup\":\"CRES\",\"line\":{\"color\":\"#1F77B4\",\"dash\":\"solid\"},\"marker\":{\"symbol\":\"circle\"},\"mode\":\"lines\",\"name\":\"CRES\",\"orientation\":\"v\",\"showlegend\":true,\"x\":[\"2022-02-14T00:00:00\",\"2022-02-11T00:00:00\",\"2022-02-10T00:00:00\",\"2022-02-09T00:00:00\",\"2022-02-08T00:00:00\",\"2022-02-07T00:00:00\",\"2022-02-04T00:00:00\",\"2022-02-03T00:00:00\",\"2022-02-02T00:00:00\",\"2022-02-01T00:00:00\",\"2022-01-31T00:00:00\",\"2022-01-28T00:00:00\",\"2022-01-27T00:00:00\",\"2022-01-26T00:00:00\",\"2022-01-25T00:00:00\",\"2022-01-24T00:00:00\",\"2022-01-21T00:00:00\",\"2022-01-20T00:00:00\",\"2022-01-19T00:00:00\",\"2022-01-18T00:00:00\",\"2022-01-14T00:00:00\",\"2022-01-13T00:00:00\",\"2022-01-12T00:00:00\",\"2022-01-11T00:00:00\",\"2022-01-10T00:00:00\",\"2022-01-07T00:00:00\",\"2022-01-06T00:00:00\",\"2022-01-05T00:00:00\",\"2022-01-04T00:00:00\",\"2022-01-03T00:00:00\",\"2021-12-31T00:00:00\",\"2021-12-30T00:00:00\",\"2021-12-29T00:00:00\",\"2021-12-28T00:00:00\",\"2021-12-27T00:00:00\",\"2021-12-23T00:00:00\",\"2021-12-22T00:00:00\",\"2021-12-21T00:00:00\",\"2021-12-20T00:00:00\",\"2021-12-17T00:00:00\",\"2021-12-16T00:00:00\",\"2021-12-15T00:00:00\",\"2021-12-14T00:00:00\",\"2021-12-13T00:00:00\",\"2021-12-10T00:00:00\",\"2021-12-09T00:00:00\",\"2021-12-08T00:00:00\",\"2021-12-07T00:00:00\",\"2021-12-06T00:00:00\",\"2021-12-03T00:00:00\",\"2021-12-02T00:00:00\",\"2021-12-01T00:00:00\",\"2021-11-30T00:00:00\",\"2021-11-29T00:00:00\",\"2021-11-26T00:00:00\",\"2021-11-24T00:00:00\",\"2021-11-23T00:00:00\",\"2021-11-22T00:00:00\",\"2021-11-19T00:00:00\",\"2021-11-18T00:00:00\",\"2021-11-17T00:00:00\",\"2021-11-16T00:00:00\",\"2021-11-15T00:00:00\",\"2021-11-12T00:00:00\",\"2021-11-11T00:00:00\",\"2021-11-10T00:00:00\",\"2021-11-09T00:00:00\",\"2021-11-08T00:00:00\",\"2021-11-05T00:00:00\",\"2021-11-04T00:00:00\",\"2021-11-03T00:00:00\",\"2021-11-02T00:00:00\",\"2021-11-01T00:00:00\",\"2021-10-29T00:00:00\",\"2021-10-28T00:00:00\",\"2021-10-27T00:00:00\",\"2021-10-26T00:00:00\",\"2021-10-25T00:00:00\",\"2021-10-22T00:00:00\",\"2021-10-21T00:00:00\",\"2021-10-20T00:00:00\",\"2021-10-19T00:00:00\",\"2021-10-18T00:00:00\",\"2021-10-15T00:00:00\",\"2021-10-14T00:00:00\",\"2021-10-13T00:00:00\",\"2021-10-12T00:00:00\",\"2021-10-11T00:00:00\",\"2021-10-08T00:00:00\",\"2021-10-07T00:00:00\",\"2021-10-06T00:00:00\",\"2021-10-05T00:00:00\",\"2021-10-04T00:00:00\",\"2021-10-01T00:00:00\",\"2021-09-30T00:00:00\",\"2021-09-29T00:00:00\",\"2021-09-28T00:00:00\",\"2021-09-27T00:00:00\",\"2021-09-24T00:00:00\",\"2021-09-23T00:00:00\",\"2021-09-22T00:00:00\",\"2021-09-21T00:00:00\",\"2021-09-20T00:00:00\",\"2021-09-17T00:00:00\",\"2021-09-16T00:00:00\",\"2021-09-15T00:00:00\",\"2021-09-14T00:00:00\",\"2021-09-13T00:00:00\",\"2021-09-10T00:00:00\",\"2021-09-09T00:00:00\",\"2021-09-08T00:00:00\",\"2021-09-07T00:00:00\",\"2021-09-03T00:00:00\",\"2021-09-02T00:00:00\",\"2021-09-01T00:00:00\",\"2021-08-31T00:00:00\",\"2021-08-30T00:00:00\",\"2021-08-27T00:00:00\",\"2021-08-26T00:00:00\",\"2021-08-25T00:00:00\",\"2021-08-24T00:00:00\",\"2021-08-23T00:00:00\",\"2021-08-20T00:00:00\",\"2021-08-19T00:00:00\",\"2021-08-18T00:00:00\",\"2021-08-17T00:00:00\",\"2021-08-16T00:00:00\",\"2021-08-13T00:00:00\",\"2021-08-12T00:00:00\",\"2021-08-11T00:00:00\",\"2021-08-10T00:00:00\",\"2021-08-09T00:00:00\",\"2021-08-06T00:00:00\",\"2021-08-05T00:00:00\",\"2021-08-04T00:00:00\",\"2021-08-03T00:00:00\",\"2021-08-02T00:00:00\",\"2021-07-30T00:00:00\",\"2021-07-29T00:00:00\",\"2021-07-28T00:00:00\",\"2021-07-27T00:00:00\",\"2021-07-26T00:00:00\",\"2021-07-23T00:00:00\",\"2021-07-22T00:00:00\",\"2021-07-21T00:00:00\",\"2021-07-20T00:00:00\",\"2021-07-19T00:00:00\",\"2021-07-16T00:00:00\",\"2021-07-15T00:00:00\",\"2021-07-14T00:00:00\",\"2021-07-13T00:00:00\",\"2021-07-12T00:00:00\",\"2021-07-09T00:00:00\",\"2021-07-08T00:00:00\",\"2021-07-07T00:00:00\",\"2021-07-06T00:00:00\",\"2021-07-02T00:00:00\",\"2021-07-01T00:00:00\",\"2021-06-30T00:00:00\",\"2021-06-29T00:00:00\",\"2021-06-28T00:00:00\",\"2021-06-25T00:00:00\",\"2021-06-24T00:00:00\",\"2021-06-23T00:00:00\",\"2021-06-22T00:00:00\",\"2021-06-21T00:00:00\",\"2021-06-18T00:00:00\",\"2021-06-17T00:00:00\",\"2021-06-16T00:00:00\",\"2021-06-15T00:00:00\",\"2021-06-14T00:00:00\",\"2021-06-11T00:00:00\",\"2021-06-10T00:00:00\",\"2021-06-09T00:00:00\",\"2021-06-08T00:00:00\",\"2021-06-07T00:00:00\",\"2021-06-04T00:00:00\",\"2021-06-03T00:00:00\",\"2021-06-02T00:00:00\",\"2021-06-01T00:00:00\",\"2021-05-28T00:00:00\",\"2021-05-27T00:00:00\",\"2021-05-26T00:00:00\",\"2021-05-25T00:00:00\",\"2021-05-24T00:00:00\",\"2021-05-21T00:00:00\",\"2021-05-20T00:00:00\",\"2021-05-19T00:00:00\",\"2021-05-18T00:00:00\",\"2021-05-17T00:00:00\",\"2021-05-14T00:00:00\",\"2021-05-13T00:00:00\",\"2021-05-12T00:00:00\",\"2021-05-11T00:00:00\",\"2021-05-10T00:00:00\"],\"xaxis\":\"x\",\"y\":[5.59,5.49,5.52,5.46,5.3,5.31,5.09,5.07,5.08,5.09,5.08,5.04,4.79,4.89,4.94,4.85,4.83,5.0,4.97,4.93,4.98,4.84,4.89,4.75,4.69,4.64,4.6,4.62,4.87,4.74,4.72,4.77,4.6,4.7,4.715,4.75,4.81,4.64,4.62,4.71,4.67,4.65,4.76,5.0,5.17,5.0,5.05,4.92,4.74,4.57,4.71,4.56,4.44,4.49,4.49,4.59,4.52,4.48,4.55,4.89,4.93,5.01,5.05,5.13,5.1,5.16,5.25,5.19,5.27,5.15,5.26,5.25,5.32,5.3,5.49,5.52,5.57,5.6,5.64,5.79,5.85,5.66,5.67,5.58,5.44,5.04,5.21,5.18,5.04,5.0,5.01,5.15,5.16,4.93,4.85,4.86,4.9,5.07,4.91,5.05,4.97,4.93,4.86,5.19,5.47,5.46,5.46,5.59,5.33,5.53,5.65,5.85,5.61,5.7,5.72,5.82,5.92,5.67,5.49,5.49,5.61,5.41,5.32,5.13,5.45,5.64,5.76,5.89,6.05,5.88,6.02,6.0,6.14,6.23,6.2,6.19,6.35,6.29,6.45,6.33,6.18,6.4,6.35,6.5,6.41,6.07,5.86,6.31,6.48,6.6,6.72,6.56,6.79,6.5,6.35,6.38,6.53,6.2,5.98,5.91,5.82,6.08,6.27,6.26,6.2,6.22,6.26,6.41,6.89,6.94,7.14,7.06,7.17,7.24,7.0,7.29,6.79,6.95,6.64,6.41,6.29,6.24,6.39,6.13,6.48,6.6,6.9,6.68,7.03,7.4,6.7,6.25,6.28,6.55,6.69],\"yaxis\":\"y\",\"type\":\"scatter\"},{\"hovertemplate\":\"Name=BMA<br>Date=%{x}<br>Close=%{y}<extra></extra>\",\"legendgroup\":\"BMA\",\"line\":{\"color\":\"#FF7F0E\",\"dash\":\"solid\"},\"marker\":{\"symbol\":\"circle\"},\"mode\":\"lines\",\"name\":\"BMA\",\"orientation\":\"v\",\"showlegend\":true,\"x\":[\"2022-02-14T00:00:00\",\"2022-02-11T00:00:00\",\"2022-02-10T00:00:00\",\"2022-02-09T00:00:00\",\"2022-02-08T00:00:00\",\"2022-02-07T00:00:00\",\"2022-02-04T00:00:00\",\"2022-02-03T00:00:00\",\"2022-02-02T00:00:00\",\"2022-02-01T00:00:00\",\"2022-01-31T00:00:00\",\"2022-01-28T00:00:00\",\"2022-01-27T00:00:00\",\"2022-01-26T00:00:00\",\"2022-01-25T00:00:00\",\"2022-01-24T00:00:00\",\"2022-01-21T00:00:00\",\"2022-01-20T00:00:00\",\"2022-01-19T00:00:00\",\"2022-01-18T00:00:00\",\"2022-01-14T00:00:00\",\"2022-01-13T00:00:00\",\"2022-01-12T00:00:00\",\"2022-01-11T00:00:00\",\"2022-01-10T00:00:00\",\"2022-01-07T00:00:00\",\"2022-01-06T00:00:00\",\"2022-01-05T00:00:00\",\"2022-01-04T00:00:00\",\"2022-01-03T00:00:00\",\"2021-12-31T00:00:00\",\"2021-12-30T00:00:00\",\"2021-12-29T00:00:00\",\"2021-12-28T00:00:00\",\"2021-12-27T00:00:00\",\"2021-12-23T00:00:00\",\"2021-12-22T00:00:00\",\"2021-12-21T00:00:00\",\"2021-12-20T00:00:00\",\"2021-12-17T00:00:00\",\"2021-12-16T00:00:00\",\"2021-12-15T00:00:00\",\"2021-12-14T00:00:00\",\"2021-12-13T00:00:00\",\"2021-12-10T00:00:00\",\"2021-12-09T00:00:00\",\"2021-12-08T00:00:00\",\"2021-12-07T00:00:00\",\"2021-12-06T00:00:00\",\"2021-12-03T00:00:00\",\"2021-12-02T00:00:00\",\"2021-12-01T00:00:00\",\"2021-11-30T00:00:00\",\"2021-11-29T00:00:00\",\"2021-11-26T00:00:00\",\"2021-11-24T00:00:00\",\"2021-11-23T00:00:00\",\"2021-11-22T00:00:00\",\"2021-11-19T00:00:00\",\"2021-11-18T00:00:00\",\"2021-11-17T00:00:00\",\"2021-11-16T00:00:00\",\"2021-11-15T00:00:00\",\"2021-11-12T00:00:00\",\"2021-11-11T00:00:00\",\"2021-11-10T00:00:00\",\"2021-11-09T00:00:00\",\"2021-11-08T00:00:00\",\"2021-11-05T00:00:00\",\"2021-11-04T00:00:00\",\"2021-11-03T00:00:00\",\"2021-11-02T00:00:00\",\"2021-11-01T00:00:00\",\"2021-10-29T00:00:00\",\"2021-10-28T00:00:00\",\"2021-10-27T00:00:00\",\"2021-10-26T00:00:00\",\"2021-10-25T00:00:00\",\"2021-10-22T00:00:00\",\"2021-10-21T00:00:00\",\"2021-10-20T00:00:00\",\"2021-10-19T00:00:00\",\"2021-10-18T00:00:00\",\"2021-10-15T00:00:00\",\"2021-10-14T00:00:00\",\"2021-10-13T00:00:00\",\"2021-10-12T00:00:00\",\"2021-10-11T00:00:00\",\"2021-10-08T00:00:00\",\"2021-10-07T00:00:00\",\"2021-10-06T00:00:00\",\"2021-10-05T00:00:00\",\"2021-10-04T00:00:00\",\"2021-10-01T00:00:00\",\"2021-09-30T00:00:00\",\"2021-09-29T00:00:00\",\"2021-09-28T00:00:00\",\"2021-09-27T00:00:00\",\"2021-09-24T00:00:00\",\"2021-09-23T00:00:00\",\"2021-09-22T00:00:00\",\"2021-09-21T00:00:00\",\"2021-09-20T00:00:00\",\"2021-09-17T00:00:00\",\"2021-09-16T00:00:00\",\"2021-09-15T00:00:00\",\"2021-09-14T00:00:00\",\"2021-09-13T00:00:00\",\"2021-09-10T00:00:00\",\"2021-09-09T00:00:00\",\"2021-09-08T00:00:00\",\"2021-09-07T00:00:00\",\"2021-09-03T00:00:00\",\"2021-09-02T00:00:00\",\"2021-09-01T00:00:00\",\"2021-08-31T00:00:00\",\"2021-08-30T00:00:00\",\"2021-08-27T00:00:00\",\"2021-08-26T00:00:00\",\"2021-08-25T00:00:00\",\"2021-08-24T00:00:00\",\"2021-08-23T00:00:00\",\"2021-08-20T00:00:00\",\"2021-08-19T00:00:00\",\"2021-08-18T00:00:00\",\"2021-08-17T00:00:00\",\"2021-08-16T00:00:00\",\"2021-08-13T00:00:00\",\"2021-08-12T00:00:00\",\"2021-08-11T00:00:00\",\"2021-08-10T00:00:00\",\"2021-08-09T00:00:00\",\"2021-08-06T00:00:00\",\"2021-08-05T00:00:00\",\"2021-08-04T00:00:00\",\"2021-08-03T00:00:00\",\"2021-08-02T00:00:00\",\"2021-07-30T00:00:00\",\"2021-07-29T00:00:00\",\"2021-07-28T00:00:00\",\"2021-07-27T00:00:00\",\"2021-07-26T00:00:00\",\"2021-07-23T00:00:00\",\"2021-07-22T00:00:00\",\"2021-07-21T00:00:00\",\"2021-07-20T00:00:00\",\"2021-07-19T00:00:00\",\"2021-07-16T00:00:00\",\"2021-07-15T00:00:00\",\"2021-07-14T00:00:00\",\"2021-07-13T00:00:00\",\"2021-07-12T00:00:00\",\"2021-07-09T00:00:00\",\"2021-07-08T00:00:00\",\"2021-07-07T00:00:00\",\"2021-07-06T00:00:00\",\"2021-07-02T00:00:00\",\"2021-07-01T00:00:00\",\"2021-06-30T00:00:00\",\"2021-06-29T00:00:00\",\"2021-06-28T00:00:00\",\"2021-06-25T00:00:00\",\"2021-06-24T00:00:00\",\"2021-06-23T00:00:00\",\"2021-06-22T00:00:00\",\"2021-06-21T00:00:00\",\"2021-06-18T00:00:00\",\"2021-06-17T00:00:00\",\"2021-06-16T00:00:00\",\"2021-06-15T00:00:00\",\"2021-06-14T00:00:00\",\"2021-06-11T00:00:00\",\"2021-06-10T00:00:00\",\"2021-06-09T00:00:00\",\"2021-06-08T00:00:00\",\"2021-06-07T00:00:00\",\"2021-06-04T00:00:00\",\"2021-06-03T00:00:00\",\"2021-06-02T00:00:00\",\"2021-06-01T00:00:00\",\"2021-05-28T00:00:00\",\"2021-05-27T00:00:00\",\"2021-05-26T00:00:00\",\"2021-05-25T00:00:00\",\"2021-05-24T00:00:00\",\"2021-05-21T00:00:00\",\"2021-05-20T00:00:00\",\"2021-05-19T00:00:00\",\"2021-05-18T00:00:00\",\"2021-05-17T00:00:00\",\"2021-05-14T00:00:00\",\"2021-05-13T00:00:00\",\"2021-05-12T00:00:00\",\"2021-05-11T00:00:00\",\"2021-05-10T00:00:00\"],\"xaxis\":\"x\",\"y\":[13.55,13.76,13.69,13.73,13.87,13.93,13.82,13.93,14.23,14.3,14.43,13.96,12.8,12.95,12.81,12.41,13.22,13.95,14.12,13.96,14.68,14.45,14.24,14.07,13.79,13.99,13.57,13.42,14.04,14.27,14.02,14.32,14.36,14.48,15.15,14.55,14.32,14.31,14.17,14.34,14.77,14.4,14.04,13.64,14.21,14.51,14.62,14.5,14.29,14.13,14.62,14.3,13.27,13.25,13.57,13.79,14.17,14.1,14.76,15.56,15.25,15.67,17.06,17.16,17.51,17.2,17.04,16.8,16.13,16.19,16.78,16.01,15.87,15.73,16.62,16.7,17.71,18.26,17.63,18.02,18.35,17.1,17.12,17.29,16.78,16.53,16.36,16.52,16.55,16.63,16.99,17.07,16.79,17.32,16.99,16.85,16.56,16.66,16.08,16.75,16.95,16.89,17.31,19.67,19.44,19.43,19.9,19.73,18.29,18.53,18.56,18.99,17.77,17.95,18.4,18.7,19.11,17.65,17.09,17.4,16.84,15.42,14.6,14.3,14.14,14.2,14.23,14.51,14.86,14.86,14.67,13.97,13.86,13.79,13.51,13.75,13.4,13.5,14.06,14.08,13.86,13.87,13.66,14.07,14.55,13.77,13.93,14.1,14.45,14.85,14.9,14.91,14.3,14.0,14.31,14.53,15.0,14.79,15.03,15.26,15.69,15.79,16.38,16.42,16.91,16.48,17.06,17.4,17.98,17.72,17.66,17.62,18.35,18.31,17.7,18.11,17.62,17.27,16.71,16.48,16.39,15.29,15.18,14.58,14.86,15.14,15.76,15.45,15.53,15.77,15.3,14.29,13.5,13.71,14.06],\"yaxis\":\"y\",\"type\":\"scatter\"},{\"hovertemplate\":\"Name=TECO2<br>Date=%{x}<br>Close=%{y}<extra></extra>\",\"legendgroup\":\"TECO2\",\"line\":{\"color\":\"#2CA02C\",\"dash\":\"solid\"},\"marker\":{\"symbol\":\"circle\"},\"mode\":\"lines\",\"name\":\"TECO2\",\"orientation\":\"v\",\"showlegend\":true,\"x\":[\"2022-02-14T00:00:00\",\"2022-02-11T00:00:00\",\"2022-02-10T00:00:00\",\"2022-02-09T00:00:00\",\"2022-02-08T00:00:00\",\"2022-02-07T00:00:00\",\"2022-02-04T00:00:00\",\"2022-02-03T00:00:00\",\"2022-02-02T00:00:00\",\"2022-02-01T00:00:00\",\"2022-01-31T00:00:00\",\"2022-01-28T00:00:00\",\"2022-01-27T00:00:00\",\"2022-01-26T00:00:00\",\"2022-01-25T00:00:00\",\"2022-01-24T00:00:00\",\"2022-01-21T00:00:00\",\"2022-01-20T00:00:00\",\"2022-01-19T00:00:00\",\"2022-01-18T00:00:00\",\"2022-01-14T00:00:00\",\"2022-01-13T00:00:00\",\"2022-01-12T00:00:00\",\"2022-01-11T00:00:00\",\"2022-01-10T00:00:00\",\"2022-01-07T00:00:00\",\"2022-01-06T00:00:00\",\"2022-01-05T00:00:00\",\"2022-01-04T00:00:00\",\"2022-01-03T00:00:00\",\"2021-12-31T00:00:00\",\"2021-12-30T00:00:00\",\"2021-12-29T00:00:00\",\"2021-12-28T00:00:00\",\"2021-12-27T00:00:00\",\"2021-12-23T00:00:00\",\"2021-12-22T00:00:00\",\"2021-12-21T00:00:00\",\"2021-12-20T00:00:00\",\"2021-12-17T00:00:00\",\"2021-12-16T00:00:00\",\"2021-12-15T00:00:00\",\"2021-12-14T00:00:00\",\"2021-12-13T00:00:00\",\"2021-12-10T00:00:00\",\"2021-12-09T00:00:00\",\"2021-12-08T00:00:00\",\"2021-12-07T00:00:00\",\"2021-12-06T00:00:00\",\"2021-12-03T00:00:00\",\"2021-12-02T00:00:00\",\"2021-12-01T00:00:00\",\"2021-11-30T00:00:00\",\"2021-11-29T00:00:00\",\"2021-11-26T00:00:00\",\"2021-11-24T00:00:00\",\"2021-11-23T00:00:00\",\"2021-11-22T00:00:00\",\"2021-11-19T00:00:00\",\"2021-11-18T00:00:00\",\"2021-11-17T00:00:00\",\"2021-11-16T00:00:00\",\"2021-11-15T00:00:00\",\"2021-11-12T00:00:00\",\"2021-11-11T00:00:00\",\"2021-11-10T00:00:00\",\"2021-11-09T00:00:00\",\"2021-11-08T00:00:00\",\"2021-11-05T00:00:00\",\"2021-11-04T00:00:00\",\"2021-11-03T00:00:00\",\"2021-11-02T00:00:00\",\"2021-11-01T00:00:00\",\"2021-10-29T00:00:00\",\"2021-10-28T00:00:00\",\"2021-10-27T00:00:00\",\"2021-10-26T00:00:00\",\"2021-10-25T00:00:00\",\"2021-10-22T00:00:00\",\"2021-10-21T00:00:00\",\"2021-10-20T00:00:00\",\"2021-10-19T00:00:00\",\"2021-10-18T00:00:00\",\"2021-10-15T00:00:00\",\"2021-10-14T00:00:00\",\"2021-10-13T00:00:00\",\"2021-10-12T00:00:00\",\"2021-10-11T00:00:00\",\"2021-10-08T00:00:00\",\"2021-10-07T00:00:00\",\"2021-10-06T00:00:00\",\"2021-10-05T00:00:00\",\"2021-10-04T00:00:00\",\"2021-10-01T00:00:00\",\"2021-09-30T00:00:00\",\"2021-09-29T00:00:00\",\"2021-09-28T00:00:00\",\"2021-09-27T00:00:00\",\"2021-09-24T00:00:00\",\"2021-09-23T00:00:00\",\"2021-09-22T00:00:00\",\"2021-09-21T00:00:00\",\"2021-09-20T00:00:00\",\"2021-09-17T00:00:00\",\"2021-09-16T00:00:00\",\"2021-09-15T00:00:00\",\"2021-09-14T00:00:00\",\"2021-09-13T00:00:00\",\"2021-09-10T00:00:00\",\"2021-09-09T00:00:00\",\"2021-09-08T00:00:00\",\"2021-09-07T00:00:00\",\"2021-09-03T00:00:00\",\"2021-09-02T00:00:00\",\"2021-09-01T00:00:00\",\"2021-08-31T00:00:00\",\"2021-08-30T00:00:00\",\"2021-08-27T00:00:00\",\"2021-08-26T00:00:00\",\"2021-08-25T00:00:00\",\"2021-08-24T00:00:00\",\"2021-08-23T00:00:00\",\"2021-08-20T00:00:00\",\"2021-08-19T00:00:00\",\"2021-08-18T00:00:00\",\"2021-08-17T00:00:00\",\"2021-08-16T00:00:00\",\"2021-08-13T00:00:00\",\"2021-08-12T00:00:00\",\"2021-08-11T00:00:00\",\"2021-08-10T00:00:00\",\"2021-08-09T00:00:00\",\"2021-08-06T00:00:00\",\"2021-08-05T00:00:00\",\"2021-08-04T00:00:00\",\"2021-08-03T00:00:00\",\"2021-08-02T00:00:00\",\"2021-07-30T00:00:00\",\"2021-07-29T00:00:00\",\"2021-07-28T00:00:00\",\"2021-07-27T00:00:00\",\"2021-07-26T00:00:00\",\"2021-07-23T00:00:00\",\"2021-07-22T00:00:00\",\"2021-07-21T00:00:00\",\"2021-07-20T00:00:00\",\"2021-07-19T00:00:00\",\"2021-07-16T00:00:00\",\"2021-07-15T00:00:00\",\"2021-07-14T00:00:00\",\"2021-07-13T00:00:00\",\"2021-07-12T00:00:00\",\"2021-07-09T00:00:00\",\"2021-07-08T00:00:00\",\"2021-07-07T00:00:00\",\"2021-07-06T00:00:00\",\"2021-07-02T00:00:00\",\"2021-07-01T00:00:00\",\"2021-06-30T00:00:00\",\"2021-06-29T00:00:00\",\"2021-06-28T00:00:00\",\"2021-06-25T00:00:00\",\"2021-06-24T00:00:00\",\"2021-06-23T00:00:00\",\"2021-06-22T00:00:00\",\"2021-06-21T00:00:00\",\"2021-06-18T00:00:00\",\"2021-06-17T00:00:00\",\"2021-06-16T00:00:00\",\"2021-06-15T00:00:00\",\"2021-06-14T00:00:00\",\"2021-06-11T00:00:00\",\"2021-06-10T00:00:00\",\"2021-06-09T00:00:00\",\"2021-06-08T00:00:00\",\"2021-06-07T00:00:00\",\"2021-06-04T00:00:00\",\"2021-06-03T00:00:00\",\"2021-06-02T00:00:00\",\"2021-06-01T00:00:00\",\"2021-05-28T00:00:00\",\"2021-05-27T00:00:00\",\"2021-05-26T00:00:00\",\"2021-05-25T00:00:00\",\"2021-05-24T00:00:00\",\"2021-05-21T00:00:00\",\"2021-05-20T00:00:00\",\"2021-05-19T00:00:00\",\"2021-05-18T00:00:00\",\"2021-05-17T00:00:00\",\"2021-05-14T00:00:00\",\"2021-05-13T00:00:00\",\"2021-05-12T00:00:00\",\"2021-05-11T00:00:00\",\"2021-05-10T00:00:00\"],\"xaxis\":\"x\",\"y\":[5.38,5.5,5.21,5.1,5.12,5.09,5.08,5.08,5.1,5.12,5.08,5.07,4.82,4.85,4.89,4.9,4.92,5.05,5.04,5.09,5.11,5.15,5.13,5.16,5.03,5.0,4.9,5.05,5.07,5.14,5.1,5.09,5.18,5.22,5.3,5.15,4.98,4.98,4.92,4.99,4.99,4.94,5.01,5.05,5.06,5.22,5.34,5.2,4.99,4.95,4.99,4.91,4.85,5.06,4.97,5.01,5.1,5.1,5.07,5.6,5.37,5.34,5.45,5.33,5.52,5.51,5.35,5.29,5.09,5.05,5.13,5.05,5.1,5.05,5.13,5.2,5.4,5.31,5.23,5.28,5.35,5.24,5.09,5.15,5.2,5.02,5.05,4.99,5.02,5.0,4.95,5.05,4.95,5.0,4.95,4.95,4.91,4.94,4.92,4.98,4.99,4.98,4.98,5.06,5.33,5.26,5.35,5.29,5.06,5.14,5.25,5.29,5.13,5.27,5.16,5.2064,5.3827,5.1878,5.1693,5.1693,5.0765,4.9744,4.8723,4.7238,4.8909,4.8352,4.7609,4.8909,4.8166,4.6867,4.7053,4.7609,4.928,4.7609,4.6867,4.6867,4.6867,4.6588,4.696,4.7238,4.7145,4.696,4.6867,4.7331,4.7981,4.6403,4.6124,4.7424,4.7331,4.6403,4.6496,4.7053,4.5568,4.5753,4.631,4.6124,4.6867,4.6774,4.9373,5.0115,4.9744,5.1414,5.1786,5.2064,5.0115,5.1043,5.1229,5.4106,5.624,5.5869,5.6704,5.6797,6.0045,6.0509,5.7818,5.7632,5.3642,5.16,5.3178,5.2621,5.3271,5.1786,4.7609,4.5846,4.5939,4.7981,4.8723,4.9651,5.0208,4.7517,4.7795,4.5753,4.5011,4.3897,4.3155],\"yaxis\":\"y\",\"type\":\"scatter\"}],                        {\"template\":{\"data\":{\"pie\":[{\"automargin\":true,\"type\":\"pie\"}]},\"layout\":{\"xaxis\":{\"showgrid\":true,\"title\":{\"standoff\":15}},\"yaxis\":{\"showgrid\":true,\"title\":{\"standoff\":15}}}},\"xaxis\":{\"anchor\":\"y\",\"domain\":[0.0,1.0],\"title\":{\"text\":\"Date\"}},\"yaxis\":{\"anchor\":\"x\",\"domain\":[0.0,1.0],\"title\":{\"text\":\"Close\"}},\"legend\":{\"title\":{\"text\":\"Name\"},\"tracegroupgap\":0},\"title\":{\"text\":\"Banco Macro S.A. - Telecom de Argentina S.A.\"}},                        {\"responsive\": true}                    ).then(function(){\n",
              "                            \n",
              "var gd = document.getElementById('a04a607c-8a85-4e5d-9ccf-44010eed23d2');\n",
              "var x = new MutationObserver(function (mutations, observer) {{\n",
              "        var display = window.getComputedStyle(gd).display;\n",
              "        if (!display || display === 'none') {{\n",
              "            console.log([gd, 'removed!']);\n",
              "            Plotly.purge(gd);\n",
              "            observer.disconnect();\n",
              "        }}\n",
              "}});\n",
              "\n",
              "// Listen for the removal of the full notebook cells\n",
              "var notebookContainer = gd.closest('#notebook-container');\n",
              "if (notebookContainer) {{\n",
              "    x.observe(notebookContainer, {childList: true});\n",
              "}}\n",
              "\n",
              "// Listen for the clearing of the current output cell\n",
              "var outputEl = gd.closest('.output');\n",
              "if (outputEl) {{\n",
              "    x.observe(outputEl, {childList: true});\n",
              "}}\n",
              "\n",
              "                        })                };                            </script>        </div>\n",
              "</body>\n",
              "</html>"
            ]
          },
          "metadata": {}
        }
      ]
    },
    {
      "cell_type": "code",
      "metadata": {
        "colab": {
          "base_uri": "https://localhost:8080/",
          "height": 542
        },
        "id": "YmxTG7rfsSBc",
        "outputId": "cd1db1f4-16c3-4485-c2af-39f72ccff64a"
      },
      "source": [
        "df = CARTERA\n",
        "fig = px.line(df, \n",
        "              x=\"Date\", \n",
        "              y=\"Close\", \n",
        "              color=\"Name\", \n",
        "              template=\"gridon\",\n",
        "              title=\"Cartera de acciones\")\n",
        "fig.show()"
      ],
      "execution_count": null,
      "outputs": [
        {
          "output_type": "display_data",
          "data": {
            "text/html": [
              "<html>\n",
              "<head><meta charset=\"utf-8\" /></head>\n",
              "<body>\n",
              "    <div>            <script src=\"https://cdnjs.cloudflare.com/ajax/libs/mathjax/2.7.5/MathJax.js?config=TeX-AMS-MML_SVG\"></script><script type=\"text/javascript\">if (window.MathJax) {MathJax.Hub.Config({SVG: {font: \"STIX-Web\"}});}</script>                <script type=\"text/javascript\">window.PlotlyConfig = {MathJaxConfig: 'local'};</script>\n",
              "        <script src=\"https://cdn.plot.ly/plotly-2.8.3.min.js\"></script>                <div id=\"441c902e-fd25-4cd1-8c82-cdf3474798f5\" class=\"plotly-graph-div\" style=\"height:525px; width:100%;\"></div>            <script type=\"text/javascript\">                                    window.PLOTLYENV=window.PLOTLYENV || {};                                    if (document.getElementById(\"441c902e-fd25-4cd1-8c82-cdf3474798f5\")) {                    Plotly.newPlot(                        \"441c902e-fd25-4cd1-8c82-cdf3474798f5\",                        [{\"hovertemplate\":\"Name=CRES<br>Date=%{x}<br>Close=%{y}<extra></extra>\",\"legendgroup\":\"CRES\",\"line\":{\"color\":\"#1F77B4\",\"dash\":\"solid\"},\"marker\":{\"symbol\":\"circle\"},\"mode\":\"lines\",\"name\":\"CRES\",\"orientation\":\"v\",\"showlegend\":true,\"x\":[\"2022-02-14T00:00:00\",\"2022-02-11T00:00:00\",\"2022-02-10T00:00:00\",\"2022-02-09T00:00:00\",\"2022-02-08T00:00:00\",\"2022-02-07T00:00:00\",\"2022-02-04T00:00:00\",\"2022-02-03T00:00:00\",\"2022-02-02T00:00:00\",\"2022-02-01T00:00:00\",\"2022-01-31T00:00:00\",\"2022-01-28T00:00:00\",\"2022-01-27T00:00:00\",\"2022-01-26T00:00:00\",\"2022-01-25T00:00:00\",\"2022-01-24T00:00:00\",\"2022-01-21T00:00:00\",\"2022-01-20T00:00:00\",\"2022-01-19T00:00:00\",\"2022-01-18T00:00:00\",\"2022-01-14T00:00:00\",\"2022-01-13T00:00:00\",\"2022-01-12T00:00:00\",\"2022-01-11T00:00:00\",\"2022-01-10T00:00:00\",\"2022-01-07T00:00:00\",\"2022-01-06T00:00:00\",\"2022-01-05T00:00:00\",\"2022-01-04T00:00:00\",\"2022-01-03T00:00:00\",\"2021-12-31T00:00:00\",\"2021-12-30T00:00:00\",\"2021-12-29T00:00:00\",\"2021-12-28T00:00:00\",\"2021-12-27T00:00:00\",\"2021-12-23T00:00:00\",\"2021-12-22T00:00:00\",\"2021-12-21T00:00:00\",\"2021-12-20T00:00:00\",\"2021-12-17T00:00:00\",\"2021-12-16T00:00:00\",\"2021-12-15T00:00:00\",\"2021-12-14T00:00:00\",\"2021-12-13T00:00:00\",\"2021-12-10T00:00:00\",\"2021-12-09T00:00:00\",\"2021-12-08T00:00:00\",\"2021-12-07T00:00:00\",\"2021-12-06T00:00:00\",\"2021-12-03T00:00:00\",\"2021-12-02T00:00:00\",\"2021-12-01T00:00:00\",\"2021-11-30T00:00:00\",\"2021-11-29T00:00:00\",\"2021-11-26T00:00:00\",\"2021-11-24T00:00:00\",\"2021-11-23T00:00:00\",\"2021-11-22T00:00:00\",\"2021-11-19T00:00:00\",\"2021-11-18T00:00:00\",\"2021-11-17T00:00:00\",\"2021-11-16T00:00:00\",\"2021-11-15T00:00:00\",\"2021-11-12T00:00:00\",\"2021-11-11T00:00:00\",\"2021-11-10T00:00:00\",\"2021-11-09T00:00:00\",\"2021-11-08T00:00:00\",\"2021-11-05T00:00:00\",\"2021-11-04T00:00:00\",\"2021-11-03T00:00:00\",\"2021-11-02T00:00:00\",\"2021-11-01T00:00:00\",\"2021-10-29T00:00:00\",\"2021-10-28T00:00:00\",\"2021-10-27T00:00:00\",\"2021-10-26T00:00:00\",\"2021-10-25T00:00:00\",\"2021-10-22T00:00:00\",\"2021-10-21T00:00:00\",\"2021-10-20T00:00:00\",\"2021-10-19T00:00:00\",\"2021-10-18T00:00:00\",\"2021-10-15T00:00:00\",\"2021-10-14T00:00:00\",\"2021-10-13T00:00:00\",\"2021-10-12T00:00:00\",\"2021-10-11T00:00:00\",\"2021-10-08T00:00:00\",\"2021-10-07T00:00:00\",\"2021-10-06T00:00:00\",\"2021-10-05T00:00:00\",\"2021-10-04T00:00:00\",\"2021-10-01T00:00:00\",\"2021-09-30T00:00:00\",\"2021-09-29T00:00:00\",\"2021-09-28T00:00:00\",\"2021-09-27T00:00:00\",\"2021-09-24T00:00:00\",\"2021-09-23T00:00:00\",\"2021-09-22T00:00:00\",\"2021-09-21T00:00:00\",\"2021-09-20T00:00:00\",\"2021-09-17T00:00:00\",\"2021-09-16T00:00:00\",\"2021-09-15T00:00:00\",\"2021-09-14T00:00:00\",\"2021-09-13T00:00:00\",\"2021-09-10T00:00:00\",\"2021-09-09T00:00:00\",\"2021-09-08T00:00:00\",\"2021-09-07T00:00:00\",\"2021-09-03T00:00:00\",\"2021-09-02T00:00:00\",\"2021-09-01T00:00:00\",\"2021-08-31T00:00:00\",\"2021-08-30T00:00:00\",\"2021-08-27T00:00:00\",\"2021-08-26T00:00:00\",\"2021-08-25T00:00:00\",\"2021-08-24T00:00:00\",\"2021-08-23T00:00:00\",\"2021-08-20T00:00:00\",\"2021-08-19T00:00:00\",\"2021-08-18T00:00:00\",\"2021-08-17T00:00:00\",\"2021-08-16T00:00:00\",\"2021-08-13T00:00:00\",\"2021-08-12T00:00:00\",\"2021-08-11T00:00:00\",\"2021-08-10T00:00:00\",\"2021-08-09T00:00:00\",\"2021-08-06T00:00:00\",\"2021-08-05T00:00:00\",\"2021-08-04T00:00:00\",\"2021-08-03T00:00:00\",\"2021-08-02T00:00:00\",\"2021-07-30T00:00:00\",\"2021-07-29T00:00:00\",\"2021-07-28T00:00:00\",\"2021-07-27T00:00:00\",\"2021-07-26T00:00:00\",\"2021-07-23T00:00:00\",\"2021-07-22T00:00:00\",\"2021-07-21T00:00:00\",\"2021-07-20T00:00:00\",\"2021-07-19T00:00:00\",\"2021-07-16T00:00:00\",\"2021-07-15T00:00:00\",\"2021-07-14T00:00:00\",\"2021-07-13T00:00:00\",\"2021-07-12T00:00:00\",\"2021-07-09T00:00:00\",\"2021-07-08T00:00:00\",\"2021-07-07T00:00:00\",\"2021-07-06T00:00:00\",\"2021-07-02T00:00:00\",\"2021-07-01T00:00:00\",\"2021-06-30T00:00:00\",\"2021-06-29T00:00:00\",\"2021-06-28T00:00:00\",\"2021-06-25T00:00:00\",\"2021-06-24T00:00:00\",\"2021-06-23T00:00:00\",\"2021-06-22T00:00:00\",\"2021-06-21T00:00:00\",\"2021-06-18T00:00:00\",\"2021-06-17T00:00:00\",\"2021-06-16T00:00:00\",\"2021-06-15T00:00:00\",\"2021-06-14T00:00:00\",\"2021-06-11T00:00:00\",\"2021-06-10T00:00:00\",\"2021-06-09T00:00:00\",\"2021-06-08T00:00:00\",\"2021-06-07T00:00:00\",\"2021-06-04T00:00:00\",\"2021-06-03T00:00:00\",\"2021-06-02T00:00:00\",\"2021-06-01T00:00:00\",\"2021-05-28T00:00:00\",\"2021-05-27T00:00:00\",\"2021-05-26T00:00:00\",\"2021-05-25T00:00:00\",\"2021-05-24T00:00:00\",\"2021-05-21T00:00:00\",\"2021-05-20T00:00:00\",\"2021-05-19T00:00:00\",\"2021-05-18T00:00:00\",\"2021-05-17T00:00:00\",\"2021-05-14T00:00:00\",\"2021-05-13T00:00:00\",\"2021-05-12T00:00:00\",\"2021-05-11T00:00:00\",\"2021-05-10T00:00:00\"],\"xaxis\":\"x\",\"y\":[5.59,5.49,5.52,5.46,5.3,5.31,5.09,5.07,5.08,5.09,5.08,5.04,4.79,4.89,4.94,4.85,4.83,5.0,4.97,4.93,4.98,4.84,4.89,4.75,4.69,4.64,4.6,4.62,4.87,4.74,4.72,4.77,4.6,4.7,4.715,4.75,4.81,4.64,4.62,4.71,4.67,4.65,4.76,5.0,5.17,5.0,5.05,4.92,4.74,4.57,4.71,4.56,4.44,4.49,4.49,4.59,4.52,4.48,4.55,4.89,4.93,5.01,5.05,5.13,5.1,5.16,5.25,5.19,5.27,5.15,5.26,5.25,5.32,5.3,5.49,5.52,5.57,5.6,5.64,5.79,5.85,5.66,5.67,5.58,5.44,5.04,5.21,5.18,5.04,5.0,5.01,5.15,5.16,4.93,4.85,4.86,4.9,5.07,4.91,5.05,4.97,4.93,4.86,5.19,5.47,5.46,5.46,5.59,5.33,5.53,5.65,5.85,5.61,5.7,5.72,5.82,5.92,5.67,5.49,5.49,5.61,5.41,5.32,5.13,5.45,5.64,5.76,5.89,6.05,5.88,6.02,6.0,6.14,6.23,6.2,6.19,6.35,6.29,6.45,6.33,6.18,6.4,6.35,6.5,6.41,6.07,5.86,6.31,6.48,6.6,6.72,6.56,6.79,6.5,6.35,6.38,6.53,6.2,5.98,5.91,5.82,6.08,6.27,6.26,6.2,6.22,6.26,6.41,6.89,6.94,7.14,7.06,7.17,7.24,7.0,7.29,6.79,6.95,6.64,6.41,6.29,6.24,6.39,6.13,6.48,6.6,6.9,6.68,7.03,7.4,6.7,6.25,6.28,6.55,6.69],\"yaxis\":\"y\",\"type\":\"scatter\"},{\"hovertemplate\":\"Name=BMA<br>Date=%{x}<br>Close=%{y}<extra></extra>\",\"legendgroup\":\"BMA\",\"line\":{\"color\":\"#FF7F0E\",\"dash\":\"solid\"},\"marker\":{\"symbol\":\"circle\"},\"mode\":\"lines\",\"name\":\"BMA\",\"orientation\":\"v\",\"showlegend\":true,\"x\":[\"2022-02-14T00:00:00\",\"2022-02-11T00:00:00\",\"2022-02-10T00:00:00\",\"2022-02-09T00:00:00\",\"2022-02-08T00:00:00\",\"2022-02-07T00:00:00\",\"2022-02-04T00:00:00\",\"2022-02-03T00:00:00\",\"2022-02-02T00:00:00\",\"2022-02-01T00:00:00\",\"2022-01-31T00:00:00\",\"2022-01-28T00:00:00\",\"2022-01-27T00:00:00\",\"2022-01-26T00:00:00\",\"2022-01-25T00:00:00\",\"2022-01-24T00:00:00\",\"2022-01-21T00:00:00\",\"2022-01-20T00:00:00\",\"2022-01-19T00:00:00\",\"2022-01-18T00:00:00\",\"2022-01-14T00:00:00\",\"2022-01-13T00:00:00\",\"2022-01-12T00:00:00\",\"2022-01-11T00:00:00\",\"2022-01-10T00:00:00\",\"2022-01-07T00:00:00\",\"2022-01-06T00:00:00\",\"2022-01-05T00:00:00\",\"2022-01-04T00:00:00\",\"2022-01-03T00:00:00\",\"2021-12-31T00:00:00\",\"2021-12-30T00:00:00\",\"2021-12-29T00:00:00\",\"2021-12-28T00:00:00\",\"2021-12-27T00:00:00\",\"2021-12-23T00:00:00\",\"2021-12-22T00:00:00\",\"2021-12-21T00:00:00\",\"2021-12-20T00:00:00\",\"2021-12-17T00:00:00\",\"2021-12-16T00:00:00\",\"2021-12-15T00:00:00\",\"2021-12-14T00:00:00\",\"2021-12-13T00:00:00\",\"2021-12-10T00:00:00\",\"2021-12-09T00:00:00\",\"2021-12-08T00:00:00\",\"2021-12-07T00:00:00\",\"2021-12-06T00:00:00\",\"2021-12-03T00:00:00\",\"2021-12-02T00:00:00\",\"2021-12-01T00:00:00\",\"2021-11-30T00:00:00\",\"2021-11-29T00:00:00\",\"2021-11-26T00:00:00\",\"2021-11-24T00:00:00\",\"2021-11-23T00:00:00\",\"2021-11-22T00:00:00\",\"2021-11-19T00:00:00\",\"2021-11-18T00:00:00\",\"2021-11-17T00:00:00\",\"2021-11-16T00:00:00\",\"2021-11-15T00:00:00\",\"2021-11-12T00:00:00\",\"2021-11-11T00:00:00\",\"2021-11-10T00:00:00\",\"2021-11-09T00:00:00\",\"2021-11-08T00:00:00\",\"2021-11-05T00:00:00\",\"2021-11-04T00:00:00\",\"2021-11-03T00:00:00\",\"2021-11-02T00:00:00\",\"2021-11-01T00:00:00\",\"2021-10-29T00:00:00\",\"2021-10-28T00:00:00\",\"2021-10-27T00:00:00\",\"2021-10-26T00:00:00\",\"2021-10-25T00:00:00\",\"2021-10-22T00:00:00\",\"2021-10-21T00:00:00\",\"2021-10-20T00:00:00\",\"2021-10-19T00:00:00\",\"2021-10-18T00:00:00\",\"2021-10-15T00:00:00\",\"2021-10-14T00:00:00\",\"2021-10-13T00:00:00\",\"2021-10-12T00:00:00\",\"2021-10-11T00:00:00\",\"2021-10-08T00:00:00\",\"2021-10-07T00:00:00\",\"2021-10-06T00:00:00\",\"2021-10-05T00:00:00\",\"2021-10-04T00:00:00\",\"2021-10-01T00:00:00\",\"2021-09-30T00:00:00\",\"2021-09-29T00:00:00\",\"2021-09-28T00:00:00\",\"2021-09-27T00:00:00\",\"2021-09-24T00:00:00\",\"2021-09-23T00:00:00\",\"2021-09-22T00:00:00\",\"2021-09-21T00:00:00\",\"2021-09-20T00:00:00\",\"2021-09-17T00:00:00\",\"2021-09-16T00:00:00\",\"2021-09-15T00:00:00\",\"2021-09-14T00:00:00\",\"2021-09-13T00:00:00\",\"2021-09-10T00:00:00\",\"2021-09-09T00:00:00\",\"2021-09-08T00:00:00\",\"2021-09-07T00:00:00\",\"2021-09-03T00:00:00\",\"2021-09-02T00:00:00\",\"2021-09-01T00:00:00\",\"2021-08-31T00:00:00\",\"2021-08-30T00:00:00\",\"2021-08-27T00:00:00\",\"2021-08-26T00:00:00\",\"2021-08-25T00:00:00\",\"2021-08-24T00:00:00\",\"2021-08-23T00:00:00\",\"2021-08-20T00:00:00\",\"2021-08-19T00:00:00\",\"2021-08-18T00:00:00\",\"2021-08-17T00:00:00\",\"2021-08-16T00:00:00\",\"2021-08-13T00:00:00\",\"2021-08-12T00:00:00\",\"2021-08-11T00:00:00\",\"2021-08-10T00:00:00\",\"2021-08-09T00:00:00\",\"2021-08-06T00:00:00\",\"2021-08-05T00:00:00\",\"2021-08-04T00:00:00\",\"2021-08-03T00:00:00\",\"2021-08-02T00:00:00\",\"2021-07-30T00:00:00\",\"2021-07-29T00:00:00\",\"2021-07-28T00:00:00\",\"2021-07-27T00:00:00\",\"2021-07-26T00:00:00\",\"2021-07-23T00:00:00\",\"2021-07-22T00:00:00\",\"2021-07-21T00:00:00\",\"2021-07-20T00:00:00\",\"2021-07-19T00:00:00\",\"2021-07-16T00:00:00\",\"2021-07-15T00:00:00\",\"2021-07-14T00:00:00\",\"2021-07-13T00:00:00\",\"2021-07-12T00:00:00\",\"2021-07-09T00:00:00\",\"2021-07-08T00:00:00\",\"2021-07-07T00:00:00\",\"2021-07-06T00:00:00\",\"2021-07-02T00:00:00\",\"2021-07-01T00:00:00\",\"2021-06-30T00:00:00\",\"2021-06-29T00:00:00\",\"2021-06-28T00:00:00\",\"2021-06-25T00:00:00\",\"2021-06-24T00:00:00\",\"2021-06-23T00:00:00\",\"2021-06-22T00:00:00\",\"2021-06-21T00:00:00\",\"2021-06-18T00:00:00\",\"2021-06-17T00:00:00\",\"2021-06-16T00:00:00\",\"2021-06-15T00:00:00\",\"2021-06-14T00:00:00\",\"2021-06-11T00:00:00\",\"2021-06-10T00:00:00\",\"2021-06-09T00:00:00\",\"2021-06-08T00:00:00\",\"2021-06-07T00:00:00\",\"2021-06-04T00:00:00\",\"2021-06-03T00:00:00\",\"2021-06-02T00:00:00\",\"2021-06-01T00:00:00\",\"2021-05-28T00:00:00\",\"2021-05-27T00:00:00\",\"2021-05-26T00:00:00\",\"2021-05-25T00:00:00\",\"2021-05-24T00:00:00\",\"2021-05-21T00:00:00\",\"2021-05-20T00:00:00\",\"2021-05-19T00:00:00\",\"2021-05-18T00:00:00\",\"2021-05-17T00:00:00\",\"2021-05-14T00:00:00\",\"2021-05-13T00:00:00\",\"2021-05-12T00:00:00\",\"2021-05-11T00:00:00\",\"2021-05-10T00:00:00\"],\"xaxis\":\"x\",\"y\":[13.55,13.76,13.69,13.73,13.87,13.93,13.82,13.93,14.23,14.3,14.43,13.96,12.8,12.95,12.81,12.41,13.22,13.95,14.12,13.96,14.68,14.45,14.24,14.07,13.79,13.99,13.57,13.42,14.04,14.27,14.02,14.32,14.36,14.48,15.15,14.55,14.32,14.31,14.17,14.34,14.77,14.4,14.04,13.64,14.21,14.51,14.62,14.5,14.29,14.13,14.62,14.3,13.27,13.25,13.57,13.79,14.17,14.1,14.76,15.56,15.25,15.67,17.06,17.16,17.51,17.2,17.04,16.8,16.13,16.19,16.78,16.01,15.87,15.73,16.62,16.7,17.71,18.26,17.63,18.02,18.35,17.1,17.12,17.29,16.78,16.53,16.36,16.52,16.55,16.63,16.99,17.07,16.79,17.32,16.99,16.85,16.56,16.66,16.08,16.75,16.95,16.89,17.31,19.67,19.44,19.43,19.9,19.73,18.29,18.53,18.56,18.99,17.77,17.95,18.4,18.7,19.11,17.65,17.09,17.4,16.84,15.42,14.6,14.3,14.14,14.2,14.23,14.51,14.86,14.86,14.67,13.97,13.86,13.79,13.51,13.75,13.4,13.5,14.06,14.08,13.86,13.87,13.66,14.07,14.55,13.77,13.93,14.1,14.45,14.85,14.9,14.91,14.3,14.0,14.31,14.53,15.0,14.79,15.03,15.26,15.69,15.79,16.38,16.42,16.91,16.48,17.06,17.4,17.98,17.72,17.66,17.62,18.35,18.31,17.7,18.11,17.62,17.27,16.71,16.48,16.39,15.29,15.18,14.58,14.86,15.14,15.76,15.45,15.53,15.77,15.3,14.29,13.5,13.71,14.06],\"yaxis\":\"y\",\"type\":\"scatter\"},{\"hovertemplate\":\"Name=TECO2<br>Date=%{x}<br>Close=%{y}<extra></extra>\",\"legendgroup\":\"TECO2\",\"line\":{\"color\":\"#2CA02C\",\"dash\":\"solid\"},\"marker\":{\"symbol\":\"circle\"},\"mode\":\"lines\",\"name\":\"TECO2\",\"orientation\":\"v\",\"showlegend\":true,\"x\":[\"2022-02-14T00:00:00\",\"2022-02-11T00:00:00\",\"2022-02-10T00:00:00\",\"2022-02-09T00:00:00\",\"2022-02-08T00:00:00\",\"2022-02-07T00:00:00\",\"2022-02-04T00:00:00\",\"2022-02-03T00:00:00\",\"2022-02-02T00:00:00\",\"2022-02-01T00:00:00\",\"2022-01-31T00:00:00\",\"2022-01-28T00:00:00\",\"2022-01-27T00:00:00\",\"2022-01-26T00:00:00\",\"2022-01-25T00:00:00\",\"2022-01-24T00:00:00\",\"2022-01-21T00:00:00\",\"2022-01-20T00:00:00\",\"2022-01-19T00:00:00\",\"2022-01-18T00:00:00\",\"2022-01-14T00:00:00\",\"2022-01-13T00:00:00\",\"2022-01-12T00:00:00\",\"2022-01-11T00:00:00\",\"2022-01-10T00:00:00\",\"2022-01-07T00:00:00\",\"2022-01-06T00:00:00\",\"2022-01-05T00:00:00\",\"2022-01-04T00:00:00\",\"2022-01-03T00:00:00\",\"2021-12-31T00:00:00\",\"2021-12-30T00:00:00\",\"2021-12-29T00:00:00\",\"2021-12-28T00:00:00\",\"2021-12-27T00:00:00\",\"2021-12-23T00:00:00\",\"2021-12-22T00:00:00\",\"2021-12-21T00:00:00\",\"2021-12-20T00:00:00\",\"2021-12-17T00:00:00\",\"2021-12-16T00:00:00\",\"2021-12-15T00:00:00\",\"2021-12-14T00:00:00\",\"2021-12-13T00:00:00\",\"2021-12-10T00:00:00\",\"2021-12-09T00:00:00\",\"2021-12-08T00:00:00\",\"2021-12-07T00:00:00\",\"2021-12-06T00:00:00\",\"2021-12-03T00:00:00\",\"2021-12-02T00:00:00\",\"2021-12-01T00:00:00\",\"2021-11-30T00:00:00\",\"2021-11-29T00:00:00\",\"2021-11-26T00:00:00\",\"2021-11-24T00:00:00\",\"2021-11-23T00:00:00\",\"2021-11-22T00:00:00\",\"2021-11-19T00:00:00\",\"2021-11-18T00:00:00\",\"2021-11-17T00:00:00\",\"2021-11-16T00:00:00\",\"2021-11-15T00:00:00\",\"2021-11-12T00:00:00\",\"2021-11-11T00:00:00\",\"2021-11-10T00:00:00\",\"2021-11-09T00:00:00\",\"2021-11-08T00:00:00\",\"2021-11-05T00:00:00\",\"2021-11-04T00:00:00\",\"2021-11-03T00:00:00\",\"2021-11-02T00:00:00\",\"2021-11-01T00:00:00\",\"2021-10-29T00:00:00\",\"2021-10-28T00:00:00\",\"2021-10-27T00:00:00\",\"2021-10-26T00:00:00\",\"2021-10-25T00:00:00\",\"2021-10-22T00:00:00\",\"2021-10-21T00:00:00\",\"2021-10-20T00:00:00\",\"2021-10-19T00:00:00\",\"2021-10-18T00:00:00\",\"2021-10-15T00:00:00\",\"2021-10-14T00:00:00\",\"2021-10-13T00:00:00\",\"2021-10-12T00:00:00\",\"2021-10-11T00:00:00\",\"2021-10-08T00:00:00\",\"2021-10-07T00:00:00\",\"2021-10-06T00:00:00\",\"2021-10-05T00:00:00\",\"2021-10-04T00:00:00\",\"2021-10-01T00:00:00\",\"2021-09-30T00:00:00\",\"2021-09-29T00:00:00\",\"2021-09-28T00:00:00\",\"2021-09-27T00:00:00\",\"2021-09-24T00:00:00\",\"2021-09-23T00:00:00\",\"2021-09-22T00:00:00\",\"2021-09-21T00:00:00\",\"2021-09-20T00:00:00\",\"2021-09-17T00:00:00\",\"2021-09-16T00:00:00\",\"2021-09-15T00:00:00\",\"2021-09-14T00:00:00\",\"2021-09-13T00:00:00\",\"2021-09-10T00:00:00\",\"2021-09-09T00:00:00\",\"2021-09-08T00:00:00\",\"2021-09-07T00:00:00\",\"2021-09-03T00:00:00\",\"2021-09-02T00:00:00\",\"2021-09-01T00:00:00\",\"2021-08-31T00:00:00\",\"2021-08-30T00:00:00\",\"2021-08-27T00:00:00\",\"2021-08-26T00:00:00\",\"2021-08-25T00:00:00\",\"2021-08-24T00:00:00\",\"2021-08-23T00:00:00\",\"2021-08-20T00:00:00\",\"2021-08-19T00:00:00\",\"2021-08-18T00:00:00\",\"2021-08-17T00:00:00\",\"2021-08-16T00:00:00\",\"2021-08-13T00:00:00\",\"2021-08-12T00:00:00\",\"2021-08-11T00:00:00\",\"2021-08-10T00:00:00\",\"2021-08-09T00:00:00\",\"2021-08-06T00:00:00\",\"2021-08-05T00:00:00\",\"2021-08-04T00:00:00\",\"2021-08-03T00:00:00\",\"2021-08-02T00:00:00\",\"2021-07-30T00:00:00\",\"2021-07-29T00:00:00\",\"2021-07-28T00:00:00\",\"2021-07-27T00:00:00\",\"2021-07-26T00:00:00\",\"2021-07-23T00:00:00\",\"2021-07-22T00:00:00\",\"2021-07-21T00:00:00\",\"2021-07-20T00:00:00\",\"2021-07-19T00:00:00\",\"2021-07-16T00:00:00\",\"2021-07-15T00:00:00\",\"2021-07-14T00:00:00\",\"2021-07-13T00:00:00\",\"2021-07-12T00:00:00\",\"2021-07-09T00:00:00\",\"2021-07-08T00:00:00\",\"2021-07-07T00:00:00\",\"2021-07-06T00:00:00\",\"2021-07-02T00:00:00\",\"2021-07-01T00:00:00\",\"2021-06-30T00:00:00\",\"2021-06-29T00:00:00\",\"2021-06-28T00:00:00\",\"2021-06-25T00:00:00\",\"2021-06-24T00:00:00\",\"2021-06-23T00:00:00\",\"2021-06-22T00:00:00\",\"2021-06-21T00:00:00\",\"2021-06-18T00:00:00\",\"2021-06-17T00:00:00\",\"2021-06-16T00:00:00\",\"2021-06-15T00:00:00\",\"2021-06-14T00:00:00\",\"2021-06-11T00:00:00\",\"2021-06-10T00:00:00\",\"2021-06-09T00:00:00\",\"2021-06-08T00:00:00\",\"2021-06-07T00:00:00\",\"2021-06-04T00:00:00\",\"2021-06-03T00:00:00\",\"2021-06-02T00:00:00\",\"2021-06-01T00:00:00\",\"2021-05-28T00:00:00\",\"2021-05-27T00:00:00\",\"2021-05-26T00:00:00\",\"2021-05-25T00:00:00\",\"2021-05-24T00:00:00\",\"2021-05-21T00:00:00\",\"2021-05-20T00:00:00\",\"2021-05-19T00:00:00\",\"2021-05-18T00:00:00\",\"2021-05-17T00:00:00\",\"2021-05-14T00:00:00\",\"2021-05-13T00:00:00\",\"2021-05-12T00:00:00\",\"2021-05-11T00:00:00\",\"2021-05-10T00:00:00\"],\"xaxis\":\"x\",\"y\":[5.38,5.5,5.21,5.1,5.12,5.09,5.08,5.08,5.1,5.12,5.08,5.07,4.82,4.85,4.89,4.9,4.92,5.05,5.04,5.09,5.11,5.15,5.13,5.16,5.03,5.0,4.9,5.05,5.07,5.14,5.1,5.09,5.18,5.22,5.3,5.15,4.98,4.98,4.92,4.99,4.99,4.94,5.01,5.05,5.06,5.22,5.34,5.2,4.99,4.95,4.99,4.91,4.85,5.06,4.97,5.01,5.1,5.1,5.07,5.6,5.37,5.34,5.45,5.33,5.52,5.51,5.35,5.29,5.09,5.05,5.13,5.05,5.1,5.05,5.13,5.2,5.4,5.31,5.23,5.28,5.35,5.24,5.09,5.15,5.2,5.02,5.05,4.99,5.02,5.0,4.95,5.05,4.95,5.0,4.95,4.95,4.91,4.94,4.92,4.98,4.99,4.98,4.98,5.06,5.33,5.26,5.35,5.29,5.06,5.14,5.25,5.29,5.13,5.27,5.16,5.2064,5.3827,5.1878,5.1693,5.1693,5.0765,4.9744,4.8723,4.7238,4.8909,4.8352,4.7609,4.8909,4.8166,4.6867,4.7053,4.7609,4.928,4.7609,4.6867,4.6867,4.6867,4.6588,4.696,4.7238,4.7145,4.696,4.6867,4.7331,4.7981,4.6403,4.6124,4.7424,4.7331,4.6403,4.6496,4.7053,4.5568,4.5753,4.631,4.6124,4.6867,4.6774,4.9373,5.0115,4.9744,5.1414,5.1786,5.2064,5.0115,5.1043,5.1229,5.4106,5.624,5.5869,5.6704,5.6797,6.0045,6.0509,5.7818,5.7632,5.3642,5.16,5.3178,5.2621,5.3271,5.1786,4.7609,4.5846,4.5939,4.7981,4.8723,4.9651,5.0208,4.7517,4.7795,4.5753,4.5011,4.3897,4.3155],\"yaxis\":\"y\",\"type\":\"scatter\"}],                        {\"template\":{\"data\":{\"pie\":[{\"automargin\":true,\"type\":\"pie\"}]},\"layout\":{\"xaxis\":{\"showgrid\":true,\"title\":{\"standoff\":15}},\"yaxis\":{\"showgrid\":true,\"title\":{\"standoff\":15}}}},\"xaxis\":{\"anchor\":\"y\",\"domain\":[0.0,1.0],\"title\":{\"text\":\"Date\"}},\"yaxis\":{\"anchor\":\"x\",\"domain\":[0.0,1.0],\"title\":{\"text\":\"Close\"}},\"legend\":{\"title\":{\"text\":\"Name\"},\"tracegroupgap\":0},\"title\":{\"text\":\"Cartera de acciones\"}},                        {\"responsive\": true}                    ).then(function(){\n",
              "                            \n",
              "var gd = document.getElementById('441c902e-fd25-4cd1-8c82-cdf3474798f5');\n",
              "var x = new MutationObserver(function (mutations, observer) {{\n",
              "        var display = window.getComputedStyle(gd).display;\n",
              "        if (!display || display === 'none') {{\n",
              "            console.log([gd, 'removed!']);\n",
              "            Plotly.purge(gd);\n",
              "            observer.disconnect();\n",
              "        }}\n",
              "}});\n",
              "\n",
              "// Listen for the removal of the full notebook cells\n",
              "var notebookContainer = gd.closest('#notebook-container');\n",
              "if (notebookContainer) {{\n",
              "    x.observe(notebookContainer, {childList: true});\n",
              "}}\n",
              "\n",
              "// Listen for the clearing of the current output cell\n",
              "var outputEl = gd.closest('.output');\n",
              "if (outputEl) {{\n",
              "    x.observe(outputEl, {childList: true});\n",
              "}}\n",
              "\n",
              "                        })                };                            </script>        </div>\n",
              "</body>\n",
              "</html>"
            ]
          },
          "metadata": {}
        }
      ]
    },
    {
      "cell_type": "markdown",
      "metadata": {
        "id": "Y0FTzEO54-Ub"
      },
      "source": [
        "## Gráfico de barras"
      ]
    },
    {
      "cell_type": "markdown",
      "metadata": {
        "id": "_-FZ4K-35NSP"
      },
      "source": [
        "<a name=\"respuesta03\"></a>\n",
        "\n",
        "**Gráfico totales de las cuentas a cobrar, con leyenda de los clientes**"
      ]
    },
    {
      "cell_type": "code",
      "metadata": {
        "colab": {
          "base_uri": "https://localhost:8080/",
          "height": 542
        },
        "id": "xdX0gamm5fi-",
        "outputId": "ee9c80d9-df6a-431b-d294-d24443454cc8"
      },
      "source": [
        "fig = px.bar(agrupacion_cobros, \n",
        "             x=\"ORGANIZACION\", \n",
        "             y=\"TOTAL\", \n",
        "             color=\"ORGANIZACION\",\n",
        "             template=\"gridon\", \n",
        "             title=\"Cuentas a Cobrar\")\n",
        "fig.show()"
      ],
      "execution_count": null,
      "outputs": [
        {
          "output_type": "display_data",
          "data": {
            "text/html": [
              "<html>\n",
              "<head><meta charset=\"utf-8\" /></head>\n",
              "<body>\n",
              "    <div>            <script src=\"https://cdnjs.cloudflare.com/ajax/libs/mathjax/2.7.5/MathJax.js?config=TeX-AMS-MML_SVG\"></script><script type=\"text/javascript\">if (window.MathJax) {MathJax.Hub.Config({SVG: {font: \"STIX-Web\"}});}</script>                <script type=\"text/javascript\">window.PlotlyConfig = {MathJaxConfig: 'local'};</script>\n",
              "        <script src=\"https://cdn.plot.ly/plotly-2.8.3.min.js\"></script>                <div id=\"bc8a974b-9b00-4804-acd4-484f4343b5d8\" class=\"plotly-graph-div\" style=\"height:525px; width:100%;\"></div>            <script type=\"text/javascript\">                                    window.PLOTLYENV=window.PLOTLYENV || {};                                    if (document.getElementById(\"bc8a974b-9b00-4804-acd4-484f4343b5d8\")) {                    Plotly.newPlot(                        \"bc8a974b-9b00-4804-acd4-484f4343b5d8\",                        [{\"alignmentgroup\":\"True\",\"hovertemplate\":\"ORGANIZACION=%{x}<br>TOTAL=%{y}<extra></extra>\",\"legendgroup\":\"Algorte S.A.\",\"marker\":{\"color\":\"#1F77B4\",\"pattern\":{\"shape\":\"\"}},\"name\":\"Algorte S.A.\",\"offsetgroup\":\"Algorte S.A.\",\"orientation\":\"v\",\"showlegend\":true,\"textposition\":\"auto\",\"x\":[\"Algorte S.A.\"],\"xaxis\":\"x\",\"y\":[259090.0],\"yaxis\":\"y\",\"type\":\"bar\"},{\"alignmentgroup\":\"True\",\"hovertemplate\":\"ORGANIZACION=%{x}<br>TOTAL=%{y}<extra></extra>\",\"legendgroup\":\"Berker S.R.L\",\"marker\":{\"color\":\"#FF7F0E\",\"pattern\":{\"shape\":\"\"}},\"name\":\"Berker S.R.L\",\"offsetgroup\":\"Berker S.R.L\",\"orientation\":\"v\",\"showlegend\":true,\"textposition\":\"auto\",\"x\":[\"Berker S.R.L\"],\"xaxis\":\"x\",\"y\":[5445.0],\"yaxis\":\"y\",\"type\":\"bar\"},{\"alignmentgroup\":\"True\",\"hovertemplate\":\"ORGANIZACION=%{x}<br>TOTAL=%{y}<extra></extra>\",\"legendgroup\":\"Campomas S.A.\",\"marker\":{\"color\":\"#2CA02C\",\"pattern\":{\"shape\":\"\"}},\"name\":\"Campomas S.A.\",\"offsetgroup\":\"Campomas S.A.\",\"orientation\":\"v\",\"showlegend\":true,\"textposition\":\"auto\",\"x\":[\"Campomas S.A.\"],\"xaxis\":\"x\",\"y\":[72600.0],\"yaxis\":\"y\",\"type\":\"bar\"},{\"alignmentgroup\":\"True\",\"hovertemplate\":\"ORGANIZACION=%{x}<br>TOTAL=%{y}<extra></extra>\",\"legendgroup\":\"Consumidor Final\",\"marker\":{\"color\":\"#D62728\",\"pattern\":{\"shape\":\"\"}},\"name\":\"Consumidor Final\",\"offsetgroup\":\"Consumidor Final\",\"orientation\":\"v\",\"showlegend\":true,\"textposition\":\"auto\",\"x\":[\"Consumidor Final\"],\"xaxis\":\"x\",\"y\":[1500.0],\"yaxis\":\"y\",\"type\":\"bar\"},{\"alignmentgroup\":\"True\",\"hovertemplate\":\"ORGANIZACION=%{x}<br>TOTAL=%{y}<extra></extra>\",\"legendgroup\":\"Galardon S.A.\",\"marker\":{\"color\":\"#9467BD\",\"pattern\":{\"shape\":\"\"}},\"name\":\"Galardon S.A.\",\"offsetgroup\":\"Galardon S.A.\",\"orientation\":\"v\",\"showlegend\":true,\"textposition\":\"auto\",\"x\":[\"Galardon S.A.\"],\"xaxis\":\"x\",\"y\":[519549.8],\"yaxis\":\"y\",\"type\":\"bar\"},{\"alignmentgroup\":\"True\",\"hovertemplate\":\"ORGANIZACION=%{x}<br>TOTAL=%{y}<extra></extra>\",\"legendgroup\":\"Hernandez S.A.\",\"marker\":{\"color\":\"#8C564B\",\"pattern\":{\"shape\":\"\"}},\"name\":\"Hernandez S.A.\",\"offsetgroup\":\"Hernandez S.A.\",\"orientation\":\"v\",\"showlegend\":true,\"textposition\":\"auto\",\"x\":[\"Hernandez S.A.\"],\"xaxis\":\"x\",\"y\":[571725.0],\"yaxis\":\"y\",\"type\":\"bar\"},{\"alignmentgroup\":\"True\",\"hovertemplate\":\"ORGANIZACION=%{x}<br>TOTAL=%{y}<extra></extra>\",\"legendgroup\":\"Horacio Aguirre\",\"marker\":{\"color\":\"#E377C2\",\"pattern\":{\"shape\":\"\"}},\"name\":\"Horacio Aguirre\",\"offsetgroup\":\"Horacio Aguirre\",\"orientation\":\"v\",\"showlegend\":true,\"textposition\":\"auto\",\"x\":[\"Horacio Aguirre\"],\"xaxis\":\"x\",\"y\":[76230.0],\"yaxis\":\"y\",\"type\":\"bar\"},{\"alignmentgroup\":\"True\",\"hovertemplate\":\"ORGANIZACION=%{x}<br>TOTAL=%{y}<extra></extra>\",\"legendgroup\":\"Horizonte S.A.\",\"marker\":{\"color\":\"#7F7F7F\",\"pattern\":{\"shape\":\"\"}},\"name\":\"Horizonte S.A.\",\"offsetgroup\":\"Horizonte S.A.\",\"orientation\":\"v\",\"showlegend\":true,\"textposition\":\"auto\",\"x\":[\"Horizonte S.A.\"],\"xaxis\":\"x\",\"y\":[640601.83],\"yaxis\":\"y\",\"type\":\"bar\"},{\"alignmentgroup\":\"True\",\"hovertemplate\":\"ORGANIZACION=%{x}<br>TOTAL=%{y}<extra></extra>\",\"legendgroup\":\"Ignition S.A.C.I\",\"marker\":{\"color\":\"#BCBD22\",\"pattern\":{\"shape\":\"\"}},\"name\":\"Ignition S.A.C.I\",\"offsetgroup\":\"Ignition S.A.C.I\",\"orientation\":\"v\",\"showlegend\":true,\"textposition\":\"auto\",\"x\":[\"Ignition S.A.C.I\"],\"xaxis\":\"x\",\"y\":[184525.0],\"yaxis\":\"y\",\"type\":\"bar\"},{\"alignmentgroup\":\"True\",\"hovertemplate\":\"ORGANIZACION=%{x}<br>TOTAL=%{y}<extra></extra>\",\"legendgroup\":\"Manganello S.R.L\",\"marker\":{\"color\":\"#17BECF\",\"pattern\":{\"shape\":\"\"}},\"name\":\"Manganello S.R.L\",\"offsetgroup\":\"Manganello S.R.L\",\"orientation\":\"v\",\"showlegend\":true,\"textposition\":\"auto\",\"x\":[\"Manganello S.R.L\"],\"xaxis\":\"x\",\"y\":[550477.4],\"yaxis\":\"y\",\"type\":\"bar\"},{\"alignmentgroup\":\"True\",\"hovertemplate\":\"ORGANIZACION=%{x}<br>TOTAL=%{y}<extra></extra>\",\"legendgroup\":\"Nicolasen y Asociados S.A.\",\"marker\":{\"color\":\"#1F77B4\",\"pattern\":{\"shape\":\"\"}},\"name\":\"Nicolasen y Asociados S.A.\",\"offsetgroup\":\"Nicolasen y Asociados S.A.\",\"orientation\":\"v\",\"showlegend\":true,\"textposition\":\"auto\",\"x\":[\"Nicolasen y Asociados S.A.\"],\"xaxis\":\"x\",\"y\":[249925.5],\"yaxis\":\"y\",\"type\":\"bar\"}],                        {\"template\":{\"data\":{\"pie\":[{\"automargin\":true,\"type\":\"pie\"}]},\"layout\":{\"xaxis\":{\"showgrid\":true,\"title\":{\"standoff\":15}},\"yaxis\":{\"showgrid\":true,\"title\":{\"standoff\":15}}}},\"xaxis\":{\"anchor\":\"y\",\"domain\":[0.0,1.0],\"title\":{\"text\":\"ORGANIZACION\"},\"categoryorder\":\"array\",\"categoryarray\":[\"Algorte S.A.\",\"Berker S.R.L\",\"Campomas S.A.\",\"Consumidor Final\",\"Galardon S.A.\",\"Hernandez S.A.\",\"Horacio Aguirre\",\"Horizonte S.A.\",\"Ignition S.A.C.I\",\"Manganello S.R.L\",\"Nicolasen y Asociados S.A.\"]},\"yaxis\":{\"anchor\":\"x\",\"domain\":[0.0,1.0],\"title\":{\"text\":\"TOTAL\"}},\"legend\":{\"title\":{\"text\":\"ORGANIZACION\"},\"tracegroupgap\":0},\"title\":{\"text\":\"Cuentas a Cobrar\"},\"barmode\":\"relative\"},                        {\"responsive\": true}                    ).then(function(){\n",
              "                            \n",
              "var gd = document.getElementById('bc8a974b-9b00-4804-acd4-484f4343b5d8');\n",
              "var x = new MutationObserver(function (mutations, observer) {{\n",
              "        var display = window.getComputedStyle(gd).display;\n",
              "        if (!display || display === 'none') {{\n",
              "            console.log([gd, 'removed!']);\n",
              "            Plotly.purge(gd);\n",
              "            observer.disconnect();\n",
              "        }}\n",
              "}});\n",
              "\n",
              "// Listen for the removal of the full notebook cells\n",
              "var notebookContainer = gd.closest('#notebook-container');\n",
              "if (notebookContainer) {{\n",
              "    x.observe(notebookContainer, {childList: true});\n",
              "}}\n",
              "\n",
              "// Listen for the clearing of the current output cell\n",
              "var outputEl = gd.closest('.output');\n",
              "if (outputEl) {{\n",
              "    x.observe(outputEl, {childList: true});\n",
              "}}\n",
              "\n",
              "                        })                };                            </script>        </div>\n",
              "</body>\n",
              "</html>"
            ]
          },
          "metadata": {}
        }
      ]
    },
    {
      "cell_type": "markdown",
      "metadata": {
        "id": "QkdZtoNo_1gP"
      },
      "source": [
        "## Gráfico de Cajas - Box Plots"
      ]
    },
    {
      "cell_type": "markdown",
      "metadata": {
        "id": "UA9tVEolFJKO"
      },
      "source": [
        "<a name=\"respuesta04\"></a>\n",
        "\n",
        "**Box Plots para CRES (Cresud S.A.) y TECO2 (Telecom de Argentina S.A.)**"
      ]
    },
    {
      "cell_type": "code",
      "metadata": {
        "colab": {
          "base_uri": "https://localhost:8080/",
          "height": 542
        },
        "id": "oxU2EbJxFX1a",
        "outputId": "c454e4bd-f0d1-49cc-d62d-0257f14b8bcf"
      },
      "source": [
        "df = CARTERA.query(\"Name!='BMA'\")\n",
        "fig = px.box(df, \n",
        "             x=\"Name\", \n",
        "             y=\"Close\", \n",
        "             title=\"Cresud S.A. - Telecom de Argentina S.A.\", \n",
        "             points=\"all\", \n",
        "             template=\"gridon\",\n",
        "             color=\"Name\")\n",
        "fig.show()"
      ],
      "execution_count": null,
      "outputs": [
        {
          "output_type": "display_data",
          "data": {
            "text/html": [
              "<html>\n",
              "<head><meta charset=\"utf-8\" /></head>\n",
              "<body>\n",
              "    <div>            <script src=\"https://cdnjs.cloudflare.com/ajax/libs/mathjax/2.7.5/MathJax.js?config=TeX-AMS-MML_SVG\"></script><script type=\"text/javascript\">if (window.MathJax) {MathJax.Hub.Config({SVG: {font: \"STIX-Web\"}});}</script>                <script type=\"text/javascript\">window.PlotlyConfig = {MathJaxConfig: 'local'};</script>\n",
              "        <script src=\"https://cdn.plot.ly/plotly-2.8.3.min.js\"></script>                <div id=\"c5f140b6-a92f-4def-bf4e-b44088559d3f\" class=\"plotly-graph-div\" style=\"height:525px; width:100%;\"></div>            <script type=\"text/javascript\">                                    window.PLOTLYENV=window.PLOTLYENV || {};                                    if (document.getElementById(\"c5f140b6-a92f-4def-bf4e-b44088559d3f\")) {                    Plotly.newPlot(                        \"c5f140b6-a92f-4def-bf4e-b44088559d3f\",                        [{\"alignmentgroup\":\"True\",\"boxpoints\":\"all\",\"hovertemplate\":\"Name=%{x}<br>Close=%{y}<extra></extra>\",\"legendgroup\":\"CRES\",\"marker\":{\"color\":\"#1F77B4\"},\"name\":\"CRES\",\"notched\":false,\"offsetgroup\":\"CRES\",\"orientation\":\"v\",\"showlegend\":true,\"x\":[\"CRES\",\"CRES\",\"CRES\",\"CRES\",\"CRES\",\"CRES\",\"CRES\",\"CRES\",\"CRES\",\"CRES\",\"CRES\",\"CRES\",\"CRES\",\"CRES\",\"CRES\",\"CRES\",\"CRES\",\"CRES\",\"CRES\",\"CRES\",\"CRES\",\"CRES\",\"CRES\",\"CRES\",\"CRES\",\"CRES\",\"CRES\",\"CRES\",\"CRES\",\"CRES\",\"CRES\",\"CRES\",\"CRES\",\"CRES\",\"CRES\",\"CRES\",\"CRES\",\"CRES\",\"CRES\",\"CRES\",\"CRES\",\"CRES\",\"CRES\",\"CRES\",\"CRES\",\"CRES\",\"CRES\",\"CRES\",\"CRES\",\"CRES\",\"CRES\",\"CRES\",\"CRES\",\"CRES\",\"CRES\",\"CRES\",\"CRES\",\"CRES\",\"CRES\",\"CRES\",\"CRES\",\"CRES\",\"CRES\",\"CRES\",\"CRES\",\"CRES\",\"CRES\",\"CRES\",\"CRES\",\"CRES\",\"CRES\",\"CRES\",\"CRES\",\"CRES\",\"CRES\",\"CRES\",\"CRES\",\"CRES\",\"CRES\",\"CRES\",\"CRES\",\"CRES\",\"CRES\",\"CRES\",\"CRES\",\"CRES\",\"CRES\",\"CRES\",\"CRES\",\"CRES\",\"CRES\",\"CRES\",\"CRES\",\"CRES\",\"CRES\",\"CRES\",\"CRES\",\"CRES\",\"CRES\",\"CRES\",\"CRES\",\"CRES\",\"CRES\",\"CRES\",\"CRES\",\"CRES\",\"CRES\",\"CRES\",\"CRES\",\"CRES\",\"CRES\",\"CRES\",\"CRES\",\"CRES\",\"CRES\",\"CRES\",\"CRES\",\"CRES\",\"CRES\",\"CRES\",\"CRES\",\"CRES\",\"CRES\",\"CRES\",\"CRES\",\"CRES\",\"CRES\",\"CRES\",\"CRES\",\"CRES\",\"CRES\",\"CRES\",\"CRES\",\"CRES\",\"CRES\",\"CRES\",\"CRES\",\"CRES\",\"CRES\",\"CRES\",\"CRES\",\"CRES\",\"CRES\",\"CRES\",\"CRES\",\"CRES\",\"CRES\",\"CRES\",\"CRES\",\"CRES\",\"CRES\",\"CRES\",\"CRES\",\"CRES\",\"CRES\",\"CRES\",\"CRES\",\"CRES\",\"CRES\",\"CRES\",\"CRES\",\"CRES\",\"CRES\",\"CRES\",\"CRES\",\"CRES\",\"CRES\",\"CRES\",\"CRES\",\"CRES\",\"CRES\",\"CRES\",\"CRES\",\"CRES\",\"CRES\",\"CRES\",\"CRES\",\"CRES\",\"CRES\",\"CRES\",\"CRES\",\"CRES\",\"CRES\",\"CRES\",\"CRES\",\"CRES\",\"CRES\",\"CRES\",\"CRES\",\"CRES\",\"CRES\",\"CRES\",\"CRES\",\"CRES\",\"CRES\"],\"x0\":\" \",\"xaxis\":\"x\",\"y\":[5.59,5.49,5.52,5.46,5.3,5.31,5.09,5.07,5.08,5.09,5.08,5.04,4.79,4.89,4.94,4.85,4.83,5.0,4.97,4.93,4.98,4.84,4.89,4.75,4.69,4.64,4.6,4.62,4.87,4.74,4.72,4.77,4.6,4.7,4.715,4.75,4.81,4.64,4.62,4.71,4.67,4.65,4.76,5.0,5.17,5.0,5.05,4.92,4.74,4.57,4.71,4.56,4.44,4.49,4.49,4.59,4.52,4.48,4.55,4.89,4.93,5.01,5.05,5.13,5.1,5.16,5.25,5.19,5.27,5.15,5.26,5.25,5.32,5.3,5.49,5.52,5.57,5.6,5.64,5.79,5.85,5.66,5.67,5.58,5.44,5.04,5.21,5.18,5.04,5.0,5.01,5.15,5.16,4.93,4.85,4.86,4.9,5.07,4.91,5.05,4.97,4.93,4.86,5.19,5.47,5.46,5.46,5.59,5.33,5.53,5.65,5.85,5.61,5.7,5.72,5.82,5.92,5.67,5.49,5.49,5.61,5.41,5.32,5.13,5.45,5.64,5.76,5.89,6.05,5.88,6.02,6.0,6.14,6.23,6.2,6.19,6.35,6.29,6.45,6.33,6.18,6.4,6.35,6.5,6.41,6.07,5.86,6.31,6.48,6.6,6.72,6.56,6.79,6.5,6.35,6.38,6.53,6.2,5.98,5.91,5.82,6.08,6.27,6.26,6.2,6.22,6.26,6.41,6.89,6.94,7.14,7.06,7.17,7.24,7.0,7.29,6.79,6.95,6.64,6.41,6.29,6.24,6.39,6.13,6.48,6.6,6.9,6.68,7.03,7.4,6.7,6.25,6.28,6.55,6.69],\"y0\":\" \",\"yaxis\":\"y\",\"type\":\"box\"},{\"alignmentgroup\":\"True\",\"boxpoints\":\"all\",\"hovertemplate\":\"Name=%{x}<br>Close=%{y}<extra></extra>\",\"legendgroup\":\"TECO2\",\"marker\":{\"color\":\"#FF7F0E\"},\"name\":\"TECO2\",\"notched\":false,\"offsetgroup\":\"TECO2\",\"orientation\":\"v\",\"showlegend\":true,\"x\":[\"TECO2\",\"TECO2\",\"TECO2\",\"TECO2\",\"TECO2\",\"TECO2\",\"TECO2\",\"TECO2\",\"TECO2\",\"TECO2\",\"TECO2\",\"TECO2\",\"TECO2\",\"TECO2\",\"TECO2\",\"TECO2\",\"TECO2\",\"TECO2\",\"TECO2\",\"TECO2\",\"TECO2\",\"TECO2\",\"TECO2\",\"TECO2\",\"TECO2\",\"TECO2\",\"TECO2\",\"TECO2\",\"TECO2\",\"TECO2\",\"TECO2\",\"TECO2\",\"TECO2\",\"TECO2\",\"TECO2\",\"TECO2\",\"TECO2\",\"TECO2\",\"TECO2\",\"TECO2\",\"TECO2\",\"TECO2\",\"TECO2\",\"TECO2\",\"TECO2\",\"TECO2\",\"TECO2\",\"TECO2\",\"TECO2\",\"TECO2\",\"TECO2\",\"TECO2\",\"TECO2\",\"TECO2\",\"TECO2\",\"TECO2\",\"TECO2\",\"TECO2\",\"TECO2\",\"TECO2\",\"TECO2\",\"TECO2\",\"TECO2\",\"TECO2\",\"TECO2\",\"TECO2\",\"TECO2\",\"TECO2\",\"TECO2\",\"TECO2\",\"TECO2\",\"TECO2\",\"TECO2\",\"TECO2\",\"TECO2\",\"TECO2\",\"TECO2\",\"TECO2\",\"TECO2\",\"TECO2\",\"TECO2\",\"TECO2\",\"TECO2\",\"TECO2\",\"TECO2\",\"TECO2\",\"TECO2\",\"TECO2\",\"TECO2\",\"TECO2\",\"TECO2\",\"TECO2\",\"TECO2\",\"TECO2\",\"TECO2\",\"TECO2\",\"TECO2\",\"TECO2\",\"TECO2\",\"TECO2\",\"TECO2\",\"TECO2\",\"TECO2\",\"TECO2\",\"TECO2\",\"TECO2\",\"TECO2\",\"TECO2\",\"TECO2\",\"TECO2\",\"TECO2\",\"TECO2\",\"TECO2\",\"TECO2\",\"TECO2\",\"TECO2\",\"TECO2\",\"TECO2\",\"TECO2\",\"TECO2\",\"TECO2\",\"TECO2\",\"TECO2\",\"TECO2\",\"TECO2\",\"TECO2\",\"TECO2\",\"TECO2\",\"TECO2\",\"TECO2\",\"TECO2\",\"TECO2\",\"TECO2\",\"TECO2\",\"TECO2\",\"TECO2\",\"TECO2\",\"TECO2\",\"TECO2\",\"TECO2\",\"TECO2\",\"TECO2\",\"TECO2\",\"TECO2\",\"TECO2\",\"TECO2\",\"TECO2\",\"TECO2\",\"TECO2\",\"TECO2\",\"TECO2\",\"TECO2\",\"TECO2\",\"TECO2\",\"TECO2\",\"TECO2\",\"TECO2\",\"TECO2\",\"TECO2\",\"TECO2\",\"TECO2\",\"TECO2\",\"TECO2\",\"TECO2\",\"TECO2\",\"TECO2\",\"TECO2\",\"TECO2\",\"TECO2\",\"TECO2\",\"TECO2\",\"TECO2\",\"TECO2\",\"TECO2\",\"TECO2\",\"TECO2\",\"TECO2\",\"TECO2\",\"TECO2\",\"TECO2\",\"TECO2\",\"TECO2\",\"TECO2\",\"TECO2\",\"TECO2\",\"TECO2\",\"TECO2\",\"TECO2\",\"TECO2\",\"TECO2\",\"TECO2\",\"TECO2\",\"TECO2\",\"TECO2\",\"TECO2\"],\"x0\":\" \",\"xaxis\":\"x\",\"y\":[5.38,5.5,5.21,5.1,5.12,5.09,5.08,5.08,5.1,5.12,5.08,5.07,4.82,4.85,4.89,4.9,4.92,5.05,5.04,5.09,5.11,5.15,5.13,5.16,5.03,5.0,4.9,5.05,5.07,5.14,5.1,5.09,5.18,5.22,5.3,5.15,4.98,4.98,4.92,4.99,4.99,4.94,5.01,5.05,5.06,5.22,5.34,5.2,4.99,4.95,4.99,4.91,4.85,5.06,4.97,5.01,5.1,5.1,5.07,5.6,5.37,5.34,5.45,5.33,5.52,5.51,5.35,5.29,5.09,5.05,5.13,5.05,5.1,5.05,5.13,5.2,5.4,5.31,5.23,5.28,5.35,5.24,5.09,5.15,5.2,5.02,5.05,4.99,5.02,5.0,4.95,5.05,4.95,5.0,4.95,4.95,4.91,4.94,4.92,4.98,4.99,4.98,4.98,5.06,5.33,5.26,5.35,5.29,5.06,5.14,5.25,5.29,5.13,5.27,5.16,5.2064,5.3827,5.1878,5.1693,5.1693,5.0765,4.9744,4.8723,4.7238,4.8909,4.8352,4.7609,4.8909,4.8166,4.6867,4.7053,4.7609,4.928,4.7609,4.6867,4.6867,4.6867,4.6588,4.696,4.7238,4.7145,4.696,4.6867,4.7331,4.7981,4.6403,4.6124,4.7424,4.7331,4.6403,4.6496,4.7053,4.5568,4.5753,4.631,4.6124,4.6867,4.6774,4.9373,5.0115,4.9744,5.1414,5.1786,5.2064,5.0115,5.1043,5.1229,5.4106,5.624,5.5869,5.6704,5.6797,6.0045,6.0509,5.7818,5.7632,5.3642,5.16,5.3178,5.2621,5.3271,5.1786,4.7609,4.5846,4.5939,4.7981,4.8723,4.9651,5.0208,4.7517,4.7795,4.5753,4.5011,4.3897,4.3155],\"y0\":\" \",\"yaxis\":\"y\",\"type\":\"box\"}],                        {\"template\":{\"data\":{\"pie\":[{\"automargin\":true,\"type\":\"pie\"}]},\"layout\":{\"xaxis\":{\"showgrid\":true,\"title\":{\"standoff\":15}},\"yaxis\":{\"showgrid\":true,\"title\":{\"standoff\":15}}}},\"xaxis\":{\"anchor\":\"y\",\"domain\":[0.0,1.0],\"title\":{\"text\":\"Name\"},\"categoryorder\":\"array\",\"categoryarray\":[\"CRES\",\"TECO2\"]},\"yaxis\":{\"anchor\":\"x\",\"domain\":[0.0,1.0],\"title\":{\"text\":\"Close\"}},\"legend\":{\"title\":{\"text\":\"Name\"},\"tracegroupgap\":0},\"title\":{\"text\":\"Cresud S.A. - Telecom de Argentina S.A.\"},\"boxmode\":\"overlay\"},                        {\"responsive\": true}                    ).then(function(){\n",
              "                            \n",
              "var gd = document.getElementById('c5f140b6-a92f-4def-bf4e-b44088559d3f');\n",
              "var x = new MutationObserver(function (mutations, observer) {{\n",
              "        var display = window.getComputedStyle(gd).display;\n",
              "        if (!display || display === 'none') {{\n",
              "            console.log([gd, 'removed!']);\n",
              "            Plotly.purge(gd);\n",
              "            observer.disconnect();\n",
              "        }}\n",
              "}});\n",
              "\n",
              "// Listen for the removal of the full notebook cells\n",
              "var notebookContainer = gd.closest('#notebook-container');\n",
              "if (notebookContainer) {{\n",
              "    x.observe(notebookContainer, {childList: true});\n",
              "}}\n",
              "\n",
              "// Listen for the clearing of the current output cell\n",
              "var outputEl = gd.closest('.output');\n",
              "if (outputEl) {{\n",
              "    x.observe(outputEl, {childList: true});\n",
              "}}\n",
              "\n",
              "                        })                };                            </script>        </div>\n",
              "</body>\n",
              "</html>"
            ]
          },
          "metadata": {}
        }
      ]
    },
    {
      "cell_type": "markdown",
      "metadata": {
        "id": "_MBCk0GXKyp_"
      },
      "source": [
        "## Gráfico de Velas - Candlestick"
      ]
    },
    {
      "cell_type": "markdown",
      "metadata": {
        "id": "blCFEsxfJrnW"
      },
      "source": [
        "<a name=\"respuesta05\"></a>\n",
        "\n",
        "**Grafico de velas para TECO2 (Telecom de Argentina S.A.)**"
      ]
    },
    {
      "cell_type": "code",
      "metadata": {
        "colab": {
          "base_uri": "https://localhost:8080/",
          "height": 542
        },
        "id": "e9rEdGabJqz5",
        "outputId": "705850fe-2201-4ade-c58e-32fe9fed761b"
      },
      "source": [
        "fig = go.Figure(data=[go.Candlestick(x=TECO2[\"Date\"],\n",
        "                open=TECO2[\"Open\"],\n",
        "                high=TECO2[\"High\"],\n",
        "                low=TECO2[\"Low\"],\n",
        "                close=TECO2[\"Close\"])])\n",
        "\n",
        "fig.update_layout(title=\"Telecom de Argentina S.A.\")\n",
        "\n",
        "fig.show()"
      ],
      "execution_count": null,
      "outputs": [
        {
          "output_type": "display_data",
          "data": {
            "text/html": [
              "<html>\n",
              "<head><meta charset=\"utf-8\" /></head>\n",
              "<body>\n",
              "    <div>            <script src=\"https://cdnjs.cloudflare.com/ajax/libs/mathjax/2.7.5/MathJax.js?config=TeX-AMS-MML_SVG\"></script><script type=\"text/javascript\">if (window.MathJax) {MathJax.Hub.Config({SVG: {font: \"STIX-Web\"}});}</script>                <script type=\"text/javascript\">window.PlotlyConfig = {MathJaxConfig: 'local'};</script>\n",
              "        <script src=\"https://cdn.plot.ly/plotly-2.8.3.min.js\"></script>                <div id=\"903737b6-32e5-4174-b6f7-00a6a824dd6d\" class=\"plotly-graph-div\" style=\"height:525px; width:100%;\"></div>            <script type=\"text/javascript\">                                    window.PLOTLYENV=window.PLOTLYENV || {};                                    if (document.getElementById(\"903737b6-32e5-4174-b6f7-00a6a824dd6d\")) {                    Plotly.newPlot(                        \"903737b6-32e5-4174-b6f7-00a6a824dd6d\",                        [{\"close\":[5.38,5.5,5.21,5.1,5.12,5.09,5.08,5.08,5.1,5.12,5.08,5.07,4.82,4.85,4.89,4.9,4.92,5.05,5.04,5.09,5.11,5.15,5.13,5.16,5.03,5.0,4.9,5.05,5.07,5.14,5.1,5.09,5.18,5.22,5.3,5.15,4.98,4.98,4.92,4.99,4.99,4.94,5.01,5.05,5.06,5.22,5.34,5.2,4.99,4.95,4.99,4.91,4.85,5.06,4.97,5.01,5.1,5.1,5.07,5.6,5.37,5.34,5.45,5.33,5.52,5.51,5.35,5.29,5.09,5.05,5.13,5.05,5.1,5.05,5.13,5.2,5.4,5.31,5.23,5.28,5.35,5.24,5.09,5.15,5.2,5.02,5.05,4.99,5.02,5.0,4.95,5.05,4.95,5.0,4.95,4.95,4.91,4.94,4.92,4.98,4.99,4.98,4.98,5.06,5.33,5.26,5.35,5.29,5.06,5.14,5.25,5.29,5.13,5.27,5.16,5.2064,5.3827,5.1878,5.1693,5.1693,5.0765,4.9744,4.8723,4.7238,4.8909,4.8352,4.7609,4.8909,4.8166,4.6867,4.7053,4.7609,4.928,4.7609,4.6867,4.6867,4.6867,4.6588,4.696,4.7238,4.7145,4.696,4.6867,4.7331,4.7981,4.6403,4.6124,4.7424,4.7331,4.6403,4.6496,4.7053,4.5568,4.5753,4.631,4.6124,4.6867,4.6774,4.9373,5.0115,4.9744,5.1414,5.1786,5.2064,5.0115,5.1043,5.1229,5.4106,5.624,5.5869,5.6704,5.6797,6.0045,6.0509,5.7818,5.7632,5.3642,5.16,5.3178,5.2621,5.3271,5.1786,4.7609,4.5846,4.5939,4.7981,4.8723,4.9651,5.0208,4.7517,4.7795,4.5753,4.5011,4.3897,4.3155],\"high\":[5.63,5.5,5.24,5.14,5.24,5.12,5.11,5.13,5.15,5.14,5.1605,5.1,4.9603,5.15,4.905,4.98,5.0786,5.12,5.18,5.19,5.15,5.28,5.21,5.2,5.06,5.01,5.09,5.1862,5.27,5.22,5.145,5.31,5.23,5.41,5.32,5.19,5.05,5.1,5.09,5.03,5.0399,5.07,5.14,5.11,5.215,5.36,5.5,5.25,5.02,5.089,5.069,5.09,5.15,5.12,5.01,5.09,5.13,5.18,5.6,5.64,5.45,5.55,5.52,5.51,5.59,5.53,5.43,5.35,5.15,5.1999,5.14,5.1,5.15,5.094,5.1733,5.44,5.41,5.38,5.4,5.39,5.4399,5.33,5.23,5.33,5.24,5.0999,5.07,5.04,5.08,5.04,5.1,5.08,5.0,5.04,5.05,4.97,4.99,5.05,4.96,5.02,5.05,5.02,5.01,5.371,5.34,5.36,5.365,5.549,5.23,5.27,5.2981,5.32,5.3,5.4291,5.3827,5.4719,5.5127,5.2992,5.1971,5.2899,5.1229,5.0765,4.9744,4.9187,4.9651,4.8445,4.863,5.0114,4.8723,4.7609,4.7795,5.0022,4.9373,4.7888,4.7424,4.7238,4.7053,4.696,4.8166,4.7888,4.7192,4.7423,4.8073,4.7981,4.8352,4.7053,4.6867,4.7981,4.7517,4.7238,4.7517,4.7238,4.6124,4.6323,4.631,4.7238,4.7517,4.9558,5.0765,5.1043,5.1414,5.225,5.3085,5.225,5.0858,5.1878,5.3456,5.624,5.7354,5.7168,5.689,5.9488,6.0324,6.0741,5.8375,5.805,5.3827,5.2806,5.4013,5.4486,5.4106,5.6519,4.863,4.6681,4.8352,4.9465,4.9837,4.9929,5.0533,4.7981,4.863,4.7099,4.6821,4.4732,4.3526],\"low\":[5.36,5.21,5.061,5.1,5.09,5.07,5.06,5.07,5.06,5.06,4.91,4.82,4.76,4.801,4.81,4.72,4.92,5.0,4.89,4.945,5.01,5.02,5.02,4.96,4.9301,4.86,4.9,5.04,5.07,5.06,5.05,5.05,5.07,5.16,5.01,4.87,4.91,4.83,4.8,4.91,4.9,4.87,4.99,4.84,5.02,5.17,5.22,5.07,4.92,4.9,4.91,4.86,4.85,4.9436,4.9,4.98,4.86,5.08,5.07,5.27,5.26,5.34,5.24,5.31,5.39,5.31,5.23,5.08,4.9,5.01,5.01,5.02,5.04,5.01,5.1,5.17,5.3151,5.24,5.19,5.21,5.21,5.08,5.07,5.14,5.03,5.0,4.98,4.95,4.98,4.95,4.93,4.96,4.9,4.9,4.88,4.89,4.85,4.9,4.89,4.95,4.97,4.955,4.91,5.05,5.06,5.14,5.21,5.28,5.05,5.07,5.11,5.14,5.13,5.13,5.1507,5.1043,5.1145,5.0765,5.0208,5.095,4.9373,4.8723,4.713,4.6588,4.7609,4.6588,4.7424,4.7425,4.6496,4.631,4.6867,4.6774,4.6867,4.6496,4.6032,4.566,4.6217,4.6403,4.6867,4.6774,4.6496,4.6496,4.6681,4.6496,4.6403,4.5753,4.4825,4.6681,4.6124,4.6217,4.6124,4.5011,4.5475,4.5382,4.5196,4.5846,4.6867,4.6217,4.9094,4.9094,4.9651,5.0579,5.1693,5.0208,4.9651,5.0579,5.1136,5.3456,5.5776,5.5683,5.5312,5.6519,5.8932,5.7725,5.7029,5.3827,5.1322,5.1043,5.2064,5.2435,5.1406,4.7331,4.5382,4.464,4.58,4.7609,4.8445,4.8213,4.7238,4.5939,4.5939,4.3804,4.334,4.2783,4.2227],\"open\":[5.5,5.21,5.08,5.1,5.13,5.08,5.1,5.11,5.13,5.13,5.11,5.08,4.84,4.9,4.81,4.98,4.98,5.0,5.1,5.06,5.08,5.1,5.13,4.98,5.04,4.86,5.05,5.11,5.14,5.06,5.09,5.16,5.19,5.29,5.04,4.87,4.91,4.83,4.86,4.91,4.94,5.0,5.06,5.075,5.18,5.3,5.22,5.09,4.92,5.06,4.91,4.86,5.01,4.96,4.98,5.05,5.11,5.18,5.6,5.27,5.38,5.52,5.29,5.5,5.41,5.34,5.4,5.08,5.07,5.13,5.04,5.1,5.09,5.08,5.15,5.44,5.35,5.24,5.31,5.39,5.26,5.08,5.14,5.25,5.03,5.0,5.0,5.0,4.98,4.96,5.01,4.99,4.98,4.95,5.0,4.95,4.93,5.0,4.94,5.02,5.02,4.99,5.01,5.23,5.26,5.32,5.31,5.46,5.23,5.27,5.22,5.14,5.27,5.13,5.1878,5.392,5.2157,5.1507,5.1414,5.1322,5.0022,4.8723,4.7424,4.863,4.8166,4.6681,4.8166,4.8445,4.7053,4.6588,4.7702,4.9929,4.7888,4.6867,4.6681,4.631,4.6542,4.6681,4.7238,4.7331,4.6588,4.7145,4.7145,4.7981,4.6403,4.5939,4.6867,4.7517,4.6403,4.6588,4.696,4.5753,4.5753,4.5846,4.566,4.7238,4.696,4.9373,4.9744,4.9465,5.1136,5.1229,5.2435,5.0208,5.0858,5.1832,5.3456,5.5962,5.5776,5.6797,5.6426,5.9488,5.9953,5.8096,5.8096,5.3827,5.1786,5.2528,5.2899,5.3549,5.1786,4.7795,4.631,4.5753,4.8259,4.8816,4.9558,4.9373,4.8537,4.7424,4.5939,4.5289,4.3804,4.2876,4.3526],\"x\":[\"2022-02-14T00:00:00\",\"2022-02-11T00:00:00\",\"2022-02-10T00:00:00\",\"2022-02-09T00:00:00\",\"2022-02-08T00:00:00\",\"2022-02-07T00:00:00\",\"2022-02-04T00:00:00\",\"2022-02-03T00:00:00\",\"2022-02-02T00:00:00\",\"2022-02-01T00:00:00\",\"2022-01-31T00:00:00\",\"2022-01-28T00:00:00\",\"2022-01-27T00:00:00\",\"2022-01-26T00:00:00\",\"2022-01-25T00:00:00\",\"2022-01-24T00:00:00\",\"2022-01-21T00:00:00\",\"2022-01-20T00:00:00\",\"2022-01-19T00:00:00\",\"2022-01-18T00:00:00\",\"2022-01-14T00:00:00\",\"2022-01-13T00:00:00\",\"2022-01-12T00:00:00\",\"2022-01-11T00:00:00\",\"2022-01-10T00:00:00\",\"2022-01-07T00:00:00\",\"2022-01-06T00:00:00\",\"2022-01-05T00:00:00\",\"2022-01-04T00:00:00\",\"2022-01-03T00:00:00\",\"2021-12-31T00:00:00\",\"2021-12-30T00:00:00\",\"2021-12-29T00:00:00\",\"2021-12-28T00:00:00\",\"2021-12-27T00:00:00\",\"2021-12-23T00:00:00\",\"2021-12-22T00:00:00\",\"2021-12-21T00:00:00\",\"2021-12-20T00:00:00\",\"2021-12-17T00:00:00\",\"2021-12-16T00:00:00\",\"2021-12-15T00:00:00\",\"2021-12-14T00:00:00\",\"2021-12-13T00:00:00\",\"2021-12-10T00:00:00\",\"2021-12-09T00:00:00\",\"2021-12-08T00:00:00\",\"2021-12-07T00:00:00\",\"2021-12-06T00:00:00\",\"2021-12-03T00:00:00\",\"2021-12-02T00:00:00\",\"2021-12-01T00:00:00\",\"2021-11-30T00:00:00\",\"2021-11-29T00:00:00\",\"2021-11-26T00:00:00\",\"2021-11-24T00:00:00\",\"2021-11-23T00:00:00\",\"2021-11-22T00:00:00\",\"2021-11-19T00:00:00\",\"2021-11-18T00:00:00\",\"2021-11-17T00:00:00\",\"2021-11-16T00:00:00\",\"2021-11-15T00:00:00\",\"2021-11-12T00:00:00\",\"2021-11-11T00:00:00\",\"2021-11-10T00:00:00\",\"2021-11-09T00:00:00\",\"2021-11-08T00:00:00\",\"2021-11-05T00:00:00\",\"2021-11-04T00:00:00\",\"2021-11-03T00:00:00\",\"2021-11-02T00:00:00\",\"2021-11-01T00:00:00\",\"2021-10-29T00:00:00\",\"2021-10-28T00:00:00\",\"2021-10-27T00:00:00\",\"2021-10-26T00:00:00\",\"2021-10-25T00:00:00\",\"2021-10-22T00:00:00\",\"2021-10-21T00:00:00\",\"2021-10-20T00:00:00\",\"2021-10-19T00:00:00\",\"2021-10-18T00:00:00\",\"2021-10-15T00:00:00\",\"2021-10-14T00:00:00\",\"2021-10-13T00:00:00\",\"2021-10-12T00:00:00\",\"2021-10-11T00:00:00\",\"2021-10-08T00:00:00\",\"2021-10-07T00:00:00\",\"2021-10-06T00:00:00\",\"2021-10-05T00:00:00\",\"2021-10-04T00:00:00\",\"2021-10-01T00:00:00\",\"2021-09-30T00:00:00\",\"2021-09-29T00:00:00\",\"2021-09-28T00:00:00\",\"2021-09-27T00:00:00\",\"2021-09-24T00:00:00\",\"2021-09-23T00:00:00\",\"2021-09-22T00:00:00\",\"2021-09-21T00:00:00\",\"2021-09-20T00:00:00\",\"2021-09-17T00:00:00\",\"2021-09-16T00:00:00\",\"2021-09-15T00:00:00\",\"2021-09-14T00:00:00\",\"2021-09-13T00:00:00\",\"2021-09-10T00:00:00\",\"2021-09-09T00:00:00\",\"2021-09-08T00:00:00\",\"2021-09-07T00:00:00\",\"2021-09-03T00:00:00\",\"2021-09-02T00:00:00\",\"2021-09-01T00:00:00\",\"2021-08-31T00:00:00\",\"2021-08-30T00:00:00\",\"2021-08-27T00:00:00\",\"2021-08-26T00:00:00\",\"2021-08-25T00:00:00\",\"2021-08-24T00:00:00\",\"2021-08-23T00:00:00\",\"2021-08-20T00:00:00\",\"2021-08-19T00:00:00\",\"2021-08-18T00:00:00\",\"2021-08-17T00:00:00\",\"2021-08-16T00:00:00\",\"2021-08-13T00:00:00\",\"2021-08-12T00:00:00\",\"2021-08-11T00:00:00\",\"2021-08-10T00:00:00\",\"2021-08-09T00:00:00\",\"2021-08-06T00:00:00\",\"2021-08-05T00:00:00\",\"2021-08-04T00:00:00\",\"2021-08-03T00:00:00\",\"2021-08-02T00:00:00\",\"2021-07-30T00:00:00\",\"2021-07-29T00:00:00\",\"2021-07-28T00:00:00\",\"2021-07-27T00:00:00\",\"2021-07-26T00:00:00\",\"2021-07-23T00:00:00\",\"2021-07-22T00:00:00\",\"2021-07-21T00:00:00\",\"2021-07-20T00:00:00\",\"2021-07-19T00:00:00\",\"2021-07-16T00:00:00\",\"2021-07-15T00:00:00\",\"2021-07-14T00:00:00\",\"2021-07-13T00:00:00\",\"2021-07-12T00:00:00\",\"2021-07-09T00:00:00\",\"2021-07-08T00:00:00\",\"2021-07-07T00:00:00\",\"2021-07-06T00:00:00\",\"2021-07-02T00:00:00\",\"2021-07-01T00:00:00\",\"2021-06-30T00:00:00\",\"2021-06-29T00:00:00\",\"2021-06-28T00:00:00\",\"2021-06-25T00:00:00\",\"2021-06-24T00:00:00\",\"2021-06-23T00:00:00\",\"2021-06-22T00:00:00\",\"2021-06-21T00:00:00\",\"2021-06-18T00:00:00\",\"2021-06-17T00:00:00\",\"2021-06-16T00:00:00\",\"2021-06-15T00:00:00\",\"2021-06-14T00:00:00\",\"2021-06-11T00:00:00\",\"2021-06-10T00:00:00\",\"2021-06-09T00:00:00\",\"2021-06-08T00:00:00\",\"2021-06-07T00:00:00\",\"2021-06-04T00:00:00\",\"2021-06-03T00:00:00\",\"2021-06-02T00:00:00\",\"2021-06-01T00:00:00\",\"2021-05-28T00:00:00\",\"2021-05-27T00:00:00\",\"2021-05-26T00:00:00\",\"2021-05-25T00:00:00\",\"2021-05-24T00:00:00\",\"2021-05-21T00:00:00\",\"2021-05-20T00:00:00\",\"2021-05-19T00:00:00\",\"2021-05-18T00:00:00\",\"2021-05-17T00:00:00\",\"2021-05-14T00:00:00\",\"2021-05-13T00:00:00\",\"2021-05-12T00:00:00\",\"2021-05-11T00:00:00\",\"2021-05-10T00:00:00\"],\"type\":\"candlestick\"}],                        {\"template\":{\"data\":{\"bar\":[{\"error_x\":{\"color\":\"#2a3f5f\"},\"error_y\":{\"color\":\"#2a3f5f\"},\"marker\":{\"line\":{\"color\":\"#E5ECF6\",\"width\":0.5},\"pattern\":{\"fillmode\":\"overlay\",\"size\":10,\"solidity\":0.2}},\"type\":\"bar\"}],\"barpolar\":[{\"marker\":{\"line\":{\"color\":\"#E5ECF6\",\"width\":0.5},\"pattern\":{\"fillmode\":\"overlay\",\"size\":10,\"solidity\":0.2}},\"type\":\"barpolar\"}],\"carpet\":[{\"aaxis\":{\"endlinecolor\":\"#2a3f5f\",\"gridcolor\":\"white\",\"linecolor\":\"white\",\"minorgridcolor\":\"white\",\"startlinecolor\":\"#2a3f5f\"},\"baxis\":{\"endlinecolor\":\"#2a3f5f\",\"gridcolor\":\"white\",\"linecolor\":\"white\",\"minorgridcolor\":\"white\",\"startlinecolor\":\"#2a3f5f\"},\"type\":\"carpet\"}],\"choropleth\":[{\"colorbar\":{\"outlinewidth\":0,\"ticks\":\"\"},\"type\":\"choropleth\"}],\"contour\":[{\"colorbar\":{\"outlinewidth\":0,\"ticks\":\"\"},\"colorscale\":[[0.0,\"#0d0887\"],[0.1111111111111111,\"#46039f\"],[0.2222222222222222,\"#7201a8\"],[0.3333333333333333,\"#9c179e\"],[0.4444444444444444,\"#bd3786\"],[0.5555555555555556,\"#d8576b\"],[0.6666666666666666,\"#ed7953\"],[0.7777777777777778,\"#fb9f3a\"],[0.8888888888888888,\"#fdca26\"],[1.0,\"#f0f921\"]],\"type\":\"contour\"}],\"contourcarpet\":[{\"colorbar\":{\"outlinewidth\":0,\"ticks\":\"\"},\"type\":\"contourcarpet\"}],\"heatmap\":[{\"colorbar\":{\"outlinewidth\":0,\"ticks\":\"\"},\"colorscale\":[[0.0,\"#0d0887\"],[0.1111111111111111,\"#46039f\"],[0.2222222222222222,\"#7201a8\"],[0.3333333333333333,\"#9c179e\"],[0.4444444444444444,\"#bd3786\"],[0.5555555555555556,\"#d8576b\"],[0.6666666666666666,\"#ed7953\"],[0.7777777777777778,\"#fb9f3a\"],[0.8888888888888888,\"#fdca26\"],[1.0,\"#f0f921\"]],\"type\":\"heatmap\"}],\"heatmapgl\":[{\"colorbar\":{\"outlinewidth\":0,\"ticks\":\"\"},\"colorscale\":[[0.0,\"#0d0887\"],[0.1111111111111111,\"#46039f\"],[0.2222222222222222,\"#7201a8\"],[0.3333333333333333,\"#9c179e\"],[0.4444444444444444,\"#bd3786\"],[0.5555555555555556,\"#d8576b\"],[0.6666666666666666,\"#ed7953\"],[0.7777777777777778,\"#fb9f3a\"],[0.8888888888888888,\"#fdca26\"],[1.0,\"#f0f921\"]],\"type\":\"heatmapgl\"}],\"histogram\":[{\"marker\":{\"pattern\":{\"fillmode\":\"overlay\",\"size\":10,\"solidity\":0.2}},\"type\":\"histogram\"}],\"histogram2d\":[{\"colorbar\":{\"outlinewidth\":0,\"ticks\":\"\"},\"colorscale\":[[0.0,\"#0d0887\"],[0.1111111111111111,\"#46039f\"],[0.2222222222222222,\"#7201a8\"],[0.3333333333333333,\"#9c179e\"],[0.4444444444444444,\"#bd3786\"],[0.5555555555555556,\"#d8576b\"],[0.6666666666666666,\"#ed7953\"],[0.7777777777777778,\"#fb9f3a\"],[0.8888888888888888,\"#fdca26\"],[1.0,\"#f0f921\"]],\"type\":\"histogram2d\"}],\"histogram2dcontour\":[{\"colorbar\":{\"outlinewidth\":0,\"ticks\":\"\"},\"colorscale\":[[0.0,\"#0d0887\"],[0.1111111111111111,\"#46039f\"],[0.2222222222222222,\"#7201a8\"],[0.3333333333333333,\"#9c179e\"],[0.4444444444444444,\"#bd3786\"],[0.5555555555555556,\"#d8576b\"],[0.6666666666666666,\"#ed7953\"],[0.7777777777777778,\"#fb9f3a\"],[0.8888888888888888,\"#fdca26\"],[1.0,\"#f0f921\"]],\"type\":\"histogram2dcontour\"}],\"mesh3d\":[{\"colorbar\":{\"outlinewidth\":0,\"ticks\":\"\"},\"type\":\"mesh3d\"}],\"parcoords\":[{\"line\":{\"colorbar\":{\"outlinewidth\":0,\"ticks\":\"\"}},\"type\":\"parcoords\"}],\"pie\":[{\"automargin\":true,\"type\":\"pie\"}],\"scatter\":[{\"marker\":{\"colorbar\":{\"outlinewidth\":0,\"ticks\":\"\"}},\"type\":\"scatter\"}],\"scatter3d\":[{\"line\":{\"colorbar\":{\"outlinewidth\":0,\"ticks\":\"\"}},\"marker\":{\"colorbar\":{\"outlinewidth\":0,\"ticks\":\"\"}},\"type\":\"scatter3d\"}],\"scattercarpet\":[{\"marker\":{\"colorbar\":{\"outlinewidth\":0,\"ticks\":\"\"}},\"type\":\"scattercarpet\"}],\"scattergeo\":[{\"marker\":{\"colorbar\":{\"outlinewidth\":0,\"ticks\":\"\"}},\"type\":\"scattergeo\"}],\"scattergl\":[{\"marker\":{\"colorbar\":{\"outlinewidth\":0,\"ticks\":\"\"}},\"type\":\"scattergl\"}],\"scattermapbox\":[{\"marker\":{\"colorbar\":{\"outlinewidth\":0,\"ticks\":\"\"}},\"type\":\"scattermapbox\"}],\"scatterpolar\":[{\"marker\":{\"colorbar\":{\"outlinewidth\":0,\"ticks\":\"\"}},\"type\":\"scatterpolar\"}],\"scatterpolargl\":[{\"marker\":{\"colorbar\":{\"outlinewidth\":0,\"ticks\":\"\"}},\"type\":\"scatterpolargl\"}],\"scatterternary\":[{\"marker\":{\"colorbar\":{\"outlinewidth\":0,\"ticks\":\"\"}},\"type\":\"scatterternary\"}],\"surface\":[{\"colorbar\":{\"outlinewidth\":0,\"ticks\":\"\"},\"colorscale\":[[0.0,\"#0d0887\"],[0.1111111111111111,\"#46039f\"],[0.2222222222222222,\"#7201a8\"],[0.3333333333333333,\"#9c179e\"],[0.4444444444444444,\"#bd3786\"],[0.5555555555555556,\"#d8576b\"],[0.6666666666666666,\"#ed7953\"],[0.7777777777777778,\"#fb9f3a\"],[0.8888888888888888,\"#fdca26\"],[1.0,\"#f0f921\"]],\"type\":\"surface\"}],\"table\":[{\"cells\":{\"fill\":{\"color\":\"#EBF0F8\"},\"line\":{\"color\":\"white\"}},\"header\":{\"fill\":{\"color\":\"#C8D4E3\"},\"line\":{\"color\":\"white\"}},\"type\":\"table\"}]},\"layout\":{\"annotationdefaults\":{\"arrowcolor\":\"#2a3f5f\",\"arrowhead\":0,\"arrowwidth\":1},\"autotypenumbers\":\"strict\",\"coloraxis\":{\"colorbar\":{\"outlinewidth\":0,\"ticks\":\"\"}},\"colorscale\":{\"diverging\":[[0,\"#8e0152\"],[0.1,\"#c51b7d\"],[0.2,\"#de77ae\"],[0.3,\"#f1b6da\"],[0.4,\"#fde0ef\"],[0.5,\"#f7f7f7\"],[0.6,\"#e6f5d0\"],[0.7,\"#b8e186\"],[0.8,\"#7fbc41\"],[0.9,\"#4d9221\"],[1,\"#276419\"]],\"sequential\":[[0.0,\"#0d0887\"],[0.1111111111111111,\"#46039f\"],[0.2222222222222222,\"#7201a8\"],[0.3333333333333333,\"#9c179e\"],[0.4444444444444444,\"#bd3786\"],[0.5555555555555556,\"#d8576b\"],[0.6666666666666666,\"#ed7953\"],[0.7777777777777778,\"#fb9f3a\"],[0.8888888888888888,\"#fdca26\"],[1.0,\"#f0f921\"]],\"sequentialminus\":[[0.0,\"#0d0887\"],[0.1111111111111111,\"#46039f\"],[0.2222222222222222,\"#7201a8\"],[0.3333333333333333,\"#9c179e\"],[0.4444444444444444,\"#bd3786\"],[0.5555555555555556,\"#d8576b\"],[0.6666666666666666,\"#ed7953\"],[0.7777777777777778,\"#fb9f3a\"],[0.8888888888888888,\"#fdca26\"],[1.0,\"#f0f921\"]]},\"colorway\":[\"#636efa\",\"#EF553B\",\"#00cc96\",\"#ab63fa\",\"#FFA15A\",\"#19d3f3\",\"#FF6692\",\"#B6E880\",\"#FF97FF\",\"#FECB52\"],\"font\":{\"color\":\"#2a3f5f\"},\"geo\":{\"bgcolor\":\"white\",\"lakecolor\":\"white\",\"landcolor\":\"#E5ECF6\",\"showlakes\":true,\"showland\":true,\"subunitcolor\":\"white\"},\"hoverlabel\":{\"align\":\"left\"},\"hovermode\":\"closest\",\"mapbox\":{\"style\":\"light\"},\"paper_bgcolor\":\"white\",\"plot_bgcolor\":\"#E5ECF6\",\"polar\":{\"angularaxis\":{\"gridcolor\":\"white\",\"linecolor\":\"white\",\"ticks\":\"\"},\"bgcolor\":\"#E5ECF6\",\"radialaxis\":{\"gridcolor\":\"white\",\"linecolor\":\"white\",\"ticks\":\"\"}},\"scene\":{\"xaxis\":{\"backgroundcolor\":\"#E5ECF6\",\"gridcolor\":\"white\",\"gridwidth\":2,\"linecolor\":\"white\",\"showbackground\":true,\"ticks\":\"\",\"zerolinecolor\":\"white\"},\"yaxis\":{\"backgroundcolor\":\"#E5ECF6\",\"gridcolor\":\"white\",\"gridwidth\":2,\"linecolor\":\"white\",\"showbackground\":true,\"ticks\":\"\",\"zerolinecolor\":\"white\"},\"zaxis\":{\"backgroundcolor\":\"#E5ECF6\",\"gridcolor\":\"white\",\"gridwidth\":2,\"linecolor\":\"white\",\"showbackground\":true,\"ticks\":\"\",\"zerolinecolor\":\"white\"}},\"shapedefaults\":{\"line\":{\"color\":\"#2a3f5f\"}},\"ternary\":{\"aaxis\":{\"gridcolor\":\"white\",\"linecolor\":\"white\",\"ticks\":\"\"},\"baxis\":{\"gridcolor\":\"white\",\"linecolor\":\"white\",\"ticks\":\"\"},\"bgcolor\":\"#E5ECF6\",\"caxis\":{\"gridcolor\":\"white\",\"linecolor\":\"white\",\"ticks\":\"\"}},\"title\":{\"x\":0.05},\"xaxis\":{\"automargin\":true,\"gridcolor\":\"white\",\"linecolor\":\"white\",\"ticks\":\"\",\"title\":{\"standoff\":15},\"zerolinecolor\":\"white\",\"zerolinewidth\":2},\"yaxis\":{\"automargin\":true,\"gridcolor\":\"white\",\"linecolor\":\"white\",\"ticks\":\"\",\"title\":{\"standoff\":15},\"zerolinecolor\":\"white\",\"zerolinewidth\":2}}},\"title\":{\"text\":\"Telecom de Argentina S.A.\"}},                        {\"responsive\": true}                    ).then(function(){\n",
              "                            \n",
              "var gd = document.getElementById('903737b6-32e5-4174-b6f7-00a6a824dd6d');\n",
              "var x = new MutationObserver(function (mutations, observer) {{\n",
              "        var display = window.getComputedStyle(gd).display;\n",
              "        if (!display || display === 'none') {{\n",
              "            console.log([gd, 'removed!']);\n",
              "            Plotly.purge(gd);\n",
              "            observer.disconnect();\n",
              "        }}\n",
              "}});\n",
              "\n",
              "// Listen for the removal of the full notebook cells\n",
              "var notebookContainer = gd.closest('#notebook-container');\n",
              "if (notebookContainer) {{\n",
              "    x.observe(notebookContainer, {childList: true});\n",
              "}}\n",
              "\n",
              "// Listen for the clearing of the current output cell\n",
              "var outputEl = gd.closest('.output');\n",
              "if (outputEl) {{\n",
              "    x.observe(outputEl, {childList: true});\n",
              "}}\n",
              "\n",
              "                        })                };                            </script>        </div>\n",
              "</body>\n",
              "</html>"
            ]
          },
          "metadata": {}
        }
      ]
    },
    {
      "cell_type": "markdown",
      "metadata": {
        "id": "XzPK1TSwROnV"
      },
      "source": [
        "## Gráfico OHLC - (Open, High, Low, Close)"
      ]
    },
    {
      "cell_type": "markdown",
      "metadata": {
        "id": "u3_1g_bsRXNv"
      },
      "source": [
        "<a name=\"respuesta06\"></a>\n",
        "\n",
        "**Grafico OHLC para CRES**"
      ]
    },
    {
      "cell_type": "code",
      "metadata": {
        "colab": {
          "base_uri": "https://localhost:8080/",
          "height": 542
        },
        "id": "Jv371egrRdhd",
        "outputId": "cdf16426-25b6-43dc-ec18-3c88211a0297"
      },
      "source": [
        "fig = go.Figure(data=[go.Ohlc(x=CRES[\"Date\"],\n",
        "                open=CRES[\"Open\"],\n",
        "                high=CRES[\"High\"],\n",
        "                low=CRES[\"Low\"],\n",
        "                close=CRES[\"Close\"])])\n",
        "\n",
        "fig.update_layout(title=\"Cresud S.A.\")\n",
        "\n",
        "fig.show()\n"
      ],
      "execution_count": null,
      "outputs": [
        {
          "output_type": "display_data",
          "data": {
            "text/html": [
              "<html>\n",
              "<head><meta charset=\"utf-8\" /></head>\n",
              "<body>\n",
              "    <div>            <script src=\"https://cdnjs.cloudflare.com/ajax/libs/mathjax/2.7.5/MathJax.js?config=TeX-AMS-MML_SVG\"></script><script type=\"text/javascript\">if (window.MathJax) {MathJax.Hub.Config({SVG: {font: \"STIX-Web\"}});}</script>                <script type=\"text/javascript\">window.PlotlyConfig = {MathJaxConfig: 'local'};</script>\n",
              "        <script src=\"https://cdn.plot.ly/plotly-2.8.3.min.js\"></script>                <div id=\"2ba01c4b-798c-48bd-ad9c-f50f471c56e4\" class=\"plotly-graph-div\" style=\"height:525px; width:100%;\"></div>            <script type=\"text/javascript\">                                    window.PLOTLYENV=window.PLOTLYENV || {};                                    if (document.getElementById(\"2ba01c4b-798c-48bd-ad9c-f50f471c56e4\")) {                    Plotly.newPlot(                        \"2ba01c4b-798c-48bd-ad9c-f50f471c56e4\",                        [{\"close\":[5.59,5.49,5.52,5.46,5.3,5.31,5.09,5.07,5.08,5.09,5.08,5.04,4.79,4.89,4.94,4.85,4.83,5.0,4.97,4.93,4.98,4.84,4.89,4.75,4.69,4.64,4.6,4.62,4.87,4.74,4.72,4.77,4.6,4.7,4.715,4.75,4.81,4.64,4.62,4.71,4.67,4.65,4.76,5.0,5.17,5.0,5.05,4.92,4.74,4.57,4.71,4.56,4.44,4.49,4.49,4.59,4.52,4.48,4.55,4.89,4.93,5.01,5.05,5.13,5.1,5.16,5.25,5.19,5.27,5.15,5.26,5.25,5.32,5.3,5.49,5.52,5.57,5.6,5.64,5.79,5.85,5.66,5.67,5.58,5.44,5.04,5.21,5.18,5.04,5.0,5.01,5.15,5.16,4.93,4.85,4.86,4.9,5.07,4.91,5.05,4.97,4.93,4.86,5.19,5.47,5.46,5.46,5.59,5.33,5.53,5.65,5.85,5.61,5.7,5.72,5.82,5.92,5.67,5.49,5.49,5.61,5.41,5.32,5.13,5.45,5.64,5.76,5.89,6.05,5.88,6.02,6.0,6.14,6.23,6.2,6.19,6.35,6.29,6.45,6.33,6.18,6.4,6.35,6.5,6.41,6.07,5.86,6.31,6.48,6.6,6.72,6.56,6.79,6.5,6.35,6.38,6.53,6.2,5.98,5.91,5.82,6.08,6.27,6.26,6.2,6.22,6.26,6.41,6.89,6.94,7.14,7.06,7.17,7.24,7.0,7.29,6.79,6.95,6.64,6.41,6.29,6.24,6.39,6.13,6.48,6.6,6.9,6.68,7.03,7.4,6.7,6.25,6.28,6.55,6.69],\"high\":[5.64,5.7,5.75,5.57,5.32,5.33,5.14,5.14,5.14,5.15,5.13,5.07,4.96,5.03,5.02,4.89,4.98,5.13,4.99,4.97,5.06,5.06,4.9,4.78,4.7,4.73,4.82,4.9,4.9,4.87,4.8299,4.87,4.78,4.84,4.83,4.9,4.82,4.8,4.7,4.8,4.725,4.775,4.9829,5.03,5.17,5.08,5.12,4.9241,4.809,4.74,4.83,4.695,4.5,4.65,4.64,4.59,4.57,4.61,4.94,5.08,5.1,5.11,5.229,5.1406,5.24,5.28,5.285,5.38,5.31,5.2798,5.3,5.3,5.42,5.47,5.6,5.62,5.68,5.75,5.8,5.9098,5.9,5.7529,5.69,5.6299,5.45,5.29,5.28,5.3488,5.1099,5.075,5.0794,5.28,5.17,5.03,4.9543,4.97,5.18,5.07,5.07,5.1175,5.08,5.088,5.07,5.68,5.72,5.7856,5.68,5.8,5.62,5.7299,5.88,5.93,5.78,5.87,5.918,6.05,5.95,5.6927,5.59,5.65,5.67,5.4399,5.485,5.42,5.71,5.75,5.89,6.09,6.18,6.02,6.12,6.2,6.31,6.3299,6.211,6.49,6.44,6.505,6.49,6.4196,6.4,6.55,6.57,6.61,6.42,6.13,6.14,6.48,6.62,6.84,6.75,6.7404,6.85,6.53,6.44,6.6,6.6,6.26,6.01,5.95,6.142,6.38,6.42,6.35,6.29,6.35,6.38,6.84,7.035,7.225,7.2,7.2,7.45,7.35,7.3,7.29,7.09,7.04,6.69,6.57,6.48,6.42,6.49,6.59,6.79,7.0,6.97,7.295,7.55,7.5,6.78,6.42,6.52,6.85,6.81],\"low\":[5.24,5.39,5.2224,5.22,5.07,5.02,4.88,4.948,4.995,5.0,4.98,4.81,4.57,4.75,4.67,4.56,4.72,4.89,4.86,4.8,4.77,4.8064,4.752,4.66,4.57,4.57,4.56,4.62,4.76,4.7,4.72,4.61,4.6,4.64,4.68,4.75,4.65,4.57,4.555,4.5902,4.63,4.57,4.71,4.8,4.96,4.88,4.89,4.82,4.53,4.5014,4.53,4.45,4.27,4.46,4.282,4.46,4.46,4.35,4.47,4.7,4.85,4.96,5.0,4.99,5.05,5.06,5.2,5.19,5.1485,5.1,5.2002,5.25,5.275,5.24,5.44,5.51,5.55,5.57,5.57,5.75,5.65,5.61,5.56,5.44,5.1,5.01,5.16,4.99,4.96,4.88,4.91,5.08,4.96,4.91,4.78,4.78,4.9,4.85,4.85,4.95,4.94,4.82,4.77,5.17,5.3501,5.38,5.41,5.4749,5.26,5.53,5.53,5.53,5.58,5.7,5.6917,5.71,5.55,5.49,5.391,5.46,5.42,5.33,5.17,5.1262,5.4,5.39,5.75,5.85,5.7,5.84,5.91,5.92,6.03,6.22,6.11,6.1,6.3,6.21,6.35,6.1,6.1,6.29,6.3446,6.38,6.11,5.86,5.64,6.31,6.39,6.46,6.43,6.512,6.5,6.15,6.08,6.24,6.08,6.05,5.7,5.65,5.8,6.0,6.24,6.14,6.03,6.15,6.21,6.34,6.79,6.78,7.05,6.93,7.06,7.02,6.91,6.825,6.63,6.62,6.4,6.27,6.25,6.15,6.1,6.03,6.32,6.51,6.68,6.59,7.0,6.78,6.2901,6.1,6.25,6.48,6.4],\"open\":[5.45,5.7,5.23,5.32,5.3,5.13,4.88,5.08,5.03,5.08,5.06,4.84,4.89,4.905,4.945,4.73,4.98,5.0,4.98,4.84,4.84,4.9,4.8,4.7,4.64,4.57,4.81,4.9,4.79,4.7,4.78,4.61,4.73,4.7,4.73,4.83,4.69,4.74,4.62,4.66,4.66,4.73,4.95,4.95,5.05,5.02,4.91,4.89,4.61,4.64,4.83,4.52,4.49,4.58,4.5,4.53,4.5,4.61,4.81,4.93,5.1,5.11,5.17,5.12,5.24,5.28,5.2,5.3,5.18,5.26,5.28,5.3,5.29,5.47,5.55,5.59,5.59,5.61,5.8,5.83,5.7,5.74,5.6,5.53,5.15,5.29,5.23,4.99,4.96,4.96,5.04,5.09,4.98,4.92,4.85,4.97,4.97,4.91,5.0,5.0,4.96,4.9,5.07,5.68,5.72,5.75,5.65,5.8,5.61,5.63,5.84,5.61,5.72,5.76,5.83,5.94,5.7,5.49,5.54,5.62,5.46,5.38,5.25,5.32,5.61,5.75,5.85,6.02,5.86,6.02,6.0,6.14,6.31,6.27,6.21,6.37,6.35,6.49,6.45,6.28,6.38,6.29,6.57,6.5,6.11,5.97,6.14,6.48,6.51,6.79,6.5,6.71,6.56,6.24,6.36,6.6,6.19,6.05,5.9,5.8,6.11,6.28,6.29,6.22,6.28,6.34,6.36,6.82,6.93,7.17,7.1,7.19,7.24,7.02,7.3,6.84,7.05,6.68,6.48,6.35,6.27,6.42,6.19,6.54,6.67,6.99,6.68,7.295,7.43,6.82,6.3,6.33,6.455,6.68,6.4],\"x\":[\"2022-02-14T00:00:00\",\"2022-02-11T00:00:00\",\"2022-02-10T00:00:00\",\"2022-02-09T00:00:00\",\"2022-02-08T00:00:00\",\"2022-02-07T00:00:00\",\"2022-02-04T00:00:00\",\"2022-02-03T00:00:00\",\"2022-02-02T00:00:00\",\"2022-02-01T00:00:00\",\"2022-01-31T00:00:00\",\"2022-01-28T00:00:00\",\"2022-01-27T00:00:00\",\"2022-01-26T00:00:00\",\"2022-01-25T00:00:00\",\"2022-01-24T00:00:00\",\"2022-01-21T00:00:00\",\"2022-01-20T00:00:00\",\"2022-01-19T00:00:00\",\"2022-01-18T00:00:00\",\"2022-01-14T00:00:00\",\"2022-01-13T00:00:00\",\"2022-01-12T00:00:00\",\"2022-01-11T00:00:00\",\"2022-01-10T00:00:00\",\"2022-01-07T00:00:00\",\"2022-01-06T00:00:00\",\"2022-01-05T00:00:00\",\"2022-01-04T00:00:00\",\"2022-01-03T00:00:00\",\"2021-12-31T00:00:00\",\"2021-12-30T00:00:00\",\"2021-12-29T00:00:00\",\"2021-12-28T00:00:00\",\"2021-12-27T00:00:00\",\"2021-12-23T00:00:00\",\"2021-12-22T00:00:00\",\"2021-12-21T00:00:00\",\"2021-12-20T00:00:00\",\"2021-12-17T00:00:00\",\"2021-12-16T00:00:00\",\"2021-12-15T00:00:00\",\"2021-12-14T00:00:00\",\"2021-12-13T00:00:00\",\"2021-12-10T00:00:00\",\"2021-12-09T00:00:00\",\"2021-12-08T00:00:00\",\"2021-12-07T00:00:00\",\"2021-12-06T00:00:00\",\"2021-12-03T00:00:00\",\"2021-12-02T00:00:00\",\"2021-12-01T00:00:00\",\"2021-11-30T00:00:00\",\"2021-11-29T00:00:00\",\"2021-11-26T00:00:00\",\"2021-11-24T00:00:00\",\"2021-11-23T00:00:00\",\"2021-11-22T00:00:00\",\"2021-11-19T00:00:00\",\"2021-11-18T00:00:00\",\"2021-11-17T00:00:00\",\"2021-11-16T00:00:00\",\"2021-11-15T00:00:00\",\"2021-11-12T00:00:00\",\"2021-11-11T00:00:00\",\"2021-11-10T00:00:00\",\"2021-11-09T00:00:00\",\"2021-11-08T00:00:00\",\"2021-11-05T00:00:00\",\"2021-11-04T00:00:00\",\"2021-11-03T00:00:00\",\"2021-11-02T00:00:00\",\"2021-11-01T00:00:00\",\"2021-10-29T00:00:00\",\"2021-10-28T00:00:00\",\"2021-10-27T00:00:00\",\"2021-10-26T00:00:00\",\"2021-10-25T00:00:00\",\"2021-10-22T00:00:00\",\"2021-10-21T00:00:00\",\"2021-10-20T00:00:00\",\"2021-10-19T00:00:00\",\"2021-10-18T00:00:00\",\"2021-10-15T00:00:00\",\"2021-10-14T00:00:00\",\"2021-10-13T00:00:00\",\"2021-10-12T00:00:00\",\"2021-10-11T00:00:00\",\"2021-10-08T00:00:00\",\"2021-10-07T00:00:00\",\"2021-10-06T00:00:00\",\"2021-10-05T00:00:00\",\"2021-10-04T00:00:00\",\"2021-10-01T00:00:00\",\"2021-09-30T00:00:00\",\"2021-09-29T00:00:00\",\"2021-09-28T00:00:00\",\"2021-09-27T00:00:00\",\"2021-09-24T00:00:00\",\"2021-09-23T00:00:00\",\"2021-09-22T00:00:00\",\"2021-09-21T00:00:00\",\"2021-09-20T00:00:00\",\"2021-09-17T00:00:00\",\"2021-09-16T00:00:00\",\"2021-09-15T00:00:00\",\"2021-09-14T00:00:00\",\"2021-09-13T00:00:00\",\"2021-09-10T00:00:00\",\"2021-09-09T00:00:00\",\"2021-09-08T00:00:00\",\"2021-09-07T00:00:00\",\"2021-09-03T00:00:00\",\"2021-09-02T00:00:00\",\"2021-09-01T00:00:00\",\"2021-08-31T00:00:00\",\"2021-08-30T00:00:00\",\"2021-08-27T00:00:00\",\"2021-08-26T00:00:00\",\"2021-08-25T00:00:00\",\"2021-08-24T00:00:00\",\"2021-08-23T00:00:00\",\"2021-08-20T00:00:00\",\"2021-08-19T00:00:00\",\"2021-08-18T00:00:00\",\"2021-08-17T00:00:00\",\"2021-08-16T00:00:00\",\"2021-08-13T00:00:00\",\"2021-08-12T00:00:00\",\"2021-08-11T00:00:00\",\"2021-08-10T00:00:00\",\"2021-08-09T00:00:00\",\"2021-08-06T00:00:00\",\"2021-08-05T00:00:00\",\"2021-08-04T00:00:00\",\"2021-08-03T00:00:00\",\"2021-08-02T00:00:00\",\"2021-07-30T00:00:00\",\"2021-07-29T00:00:00\",\"2021-07-28T00:00:00\",\"2021-07-27T00:00:00\",\"2021-07-26T00:00:00\",\"2021-07-23T00:00:00\",\"2021-07-22T00:00:00\",\"2021-07-21T00:00:00\",\"2021-07-20T00:00:00\",\"2021-07-19T00:00:00\",\"2021-07-16T00:00:00\",\"2021-07-15T00:00:00\",\"2021-07-14T00:00:00\",\"2021-07-13T00:00:00\",\"2021-07-12T00:00:00\",\"2021-07-09T00:00:00\",\"2021-07-08T00:00:00\",\"2021-07-07T00:00:00\",\"2021-07-06T00:00:00\",\"2021-07-02T00:00:00\",\"2021-07-01T00:00:00\",\"2021-06-30T00:00:00\",\"2021-06-29T00:00:00\",\"2021-06-28T00:00:00\",\"2021-06-25T00:00:00\",\"2021-06-24T00:00:00\",\"2021-06-23T00:00:00\",\"2021-06-22T00:00:00\",\"2021-06-21T00:00:00\",\"2021-06-18T00:00:00\",\"2021-06-17T00:00:00\",\"2021-06-16T00:00:00\",\"2021-06-15T00:00:00\",\"2021-06-14T00:00:00\",\"2021-06-11T00:00:00\",\"2021-06-10T00:00:00\",\"2021-06-09T00:00:00\",\"2021-06-08T00:00:00\",\"2021-06-07T00:00:00\",\"2021-06-04T00:00:00\",\"2021-06-03T00:00:00\",\"2021-06-02T00:00:00\",\"2021-06-01T00:00:00\",\"2021-05-28T00:00:00\",\"2021-05-27T00:00:00\",\"2021-05-26T00:00:00\",\"2021-05-25T00:00:00\",\"2021-05-24T00:00:00\",\"2021-05-21T00:00:00\",\"2021-05-20T00:00:00\",\"2021-05-19T00:00:00\",\"2021-05-18T00:00:00\",\"2021-05-17T00:00:00\",\"2021-05-14T00:00:00\",\"2021-05-13T00:00:00\",\"2021-05-12T00:00:00\",\"2021-05-11T00:00:00\",\"2021-05-10T00:00:00\"],\"type\":\"ohlc\"}],                        {\"template\":{\"data\":{\"bar\":[{\"error_x\":{\"color\":\"#2a3f5f\"},\"error_y\":{\"color\":\"#2a3f5f\"},\"marker\":{\"line\":{\"color\":\"#E5ECF6\",\"width\":0.5},\"pattern\":{\"fillmode\":\"overlay\",\"size\":10,\"solidity\":0.2}},\"type\":\"bar\"}],\"barpolar\":[{\"marker\":{\"line\":{\"color\":\"#E5ECF6\",\"width\":0.5},\"pattern\":{\"fillmode\":\"overlay\",\"size\":10,\"solidity\":0.2}},\"type\":\"barpolar\"}],\"carpet\":[{\"aaxis\":{\"endlinecolor\":\"#2a3f5f\",\"gridcolor\":\"white\",\"linecolor\":\"white\",\"minorgridcolor\":\"white\",\"startlinecolor\":\"#2a3f5f\"},\"baxis\":{\"endlinecolor\":\"#2a3f5f\",\"gridcolor\":\"white\",\"linecolor\":\"white\",\"minorgridcolor\":\"white\",\"startlinecolor\":\"#2a3f5f\"},\"type\":\"carpet\"}],\"choropleth\":[{\"colorbar\":{\"outlinewidth\":0,\"ticks\":\"\"},\"type\":\"choropleth\"}],\"contour\":[{\"colorbar\":{\"outlinewidth\":0,\"ticks\":\"\"},\"colorscale\":[[0.0,\"#0d0887\"],[0.1111111111111111,\"#46039f\"],[0.2222222222222222,\"#7201a8\"],[0.3333333333333333,\"#9c179e\"],[0.4444444444444444,\"#bd3786\"],[0.5555555555555556,\"#d8576b\"],[0.6666666666666666,\"#ed7953\"],[0.7777777777777778,\"#fb9f3a\"],[0.8888888888888888,\"#fdca26\"],[1.0,\"#f0f921\"]],\"type\":\"contour\"}],\"contourcarpet\":[{\"colorbar\":{\"outlinewidth\":0,\"ticks\":\"\"},\"type\":\"contourcarpet\"}],\"heatmap\":[{\"colorbar\":{\"outlinewidth\":0,\"ticks\":\"\"},\"colorscale\":[[0.0,\"#0d0887\"],[0.1111111111111111,\"#46039f\"],[0.2222222222222222,\"#7201a8\"],[0.3333333333333333,\"#9c179e\"],[0.4444444444444444,\"#bd3786\"],[0.5555555555555556,\"#d8576b\"],[0.6666666666666666,\"#ed7953\"],[0.7777777777777778,\"#fb9f3a\"],[0.8888888888888888,\"#fdca26\"],[1.0,\"#f0f921\"]],\"type\":\"heatmap\"}],\"heatmapgl\":[{\"colorbar\":{\"outlinewidth\":0,\"ticks\":\"\"},\"colorscale\":[[0.0,\"#0d0887\"],[0.1111111111111111,\"#46039f\"],[0.2222222222222222,\"#7201a8\"],[0.3333333333333333,\"#9c179e\"],[0.4444444444444444,\"#bd3786\"],[0.5555555555555556,\"#d8576b\"],[0.6666666666666666,\"#ed7953\"],[0.7777777777777778,\"#fb9f3a\"],[0.8888888888888888,\"#fdca26\"],[1.0,\"#f0f921\"]],\"type\":\"heatmapgl\"}],\"histogram\":[{\"marker\":{\"pattern\":{\"fillmode\":\"overlay\",\"size\":10,\"solidity\":0.2}},\"type\":\"histogram\"}],\"histogram2d\":[{\"colorbar\":{\"outlinewidth\":0,\"ticks\":\"\"},\"colorscale\":[[0.0,\"#0d0887\"],[0.1111111111111111,\"#46039f\"],[0.2222222222222222,\"#7201a8\"],[0.3333333333333333,\"#9c179e\"],[0.4444444444444444,\"#bd3786\"],[0.5555555555555556,\"#d8576b\"],[0.6666666666666666,\"#ed7953\"],[0.7777777777777778,\"#fb9f3a\"],[0.8888888888888888,\"#fdca26\"],[1.0,\"#f0f921\"]],\"type\":\"histogram2d\"}],\"histogram2dcontour\":[{\"colorbar\":{\"outlinewidth\":0,\"ticks\":\"\"},\"colorscale\":[[0.0,\"#0d0887\"],[0.1111111111111111,\"#46039f\"],[0.2222222222222222,\"#7201a8\"],[0.3333333333333333,\"#9c179e\"],[0.4444444444444444,\"#bd3786\"],[0.5555555555555556,\"#d8576b\"],[0.6666666666666666,\"#ed7953\"],[0.7777777777777778,\"#fb9f3a\"],[0.8888888888888888,\"#fdca26\"],[1.0,\"#f0f921\"]],\"type\":\"histogram2dcontour\"}],\"mesh3d\":[{\"colorbar\":{\"outlinewidth\":0,\"ticks\":\"\"},\"type\":\"mesh3d\"}],\"parcoords\":[{\"line\":{\"colorbar\":{\"outlinewidth\":0,\"ticks\":\"\"}},\"type\":\"parcoords\"}],\"pie\":[{\"automargin\":true,\"type\":\"pie\"}],\"scatter\":[{\"marker\":{\"colorbar\":{\"outlinewidth\":0,\"ticks\":\"\"}},\"type\":\"scatter\"}],\"scatter3d\":[{\"line\":{\"colorbar\":{\"outlinewidth\":0,\"ticks\":\"\"}},\"marker\":{\"colorbar\":{\"outlinewidth\":0,\"ticks\":\"\"}},\"type\":\"scatter3d\"}],\"scattercarpet\":[{\"marker\":{\"colorbar\":{\"outlinewidth\":0,\"ticks\":\"\"}},\"type\":\"scattercarpet\"}],\"scattergeo\":[{\"marker\":{\"colorbar\":{\"outlinewidth\":0,\"ticks\":\"\"}},\"type\":\"scattergeo\"}],\"scattergl\":[{\"marker\":{\"colorbar\":{\"outlinewidth\":0,\"ticks\":\"\"}},\"type\":\"scattergl\"}],\"scattermapbox\":[{\"marker\":{\"colorbar\":{\"outlinewidth\":0,\"ticks\":\"\"}},\"type\":\"scattermapbox\"}],\"scatterpolar\":[{\"marker\":{\"colorbar\":{\"outlinewidth\":0,\"ticks\":\"\"}},\"type\":\"scatterpolar\"}],\"scatterpolargl\":[{\"marker\":{\"colorbar\":{\"outlinewidth\":0,\"ticks\":\"\"}},\"type\":\"scatterpolargl\"}],\"scatterternary\":[{\"marker\":{\"colorbar\":{\"outlinewidth\":0,\"ticks\":\"\"}},\"type\":\"scatterternary\"}],\"surface\":[{\"colorbar\":{\"outlinewidth\":0,\"ticks\":\"\"},\"colorscale\":[[0.0,\"#0d0887\"],[0.1111111111111111,\"#46039f\"],[0.2222222222222222,\"#7201a8\"],[0.3333333333333333,\"#9c179e\"],[0.4444444444444444,\"#bd3786\"],[0.5555555555555556,\"#d8576b\"],[0.6666666666666666,\"#ed7953\"],[0.7777777777777778,\"#fb9f3a\"],[0.8888888888888888,\"#fdca26\"],[1.0,\"#f0f921\"]],\"type\":\"surface\"}],\"table\":[{\"cells\":{\"fill\":{\"color\":\"#EBF0F8\"},\"line\":{\"color\":\"white\"}},\"header\":{\"fill\":{\"color\":\"#C8D4E3\"},\"line\":{\"color\":\"white\"}},\"type\":\"table\"}]},\"layout\":{\"annotationdefaults\":{\"arrowcolor\":\"#2a3f5f\",\"arrowhead\":0,\"arrowwidth\":1},\"autotypenumbers\":\"strict\",\"coloraxis\":{\"colorbar\":{\"outlinewidth\":0,\"ticks\":\"\"}},\"colorscale\":{\"diverging\":[[0,\"#8e0152\"],[0.1,\"#c51b7d\"],[0.2,\"#de77ae\"],[0.3,\"#f1b6da\"],[0.4,\"#fde0ef\"],[0.5,\"#f7f7f7\"],[0.6,\"#e6f5d0\"],[0.7,\"#b8e186\"],[0.8,\"#7fbc41\"],[0.9,\"#4d9221\"],[1,\"#276419\"]],\"sequential\":[[0.0,\"#0d0887\"],[0.1111111111111111,\"#46039f\"],[0.2222222222222222,\"#7201a8\"],[0.3333333333333333,\"#9c179e\"],[0.4444444444444444,\"#bd3786\"],[0.5555555555555556,\"#d8576b\"],[0.6666666666666666,\"#ed7953\"],[0.7777777777777778,\"#fb9f3a\"],[0.8888888888888888,\"#fdca26\"],[1.0,\"#f0f921\"]],\"sequentialminus\":[[0.0,\"#0d0887\"],[0.1111111111111111,\"#46039f\"],[0.2222222222222222,\"#7201a8\"],[0.3333333333333333,\"#9c179e\"],[0.4444444444444444,\"#bd3786\"],[0.5555555555555556,\"#d8576b\"],[0.6666666666666666,\"#ed7953\"],[0.7777777777777778,\"#fb9f3a\"],[0.8888888888888888,\"#fdca26\"],[1.0,\"#f0f921\"]]},\"colorway\":[\"#636efa\",\"#EF553B\",\"#00cc96\",\"#ab63fa\",\"#FFA15A\",\"#19d3f3\",\"#FF6692\",\"#B6E880\",\"#FF97FF\",\"#FECB52\"],\"font\":{\"color\":\"#2a3f5f\"},\"geo\":{\"bgcolor\":\"white\",\"lakecolor\":\"white\",\"landcolor\":\"#E5ECF6\",\"showlakes\":true,\"showland\":true,\"subunitcolor\":\"white\"},\"hoverlabel\":{\"align\":\"left\"},\"hovermode\":\"closest\",\"mapbox\":{\"style\":\"light\"},\"paper_bgcolor\":\"white\",\"plot_bgcolor\":\"#E5ECF6\",\"polar\":{\"angularaxis\":{\"gridcolor\":\"white\",\"linecolor\":\"white\",\"ticks\":\"\"},\"bgcolor\":\"#E5ECF6\",\"radialaxis\":{\"gridcolor\":\"white\",\"linecolor\":\"white\",\"ticks\":\"\"}},\"scene\":{\"xaxis\":{\"backgroundcolor\":\"#E5ECF6\",\"gridcolor\":\"white\",\"gridwidth\":2,\"linecolor\":\"white\",\"showbackground\":true,\"ticks\":\"\",\"zerolinecolor\":\"white\"},\"yaxis\":{\"backgroundcolor\":\"#E5ECF6\",\"gridcolor\":\"white\",\"gridwidth\":2,\"linecolor\":\"white\",\"showbackground\":true,\"ticks\":\"\",\"zerolinecolor\":\"white\"},\"zaxis\":{\"backgroundcolor\":\"#E5ECF6\",\"gridcolor\":\"white\",\"gridwidth\":2,\"linecolor\":\"white\",\"showbackground\":true,\"ticks\":\"\",\"zerolinecolor\":\"white\"}},\"shapedefaults\":{\"line\":{\"color\":\"#2a3f5f\"}},\"ternary\":{\"aaxis\":{\"gridcolor\":\"white\",\"linecolor\":\"white\",\"ticks\":\"\"},\"baxis\":{\"gridcolor\":\"white\",\"linecolor\":\"white\",\"ticks\":\"\"},\"bgcolor\":\"#E5ECF6\",\"caxis\":{\"gridcolor\":\"white\",\"linecolor\":\"white\",\"ticks\":\"\"}},\"title\":{\"x\":0.05},\"xaxis\":{\"automargin\":true,\"gridcolor\":\"white\",\"linecolor\":\"white\",\"ticks\":\"\",\"title\":{\"standoff\":15},\"zerolinecolor\":\"white\",\"zerolinewidth\":2},\"yaxis\":{\"automargin\":true,\"gridcolor\":\"white\",\"linecolor\":\"white\",\"ticks\":\"\",\"title\":{\"standoff\":15},\"zerolinecolor\":\"white\",\"zerolinewidth\":2}}},\"title\":{\"text\":\"Cresud S.A.\"}},                        {\"responsive\": true}                    ).then(function(){\n",
              "                            \n",
              "var gd = document.getElementById('2ba01c4b-798c-48bd-ad9c-f50f471c56e4');\n",
              "var x = new MutationObserver(function (mutations, observer) {{\n",
              "        var display = window.getComputedStyle(gd).display;\n",
              "        if (!display || display === 'none') {{\n",
              "            console.log([gd, 'removed!']);\n",
              "            Plotly.purge(gd);\n",
              "            observer.disconnect();\n",
              "        }}\n",
              "}});\n",
              "\n",
              "// Listen for the removal of the full notebook cells\n",
              "var notebookContainer = gd.closest('#notebook-container');\n",
              "if (notebookContainer) {{\n",
              "    x.observe(notebookContainer, {childList: true});\n",
              "}}\n",
              "\n",
              "// Listen for the clearing of the current output cell\n",
              "var outputEl = gd.closest('.output');\n",
              "if (outputEl) {{\n",
              "    x.observe(outputEl, {childList: true});\n",
              "}}\n",
              "\n",
              "                        })                };                            </script>        </div>\n",
              "</body>\n",
              "</html>"
            ]
          },
          "metadata": {}
        }
      ]
    }
  ]
}