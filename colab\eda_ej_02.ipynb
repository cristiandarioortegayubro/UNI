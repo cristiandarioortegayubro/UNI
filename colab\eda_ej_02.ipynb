{
  "nbformat": 4,
  "nbformat_minor": 0,
  "metadata": {
    "colab": {
      "provenance": [],
      "collapsed_sections": [],
      "include_colab_link": true
    },
    "kernelspec": {
      "name": "python3",
      "display_name": "Python 3"
    }
  },
  "cells": [
    {
      "cell_type": "markdown",
      "metadata": {
        "id": "view-in-github",
        "colab_type": "text"
      },
      "source": [
        "<a href=\"https://colab.research.google.com/github/cristiandarioortegayubro/UNI/blob/main/colab%5Ceda_ej_02.ipynb\" target=\"_parent\"><img src=\"https://colab.research.google.com/assets/colab-badge.svg\" alt=\"Open In Colab\"/></a>"
      ]
    },
    {
      "cell_type": "markdown",
      "metadata": {
        "id": "L9Pd6G6tVEjG"
      },
      "source": [
        "![](https://github.com/cristiandarioortegayubro/UNI/blob/main/UNI%2039%20Aniversario.jpg?raw=true)"
      ]
    },
    {
      "cell_type": "markdown",
      "metadata": {
        "id": "HwVRR5ZRVH8y"
      },
      "source": [
        "[UNI-DEPEC](https://posgrado.uni.edu.ni)"
      ]
    },
    {
      "cell_type": "markdown",
      "metadata": {
        "id": "IEyDsUOkWQKr"
      },
      "source": [
        "\n",
        "# **Ejercicio Nº 02 - Aprendizaje Automático - División del Conjunto de Datos**"
      ]
    },
    {
      "cell_type": "code",
      "metadata": {
        "id": "tBAGQomGZZo-"
      },
      "source": [
        "import pandas as pd\n",
        "import numpy as np\n",
        "import sklearn\n",
        "from sklearn.model_selection import train_test_split"
      ],
      "execution_count": null,
      "outputs": []
    },
    {
      "cell_type": "code",
      "metadata": {
        "colab": {
          "base_uri": "https://localhost:8080/"
        },
        "id": "cnCpRkNPx8o8",
        "outputId": "9079d85c-8153-42c1-f0a7-9c5540b82347"
      },
      "source": [
        "url = \"https://raw.githubusercontent.com/cristiandarioortegayubro/UNI/main/\"\n",
        "archivo = \"clientes01.csv\"\n",
        "df = pd.read_csv(url+archivo)\n",
        "df.info()"
      ],
      "execution_count": null,
      "outputs": [
        {
          "output_type": "stream",
          "name": "stdout",
          "text": [
            "<class 'pandas.core.frame.DataFrame'>\n",
            "RangeIndex: 400 entries, 0 to 399\n",
            "Data columns (total 5 columns):\n",
            " #   Column   Non-Null Count  Dtype\n",
            "---  ------   --------------  -----\n",
            " 0   ID       400 non-null    int64\n",
            " 1   Trabajo  400 non-null    int64\n",
            " 2   Edad     400 non-null    int64\n",
            " 3   Salario  400 non-null    int64\n",
            " 4   Compra   400 non-null    int64\n",
            "dtypes: int64(5)\n",
            "memory usage: 15.8 KB\n"
          ]
        }
      ]
    },
    {
      "cell_type": "markdown",
      "metadata": {
        "id": "aFDMU-W_5qMZ"
      },
      "source": [
        "## Punto 01 - División del Conjunto de Datos - Objeto X, Objeto y\n",
        "\n",
        "<a href=\"#respuesta01\">Respuesta sugerida</a>\n"
      ]
    },
    {
      "cell_type": "markdown",
      "metadata": {
        "id": "dpCCigUT-vhQ"
      },
      "source": [
        "***Ejercicio 01:*** Con el siguiente DataFrame, genere el objeto y (columna Compra) y genere el vector de entrada X"
      ]
    },
    {
      "cell_type": "code",
      "metadata": {
        "id": "fYWqaqDWARsE"
      },
      "source": [
        "# Resolver a partir de esta celda"
      ],
      "execution_count": null,
      "outputs": []
    },
    {
      "cell_type": "markdown",
      "metadata": {
        "id": "wIpk03Jo7v9o"
      },
      "source": [
        "## Punto 02 - División del Conjunto de Datos - Entrenamiento 80% y Prueba 20%\n",
        "\n",
        "<a href=\"#respuesta02\">Respuesta sugerida</a>"
      ]
    },
    {
      "cell_type": "markdown",
      "metadata": {
        "id": "oWt29Q6iE_Th"
      },
      "source": [
        "***Ejercicio 02:*** Con el siguiente DataFrame, dividir el conjunto de datos en entrenamiento 80% y prueba 20%"
      ]
    },
    {
      "cell_type": "code",
      "metadata": {
        "id": "udFpM52SFI6G"
      },
      "source": [
        "# Resolver a partir de esta celda"
      ],
      "execution_count": null,
      "outputs": []
    },
    {
      "cell_type": "markdown",
      "metadata": {
        "id": "Rg3jGFue_7My"
      },
      "source": [
        "## Punto 03 - División del Conjunto de Datos - Verificando tamaño de los conjuntos\n",
        "<a href=\"#respuesta03\">Respuesta sugerida</a>"
      ]
    },
    {
      "cell_type": "markdown",
      "metadata": {
        "id": "eKrjnWzUJKti"
      },
      "source": [
        "***Ejercicio 03:*** En virtud de la división del conjunto de datos, verifique que se respeta la proporcion 80% - 20%\n"
      ]
    },
    {
      "cell_type": "code",
      "metadata": {
        "id": "IqNCAhZeJQxM"
      },
      "source": [
        "# Resolver a partir de esta celda"
      ],
      "execution_count": null,
      "outputs": []
    },
    {
      "cell_type": "markdown",
      "metadata": {
        "id": "8BsD4XnAGUkQ"
      },
      "source": [
        "## Punto 04 - División del Conjunto de Datos - Entrenamiento 75% y Prueba 25%\n",
        "\n",
        "<a href=\"#respuesta04\">Respuesta sugerida</a>"
      ]
    },
    {
      "cell_type": "markdown",
      "metadata": {
        "id": "j4pQNklTMD1Z"
      },
      "source": [
        "***Ejercicio 04:*** Con el siguiente DataFrame, dividir el conjunto de datos en entrenamiento 75% y prueba 25%"
      ]
    },
    {
      "cell_type": "code",
      "metadata": {
        "id": "PRWCfIq4MS-O"
      },
      "source": [
        "# Resolver a partir de esta celda"
      ],
      "execution_count": null,
      "outputs": []
    },
    {
      "cell_type": "markdown",
      "metadata": {
        "id": "LXR4Cw1pf1rC"
      },
      "source": [
        "## Punto 05 - División del Conjunto de Datos - Verificando tamaño de los conjuntos\n",
        "\n",
        "<a href=\"#respuesta05\">Respuesta sugerida</a>"
      ]
    },
    {
      "cell_type": "markdown",
      "metadata": {
        "id": "sKP8zkj9gAAx"
      },
      "source": [
        "***Ejercicio 05:*** En virtud de la división del conjunto de datos, verifique que se respeta la proporcion 75% - 25%\n"
      ]
    },
    {
      "cell_type": "code",
      "metadata": {
        "id": "6nFrlZCiZNUb"
      },
      "source": [
        "# Resolver a partir de esta celda"
      ],
      "execution_count": null,
      "outputs": []
    },
    {
      "cell_type": "markdown",
      "metadata": {
        "id": "thcCSCIagWi6"
      },
      "source": [
        "<a name=\"respuesta01\"></a>\n",
        "\n",
        "## Respuesta sugerida al Punto 01 - División del Conjunto de Datos - Objeto X, Objeto y"
      ]
    },
    {
      "cell_type": "markdown",
      "metadata": {
        "id": "-Td9oBj8mH34"
      },
      "source": [
        "***Ejercicio 01:*** Con el siguiente DataFrame, genere el objeto y (columna Compra) y genere el vector de entrada X"
      ]
    },
    {
      "cell_type": "code",
      "metadata": {
        "id": "P402obQpi_ri"
      },
      "source": [
        "y = df[\"Compra\"] # variable objetivo\n",
        "X = df.drop(columns=[\"Compra\"]) # vector de entrada"
      ],
      "execution_count": null,
      "outputs": []
    },
    {
      "cell_type": "markdown",
      "metadata": {
        "id": "dUdiSOkFmsRT"
      },
      "source": [
        "<a name=\"respuesta02\"></a>\n",
        "\n",
        "## Respuesta sugerida al Punto 02 - División del Conjunto de Datos - Entrenamiento 80% y Prueba 20%"
      ]
    },
    {
      "cell_type": "markdown",
      "metadata": {
        "id": "497zMQmFm13a"
      },
      "source": [
        "***Ejercicio 02:*** Con el siguiente DataFrame, dividir el conjunto de datos en entrenamiento 80% y prueba 20%"
      ]
    },
    {
      "cell_type": "code",
      "metadata": {
        "id": "4Fft5C1um13b"
      },
      "source": [
        "X_train, X_test, y_train, y_test = train_test_split(X, y, test_size = 0.20, random_state = 0)"
      ],
      "execution_count": null,
      "outputs": []
    },
    {
      "cell_type": "markdown",
      "metadata": {
        "id": "LTq-eYXZnN5M"
      },
      "source": [
        "<a name=\"respuesta03\"></a>\n",
        "\n",
        "## Respuesta sugerida al Punto 03 - División del Conjunto de Datos - Verificando tamaño de los conjuntos"
      ]
    },
    {
      "cell_type": "markdown",
      "metadata": {
        "id": "Xl671YG4nX4G"
      },
      "source": [
        "***Ejercicio 03:*** En virtud de la división del conjunto de datos, verifique que se respeta la proporción 80% - 20%\n"
      ]
    },
    {
      "cell_type": "code",
      "metadata": {
        "colab": {
          "base_uri": "https://localhost:8080/"
        },
        "id": "1QNoVT0ed8oU",
        "outputId": "08f58143-a10b-4eba-9a20-218d3eceac17"
      },
      "source": [
        "X_train.shape"
      ],
      "execution_count": null,
      "outputs": [
        {
          "output_type": "execute_result",
          "data": {
            "text/plain": [
              "(320, 4)"
            ]
          },
          "metadata": {},
          "execution_count": 10
        }
      ]
    },
    {
      "cell_type": "code",
      "metadata": {
        "colab": {
          "base_uri": "https://localhost:8080/"
        },
        "id": "ordygfCk1XJJ",
        "outputId": "d8538739-e0b9-4423-94b7-6a60b3624993"
      },
      "source": [
        "X_test.shape"
      ],
      "execution_count": null,
      "outputs": [
        {
          "output_type": "execute_result",
          "data": {
            "text/plain": [
              "(80, 4)"
            ]
          },
          "metadata": {},
          "execution_count": 11
        }
      ]
    },
    {
      "cell_type": "code",
      "metadata": {
        "colab": {
          "base_uri": "https://localhost:8080/"
        },
        "id": "vyRX71de1jJF",
        "outputId": "bac35c87-88c4-47b1-ea47-da136249e5d5"
      },
      "source": [
        "y_train.shape"
      ],
      "execution_count": null,
      "outputs": [
        {
          "output_type": "execute_result",
          "data": {
            "text/plain": [
              "(320,)"
            ]
          },
          "metadata": {},
          "execution_count": 12
        }
      ]
    },
    {
      "cell_type": "code",
      "metadata": {
        "colab": {
          "base_uri": "https://localhost:8080/"
        },
        "id": "35FFQM8O1n-l",
        "outputId": "52729918-7579-4c8b-fec4-d5d30d477790"
      },
      "source": [
        "y_test.shape"
      ],
      "execution_count": null,
      "outputs": [
        {
          "output_type": "execute_result",
          "data": {
            "text/plain": [
              "(80,)"
            ]
          },
          "metadata": {},
          "execution_count": 13
        }
      ]
    },
    {
      "cell_type": "markdown",
      "metadata": {
        "id": "Mtvn80-Tnmz7"
      },
      "source": [
        "<a name=\"respuesta04\"></a>\n",
        "\n",
        "## Respuesta sugerida al Punto 04 - División del Conjunto de Datos - Entrenamiento 75% y Prueba 25%"
      ]
    },
    {
      "cell_type": "markdown",
      "metadata": {
        "id": "qSoDmkOXnwUr"
      },
      "source": [
        "***Ejercicio 04:*** Con el siguiente DataFrame, dividir el conjunto de datos en entrenamiento 75% y prueba 25%"
      ]
    },
    {
      "cell_type": "code",
      "metadata": {
        "id": "-83bAIgDgMRD"
      },
      "source": [
        "X_train, X_test, y_train, y_test = train_test_split(X, y, test_size = 0.25, random_state = 0)"
      ],
      "execution_count": null,
      "outputs": []
    },
    {
      "cell_type": "markdown",
      "metadata": {
        "id": "apnZtH-5n8YQ"
      },
      "source": [
        "<a name=\"respuesta05\"></a>\n",
        "\n",
        "## Respuesta sugerida al Punto 05 - División del Conjunto de Datos - Verificando tamaño de los conjuntos"
      ]
    },
    {
      "cell_type": "markdown",
      "metadata": {
        "id": "4ejChSjBoFnY"
      },
      "source": [
        "***Ejercicio 05:*** En virtud de la división del conjunto de datos, verifique que se respeta la proporcion 75% - 25%\n"
      ]
    },
    {
      "cell_type": "code",
      "metadata": {
        "colab": {
          "base_uri": "https://localhost:8080/"
        },
        "id": "WFUdaEBWoFnY",
        "outputId": "dfa94759-b4ff-49f6-87e2-309d17b22124"
      },
      "source": [
        "X_train.shape"
      ],
      "execution_count": null,
      "outputs": [
        {
          "output_type": "execute_result",
          "data": {
            "text/plain": [
              "(300, 4)"
            ]
          },
          "metadata": {},
          "execution_count": 15
        }
      ]
    },
    {
      "cell_type": "code",
      "metadata": {
        "colab": {
          "base_uri": "https://localhost:8080/"
        },
        "id": "Sqr6OcOtaGg-",
        "outputId": "1382f176-8a35-4996-d74a-5d3e6d1ead6d"
      },
      "source": [
        "X_test.shape"
      ],
      "execution_count": null,
      "outputs": [
        {
          "output_type": "execute_result",
          "data": {
            "text/plain": [
              "(100, 4)"
            ]
          },
          "metadata": {},
          "execution_count": 16
        }
      ]
    },
    {
      "cell_type": "code",
      "metadata": {
        "colab": {
          "base_uri": "https://localhost:8080/"
        },
        "id": "EXEB2jjU3RBY",
        "outputId": "4c265acc-27ad-4036-c702-99fa251d2d81"
      },
      "source": [
        "y_train.shape"
      ],
      "execution_count": null,
      "outputs": [
        {
          "output_type": "execute_result",
          "data": {
            "text/plain": [
              "(300,)"
            ]
          },
          "metadata": {},
          "execution_count": 17
        }
      ]
    },
    {
      "cell_type": "code",
      "metadata": {
        "colab": {
          "base_uri": "https://localhost:8080/"
        },
        "id": "zneJ0Kmm3T4y",
        "outputId": "e5292735-c7f8-4d2b-dfe8-815384532b18"
      },
      "source": [
        "y_test.shape"
      ],
      "execution_count": null,
      "outputs": [
        {
          "output_type": "execute_result",
          "data": {
            "text/plain": [
              "(100,)"
            ]
          },
          "metadata": {},
          "execution_count": 18
        }
      ]
    }
  ]
}